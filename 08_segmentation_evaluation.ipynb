{
  "nbformat": 4,
  "nbformat_minor": 0,
  "metadata": {
    "kernelspec": {
      "display_name": "Python 3",
      "language": "python",
      "name": "python3"
    },
    "language_info": {
      "codemirror_mode": {
        "name": "ipython",
        "version": 3
      },
      "file_extension": ".py",
      "mimetype": "text/x-python",
      "name": "python",
      "nbconvert_exporter": "python",
      "pygments_lexer": "ipython3",
      "version": "3.7.3"
    },
    "colab": {
      "name": "08_segmentation_evaluation.ipynb",
      "provenance": [],
      "collapsed_sections": [],
      "include_colab_link": true
    },
    "widgets": {
      "application/vnd.jupyter.widget-state+json": {
        "1101b1d24f7443339617fd9c6919b975": {
          "model_module": "@jupyter-widgets/controls",
          "model_name": "VBoxModel",
          "state": {
            "_view_name": "VBoxView",
            "_dom_classes": [
              "widget-interact"
            ],
            "_model_name": "VBoxModel",
            "_view_module": "@jupyter-widgets/controls",
            "_model_module_version": "1.5.0",
            "_view_count": null,
            "_view_module_version": "1.5.0",
            "box_style": "",
            "layout": "IPY_MODEL_15f93f653a484cc69c3666a112835cd7",
            "_model_module": "@jupyter-widgets/controls",
            "children": [
              "IPY_MODEL_74ec57a22f2f452883d39fa2422a19f2",
              "IPY_MODEL_fb4c9e5521fb4c3eb9d7792464fdbe7f"
            ]
          }
        },
        "15f93f653a484cc69c3666a112835cd7": {
          "model_module": "@jupyter-widgets/base",
          "model_name": "LayoutModel",
          "state": {
            "_view_name": "LayoutView",
            "grid_template_rows": null,
            "right": null,
            "justify_content": null,
            "_view_module": "@jupyter-widgets/base",
            "overflow": null,
            "_model_module_version": "1.2.0",
            "_view_count": null,
            "flex_flow": null,
            "width": null,
            "min_width": null,
            "border": null,
            "align_items": null,
            "bottom": null,
            "_model_module": "@jupyter-widgets/base",
            "top": null,
            "grid_column": null,
            "overflow_y": null,
            "overflow_x": null,
            "grid_auto_flow": null,
            "grid_area": null,
            "grid_template_columns": null,
            "flex": null,
            "_model_name": "LayoutModel",
            "justify_items": null,
            "grid_row": null,
            "max_height": null,
            "align_content": null,
            "visibility": null,
            "align_self": null,
            "height": null,
            "min_height": null,
            "padding": null,
            "grid_auto_rows": null,
            "grid_gap": null,
            "max_width": null,
            "order": null,
            "_view_module_version": "1.2.0",
            "grid_template_areas": null,
            "object_position": null,
            "object_fit": null,
            "grid_auto_columns": null,
            "margin": null,
            "display": null,
            "left": null
          }
        },
        "74ec57a22f2f452883d39fa2422a19f2": {
          "model_module": "@jupyter-widgets/controls",
          "model_name": "IntSliderModel",
          "state": {
            "_view_name": "IntSliderView",
            "style": "IPY_MODEL_89a97a62fb83448285d3b17b0d6db71c",
            "_dom_classes": [],
            "description": "x",
            "step": 1,
            "_model_name": "IntSliderModel",
            "orientation": "horizontal",
            "max": 30,
            "_view_module": "@jupyter-widgets/controls",
            "_model_module_version": "1.5.0",
            "value": 10,
            "_view_count": null,
            "disabled": false,
            "_view_module_version": "1.5.0",
            "min": -10,
            "continuous_update": true,
            "readout_format": "d",
            "description_tooltip": null,
            "readout": true,
            "_model_module": "@jupyter-widgets/controls",
            "layout": "IPY_MODEL_90c9f82bd8984015bf7d59c2bb692cee"
          }
        },
        "fb4c9e5521fb4c3eb9d7792464fdbe7f": {
          "model_module": "@jupyter-widgets/output",
          "model_name": "OutputModel",
          "state": {
            "_view_name": "OutputView",
            "msg_id": "",
            "_dom_classes": [],
            "_model_name": "OutputModel",
            "outputs": [
              {
                "output_type": "display_data",
                "metadata": {
                  "tags": []
                },
                "text/plain": "10"
              }
            ],
            "_view_module": "@jupyter-widgets/output",
            "_model_module_version": "1.0.0",
            "_view_count": null,
            "_view_module_version": "1.0.0",
            "layout": "IPY_MODEL_c3da4738036849d087e315db09aa8c7e",
            "_model_module": "@jupyter-widgets/output"
          }
        },
        "89a97a62fb83448285d3b17b0d6db71c": {
          "model_module": "@jupyter-widgets/controls",
          "model_name": "SliderStyleModel",
          "state": {
            "_view_name": "StyleView",
            "handle_color": null,
            "_model_name": "SliderStyleModel",
            "description_width": "",
            "_view_module": "@jupyter-widgets/base",
            "_model_module_version": "1.5.0",
            "_view_count": null,
            "_view_module_version": "1.2.0",
            "_model_module": "@jupyter-widgets/controls"
          }
        },
        "90c9f82bd8984015bf7d59c2bb692cee": {
          "model_module": "@jupyter-widgets/base",
          "model_name": "LayoutModel",
          "state": {
            "_view_name": "LayoutView",
            "grid_template_rows": null,
            "right": null,
            "justify_content": null,
            "_view_module": "@jupyter-widgets/base",
            "overflow": null,
            "_model_module_version": "1.2.0",
            "_view_count": null,
            "flex_flow": null,
            "width": null,
            "min_width": null,
            "border": null,
            "align_items": null,
            "bottom": null,
            "_model_module": "@jupyter-widgets/base",
            "top": null,
            "grid_column": null,
            "overflow_y": null,
            "overflow_x": null,
            "grid_auto_flow": null,
            "grid_area": null,
            "grid_template_columns": null,
            "flex": null,
            "_model_name": "LayoutModel",
            "justify_items": null,
            "grid_row": null,
            "max_height": null,
            "align_content": null,
            "visibility": null,
            "align_self": null,
            "height": null,
            "min_height": null,
            "padding": null,
            "grid_auto_rows": null,
            "grid_gap": null,
            "max_width": null,
            "order": null,
            "_view_module_version": "1.2.0",
            "grid_template_areas": null,
            "object_position": null,
            "object_fit": null,
            "grid_auto_columns": null,
            "margin": null,
            "display": null,
            "left": null
          }
        },
        "c3da4738036849d087e315db09aa8c7e": {
          "model_module": "@jupyter-widgets/base",
          "model_name": "LayoutModel",
          "state": {
            "_view_name": "LayoutView",
            "grid_template_rows": null,
            "right": null,
            "justify_content": null,
            "_view_module": "@jupyter-widgets/base",
            "overflow": null,
            "_model_module_version": "1.2.0",
            "_view_count": null,
            "flex_flow": null,
            "width": null,
            "min_width": null,
            "border": null,
            "align_items": null,
            "bottom": null,
            "_model_module": "@jupyter-widgets/base",
            "top": null,
            "grid_column": null,
            "overflow_y": null,
            "overflow_x": null,
            "grid_auto_flow": null,
            "grid_area": null,
            "grid_template_columns": null,
            "flex": null,
            "_model_name": "LayoutModel",
            "justify_items": null,
            "grid_row": null,
            "max_height": null,
            "align_content": null,
            "visibility": null,
            "align_self": null,
            "height": null,
            "min_height": null,
            "padding": null,
            "grid_auto_rows": null,
            "grid_gap": null,
            "max_width": null,
            "order": null,
            "_view_module_version": "1.2.0",
            "grid_template_areas": null,
            "object_position": null,
            "object_fit": null,
            "grid_auto_columns": null,
            "margin": null,
            "display": null,
            "left": null
          }
        },
        "d2d8a374fc8d4485b4d68efacf765478": {
          "model_module": "@jupyter-widgets/controls",
          "model_name": "VBoxModel",
          "state": {
            "_view_name": "VBoxView",
            "_dom_classes": [
              "widget-interact"
            ],
            "_model_name": "VBoxModel",
            "_view_module": "@jupyter-widgets/controls",
            "_model_module_version": "1.5.0",
            "_view_count": null,
            "_view_module_version": "1.5.0",
            "box_style": "",
            "layout": "IPY_MODEL_9510256c90794c6191189637ed0fc970",
            "_model_module": "@jupyter-widgets/controls",
            "children": [
              "IPY_MODEL_a404b36ca4cf4ce5a233de78a12b97fe",
              "IPY_MODEL_da55b6ef3cb94ca398f77ef1dd7d3ac3",
              "IPY_MODEL_faba8a9e7759406395c9d4579cc7e965"
            ]
          }
        },
        "9510256c90794c6191189637ed0fc970": {
          "model_module": "@jupyter-widgets/base",
          "model_name": "LayoutModel",
          "state": {
            "_view_name": "LayoutView",
            "grid_template_rows": null,
            "right": null,
            "justify_content": null,
            "_view_module": "@jupyter-widgets/base",
            "overflow": null,
            "_model_module_version": "1.2.0",
            "_view_count": null,
            "flex_flow": null,
            "width": null,
            "min_width": null,
            "border": null,
            "align_items": null,
            "bottom": null,
            "_model_module": "@jupyter-widgets/base",
            "top": null,
            "grid_column": null,
            "overflow_y": null,
            "overflow_x": null,
            "grid_auto_flow": null,
            "grid_area": null,
            "grid_template_columns": null,
            "flex": null,
            "_model_name": "LayoutModel",
            "justify_items": null,
            "grid_row": null,
            "max_height": null,
            "align_content": null,
            "visibility": null,
            "align_self": null,
            "height": null,
            "min_height": null,
            "padding": null,
            "grid_auto_rows": null,
            "grid_gap": null,
            "max_width": null,
            "order": null,
            "_view_module_version": "1.2.0",
            "grid_template_areas": null,
            "object_position": null,
            "object_fit": null,
            "grid_auto_columns": null,
            "margin": null,
            "display": null,
            "left": null
          }
        },
        "a404b36ca4cf4ce5a233de78a12b97fe": {
          "model_module": "@jupyter-widgets/controls",
          "model_name": "IntSliderModel",
          "state": {
            "_view_name": "IntSliderView",
            "style": "IPY_MODEL_2b7345c11cf740ec9ede9dcfa2f0fe45",
            "_dom_classes": [],
            "description": "segmentation_number",
            "step": 1,
            "_model_name": "IntSliderModel",
            "orientation": "horizontal",
            "max": 2,
            "_view_module": "@jupyter-widgets/controls",
            "_model_module_version": "1.5.0",
            "value": 1,
            "_view_count": null,
            "disabled": false,
            "_view_module_version": "1.5.0",
            "min": 0,
            "continuous_update": true,
            "readout_format": "d",
            "description_tooltip": null,
            "readout": true,
            "_model_module": "@jupyter-widgets/controls",
            "layout": "IPY_MODEL_2f42c3d45eb24fdd88fdc8938334f30d"
          }
        },
        "da55b6ef3cb94ca398f77ef1dd7d3ac3": {
          "model_module": "@jupyter-widgets/controls",
          "model_name": "IntSliderModel",
          "state": {
            "_view_name": "IntSliderView",
            "style": "IPY_MODEL_7c3cd161009b454f950602f348162251",
            "_dom_classes": [],
            "description": "slice_number",
            "step": 1,
            "_model_name": "IntSliderModel",
            "orientation": "horizontal",
            "max": 97,
            "_view_module": "@jupyter-widgets/controls",
            "_model_module_version": "1.5.0",
            "value": 48,
            "_view_count": null,
            "disabled": false,
            "_view_module_version": "1.5.0",
            "min": 0,
            "continuous_update": true,
            "readout_format": "d",
            "description_tooltip": null,
            "readout": true,
            "_model_module": "@jupyter-widgets/controls",
            "layout": "IPY_MODEL_b3be65dee8894cfba23f80a9e0e14f34"
          }
        },
        "faba8a9e7759406395c9d4579cc7e965": {
          "model_module": "@jupyter-widgets/output",
          "model_name": "OutputModel",
          "state": {
            "_view_name": "OutputView",
            "msg_id": "",
            "_dom_classes": [],
            "_model_name": "OutputModel",
            "outputs": [
              {
                "output_type": "display_data",
                "metadata": {
                  "tags": [],
                  "needs_background": "light"
                },
                "image/png": "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\n",
                "text/plain": "<Figure size 432x288 with 1 Axes>"
              }
            ],
            "_view_module": "@jupyter-widgets/output",
            "_model_module_version": "1.0.0",
            "_view_count": null,
            "_view_module_version": "1.0.0",
            "layout": "IPY_MODEL_fdeb1e974ba343aebec69a09d1fae013",
            "_model_module": "@jupyter-widgets/output"
          }
        },
        "2b7345c11cf740ec9ede9dcfa2f0fe45": {
          "model_module": "@jupyter-widgets/controls",
          "model_name": "SliderStyleModel",
          "state": {
            "_view_name": "StyleView",
            "handle_color": null,
            "_model_name": "SliderStyleModel",
            "description_width": "",
            "_view_module": "@jupyter-widgets/base",
            "_model_module_version": "1.5.0",
            "_view_count": null,
            "_view_module_version": "1.2.0",
            "_model_module": "@jupyter-widgets/controls"
          }
        },
        "2f42c3d45eb24fdd88fdc8938334f30d": {
          "model_module": "@jupyter-widgets/base",
          "model_name": "LayoutModel",
          "state": {
            "_view_name": "LayoutView",
            "grid_template_rows": null,
            "right": null,
            "justify_content": null,
            "_view_module": "@jupyter-widgets/base",
            "overflow": null,
            "_model_module_version": "1.2.0",
            "_view_count": null,
            "flex_flow": null,
            "width": null,
            "min_width": null,
            "border": null,
            "align_items": null,
            "bottom": null,
            "_model_module": "@jupyter-widgets/base",
            "top": null,
            "grid_column": null,
            "overflow_y": null,
            "overflow_x": null,
            "grid_auto_flow": null,
            "grid_area": null,
            "grid_template_columns": null,
            "flex": null,
            "_model_name": "LayoutModel",
            "justify_items": null,
            "grid_row": null,
            "max_height": null,
            "align_content": null,
            "visibility": null,
            "align_self": null,
            "height": null,
            "min_height": null,
            "padding": null,
            "grid_auto_rows": null,
            "grid_gap": null,
            "max_width": null,
            "order": null,
            "_view_module_version": "1.2.0",
            "grid_template_areas": null,
            "object_position": null,
            "object_fit": null,
            "grid_auto_columns": null,
            "margin": null,
            "display": null,
            "left": null
          }
        },
        "7c3cd161009b454f950602f348162251": {
          "model_module": "@jupyter-widgets/controls",
          "model_name": "SliderStyleModel",
          "state": {
            "_view_name": "StyleView",
            "handle_color": null,
            "_model_name": "SliderStyleModel",
            "description_width": "",
            "_view_module": "@jupyter-widgets/base",
            "_model_module_version": "1.5.0",
            "_view_count": null,
            "_view_module_version": "1.2.0",
            "_model_module": "@jupyter-widgets/controls"
          }
        },
        "b3be65dee8894cfba23f80a9e0e14f34": {
          "model_module": "@jupyter-widgets/base",
          "model_name": "LayoutModel",
          "state": {
            "_view_name": "LayoutView",
            "grid_template_rows": null,
            "right": null,
            "justify_content": null,
            "_view_module": "@jupyter-widgets/base",
            "overflow": null,
            "_model_module_version": "1.2.0",
            "_view_count": null,
            "flex_flow": null,
            "width": null,
            "min_width": null,
            "border": null,
            "align_items": null,
            "bottom": null,
            "_model_module": "@jupyter-widgets/base",
            "top": null,
            "grid_column": null,
            "overflow_y": null,
            "overflow_x": null,
            "grid_auto_flow": null,
            "grid_area": null,
            "grid_template_columns": null,
            "flex": null,
            "_model_name": "LayoutModel",
            "justify_items": null,
            "grid_row": null,
            "max_height": null,
            "align_content": null,
            "visibility": null,
            "align_self": null,
            "height": null,
            "min_height": null,
            "padding": null,
            "grid_auto_rows": null,
            "grid_gap": null,
            "max_width": null,
            "order": null,
            "_view_module_version": "1.2.0",
            "grid_template_areas": null,
            "object_position": null,
            "object_fit": null,
            "grid_auto_columns": null,
            "margin": null,
            "display": null,
            "left": null
          }
        },
        "fdeb1e974ba343aebec69a09d1fae013": {
          "model_module": "@jupyter-widgets/base",
          "model_name": "LayoutModel",
          "state": {
            "_view_name": "LayoutView",
            "grid_template_rows": null,
            "right": null,
            "justify_content": null,
            "_view_module": "@jupyter-widgets/base",
            "overflow": null,
            "_model_module_version": "1.2.0",
            "_view_count": null,
            "flex_flow": null,
            "width": null,
            "min_width": null,
            "border": null,
            "align_items": null,
            "bottom": null,
            "_model_module": "@jupyter-widgets/base",
            "top": null,
            "grid_column": null,
            "overflow_y": null,
            "overflow_x": null,
            "grid_auto_flow": null,
            "grid_area": null,
            "grid_template_columns": null,
            "flex": null,
            "_model_name": "LayoutModel",
            "justify_items": null,
            "grid_row": null,
            "max_height": null,
            "align_content": null,
            "visibility": null,
            "align_self": null,
            "height": null,
            "min_height": null,
            "padding": null,
            "grid_auto_rows": null,
            "grid_gap": null,
            "max_width": null,
            "order": null,
            "_view_module_version": "1.2.0",
            "grid_template_areas": null,
            "object_position": null,
            "object_fit": null,
            "grid_auto_columns": null,
            "margin": null,
            "display": null,
            "left": null
          }
        },
        "eef44fb53cb240d2bac1d3a96b3100c4": {
          "model_module": "@jupyter-widgets/controls",
          "model_name": "VBoxModel",
          "state": {
            "_view_name": "VBoxView",
            "_dom_classes": [
              "widget-interact"
            ],
            "_model_name": "VBoxModel",
            "_view_module": "@jupyter-widgets/controls",
            "_model_module_version": "1.5.0",
            "_view_count": null,
            "_view_module_version": "1.5.0",
            "box_style": "",
            "layout": "IPY_MODEL_5459403a0fe042c3ab3ba031723b9027",
            "_model_module": "@jupyter-widgets/controls",
            "children": [
              "IPY_MODEL_90767875d227459b9da93070fae44579",
              "IPY_MODEL_dbc29f4727d8482488e090e1f3f59dfa",
              "IPY_MODEL_4fd582879cd34dc284b44a70bf3c4693"
            ]
          }
        },
        "5459403a0fe042c3ab3ba031723b9027": {
          "model_module": "@jupyter-widgets/base",
          "model_name": "LayoutModel",
          "state": {
            "_view_name": "LayoutView",
            "grid_template_rows": null,
            "right": null,
            "justify_content": null,
            "_view_module": "@jupyter-widgets/base",
            "overflow": null,
            "_model_module_version": "1.2.0",
            "_view_count": null,
            "flex_flow": null,
            "width": null,
            "min_width": null,
            "border": null,
            "align_items": null,
            "bottom": null,
            "_model_module": "@jupyter-widgets/base",
            "top": null,
            "grid_column": null,
            "overflow_y": null,
            "overflow_x": null,
            "grid_auto_flow": null,
            "grid_area": null,
            "grid_template_columns": null,
            "flex": null,
            "_model_name": "LayoutModel",
            "justify_items": null,
            "grid_row": null,
            "max_height": null,
            "align_content": null,
            "visibility": null,
            "align_self": null,
            "height": null,
            "min_height": null,
            "padding": null,
            "grid_auto_rows": null,
            "grid_gap": null,
            "max_width": null,
            "order": null,
            "_view_module_version": "1.2.0",
            "grid_template_areas": null,
            "object_position": null,
            "object_fit": null,
            "grid_auto_columns": null,
            "margin": null,
            "display": null,
            "left": null
          }
        },
        "90767875d227459b9da93070fae44579": {
          "model_module": "@jupyter-widgets/controls",
          "model_name": "IntSliderModel",
          "state": {
            "_view_name": "IntSliderView",
            "style": "IPY_MODEL_76b3b2a2652f47089ab1918b16d12c33",
            "_dom_classes": [],
            "description": "segmentation_number",
            "step": 1,
            "_model_name": "IntSliderModel",
            "orientation": "horizontal",
            "max": 3,
            "_view_module": "@jupyter-widgets/controls",
            "_model_module_version": "1.5.0",
            "value": 1,
            "_view_count": null,
            "disabled": false,
            "_view_module_version": "1.5.0",
            "min": 0,
            "continuous_update": true,
            "readout_format": "d",
            "description_tooltip": null,
            "readout": true,
            "_model_module": "@jupyter-widgets/controls",
            "layout": "IPY_MODEL_4ae52a8e52a74d1dad6ff7ddb46c77b5"
          }
        },
        "dbc29f4727d8482488e090e1f3f59dfa": {
          "model_module": "@jupyter-widgets/controls",
          "model_name": "IntSliderModel",
          "state": {
            "_view_name": "IntSliderView",
            "style": "IPY_MODEL_87c7e5e0ad534485bbd0df16db9673ed",
            "_dom_classes": [],
            "description": "slice_number",
            "step": 1,
            "_model_name": "IntSliderModel",
            "orientation": "horizontal",
            "max": 176,
            "_view_module": "@jupyter-widgets/controls",
            "_model_module_version": "1.5.0",
            "value": 88,
            "_view_count": null,
            "disabled": false,
            "_view_module_version": "1.5.0",
            "min": 0,
            "continuous_update": true,
            "readout_format": "d",
            "description_tooltip": null,
            "readout": true,
            "_model_module": "@jupyter-widgets/controls",
            "layout": "IPY_MODEL_db0a41fbb56f422f9bb957d7eb2ce58d"
          }
        },
        "4fd582879cd34dc284b44a70bf3c4693": {
          "model_module": "@jupyter-widgets/output",
          "model_name": "OutputModel",
          "state": {
            "_view_name": "OutputView",
            "msg_id": "",
            "_dom_classes": [],
            "_model_name": "OutputModel",
            "outputs": [
              {
                "output_type": "display_data",
                "metadata": {
                  "tags": [],
                  "needs_background": "light"
                },
                "image/png": "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\n",
                "text/plain": "<Figure size 432x288 with 1 Axes>"
              }
            ],
            "_view_module": "@jupyter-widgets/output",
            "_model_module_version": "1.0.0",
            "_view_count": null,
            "_view_module_version": "1.0.0",
            "layout": "IPY_MODEL_3fe8d4171654481c8bb1e0f2c97f7eee",
            "_model_module": "@jupyter-widgets/output"
          }
        },
        "76b3b2a2652f47089ab1918b16d12c33": {
          "model_module": "@jupyter-widgets/controls",
          "model_name": "SliderStyleModel",
          "state": {
            "_view_name": "StyleView",
            "handle_color": null,
            "_model_name": "SliderStyleModel",
            "description_width": "",
            "_view_module": "@jupyter-widgets/base",
            "_model_module_version": "1.5.0",
            "_view_count": null,
            "_view_module_version": "1.2.0",
            "_model_module": "@jupyter-widgets/controls"
          }
        },
        "4ae52a8e52a74d1dad6ff7ddb46c77b5": {
          "model_module": "@jupyter-widgets/base",
          "model_name": "LayoutModel",
          "state": {
            "_view_name": "LayoutView",
            "grid_template_rows": null,
            "right": null,
            "justify_content": null,
            "_view_module": "@jupyter-widgets/base",
            "overflow": null,
            "_model_module_version": "1.2.0",
            "_view_count": null,
            "flex_flow": null,
            "width": null,
            "min_width": null,
            "border": null,
            "align_items": null,
            "bottom": null,
            "_model_module": "@jupyter-widgets/base",
            "top": null,
            "grid_column": null,
            "overflow_y": null,
            "overflow_x": null,
            "grid_auto_flow": null,
            "grid_area": null,
            "grid_template_columns": null,
            "flex": null,
            "_model_name": "LayoutModel",
            "justify_items": null,
            "grid_row": null,
            "max_height": null,
            "align_content": null,
            "visibility": null,
            "align_self": null,
            "height": null,
            "min_height": null,
            "padding": null,
            "grid_auto_rows": null,
            "grid_gap": null,
            "max_width": null,
            "order": null,
            "_view_module_version": "1.2.0",
            "grid_template_areas": null,
            "object_position": null,
            "object_fit": null,
            "grid_auto_columns": null,
            "margin": null,
            "display": null,
            "left": null
          }
        },
        "87c7e5e0ad534485bbd0df16db9673ed": {
          "model_module": "@jupyter-widgets/controls",
          "model_name": "SliderStyleModel",
          "state": {
            "_view_name": "StyleView",
            "handle_color": null,
            "_model_name": "SliderStyleModel",
            "description_width": "",
            "_view_module": "@jupyter-widgets/base",
            "_model_module_version": "1.5.0",
            "_view_count": null,
            "_view_module_version": "1.2.0",
            "_model_module": "@jupyter-widgets/controls"
          }
        },
        "db0a41fbb56f422f9bb957d7eb2ce58d": {
          "model_module": "@jupyter-widgets/base",
          "model_name": "LayoutModel",
          "state": {
            "_view_name": "LayoutView",
            "grid_template_rows": null,
            "right": null,
            "justify_content": null,
            "_view_module": "@jupyter-widgets/base",
            "overflow": null,
            "_model_module_version": "1.2.0",
            "_view_count": null,
            "flex_flow": null,
            "width": null,
            "min_width": null,
            "border": null,
            "align_items": null,
            "bottom": null,
            "_model_module": "@jupyter-widgets/base",
            "top": null,
            "grid_column": null,
            "overflow_y": null,
            "overflow_x": null,
            "grid_auto_flow": null,
            "grid_area": null,
            "grid_template_columns": null,
            "flex": null,
            "_model_name": "LayoutModel",
            "justify_items": null,
            "grid_row": null,
            "max_height": null,
            "align_content": null,
            "visibility": null,
            "align_self": null,
            "height": null,
            "min_height": null,
            "padding": null,
            "grid_auto_rows": null,
            "grid_gap": null,
            "max_width": null,
            "order": null,
            "_view_module_version": "1.2.0",
            "grid_template_areas": null,
            "object_position": null,
            "object_fit": null,
            "grid_auto_columns": null,
            "margin": null,
            "display": null,
            "left": null
          }
        },
        "3fe8d4171654481c8bb1e0f2c97f7eee": {
          "model_module": "@jupyter-widgets/base",
          "model_name": "LayoutModel",
          "state": {
            "_view_name": "LayoutView",
            "grid_template_rows": null,
            "right": null,
            "justify_content": null,
            "_view_module": "@jupyter-widgets/base",
            "overflow": null,
            "_model_module_version": "1.2.0",
            "_view_count": null,
            "flex_flow": null,
            "width": null,
            "min_width": null,
            "border": null,
            "align_items": null,
            "bottom": null,
            "_model_module": "@jupyter-widgets/base",
            "top": null,
            "grid_column": null,
            "overflow_y": null,
            "overflow_x": null,
            "grid_auto_flow": null,
            "grid_area": null,
            "grid_template_columns": null,
            "flex": null,
            "_model_name": "LayoutModel",
            "justify_items": null,
            "grid_row": null,
            "max_height": null,
            "align_content": null,
            "visibility": null,
            "align_self": null,
            "height": null,
            "min_height": null,
            "padding": null,
            "grid_auto_rows": null,
            "grid_gap": null,
            "max_width": null,
            "order": null,
            "_view_module_version": "1.2.0",
            "grid_template_areas": null,
            "object_position": null,
            "object_fit": null,
            "grid_auto_columns": null,
            "margin": null,
            "display": null,
            "left": null
          }
        }
      }
    }
  },
  "cells": [
    {
      "cell_type": "markdown",
      "metadata": {
        "id": "view-in-github",
        "colab_type": "text"
      },
      "source": [
        "<a href=\"https://colab.research.google.com/github/BillWorstell/ISBI2020_TUTORIAL/blob/master/08_segmentation_evaluation.ipynb\" target=\"_parent\"><img src=\"https://colab.research.google.com/assets/colab-badge.svg\" alt=\"Open In Colab\"/></a>"
      ]
    },
    {
      "cell_type": "markdown",
      "metadata": {
        "id": "th3oF2y6LcQt"
      },
      "source": [
        "<h1 align=\"center\">Segmentation Evaluation</h1>\n",
        "\n",
        "**Summary:**\n",
        "\n",
        "1. SimpleITK supports two ways of combining expert segmentations to obtain a reference segmentation.\n",
        "2. A variety of criteria used for evaluating a segmentation result are readily available or implemented in SimpleITK.\n",
        "\n",
        "<u>Reference Segmentation</u>\n",
        "\n",
        "Evaluating segmentation algorithms is most often done using reference data to which you compare your results. In the medical domain reference data is commonly obtained via manual segmentation by an expert (don't forget to thank your clinical colleagues for their hard work). When you are resource limited, the reference data may be defined by a single expert. This is less than ideal. When multiple experts provide you with their input then you can potentially combine them to obtain reference data that is closer to the ever elusive \"ground truth\". In this notebook we show two approaches to combining input from multiple observers, majority vote and the Simultaneous Truth and Performance Level\n",
        "Estimation [(STAPLE)](https://www.ncbi.nlm.nih.gov/pubmed/15250643) algorithm.\n",
        "\n",
        "<u>Segmentation Evaluation</u>\n",
        "\n",
        "Once we have a reference, we compare the algorithm's performance using multiple criteria, as usually there is no single evaluation measure that conveys all of the relevant information. In this notebook we illustrate the use of the following evaluation criteria:\n",
        "* Overlap measures:\n",
        "  * Jaccard and Dice coefficients \n",
        "  * false negative and false positive errors\n",
        "* Surface distance measures:\n",
        "  * Hausdorff distance (symmetric)\n",
        "  * mean, median, max and standard deviation between surfaces\n",
        "* Volume measures:\n",
        "  * volume similarity $ \\frac{2*(v1-v2)}{v1+v2}$\n",
        "\n",
        "The relevant criteria are task dependent, so you need to ask yourself whether you are interested in detecting spurious errors or not (mean or max surface distance), whether over/under segmentation should be differentiated (volume similarity and Dice or just Dice), and what is the ratio between acceptable errors and the size of the segmented object (Dice coefficient may be too sensitive to small errors when the segmented object is small and not sensitive enough to large errors when the segmented object is large).\n",
        "\n",
        "In the context of segmentation challenges, algorithm rankings are often based on a weighted combination of these criteria. These ranking schemes are not necessarily robust, as discussed in \"[Why rankings of biomedical image analysis competitions should be interpreted with care](https://www.nature.com/articles/s41467-018-07619-7)\", L. Maier-Hein et al.\n",
        "\n",
        "The data we use in the notebook is a set of manually segmented liver tumors from a single clinical CT scan. A larger dataset (four scans) is freely available from this [MIDAS repository](http://www.insight-journal.org/midas/collection/view/38). The relevant publication is: T. Popa et al., \"Tumor Volume Measurement and Volume Measurement Comparison Plug-ins for VolView Using ITK\", SPIE Medical Imaging: Visualization, Image-Guided Procedures, and Display, 2006.\n"
      ]
    },
    {
      "cell_type": "markdown",
      "metadata": {
        "id": "82lLi7zNDacj"
      },
      "source": [
        "## Install SimpleITK and Environment\n",
        "\n",
        "Expects to find on MyDrive:\n",
        " \n",
        "/gdrive/MyDrive/SimpleITK-Notebooks/Python\n",
        "\n",
        "/gdrive/MyDrive/SimpleITK-Notebooks/Python/requirements.txt\n",
        "\n",
        "/gdrive/MyDrive/Fiji.app/ImageJ-linux64\n",
        "\n",
        "<img src=\"figures/ImageOriginAndSpacing.png\" style=\"width:700px\"/><br><br>"
      ]
    },
    {
      "cell_type": "code",
      "metadata": {
        "colab": {
          "base_uri": "https://localhost:8080/"
        },
        "id": "dOGy9A3TJdCS",
        "outputId": "d4b99acf-a78b-4415-aea5-ded12136b9fa"
      },
      "source": [
        "pip install virtualenv"
      ],
      "execution_count": 1,
      "outputs": [
        {
          "output_type": "stream",
          "text": [
            "Collecting virtualenv\n",
            "\u001b[?25l  Downloading https://files.pythonhosted.org/packages/9f/fb/7423637e48cffbb2e567ca113d2b05068f8b457dde998ab487adf7386c86/virtualenv-20.4.2-py2.py3-none-any.whl (7.2MB)\n",
            "\u001b[K     |████████████████████████████████| 7.2MB 5.5MB/s \n",
            "\u001b[?25hRequirement already satisfied: importlib-metadata>=0.12; python_version < \"3.8\" in /usr/local/lib/python3.7/dist-packages (from virtualenv) (3.7.0)\n",
            "Requirement already satisfied: filelock<4,>=3.0.0 in /usr/local/lib/python3.7/dist-packages (from virtualenv) (3.0.12)\n",
            "Requirement already satisfied: appdirs<2,>=1.4.3 in /usr/local/lib/python3.7/dist-packages (from virtualenv) (1.4.4)\n",
            "Collecting distlib<1,>=0.3.1\n",
            "\u001b[?25l  Downloading https://files.pythonhosted.org/packages/f5/0a/490fa011d699bb5a5f3a0cf57de82237f52a6db9d40f33c53b2736c9a1f9/distlib-0.3.1-py2.py3-none-any.whl (335kB)\n",
            "\u001b[K     |████████████████████████████████| 337kB 44.3MB/s \n",
            "\u001b[?25hRequirement already satisfied: six<2,>=1.9.0 in /usr/local/lib/python3.7/dist-packages (from virtualenv) (1.15.0)\n",
            "Requirement already satisfied: zipp>=0.5 in /usr/local/lib/python3.7/dist-packages (from importlib-metadata>=0.12; python_version < \"3.8\"->virtualenv) (3.4.0)\n",
            "Requirement already satisfied: typing-extensions>=3.6.4; python_version < \"3.8\" in /usr/local/lib/python3.7/dist-packages (from importlib-metadata>=0.12; python_version < \"3.8\"->virtualenv) (3.7.4.3)\n",
            "Installing collected packages: distlib, virtualenv\n",
            "Successfully installed distlib-0.3.1 virtualenv-20.4.2\n"
          ],
          "name": "stdout"
        }
      ]
    },
    {
      "cell_type": "code",
      "metadata": {
        "colab": {
          "base_uri": "https://localhost:8080/"
        },
        "id": "PmGkWWo1JdCT",
        "outputId": "eb28f065-4a82-43f6-b1a1-b6696797e326"
      },
      "source": [
        "#!virtualenv ~/sitkpy --no-site-packages\r\n",
        "!virtualenv ~/sitkpy"
      ],
      "execution_count": 2,
      "outputs": [
        {
          "output_type": "stream",
          "text": [
            "created virtual environment CPython3.7.10.final.0-64 in 921ms\n",
            "  creator CPython3Posix(dest=/root/sitkpy, clear=False, no_vcs_ignore=False, global=False)\n",
            "  seeder FromAppData(download=False, pip=bundle, setuptools=bundle, wheel=bundle, via=copy, app_data_dir=/root/.local/share/virtualenv)\n",
            "    added seed packages: pip==21.0.1, setuptools==52.0.0, wheel==0.36.2\n",
            "  activators BashActivator,CShellActivator,FishActivator,PowerShellActivator,PythonActivator,XonshActivator\n"
          ],
          "name": "stdout"
        }
      ]
    },
    {
      "cell_type": "code",
      "metadata": {
        "colab": {
          "base_uri": "https://localhost:8080/"
        },
        "id": "D5JdJpk-JdCT",
        "outputId": "ccf91b82-a3f9-494f-83eb-68bff4ebf20a"
      },
      "source": [
        "from google.colab import drive\r\n",
        "drive.mount('/gdrive')\r\n",
        "%cd /gdrive"
      ],
      "execution_count": 3,
      "outputs": [
        {
          "output_type": "stream",
          "text": [
            "Mounted at /gdrive\n",
            "/gdrive\n"
          ],
          "name": "stdout"
        }
      ]
    },
    {
      "cell_type": "code",
      "metadata": {
        "colab": {
          "base_uri": "https://localhost:8080/"
        },
        "id": "xkmhAJWWJdCU",
        "outputId": "f01c3de1-10b8-412c-9632-c8d76aadeb67"
      },
      "source": [
        "#!pip install -r '/gdrive/MyDrive/SimpleITK-Notebooks/Python/requirements.txt'\r\n",
        "!~/sitkpy/bin/pip install -r '/gdrive/MyDrive/SimpleITK-Notebooks/Python/requirements.txt'"
      ],
      "execution_count": 4,
      "outputs": [
        {
          "output_type": "stream",
          "text": [
            "Collecting SimpleITK>=2.0.0\n",
            "  Downloading SimpleITK-2.0.2-cp37-cp37m-manylinux2010_x86_64.whl (47.4 MB)\n",
            "\u001b[K     |████████████████████████████████| 47.4 MB 52 kB/s \n",
            "\u001b[?25hCollecting jupyter\n",
            "  Downloading jupyter-1.0.0-py2.py3-none-any.whl (2.7 kB)\n",
            "Collecting matplotlib\n",
            "  Downloading matplotlib-3.3.4-cp37-cp37m-manylinux1_x86_64.whl (11.5 MB)\n",
            "\u001b[K     |████████████████████████████████| 11.5 MB 43.4 MB/s \n",
            "\u001b[?25hCollecting ipywidgets\n",
            "  Downloading ipywidgets-7.6.3-py2.py3-none-any.whl (121 kB)\n",
            "\u001b[K     |████████████████████████████████| 121 kB 71.3 MB/s \n",
            "\u001b[?25hCollecting numpy\n",
            "  Downloading numpy-1.20.1-cp37-cp37m-manylinux2010_x86_64.whl (15.3 MB)\n",
            "\u001b[K     |████████████████████████████████| 15.3 MB 156 kB/s \n",
            "\u001b[?25hCollecting scipy\n",
            "  Downloading scipy-1.6.1-cp37-cp37m-manylinux1_x86_64.whl (27.4 MB)\n",
            "\u001b[K     |████████████████████████████████| 27.4 MB 74 kB/s \n",
            "\u001b[?25hCollecting pandas\n",
            "  Downloading pandas-1.2.2-cp37-cp37m-manylinux1_x86_64.whl (9.9 MB)\n",
            "\u001b[K     |████████████████████████████████| 9.9 MB 46.5 MB/s \n",
            "\u001b[?25hCollecting numba\n",
            "  Downloading numba-0.52.0-cp37-cp37m-manylinux2014_x86_64.whl (3.2 MB)\n",
            "\u001b[K     |████████████████████████████████| 3.2 MB 37.7 MB/s \n",
            "\u001b[?25hCollecting multiprocess\n",
            "  Downloading multiprocess-0.70.11.1-py37-none-any.whl (108 kB)\n",
            "\u001b[K     |████████████████████████████████| 108 kB 71.8 MB/s \n",
            "\u001b[?25hCollecting ipython>=4.0.0\n",
            "  Downloading ipython-7.21.0-py3-none-any.whl (784 kB)\n",
            "\u001b[K     |████████████████████████████████| 784 kB 46.5 MB/s \n",
            "\u001b[?25hCollecting ipykernel>=4.5.1\n",
            "  Downloading ipykernel-5.5.0-py3-none-any.whl (120 kB)\n",
            "\u001b[K     |████████████████████████████████| 120 kB 70.2 MB/s \n",
            "\u001b[?25hCollecting nbformat>=4.2.0\n",
            "  Downloading nbformat-5.1.2-py3-none-any.whl (113 kB)\n",
            "\u001b[K     |████████████████████████████████| 113 kB 67.5 MB/s \n",
            "\u001b[?25hCollecting traitlets>=4.3.1\n",
            "  Downloading traitlets-5.0.5-py3-none-any.whl (100 kB)\n",
            "\u001b[K     |████████████████████████████████| 100 kB 8.4 MB/s \n",
            "\u001b[?25hCollecting widgetsnbextension~=3.5.0\n",
            "  Downloading widgetsnbextension-3.5.1-py2.py3-none-any.whl (2.2 MB)\n",
            "\u001b[K     |████████████████████████████████| 2.2 MB 58.8 MB/s \n",
            "\u001b[?25hCollecting jupyterlab-widgets>=1.0.0\n",
            "  Downloading jupyterlab_widgets-1.0.0-py3-none-any.whl (243 kB)\n",
            "\u001b[K     |████████████████████████████████| 243 kB 73.7 MB/s \n",
            "\u001b[?25hCollecting jupyter-client\n",
            "  Downloading jupyter_client-6.1.11-py3-none-any.whl (108 kB)\n",
            "\u001b[K     |████████████████████████████████| 108 kB 73.2 MB/s \n",
            "\u001b[?25hCollecting tornado>=4.2\n",
            "  Downloading tornado-6.1-cp37-cp37m-manylinux2010_x86_64.whl (428 kB)\n",
            "\u001b[K     |████████████████████████████████| 428 kB 69.3 MB/s \n",
            "\u001b[?25hRequirement already satisfied: setuptools>=18.5 in /root/sitkpy/lib/python3.7/site-packages (from ipython>=4.0.0->ipywidgets->-r /gdrive/MyDrive/SimpleITK-Notebooks/Python/requirements.txt (line 4)) (52.0.0)\n",
            "Collecting backcall\n",
            "  Downloading backcall-0.2.0-py2.py3-none-any.whl (11 kB)\n",
            "Collecting pexpect>4.3\n",
            "  Downloading pexpect-4.8.0-py2.py3-none-any.whl (59 kB)\n",
            "\u001b[K     |████████████████████████████████| 59 kB 5.0 MB/s \n",
            "\u001b[?25hCollecting prompt-toolkit!=3.0.0,!=3.0.1,<3.1.0,>=2.0.0\n",
            "  Downloading prompt_toolkit-3.0.16-py3-none-any.whl (366 kB)\n",
            "\u001b[K     |████████████████████████████████| 366 kB 57.3 MB/s \n",
            "\u001b[?25hCollecting pickleshare\n",
            "  Downloading pickleshare-0.7.5-py2.py3-none-any.whl (6.9 kB)\n",
            "Collecting pygments\n",
            "  Downloading Pygments-2.8.0-py3-none-any.whl (983 kB)\n",
            "\u001b[K     |████████████████████████████████| 983 kB 47.2 MB/s \n",
            "\u001b[?25hCollecting jedi>=0.16\n",
            "  Downloading jedi-0.18.0-py2.py3-none-any.whl (1.4 MB)\n",
            "\u001b[K     |████████████████████████████████| 1.4 MB 46.0 MB/s \n",
            "\u001b[?25hCollecting decorator\n",
            "  Downloading decorator-4.4.2-py2.py3-none-any.whl (9.2 kB)\n",
            "Collecting parso<0.9.0,>=0.8.0\n",
            "  Downloading parso-0.8.1-py2.py3-none-any.whl (93 kB)\n",
            "\u001b[K     |████████████████████████████████| 93 kB 1.8 MB/s \n",
            "\u001b[?25hCollecting ipython-genutils\n",
            "  Downloading ipython_genutils-0.2.0-py2.py3-none-any.whl (26 kB)\n",
            "Collecting jsonschema!=2.5.0,>=2.4\n",
            "  Downloading jsonschema-3.2.0-py2.py3-none-any.whl (56 kB)\n",
            "\u001b[K     |████████████████████████████████| 56 kB 3.5 MB/s \n",
            "\u001b[?25hCollecting jupyter-core\n",
            "  Downloading jupyter_core-4.7.1-py3-none-any.whl (82 kB)\n",
            "\u001b[K     |████████████████████████████████| 82 kB 896 kB/s \n",
            "\u001b[?25hCollecting six>=1.11.0\n",
            "  Downloading six-1.15.0-py2.py3-none-any.whl (10 kB)\n",
            "Collecting attrs>=17.4.0\n",
            "  Downloading attrs-20.3.0-py2.py3-none-any.whl (49 kB)\n",
            "\u001b[K     |████████████████████████████████| 49 kB 4.8 MB/s \n",
            "\u001b[?25hCollecting pyrsistent>=0.14.0\n",
            "  Downloading pyrsistent-0.17.3.tar.gz (106 kB)\n",
            "\u001b[K     |████████████████████████████████| 106 kB 56.7 MB/s \n",
            "\u001b[?25hCollecting importlib-metadata\n",
            "  Downloading importlib_metadata-3.7.0-py3-none-any.whl (11 kB)\n",
            "Collecting ptyprocess>=0.5\n",
            "  Downloading ptyprocess-0.7.0-py2.py3-none-any.whl (13 kB)\n",
            "Collecting wcwidth\n",
            "  Downloading wcwidth-0.2.5-py2.py3-none-any.whl (30 kB)\n",
            "Collecting notebook>=4.4.1\n",
            "  Downloading notebook-6.2.0-py3-none-any.whl (9.5 MB)\n",
            "\u001b[K     |████████████████████████████████| 9.5 MB 34.6 MB/s \n",
            "\u001b[?25hCollecting pyzmq>=17\n",
            "  Downloading pyzmq-22.0.3-cp37-cp37m-manylinux1_x86_64.whl (1.1 MB)\n",
            "\u001b[K     |████████████████████████████████| 1.1 MB 40.6 MB/s \n",
            "\u001b[?25hCollecting nbconvert\n",
            "  Downloading nbconvert-6.0.7-py3-none-any.whl (552 kB)\n",
            "\u001b[K     |████████████████████████████████| 552 kB 70.2 MB/s \n",
            "\u001b[?25hCollecting Send2Trash>=1.5.0\n",
            "  Downloading Send2Trash-1.5.0-py3-none-any.whl (12 kB)\n",
            "Collecting prometheus-client\n",
            "  Downloading prometheus_client-0.9.0-py2.py3-none-any.whl (53 kB)\n",
            "\u001b[K     |████████████████████████████████| 53 kB 1.8 MB/s \n",
            "\u001b[?25hCollecting jinja2\n",
            "  Downloading Jinja2-2.11.3-py2.py3-none-any.whl (125 kB)\n",
            "\u001b[K     |████████████████████████████████| 125 kB 56.2 MB/s \n",
            "\u001b[?25hCollecting terminado>=0.8.3\n",
            "  Downloading terminado-0.9.2-py3-none-any.whl (14 kB)\n",
            "Collecting argon2-cffi\n",
            "  Downloading argon2_cffi-20.1.0-cp35-abi3-manylinux1_x86_64.whl (97 kB)\n",
            "\u001b[K     |████████████████████████████████| 97 kB 6.1 MB/s \n",
            "\u001b[?25hCollecting python-dateutil>=2.1\n",
            "  Downloading python_dateutil-2.8.1-py2.py3-none-any.whl (227 kB)\n",
            "\u001b[K     |████████████████████████████████| 227 kB 54.3 MB/s \n",
            "\u001b[?25hCollecting qtconsole\n",
            "  Downloading qtconsole-5.0.2-py3-none-any.whl (119 kB)\n",
            "\u001b[K     |████████████████████████████████| 119 kB 68.9 MB/s \n",
            "\u001b[?25hCollecting jupyter-console\n",
            "  Downloading jupyter_console-6.2.0-py3-none-any.whl (22 kB)\n",
            "Collecting pyparsing!=2.0.4,!=2.1.2,!=2.1.6,>=2.0.3\n",
            "  Downloading pyparsing-2.4.7-py2.py3-none-any.whl (67 kB)\n",
            "\u001b[K     |████████████████████████████████| 67 kB 5.2 MB/s \n",
            "\u001b[?25hCollecting pillow>=6.2.0\n",
            "  Downloading Pillow-8.1.0-cp37-cp37m-manylinux1_x86_64.whl (2.2 MB)\n",
            "\u001b[K     |████████████████████████████████| 2.2 MB 35.7 MB/s \n",
            "\u001b[?25hCollecting kiwisolver>=1.0.1\n",
            "  Downloading kiwisolver-1.3.1-cp37-cp37m-manylinux1_x86_64.whl (1.1 MB)\n",
            "\u001b[K     |████████████████████████████████| 1.1 MB 56.0 MB/s \n",
            "\u001b[?25hCollecting cycler>=0.10\n",
            "  Downloading cycler-0.10.0-py2.py3-none-any.whl (6.5 kB)\n",
            "Collecting dill>=0.3.3\n",
            "  Downloading dill-0.3.3-py2.py3-none-any.whl (81 kB)\n",
            "\u001b[K     |████████████████████████████████| 81 kB 9.1 MB/s \n",
            "\u001b[?25hCollecting llvmlite<0.36,>=0.35.0\n",
            "  Downloading llvmlite-0.35.0-cp37-cp37m-manylinux2010_x86_64.whl (25.3 MB)\n",
            "\u001b[K     |████████████████████████████████| 25.3 MB 1.6 MB/s \n",
            "\u001b[?25hCollecting pytz>=2017.3\n",
            "  Downloading pytz-2021.1-py2.py3-none-any.whl (510 kB)\n",
            "\u001b[K     |████████████████████████████████| 510 kB 57.4 MB/s \n",
            "\u001b[?25hCollecting cffi>=1.0.0\n",
            "  Downloading cffi-1.14.5-cp37-cp37m-manylinux1_x86_64.whl (402 kB)\n",
            "\u001b[K     |████████████████████████████████| 402 kB 56.1 MB/s \n",
            "\u001b[?25hCollecting pycparser\n",
            "  Downloading pycparser-2.20-py2.py3-none-any.whl (112 kB)\n",
            "\u001b[K     |████████████████████████████████| 112 kB 58.8 MB/s \n",
            "\u001b[?25hCollecting zipp>=0.5\n",
            "  Downloading zipp-3.4.0-py3-none-any.whl (5.2 kB)\n",
            "Collecting typing-extensions>=3.6.4\n",
            "  Downloading typing_extensions-3.7.4.3-py3-none-any.whl (22 kB)\n",
            "Collecting MarkupSafe>=0.23\n",
            "  Downloading MarkupSafe-1.1.1-cp37-cp37m-manylinux2010_x86_64.whl (33 kB)\n",
            "Collecting nbclient<0.6.0,>=0.5.0\n",
            "  Downloading nbclient-0.5.3-py3-none-any.whl (82 kB)\n",
            "\u001b[K     |████████████████████████████████| 82 kB 980 kB/s \n",
            "\u001b[?25hCollecting testpath\n",
            "  Downloading testpath-0.4.4-py2.py3-none-any.whl (163 kB)\n",
            "\u001b[K     |████████████████████████████████| 163 kB 69.6 MB/s \n",
            "\u001b[?25hCollecting mistune<2,>=0.8.1\n",
            "  Downloading mistune-0.8.4-py2.py3-none-any.whl (16 kB)\n",
            "Collecting pandocfilters>=1.4.1\n",
            "  Downloading pandocfilters-1.4.3.tar.gz (16 kB)\n",
            "Collecting defusedxml\n",
            "  Downloading defusedxml-0.6.0-py2.py3-none-any.whl (23 kB)\n",
            "Collecting entrypoints>=0.2.2\n",
            "  Downloading entrypoints-0.3-py2.py3-none-any.whl (11 kB)\n",
            "Collecting jupyterlab-pygments\n",
            "  Downloading jupyterlab_pygments-0.1.2-py2.py3-none-any.whl (4.6 kB)\n",
            "Collecting bleach\n",
            "  Downloading bleach-3.3.0-py2.py3-none-any.whl (283 kB)\n",
            "\u001b[K     |████████████████████████████████| 283 kB 54.3 MB/s \n",
            "\u001b[?25hCollecting async-generator\n",
            "  Downloading async_generator-1.10-py3-none-any.whl (18 kB)\n",
            "Collecting nest-asyncio\n",
            "  Downloading nest_asyncio-1.5.1-py3-none-any.whl (5.0 kB)\n",
            "Collecting packaging\n",
            "  Downloading packaging-20.9-py2.py3-none-any.whl (40 kB)\n",
            "\u001b[K     |████████████████████████████████| 40 kB 4.8 MB/s \n",
            "\u001b[?25hCollecting webencodings\n",
            "  Downloading webencodings-0.5.1-py2.py3-none-any.whl (11 kB)\n",
            "Collecting qtpy\n",
            "  Downloading QtPy-1.9.0-py2.py3-none-any.whl (54 kB)\n",
            "\u001b[K     |████████████████████████████████| 54 kB 2.4 MB/s \n",
            "\u001b[?25hBuilding wheels for collected packages: pyrsistent, pandocfilters\n",
            "  Building wheel for pyrsistent (setup.py) ... \u001b[?25l\u001b[?25hdone\n",
            "  Created wheel for pyrsistent: filename=pyrsistent-0.17.3-cp37-cp37m-linux_x86_64.whl size=98051 sha256=38a466e1961e80b2ecc3a254a3bf18f57d328094980493dae0842146051d1eec\n",
            "  Stored in directory: /root/.cache/pip/wheels/a5/52/bf/71258a1d7b3c8cbe1ee53f9314c6f65f20385481eaee573cc5\n",
            "  Building wheel for pandocfilters (setup.py) ... \u001b[?25l\u001b[?25hdone\n",
            "  Created wheel for pandocfilters: filename=pandocfilters-1.4.3-py3-none-any.whl size=7992 sha256=222bb293f7ca9d5667881cdf1a5872cca9e41d36fe5866f64bf7de80db5d902f\n",
            "  Stored in directory: /root/.cache/pip/wheels/42/81/34/545dc2fbf0e9137811e901108d37fc04650e81d48f97078000\n",
            "Successfully built pyrsistent pandocfilters\n",
            "Installing collected packages: zipp, typing-extensions, ipython-genutils, traitlets, six, pyrsistent, importlib-metadata, attrs, wcwidth, tornado, pyzmq, python-dateutil, pyparsing, ptyprocess, parso, jupyter-core, jsonschema, webencodings, pygments, pycparser, prompt-toolkit, pickleshare, pexpect, packaging, nest-asyncio, nbformat, MarkupSafe, jupyter-client, jedi, decorator, backcall, async-generator, testpath, pandocfilters, nbclient, mistune, jupyterlab-pygments, jinja2, ipython, entrypoints, defusedxml, cffi, bleach, terminado, Send2Trash, prometheus-client, nbconvert, ipykernel, argon2-cffi, notebook, widgetsnbextension, qtpy, jupyterlab-widgets, qtconsole, pytz, pillow, numpy, llvmlite, kiwisolver, jupyter-console, ipywidgets, dill, cycler, SimpleITK, scipy, pandas, numba, multiprocess, matplotlib, jupyter\n",
            "Successfully installed MarkupSafe-1.1.1 Send2Trash-1.5.0 SimpleITK-2.0.2 argon2-cffi-20.1.0 async-generator-1.10 attrs-20.3.0 backcall-0.2.0 bleach-3.3.0 cffi-1.14.5 cycler-0.10.0 decorator-4.4.2 defusedxml-0.6.0 dill-0.3.3 entrypoints-0.3 importlib-metadata-3.7.0 ipykernel-5.5.0 ipython-7.21.0 ipython-genutils-0.2.0 ipywidgets-7.6.3 jedi-0.18.0 jinja2-2.11.3 jsonschema-3.2.0 jupyter-1.0.0 jupyter-client-6.1.11 jupyter-console-6.2.0 jupyter-core-4.7.1 jupyterlab-pygments-0.1.2 jupyterlab-widgets-1.0.0 kiwisolver-1.3.1 llvmlite-0.35.0 matplotlib-3.3.4 mistune-0.8.4 multiprocess-0.70.11.1 nbclient-0.5.3 nbconvert-6.0.7 nbformat-5.1.2 nest-asyncio-1.5.1 notebook-6.2.0 numba-0.52.0 numpy-1.20.1 packaging-20.9 pandas-1.2.2 pandocfilters-1.4.3 parso-0.8.1 pexpect-4.8.0 pickleshare-0.7.5 pillow-8.1.0 prometheus-client-0.9.0 prompt-toolkit-3.0.16 ptyprocess-0.7.0 pycparser-2.20 pygments-2.8.0 pyparsing-2.4.7 pyrsistent-0.17.3 python-dateutil-2.8.1 pytz-2021.1 pyzmq-22.0.3 qtconsole-5.0.2 qtpy-1.9.0 scipy-1.6.1 six-1.15.0 terminado-0.9.2 testpath-0.4.4 tornado-6.1 traitlets-5.0.5 typing-extensions-3.7.4.3 wcwidth-0.2.5 webencodings-0.5.1 widgetsnbextension-3.5.1 zipp-3.4.0\n"
          ],
          "name": "stdout"
        }
      ]
    },
    {
      "cell_type": "code",
      "metadata": {
        "colab": {
          "base_uri": "https://localhost:8080/"
        },
        "id": "p--5ZBi6uePo",
        "outputId": "ca14fca0-7147-4584-8871-22633890ac10"
      },
      "source": [
        "cd '/gdrive/MyDrive/SimpleITK-Notebooks/Python'"
      ],
      "execution_count": 5,
      "outputs": [
        {
          "output_type": "stream",
          "text": [
            "/gdrive/MyDrive/SimpleITK-Notebooks/Python\n"
          ],
          "name": "stdout"
        }
      ]
    },
    {
      "cell_type": "code",
      "metadata": {
        "colab": {
          "base_uri": "https://localhost:8080/"
        },
        "id": "BHlrqMzWukwy",
        "outputId": "a4fcea97-a0d9-4d92-c63d-24be20d16d6d"
      },
      "source": [
        "pip install SimpleITK"
      ],
      "execution_count": 6,
      "outputs": [
        {
          "output_type": "stream",
          "text": [
            "Collecting SimpleITK\n",
            "  Using cached https://files.pythonhosted.org/packages/9c/6b/85df5eb3a8059b23a53a9f224476e75473f9bcc0a8583ed1a9c34619f372/SimpleITK-2.0.2-cp37-cp37m-manylinux2010_x86_64.whl\n",
            "Installing collected packages: SimpleITK\n",
            "Successfully installed SimpleITK-2.0.2\n"
          ],
          "name": "stdout"
        }
      ]
    },
    {
      "cell_type": "code",
      "metadata": {
        "colab": {
          "base_uri": "https://localhost:8080/"
        },
        "id": "YytwFDTzuqmP",
        "outputId": "50f4bb4e-0a1e-483b-aefd-5083d298635a"
      },
      "source": [
        "pip install ipywidgets"
      ],
      "execution_count": 7,
      "outputs": [
        {
          "output_type": "stream",
          "text": [
            "Requirement already satisfied: ipywidgets in /usr/local/lib/python3.7/dist-packages (7.6.3)\n",
            "Requirement already satisfied: jupyterlab-widgets>=1.0.0; python_version >= \"3.6\" in /usr/local/lib/python3.7/dist-packages (from ipywidgets) (1.0.0)\n",
            "Requirement already satisfied: widgetsnbextension~=3.5.0 in /usr/local/lib/python3.7/dist-packages (from ipywidgets) (3.5.1)\n",
            "Requirement already satisfied: traitlets>=4.3.1 in /usr/local/lib/python3.7/dist-packages (from ipywidgets) (5.0.5)\n",
            "Requirement already satisfied: ipykernel>=4.5.1 in /usr/local/lib/python3.7/dist-packages (from ipywidgets) (4.10.1)\n",
            "Requirement already satisfied: nbformat>=4.2.0 in /usr/local/lib/python3.7/dist-packages (from ipywidgets) (5.1.2)\n",
            "Requirement already satisfied: ipython>=4.0.0; python_version >= \"3.3\" in /usr/local/lib/python3.7/dist-packages (from ipywidgets) (5.5.0)\n",
            "Requirement already satisfied: notebook>=4.4.1 in /usr/local/lib/python3.7/dist-packages (from widgetsnbextension~=3.5.0->ipywidgets) (5.3.1)\n",
            "Requirement already satisfied: ipython-genutils in /usr/local/lib/python3.7/dist-packages (from traitlets>=4.3.1->ipywidgets) (0.2.0)\n",
            "Requirement already satisfied: jupyter-client in /usr/local/lib/python3.7/dist-packages (from ipykernel>=4.5.1->ipywidgets) (5.3.5)\n",
            "Requirement already satisfied: tornado>=4.0 in /usr/local/lib/python3.7/dist-packages (from ipykernel>=4.5.1->ipywidgets) (5.1.1)\n",
            "Requirement already satisfied: jsonschema!=2.5.0,>=2.4 in /usr/local/lib/python3.7/dist-packages (from nbformat>=4.2.0->ipywidgets) (2.6.0)\n",
            "Requirement already satisfied: jupyter-core in /usr/local/lib/python3.7/dist-packages (from nbformat>=4.2.0->ipywidgets) (4.7.1)\n",
            "Requirement already satisfied: decorator in /usr/local/lib/python3.7/dist-packages (from ipython>=4.0.0; python_version >= \"3.3\"->ipywidgets) (4.4.2)\n",
            "Requirement already satisfied: pickleshare in /usr/local/lib/python3.7/dist-packages (from ipython>=4.0.0; python_version >= \"3.3\"->ipywidgets) (0.7.5)\n",
            "Requirement already satisfied: setuptools>=18.5 in /usr/local/lib/python3.7/dist-packages (from ipython>=4.0.0; python_version >= \"3.3\"->ipywidgets) (53.0.0)\n",
            "Requirement already satisfied: pexpect; sys_platform != \"win32\" in /usr/local/lib/python3.7/dist-packages (from ipython>=4.0.0; python_version >= \"3.3\"->ipywidgets) (4.8.0)\n",
            "Requirement already satisfied: prompt-toolkit<2.0.0,>=1.0.4 in /usr/local/lib/python3.7/dist-packages (from ipython>=4.0.0; python_version >= \"3.3\"->ipywidgets) (1.0.18)\n",
            "Requirement already satisfied: pygments in /usr/local/lib/python3.7/dist-packages (from ipython>=4.0.0; python_version >= \"3.3\"->ipywidgets) (2.6.1)\n",
            "Requirement already satisfied: simplegeneric>0.8 in /usr/local/lib/python3.7/dist-packages (from ipython>=4.0.0; python_version >= \"3.3\"->ipywidgets) (0.8.1)\n",
            "Requirement already satisfied: nbconvert in /usr/local/lib/python3.7/dist-packages (from notebook>=4.4.1->widgetsnbextension~=3.5.0->ipywidgets) (5.6.1)\n",
            "Requirement already satisfied: Send2Trash in /usr/local/lib/python3.7/dist-packages (from notebook>=4.4.1->widgetsnbextension~=3.5.0->ipywidgets) (1.5.0)\n",
            "Requirement already satisfied: terminado>=0.8.1 in /usr/local/lib/python3.7/dist-packages (from notebook>=4.4.1->widgetsnbextension~=3.5.0->ipywidgets) (0.9.2)\n",
            "Requirement already satisfied: jinja2 in /usr/local/lib/python3.7/dist-packages (from notebook>=4.4.1->widgetsnbextension~=3.5.0->ipywidgets) (2.11.3)\n",
            "Requirement already satisfied: python-dateutil>=2.1 in /usr/local/lib/python3.7/dist-packages (from jupyter-client->ipykernel>=4.5.1->ipywidgets) (2.8.1)\n",
            "Requirement already satisfied: pyzmq>=13 in /usr/local/lib/python3.7/dist-packages (from jupyter-client->ipykernel>=4.5.1->ipywidgets) (22.0.3)\n",
            "Requirement already satisfied: ptyprocess>=0.5 in /usr/local/lib/python3.7/dist-packages (from pexpect; sys_platform != \"win32\"->ipython>=4.0.0; python_version >= \"3.3\"->ipywidgets) (0.7.0)\n",
            "Requirement already satisfied: wcwidth in /usr/local/lib/python3.7/dist-packages (from prompt-toolkit<2.0.0,>=1.0.4->ipython>=4.0.0; python_version >= \"3.3\"->ipywidgets) (0.2.5)\n",
            "Requirement already satisfied: six>=1.9.0 in /usr/local/lib/python3.7/dist-packages (from prompt-toolkit<2.0.0,>=1.0.4->ipython>=4.0.0; python_version >= \"3.3\"->ipywidgets) (1.15.0)\n",
            "Requirement already satisfied: pandocfilters>=1.4.1 in /usr/local/lib/python3.7/dist-packages (from nbconvert->notebook>=4.4.1->widgetsnbextension~=3.5.0->ipywidgets) (1.4.3)\n",
            "Requirement already satisfied: testpath in /usr/local/lib/python3.7/dist-packages (from nbconvert->notebook>=4.4.1->widgetsnbextension~=3.5.0->ipywidgets) (0.4.4)\n",
            "Requirement already satisfied: mistune<2,>=0.8.1 in /usr/local/lib/python3.7/dist-packages (from nbconvert->notebook>=4.4.1->widgetsnbextension~=3.5.0->ipywidgets) (0.8.4)\n",
            "Requirement already satisfied: entrypoints>=0.2.2 in /usr/local/lib/python3.7/dist-packages (from nbconvert->notebook>=4.4.1->widgetsnbextension~=3.5.0->ipywidgets) (0.3)\n",
            "Requirement already satisfied: bleach in /usr/local/lib/python3.7/dist-packages (from nbconvert->notebook>=4.4.1->widgetsnbextension~=3.5.0->ipywidgets) (3.3.0)\n",
            "Requirement already satisfied: defusedxml in /usr/local/lib/python3.7/dist-packages (from nbconvert->notebook>=4.4.1->widgetsnbextension~=3.5.0->ipywidgets) (0.6.0)\n",
            "Requirement already satisfied: MarkupSafe>=0.23 in /usr/local/lib/python3.7/dist-packages (from jinja2->notebook>=4.4.1->widgetsnbextension~=3.5.0->ipywidgets) (1.1.1)\n",
            "Requirement already satisfied: packaging in /usr/local/lib/python3.7/dist-packages (from bleach->nbconvert->notebook>=4.4.1->widgetsnbextension~=3.5.0->ipywidgets) (20.9)\n",
            "Requirement already satisfied: webencodings in /usr/local/lib/python3.7/dist-packages (from bleach->nbconvert->notebook>=4.4.1->widgetsnbextension~=3.5.0->ipywidgets) (0.5.1)\n",
            "Requirement already satisfied: pyparsing>=2.0.2 in /usr/local/lib/python3.7/dist-packages (from packaging->bleach->nbconvert->notebook>=4.4.1->widgetsnbextension~=3.5.0->ipywidgets) (2.4.7)\n"
          ],
          "name": "stdout"
        }
      ]
    },
    {
      "cell_type": "code",
      "metadata": {
        "colab": {
          "base_uri": "https://localhost:8080/"
        },
        "id": "4aJvQMvsuzuy",
        "outputId": "f7214142-7971-46fc-f370-e52341e40cd3"
      },
      "source": [
        "from google.colab import drive\r\n",
        "drive.mount('/gdrive')\r\n",
        "%cd /gdrive"
      ],
      "execution_count": 8,
      "outputs": [
        {
          "output_type": "stream",
          "text": [
            "Drive already mounted at /gdrive; to attempt to forcibly remount, call drive.mount(\"/gdrive\", force_remount=True).\n",
            "/gdrive\n"
          ],
          "name": "stdout"
        }
      ]
    },
    {
      "cell_type": "code",
      "metadata": {
        "colab": {
          "base_uri": "https://localhost:8080/"
        },
        "id": "3e94670wvJOL",
        "outputId": "e0338f86-0b5f-4526-9b2a-c6b4f1a45c29"
      },
      "source": [
        "%ls -ltr '/gdrive/MyDrive/Fiji.app/ImageJ-linux64'"
      ],
      "execution_count": 9,
      "outputs": [
        {
          "output_type": "stream",
          "text": [
            "-rw------- 1 root root 90243 Feb 27 18:15 /gdrive/MyDrive/Fiji.app/ImageJ-linux64\n"
          ],
          "name": "stdout"
        }
      ]
    },
    {
      "cell_type": "code",
      "metadata": {
        "colab": {
          "base_uri": "https://localhost:8080/"
        },
        "id": "EPoWLA76msQ4",
        "outputId": "124ddca0-24e4-47eb-8211-ade1e6d88c4f"
      },
      "source": [
        "!pip install itk\r\n",
        "\r\n",
        "#!~/sitkpy/bin/pip install ITK"
      ],
      "execution_count": 10,
      "outputs": [
        {
          "output_type": "stream",
          "text": [
            "Collecting itk\n",
            "  Downloading https://files.pythonhosted.org/packages/3e/0e/13b23943e30281de56d49b9dba4b1e5278078655405d466ae429c141da09/itk-5.1.2-cp37-cp37m-manylinux1_x86_64.whl\n",
            "Collecting itk-segmentation==5.1.2\n",
            "\u001b[?25l  Downloading https://files.pythonhosted.org/packages/fd/9b/958de177ee6460d5fa210a8126d3af96947ad365473024a3d20309eda8a1/itk_segmentation-5.1.2-cp37-cp37m-manylinux1_x86_64.whl (10.3MB)\n",
            "\u001b[K     |████████████████████████████████| 10.3MB 2.6MB/s \n",
            "\u001b[?25hCollecting itk-numerics==5.1.2\n",
            "\u001b[?25l  Downloading https://files.pythonhosted.org/packages/10/c3/476b9c06b0003c509cb9f8da947f90dffd23700b72d36b5589c65d17c60f/itk_numerics-5.1.2-cp37-cp37m-manylinux1_x86_64.whl (36.3MB)\n",
            "\u001b[K     |████████████████████████████████| 36.3MB 89kB/s \n",
            "\u001b[?25hCollecting itk-registration==5.1.2\n",
            "\u001b[?25l  Downloading https://files.pythonhosted.org/packages/27/7a/7fde6cd47ddb5cb9f065313d26507cd723c6c4c3763e28875b1a19f718bf/itk_registration-5.1.2-cp37-cp37m-manylinux1_x86_64.whl (14.4MB)\n",
            "\u001b[K     |████████████████████████████████| 14.4MB 340kB/s \n",
            "\u001b[?25hCollecting itk-core==5.1.2\n",
            "\u001b[?25l  Downloading https://files.pythonhosted.org/packages/45/58/c4298e4470dc0d91900efb29a762de44da7f8051d7428476aa22eb1dfd24/itk_core-5.1.2-cp37-cp37m-manylinux1_x86_64.whl (50.1MB)\n",
            "\u001b[K     |████████████████████████████████| 50.1MB 79kB/s \n",
            "\u001b[?25hCollecting itk-filtering==5.1.2\n",
            "\u001b[?25l  Downloading https://files.pythonhosted.org/packages/27/a4/3ef76dff4b91059cbb0a4b38221e4030a9476daa4f9f783e05300a46d9c0/itk_filtering-5.1.2-cp37-cp37m-manylinux1_x86_64.whl (68.0MB)\n",
            "\u001b[K     |████████████████████████████████| 68.0MB 60kB/s \n",
            "\u001b[?25hCollecting itk-io==5.1.2\n",
            "\u001b[?25l  Downloading https://files.pythonhosted.org/packages/1f/cf/d3d0c450e8ca2f265e34e66ab0c9af35d9c5e5c40a8653a12ebc672ddac6/itk_io-5.1.2-cp37-cp37m-manylinux1_x86_64.whl (14.0MB)\n",
            "\u001b[K     |████████████████████████████████| 14.0MB 340kB/s \n",
            "\u001b[?25hRequirement already satisfied: numpy in /usr/local/lib/python3.7/dist-packages (from itk) (1.19.5)\n",
            "Installing collected packages: itk-core, itk-numerics, itk-filtering, itk-segmentation, itk-registration, itk-io, itk\n",
            "Successfully installed itk-5.1.2 itk-core-5.1.2 itk-filtering-5.1.2 itk-io-5.1.2 itk-numerics-5.1.2 itk-registration-5.1.2 itk-segmentation-5.1.2\n"
          ],
          "name": "stdout"
        }
      ]
    },
    {
      "cell_type": "code",
      "metadata": {
        "colab": {
          "base_uri": "https://localhost:8080/"
        },
        "id": "NCecKYAQvW75",
        "outputId": "fe0aceda-f969-4ebb-f34e-7970f9549d03"
      },
      "source": [
        "!echo $PATH"
      ],
      "execution_count": 11,
      "outputs": [
        {
          "output_type": "stream",
          "text": [
            "/usr/local/nvidia/bin:/usr/local/cuda/bin:/usr/local/sbin:/usr/local/bin:/usr/sbin:/usr/bin:/sbin:/bin:/tools/node/bin:/tools/google-cloud-sdk/bin:/opt/bin\n"
          ],
          "name": "stdout"
        }
      ]
    },
    {
      "cell_type": "code",
      "metadata": {
        "colab": {
          "base_uri": "https://localhost:8080/"
        },
        "id": "HLwABwchvZyQ",
        "outputId": "09f8c267-dce7-427c-9e20-21a25d8ffe96"
      },
      "source": [
        "import os\r\n",
        "#os.environ['PYTHONPATH'] += \":/content/gdrive/My Drive/Colab Notebooks/MNIST_Classifier/src\"\r\n",
        "os.environ['PATH'] += \":/content/gdrive/My Drive/Fiji.app\"\r\n",
        "! echo $PATH"
      ],
      "execution_count": 12,
      "outputs": [
        {
          "output_type": "stream",
          "text": [
            "/usr/local/nvidia/bin:/usr/local/cuda/bin:/usr/local/sbin:/usr/local/bin:/usr/sbin:/usr/bin:/sbin:/bin:/tools/node/bin:/tools/google-cloud-sdk/bin:/opt/bin:/content/gdrive/My Drive/Fiji.app\n"
          ],
          "name": "stdout"
        }
      ]
    },
    {
      "cell_type": "code",
      "metadata": {
        "colab": {
          "base_uri": "https://localhost:8080/"
        },
        "id": "xRoYeHWZvpHv",
        "outputId": "44fd0dbc-93e2-47c1-bff0-bedba2f22392"
      },
      "source": [
        "cd '/gdrive/MyDrive/SimpleITK-Notebooks/Python'"
      ],
      "execution_count": 13,
      "outputs": [
        {
          "output_type": "stream",
          "text": [
            "/gdrive/MyDrive/SimpleITK-Notebooks/Python\n"
          ],
          "name": "stdout"
        }
      ]
    },
    {
      "cell_type": "code",
      "metadata": {
        "colab": {
          "base_uri": "https://localhost:8080/"
        },
        "id": "DavE8JA9vfGP",
        "outputId": "cef0c98b-68ba-4834-b2f1-2f5314ae834a"
      },
      "source": [
        "import SimpleITK as sitk\r\n",
        "\r\n",
        "%run update_path_to_download_script\r\n",
        "from downloaddata import fetch_data, fetch_data_all\r\n",
        "\r\n",
        "from ipywidgets import interact\r\n",
        "\r\n",
        "print(sitk.Version())"
      ],
      "execution_count": 14,
      "outputs": [
        {
          "output_type": "stream",
          "text": [
            "SimpleITK Version: 2.0.2 (ITK 5.1)\n",
            "Compiled: Dec  1 2020 22:01:03\n",
            "\n"
          ],
          "name": "stdout"
        }
      ]
    },
    {
      "cell_type": "code",
      "metadata": {
        "colab": {
          "base_uri": "https://localhost:8080/"
        },
        "id": "FTXVQciyoKvh",
        "outputId": "155e06d4-f1e5-4b94-9e90-9e898f6e5ace"
      },
      "source": [
        "cd /usr/local/"
      ],
      "execution_count": 15,
      "outputs": [
        {
          "output_type": "stream",
          "text": [
            "/usr/local\n"
          ],
          "name": "stdout"
        }
      ]
    },
    {
      "cell_type": "code",
      "metadata": {
        "id": "deJq4jlhNH4D"
      },
      "source": [
        "import shutil"
      ],
      "execution_count": 16,
      "outputs": []
    },
    {
      "cell_type": "code",
      "metadata": {
        "colab": {
          "base_uri": "https://localhost:8080/"
        },
        "id": "IXEeK9p3Nxw2",
        "outputId": "5e1eb17d-4ca2-40f1-ff01-339972cbdbd4"
      },
      "source": [
        "%ls /gdrive/MyDrive/"
      ],
      "execution_count": 17,
      "outputs": [
        {
          "output_type": "stream",
          "text": [
            "\u001b[0m\u001b[01;34m'Colab Notebooks'\u001b[0m/                      \u001b[01;34mSimpleITK_ISBI2020_TUTORIAL\u001b[0m/\n",
            " \u001b[01;34mFiji.app\u001b[0m/                              SimpleITK.jpg\n",
            " fiji-linux64-20170530.zip              \u001b[01;34mSimpleITK-Notebooks\u001b[0m/\n",
            " \u001b[01;34mMyNiftyRec\u001b[0m/                            unnamed.png\n",
            " \u001b[01;34mMyTomoLab\u001b[0m/                            'Untitled project.gscript'\n",
            " pyjnius-1.2.0-py37h90b5fae_0.tar.bz2\n"
          ],
          "name": "stdout"
        }
      ]
    },
    {
      "cell_type": "code",
      "metadata": {
        "colab": {
          "base_uri": "https://localhost:8080/",
          "height": 35
        },
        "id": "SYIjTMImNL_i",
        "outputId": "dfaadc7f-40c2-493f-8199-a8036165fdb5"
      },
      "source": [
        "shutil.copyfile('/gdrive/MyDrive/fiji-linux64-20170530.zip', '/usr/local/fiji-linux64-20170530.zip')"
      ],
      "execution_count": 18,
      "outputs": [
        {
          "output_type": "execute_result",
          "data": {
            "application/vnd.google.colaboratory.intrinsic+json": {
              "type": "string"
            },
            "text/plain": [
              "'/usr/local/fiji-linux64-20170530.zip'"
            ]
          },
          "metadata": {
            "tags": []
          },
          "execution_count": 18
        }
      ]
    },
    {
      "cell_type": "code",
      "metadata": {
        "colab": {
          "base_uri": "https://localhost:8080/"
        },
        "id": "LL9jXhvYOFj6",
        "outputId": "dfd13016-940f-4ae0-d99b-033964bc4876"
      },
      "source": [
        "cd /usr/local"
      ],
      "execution_count": 19,
      "outputs": [
        {
          "output_type": "stream",
          "text": [
            "/usr/local\n"
          ],
          "name": "stdout"
        }
      ]
    },
    {
      "cell_type": "code",
      "metadata": {
        "colab": {
          "base_uri": "https://localhost:8080/"
        },
        "id": "KfItb5HPpSHW",
        "outputId": "8948617b-73a5-4503-f2f3-516892f43a01"
      },
      "source": [
        "!unzip ./fiji-linux64-20170530.zip"
      ],
      "execution_count": 20,
      "outputs": [
        {
          "output_type": "stream",
          "text": [
            "Archive:  ./fiji-linux64-20170530.zip\n",
            "  inflating: Fiji.app/db.xml.gz      \n",
            "  inflating: Fiji.app/Contents/Info.plist  \n",
            "  inflating: Fiji.app/Contents/Resources/Fiji.icns  \n",
            "  inflating: Fiji.app/Contents/Resources/ImageJ.icns  \n",
            "  inflating: Fiji.app/ImageJ-linux64  \n",
            "  inflating: Fiji.app/plugins/3D_Blob_Segmentation-3.0.0.jar  \n",
            "  inflating: Fiji.app/plugins/3D_Objects_Counter-2.0.0.jar  \n",
            "  inflating: Fiji.app/plugins/3D_Viewer-4.0.1.jar  \n",
            "  inflating: Fiji.app/plugins/Algorithm_Launcher.jar  \n",
            "  inflating: Fiji.app/plugins/Analyze/Dynamic_ROI_Profiler.clj  \n",
            "  inflating: Fiji.app/plugins/Analyze/Measure_RGB.txt  \n",
            "  inflating: Fiji.app/plugins/AnalyzeSkeleton_-3.1.2.jar  \n",
            "  inflating: Fiji.app/plugins/Anisotropic_Diffusion_2D-2.0.0.jar  \n",
            "  inflating: Fiji.app/plugins/Archipelago_Plugins-0.5.2.jar  \n",
            "  inflating: Fiji.app/plugins/Arrow_-2.0.1.jar  \n",
            "  inflating: Fiji.app/plugins/Auto_Threshold-1.16.4.jar  \n",
            "  inflating: Fiji.app/plugins/BalloonSegmentation_-3.0.0.jar  \n",
            "  inflating: Fiji.app/plugins/BeanShell_Interpreter-2.0.0-SNAPSHOT.jar  \n",
            "  inflating: Fiji.app/plugins/Bug_Submitter-2.1.0.jar  \n",
            "  inflating: Fiji.app/plugins/CLI_-2.0.0-SNAPSHOT.jar  \n",
            "  inflating: Fiji.app/plugins/CPU_Meter-2.0.0.jar  \n",
            "  inflating: Fiji.app/plugins/Calculator_Plus-2.0.0.jar  \n",
            "  inflating: Fiji.app/plugins/Cell_Counter-2.2.1.jar  \n",
            "  inflating: Fiji.app/plugins/Clojure_Interpreter-2.0.0-SNAPSHOT.jar  \n",
            "  inflating: Fiji.app/plugins/Colocalisation_Analysis-3.0.0.jar  \n",
            "  inflating: Fiji.app/plugins/Color_Histogram-2.0.6.jar  \n",
            "  inflating: Fiji.app/plugins/Color_Inspector_3D-2.3.1.jar  \n",
            "  inflating: Fiji.app/plugins/Colour_Deconvolution-3.0.1.jar  \n",
            "  inflating: Fiji.app/plugins/CorrectBleach_-2.0.1.jar  \n",
            "  inflating: Fiji.app/plugins/Correct_3D_Drift-1.0.0.jar  \n",
            "  inflating: Fiji.app/plugins/Descriptor_based_registration-2.1.1.jar  \n",
            "  inflating: Fiji.app/plugins/Dichromacy_-2.1.0.jar  \n",
            "  inflating: Fiji.app/plugins/Directionality_-2.0.1.jar  \n",
            "  inflating: Fiji.app/plugins/Examples/Add_Popup_Split_Channels.bsh  \n",
            "  inflating: Fiji.app/plugins/Examples/Anaglyph_for_Red_Cyan_glasses.rb  \n",
            "  inflating: Fiji.app/plugins/Examples/Blobs_Demo_in_Ruby.rb  \n",
            "  inflating: Fiji.app/plugins/Examples/Command_Launchers/Command_Launcher_BeanShell.bsh  \n",
            "  inflating: Fiji.app/plugins/Examples/Command_Launchers/Command_Launcher_Clojure.clj  \n",
            "  inflating: Fiji.app/plugins/Examples/Command_Launchers/Command_Launcher_Javascript.js  \n",
            "  inflating: Fiji.app/plugins/Examples/Command_Launchers/Command_Launcher_Python.py  \n",
            "  inflating: Fiji.app/plugins/Examples/Command_Launchers/Command_Launcher_Ruby.rb  \n",
            "  inflating: Fiji.app/plugins/Examples/CoverMaker/Cover_Maker.py  \n",
            "  inflating: Fiji.app/plugins/Examples/CoverMaker/Prepare_Cover_Maker_Database.py  \n",
            "  inflating: Fiji.app/plugins/Examples/Delayed_Snapshot.py  \n",
            "  inflating: Fiji.app/plugins/Examples/Delayed_Snapshot_Window.bsh  \n",
            "  inflating: Fiji.app/plugins/Examples/Edit_LUT_As_Text.py  \n",
            "  inflating: Fiji.app/plugins/Examples/Extended_Profile_Plot.bsh  \n",
            "  inflating: Fiji.app/plugins/Examples/Fiji_Cube.ijm  \n",
            "  inflating: Fiji.app/plugins/Examples/Fiji_Logo_3D.js  \n",
            "  inflating: Fiji.app/plugins/Examples/Find_Dimension_of_Raw_Image.py  \n",
            "  inflating: Fiji.app/plugins/Examples/Image_To_Tool_Icon.bsh  \n",
            "  inflating: Fiji.app/plugins/Examples/Multithreaded_Image_Processing.clj  \n",
            "  inflating: Fiji.app/plugins/Examples/Multithreaded_Image_Processing_in_Javascript.js  \n",
            "  inflating: Fiji.app/plugins/Examples/Plasma_Cloud.rb  \n",
            "  inflating: Fiji.app/plugins/Examples/Same_Slice_in_Multiple_Images.rb  \n",
            "  inflating: Fiji.app/plugins/Examples/The_Hue_Game.bsh  \n",
            "  inflating: Fiji.app/plugins/Examples/TrakEM2_Example_Scripts/Homogenize_Ball_Radius.py  \n",
            "  inflating: Fiji.app/plugins/Examples/TrakEM2_Example_Scripts/Measure_AreaLists.py  \n",
            "  inflating: Fiji.app/plugins/Examples/TrakEM2_Example_Scripts/T2_Select_All.py  \n",
            "  inflating: Fiji.app/plugins/Examples/TrakEM2_Example_Scripts/T2_set_all_transforms_to_identity.py  \n",
            "  inflating: Fiji.app/plugins/Examples/TrakEM2_Example_Scripts/extract_stack_under_arealist.py  \n",
            "  inflating: Fiji.app/plugins/Examples/blend_two_images.clj  \n",
            "  inflating: Fiji.app/plugins/Examples/celsius_to_fahrenheit.clj  \n",
            "  inflating: Fiji.app/plugins/Examples/chess_.py  \n",
            "  inflating: Fiji.app/plugins/Examples/compose_rgb-stacks.bsh  \n",
            "  inflating: Fiji.app/plugins/Examples/downsample_.js  \n",
            "  inflating: Fiji.app/plugins/Examples/list_all_threads.py  \n",
            "  inflating: Fiji.app/plugins/Examples/random_noise_example.clj  \n",
            "  inflating: Fiji.app/plugins/FS_Align_TrakEM2-2.0.1.jar  \n",
            "  inflating: Fiji.app/plugins/Feature_Detection-2.0.1.jar  \n",
            "  inflating: Fiji.app/plugins/Fiji_Archipelago-2.0.0.jar  \n",
            "  inflating: Fiji.app/plugins/Fiji_Developer-2.0.5.jar  \n",
            "  inflating: Fiji.app/plugins/Fiji_Package_Maker-2.1.0.jar  \n",
            "  inflating: Fiji.app/plugins/Fiji_Plugins-3.1.0.jar  \n",
            "  inflating: Fiji.app/plugins/Fiji_Updater.jar  \n",
            "  inflating: Fiji.app/plugins/FlowJ_-1.29.2.jar  \n",
            "  inflating: Fiji.app/plugins/Graph_Cut-1.0.1.jar  \n",
            "  inflating: Fiji.app/plugins/Gray_Morphology-2.3.3.jar  \n",
            "  inflating: Fiji.app/plugins/H5J_Loader_Plugin-1.0.6.jar  \n",
            "  inflating: Fiji.app/plugins/Helmholtz_Analysis-2.0.1.jar  \n",
            "  inflating: Fiji.app/plugins/IJ_Robot-2.0.0.jar  \n",
            "  inflating: Fiji.app/plugins/IO_-3.0.1.jar  \n",
            "  inflating: Fiji.app/plugins/Image_5D-2.0.1.jar  \n",
            "  inflating: Fiji.app/plugins/Image_Expression_Parser-3.0.0.jar  \n",
            "  inflating: Fiji.app/plugins/Interactive_3D_Surface_Plot-2.4.1.jar  \n",
            "  inflating: Fiji.app/plugins/IsoData_Classifier-2.0.0.jar  \n",
            "  inflating: Fiji.app/plugins/JRuby/imagej.rb  \n",
            "  inflating: Fiji.app/plugins/JRuby_Interpreter-2.0.0-SNAPSHOT.jar  \n",
            "  inflating: Fiji.app/plugins/Javascript_-2.0.0-SNAPSHOT.jar  \n",
            "  inflating: Fiji.app/plugins/Jython_Interpreter-2.0.0-SNAPSHOT.jar  \n",
            "  inflating: Fiji.app/plugins/Kuwahara_Filter-2.0.0.jar  \n",
            "  inflating: Fiji.app/plugins/KymographBuilder-1.2.3.jar  \n",
            "  inflating: Fiji.app/plugins/LSM_Reader-4.1.1.jar  \n",
            "  inflating: Fiji.app/plugins/LSM_Toolbox-4.1.1.jar  \n",
            "  inflating: Fiji.app/plugins/Lasso_and_Blow_Tool-2.0.1.jar  \n",
            "  inflating: Fiji.app/plugins/Linear_Kuwahara-2.0.0.jar  \n",
            "  inflating: Fiji.app/plugins/LocalThickness_-4.0.1.jar  \n",
            "  inflating: Fiji.app/plugins/MTrack2_-2.0.0.jar  \n",
            "  inflating: Fiji.app/plugins/M_I_P-2.0.0.jar  \n",
            "  inflating: Fiji.app/plugins/Macros/About_Plugin_Macros.txt  \n",
            "  inflating: Fiji.app/plugins/Macros/Bulls_Eye.txt  \n",
            "  inflating: Fiji.app/plugins/Macros/Polygon_.txt  \n",
            "  inflating: Fiji.app/plugins/Macros/RGB_Histogram.txt  \n",
            "  inflating: Fiji.app/plugins/Macros/batch_convert_any_to_tif.txt  \n",
            "  inflating: Fiji.app/plugins/Manual_Tracking-2.1.0.jar  \n",
            "  inflating: Fiji.app/plugins/Multi_Kymograph-3.0.0.jar  \n",
            "  inflating: Fiji.app/plugins/PIV_analyser-1.1.1.jar  \n",
            "  inflating: Fiji.app/plugins/QuickPALM_-1.1.1.jar  \n",
            "  inflating: Fiji.app/plugins/RATS_-2.0.0.jar  \n",
            "  inflating: Fiji.app/plugins/Reconstruct_Reader-2.0.2.jar  \n",
            "  inflating: Fiji.app/plugins/Refresh_Javas-2.0.0-SNAPSHOT.jar  \n",
            "  inflating: Fiji.app/plugins/SPIM_Opener-2.0.1.jar  \n",
            "  inflating: Fiji.app/plugins/SPIM_Registration-5.0.13.jar  \n",
            "  inflating: Fiji.app/plugins/Samples_-2.0.1.jar  \n",
            "  inflating: Fiji.app/plugins/Scripts/File/Fix_Funny_Filenames.ijm  \n",
            "  inflating: Fiji.app/plugins/Scripts/File/Make_Screencast.bsh  \n",
            "  inflating: Fiji.app/plugins/Scripts/File/Open_Samples/Adelsons_Squares.ijm  \n",
            "  inflating: Fiji.app/plugins/Scripts/File/Open_Samples/Comparing_Lengths.ijm  \n",
            "  inflating: Fiji.app/plugins/Scripts/File/Open_Samples/Spirals_.ijm  \n",
            "  inflating: Fiji.app/plugins/Scripts/File/Open_Samples/Straight_Lines.ijm  \n",
            "  inflating: Fiji.app/plugins/Scripts/File/Open_Samples/Striped_Circles.ijm  \n",
            "  inflating: Fiji.app/plugins/Scripts/Image/Adjust/Scale_to_DPI.js  \n",
            "  inflating: Fiji.app/plugins/Scripts/Image/Color/Set_Color_By_Wavelength.ijm  \n",
            "  inflating: Fiji.app/plugins/Scripts/Image/Hyperstacks/Temporal-Color_Code.ijm  \n",
            "  inflating: Fiji.app/plugins/Scripts/Plugins/Utilities/Create_Desktop_Icon.bsh  \n",
            "  inflating: Fiji.app/plugins/Scripts/Plugins/Utilities/Find_Jar_For_Class.bsh  \n",
            "  inflating: Fiji.app/plugins/Scripts/Plugins/Utilities/Record_Desktop.py  \n",
            "  inflating: Fiji.app/plugins/Scripts/Plugins/Utilities/Record_Window.py  \n",
            "  inflating: Fiji.app/plugins/Series_Labeler-2.0.0.jar  \n",
            "  inflating: Fiji.app/plugins/Sholl_Analysis-3.6.13.jar  \n",
            "  inflating: Fiji.app/plugins/Simple_Neurite_Tracer-3.1.1.jar  \n",
            "  inflating: Fiji.app/plugins/Siox_Segmentation-1.0.4.jar  \n",
            "  inflating: Fiji.app/plugins/Skeletonize3D_-2.1.0.jar  \n",
            "  inflating: Fiji.app/plugins/SplineDeformationGenerator_-2.0.0.jar  \n",
            "  inflating: Fiji.app/plugins/Stack_Manipulation-2.0.1.jar  \n",
            "  inflating: Fiji.app/plugins/Statistical_Region_Merging-2.0.0.jar  \n",
            "  inflating: Fiji.app/plugins/Stitching_-3.1.1.jar  \n",
            "  inflating: Fiji.app/plugins/Sync_Win-1.7-fiji3.jar  \n",
            "  inflating: Fiji.app/plugins/Thread_Killer-2.0.0.jar  \n",
            "  inflating: Fiji.app/plugins/Time_Lapse-2.0.1.jar  \n",
            "  inflating: Fiji.app/plugins/Time_Stamper-2.0.0.jar  \n",
            "  inflating: Fiji.app/plugins/ToAST_-25.0.1.jar  \n",
            "  inflating: Fiji.app/plugins/TopoJ_-2.0.0.jar  \n",
            "  inflating: Fiji.app/plugins/TrackMate_-3.4.2.jar  \n",
            "  inflating: Fiji.app/plugins/Trainable_Segmentation-3.2.11.jar  \n",
            "  inflating: Fiji.app/plugins/TrakEM2_-1.0h.jar  \n",
            "  inflating: Fiji.app/plugins/TrakEM2_Archipelago-2.0.1.jar  \n",
            "  inflating: Fiji.app/plugins/Utilities/Close_All_Without_Saving.txt  \n",
            "  inflating: Fiji.app/plugins/VIB_-3.0.1.jar  \n",
            "  inflating: Fiji.app/plugins/Vaa3d_Reader-2.0.1.jar  \n",
            "  inflating: Fiji.app/plugins/Vaa3d_Writer-1.0.1.jar  \n",
            "  inflating: Fiji.app/plugins/Video_Editing-2.0.0.jar  \n",
            "  inflating: Fiji.app/plugins/View5D_-1.3.1.jar  \n",
            "  inflating: Fiji.app/plugins/Volume_Calculator-2.0.1.jar  \n",
            "  inflating: Fiji.app/plugins/Volume_Viewer-2.01.1.jar  \n",
            "  inflating: Fiji.app/plugins/bUnwarpJ_-2.6.8.jar  \n",
            "  inflating: Fiji.app/plugins/bigdataviewer_fiji-3.0.0.jar  \n",
            "  inflating: Fiji.app/plugins/bigwarp_fiji-2.1.5.jar  \n",
            "  inflating: Fiji.app/plugins/bio-formats_plugins-5.5.1.jar  \n",
            "  inflating: Fiji.app/plugins/blockmatching_-2.1.1.jar  \n",
            "  inflating: Fiji.app/plugins/ij-ImageIO_.jar  \n",
            "  inflating: Fiji.app/plugins/level_sets-1.0.1.jar  \n",
            "  inflating: Fiji.app/plugins/mpicbg_-1.1.1.jar  \n",
            "  inflating: Fiji.app/plugins/panorama_-3.0.1.jar  \n",
            "  inflating: Fiji.app/plugins/readme.txt  \n",
            "  inflating: Fiji.app/plugins/register_virtual_stack_slices-3.0.1.jar  \n",
            "  inflating: Fiji.app/plugins/registration_3d-2.0.0.jar  \n",
            "  inflating: Fiji.app/plugins/trakem2_tps-1.1.2.jar  \n",
            "  inflating: Fiji.app/plugins/z_spacing-0.0.1-SNAPSHOT.jar  \n",
            "  inflating: Fiji.app/jars/JWlz-1.4.0.jar  \n",
            "  inflating: Fiji.app/jars/T2-NIT-1.1.1.jar  \n",
            "  inflating: Fiji.app/jars/T2-TreelineGraph-1.1.1.jar  \n",
            "  inflating: Fiji.app/jars/VIB-lib-2.1.1.jar  \n",
            "  inflating: Fiji.app/jars/VectorString-2.0.0.jar  \n",
            "  inflating: Fiji.app/jars/ahocorasick-0.2.4.jar  \n",
            "  inflating: Fiji.app/jars/ant-junit.jar  \n",
            "  inflating: Fiji.app/jars/ant-launcher.jar  \n",
            "  inflating: Fiji.app/jars/ant-nodeps.jar  \n",
            "  inflating: Fiji.app/jars/ant.jar   \n",
            "  inflating: Fiji.app/jars/args4j-2.0.25.jar  \n",
            "  inflating: Fiji.app/jars/asm-4.0.jar  \n",
            "  inflating: Fiji.app/jars/asm-analysis-4.0.jar  \n",
            "  inflating: Fiji.app/jars/asm-commons-4.0.jar  \n",
            "  inflating: Fiji.app/jars/asm-tree-4.0.jar  \n",
            "  inflating: Fiji.app/jars/asm-util-4.0.jar  \n",
            "  inflating: Fiji.app/jars/autocomplete-2.5.8.jar  \n",
            "  inflating: Fiji.app/jars/base64-2.3.8.jar  \n",
            "  inflating: Fiji.app/jars/batik-1.8.jar  \n",
            "  inflating: Fiji.app/jars/batik-anim-1.8.jar  \n",
            "  inflating: Fiji.app/jars/batik-awt-util-1.8.jar  \n",
            "  inflating: Fiji.app/jars/batik-bridge-1.8.jar  \n",
            "  inflating: Fiji.app/jars/batik-css-1.8.jar  \n",
            "  inflating: Fiji.app/jars/batik-dom-1.8.jar  \n",
            "  inflating: Fiji.app/jars/batik-ext-1.8.jar  \n",
            "  inflating: Fiji.app/jars/batik-gvt-1.8.jar  \n",
            "  inflating: Fiji.app/jars/batik-parser-1.8.jar  \n",
            "  inflating: Fiji.app/jars/batik-script-1.8.jar  \n",
            "  inflating: Fiji.app/jars/batik-svg-dom-1.8.jar  \n",
            "  inflating: Fiji.app/jars/batik-svggen-1.8.jar  \n",
            "  inflating: Fiji.app/jars/batik-util-1.8.jar  \n",
            "  inflating: Fiji.app/jars/batik-xml-1.8.jar  \n",
            "  inflating: Fiji.app/jars/bcmail-jdk14-138.jar  \n",
            "  inflating: Fiji.app/jars/bcprov-jdk14-138.jar  \n",
            "  inflating: Fiji.app/jars/bigdataviewer-core-3.0.3.jar  \n",
            "  inflating: Fiji.app/jars/bigdataviewer-vistools-1.0.0-beta-4.jar  \n",
            "  inflating: Fiji.app/jars/bio-formats/formats-api-5.5.1.jar  \n",
            "  inflating: Fiji.app/jars/bio-formats/formats-bsd-5.5.1.jar  \n",
            "  inflating: Fiji.app/jars/bio-formats/formats-common-5.1.10.jar  \n",
            "  inflating: Fiji.app/jars/bio-formats/formats-gpl-5.5.1.jar  \n",
            "  inflating: Fiji.app/jars/bio-formats/jai_imageio-5.5.1.jar  \n",
            "  inflating: Fiji.app/jars/bio-formats/jxrlib-all-0.2.1.jar  \n",
            "  inflating: Fiji.app/jars/bio-formats/mdbtools-java-5.1.10.jar  \n",
            "  inflating: Fiji.app/jars/bio-formats/metakit-5.3.0.jar  \n",
            "  inflating: Fiji.app/jars/bio-formats/ome-common-5.3.1.jar  \n",
            "  inflating: Fiji.app/jars/bio-formats/ome-mdbtools-5.3.0.jar  \n",
            "  inflating: Fiji.app/jars/bio-formats/ome-poi-5.3.1.jar  \n",
            "  inflating: Fiji.app/jars/bio-formats/ome-xml-5.4.0.jar  \n",
            "  inflating: Fiji.app/jars/bio-formats/specification-5.4.0.jar  \n",
            "  inflating: Fiji.app/jars/bio-formats/turbojpeg-5.5.1.jar  \n",
            "  inflating: Fiji.app/jars/blas-0.8.jar  \n",
            "  inflating: Fiji.app/jars/bsh-2.0b6.jar  \n",
            "  inflating: Fiji.app/jars/bytelist-1.0.11.jar  \n",
            "  inflating: Fiji.app/jars/clojure-1.8.0.jar  \n",
            "  inflating: Fiji.app/jars/codemodel-2.6.jar  \n",
            "  inflating: Fiji.app/jars/collections-generic-4.01.jar  \n",
            "  inflating: Fiji.app/jars/commons-codec-1.8.jar  \n",
            "  inflating: Fiji.app/jars/commons-compress-1.4.1.jar  \n",
            "  inflating: Fiji.app/jars/commons-lang3-3.1.jar  \n",
            "  inflating: Fiji.app/jars/commons-logging-1.1.1.jar  \n",
            "  inflating: Fiji.app/jars/commons-math-2.2.jar  \n",
            "  inflating: Fiji.app/jars/commons-math3-3.6.1.jar  \n",
            "  inflating: Fiji.app/jars/commons-vfs2-2.0.jar  \n",
            "  inflating: Fiji.app/jars/datasets-0.8.1906.jar  \n",
            "  inflating: Fiji.app/jars/ejml-0.24.jar  \n",
            "  inflating: Fiji.app/jars/eventbus-1.4.jar  \n",
            "  inflating: Fiji.app/jars/f2jutil-0.8.jar  \n",
            "  inflating: Fiji.app/jars/fake-2.0.0-SNAPSHOT.jar  \n",
            "  inflating: Fiji.app/jars/ffmpeg-2.6.1-0.11.jar  \n",
            "  inflating: Fiji.app/jars/fiji-2.0.0-SNAPSHOT.jar  \n",
            "  inflating: Fiji.app/jars/fiji-compat-2.0.2.jar  \n",
            "  inflating: Fiji.app/jars/fiji-lib-2.1.1.jar  \n",
            "  inflating: Fiji.app/jars/fiji-scripting-2.0.0-SNAPSHOT.jar  \n",
            "  inflating: Fiji.app/jars/filters-2.0.235.jar  \n",
            "  inflating: Fiji.app/jars/gcc-runtime-0.8.1906.jar  \n",
            "  inflating: Fiji.app/jars/gentyref-1.1.0.jar  \n",
            "  inflating: Fiji.app/jars/gluegen-rt-2.3.2.jar  \n",
            "  inflating: Fiji.app/jars/gluegen-rt-main-2.3.2.jar  \n",
            "  inflating: Fiji.app/jars/grDevices-0.8.1906.jar  \n",
            "  inflating: Fiji.app/jars/graphics-0.8.1906.jar  \n",
            "  inflating: Fiji.app/jars/groovy-2.3.6.jar  \n",
            "  inflating: Fiji.app/jars/gson-2.7.jar  \n",
            "  inflating: Fiji.app/jars/guava-19.0.jar  \n",
            "  inflating: Fiji.app/jars/hamcrest-core-1.3.jar  \n",
            "  inflating: Fiji.app/jars/ij-1.51n.jar  \n",
            "  inflating: Fiji.app/jars/ij1-patcher-0.12.5.jar  \n",
            "  inflating: Fiji.app/jars/image4j-0.7.jar  \n",
            "  inflating: Fiji.app/jars/imagej-2.0.0-rc-59.jar  \n",
            "  inflating: Fiji.app/jars/imagej-common-0.24.3.jar  \n",
            "  inflating: Fiji.app/jars/imagej-deprecated-0.1.1.jar  \n",
            "  inflating: Fiji.app/jars/imagej-launcher-4.0.5.jar  \n",
            "  inflating: Fiji.app/jars/imagej-legacy-0.23.5.jar  \n",
            "  inflating: Fiji.app/jars/imagej-notebook-0.2.1.jar  \n",
            "  inflating: Fiji.app/jars/imagej-ops-0.36.0.jar  \n",
            "  inflating: Fiji.app/jars/imagej-plugins-commands-0.7.0.jar  \n",
            "  inflating: Fiji.app/jars/imagej-plugins-tools-0.3.0.jar  \n",
            "  inflating: Fiji.app/jars/imagej-plugins-uploader-ssh-0.3.1.jar  \n",
            "  inflating: Fiji.app/jars/imagej-plugins-uploader-webdav-0.2.1.jar  \n",
            "  inflating: Fiji.app/jars/imagej-scripting-0.5.1.jar  \n",
            "  inflating: Fiji.app/jars/imagej-ui-awt-0.3.0.jar  \n",
            "  inflating: Fiji.app/jars/imagej-ui-swing-0.21.1.jar  \n",
            "  inflating: Fiji.app/jars/imagej-updater-0.8.2.jar  \n",
            "  inflating: Fiji.app/jars/imglib2-3.2.1.jar  \n",
            "  inflating: Fiji.app/jars/imglib2-algorithm-0.6.2.jar  \n",
            "  inflating: Fiji.app/jars/imglib2-algorithm-fft-0.1.2.jar  \n",
            "  inflating: Fiji.app/jars/imglib2-algorithm-gpl-0.1.5.jar  \n",
            "  inflating: Fiji.app/jars/imglib2-ij-2.0.0-beta-35.jar  \n",
            "  inflating: Fiji.app/jars/imglib2-realtransform-2.0.0-beta-34.jar  \n",
            "  inflating: Fiji.app/jars/imglib2-roi-0.4.4.jar  \n",
            "  inflating: Fiji.app/jars/imglib2-ui-2.0.0-beta-31.jar  \n",
            "  inflating: Fiji.app/jars/invokebinder-1.2.jar  \n",
            "  inflating: Fiji.app/jars/itext-2.1.5.jar  \n",
            "  inflating: Fiji.app/jars/itextpdf-5.1.1.jar  \n",
            "  inflating: Fiji.app/jars/j3dcore-1.6.0-scijava-2.jar  \n",
            "  inflating: Fiji.app/jars/j3dutils-1.6.0-scijava-2.jar  \n",
            "  inflating: Fiji.app/jars/jacl.jar  \n",
            "  inflating: Fiji.app/jars/jai-codec-1.1.3.jar  \n",
            "  inflating: Fiji.app/jars/jai-core-1.1.3.jar  \n",
            "  inflating: Fiji.app/jars/jama-1.0.3.jar  \n",
            "  inflating: Fiji.app/jars/java-cup-0.11a.jar  \n",
            "  inflating: Fiji.app/jars/javacpp-0.11.jar  \n",
            "  inflating: Fiji.app/jars/javassist-3.20.0-GA.jar  \n",
            "  inflating: Fiji.app/jars/jcodings-1.0.10.jar  \n",
            "  inflating: Fiji.app/jars/jcommon-1.0.23.jar  \n",
            "  inflating: Fiji.app/jars/jdatepicker-1.3.2.jar  \n",
            "  inflating: Fiji.app/jars/jdom2-2.0.6.jar  \n",
            "  inflating: Fiji.app/jars/jep-2.4.2.jar  \n",
            "  inflating: Fiji.app/jars/jffi-1.2.7-native.jar  \n",
            "  inflating: Fiji.app/jars/jffi-1.2.7.jar  \n",
            "  inflating: Fiji.app/jars/jfreechart-1.0.19.jar  \n",
            "  inflating: Fiji.app/jars/jgoodies-common-1.7.0.jar  \n",
            "  inflating: Fiji.app/jars/jgoodies-forms-1.7.2.jar  \n",
            "  inflating: Fiji.app/jars/jgrapht-0.8.3.jar  \n",
            "  inflating: Fiji.app/jars/jgraphx-1.10.4.1.jar  \n",
            "  inflating: Fiji.app/jars/jhdf5-14.12.5.jar  \n",
            "  inflating: Fiji.app/jars/jhotdraw-7.6.0.jar  \n",
            "  inflating: Fiji.app/jars/jitk-tps-2.1.0.jar  \n",
            "  inflating: Fiji.app/jars/jna-4.2.2.jar  \n",
            "  inflating: Fiji.app/jars/jnr-constants-0.8.5.jar  \n",
            "  inflating: Fiji.app/jars/jnr-enxio-0.4.jar  \n",
            "  inflating: Fiji.app/jars/jnr-ffi-1.0.7.jar  \n",
            "  inflating: Fiji.app/jars/jnr-netdb-1.1.2.jar  \n",
            "  inflating: Fiji.app/jars/jnr-posix-3.0.1.jar  \n",
            "  inflating: Fiji.app/jars/jnr-unixsocket-0.3.jar  \n",
            "  inflating: Fiji.app/jars/jnr-x86asm-1.0.2.jar  \n",
            "  inflating: Fiji.app/jars/joal-2.3.2.jar  \n",
            "  inflating: Fiji.app/jars/joal-main-2.3.2.jar  \n",
            "  inflating: Fiji.app/jars/jocl-2.3.2.jar  \n",
            "  inflating: Fiji.app/jars/jocl-main-2.3.2.jar  \n",
            "  inflating: Fiji.app/jars/joda-time-2.9.4.jar  \n",
            "  inflating: Fiji.app/jars/jogl-all-2.3.2.jar  \n",
            "  inflating: Fiji.app/jars/jogl-all-main-2.3.2.jar  \n",
            "  inflating: Fiji.app/jars/joni-2.1.1.jar  \n",
            "  inflating: Fiji.app/jars/jpedalSTD-2.80b11.jar  \n",
            "  inflating: Fiji.app/jars/jruby-core-1.7.12.jar  \n",
            "  inflating: Fiji.app/jars/jruby-stdlib-1.7.12.jar  \n",
            "  inflating: Fiji.app/jars/js.jar    \n",
            "  inflating: Fiji.app/jars/jsch-0.1.49.jar  \n",
            "  inflating: Fiji.app/jars/jsoup-1.7.2.jar  \n",
            "  inflating: Fiji.app/jars/jtransforms-2.4.jar  \n",
            "  inflating: Fiji.app/jars/jung-api-2.0.1.jar  \n",
            "  inflating: Fiji.app/jars/jung-graph-impl-2.0.1.jar  \n",
            "  inflating: Fiji.app/jars/jython-shaded-2.7.0.jar  \n",
            "  inflating: Fiji.app/jars/jzlib-1.1.2.jar  \n",
            "  inflating: Fiji.app/jars/kryo-2.24.0.jar  \n",
            "  inflating: Fiji.app/jars/languagesupport-2.5.8.jar  \n",
            "  inflating: Fiji.app/jars/lapack-0.8.jar  \n",
            "  inflating: Fiji.app/jars/legacy-imglib1-1.1.6.jar  \n",
            "  inflating: Fiji.app/jars/linux64/ffmpeg-2.6.1-0.11-linux-x86_64.jar  \n",
            "  inflating: Fiji.app/jars/linux64/gluegen-rt-2.3.2-natives-linux-amd64.jar  \n",
            "  inflating: Fiji.app/jars/linux64/joal-2.3.2-natives-linux-amd64.jar  \n",
            "  inflating: Fiji.app/jars/linux64/jocl-2.3.2-natives-linux-amd64.jar  \n",
            "  inflating: Fiji.app/jars/linux64/jogl-all-2.3.2-natives-linux-amd64.jar  \n",
            "  inflating: Fiji.app/jars/log4j-1.2.17.jar  \n",
            "  inflating: Fiji.app/jars/logback-classic-1.1.7.jar  \n",
            "  inflating: Fiji.app/jars/logback-core-1.1.7.jar  \n",
            "  inflating: Fiji.app/jars/mapdb-1.0.3.jar  \n",
            "  inflating: Fiji.app/jars/markdownj-0.3.0-1.0.2b4.jar  \n",
            "  inflating: Fiji.app/jars/maven-scm-api-1.4.jar  \n",
            "  inflating: Fiji.app/jars/maven-scm-provider-svn-commons-1.4.jar  \n",
            "  inflating: Fiji.app/jars/maven-scm-provider-svnexe-1.4.jar  \n",
            "  inflating: Fiji.app/jars/metadata-extractor-2.6.2.jar  \n",
            "  inflating: Fiji.app/jars/methods-0.8.1906.jar  \n",
            "  inflating: Fiji.app/jars/miglayout-3.7.4-swing.jar  \n",
            "  inflating: Fiji.app/jars/mines-jtk-20151125.jar  \n",
            "  inflating: Fiji.app/jars/minimaven-2.2.0.jar  \n",
            "  inflating: Fiji.app/jars/minlog-1.2.jar  \n",
            "  inflating: Fiji.app/jars/mpicbg-1.1.1.jar  \n",
            "  inflating: Fiji.app/jars/mpicbg-trakem2-1.2.3.jar  \n",
            "  inflating: Fiji.app/jars/mtj-1.0.4.jar  \n",
            "  inflating: Fiji.app/jars/nailgun-server-0.9.1.jar  \n",
            "  inflating: Fiji.app/jars/native-lib-loader-2.1.4.jar  \n",
            "  inflating: Fiji.app/jars/netcdf-4.3.19.jar  \n",
            "  inflating: Fiji.app/jars/netlib-java-0.9.3-renjin-patched-2.jar  \n",
            "  inflating: Fiji.app/jars/object-inspector-0.1.jar  \n",
            "  inflating: Fiji.app/jars/objenesis-2.1.jar  \n",
            "  inflating: Fiji.app/jars/op-finder-0.1.0.jar  \n",
            "  inflating: Fiji.app/jars/opencsv-2.4.jar  \n",
            "  inflating: Fiji.app/jars/options-1.1.jar  \n",
            "  inflating: Fiji.app/jars/pal-optimization-2.0.0.jar  \n",
            "  inflating: Fiji.app/jars/parsington-1.0.0.jar  \n",
            "  inflating: Fiji.app/jars/pentaho-package-manager-1.0.8.jar  \n",
            "  inflating: Fiji.app/jars/perf4j-0.9.13.jar  \n",
            "  inflating: Fiji.app/jars/plexus-utils-1.5.6.jar  \n",
            "  inflating: Fiji.app/jars/postgresql-8.2-507.jdbc3.jar  \n",
            "  inflating: Fiji.app/jars/regexp-1.3.jar  \n",
            "  inflating: Fiji.app/jars/renjin-appl-0.8.1906.jar  \n",
            "  inflating: Fiji.app/jars/renjin-core-0.8.1906.jar  \n",
            "  inflating: Fiji.app/jars/renjin-gnur-runtime-0.8.1906.jar  \n",
            "  inflating: Fiji.app/jars/renjin-script-engine-0.8.1906.jar  \n",
            "  inflating: Fiji.app/jars/rhino-1.7.6.jar  \n",
            "  inflating: Fiji.app/jars/rsyntaxtextarea-2.5.8.jar  \n",
            "  inflating: Fiji.app/jars/scala-compiler-2.12.1.jar  \n",
            "  inflating: Fiji.app/jars/scala-library-2.12.1.jar  \n",
            "  inflating: Fiji.app/jars/scala-parser-combinators_2.12.0-M4-1.0.4.jar  \n",
            "  inflating: Fiji.app/jars/scala-reflect-2.12.1.jar  \n",
            "  inflating: Fiji.app/jars/scala-xml_2.12-1.0.6.jar  \n",
            "  inflating: Fiji.app/jars/scala-xml_2.12.0-M4-1.0.5.jar  \n",
            "  inflating: Fiji.app/jars/scifio-0.31.1.jar  \n",
            "  inflating: Fiji.app/jars/scifio-bf-compat-2.0.2.jar  \n",
            "  inflating: Fiji.app/jars/scifio-cli-0.3.3.jar  \n",
            "  inflating: Fiji.app/jars/scifio-hdf5-0.1.1.jar  \n",
            "  inflating: Fiji.app/jars/scifio-jai-imageio-1.1.0.jar  \n",
            "  inflating: Fiji.app/jars/scifio-lifesci-0.7.0.jar  \n",
            "  inflating: Fiji.app/jars/scifio-ome-xml-0.14.2.jar  \n",
            "  inflating: Fiji.app/jars/scifio-tools-0.14.0.jar  \n",
            "  inflating: Fiji.app/jars/scijava-common-2.62.1.jar  \n",
            "  inflating: Fiji.app/jars/scijava-config-2.0.1.jar  \n",
            "  inflating: Fiji.app/jars/scijava-expression-parser-2.1.1.jar  \n",
            "  inflating: Fiji.app/jars/scijava-plugins-commands-0.2.2.jar  \n",
            "  inflating: Fiji.app/jars/scijava-plugins-platforms-0.2.1.jar  \n",
            "  inflating: Fiji.app/jars/scijava-plugins-text-markdown-0.1.2.jar  \n",
            "  inflating: Fiji.app/jars/scijava-plugins-text-plain-0.1.2.jar  \n",
            "  inflating: Fiji.app/jars/scijava-ui-awt-0.1.5.jar  \n",
            "  inflating: Fiji.app/jars/scijava-ui-swing-0.9.1.jar  \n",
            "  inflating: Fiji.app/jars/script-editor-0.1.2.jar  \n",
            "  inflating: Fiji.app/jars/scripting-beanshell-0.3.1.jar  \n",
            "  inflating: Fiji.app/jars/scripting-clojure-0.1.5.jar  \n",
            "  inflating: Fiji.app/jars/scripting-groovy-0.2.5.jar  \n",
            "  inflating: Fiji.app/jars/scripting-java-0.4.0.jar  \n",
            "  inflating: Fiji.app/jars/scripting-javascript-0.4.3.jar  \n",
            "  inflating: Fiji.app/jars/scripting-jruby-0.2.4.jar  \n",
            "  inflating: Fiji.app/jars/scripting-jython-0.4.0.jar  \n",
            "  inflating: Fiji.app/jars/scripting-renjin-0.2.1.jar  \n",
            "  inflating: Fiji.app/jars/scripting-scala-0.2.0.jar  \n",
            "  inflating: Fiji.app/jars/slf4j-api-1.7.21.jar  \n",
            "  inflating: Fiji.app/jars/snakeyaml-1.13.jar  \n",
            "  inflating: Fiji.app/jars/spim_data-2.2.0.jar  \n",
            "  inflating: Fiji.app/jars/stats-0.8.1906.jar  \n",
            "  inflating: Fiji.app/jars/swing-checkbox-tree-1.0.1.jar  \n",
            "  inflating: Fiji.app/jars/swing-worker-1.1.jar  \n",
            "  inflating: Fiji.app/jars/swingx-1.6.1.jar  \n",
            "  inflating: Fiji.app/jars/trove4j-3.0.3.jar  \n",
            "  inflating: Fiji.app/jars/udunits-4.3.18.jar  \n",
            "  inflating: Fiji.app/jars/ui-behaviour-1.1.0.jar  \n",
            "  inflating: Fiji.app/jars/utils-0.8.1906.jar  \n",
            "  inflating: Fiji.app/jars/vecmath-1.6.0-scijava-2.jar  \n",
            "  inflating: Fiji.app/jars/weave_jy2java-2.1.0.jar  \n",
            "  inflating: Fiji.app/jars/weka-dev-3.9.0.jar  \n",
            "  inflating: Fiji.app/jars/xerbla-0.8.jar  \n",
            "  inflating: Fiji.app/jars/xercesImpl-2.8.1.jar  \n",
            "  inflating: Fiji.app/jars/xml-apis-1.3.03.jar  \n",
            "  inflating: Fiji.app/jars/xml-apis-ext-1.3.04.jar  \n",
            "  inflating: Fiji.app/jars/xmlgraphics-commons-2.1.jar  \n",
            "  inflating: Fiji.app/jars/xmpcore-5.1.2.jar  \n",
            "  inflating: Fiji.app/jars/xz-1.0.jar  \n",
            "  inflating: Fiji.app/jars/yecht-1.0.jar  \n",
            "  inflating: Fiji.app/scripts/ImageJ.m  \n",
            "  inflating: Fiji.app/scripts/InstallJava3D.m  \n",
            "  inflating: Fiji.app/scripts/IsJava3DInstalled.m  \n",
            "  inflating: Fiji.app/scripts/Matlab3DViewerDemo_1.m  \n",
            "  inflating: Fiji.app/scripts/Matlab3DViewerDemo_2.m  \n",
            "  inflating: Fiji.app/scripts/Matlab3DViewerDemo_3.m  \n",
            "  inflating: Fiji.app/scripts/Matlab3DViewerIntroduction.m  \n",
            "  inflating: Fiji.app/scripts/Miji.m  \n",
            "  inflating: Fiji.app/scripts/Miji_Test.m  \n",
            "  inflating: Fiji.app/scripts/bfopen.m  \n",
            "  inflating: Fiji.app/scripts/copytoImg.m  \n",
            "  inflating: Fiji.app/scripts/copytoImgPlus.m  \n",
            "  inflating: Fiji.app/scripts/copytoMatlab.m  \n",
            "  inflating: Fiji.app/scripts/importTrackMateTracks.m  \n",
            "  inflating: Fiji.app/scripts/trackmateEdges.m  \n",
            "  inflating: Fiji.app/scripts/trackmateFeatureDeclarations.m  \n",
            "  inflating: Fiji.app/scripts/trackmateGraph.m  \n",
            "  inflating: Fiji.app/scripts/trackmateImageCalibration.m  \n",
            "  inflating: Fiji.app/scripts/trackmateSpots.m  \n",
            "  inflating: Fiji.app/images/about/about1.tif  \n",
            "  inflating: Fiji.app/images/about/about1.tif.txt  \n",
            "  inflating: Fiji.app/images/about/about2.tif  \n",
            "  inflating: Fiji.app/images/about/about2.tif.txt  \n",
            "  inflating: Fiji.app/images/about/about3.tif  \n",
            "  inflating: Fiji.app/images/about/about3.tif.txt  \n",
            "  inflating: Fiji.app/images/about/about4.tif  \n",
            "  inflating: Fiji.app/images/about/about4.tif.txt  \n",
            "  inflating: Fiji.app/images/about/about5.tif  \n",
            "  inflating: Fiji.app/images/about/about5.tif.txt  \n",
            "  inflating: Fiji.app/images/icon-flat.png  \n",
            "  inflating: Fiji.app/images/icon.png  \n",
            "  inflating: Fiji.app/macros/AutoRun/AutoRun_Scripts.ijm  \n",
            "  inflating: Fiji.app/macros/StartupMacros.fiji.ijm  \n",
            "  inflating: Fiji.app/macros/listManagement.txt  \n",
            "  inflating: Fiji.app/macros/toolsets/Clear Custom Tools.txt  \n",
            "  inflating: Fiji.app/macros/toolsets/Drawing Tools.txt  \n",
            "  inflating: Fiji.app/macros/toolsets/Lookup Tables.txt  \n",
            "  inflating: Fiji.app/README.md      \n",
            "  inflating: Fiji.app/WELCOME.md     \n",
            "  inflating: Fiji.app/luts/16_colors.lut  \n",
            "  inflating: Fiji.app/luts/5_ramps.lut  \n",
            "  inflating: Fiji.app/luts/6_shades.lut  \n",
            "  inflating: Fiji.app/luts/Cyan Hot.lut  \n",
            "  inflating: Fiji.app/luts/Green Fire Blue.lut  \n",
            "  inflating: Fiji.app/luts/HiLo.lut  \n",
            "  inflating: Fiji.app/luts/ICA.lut   \n",
            "  inflating: Fiji.app/luts/ICA2.lut  \n",
            "  inflating: Fiji.app/luts/ICA3.lut  \n",
            "  inflating: Fiji.app/luts/Magenta Hot.lut  \n",
            "  inflating: Fiji.app/luts/Orange Hot.lut  \n",
            "  inflating: Fiji.app/luts/Rainbow RGB.lut  \n",
            "  inflating: Fiji.app/luts/Red Hot.lut  \n",
            "  inflating: Fiji.app/luts/Thermal.lut  \n",
            "  inflating: Fiji.app/luts/Yellow Hot.lut  \n",
            "  inflating: Fiji.app/luts/blue_orange_icb.lut  \n",
            "  inflating: Fiji.app/luts/brgbcmyw.lut  \n",
            "  inflating: Fiji.app/luts/cool.lut  \n",
            "  inflating: Fiji.app/luts/edges.lut  \n",
            "  inflating: Fiji.app/luts/gem.lut   \n",
            "  inflating: Fiji.app/luts/glasbey.lut  \n",
            "  inflating: Fiji.app/luts/glasbey_inverted.lut  \n",
            "  inflating: Fiji.app/luts/glow.lut  \n",
            "  inflating: Fiji.app/luts/mpl-inferno.lut  \n",
            "  inflating: Fiji.app/luts/mpl-magma.lut  \n",
            "  inflating: Fiji.app/luts/mpl-plasma.lut  \n",
            "  inflating: Fiji.app/luts/mpl-viridis.lut  \n",
            "  inflating: Fiji.app/luts/phase.lut  \n",
            "  inflating: Fiji.app/luts/physics.lut  \n",
            "  inflating: Fiji.app/luts/royal.lut  \n",
            "  inflating: Fiji.app/luts/sepia.lut  \n",
            "  inflating: Fiji.app/luts/smart.lut  \n",
            "  inflating: Fiji.app/luts/thal.lut  \n",
            "  inflating: Fiji.app/luts/thallium.lut  \n",
            "  inflating: Fiji.app/luts/unionjack.lut  \n",
            "  inflating: Fiji.app/retro/backport-util-concurrent-3.1.jar  \n",
            "  inflating: Fiji.app/retro/retrotranslator-runtime-1.2.9.jar  \n",
            "  inflating: Fiji.app/retro/retrotranslator-transformer-1.2.9.jar  \n",
            "  inflating: Fiji.app/java/linux-amd64/jdk1.8.0_66/jre/bin/pack200  \n",
            "  inflating: Fiji.app/java/linux-amd64/jdk1.8.0_66/jre/bin/keytool  \n",
            "  inflating: Fiji.app/java/linux-amd64/jdk1.8.0_66/jre/bin/jjs  \n",
            "  inflating: Fiji.app/java/linux-amd64/jdk1.8.0_66/jre/bin/tnameserv  \n",
            "  inflating: Fiji.app/java/linux-amd64/jdk1.8.0_66/jre/bin/java  \n",
            "  inflating: Fiji.app/java/linux-amd64/jdk1.8.0_66/jre/bin/ControlPanel  \n",
            "  inflating: Fiji.app/java/linux-amd64/jdk1.8.0_66/jre/bin/orbd  \n",
            "  inflating: Fiji.app/java/linux-amd64/jdk1.8.0_66/jre/bin/rmiregistry  \n",
            "  inflating: Fiji.app/java/linux-amd64/jdk1.8.0_66/jre/bin/unpack200  \n",
            "  inflating: Fiji.app/java/linux-amd64/jdk1.8.0_66/jre/bin/policytool  \n",
            "  inflating: Fiji.app/java/linux-amd64/jdk1.8.0_66/jre/bin/javaws  \n",
            "  inflating: Fiji.app/java/linux-amd64/jdk1.8.0_66/jre/bin/servertool  \n",
            "  inflating: Fiji.app/java/linux-amd64/jdk1.8.0_66/jre/bin/rmid  \n",
            "  inflating: Fiji.app/java/linux-amd64/jdk1.8.0_66/jre/bin/jcontrol  \n",
            "  inflating: Fiji.app/java/linux-amd64/jdk1.8.0_66/jre/THIRDPARTYLICENSEREADME.txt  \n",
            "  inflating: Fiji.app/java/linux-amd64/jdk1.8.0_66/jre/Welcome.html  \n",
            "  inflating: Fiji.app/java/linux-amd64/jdk1.8.0_66/jre/COPYRIGHT  \n",
            "  inflating: Fiji.app/java/linux-amd64/jdk1.8.0_66/jre/plugin/desktop/sun_java.desktop  \n",
            "  inflating: Fiji.app/java/linux-amd64/jdk1.8.0_66/jre/plugin/desktop/sun_java.png  \n",
            "  inflating: Fiji.app/java/linux-amd64/jdk1.8.0_66/jre/THIRDPARTYLICENSEREADME-JAVAFX.txt  \n",
            "  inflating: Fiji.app/java/linux-amd64/jdk1.8.0_66/jre/README  \n",
            "  inflating: Fiji.app/java/linux-amd64/jdk1.8.0_66/jre/LICENSE  \n",
            "  inflating: Fiji.app/java/linux-amd64/jdk1.8.0_66/jre/man/ja/man1/rmid.1  \n",
            "  inflating: Fiji.app/java/linux-amd64/jdk1.8.0_66/jre/man/ja/man1/javaws.1  \n",
            "  inflating: Fiji.app/java/linux-amd64/jdk1.8.0_66/jre/man/ja/man1/tnameserv.1  \n",
            "  inflating: Fiji.app/java/linux-amd64/jdk1.8.0_66/jre/man/ja/man1/rmiregistry.1  \n",
            "  inflating: Fiji.app/java/linux-amd64/jdk1.8.0_66/jre/man/ja/man1/java.1  \n",
            "  inflating: Fiji.app/java/linux-amd64/jdk1.8.0_66/jre/man/ja/man1/orbd.1  \n",
            "  inflating: Fiji.app/java/linux-amd64/jdk1.8.0_66/jre/man/ja/man1/jjs.1  \n",
            "  inflating: Fiji.app/java/linux-amd64/jdk1.8.0_66/jre/man/ja/man1/servertool.1  \n",
            "  inflating: Fiji.app/java/linux-amd64/jdk1.8.0_66/jre/man/ja/man1/keytool.1  \n",
            "  inflating: Fiji.app/java/linux-amd64/jdk1.8.0_66/jre/man/ja/man1/pack200.1  \n",
            "  inflating: Fiji.app/java/linux-amd64/jdk1.8.0_66/jre/man/ja/man1/policytool.1  \n",
            "  inflating: Fiji.app/java/linux-amd64/jdk1.8.0_66/jre/man/ja/man1/unpack200.1  \n",
            "  inflating: Fiji.app/java/linux-amd64/jdk1.8.0_66/jre/man/ja_JP.UTF-8/man1/rmid.1  \n",
            "  inflating: Fiji.app/java/linux-amd64/jdk1.8.0_66/jre/man/ja_JP.UTF-8/man1/javaws.1  \n",
            "  inflating: Fiji.app/java/linux-amd64/jdk1.8.0_66/jre/man/ja_JP.UTF-8/man1/tnameserv.1  \n",
            "  inflating: Fiji.app/java/linux-amd64/jdk1.8.0_66/jre/man/ja_JP.UTF-8/man1/rmiregistry.1  \n",
            "  inflating: Fiji.app/java/linux-amd64/jdk1.8.0_66/jre/man/ja_JP.UTF-8/man1/java.1  \n",
            "  inflating: Fiji.app/java/linux-amd64/jdk1.8.0_66/jre/man/ja_JP.UTF-8/man1/orbd.1  \n",
            "  inflating: Fiji.app/java/linux-amd64/jdk1.8.0_66/jre/man/ja_JP.UTF-8/man1/jjs.1  \n",
            "  inflating: Fiji.app/java/linux-amd64/jdk1.8.0_66/jre/man/ja_JP.UTF-8/man1/servertool.1  \n",
            "  inflating: Fiji.app/java/linux-amd64/jdk1.8.0_66/jre/man/ja_JP.UTF-8/man1/keytool.1  \n",
            "  inflating: Fiji.app/java/linux-amd64/jdk1.8.0_66/jre/man/ja_JP.UTF-8/man1/pack200.1  \n",
            "  inflating: Fiji.app/java/linux-amd64/jdk1.8.0_66/jre/man/ja_JP.UTF-8/man1/policytool.1  \n",
            "  inflating: Fiji.app/java/linux-amd64/jdk1.8.0_66/jre/man/ja_JP.UTF-8/man1/unpack200.1  \n",
            "  inflating: Fiji.app/java/linux-amd64/jdk1.8.0_66/jre/man/man1/rmid.1  \n",
            "  inflating: Fiji.app/java/linux-amd64/jdk1.8.0_66/jre/man/man1/javaws.1  \n",
            "  inflating: Fiji.app/java/linux-amd64/jdk1.8.0_66/jre/man/man1/tnameserv.1  \n",
            "  inflating: Fiji.app/java/linux-amd64/jdk1.8.0_66/jre/man/man1/rmiregistry.1  \n",
            "  inflating: Fiji.app/java/linux-amd64/jdk1.8.0_66/jre/man/man1/java.1  \n",
            "  inflating: Fiji.app/java/linux-amd64/jdk1.8.0_66/jre/man/man1/orbd.1  \n",
            "  inflating: Fiji.app/java/linux-amd64/jdk1.8.0_66/jre/man/man1/jjs.1  \n",
            "  inflating: Fiji.app/java/linux-amd64/jdk1.8.0_66/jre/man/man1/servertool.1  \n",
            "  inflating: Fiji.app/java/linux-amd64/jdk1.8.0_66/jre/man/man1/keytool.1  \n",
            "  inflating: Fiji.app/java/linux-amd64/jdk1.8.0_66/jre/man/man1/pack200.1  \n",
            "  inflating: Fiji.app/java/linux-amd64/jdk1.8.0_66/jre/man/man1/policytool.1  \n",
            "  inflating: Fiji.app/java/linux-amd64/jdk1.8.0_66/jre/man/man1/unpack200.1  \n",
            "  inflating: Fiji.app/java/linux-amd64/jdk1.8.0_66/jre/release  \n",
            "  inflating: Fiji.app/java/linux-amd64/jdk1.8.0_66/jre/lib/logging.properties  \n",
            "  inflating: Fiji.app/java/linux-amd64/jdk1.8.0_66/jre/lib/psfont.properties.ja  \n",
            "  inflating: Fiji.app/java/linux-amd64/jdk1.8.0_66/jre/lib/cmm/sRGB.pf  \n",
            "  inflating: Fiji.app/java/linux-amd64/jdk1.8.0_66/jre/lib/cmm/LINEAR_RGB.pf  \n",
            "  inflating: Fiji.app/java/linux-amd64/jdk1.8.0_66/jre/lib/cmm/PYCC.pf  \n",
            "  inflating: Fiji.app/java/linux-amd64/jdk1.8.0_66/jre/lib/cmm/GRAY.pf  \n",
            "  inflating: Fiji.app/java/linux-amd64/jdk1.8.0_66/jre/lib/cmm/CIEXYZ.pf  \n",
            "  inflating: Fiji.app/java/linux-amd64/jdk1.8.0_66/jre/lib/deploy/mixcode_s.png  \n",
            "  inflating: Fiji.app/java/linux-amd64/jdk1.8.0_66/jre/lib/deploy/messages_ko.properties  \n",
            "  inflating: Fiji.app/java/linux-amd64/jdk1.8.0_66/jre/lib/deploy/messages_de.properties  \n",
            "  inflating: Fiji.app/java/linux-amd64/jdk1.8.0_66/jre/lib/deploy/messages_zh_HK.properties  \n",
            "  inflating: Fiji.app/java/linux-amd64/jdk1.8.0_66/jre/lib/deploy/MixedCodeMainDialog.ui  \n",
            "  inflating: Fiji.app/java/linux-amd64/jdk1.8.0_66/jre/lib/deploy/splash@2x.gif  \n",
            "  inflating: Fiji.app/java/linux-amd64/jdk1.8.0_66/jre/lib/deploy/java-icon.ico  \n",
            "  inflating: Fiji.app/java/linux-amd64/jdk1.8.0_66/jre/lib/deploy/ffjcext.zip  \n",
            "  inflating: Fiji.app/java/linux-amd64/jdk1.8.0_66/jre/lib/deploy/messages_ja.properties  \n",
            "  inflating: Fiji.app/java/linux-amd64/jdk1.8.0_66/jre/lib/deploy/messages_pt_BR.properties  \n",
            "  inflating: Fiji.app/java/linux-amd64/jdk1.8.0_66/jre/lib/deploy/messages_es.properties  \n",
            "  inflating: Fiji.app/java/linux-amd64/jdk1.8.0_66/jre/lib/deploy/messages_zh_TW.properties  \n",
            "  inflating: Fiji.app/java/linux-amd64/jdk1.8.0_66/jre/lib/deploy/cautionshield.icns  \n",
            "  inflating: Fiji.app/java/linux-amd64/jdk1.8.0_66/jre/lib/deploy/messages.properties  \n",
            "  inflating: Fiji.app/java/linux-amd64/jdk1.8.0_66/jre/lib/deploy/MixedCodeMainDialogJs.ui  \n",
            "  inflating: Fiji.app/java/linux-amd64/jdk1.8.0_66/jre/lib/deploy/splash.gif  \n",
            "  inflating: Fiji.app/java/linux-amd64/jdk1.8.0_66/jre/lib/deploy/messages_fr.properties  \n",
            "  inflating: Fiji.app/java/linux-amd64/jdk1.8.0_66/jre/lib/deploy/messages_zh_CN.properties  \n",
            "  inflating: Fiji.app/java/linux-amd64/jdk1.8.0_66/jre/lib/deploy/messages_sv.properties  \n",
            "  inflating: Fiji.app/java/linux-amd64/jdk1.8.0_66/jre/lib/deploy/messages_it.properties  \n",
            "  inflating: Fiji.app/java/linux-amd64/jdk1.8.0_66/jre/lib/net.properties  \n",
            "  inflating: Fiji.app/java/linux-amd64/jdk1.8.0_66/jre/lib/jfr/default.jfc  \n",
            "  inflating: Fiji.app/java/linux-amd64/jdk1.8.0_66/jre/lib/jfr/profile.jfc  \n",
            "  inflating: Fiji.app/java/linux-amd64/jdk1.8.0_66/jre/lib/hijrah-config-umalqura.properties  \n",
            "  inflating: Fiji.app/java/linux-amd64/jdk1.8.0_66/jre/lib/fontconfig.RedHat.5.bfc  \n",
            "  inflating: Fiji.app/java/linux-amd64/jdk1.8.0_66/jre/lib/fontconfig.RedHat.6.bfc  \n",
            "  inflating: Fiji.app/java/linux-amd64/jdk1.8.0_66/jre/lib/meta-index  \n",
            "  inflating: Fiji.app/java/linux-amd64/jdk1.8.0_66/jre/lib/security/trusted.libraries  \n",
            "  inflating: Fiji.app/java/linux-amd64/jdk1.8.0_66/jre/lib/security/local_policy.jar  \n",
            "  inflating: Fiji.app/java/linux-amd64/jdk1.8.0_66/jre/lib/security/cacerts  \n",
            "  inflating: Fiji.app/java/linux-amd64/jdk1.8.0_66/jre/lib/security/java.policy  \n",
            "  inflating: Fiji.app/java/linux-amd64/jdk1.8.0_66/jre/lib/security/blacklist  \n",
            "  inflating: Fiji.app/java/linux-amd64/jdk1.8.0_66/jre/lib/security/blacklisted.certs  \n",
            "  inflating: Fiji.app/java/linux-amd64/jdk1.8.0_66/jre/lib/security/US_export_policy.jar  \n",
            "  inflating: Fiji.app/java/linux-amd64/jdk1.8.0_66/jre/lib/security/javaws.policy  \n",
            "  inflating: Fiji.app/java/linux-amd64/jdk1.8.0_66/jre/lib/security/java.security  \n",
            "  inflating: Fiji.app/java/linux-amd64/jdk1.8.0_66/jre/lib/fontconfig.SuSE.10.properties.src  \n",
            "  inflating: Fiji.app/java/linux-amd64/jdk1.8.0_66/jre/lib/jexec  \n",
            "  inflating: Fiji.app/java/linux-amd64/jdk1.8.0_66/jre/lib/fontconfig.RedHat.5.properties.src  \n",
            "  inflating: Fiji.app/java/linux-amd64/jdk1.8.0_66/jre/lib/resources.jar  \n",
            "  inflating: Fiji.app/java/linux-amd64/jdk1.8.0_66/jre/lib/jvm.hprof.txt  \n",
            "  inflating: Fiji.app/java/linux-amd64/jdk1.8.0_66/jre/lib/charsets.jar  \n",
            "  inflating: Fiji.app/java/linux-amd64/jdk1.8.0_66/jre/lib/images/cursors/motif_LinkNoDrop32x32.gif  \n",
            "  inflating: Fiji.app/java/linux-amd64/jdk1.8.0_66/jre/lib/images/cursors/cursors.properties  \n",
            "  inflating: Fiji.app/java/linux-amd64/jdk1.8.0_66/jre/lib/images/cursors/motif_CopyNoDrop32x32.gif  \n",
            "  inflating: Fiji.app/java/linux-amd64/jdk1.8.0_66/jre/lib/images/cursors/motif_MoveDrop32x32.gif  \n",
            "  inflating: Fiji.app/java/linux-amd64/jdk1.8.0_66/jre/lib/images/cursors/invalid32x32.gif  \n",
            "  inflating: Fiji.app/java/linux-amd64/jdk1.8.0_66/jre/lib/images/cursors/motif_MoveNoDrop32x32.gif  \n",
            "  inflating: Fiji.app/java/linux-amd64/jdk1.8.0_66/jre/lib/images/cursors/motif_LinkDrop32x32.gif  \n",
            "  inflating: Fiji.app/java/linux-amd64/jdk1.8.0_66/jre/lib/images/cursors/motif_CopyDrop32x32.gif  \n",
            "  inflating: Fiji.app/java/linux-amd64/jdk1.8.0_66/jre/lib/images/icons/sun-java_HighContrast.png  \n",
            "  inflating: Fiji.app/java/linux-amd64/jdk1.8.0_66/jre/lib/images/icons/sun-java.png  \n",
            "  inflating: Fiji.app/java/linux-amd64/jdk1.8.0_66/jre/lib/images/icons/sun-java_LowContrast.png  \n",
            "  inflating: Fiji.app/java/linux-amd64/jdk1.8.0_66/jre/lib/images/icons/sun-java_HighContrastInverse.png  \n",
            "  inflating: Fiji.app/java/linux-amd64/jdk1.8.0_66/jre/lib/fontconfig.SuSE.10.bfc  \n",
            "  inflating: Fiji.app/java/linux-amd64/jdk1.8.0_66/jre/lib/ext/localedata.jar  \n",
            "  inflating: Fiji.app/java/linux-amd64/jdk1.8.0_66/jre/lib/ext/jfxrt.jar  \n",
            "  inflating: Fiji.app/java/linux-amd64/jdk1.8.0_66/jre/lib/ext/sunpkcs11.jar  \n",
            "  inflating: Fiji.app/java/linux-amd64/jdk1.8.0_66/jre/lib/ext/sunec.jar  \n",
            "  inflating: Fiji.app/java/linux-amd64/jdk1.8.0_66/jre/lib/ext/meta-index  \n",
            "  inflating: Fiji.app/java/linux-amd64/jdk1.8.0_66/jre/lib/ext/nashorn.jar  \n",
            "  inflating: Fiji.app/java/linux-amd64/jdk1.8.0_66/jre/lib/ext/dnsns.jar  \n",
            "  inflating: Fiji.app/java/linux-amd64/jdk1.8.0_66/jre/lib/ext/sunjce_provider.jar  \n",
            "  inflating: Fiji.app/java/linux-amd64/jdk1.8.0_66/jre/lib/ext/jaccess.jar  \n",
            "  inflating: Fiji.app/java/linux-amd64/jdk1.8.0_66/jre/lib/ext/cldrdata.jar  \n",
            "  inflating: Fiji.app/java/linux-amd64/jdk1.8.0_66/jre/lib/ext/zipfs.jar  \n",
            "  inflating: Fiji.app/java/linux-amd64/jdk1.8.0_66/jre/lib/fontconfig.bfc  \n",
            "  inflating: Fiji.app/java/linux-amd64/jdk1.8.0_66/jre/lib/javafx.properties  \n",
            "  inflating: Fiji.app/java/linux-amd64/jdk1.8.0_66/jre/lib/fontconfig.RedHat.6.properties.src  \n",
            "  inflating: Fiji.app/java/linux-amd64/jdk1.8.0_66/jre/lib/oblique-fonts/LucidaTypewriterBoldOblique.ttf  \n",
            "  inflating: Fiji.app/java/linux-amd64/jdk1.8.0_66/jre/lib/oblique-fonts/LucidaSansDemiOblique.ttf  \n",
            "  inflating: Fiji.app/java/linux-amd64/jdk1.8.0_66/jre/lib/oblique-fonts/LucidaSansOblique.ttf  \n",
            "  inflating: Fiji.app/java/linux-amd64/jdk1.8.0_66/jre/lib/oblique-fonts/fonts.dir  \n",
            "  inflating: Fiji.app/java/linux-amd64/jdk1.8.0_66/jre/lib/oblique-fonts/LucidaTypewriterOblique.ttf  \n",
            "  inflating: Fiji.app/java/linux-amd64/jdk1.8.0_66/jre/lib/deploy.jar  \n",
            "  inflating: Fiji.app/java/linux-amd64/jdk1.8.0_66/jre/lib/tzdb.dat  \n",
            "  inflating: Fiji.app/java/linux-amd64/jdk1.8.0_66/jre/lib/fontconfig.SuSE.11.bfc  \n",
            "  inflating: Fiji.app/java/linux-amd64/jdk1.8.0_66/jre/lib/management/jmxremote.access  \n",
            "  inflating: Fiji.app/java/linux-amd64/jdk1.8.0_66/jre/lib/management/management.properties  \n",
            "  inflating: Fiji.app/java/linux-amd64/jdk1.8.0_66/jre/lib/management/snmp.acl.template  \n",
            "  inflating: Fiji.app/java/linux-amd64/jdk1.8.0_66/jre/lib/management/jmxremote.password.template  \n",
            "  inflating: Fiji.app/java/linux-amd64/jdk1.8.0_66/jre/lib/jsse.jar  \n",
            "  inflating: Fiji.app/java/linux-amd64/jdk1.8.0_66/jre/lib/classlist  \n",
            "  inflating: Fiji.app/java/linux-amd64/jdk1.8.0_66/jre/lib/fontconfig.SuSE.11.properties.src  \n",
            "  inflating: Fiji.app/java/linux-amd64/jdk1.8.0_66/jre/lib/fonts/LucidaBrightRegular.ttf  \n",
            "  inflating: Fiji.app/java/linux-amd64/jdk1.8.0_66/jre/lib/fonts/LucidaBrightDemiBold.ttf  \n",
            "  inflating: Fiji.app/java/linux-amd64/jdk1.8.0_66/jre/lib/fonts/LucidaBrightDemiItalic.ttf  \n",
            "  inflating: Fiji.app/java/linux-amd64/jdk1.8.0_66/jre/lib/fonts/LucidaTypewriterRegular.ttf  \n",
            "  inflating: Fiji.app/java/linux-amd64/jdk1.8.0_66/jre/lib/fonts/LucidaSansRegular.ttf  \n",
            "  inflating: Fiji.app/java/linux-amd64/jdk1.8.0_66/jre/lib/fonts/LucidaSansDemiBold.ttf  \n",
            "  inflating: Fiji.app/java/linux-amd64/jdk1.8.0_66/jre/lib/fonts/LucidaTypewriterBold.ttf  \n",
            "  inflating: Fiji.app/java/linux-amd64/jdk1.8.0_66/jre/lib/fonts/fonts.dir  \n",
            "  inflating: Fiji.app/java/linux-amd64/jdk1.8.0_66/jre/lib/fonts/LucidaBrightItalic.ttf  \n",
            "  inflating: Fiji.app/java/linux-amd64/jdk1.8.0_66/jre/lib/sound.properties  \n",
            "  inflating: Fiji.app/java/linux-amd64/jdk1.8.0_66/jre/lib/fontconfig.Turbo.bfc  \n",
            "  inflating: Fiji.app/java/linux-amd64/jdk1.8.0_66/jre/lib/plugin.jar  \n",
            "  inflating: Fiji.app/java/linux-amd64/jdk1.8.0_66/jre/lib/desktop/mime/packages/x-java-jnlp-file.xml  \n",
            "  inflating: Fiji.app/java/linux-amd64/jdk1.8.0_66/jre/lib/desktop/mime/packages/x-java-archive.xml  \n",
            "  inflating: Fiji.app/java/linux-amd64/jdk1.8.0_66/jre/lib/desktop/applications/sun-java.desktop  \n",
            "  inflating: Fiji.app/java/linux-amd64/jdk1.8.0_66/jre/lib/desktop/applications/sun_java.desktop  \n",
            "  inflating: Fiji.app/java/linux-amd64/jdk1.8.0_66/jre/lib/desktop/applications/sun-javaws.desktop  \n",
            "  inflating: Fiji.app/java/linux-amd64/jdk1.8.0_66/jre/lib/desktop/icons/hicolor/16x16/mimetypes/gnome-mime-application-x-java-jnlp-file.png  \n",
            "  inflating: Fiji.app/java/linux-amd64/jdk1.8.0_66/jre/lib/desktop/icons/hicolor/16x16/mimetypes/gnome-mime-text-x-java.png  \n",
            "  inflating: Fiji.app/java/linux-amd64/jdk1.8.0_66/jre/lib/desktop/icons/hicolor/16x16/mimetypes/gnome-mime-application-x-java-archive.png  \n",
            "  inflating: Fiji.app/java/linux-amd64/jdk1.8.0_66/jre/lib/desktop/icons/hicolor/16x16/apps/sun-java.png  \n",
            "  inflating: Fiji.app/java/linux-amd64/jdk1.8.0_66/jre/lib/desktop/icons/hicolor/16x16/apps/sun-javaws.png  \n",
            "  inflating: Fiji.app/java/linux-amd64/jdk1.8.0_66/jre/lib/desktop/icons/hicolor/16x16/apps/sun-jcontrol.png  \n",
            "  inflating: Fiji.app/java/linux-amd64/jdk1.8.0_66/jre/lib/desktop/icons/hicolor/48x48/mimetypes/gnome-mime-application-x-java-jnlp-file.png  \n",
            "  inflating: Fiji.app/java/linux-amd64/jdk1.8.0_66/jre/lib/desktop/icons/hicolor/48x48/mimetypes/gnome-mime-text-x-java.png  \n",
            "  inflating: Fiji.app/java/linux-amd64/jdk1.8.0_66/jre/lib/desktop/icons/hicolor/48x48/mimetypes/gnome-mime-application-x-java-archive.png  \n",
            "  inflating: Fiji.app/java/linux-amd64/jdk1.8.0_66/jre/lib/desktop/icons/hicolor/48x48/apps/sun-java.png  \n",
            "  inflating: Fiji.app/java/linux-amd64/jdk1.8.0_66/jre/lib/desktop/icons/hicolor/48x48/apps/sun-javaws.png  \n",
            "  inflating: Fiji.app/java/linux-amd64/jdk1.8.0_66/jre/lib/desktop/icons/hicolor/48x48/apps/sun-jcontrol.png  \n",
            "  inflating: Fiji.app/java/linux-amd64/jdk1.8.0_66/jre/lib/desktop/icons/LowContrast/16x16/mimetypes/gnome-mime-application-x-java-jnlp-file.png  \n",
            "  inflating: Fiji.app/java/linux-amd64/jdk1.8.0_66/jre/lib/desktop/icons/LowContrast/16x16/mimetypes/gnome-mime-text-x-java.png  \n",
            "  inflating: Fiji.app/java/linux-amd64/jdk1.8.0_66/jre/lib/desktop/icons/LowContrast/16x16/mimetypes/gnome-mime-application-x-java-archive.png  \n",
            "  inflating: Fiji.app/java/linux-amd64/jdk1.8.0_66/jre/lib/desktop/icons/LowContrast/16x16/apps/sun-java.png  \n",
            "  inflating: Fiji.app/java/linux-amd64/jdk1.8.0_66/jre/lib/desktop/icons/LowContrast/16x16/apps/sun-javaws.png  \n",
            "  inflating: Fiji.app/java/linux-amd64/jdk1.8.0_66/jre/lib/desktop/icons/LowContrast/16x16/apps/sun-jcontrol.png  \n",
            "  inflating: Fiji.app/java/linux-amd64/jdk1.8.0_66/jre/lib/desktop/icons/LowContrast/48x48/mimetypes/gnome-mime-application-x-java-jnlp-file.png  \n",
            "  inflating: Fiji.app/java/linux-amd64/jdk1.8.0_66/jre/lib/desktop/icons/LowContrast/48x48/mimetypes/gnome-mime-text-x-java.png  \n",
            "  inflating: Fiji.app/java/linux-amd64/jdk1.8.0_66/jre/lib/desktop/icons/LowContrast/48x48/mimetypes/gnome-mime-application-x-java-archive.png  \n",
            "  inflating: Fiji.app/java/linux-amd64/jdk1.8.0_66/jre/lib/desktop/icons/LowContrast/48x48/apps/sun-java.png  \n",
            "  inflating: Fiji.app/java/linux-amd64/jdk1.8.0_66/jre/lib/desktop/icons/LowContrast/48x48/apps/sun-javaws.png  \n",
            "  inflating: Fiji.app/java/linux-amd64/jdk1.8.0_66/jre/lib/desktop/icons/LowContrast/48x48/apps/sun-jcontrol.png  \n",
            "  inflating: Fiji.app/java/linux-amd64/jdk1.8.0_66/jre/lib/desktop/icons/HighContrastInverse/16x16/mimetypes/gnome-mime-application-x-java-jnlp-file.png  \n",
            "  inflating: Fiji.app/java/linux-amd64/jdk1.8.0_66/jre/lib/desktop/icons/HighContrastInverse/16x16/mimetypes/gnome-mime-text-x-java.png  \n",
            "  inflating: Fiji.app/java/linux-amd64/jdk1.8.0_66/jre/lib/desktop/icons/HighContrastInverse/16x16/mimetypes/gnome-mime-application-x-java-archive.png  \n",
            "  inflating: Fiji.app/java/linux-amd64/jdk1.8.0_66/jre/lib/desktop/icons/HighContrastInverse/16x16/apps/sun-java.png  \n",
            "  inflating: Fiji.app/java/linux-amd64/jdk1.8.0_66/jre/lib/desktop/icons/HighContrastInverse/16x16/apps/sun-javaws.png  \n",
            "  inflating: Fiji.app/java/linux-amd64/jdk1.8.0_66/jre/lib/desktop/icons/HighContrastInverse/16x16/apps/sun-jcontrol.png  \n",
            "  inflating: Fiji.app/java/linux-amd64/jdk1.8.0_66/jre/lib/desktop/icons/HighContrastInverse/48x48/mimetypes/gnome-mime-application-x-java-jnlp-file.png  \n",
            "  inflating: Fiji.app/java/linux-amd64/jdk1.8.0_66/jre/lib/desktop/icons/HighContrastInverse/48x48/mimetypes/gnome-mime-text-x-java.png  \n",
            "  inflating: Fiji.app/java/linux-amd64/jdk1.8.0_66/jre/lib/desktop/icons/HighContrastInverse/48x48/mimetypes/gnome-mime-application-x-java-archive.png  \n",
            "  inflating: Fiji.app/java/linux-amd64/jdk1.8.0_66/jre/lib/desktop/icons/HighContrastInverse/48x48/apps/sun-java.png  \n",
            "  inflating: Fiji.app/java/linux-amd64/jdk1.8.0_66/jre/lib/desktop/icons/HighContrastInverse/48x48/apps/sun-javaws.png  \n",
            "  inflating: Fiji.app/java/linux-amd64/jdk1.8.0_66/jre/lib/desktop/icons/HighContrastInverse/48x48/apps/sun-jcontrol.png  \n",
            "  inflating: Fiji.app/java/linux-amd64/jdk1.8.0_66/jre/lib/desktop/icons/HighContrast/16x16/mimetypes/gnome-mime-application-x-java-jnlp-file.png  \n",
            "  inflating: Fiji.app/java/linux-amd64/jdk1.8.0_66/jre/lib/desktop/icons/HighContrast/16x16/mimetypes/gnome-mime-text-x-java.png  \n",
            "  inflating: Fiji.app/java/linux-amd64/jdk1.8.0_66/jre/lib/desktop/icons/HighContrast/16x16/mimetypes/gnome-mime-application-x-java-archive.png  \n",
            "  inflating: Fiji.app/java/linux-amd64/jdk1.8.0_66/jre/lib/desktop/icons/HighContrast/16x16/apps/sun-java.png  \n",
            "  inflating: Fiji.app/java/linux-amd64/jdk1.8.0_66/jre/lib/desktop/icons/HighContrast/16x16/apps/sun-javaws.png  \n",
            "  inflating: Fiji.app/java/linux-amd64/jdk1.8.0_66/jre/lib/desktop/icons/HighContrast/16x16/apps/sun-jcontrol.png  \n",
            "  inflating: Fiji.app/java/linux-amd64/jdk1.8.0_66/jre/lib/desktop/icons/HighContrast/48x48/mimetypes/gnome-mime-application-x-java-jnlp-file.png  \n",
            "  inflating: Fiji.app/java/linux-amd64/jdk1.8.0_66/jre/lib/desktop/icons/HighContrast/48x48/mimetypes/gnome-mime-text-x-java.png  \n",
            "  inflating: Fiji.app/java/linux-amd64/jdk1.8.0_66/jre/lib/desktop/icons/HighContrast/48x48/mimetypes/gnome-mime-application-x-java-archive.png  \n",
            "  inflating: Fiji.app/java/linux-amd64/jdk1.8.0_66/jre/lib/desktop/icons/HighContrast/48x48/apps/sun-java.png  \n",
            "  inflating: Fiji.app/java/linux-amd64/jdk1.8.0_66/jre/lib/desktop/icons/HighContrast/48x48/apps/sun-javaws.png  \n",
            "  inflating: Fiji.app/java/linux-amd64/jdk1.8.0_66/jre/lib/desktop/icons/HighContrast/48x48/apps/sun-jcontrol.png  \n",
            "  inflating: Fiji.app/java/linux-amd64/jdk1.8.0_66/jre/lib/amd64/liblcms.so  \n",
            "  inflating: Fiji.app/java/linux-amd64/jdk1.8.0_66/jre/lib/amd64/libjsoundalsa.so  \n",
            "  inflating: Fiji.app/java/linux-amd64/jdk1.8.0_66/jre/lib/amd64/libmlib_image.so  \n",
            "  inflating: Fiji.app/java/linux-amd64/jdk1.8.0_66/jre/lib/amd64/libawt_headless.so  \n",
            "  inflating: Fiji.app/java/linux-amd64/jdk1.8.0_66/jre/lib/amd64/libjava.so  \n",
            "  inflating: Fiji.app/java/linux-amd64/jdk1.8.0_66/jre/lib/amd64/libprism_es2.so  \n",
            "  inflating: Fiji.app/java/linux-amd64/jdk1.8.0_66/jre/lib/amd64/libzip.so  \n",
            "  inflating: Fiji.app/java/linux-amd64/jdk1.8.0_66/jre/lib/amd64/libnpt.so  \n",
            "  inflating: Fiji.app/java/linux-amd64/jdk1.8.0_66/jre/lib/amd64/libavplugin-54.so  \n",
            "  inflating: Fiji.app/java/linux-amd64/jdk1.8.0_66/jre/lib/amd64/libfxplugins.so  \n",
            "  inflating: Fiji.app/java/linux-amd64/jdk1.8.0_66/jre/lib/amd64/libdcpr.so  \n",
            "  inflating: Fiji.app/java/linux-amd64/jdk1.8.0_66/jre/lib/amd64/libbci.so  \n",
            "  inflating: Fiji.app/java/linux-amd64/jdk1.8.0_66/jre/lib/amd64/libjfxmedia.so  \n",
            "  inflating: Fiji.app/java/linux-amd64/jdk1.8.0_66/jre/lib/amd64/libprism_common.so  \n",
            "  inflating: Fiji.app/java/linux-amd64/jdk1.8.0_66/jre/lib/amd64/libjsdt.so  \n",
            "  inflating: Fiji.app/java/linux-amd64/jdk1.8.0_66/jre/lib/amd64/libjavafx_font.so  \n",
            "  inflating: Fiji.app/java/linux-amd64/jdk1.8.0_66/jre/lib/amd64/libjavafx_font_pango.so  \n",
            "  inflating: Fiji.app/java/linux-amd64/jdk1.8.0_66/jre/lib/amd64/libsunec.so  \n",
            "  inflating: Fiji.app/java/linux-amd64/jdk1.8.0_66/jre/lib/amd64/jvm.cfg  \n",
            "  inflating: Fiji.app/java/linux-amd64/jdk1.8.0_66/jre/lib/amd64/libresource.so  \n",
            "  inflating: Fiji.app/java/linux-amd64/jdk1.8.0_66/jre/lib/amd64/libdeploy.so  \n",
            "  inflating: Fiji.app/java/linux-amd64/jdk1.8.0_66/jre/lib/amd64/libhprof.so  \n",
            "  inflating: Fiji.app/java/linux-amd64/jdk1.8.0_66/jre/lib/amd64/libavplugin-53.so  \n",
            "  inflating: Fiji.app/java/linux-amd64/jdk1.8.0_66/jre/lib/amd64/libt2k.so  \n",
            "  inflating: Fiji.app/java/linux-amd64/jdk1.8.0_66/jre/lib/amd64/libjavafx_font_t2k.so  \n",
            "  inflating: Fiji.app/java/linux-amd64/jdk1.8.0_66/jre/lib/amd64/libkcms.so  \n",
            "  inflating: Fiji.app/java/linux-amd64/jdk1.8.0_66/jre/lib/amd64/libverify.so  \n",
            "  inflating: Fiji.app/java/linux-amd64/jdk1.8.0_66/jre/lib/amd64/libgstreamer-lite.so  \n",
            "  inflating: Fiji.app/java/linux-amd64/jdk1.8.0_66/jre/lib/amd64/libj2pkcs11.so  \n",
            "  inflating: Fiji.app/java/linux-amd64/jdk1.8.0_66/jre/lib/amd64/libglass.so  \n",
            "  inflating: Fiji.app/java/linux-amd64/jdk1.8.0_66/jre/lib/amd64/libprism_sw.so  \n",
            "  inflating: Fiji.app/java/linux-amd64/jdk1.8.0_66/jre/lib/amd64/libdt_socket.so  \n",
            "  inflating: Fiji.app/java/linux-amd64/jdk1.8.0_66/jre/lib/amd64/server/Xusage.txt  \n",
            "  inflating: Fiji.app/java/linux-amd64/jdk1.8.0_66/jre/lib/amd64/server/libjvm.so  \n",
            "  inflating: Fiji.app/java/linux-amd64/jdk1.8.0_66/jre/lib/amd64/server/libjsig.so  \n",
            "  inflating: Fiji.app/java/linux-amd64/jdk1.8.0_66/jre/lib/amd64/libunpack.so  \n",
            "  inflating: Fiji.app/java/linux-amd64/jdk1.8.0_66/jre/lib/amd64/libjavafx_font_freetype.so  \n",
            "  inflating: Fiji.app/java/linux-amd64/jdk1.8.0_66/jre/lib/amd64/libjawt.so  \n",
            "  inflating: Fiji.app/java/linux-amd64/jdk1.8.0_66/jre/lib/amd64/libjava_crw_demo.so  \n",
            "  inflating: Fiji.app/java/linux-amd64/jdk1.8.0_66/jre/lib/amd64/libjsound.so  \n",
            "  inflating: Fiji.app/java/linux-amd64/jdk1.8.0_66/jre/lib/amd64/libsctp.so  \n",
            "  inflating: Fiji.app/java/linux-amd64/jdk1.8.0_66/jre/lib/amd64/libjsig.so  \n",
            "  inflating: Fiji.app/java/linux-amd64/jdk1.8.0_66/jre/lib/amd64/libawt.so  \n",
            "  inflating: Fiji.app/java/linux-amd64/jdk1.8.0_66/jre/lib/amd64/libdecora_sse.so  \n",
            "  inflating: Fiji.app/java/linux-amd64/jdk1.8.0_66/jre/lib/amd64/libjdwp.so  \n",
            "  inflating: Fiji.app/java/linux-amd64/jdk1.8.0_66/jre/lib/amd64/libfontmanager.so  \n",
            "  inflating: Fiji.app/java/linux-amd64/jdk1.8.0_66/jre/lib/amd64/libnpjp2.so  \n",
            "  inflating: Fiji.app/java/linux-amd64/jdk1.8.0_66/jre/lib/amd64/libjpeg.so  \n",
            "  inflating: Fiji.app/java/linux-amd64/jdk1.8.0_66/jre/lib/amd64/libnio.so  \n",
            "  inflating: Fiji.app/java/linux-amd64/jdk1.8.0_66/jre/lib/amd64/libmanagement.so  \n",
            "  inflating: Fiji.app/java/linux-amd64/jdk1.8.0_66/jre/lib/amd64/libnet.so  \n",
            "  inflating: Fiji.app/java/linux-amd64/jdk1.8.0_66/jre/lib/amd64/libjaas_unix.so  \n",
            "  inflating: Fiji.app/java/linux-amd64/jdk1.8.0_66/jre/lib/amd64/libjfxwebkit.so  \n",
            "  inflating: Fiji.app/java/linux-amd64/jdk1.8.0_66/jre/lib/amd64/libj2pcsc.so  \n",
            "  inflating: Fiji.app/java/linux-amd64/jdk1.8.0_66/jre/lib/amd64/libinstrument.so  \n",
            "  inflating: Fiji.app/java/linux-amd64/jdk1.8.0_66/jre/lib/amd64/libsplashscreen.so  \n",
            "  inflating: Fiji.app/java/linux-amd64/jdk1.8.0_66/jre/lib/amd64/jli/libjli.so  \n",
            "  inflating: Fiji.app/java/linux-amd64/jdk1.8.0_66/jre/lib/amd64/libjavafx_iio.so  \n",
            "  inflating: Fiji.app/java/linux-amd64/jdk1.8.0_66/jre/lib/amd64/libj2gss.so  \n",
            "  inflating: Fiji.app/java/linux-amd64/jdk1.8.0_66/jre/lib/amd64/libjfr.so  \n",
            "  inflating: Fiji.app/java/linux-amd64/jdk1.8.0_66/jre/lib/amd64/libawt_xawt.so  \n",
            "  inflating: Fiji.app/java/linux-amd64/jdk1.8.0_66/jre/lib/flavormap.properties  \n",
            "  inflating: Fiji.app/java/linux-amd64/jdk1.8.0_66/jre/lib/calendars.properties  \n",
            "  inflating: Fiji.app/java/linux-amd64/jdk1.8.0_66/jre/lib/fontconfig.Turbo.properties.src  \n",
            "  inflating: Fiji.app/java/linux-amd64/jdk1.8.0_66/jre/lib/management-agent.jar  \n",
            "  inflating: Fiji.app/java/linux-amd64/jdk1.8.0_66/jre/lib/locale/ja/LC_MESSAGES/sunw_java_plugin.mo  \n",
            "  inflating: Fiji.app/java/linux-amd64/jdk1.8.0_66/jre/lib/locale/ko.UTF-8/LC_MESSAGES/sunw_java_plugin.mo  \n",
            "  inflating: Fiji.app/java/linux-amd64/jdk1.8.0_66/jre/lib/locale/de/LC_MESSAGES/sunw_java_plugin.mo  \n",
            "  inflating: Fiji.app/java/linux-amd64/jdk1.8.0_66/jre/lib/locale/sv/LC_MESSAGES/sunw_java_plugin.mo  \n",
            "  inflating: Fiji.app/java/linux-amd64/jdk1.8.0_66/jre/lib/locale/zh_TW.BIG5/LC_MESSAGES/sunw_java_plugin.mo  \n",
            "  inflating: Fiji.app/java/linux-amd64/jdk1.8.0_66/jre/lib/locale/zh.GBK/LC_MESSAGES/sunw_java_plugin.mo  \n",
            "  inflating: Fiji.app/java/linux-amd64/jdk1.8.0_66/jre/lib/locale/fr/LC_MESSAGES/sunw_java_plugin.mo  \n",
            "  inflating: Fiji.app/java/linux-amd64/jdk1.8.0_66/jre/lib/locale/it/LC_MESSAGES/sunw_java_plugin.mo  \n",
            "  inflating: Fiji.app/java/linux-amd64/jdk1.8.0_66/jre/lib/locale/zh_HK.BIG5HK/LC_MESSAGES/sunw_java_plugin.mo  \n",
            "  inflating: Fiji.app/java/linux-amd64/jdk1.8.0_66/jre/lib/locale/es/LC_MESSAGES/sunw_java_plugin.mo  \n",
            "  inflating: Fiji.app/java/linux-amd64/jdk1.8.0_66/jre/lib/locale/zh/LC_MESSAGES/sunw_java_plugin.mo  \n",
            "  inflating: Fiji.app/java/linux-amd64/jdk1.8.0_66/jre/lib/locale/ko/LC_MESSAGES/sunw_java_plugin.mo  \n",
            "  inflating: Fiji.app/java/linux-amd64/jdk1.8.0_66/jre/lib/locale/zh_TW/LC_MESSAGES/sunw_java_plugin.mo  \n",
            "  inflating: Fiji.app/java/linux-amd64/jdk1.8.0_66/jre/lib/locale/pt_BR/LC_MESSAGES/sunw_java_plugin.mo  \n",
            "  inflating: Fiji.app/java/linux-amd64/jdk1.8.0_66/jre/lib/currency.data  \n",
            "  inflating: Fiji.app/java/linux-amd64/jdk1.8.0_66/jre/lib/fontconfig.properties.src  \n",
            "  inflating: Fiji.app/java/linux-amd64/jdk1.8.0_66/jre/lib/jce.jar  \n",
            "  inflating: Fiji.app/java/linux-amd64/jdk1.8.0_66/jre/lib/rt.jar  \n",
            "  inflating: Fiji.app/java/linux-amd64/jdk1.8.0_66/jre/lib/psfontj2d.properties  \n",
            "  inflating: Fiji.app/java/linux-amd64/jdk1.8.0_66/jre/lib/content-types.properties  \n",
            "  inflating: Fiji.app/java/linux-amd64/jdk1.8.0_66/jre/lib/jfr.jar  \n",
            "  inflating: Fiji.app/java/linux-amd64/jdk1.8.0_66/jre/lib/javaws.jar  \n",
            "  inflating: Fiji.app/java/linux-amd64/jdk1.8.0_66/jre/lib/jfxswt.jar  \n"
          ],
          "name": "stdout"
        }
      ]
    },
    {
      "cell_type": "code",
      "metadata": {
        "id": "09nvPEuAJdCY"
      },
      "source": [
        "#!pip install SimpleITK"
      ],
      "execution_count": 21,
      "outputs": []
    },
    {
      "cell_type": "code",
      "metadata": {
        "id": "e9DKfO74lHGd"
      },
      "source": [
        "#!git clone https://github.com/InsightSoftwareConsortium/SimpleITK-Notebooks.git"
      ],
      "execution_count": 22,
      "outputs": []
    },
    {
      "cell_type": "code",
      "metadata": {
        "colab": {
          "base_uri": "https://localhost:8080/"
        },
        "id": "6DWNQbwwJdCY",
        "outputId": "0cf7f1df-bbe7-45d2-e978-540404ce5fcd"
      },
      "source": [
        "pip install ipywidgets"
      ],
      "execution_count": 23,
      "outputs": [
        {
          "output_type": "stream",
          "text": [
            "Requirement already satisfied: ipywidgets in ./lib/python3.7/dist-packages (7.6.3)\n",
            "Requirement already satisfied: traitlets>=4.3.1 in ./lib/python3.7/dist-packages (from ipywidgets) (5.0.5)\n",
            "Requirement already satisfied: ipython>=4.0.0; python_version >= \"3.3\" in ./lib/python3.7/dist-packages (from ipywidgets) (5.5.0)\n",
            "Requirement already satisfied: ipykernel>=4.5.1 in ./lib/python3.7/dist-packages (from ipywidgets) (4.10.1)\n",
            "Requirement already satisfied: widgetsnbextension~=3.5.0 in ./lib/python3.7/dist-packages (from ipywidgets) (3.5.1)\n",
            "Requirement already satisfied: nbformat>=4.2.0 in ./lib/python3.7/dist-packages (from ipywidgets) (5.1.2)\n",
            "Requirement already satisfied: jupyterlab-widgets>=1.0.0; python_version >= \"3.6\" in ./lib/python3.7/dist-packages (from ipywidgets) (1.0.0)\n",
            "Requirement already satisfied: ipython-genutils in ./lib/python3.7/dist-packages (from traitlets>=4.3.1->ipywidgets) (0.2.0)\n",
            "Requirement already satisfied: setuptools>=18.5 in ./lib/python3.7/dist-packages (from ipython>=4.0.0; python_version >= \"3.3\"->ipywidgets) (53.0.0)\n",
            "Requirement already satisfied: decorator in ./lib/python3.7/dist-packages (from ipython>=4.0.0; python_version >= \"3.3\"->ipywidgets) (4.4.2)\n",
            "Requirement already satisfied: prompt-toolkit<2.0.0,>=1.0.4 in ./lib/python3.7/dist-packages (from ipython>=4.0.0; python_version >= \"3.3\"->ipywidgets) (1.0.18)\n",
            "Requirement already satisfied: simplegeneric>0.8 in ./lib/python3.7/dist-packages (from ipython>=4.0.0; python_version >= \"3.3\"->ipywidgets) (0.8.1)\n",
            "Requirement already satisfied: pygments in ./lib/python3.7/dist-packages (from ipython>=4.0.0; python_version >= \"3.3\"->ipywidgets) (2.6.1)\n",
            "Requirement already satisfied: pickleshare in ./lib/python3.7/dist-packages (from ipython>=4.0.0; python_version >= \"3.3\"->ipywidgets) (0.7.5)\n",
            "Requirement already satisfied: pexpect; sys_platform != \"win32\" in ./lib/python3.7/dist-packages (from ipython>=4.0.0; python_version >= \"3.3\"->ipywidgets) (4.8.0)\n",
            "Requirement already satisfied: tornado>=4.0 in ./lib/python3.7/dist-packages (from ipykernel>=4.5.1->ipywidgets) (5.1.1)\n",
            "Requirement already satisfied: jupyter-client in ./lib/python3.7/dist-packages (from ipykernel>=4.5.1->ipywidgets) (5.3.5)\n",
            "Requirement already satisfied: notebook>=4.4.1 in ./lib/python3.7/dist-packages (from widgetsnbextension~=3.5.0->ipywidgets) (5.3.1)\n",
            "Requirement already satisfied: jsonschema!=2.5.0,>=2.4 in ./lib/python3.7/dist-packages (from nbformat>=4.2.0->ipywidgets) (2.6.0)\n",
            "Requirement already satisfied: jupyter-core in ./lib/python3.7/dist-packages (from nbformat>=4.2.0->ipywidgets) (4.7.1)\n",
            "Requirement already satisfied: wcwidth in ./lib/python3.7/dist-packages (from prompt-toolkit<2.0.0,>=1.0.4->ipython>=4.0.0; python_version >= \"3.3\"->ipywidgets) (0.2.5)\n",
            "Requirement already satisfied: six>=1.9.0 in ./lib/python3.7/dist-packages (from prompt-toolkit<2.0.0,>=1.0.4->ipython>=4.0.0; python_version >= \"3.3\"->ipywidgets) (1.15.0)\n",
            "Requirement already satisfied: ptyprocess>=0.5 in ./lib/python3.7/dist-packages (from pexpect; sys_platform != \"win32\"->ipython>=4.0.0; python_version >= \"3.3\"->ipywidgets) (0.7.0)\n",
            "Requirement already satisfied: python-dateutil>=2.1 in ./lib/python3.7/dist-packages (from jupyter-client->ipykernel>=4.5.1->ipywidgets) (2.8.1)\n",
            "Requirement already satisfied: pyzmq>=13 in ./lib/python3.7/dist-packages (from jupyter-client->ipykernel>=4.5.1->ipywidgets) (22.0.3)\n",
            "Requirement already satisfied: jinja2 in ./lib/python3.7/dist-packages (from notebook>=4.4.1->widgetsnbextension~=3.5.0->ipywidgets) (2.11.3)\n",
            "Requirement already satisfied: nbconvert in ./lib/python3.7/dist-packages (from notebook>=4.4.1->widgetsnbextension~=3.5.0->ipywidgets) (5.6.1)\n",
            "Requirement already satisfied: terminado>=0.8.1 in ./lib/python3.7/dist-packages (from notebook>=4.4.1->widgetsnbextension~=3.5.0->ipywidgets) (0.9.2)\n",
            "Requirement already satisfied: Send2Trash in ./lib/python3.7/dist-packages (from notebook>=4.4.1->widgetsnbextension~=3.5.0->ipywidgets) (1.5.0)\n",
            "Requirement already satisfied: MarkupSafe>=0.23 in ./lib/python3.7/dist-packages (from jinja2->notebook>=4.4.1->widgetsnbextension~=3.5.0->ipywidgets) (1.1.1)\n",
            "Requirement already satisfied: mistune<2,>=0.8.1 in ./lib/python3.7/dist-packages (from nbconvert->notebook>=4.4.1->widgetsnbextension~=3.5.0->ipywidgets) (0.8.4)\n",
            "Requirement already satisfied: defusedxml in ./lib/python3.7/dist-packages (from nbconvert->notebook>=4.4.1->widgetsnbextension~=3.5.0->ipywidgets) (0.6.0)\n",
            "Requirement already satisfied: pandocfilters>=1.4.1 in ./lib/python3.7/dist-packages (from nbconvert->notebook>=4.4.1->widgetsnbextension~=3.5.0->ipywidgets) (1.4.3)\n",
            "Requirement already satisfied: bleach in ./lib/python3.7/dist-packages (from nbconvert->notebook>=4.4.1->widgetsnbextension~=3.5.0->ipywidgets) (3.3.0)\n",
            "Requirement already satisfied: entrypoints>=0.2.2 in ./lib/python3.7/dist-packages (from nbconvert->notebook>=4.4.1->widgetsnbextension~=3.5.0->ipywidgets) (0.3)\n",
            "Requirement already satisfied: testpath in ./lib/python3.7/dist-packages (from nbconvert->notebook>=4.4.1->widgetsnbextension~=3.5.0->ipywidgets) (0.4.4)\n",
            "Requirement already satisfied: packaging in ./lib/python3.7/dist-packages (from bleach->nbconvert->notebook>=4.4.1->widgetsnbextension~=3.5.0->ipywidgets) (20.9)\n",
            "Requirement already satisfied: webencodings in ./lib/python3.7/dist-packages (from bleach->nbconvert->notebook>=4.4.1->widgetsnbextension~=3.5.0->ipywidgets) (0.5.1)\n",
            "Requirement already satisfied: pyparsing>=2.0.2 in ./lib/python3.7/dist-packages (from packaging->bleach->nbconvert->notebook>=4.4.1->widgetsnbextension~=3.5.0->ipywidgets) (2.4.7)\n"
          ],
          "name": "stdout"
        }
      ]
    },
    {
      "cell_type": "code",
      "metadata": {
        "colab": {
          "base_uri": "https://localhost:8080/",
          "height": 84,
          "referenced_widgets": [
            "1101b1d24f7443339617fd9c6919b975",
            "15f93f653a484cc69c3666a112835cd7",
            "74ec57a22f2f452883d39fa2422a19f2",
            "fb4c9e5521fb4c3eb9d7792464fdbe7f",
            "89a97a62fb83448285d3b17b0d6db71c",
            "90c9f82bd8984015bf7d59c2bb692cee",
            "c3da4738036849d087e315db09aa8c7e"
          ]
        },
        "id": "aWSsW1pTJdCY",
        "outputId": "2d26eca9-3c64-4093-af52-74e54151cc5d"
      },
      "source": [
        "# this will allow the notebook to reload/refresh automatically within the runtime\r\n",
        "%reload_ext autoreload\r\n",
        "%autoreload 2\r\n",
        "\r\n",
        "from ipywidgets import interact\r\n",
        "\r\n",
        "def f(x):\r\n",
        "  return x\r\n",
        "\r\n",
        "interact(f, x=10)"
      ],
      "execution_count": 24,
      "outputs": [
        {
          "output_type": "display_data",
          "data": {
            "application/vnd.jupyter.widget-view+json": {
              "model_id": "1101b1d24f7443339617fd9c6919b975",
              "version_minor": 0,
              "version_major": 2
            },
            "text/plain": [
              "interactive(children=(IntSlider(value=10, description='x', max=30, min=-10), Output()), _dom_classes=('widget-…"
            ]
          },
          "metadata": {
            "tags": []
          }
        },
        {
          "output_type": "execute_result",
          "data": {
            "text/plain": [
              "<function __main__.f>"
            ]
          },
          "metadata": {
            "tags": []
          },
          "execution_count": 24
        }
      ]
    },
    {
      "cell_type": "code",
      "metadata": {
        "id": "zEO9gF3wttp_"
      },
      "source": [
        "#pip install itk"
      ],
      "execution_count": 25,
      "outputs": []
    },
    {
      "cell_type": "code",
      "metadata": {
        "colab": {
          "base_uri": "https://localhost:8080/"
        },
        "id": "HaFNVhdxrzBz",
        "outputId": "517409f5-35f5-4e7a-cc95-69d92635175b"
      },
      "source": [
        "cd '/gdrive/MyDrive/SimpleITK-Notebooks/Python/'"
      ],
      "execution_count": 26,
      "outputs": [
        {
          "output_type": "stream",
          "text": [
            "/gdrive/MyDrive/SimpleITK-Notebooks/Python\n"
          ],
          "name": "stdout"
        }
      ]
    },
    {
      "cell_type": "code",
      "metadata": {
        "id": "7CZ95Naer7zA"
      },
      "source": [
        "!python '/gdrive/MyDrive/SimpleITK-Notebooks/Python/update_path_to_download_script.py'"
      ],
      "execution_count": 27,
      "outputs": []
    },
    {
      "cell_type": "code",
      "metadata": {
        "colab": {
          "base_uri": "https://localhost:8080/"
        },
        "id": "6uxmcL-rthqA",
        "outputId": "4f36cf92-0e54-4238-a774-86682845c3fd"
      },
      "source": [
        "import os\r\n",
        "os.environ['PYTHONPATH'] += \":/content/gdrive/My Drive/Fiji.app\"\r\n",
        "! echo $PYTHONPATH\r\n",
        "os.environ['PATH'] += \":/content/gdrive/My Drive/Fiji.app\"\r\n",
        "! echo $PATH"
      ],
      "execution_count": 28,
      "outputs": [
        {
          "output_type": "stream",
          "text": [
            "/env/python:/content/gdrive/My Drive/Fiji.app\n",
            "/usr/local/nvidia/bin:/usr/local/cuda/bin:/usr/local/sbin:/usr/local/bin:/usr/sbin:/usr/bin:/sbin:/bin:/tools/node/bin:/tools/google-cloud-sdk/bin:/opt/bin:/content/gdrive/My Drive/Fiji.app:/content/gdrive/My Drive/Fiji.app\n"
          ],
          "name": "stdout"
        }
      ]
    },
    {
      "cell_type": "code",
      "metadata": {
        "id": "1SwkFZlBqJfP"
      },
      "source": [
        "import numpy as np\r\n",
        "import os\r\n",
        "from ipywidgets import interact, fixed\r\n",
        "\r\n",
        "%matplotlib inline\r\n",
        "import matplotlib.pyplot as plt\r\n",
        "\r\n",
        "from downloaddata import fetch_data as fdata\r\n",
        "\r\n",
        "OUTPUT_DIR = 'output'\r\n",
        "\r\n",
        "image_viewer = sitk.ImageViewer()"
      ],
      "execution_count": 29,
      "outputs": []
    },
    {
      "cell_type": "code",
      "metadata": {
        "colab": {
          "base_uri": "https://localhost:8080/"
        },
        "id": "nCJGlMFdqOFE",
        "outputId": "59130047-5515-4fc3-d42a-4ff0022f9364"
      },
      "source": [
        "print(image_viewer)"
      ],
      "execution_count": 30,
      "outputs": [
        {
          "output_type": "stream",
          "text": [
            "itk::simple::ImageViewer\n",
            "  Title: \n",
            "  Command: %a -eval 'open(\"%f\"); rename(\"%t\");'\n",
            "  Application: /usr/local/Fiji.app/ImageJ-linux64\n",
            "  Default Application: /usr/local/Fiji.app/ImageJ-linux64\n",
            "  File Extension: .mha\n",
            "  Default File Extension: .mha\n",
            "  Search Path: [ ./, /root/bin/, /opt/, /usr/local/ ]\n",
            "  Executable Names: [ Fiji.app/ImageJ-linux64, Fiji.app/ImageJ-linux32 ]\n",
            "  Debug Flag: 0\n",
            "\n"
          ],
          "name": "stdout"
        }
      ]
    },
    {
      "cell_type": "code",
      "metadata": {
        "colab": {
          "base_uri": "https://localhost:8080/"
        },
        "id": "7_SNqv-kwyrU",
        "outputId": "474cbf0e-4480-4b15-f7af-11e86f7f4d37"
      },
      "source": [
        "%ls /usr/local/Fiji.app/ImageJ-linux64"
      ],
      "execution_count": 31,
      "outputs": [
        {
          "output_type": "stream",
          "text": [
            "\u001b[0m\u001b[01;32m/usr/local/Fiji.app/ImageJ-linux64\u001b[0m*\n"
          ],
          "name": "stdout"
        }
      ]
    },
    {
      "cell_type": "code",
      "metadata": {
        "id": "QrGhafu9JdCb"
      },
      "source": [
        "#!python '/gdrive/MyDrive/SimpleITK-Notebooks/Python/update_path_to_download_script.py'"
      ],
      "execution_count": 32,
      "outputs": []
    },
    {
      "cell_type": "code",
      "metadata": {
        "colab": {
          "base_uri": "https://localhost:8080/"
        },
        "id": "V-V37PL4JdCb",
        "outputId": "7009b381-efde-42fb-9324-106d760fec67"
      },
      "source": [
        "cd '/gdrive/MyDrive/SimpleITK-Notebooks/Python/'"
      ],
      "execution_count": 33,
      "outputs": [
        {
          "output_type": "stream",
          "text": [
            "/gdrive/MyDrive/SimpleITK-Notebooks/Python\n"
          ],
          "name": "stdout"
        }
      ]
    },
    {
      "cell_type": "code",
      "metadata": {
        "colab": {
          "base_uri": "https://localhost:8080/"
        },
        "id": "_O2bv8m0JdCb",
        "outputId": "210de2ab-e79b-4bbb-f3fe-b8d36dc1ef91"
      },
      "source": [
        "import SimpleITK as sitk\r\n",
        "\r\n",
        "%run update_path_to_download_script\r\n",
        "from downloaddata import fetch_data, fetch_data_all\r\n",
        "\r\n",
        "from ipywidgets import interact\r\n",
        "\r\n",
        "print(sitk.Version())"
      ],
      "execution_count": 34,
      "outputs": [
        {
          "output_type": "stream",
          "text": [
            "SimpleITK Version: 2.0.2 (ITK 5.1)\n",
            "Compiled: Dec  1 2020 22:01:03\n",
            "\n"
          ],
          "name": "stdout"
        }
      ]
    },
    {
      "cell_type": "code",
      "metadata": {
        "colab": {
          "base_uri": "https://localhost:8080/"
        },
        "id": "DL--n6qEJdCb",
        "outputId": "fb3c9e08-24bf-477a-f00f-674b7ab09fc8"
      },
      "source": [
        "%cd '/gdrive/MyDrive/'\r\n",
        "%ls"
      ],
      "execution_count": 35,
      "outputs": [
        {
          "output_type": "stream",
          "text": [
            "/gdrive/MyDrive\n",
            "\u001b[0m\u001b[01;34m'Colab Notebooks'\u001b[0m/                      \u001b[01;34mSimpleITK_ISBI2020_TUTORIAL\u001b[0m/\n",
            " \u001b[01;34mFiji.app\u001b[0m/                              SimpleITK.jpg\n",
            " fiji-linux64-20170530.zip              \u001b[01;34mSimpleITK-Notebooks\u001b[0m/\n",
            " \u001b[01;34mMyNiftyRec\u001b[0m/                            unnamed.png\n",
            " \u001b[01;34mMyTomoLab\u001b[0m/                            'Untitled project.gscript'\n",
            " pyjnius-1.2.0-py37h90b5fae_0.tar.bz2\n"
          ],
          "name": "stdout"
        }
      ]
    },
    {
      "cell_type": "code",
      "metadata": {
        "colab": {
          "base_uri": "https://localhost:8080/"
        },
        "id": "j2l-rZGgJdCb",
        "outputId": "95b4ac68-1431-4787-e68f-aac8ed4a7a73"
      },
      "source": [
        "cd /usr/local/"
      ],
      "execution_count": 36,
      "outputs": [
        {
          "output_type": "stream",
          "text": [
            "/usr/local\n"
          ],
          "name": "stdout"
        }
      ]
    },
    {
      "cell_type": "code",
      "metadata": {
        "id": "SS2wEpSedN3z"
      },
      "source": [
        "#image_viewer.SetApplication('/usr/local/Fiji.app/ImageJ-linux64')"
      ],
      "execution_count": 37,
      "outputs": []
    },
    {
      "cell_type": "code",
      "metadata": {
        "id": "CaJMiV5cdKIn"
      },
      "source": [
        "# Uncomment the line below to change the default external viewer to your viewer of choice and test that it works.\r\n",
        "#%env SITK_SHOW_COMMAND /Applications/ITK-SNAP.app/Contents/MacOS/ITK-SNAP \r\n",
        "#%env SITK_SHOW_COMMAND  /gdrive/MyDrive/Fiji.app/ImageJ-linux64\r\n",
        "#%env SITK_SHOW_COMMAND  /usr/local/Fiji.app/\r\n",
        "#%env SITK_SHOW_COMMAND  /usr/local/Fiji.app/ImageJ-linux64\r\n",
        "\r\n",
        "# Retrieve an image from the network, read it and display using the external viewer. \r\n",
        "# The show method will also set the display window's title and by setting debugOn to True, \r\n",
        "# will also print information with respect to the command it is attempting to invoke.\r\n",
        "# NOTE: The debug information is printed to the terminal from which you launched the notebook\r\n",
        "#       server."
      ],
      "execution_count": 38,
      "outputs": []
    },
    {
      "cell_type": "code",
      "metadata": {
        "colab": {
          "base_uri": "https://localhost:8080/"
        },
        "id": "SM1qty46eS1p",
        "outputId": "b0a41219-1269-47ba-88b9-381e4bf6c3c3"
      },
      "source": [
        "%ls /gdrive/MyDrive/"
      ],
      "execution_count": 39,
      "outputs": [
        {
          "output_type": "stream",
          "text": [
            "\u001b[0m\u001b[01;34m'Colab Notebooks'\u001b[0m/                      \u001b[01;34mSimpleITK_ISBI2020_TUTORIAL\u001b[0m/\n",
            " \u001b[01;34mFiji.app\u001b[0m/                              SimpleITK.jpg\n",
            " fiji-linux64-20170530.zip              \u001b[01;34mSimpleITK-Notebooks\u001b[0m/\n",
            " \u001b[01;34mMyNiftyRec\u001b[0m/                            unnamed.png\n",
            " \u001b[01;34mMyTomoLab\u001b[0m/                            'Untitled project.gscript'\n",
            " pyjnius-1.2.0-py37h90b5fae_0.tar.bz2\n"
          ],
          "name": "stdout"
        }
      ]
    },
    {
      "cell_type": "code",
      "metadata": {
        "colab": {
          "base_uri": "https://localhost:8080/"
        },
        "id": "FwSNHd10JdCc",
        "outputId": "752096b2-59b7-44b2-fa39-74fbb6763c6c"
      },
      "source": [
        "%cd /gdrive/MyDrive/SimpleITK_ISBI2020_TUTORIAL"
      ],
      "execution_count": 40,
      "outputs": [
        {
          "output_type": "stream",
          "text": [
            "/gdrive/MyDrive/SimpleITK_ISBI2020_TUTORIAL\n"
          ],
          "name": "stdout"
        }
      ]
    },
    {
      "cell_type": "code",
      "metadata": {
        "colab": {
          "base_uri": "https://localhost:8080/"
        },
        "id": "JntpnOgOFwep",
        "outputId": "820784b4-322a-4689-e452-0199bd54f389"
      },
      "source": [
        "print(image_viewer)"
      ],
      "execution_count": 41,
      "outputs": [
        {
          "output_type": "stream",
          "text": [
            "itk::simple::ImageViewer\n",
            "  Title: \n",
            "  Command: %a -eval 'open(\"%f\"); rename(\"%t\");'\n",
            "  Application: /usr/local/Fiji.app/ImageJ-linux64\n",
            "  Default Application: /usr/local/Fiji.app/ImageJ-linux64\n",
            "  File Extension: .mha\n",
            "  Default File Extension: .mha\n",
            "  Search Path: [ ./, /root/bin/, /opt/, /usr/local/ ]\n",
            "  Executable Names: [ Fiji.app/ImageJ-linux64, Fiji.app/ImageJ-linux32 ]\n",
            "  Debug Flag: 0\n",
            "\n"
          ],
          "name": "stdout"
        }
      ]
    },
    {
      "cell_type": "code",
      "metadata": {
        "id": "o9zBdnykCbus"
      },
      "source": [
        "#import SimpleITK as sitk\n",
        "\n",
        "#%matplotlib inline\n",
        "#import matplotlib.pyplot as plt\n",
        "#import numpy as np\n",
        "\n",
        "#from ipywidgets import interact, fixed\n",
        "#import os\n",
        "\n",
        "#OUTPUT_DIR = 'Output'\n",
        "\n",
        "# Utility method that either downloads data from the Girder repository or\n",
        "# if already downloaded returns the file name for reading from disk (cached data).\n",
        "#%run update_path_to_download_script\n",
        "#from downloaddata import fetch_data as fdata"
      ],
      "execution_count": 42,
      "outputs": []
    },
    {
      "cell_type": "code",
      "metadata": {
        "id": "5kx_B9m-LcQ1"
      },
      "source": [
        "import SimpleITK as sitk\n",
        "\n",
        "import numpy as np\n",
        "\n",
        "from downloaddata import fetch_data as fdata\n",
        "%matplotlib inline\n",
        "import matplotlib.pyplot as plt\n",
        "import gui\n",
        "\n",
        "from ipywidgets import interact, fixed"
      ],
      "execution_count": 43,
      "outputs": []
    },
    {
      "cell_type": "markdown",
      "metadata": {
        "id": "z1Jne0MyLcQ2"
      },
      "source": [
        "## Utility method for display"
      ]
    },
    {
      "cell_type": "code",
      "metadata": {
        "code_folding": [],
        "id": "2_FDsgvbLcQ2"
      },
      "source": [
        "def display_with_overlay(segmentation_number, slice_number, image, segs, window_min, window_max):\n",
        "    \"\"\"\n",
        "    Display a CT slice with segmented contours overlaid onto it. The contours are the edges of \n",
        "    the labeled regions.\n",
        "    \"\"\"\n",
        "    img = image[:,:,slice_number]\n",
        "    msk = segs[segmentation_number][:,:,slice_number]\n",
        "    overlay_img = sitk.LabelMapContourOverlay(sitk.Cast(msk, sitk.sitkLabelUInt8), \n",
        "                                              sitk.Cast(sitk.IntensityWindowing(img,\n",
        "                                                                                windowMinimum=window_min, \n",
        "                                                                                windowMaximum=window_max), \n",
        "                                                        sitk.sitkUInt8), \n",
        "                                             opacity = 1, \n",
        "                                             contourThickness=[2,2])\n",
        "    #We assume the original slice is isotropic, otherwise the display would be distorted \n",
        "    plt.imshow(sitk.GetArrayViewFromImage(overlay_img))\n",
        "    plt.axis('off')\n",
        "    plt.show()"
      ],
      "execution_count": 44,
      "outputs": []
    },
    {
      "cell_type": "markdown",
      "metadata": {
        "id": "A90E7xkyLcQ3"
      },
      "source": [
        "## Fetch the data\n",
        "\n",
        "Retrieve a single CT scan and three manual delineations of a liver tumor. Visual inspection of the data highlights the variability between experts. "
      ]
    },
    {
      "cell_type": "code",
      "metadata": {
        "colab": {
          "base_uri": "https://localhost:8080/",
          "height": 454,
          "referenced_widgets": [
            "d2d8a374fc8d4485b4d68efacf765478",
            "9510256c90794c6191189637ed0fc970",
            "a404b36ca4cf4ce5a233de78a12b97fe",
            "da55b6ef3cb94ca398f77ef1dd7d3ac3",
            "faba8a9e7759406395c9d4579cc7e965",
            "2b7345c11cf740ec9ede9dcfa2f0fe45",
            "2f42c3d45eb24fdd88fdc8938334f30d",
            "7c3cd161009b454f950602f348162251",
            "b3be65dee8894cfba23f80a9e0e14f34",
            "fdeb1e974ba343aebec69a09d1fae013"
          ]
        },
        "id": "sWaIttGwLcQ3",
        "outputId": "39657c9e-ad4c-400f-f702-8fe8ea0997b3"
      },
      "source": [
        "image = sitk.ReadImage(fdata(\"liverTumorSegmentations/Patient01Homo.mha\"))\n",
        "segmentation_file_names = [\"liverTumorSegmentations/Patient01Homo_Rad01.mha\", \n",
        "                          \"liverTumorSegmentations/Patient01Homo_Rad02.mha\",\n",
        "                          \"liverTumorSegmentations/Patient01Homo_Rad03.mha\"]\n",
        "                          \n",
        "segmentations = [sitk.ReadImage(fdata(file_name), sitk.sitkUInt8) for file_name in segmentation_file_names]\n",
        "    \n",
        "interact(display_with_overlay, segmentation_number=(0,len(segmentations)-1), \n",
        "         slice_number = (0, image.GetSize()[2]-1), image = fixed(image),\n",
        "         segs = fixed(segmentations), window_min = fixed(-1024), window_max=fixed(976));"
      ],
      "execution_count": 45,
      "outputs": [
        {
          "output_type": "stream",
          "text": [
            "Fetching liverTumorSegmentations/Patient01Homo.mha\n",
            "Downloaded 1365461 of 1365461 bytes (100.00%)\n",
            "Fetching liverTumorSegmentations/Patient01Homo_Rad01.mha\n",
            "Downloaded 3757 of 3757 bytes (100.00%)\n",
            "Fetching liverTumorSegmentations/Patient01Homo_Rad02.mha\n",
            "Downloaded 3722 of 3722 bytes (100.00%)\n",
            "Fetching liverTumorSegmentations/Patient01Homo_Rad03.mha\n",
            "Downloaded 3796 of 3796 bytes (100.00%)\n"
          ],
          "name": "stdout"
        },
        {
          "output_type": "display_data",
          "data": {
            "application/vnd.jupyter.widget-view+json": {
              "model_id": "d2d8a374fc8d4485b4d68efacf765478",
              "version_minor": 0,
              "version_major": 2
            },
            "text/plain": [
              "interactive(children=(IntSlider(value=1, description='segmentation_number', max=2), IntSlider(value=48, descri…"
            ]
          },
          "metadata": {
            "tags": []
          }
        }
      ]
    },
    {
      "cell_type": "markdown",
      "metadata": {
        "id": "hASPijxyLcQ3"
      },
      "source": [
        "## Derive a reference\n",
        "\n",
        "There are a variety of ways to derive a reference segmentation from multiple expert inputs (\"[A comparison of ground truth estimation methods](https://www.ncbi.nlm.nih.gov/pubmed/20033494)\", A. M. Biancardi, A. C. Jirapatnakul, A. P. Reeves).\n",
        "\n",
        "Two methods that are available in SimpleITK are [majority vote](https://itk.org/SimpleITKDoxygen/html/classitk_1_1simple_1_1LabelVotingImageFilter.html) and the STAPLE algorithm ([single label](https://itk.org/SimpleITKDoxygen/html/classitk_1_1simple_1_1STAPLEImageFilter.html) or [multi label](https://itk.org/SimpleITKDoxygen/html/classitk_1_1simple_1_1MultiLabelSTAPLEImageFilter.html))."
      ]
    },
    {
      "cell_type": "code",
      "metadata": {
        "colab": {
          "base_uri": "https://localhost:8080/",
          "height": 312,
          "referenced_widgets": [
            "eef44fb53cb240d2bac1d3a96b3100c4",
            "5459403a0fe042c3ab3ba031723b9027",
            "90767875d227459b9da93070fae44579",
            "dbc29f4727d8482488e090e1f3f59dfa",
            "4fd582879cd34dc284b44a70bf3c4693",
            "76b3b2a2652f47089ab1918b16d12c33",
            "4ae52a8e52a74d1dad6ff7ddb46c77b5",
            "87c7e5e0ad534485bbd0df16db9673ed",
            "db0a41fbb56f422f9bb957d7eb2ce58d",
            "3fe8d4171654481c8bb1e0f2c97f7eee"
          ]
        },
        "id": "qrSFcpt9LcQ3",
        "outputId": "bda3bb82-06ab-435c-8fa1-ca1fac52592f"
      },
      "source": [
        "# Use the STAPLE algorithm to obtain the reference segmentation. This implementation of the original algorithm\n",
        "# combines a single label from multiple segmentations, the label is user specified. The result of the\n",
        "# filter is the voxel's probability of belonging to the foreground. We then have to threshold the result to obtain\n",
        "# a reference binary segmentation.\n",
        "foregroundValue = 1\n",
        "threshold = 0.95\n",
        "reference_segmentation_STAPLE_probabilities = sitk.STAPLE(segmentations, foregroundValue) \n",
        "# We use the overloaded operator to perform thresholding, another option is to use the BinaryThreshold function.\n",
        "reference_segmentation = reference_segmentation_STAPLE_probabilities > threshold\n",
        "\n",
        "manual_plus_staple = list(segmentations)  \n",
        "# Append the reference segmentation to the list of manual segmentations\n",
        "manual_plus_staple.append(reference_segmentation)\n",
        "\n",
        "interact(display_with_overlay, segmentation_number=(0,len(manual_plus_staple)-1), \n",
        "         slice_number = (0, image.GetSize()[1]-1), image = fixed(image),\n",
        "         segs = fixed(manual_plus_staple), window_min = fixed(-1024), window_max=fixed(976));"
      ],
      "execution_count": 46,
      "outputs": [
        {
          "output_type": "display_data",
          "data": {
            "application/vnd.jupyter.widget-view+json": {
              "model_id": "eef44fb53cb240d2bac1d3a96b3100c4",
              "version_minor": 0,
              "version_major": 2
            },
            "text/plain": [
              "interactive(children=(IntSlider(value=1, description='segmentation_number', max=3), IntSlider(value=88, descri…"
            ]
          },
          "metadata": {
            "tags": []
          }
        }
      ]
    },
    {
      "cell_type": "markdown",
      "metadata": {
        "id": "ovZ0Jg5PLcQ4"
      },
      "source": [
        "## Evaluate segmentations using the reference\n",
        "\n",
        "Once we derive a reference from our experts input we can compare segmentation results to it.\n",
        "\n",
        "Note that in this notebook we compare the expert segmentations to the reference derived from them. This is not relevant for algorithm evaluation, but it can potentially be used to rank your experts.\n",
        "\n",
        "In this specific implementation we take advantage of the fact that we have a binary segmentation with 1 for foreground and 0 for background."
      ]
    },
    {
      "cell_type": "code",
      "metadata": {
        "colab": {
          "base_uri": "https://localhost:8080/"
        },
        "id": "I_lX_ipdLcQ4",
        "outputId": "22b43f29-2010-42a9-87dd-1ba7dcf648a1"
      },
      "source": [
        "from enum import Enum\n",
        "\n",
        "# Use enumerations to represent the various evaluation measures\n",
        "class OverlapMeasures(Enum):\n",
        "    jaccard, dice, volume_similarity, false_negative, false_positive = range(5)\n",
        "\n",
        "class SurfaceDistanceMeasures(Enum):\n",
        "    hausdorff_distance, mean_surface_distance, median_surface_distance, std_surface_distance, max_surface_distance = range(5)\n",
        "    \n",
        "# Empty numpy arrays to hold the results \n",
        "overlap_results = np.zeros((len(segmentations),len(OverlapMeasures.__members__.items())))  \n",
        "surface_distance_results = np.zeros((len(segmentations),len(SurfaceDistanceMeasures.__members__.items())))  \n",
        "\n",
        "# Compute the evaluation criteria\n",
        "\n",
        "# Note that for the overlap measures filter, because we are dealing with a single label we \n",
        "# use the combined, all labels, evaluation measures without passing a specific label to the methods.\n",
        "overlap_measures_filter = sitk.LabelOverlapMeasuresImageFilter()\n",
        "\n",
        "hausdorff_distance_filter = sitk.HausdorffDistanceImageFilter()\n",
        "\n",
        "# Use the absolute values of the distance map to compute the surface distances (distance map sign, outside or inside \n",
        "# relationship, is irrelevant)\n",
        "label = 1\n",
        "reference_distance_map = sitk.Abs(sitk.SignedMaurerDistanceMap(reference_segmentation, squaredDistance=False, useImageSpacing=True))\n",
        "reference_surface = sitk.LabelContour(reference_segmentation)\n",
        "\n",
        "statistics_image_filter = sitk.StatisticsImageFilter()\n",
        "# Get the number of pixels in the reference surface by counting all pixels that are 1.\n",
        "statistics_image_filter.Execute(reference_surface)\n",
        "num_reference_surface_pixels = int(statistics_image_filter.GetSum()) \n",
        "\n",
        "for i, seg in enumerate(segmentations):\n",
        "    # Overlap measures\n",
        "    overlap_measures_filter.Execute(reference_segmentation, seg)\n",
        "    overlap_results[i,OverlapMeasures.jaccard.value] = overlap_measures_filter.GetJaccardCoefficient()\n",
        "    overlap_results[i,OverlapMeasures.dice.value] = overlap_measures_filter.GetDiceCoefficient()\n",
        "    overlap_results[i,OverlapMeasures.volume_similarity.value] = overlap_measures_filter.GetVolumeSimilarity()\n",
        "    overlap_results[i,OverlapMeasures.false_negative.value] = overlap_measures_filter.GetFalseNegativeError()\n",
        "    overlap_results[i,OverlapMeasures.false_positive.value] = overlap_measures_filter.GetFalsePositiveError()\n",
        "    # Hausdorff distance\n",
        "    hausdorff_distance_filter.Execute(reference_segmentation, seg)\n",
        "    \n",
        "    surface_distance_results[i,SurfaceDistanceMeasures.hausdorff_distance.value] = hausdorff_distance_filter.GetHausdorffDistance()\n",
        "    # Symmetric surface distance measures\n",
        "    segmented_distance_map = sitk.Abs(sitk.SignedMaurerDistanceMap(seg, squaredDistance=False, useImageSpacing=True))\n",
        "    segmented_surface = sitk.LabelContour(seg)\n",
        "        \n",
        "    # Multiply the binary surface segmentations with the distance maps. The resulting distance\n",
        "    # maps contain non-zero values only on the surface (they can also contain zero on the surface)\n",
        "    seg2ref_distance_map = reference_distance_map*sitk.Cast(segmented_surface, sitk.sitkFloat32)\n",
        "    ref2seg_distance_map = segmented_distance_map*sitk.Cast(reference_surface, sitk.sitkFloat32)\n",
        "        \n",
        "    # Get the number of pixels in the reference surface by counting all pixels that are 1.\n",
        "    statistics_image_filter.Execute(segmented_surface)\n",
        "    num_segmented_surface_pixels = int(statistics_image_filter.GetSum())\n",
        "    \n",
        "    # Get all non-zero distances and then add zero distances if required.\n",
        "    seg2ref_distance_map_arr = sitk.GetArrayViewFromImage(seg2ref_distance_map)\n",
        "    seg2ref_distances = list(seg2ref_distance_map_arr[seg2ref_distance_map_arr!=0]) \n",
        "    seg2ref_distances = seg2ref_distances + \\\n",
        "                        list(np.zeros(num_segmented_surface_pixels - len(seg2ref_distances)))\n",
        "    ref2seg_distance_map_arr = sitk.GetArrayViewFromImage(ref2seg_distance_map)\n",
        "    ref2seg_distances = list(ref2seg_distance_map_arr[ref2seg_distance_map_arr!=0]) \n",
        "    ref2seg_distances = ref2seg_distances + \\\n",
        "                        list(np.zeros(num_reference_surface_pixels - len(ref2seg_distances)))\n",
        "        \n",
        "    all_surface_distances = seg2ref_distances + ref2seg_distances\n",
        "\n",
        "    # The maximum of the symmetric surface distances is the Hausdorff distance between the surfaces. In \n",
        "    # general, it is not equal to the Hausdorff distance between all voxel/pixel points of the two \n",
        "    # segmentations, though in our case it is. More on this below.\n",
        "    surface_distance_results[i,SurfaceDistanceMeasures.mean_surface_distance.value] = np.mean(all_surface_distances)\n",
        "    surface_distance_results[i,SurfaceDistanceMeasures.median_surface_distance.value] = np.median(all_surface_distances)\n",
        "    surface_distance_results[i,SurfaceDistanceMeasures.std_surface_distance.value] = np.std(all_surface_distances)\n",
        "    surface_distance_results[i,SurfaceDistanceMeasures.max_surface_distance.value] = np.max(all_surface_distances)\n",
        "    \n",
        "# Print the matrices\n",
        "np.set_printoptions(precision=3)\n",
        "print(overlap_results)\n",
        "print(surface_distance_results)"
      ],
      "execution_count": 47,
      "outputs": [
        {
          "output_type": "stream",
          "text": [
            "[[ 0.82   0.901  0.052  0.075  0.122]\n",
            " [ 0.881  0.937 -0.013  0.069  0.057]\n",
            " [ 0.843  0.915 -0.088  0.124  0.044]]\n",
            "[[4.905 0.459 0.    0.85  4.905]\n",
            " [3.469 0.29  0.    0.689 3.469]\n",
            " [5.203 0.431 0.    0.831 5.203]]\n"
          ],
          "name": "stdout"
        }
      ]
    },
    {
      "cell_type": "markdown",
      "metadata": {
        "id": "QNkjLy6qLcQ5"
      },
      "source": [
        "## Improved output\n",
        "\n",
        "Using the [pandas](http://pandas.pydata.org/) package we can easily produce high quality output. "
      ]
    },
    {
      "cell_type": "code",
      "metadata": {
        "colab": {
          "base_uri": "https://localhost:8080/",
          "height": 769
        },
        "id": "Qowu8Zq1LcQ6",
        "outputId": "43190136-cc76-4302-ea43-bc601fb79a23"
      },
      "source": [
        "import pandas as pd\n",
        "from IPython.display import display, HTML \n",
        "\n",
        "# Graft our results matrix into pandas data frames \n",
        "overlap_results_df = pd.DataFrame(data=overlap_results, index = list(range(len(segmentations))), \n",
        "                                  columns=[name for name, _ in OverlapMeasures.__members__.items()]) \n",
        "surface_distance_results_df = pd.DataFrame(data=surface_distance_results, index = list(range(len(segmentations))), \n",
        "                                  columns=[name for name, _ in SurfaceDistanceMeasures.__members__.items()]) \n",
        "\n",
        "# Display the data as HTML tables and graphs\n",
        "display(HTML(overlap_results_df.to_html(float_format=lambda x: '%.3f' % x)))\n",
        "display(HTML(surface_distance_results_df.to_html(float_format=lambda x: '%.3f' % x)))\n",
        "overlap_results_df.plot(kind='bar').legend(bbox_to_anchor=(1.6,0.9))\n",
        "surface_distance_results_df.plot(kind='bar').legend(bbox_to_anchor=(1.6,0.9))"
      ],
      "execution_count": 48,
      "outputs": [
        {
          "output_type": "display_data",
          "data": {
            "text/html": [
              "<table border=\"1\" class=\"dataframe\">\n",
              "  <thead>\n",
              "    <tr style=\"text-align: right;\">\n",
              "      <th></th>\n",
              "      <th>jaccard</th>\n",
              "      <th>dice</th>\n",
              "      <th>volume_similarity</th>\n",
              "      <th>false_negative</th>\n",
              "      <th>false_positive</th>\n",
              "    </tr>\n",
              "  </thead>\n",
              "  <tbody>\n",
              "    <tr>\n",
              "      <th>0</th>\n",
              "      <td>0.820</td>\n",
              "      <td>0.901</td>\n",
              "      <td>0.052</td>\n",
              "      <td>0.075</td>\n",
              "      <td>0.122</td>\n",
              "    </tr>\n",
              "    <tr>\n",
              "      <th>1</th>\n",
              "      <td>0.881</td>\n",
              "      <td>0.937</td>\n",
              "      <td>-0.013</td>\n",
              "      <td>0.069</td>\n",
              "      <td>0.057</td>\n",
              "    </tr>\n",
              "    <tr>\n",
              "      <th>2</th>\n",
              "      <td>0.843</td>\n",
              "      <td>0.915</td>\n",
              "      <td>-0.088</td>\n",
              "      <td>0.124</td>\n",
              "      <td>0.044</td>\n",
              "    </tr>\n",
              "  </tbody>\n",
              "</table>"
            ],
            "text/plain": [
              "<IPython.core.display.HTML object>"
            ]
          },
          "metadata": {
            "tags": []
          }
        },
        {
          "output_type": "display_data",
          "data": {
            "text/html": [
              "<table border=\"1\" class=\"dataframe\">\n",
              "  <thead>\n",
              "    <tr style=\"text-align: right;\">\n",
              "      <th></th>\n",
              "      <th>hausdorff_distance</th>\n",
              "      <th>mean_surface_distance</th>\n",
              "      <th>median_surface_distance</th>\n",
              "      <th>std_surface_distance</th>\n",
              "      <th>max_surface_distance</th>\n",
              "    </tr>\n",
              "  </thead>\n",
              "  <tbody>\n",
              "    <tr>\n",
              "      <th>0</th>\n",
              "      <td>4.905</td>\n",
              "      <td>0.459</td>\n",
              "      <td>0.000</td>\n",
              "      <td>0.850</td>\n",
              "      <td>4.905</td>\n",
              "    </tr>\n",
              "    <tr>\n",
              "      <th>1</th>\n",
              "      <td>3.469</td>\n",
              "      <td>0.290</td>\n",
              "      <td>0.000</td>\n",
              "      <td>0.689</td>\n",
              "      <td>3.469</td>\n",
              "    </tr>\n",
              "    <tr>\n",
              "      <th>2</th>\n",
              "      <td>5.203</td>\n",
              "      <td>0.431</td>\n",
              "      <td>0.000</td>\n",
              "      <td>0.831</td>\n",
              "      <td>5.203</td>\n",
              "    </tr>\n",
              "  </tbody>\n",
              "</table>"
            ],
            "text/plain": [
              "<IPython.core.display.HTML object>"
            ]
          },
          "metadata": {
            "tags": []
          }
        },
        {
          "output_type": "execute_result",
          "data": {
            "text/plain": [
              "<matplotlib.legend.Legend at 0x7feaa679c9d0>"
            ]
          },
          "metadata": {
            "tags": []
          },
          "execution_count": 48
        },
        {
          "output_type": "display_data",
          "data": {
            "image/png": "[encoded data removed]",
            "text/plain": [
              "<Figure size 432x288 with 1 Axes>"
            ]
          },
          "metadata": {
            "tags": [],
            "needs_background": "light"
          }
        },
        {
          "output_type": "display_data",
          "data": {
            "image/png": "[encoded data removed]",
            "text/plain": [
              "<Figure size 432x288 with 1 Axes>"
            ]
          },
          "metadata": {
            "tags": [],
            "needs_background": "light"
          }
        }
      ]
    },
    {
      "cell_type": "markdown",
      "metadata": {
        "id": "4bcRehZHLcQ6"
      },
      "source": [
        "You can also export the data as a table for your LaTeX manuscript using the [to_latex](http://pandas.pydata.org/pandas-docs/stable/generated/pandas.DataFrame.to_latex.html) function.\n",
        "<b>Note</b>: You will need to add the \\usepackage{booktabs} to your LaTeX document's preamble. \n",
        "\n",
        "To create the minimal LaTeX document which will allow you to see the difference between the tables below, copy paste:\n",
        "\n",
        "\\documentclass{article}\n",
        "\n",
        "\\usepackage{booktabs}\n",
        "\n",
        "\\begin{document}\n",
        "\n",
        "paste the tables here\n",
        "\n",
        "\\end{document}\n",
        "\n"
      ]
    },
    {
      "cell_type": "code",
      "metadata": {
        "colab": {
          "base_uri": "https://localhost:8080/"
        },
        "id": "clRPMN3iLcQ6",
        "outputId": "4db8d166-39fb-4304-a58d-1ba856a85c8c"
      },
      "source": [
        "# The formatting of the table using the default settings is less than ideal \n",
        "print(overlap_results_df.to_latex())\n",
        "\n",
        "# We can improve on this by specifying the table's column format and the float format\n",
        "print(overlap_results_df.to_latex(column_format='ccccccc', float_format=lambda x: '%.3f' % x))"
      ],
      "execution_count": 49,
      "outputs": [
        {
          "output_type": "stream",
          "text": [
            "\\begin{tabular}{lrrrrr}\n",
            "\\toprule\n",
            "{} &   jaccard &      dice &  volume\\_similarity &  false\\_negative &  false\\_positive \\\\\n",
            "\\midrule\n",
            "0 &  0.820124 &  0.901174 &           0.052253 &        0.074650 &        0.121771 \\\\\n",
            "1 &  0.881379 &  0.936950 &          -0.013196 &        0.069192 &        0.056827 \\\\\n",
            "2 &  0.842653 &  0.914608 &          -0.087509 &        0.123732 &        0.043542 \\\\\n",
            "\\bottomrule\n",
            "\\end{tabular}\n",
            "\n",
            "\\begin{tabular}{ccccccc}\n",
            "\\toprule\n",
            "{} &  jaccard &  dice &  volume\\_similarity &  false\\_negative &  false\\_positive \\\\\n",
            "\\midrule\n",
            "0 &    0.820 & 0.901 &              0.052 &           0.075 &           0.122 \\\\\n",
            "1 &    0.881 & 0.937 &             -0.013 &           0.069 &           0.057 \\\\\n",
            "2 &    0.843 & 0.915 &             -0.088 &           0.124 &           0.044 \\\\\n",
            "\\bottomrule\n",
            "\\end{tabular}\n",
            "\n"
          ],
          "name": "stdout"
        }
      ]
    },
    {
      "cell_type": "markdown",
      "metadata": {
        "id": "XvQHaeG-LcQ6"
      },
      "source": [
        "## Visual Diff\n",
        "\n",
        "It is always nice to have a figure with a visual display of the difference between the segmentation and ground truth."
      ]
    },
    {
      "cell_type": "code",
      "metadata": {
        "simpleitk_error_allowed": "Exception thrown in SimpleITK Show:",
        "id": "irTZotq2LcQ7"
      },
      "source": [
        "# Use the first segmentation \n",
        "segmentation = segmentations[0]\n",
        "\n",
        "# Save ink, the differences will be in black and background is white \n",
        "segmentation_diff = (segmentation==reference_segmentation)*255\n",
        "\n",
        "# Flatten for 2D presentation, create a montage from the volume\n",
        "num_slices = segmentation_diff.GetDepth()\n",
        "tile_w = int(np.sqrt(num_slices))\n",
        "tile_h = int(np.ceil(num_slices/tile_w))\n",
        "default_background_color = 255\n",
        "tile_image = sitk.Tile([segmentation_diff[:,:,i] for i in range(num_slices)], (tile_w, tile_h), default_background_color)\n",
        "sitk.Show(tile_image)"
      ],
      "execution_count": 50,
      "outputs": []
    },
    {
      "cell_type": "markdown",
      "metadata": {
        "id": "jzQB9sByLcQ7"
      },
      "source": [
        "<a href=\"09_results_visualization.ipynb\"><h2 align=right>Next &raquo;</h2></a>"
      ]
    }
  ]
}