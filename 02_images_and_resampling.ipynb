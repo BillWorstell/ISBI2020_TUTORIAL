{
  "nbformat": 4,
  "nbformat_minor": 0,
  "metadata": {
    "kernelspec": {
      "display_name": "Python 3",
      "language": "python",
      "name": "python3"
    },
    "language_info": {
      "codemirror_mode": {
        "name": "ipython",
        "version": 3
      },
      "file_extension": ".py",
      "mimetype": "text/x-python",
      "name": "python",
      "nbconvert_exporter": "python",
      "pygments_lexer": "ipython3",
      "version": "3.6.8"
    },
    "colab": {
      "name": "02_images_and_resampling.ipynb",
      "provenance": [],
      "collapsed_sections": [
        "82lLi7zNDacj",
        "9j-MC-BQc1EV",
        "ktORofalc1EW",
        "OeFXhDuxc1EW"
      ],
      "include_colab_link": true
    },
    "widgets": {
      "application/vnd.jupyter.widget-state+json": {
        "8f71d71f42284721a86df37cc95b3f4b": {
          "model_module": "@jupyter-widgets/controls",
          "model_name": "VBoxModel",
          "state": {
            "_view_name": "VBoxView",
            "_dom_classes": [
              "widget-interact"
            ],
            "_model_name": "VBoxModel",
            "_view_module": "@jupyter-widgets/controls",
            "_model_module_version": "1.5.0",
            "_view_count": null,
            "_view_module_version": "1.5.0",
            "box_style": "",
            "layout": "IPY_MODEL_d41efaa0bc6b451b96721ac7b63f7294",
            "_model_module": "@jupyter-widgets/controls",
            "children": [
              "IPY_MODEL_5dff180e8231444596b9fa7aa3cff468",
              "IPY_MODEL_fce5625e1d3c4418895dac0bdc9df8e1"
            ]
          }
        },
        "d41efaa0bc6b451b96721ac7b63f7294": {
          "model_module": "@jupyter-widgets/base",
          "model_name": "LayoutModel",
          "state": {
            "_view_name": "LayoutView",
            "grid_template_rows": null,
            "right": null,
            "justify_content": null,
            "_view_module": "@jupyter-widgets/base",
            "overflow": null,
            "_model_module_version": "1.2.0",
            "_view_count": null,
            "flex_flow": null,
            "width": null,
            "min_width": null,
            "border": null,
            "align_items": null,
            "bottom": null,
            "_model_module": "@jupyter-widgets/base",
            "top": null,
            "grid_column": null,
            "overflow_y": null,
            "overflow_x": null,
            "grid_auto_flow": null,
            "grid_area": null,
            "grid_template_columns": null,
            "flex": null,
            "_model_name": "LayoutModel",
            "justify_items": null,
            "grid_row": null,
            "max_height": null,
            "align_content": null,
            "visibility": null,
            "align_self": null,
            "height": null,
            "min_height": null,
            "padding": null,
            "grid_auto_rows": null,
            "grid_gap": null,
            "max_width": null,
            "order": null,
            "_view_module_version": "1.2.0",
            "grid_template_areas": null,
            "object_position": null,
            "object_fit": null,
            "grid_auto_columns": null,
            "margin": null,
            "display": null,
            "left": null
          }
        },
        "5dff180e8231444596b9fa7aa3cff468": {
          "model_module": "@jupyter-widgets/controls",
          "model_name": "IntSliderModel",
          "state": {
            "_view_name": "IntSliderView",
            "style": "IPY_MODEL_fcbe3166c93a4dff89f8ec86f43e24b7",
            "_dom_classes": [],
            "description": "x",
            "step": 1,
            "_model_name": "IntSliderModel",
            "orientation": "horizontal",
            "max": 30,
            "_view_module": "@jupyter-widgets/controls",
            "_model_module_version": "1.5.0",
            "value": 10,
            "_view_count": null,
            "disabled": false,
            "_view_module_version": "1.5.0",
            "min": -10,
            "continuous_update": true,
            "readout_format": "d",
            "description_tooltip": null,
            "readout": true,
            "_model_module": "@jupyter-widgets/controls",
            "layout": "IPY_MODEL_e40a67a875364cdda750f3315907afbe"
          }
        },
        "fce5625e1d3c4418895dac0bdc9df8e1": {
          "model_module": "@jupyter-widgets/output",
          "model_name": "OutputModel",
          "state": {
            "_view_name": "OutputView",
            "msg_id": "",
            "_dom_classes": [],
            "_model_name": "OutputModel",
            "outputs": [
              {
                "output_type": "display_data",
                "metadata": {
                  "tags": []
                },
                "text/plain": "10"
              }
            ],
            "_view_module": "@jupyter-widgets/output",
            "_model_module_version": "1.0.0",
            "_view_count": null,
            "_view_module_version": "1.0.0",
            "layout": "IPY_MODEL_0ce5d8f029b34150854e3848ec190bbf",
            "_model_module": "@jupyter-widgets/output"
          }
        },
        "fcbe3166c93a4dff89f8ec86f43e24b7": {
          "model_module": "@jupyter-widgets/controls",
          "model_name": "SliderStyleModel",
          "state": {
            "_view_name": "StyleView",
            "handle_color": null,
            "_model_name": "SliderStyleModel",
            "description_width": "",
            "_view_module": "@jupyter-widgets/base",
            "_model_module_version": "1.5.0",
            "_view_count": null,
            "_view_module_version": "1.2.0",
            "_model_module": "@jupyter-widgets/controls"
          }
        },
        "e40a67a875364cdda750f3315907afbe": {
          "model_module": "@jupyter-widgets/base",
          "model_name": "LayoutModel",
          "state": {
            "_view_name": "LayoutView",
            "grid_template_rows": null,
            "right": null,
            "justify_content": null,
            "_view_module": "@jupyter-widgets/base",
            "overflow": null,
            "_model_module_version": "1.2.0",
            "_view_count": null,
            "flex_flow": null,
            "width": null,
            "min_width": null,
            "border": null,
            "align_items": null,
            "bottom": null,
            "_model_module": "@jupyter-widgets/base",
            "top": null,
            "grid_column": null,
            "overflow_y": null,
            "overflow_x": null,
            "grid_auto_flow": null,
            "grid_area": null,
            "grid_template_columns": null,
            "flex": null,
            "_model_name": "LayoutModel",
            "justify_items": null,
            "grid_row": null,
            "max_height": null,
            "align_content": null,
            "visibility": null,
            "align_self": null,
            "height": null,
            "min_height": null,
            "padding": null,
            "grid_auto_rows": null,
            "grid_gap": null,
            "max_width": null,
            "order": null,
            "_view_module_version": "1.2.0",
            "grid_template_areas": null,
            "object_position": null,
            "object_fit": null,
            "grid_auto_columns": null,
            "margin": null,
            "display": null,
            "left": null
          }
        },
        "0ce5d8f029b34150854e3848ec190bbf": {
          "model_module": "@jupyter-widgets/base",
          "model_name": "LayoutModel",
          "state": {
            "_view_name": "LayoutView",
            "grid_template_rows": null,
            "right": null,
            "justify_content": null,
            "_view_module": "@jupyter-widgets/base",
            "overflow": null,
            "_model_module_version": "1.2.0",
            "_view_count": null,
            "flex_flow": null,
            "width": null,
            "min_width": null,
            "border": null,
            "align_items": null,
            "bottom": null,
            "_model_module": "@jupyter-widgets/base",
            "top": null,
            "grid_column": null,
            "overflow_y": null,
            "overflow_x": null,
            "grid_auto_flow": null,
            "grid_area": null,
            "grid_template_columns": null,
            "flex": null,
            "_model_name": "LayoutModel",
            "justify_items": null,
            "grid_row": null,
            "max_height": null,
            "align_content": null,
            "visibility": null,
            "align_self": null,
            "height": null,
            "min_height": null,
            "padding": null,
            "grid_auto_rows": null,
            "grid_gap": null,
            "max_width": null,
            "order": null,
            "_view_module_version": "1.2.0",
            "grid_template_areas": null,
            "object_position": null,
            "object_fit": null,
            "grid_auto_columns": null,
            "margin": null,
            "display": null,
            "left": null
          }
        }
      }
    }
  },
  "cells": [
    {
      "cell_type": "markdown",
      "metadata": {
        "id": "view-in-github",
        "colab_type": "text"
      },
      "source": [
        "<a href=\"https://colab.research.google.com/github/BillWorstell/ISBI2020_TUTORIAL/blob/master/02_images_and_resampling.ipynb\" target=\"_parent\"><img src=\"https://colab.research.google.com/assets/colab-badge.svg\" alt=\"Open In Colab\"/></a>"
      ]
    },
    {
      "cell_type": "markdown",
      "metadata": {
        "id": "B49cFGwmc1EH"
      },
      "source": [
        "<h1 align=\"center\">SimpleITK Images and Resampling</h1>\n",
        "\n",
        "\n",
        "**Summary:**    \n",
        "\n",
        "1. Images occupy a region in physical space which is defined by:\n",
        "  * Origin.\n",
        "  * Size (number of pixels per dimension).\n",
        "  * Spacing (unknown consistent units: nm, mm, m, km...).\n",
        "  * Direction cosine matrix (axis directions in physical space).\n",
        "  \n",
        "  These attributes are the image's meta-data. Computing the physical coordinates from image indexes requires all four   components.\n",
        "\n",
        "2. An image may contain a meta-data dictionary. This supplemental information often includes the image modality (e.g. CT), patient name, and information with respect to the image acquisition. \n",
        "3. Image initialization: user specified pixel type, user specified dimensionality (2,3), origin at zero, unit spacing in all dimensions and identity direction cosine matrix, intensities set to zero.\n",
        "4. Data transfer to/from numpy: GetArrayFromImage (copy), GetArrayViewFromImage (immutable), GetImageFromArray (copy) + set the meta-data yourself. \n",
        "5. A common issue with resampling resulting in an all black image is due to (a) incorrect specification of the \n",
        "desired output image's spatial domain (its meta-data); or (b) the use of the inverse of the transformation mapping from the output spatial domain to the resampled image."
      ]
    },
    {
      "cell_type": "markdown",
      "metadata": {
        "id": "82lLi7zNDacj"
      },
      "source": [
        "## Install SimpleITK and Environment\n",
        "\n",
        "Expects to find on MyDrive:\n",
        " \n",
        "/gdrive/MyDrive/SimpleITK-Notebooks/Python\n",
        "\n",
        "/gdrive/MyDrive/SimpleITK-Notebooks/Python/requirements.txt\n",
        "\n",
        "/gdrive/MyDrive/Fiji.app/ImageJ-linux64\n",
        "\n",
        "<img src=\"figures/ImageOriginAndSpacing.png\" style=\"width:700px\"/><br><br>"
      ]
    },
    {
      "cell_type": "code",
      "metadata": {
        "colab": {
          "base_uri": "https://localhost:8080/"
        },
        "id": "dOGy9A3TJdCS",
        "outputId": "85b2b90d-4d47-49f9-aa9b-2e4283c9a16f"
      },
      "source": [
        "pip install virtualenv"
      ],
      "execution_count": null,
      "outputs": [
        {
          "output_type": "stream",
          "text": [
            "Collecting virtualenv\n",
            "\u001b[?25l  Downloading https://files.pythonhosted.org/packages/9f/fb/7423637e48cffbb2e567ca113d2b05068f8b457dde998ab487adf7386c86/virtualenv-20.4.2-py2.py3-none-any.whl (7.2MB)\n",
            "\u001b[K     |████████████████████████████████| 7.2MB 6.7MB/s \n",
            "\u001b[?25hRequirement already satisfied: appdirs<2,>=1.4.3 in /usr/local/lib/python3.7/dist-packages (from virtualenv) (1.4.4)\n",
            "Requirement already satisfied: importlib-metadata>=0.12; python_version < \"3.8\" in /usr/local/lib/python3.7/dist-packages (from virtualenv) (3.7.0)\n",
            "Requirement already satisfied: six<2,>=1.9.0 in /usr/local/lib/python3.7/dist-packages (from virtualenv) (1.15.0)\n",
            "Requirement already satisfied: filelock<4,>=3.0.0 in /usr/local/lib/python3.7/dist-packages (from virtualenv) (3.0.12)\n",
            "Collecting distlib<1,>=0.3.1\n",
            "\u001b[?25l  Downloading https://files.pythonhosted.org/packages/f5/0a/490fa011d699bb5a5f3a0cf57de82237f52a6db9d40f33c53b2736c9a1f9/distlib-0.3.1-py2.py3-none-any.whl (335kB)\n",
            "\u001b[K     |████████████████████████████████| 337kB 40.3MB/s \n",
            "\u001b[?25hRequirement already satisfied: zipp>=0.5 in /usr/local/lib/python3.7/dist-packages (from importlib-metadata>=0.12; python_version < \"3.8\"->virtualenv) (3.4.0)\n",
            "Requirement already satisfied: typing-extensions>=3.6.4; python_version < \"3.8\" in /usr/local/lib/python3.7/dist-packages (from importlib-metadata>=0.12; python_version < \"3.8\"->virtualenv) (3.7.4.3)\n",
            "Installing collected packages: distlib, virtualenv\n",
            "Successfully installed distlib-0.3.1 virtualenv-20.4.2\n"
          ],
          "name": "stdout"
        }
      ]
    },
    {
      "cell_type": "code",
      "metadata": {
        "colab": {
          "base_uri": "https://localhost:8080/"
        },
        "id": "PmGkWWo1JdCT",
        "outputId": "33d70ce4-5624-4d17-c89d-b047b9c2a268"
      },
      "source": [
        "#!virtualenv ~/sitkpy --no-site-packages\r\n",
        "!virtualenv ~/sitkpy"
      ],
      "execution_count": null,
      "outputs": [
        {
          "output_type": "stream",
          "text": [
            "created virtual environment CPython3.7.10.final.0-64 in 1223ms\n",
            "  creator CPython3Posix(dest=/root/sitkpy, clear=False, no_vcs_ignore=False, global=False)\n",
            "  seeder FromAppData(download=False, pip=bundle, setuptools=bundle, wheel=bundle, via=copy, app_data_dir=/root/.local/share/virtualenv)\n",
            "    added seed packages: pip==21.0.1, setuptools==52.0.0, wheel==0.36.2\n",
            "  activators BashActivator,CShellActivator,FishActivator,PowerShellActivator,PythonActivator,XonshActivator\n"
          ],
          "name": "stdout"
        }
      ]
    },
    {
      "cell_type": "code",
      "metadata": {
        "colab": {
          "base_uri": "https://localhost:8080/"
        },
        "id": "D5JdJpk-JdCT",
        "outputId": "78e705e3-b65a-444e-9337-078eec1c01b0"
      },
      "source": [
        "from google.colab import drive\r\n",
        "drive.mount('/gdrive')\r\n",
        "%cd /gdrive"
      ],
      "execution_count": null,
      "outputs": [
        {
          "output_type": "stream",
          "text": [
            "Mounted at /gdrive\n",
            "/gdrive\n"
          ],
          "name": "stdout"
        }
      ]
    },
    {
      "cell_type": "code",
      "metadata": {
        "colab": {
          "base_uri": "https://localhost:8080/"
        },
        "id": "xkmhAJWWJdCU",
        "outputId": "93d89db8-52da-4d53-8b71-c96876b3d14e"
      },
      "source": [
        "#!pip install -r '/gdrive/MyDrive/SimpleITK-Notebooks/Python/requirements.txt'\r\n",
        "!~/sitkpy/bin/pip install -r '/gdrive/MyDrive/SimpleITK-Notebooks/Python/requirements.txt'"
      ],
      "execution_count": null,
      "outputs": [
        {
          "output_type": "stream",
          "text": [
            "Collecting SimpleITK>=2.0.0\n",
            "  Downloading SimpleITK-2.0.2-cp37-cp37m-manylinux2010_x86_64.whl (47.4 MB)\n",
            "\u001b[K     |████████████████████████████████| 47.4 MB 49 kB/s \n",
            "\u001b[?25hCollecting jupyter\n",
            "  Downloading jupyter-1.0.0-py2.py3-none-any.whl (2.7 kB)\n",
            "Collecting matplotlib\n",
            "  Downloading matplotlib-3.3.4-cp37-cp37m-manylinux1_x86_64.whl (11.5 MB)\n",
            "\u001b[K     |████████████████████████████████| 11.5 MB 47.8 MB/s \n",
            "\u001b[?25hCollecting ipywidgets\n",
            "  Downloading ipywidgets-7.6.3-py2.py3-none-any.whl (121 kB)\n",
            "\u001b[K     |████████████████████████████████| 121 kB 51.5 MB/s \n",
            "\u001b[?25hCollecting numpy\n",
            "  Downloading numpy-1.20.1-cp37-cp37m-manylinux2010_x86_64.whl (15.3 MB)\n",
            "\u001b[K     |████████████████████████████████| 15.3 MB 161 kB/s \n",
            "\u001b[?25hCollecting scipy\n",
            "  Downloading scipy-1.6.1-cp37-cp37m-manylinux1_x86_64.whl (27.4 MB)\n",
            "\u001b[K     |████████████████████████████████| 27.4 MB 78 kB/s \n",
            "\u001b[?25hCollecting pandas\n",
            "  Downloading pandas-1.2.2-cp37-cp37m-manylinux1_x86_64.whl (9.9 MB)\n",
            "\u001b[K     |████████████████████████████████| 9.9 MB 44.8 MB/s \n",
            "\u001b[?25hCollecting numba\n",
            "  Downloading numba-0.52.0-cp37-cp37m-manylinux2014_x86_64.whl (3.2 MB)\n",
            "\u001b[K     |████████████████████████████████| 3.2 MB 40.8 MB/s \n",
            "\u001b[?25hCollecting multiprocess\n",
            "  Downloading multiprocess-0.70.11.1-py37-none-any.whl (108 kB)\n",
            "\u001b[K     |████████████████████████████████| 108 kB 44.6 MB/s \n",
            "\u001b[?25hCollecting widgetsnbextension~=3.5.0\n",
            "  Downloading widgetsnbextension-3.5.1-py2.py3-none-any.whl (2.2 MB)\n",
            "\u001b[K     |████████████████████████████████| 2.2 MB 39.6 MB/s \n",
            "\u001b[?25hCollecting nbformat>=4.2.0\n",
            "  Downloading nbformat-5.1.2-py3-none-any.whl (113 kB)\n",
            "\u001b[K     |████████████████████████████████| 113 kB 47.8 MB/s \n",
            "\u001b[?25hCollecting ipython>=4.0.0\n",
            "  Downloading ipython-7.21.0-py3-none-any.whl (784 kB)\n",
            "\u001b[K     |████████████████████████████████| 784 kB 35.6 MB/s \n",
            "\u001b[?25hCollecting ipykernel>=4.5.1\n",
            "  Downloading ipykernel-5.5.0-py3-none-any.whl (120 kB)\n",
            "\u001b[K     |████████████████████████████████| 120 kB 47.1 MB/s \n",
            "\u001b[?25hCollecting jupyterlab-widgets>=1.0.0\n",
            "  Downloading jupyterlab_widgets-1.0.0-py3-none-any.whl (243 kB)\n",
            "\u001b[K     |████████████████████████████████| 243 kB 41.1 MB/s \n",
            "\u001b[?25hCollecting traitlets>=4.3.1\n",
            "  Downloading traitlets-5.0.5-py3-none-any.whl (100 kB)\n",
            "\u001b[K     |████████████████████████████████| 100 kB 6.4 MB/s \n",
            "\u001b[?25hCollecting tornado>=4.2\n",
            "  Downloading tornado-6.1-cp37-cp37m-manylinux2010_x86_64.whl (428 kB)\n",
            "\u001b[K     |████████████████████████████████| 428 kB 42.6 MB/s \n",
            "\u001b[?25hCollecting jupyter-client\n",
            "  Downloading jupyter_client-6.1.11-py3-none-any.whl (108 kB)\n",
            "\u001b[K     |████████████████████████████████| 108 kB 48.3 MB/s \n",
            "\u001b[?25hCollecting decorator\n",
            "  Downloading decorator-4.4.2-py2.py3-none-any.whl (9.2 kB)\n",
            "Collecting prompt-toolkit!=3.0.0,!=3.0.1,<3.1.0,>=2.0.0\n",
            "  Downloading prompt_toolkit-3.0.16-py3-none-any.whl (366 kB)\n",
            "\u001b[K     |████████████████████████████████| 366 kB 46.2 MB/s \n",
            "\u001b[?25hCollecting pickleshare\n",
            "  Downloading pickleshare-0.7.5-py2.py3-none-any.whl (6.9 kB)\n",
            "Collecting pygments\n",
            "  Downloading Pygments-2.8.0-py3-none-any.whl (983 kB)\n",
            "\u001b[K     |████████████████████████████████| 983 kB 43.4 MB/s \n",
            "\u001b[?25hCollecting jedi>=0.16\n",
            "  Downloading jedi-0.18.0-py2.py3-none-any.whl (1.4 MB)\n",
            "\u001b[K     |████████████████████████████████| 1.4 MB 36.0 MB/s \n",
            "\u001b[?25hCollecting backcall\n",
            "  Downloading backcall-0.2.0-py2.py3-none-any.whl (11 kB)\n",
            "Collecting pexpect>4.3\n",
            "  Downloading pexpect-4.8.0-py2.py3-none-any.whl (59 kB)\n",
            "\u001b[K     |████████████████████████████████| 59 kB 4.3 MB/s \n",
            "\u001b[?25hRequirement already satisfied: setuptools>=18.5 in /root/sitkpy/lib/python3.7/site-packages (from ipython>=4.0.0->ipywidgets->-r /gdrive/MyDrive/SimpleITK-Notebooks/Python/requirements.txt (line 4)) (52.0.0)\n",
            "Collecting parso<0.9.0,>=0.8.0\n",
            "  Downloading parso-0.8.1-py2.py3-none-any.whl (93 kB)\n",
            "\u001b[K     |████████████████████████████████| 93 kB 1.5 MB/s \n",
            "\u001b[?25hCollecting jupyter-core\n",
            "  Downloading jupyter_core-4.7.1-py3-none-any.whl (82 kB)\n",
            "\u001b[K     |████████████████████████████████| 82 kB 893 kB/s \n",
            "\u001b[?25hCollecting ipython-genutils\n",
            "  Downloading ipython_genutils-0.2.0-py2.py3-none-any.whl (26 kB)\n",
            "Collecting jsonschema!=2.5.0,>=2.4\n",
            "  Downloading jsonschema-3.2.0-py2.py3-none-any.whl (56 kB)\n",
            "\u001b[K     |████████████████████████████████| 56 kB 3.0 MB/s \n",
            "\u001b[?25hCollecting pyrsistent>=0.14.0\n",
            "  Downloading pyrsistent-0.17.3.tar.gz (106 kB)\n",
            "\u001b[K     |████████████████████████████████| 106 kB 43.8 MB/s \n",
            "\u001b[?25hCollecting importlib-metadata\n",
            "  Downloading importlib_metadata-3.7.0-py3-none-any.whl (11 kB)\n",
            "Collecting six>=1.11.0\n",
            "  Downloading six-1.15.0-py2.py3-none-any.whl (10 kB)\n",
            "Collecting attrs>=17.4.0\n",
            "  Downloading attrs-20.3.0-py2.py3-none-any.whl (49 kB)\n",
            "\u001b[K     |████████████████████████████████| 49 kB 4.1 MB/s \n",
            "\u001b[?25hCollecting ptyprocess>=0.5\n",
            "  Downloading ptyprocess-0.7.0-py2.py3-none-any.whl (13 kB)\n",
            "Collecting wcwidth\n",
            "  Downloading wcwidth-0.2.5-py2.py3-none-any.whl (30 kB)\n",
            "Collecting notebook>=4.4.1\n",
            "  Downloading notebook-6.2.0-py3-none-any.whl (9.5 MB)\n",
            "\u001b[K     |████████████████████████████████| 9.5 MB 39.9 MB/s \n",
            "\u001b[?25hCollecting argon2-cffi\n",
            "  Downloading argon2_cffi-20.1.0-cp35-abi3-manylinux1_x86_64.whl (97 kB)\n",
            "\u001b[K     |████████████████████████████████| 97 kB 3.8 MB/s \n",
            "\u001b[?25hCollecting jinja2\n",
            "  Downloading Jinja2-2.11.3-py2.py3-none-any.whl (125 kB)\n",
            "\u001b[K     |████████████████████████████████| 125 kB 46.2 MB/s \n",
            "\u001b[?25hCollecting Send2Trash>=1.5.0\n",
            "  Downloading Send2Trash-1.5.0-py3-none-any.whl (12 kB)\n",
            "Collecting pyzmq>=17\n",
            "  Downloading pyzmq-22.0.3-cp37-cp37m-manylinux1_x86_64.whl (1.1 MB)\n",
            "\u001b[K     |████████████████████████████████| 1.1 MB 38.6 MB/s \n",
            "\u001b[?25hCollecting terminado>=0.8.3\n",
            "  Downloading terminado-0.9.2-py3-none-any.whl (14 kB)\n",
            "Collecting prometheus-client\n",
            "  Downloading prometheus_client-0.9.0-py2.py3-none-any.whl (53 kB)\n",
            "\u001b[K     |████████████████████████████████| 53 kB 1.5 MB/s \n",
            "\u001b[?25hCollecting nbconvert\n",
            "  Downloading nbconvert-6.0.7-py3-none-any.whl (552 kB)\n",
            "\u001b[K     |████████████████████████████████| 552 kB 43.5 MB/s \n",
            "\u001b[?25hCollecting python-dateutil>=2.1\n",
            "  Downloading python_dateutil-2.8.1-py2.py3-none-any.whl (227 kB)\n",
            "\u001b[K     |████████████████████████████████| 227 kB 53.6 MB/s \n",
            "\u001b[?25hCollecting qtconsole\n",
            "  Downloading qtconsole-5.0.2-py3-none-any.whl (119 kB)\n",
            "\u001b[K     |████████████████████████████████| 119 kB 53.3 MB/s \n",
            "\u001b[?25hCollecting jupyter-console\n",
            "  Downloading jupyter_console-6.2.0-py3-none-any.whl (22 kB)\n",
            "Collecting kiwisolver>=1.0.1\n",
            "  Downloading kiwisolver-1.3.1-cp37-cp37m-manylinux1_x86_64.whl (1.1 MB)\n",
            "\u001b[K     |████████████████████████████████| 1.1 MB 32.9 MB/s \n",
            "\u001b[?25hCollecting pillow>=6.2.0\n",
            "  Downloading Pillow-8.1.0-cp37-cp37m-manylinux1_x86_64.whl (2.2 MB)\n",
            "\u001b[K     |████████████████████████████████| 2.2 MB 48.4 MB/s \n",
            "\u001b[?25hCollecting cycler>=0.10\n",
            "  Downloading cycler-0.10.0-py2.py3-none-any.whl (6.5 kB)\n",
            "Collecting pyparsing!=2.0.4,!=2.1.2,!=2.1.6,>=2.0.3\n",
            "  Downloading pyparsing-2.4.7-py2.py3-none-any.whl (67 kB)\n",
            "\u001b[K     |████████████████████████████████| 67 kB 5.7 MB/s \n",
            "\u001b[?25hCollecting dill>=0.3.3\n",
            "  Downloading dill-0.3.3-py2.py3-none-any.whl (81 kB)\n",
            "\u001b[K     |████████████████████████████████| 81 kB 9.0 MB/s \n",
            "\u001b[?25hCollecting llvmlite<0.36,>=0.35.0\n",
            "  Downloading llvmlite-0.35.0-cp37-cp37m-manylinux2010_x86_64.whl (25.3 MB)\n",
            "\u001b[K     |████████████████████████████████| 25.3 MB 1.5 MB/s \n",
            "\u001b[?25hCollecting pytz>=2017.3\n",
            "  Downloading pytz-2021.1-py2.py3-none-any.whl (510 kB)\n",
            "\u001b[K     |████████████████████████████████| 510 kB 43.8 MB/s \n",
            "\u001b[?25hCollecting cffi>=1.0.0\n",
            "  Downloading cffi-1.14.5-cp37-cp37m-manylinux1_x86_64.whl (402 kB)\n",
            "\u001b[K     |████████████████████████████████| 402 kB 51.1 MB/s \n",
            "\u001b[?25hCollecting pycparser\n",
            "  Downloading pycparser-2.20-py2.py3-none-any.whl (112 kB)\n",
            "\u001b[K     |████████████████████████████████| 112 kB 54.5 MB/s \n",
            "\u001b[?25hCollecting typing-extensions>=3.6.4\n",
            "  Downloading typing_extensions-3.7.4.3-py3-none-any.whl (22 kB)\n",
            "Collecting zipp>=0.5\n",
            "  Downloading zipp-3.4.0-py3-none-any.whl (5.2 kB)\n",
            "Collecting MarkupSafe>=0.23\n",
            "  Downloading MarkupSafe-1.1.1-cp37-cp37m-manylinux2010_x86_64.whl (33 kB)\n",
            "Collecting mistune<2,>=0.8.1\n",
            "  Downloading mistune-0.8.4-py2.py3-none-any.whl (16 kB)\n",
            "Collecting testpath\n",
            "  Downloading testpath-0.4.4-py2.py3-none-any.whl (163 kB)\n",
            "\u001b[K     |████████████████████████████████| 163 kB 53.3 MB/s \n",
            "\u001b[?25hCollecting bleach\n",
            "  Downloading bleach-3.3.0-py2.py3-none-any.whl (283 kB)\n",
            "\u001b[K     |████████████████████████████████| 283 kB 48.1 MB/s \n",
            "\u001b[?25hCollecting entrypoints>=0.2.2\n",
            "  Downloading entrypoints-0.3-py2.py3-none-any.whl (11 kB)\n",
            "Collecting nbclient<0.6.0,>=0.5.0\n",
            "  Downloading nbclient-0.5.3-py3-none-any.whl (82 kB)\n",
            "\u001b[K     |████████████████████████████████| 82 kB 1.1 MB/s \n",
            "\u001b[?25hCollecting pandocfilters>=1.4.1\n",
            "  Downloading pandocfilters-1.4.3.tar.gz (16 kB)\n",
            "Collecting defusedxml\n",
            "  Downloading defusedxml-0.6.0-py2.py3-none-any.whl (23 kB)\n",
            "Collecting jupyterlab-pygments\n",
            "  Downloading jupyterlab_pygments-0.1.2-py2.py3-none-any.whl (4.6 kB)\n",
            "Collecting async-generator\n",
            "  Downloading async_generator-1.10-py3-none-any.whl (18 kB)\n",
            "Collecting nest-asyncio\n",
            "  Downloading nest_asyncio-1.5.1-py3-none-any.whl (5.0 kB)\n",
            "Collecting packaging\n",
            "  Downloading packaging-20.9-py2.py3-none-any.whl (40 kB)\n",
            "\u001b[K     |████████████████████████████████| 40 kB 3.8 MB/s \n",
            "\u001b[?25hCollecting webencodings\n",
            "  Downloading webencodings-0.5.1-py2.py3-none-any.whl (11 kB)\n",
            "Collecting qtpy\n",
            "  Downloading QtPy-1.9.0-py2.py3-none-any.whl (54 kB)\n",
            "\u001b[K     |████████████████████████████████| 54 kB 1.9 MB/s \n",
            "\u001b[?25hBuilding wheels for collected packages: pyrsistent, pandocfilters\n",
            "  Building wheel for pyrsistent (setup.py) ... \u001b[?25l\u001b[?25hdone\n",
            "  Created wheel for pyrsistent: filename=pyrsistent-0.17.3-cp37-cp37m-linux_x86_64.whl size=98071 sha256=bd9505e69453be9e5c3d7e49042385158a6601c07b21f107d130e556f82ef426\n",
            "  Stored in directory: /root/.cache/pip/wheels/a5/52/bf/71258a1d7b3c8cbe1ee53f9314c6f65f20385481eaee573cc5\n",
            "  Building wheel for pandocfilters (setup.py) ... \u001b[?25l\u001b[?25hdone\n",
            "  Created wheel for pandocfilters: filename=pandocfilters-1.4.3-py3-none-any.whl size=7992 sha256=e8e9ebc176dcc5030a5922baa3ed3519211f02ec07e6dbed227ab72ce2dd90fb\n",
            "  Stored in directory: /root/.cache/pip/wheels/42/81/34/545dc2fbf0e9137811e901108d37fc04650e81d48f97078000\n",
            "Successfully built pyrsistent pandocfilters\n",
            "Installing collected packages: zipp, typing-extensions, ipython-genutils, traitlets, six, pyrsistent, importlib-metadata, attrs, wcwidth, tornado, pyzmq, python-dateutil, pyparsing, ptyprocess, parso, jupyter-core, jsonschema, webencodings, pygments, pycparser, prompt-toolkit, pickleshare, pexpect, packaging, nest-asyncio, nbformat, MarkupSafe, jupyter-client, jedi, decorator, backcall, async-generator, testpath, pandocfilters, nbclient, mistune, jupyterlab-pygments, jinja2, ipython, entrypoints, defusedxml, cffi, bleach, terminado, Send2Trash, prometheus-client, nbconvert, ipykernel, argon2-cffi, notebook, widgetsnbextension, qtpy, jupyterlab-widgets, qtconsole, pytz, pillow, numpy, llvmlite, kiwisolver, jupyter-console, ipywidgets, dill, cycler, SimpleITK, scipy, pandas, numba, multiprocess, matplotlib, jupyter\n",
            "Successfully installed MarkupSafe-1.1.1 Send2Trash-1.5.0 SimpleITK-2.0.2 argon2-cffi-20.1.0 async-generator-1.10 attrs-20.3.0 backcall-0.2.0 bleach-3.3.0 cffi-1.14.5 cycler-0.10.0 decorator-4.4.2 defusedxml-0.6.0 dill-0.3.3 entrypoints-0.3 importlib-metadata-3.7.0 ipykernel-5.5.0 ipython-7.21.0 ipython-genutils-0.2.0 ipywidgets-7.6.3 jedi-0.18.0 jinja2-2.11.3 jsonschema-3.2.0 jupyter-1.0.0 jupyter-client-6.1.11 jupyter-console-6.2.0 jupyter-core-4.7.1 jupyterlab-pygments-0.1.2 jupyterlab-widgets-1.0.0 kiwisolver-1.3.1 llvmlite-0.35.0 matplotlib-3.3.4 mistune-0.8.4 multiprocess-0.70.11.1 nbclient-0.5.3 nbconvert-6.0.7 nbformat-5.1.2 nest-asyncio-1.5.1 notebook-6.2.0 numba-0.52.0 numpy-1.20.1 packaging-20.9 pandas-1.2.2 pandocfilters-1.4.3 parso-0.8.1 pexpect-4.8.0 pickleshare-0.7.5 pillow-8.1.0 prometheus-client-0.9.0 prompt-toolkit-3.0.16 ptyprocess-0.7.0 pycparser-2.20 pygments-2.8.0 pyparsing-2.4.7 pyrsistent-0.17.3 python-dateutil-2.8.1 pytz-2021.1 pyzmq-22.0.3 qtconsole-5.0.2 qtpy-1.9.0 scipy-1.6.1 six-1.15.0 terminado-0.9.2 testpath-0.4.4 tornado-6.1 traitlets-5.0.5 typing-extensions-3.7.4.3 wcwidth-0.2.5 webencodings-0.5.1 widgetsnbextension-3.5.1 zipp-3.4.0\n"
          ],
          "name": "stdout"
        }
      ]
    },
    {
      "cell_type": "code",
      "metadata": {
        "colab": {
          "base_uri": "https://localhost:8080/"
        },
        "id": "p--5ZBi6uePo",
        "outputId": "4c7994e7-d34b-45cf-92ea-51dc93e49cd5"
      },
      "source": [
        "cd '/gdrive/MyDrive/SimpleITK-Notebooks/Python'"
      ],
      "execution_count": null,
      "outputs": [
        {
          "output_type": "stream",
          "text": [
            "/gdrive/MyDrive/SimpleITK-Notebooks/Python\n"
          ],
          "name": "stdout"
        }
      ]
    },
    {
      "cell_type": "code",
      "metadata": {
        "colab": {
          "base_uri": "https://localhost:8080/"
        },
        "id": "BHlrqMzWukwy",
        "outputId": "f3936343-ae0b-4e44-8f58-07127f865e27"
      },
      "source": [
        "pip install SimpleITK"
      ],
      "execution_count": null,
      "outputs": [
        {
          "output_type": "stream",
          "text": [
            "Collecting SimpleITK\n",
            "  Using cached https://files.pythonhosted.org/packages/9c/6b/85df5eb3a8059b23a53a9f224476e75473f9bcc0a8583ed1a9c34619f372/SimpleITK-2.0.2-cp37-cp37m-manylinux2010_x86_64.whl\n",
            "Installing collected packages: SimpleITK\n",
            "Successfully installed SimpleITK-2.0.2\n"
          ],
          "name": "stdout"
        }
      ]
    },
    {
      "cell_type": "code",
      "metadata": {
        "colab": {
          "base_uri": "https://localhost:8080/"
        },
        "id": "YytwFDTzuqmP",
        "outputId": "ef35aa3a-93dd-4388-a295-b8fc91ac7713"
      },
      "source": [
        "pip install ipywidgets"
      ],
      "execution_count": null,
      "outputs": [
        {
          "output_type": "stream",
          "text": [
            "Requirement already satisfied: ipywidgets in /usr/local/lib/python3.7/dist-packages (7.6.3)\n",
            "Requirement already satisfied: traitlets>=4.3.1 in /usr/local/lib/python3.7/dist-packages (from ipywidgets) (5.0.5)\n",
            "Requirement already satisfied: jupyterlab-widgets>=1.0.0; python_version >= \"3.6\" in /usr/local/lib/python3.7/dist-packages (from ipywidgets) (1.0.0)\n",
            "Requirement already satisfied: ipython>=4.0.0; python_version >= \"3.3\" in /usr/local/lib/python3.7/dist-packages (from ipywidgets) (5.5.0)\n",
            "Requirement already satisfied: nbformat>=4.2.0 in /usr/local/lib/python3.7/dist-packages (from ipywidgets) (5.1.2)\n",
            "Requirement already satisfied: widgetsnbextension~=3.5.0 in /usr/local/lib/python3.7/dist-packages (from ipywidgets) (3.5.1)\n",
            "Requirement already satisfied: ipykernel>=4.5.1 in /usr/local/lib/python3.7/dist-packages (from ipywidgets) (4.10.1)\n",
            "Requirement already satisfied: ipython-genutils in /usr/local/lib/python3.7/dist-packages (from traitlets>=4.3.1->ipywidgets) (0.2.0)\n",
            "Requirement already satisfied: prompt-toolkit<2.0.0,>=1.0.4 in /usr/local/lib/python3.7/dist-packages (from ipython>=4.0.0; python_version >= \"3.3\"->ipywidgets) (1.0.18)\n",
            "Requirement already satisfied: pexpect; sys_platform != \"win32\" in /usr/local/lib/python3.7/dist-packages (from ipython>=4.0.0; python_version >= \"3.3\"->ipywidgets) (4.8.0)\n",
            "Requirement already satisfied: pickleshare in /usr/local/lib/python3.7/dist-packages (from ipython>=4.0.0; python_version >= \"3.3\"->ipywidgets) (0.7.5)\n",
            "Requirement already satisfied: setuptools>=18.5 in /usr/local/lib/python3.7/dist-packages (from ipython>=4.0.0; python_version >= \"3.3\"->ipywidgets) (53.0.0)\n",
            "Requirement already satisfied: simplegeneric>0.8 in /usr/local/lib/python3.7/dist-packages (from ipython>=4.0.0; python_version >= \"3.3\"->ipywidgets) (0.8.1)\n",
            "Requirement already satisfied: pygments in /usr/local/lib/python3.7/dist-packages (from ipython>=4.0.0; python_version >= \"3.3\"->ipywidgets) (2.6.1)\n",
            "Requirement already satisfied: decorator in /usr/local/lib/python3.7/dist-packages (from ipython>=4.0.0; python_version >= \"3.3\"->ipywidgets) (4.4.2)\n",
            "Requirement already satisfied: jsonschema!=2.5.0,>=2.4 in /usr/local/lib/python3.7/dist-packages (from nbformat>=4.2.0->ipywidgets) (2.6.0)\n",
            "Requirement already satisfied: jupyter-core in /usr/local/lib/python3.7/dist-packages (from nbformat>=4.2.0->ipywidgets) (4.7.1)\n",
            "Requirement already satisfied: notebook>=4.4.1 in /usr/local/lib/python3.7/dist-packages (from widgetsnbextension~=3.5.0->ipywidgets) (5.3.1)\n",
            "Requirement already satisfied: jupyter-client in /usr/local/lib/python3.7/dist-packages (from ipykernel>=4.5.1->ipywidgets) (5.3.5)\n",
            "Requirement already satisfied: tornado>=4.0 in /usr/local/lib/python3.7/dist-packages (from ipykernel>=4.5.1->ipywidgets) (5.1.1)\n",
            "Requirement already satisfied: wcwidth in /usr/local/lib/python3.7/dist-packages (from prompt-toolkit<2.0.0,>=1.0.4->ipython>=4.0.0; python_version >= \"3.3\"->ipywidgets) (0.2.5)\n",
            "Requirement already satisfied: six>=1.9.0 in /usr/local/lib/python3.7/dist-packages (from prompt-toolkit<2.0.0,>=1.0.4->ipython>=4.0.0; python_version >= \"3.3\"->ipywidgets) (1.15.0)\n",
            "Requirement already satisfied: ptyprocess>=0.5 in /usr/local/lib/python3.7/dist-packages (from pexpect; sys_platform != \"win32\"->ipython>=4.0.0; python_version >= \"3.3\"->ipywidgets) (0.7.0)\n",
            "Requirement already satisfied: jinja2 in /usr/local/lib/python3.7/dist-packages (from notebook>=4.4.1->widgetsnbextension~=3.5.0->ipywidgets) (2.11.3)\n",
            "Requirement already satisfied: nbconvert in /usr/local/lib/python3.7/dist-packages (from notebook>=4.4.1->widgetsnbextension~=3.5.0->ipywidgets) (5.6.1)\n",
            "Requirement already satisfied: terminado>=0.8.1 in /usr/local/lib/python3.7/dist-packages (from notebook>=4.4.1->widgetsnbextension~=3.5.0->ipywidgets) (0.9.2)\n",
            "Requirement already satisfied: Send2Trash in /usr/local/lib/python3.7/dist-packages (from notebook>=4.4.1->widgetsnbextension~=3.5.0->ipywidgets) (1.5.0)\n",
            "Requirement already satisfied: pyzmq>=13 in /usr/local/lib/python3.7/dist-packages (from jupyter-client->ipykernel>=4.5.1->ipywidgets) (22.0.3)\n",
            "Requirement already satisfied: python-dateutil>=2.1 in /usr/local/lib/python3.7/dist-packages (from jupyter-client->ipykernel>=4.5.1->ipywidgets) (2.8.1)\n",
            "Requirement already satisfied: MarkupSafe>=0.23 in /usr/local/lib/python3.7/dist-packages (from jinja2->notebook>=4.4.1->widgetsnbextension~=3.5.0->ipywidgets) (1.1.1)\n",
            "Requirement already satisfied: mistune<2,>=0.8.1 in /usr/local/lib/python3.7/dist-packages (from nbconvert->notebook>=4.4.1->widgetsnbextension~=3.5.0->ipywidgets) (0.8.4)\n",
            "Requirement already satisfied: testpath in /usr/local/lib/python3.7/dist-packages (from nbconvert->notebook>=4.4.1->widgetsnbextension~=3.5.0->ipywidgets) (0.4.4)\n",
            "Requirement already satisfied: pandocfilters>=1.4.1 in /usr/local/lib/python3.7/dist-packages (from nbconvert->notebook>=4.4.1->widgetsnbextension~=3.5.0->ipywidgets) (1.4.3)\n",
            "Requirement already satisfied: defusedxml in /usr/local/lib/python3.7/dist-packages (from nbconvert->notebook>=4.4.1->widgetsnbextension~=3.5.0->ipywidgets) (0.6.0)\n",
            "Requirement already satisfied: entrypoints>=0.2.2 in /usr/local/lib/python3.7/dist-packages (from nbconvert->notebook>=4.4.1->widgetsnbextension~=3.5.0->ipywidgets) (0.3)\n",
            "Requirement already satisfied: bleach in /usr/local/lib/python3.7/dist-packages (from nbconvert->notebook>=4.4.1->widgetsnbextension~=3.5.0->ipywidgets) (3.3.0)\n",
            "Requirement already satisfied: packaging in /usr/local/lib/python3.7/dist-packages (from bleach->nbconvert->notebook>=4.4.1->widgetsnbextension~=3.5.0->ipywidgets) (20.9)\n",
            "Requirement already satisfied: webencodings in /usr/local/lib/python3.7/dist-packages (from bleach->nbconvert->notebook>=4.4.1->widgetsnbextension~=3.5.0->ipywidgets) (0.5.1)\n",
            "Requirement already satisfied: pyparsing>=2.0.2 in /usr/local/lib/python3.7/dist-packages (from packaging->bleach->nbconvert->notebook>=4.4.1->widgetsnbextension~=3.5.0->ipywidgets) (2.4.7)\n"
          ],
          "name": "stdout"
        }
      ]
    },
    {
      "cell_type": "code",
      "metadata": {
        "colab": {
          "base_uri": "https://localhost:8080/"
        },
        "id": "4aJvQMvsuzuy",
        "outputId": "a382561f-383a-4633-f241-a5d24948fa8d"
      },
      "source": [
        "from google.colab import drive\r\n",
        "drive.mount('/gdrive')\r\n",
        "%cd /gdrive"
      ],
      "execution_count": null,
      "outputs": [
        {
          "output_type": "stream",
          "text": [
            "Drive already mounted at /gdrive; to attempt to forcibly remount, call drive.mount(\"/gdrive\", force_remount=True).\n",
            "/gdrive\n"
          ],
          "name": "stdout"
        }
      ]
    },
    {
      "cell_type": "code",
      "metadata": {
        "colab": {
          "base_uri": "https://localhost:8080/"
        },
        "id": "3e94670wvJOL",
        "outputId": "b00d24f4-d8a8-4335-ba8b-cf19fa229856"
      },
      "source": [
        "%ls -ltr '/gdrive/MyDrive/Fiji.app/ImageJ-linux64'"
      ],
      "execution_count": null,
      "outputs": [
        {
          "output_type": "stream",
          "text": [
            "-rw------- 1 root root 90243 Feb 27 18:15 /gdrive/MyDrive/Fiji.app/ImageJ-linux64\n"
          ],
          "name": "stdout"
        }
      ]
    },
    {
      "cell_type": "code",
      "metadata": {
        "colab": {
          "base_uri": "https://localhost:8080/"
        },
        "id": "EPoWLA76msQ4",
        "outputId": "38ce9b07-69d8-4a56-fbea-f07b3866a24d"
      },
      "source": [
        "!pip install itk\r\n",
        "\r\n",
        "#!~/sitkpy/bin/pip install ITK"
      ],
      "execution_count": null,
      "outputs": [
        {
          "output_type": "stream",
          "text": [
            "Collecting itk\n",
            "  Downloading https://files.pythonhosted.org/packages/3e/0e/13b23943e30281de56d49b9dba4b1e5278078655405d466ae429c141da09/itk-5.1.2-cp37-cp37m-manylinux1_x86_64.whl\n",
            "Collecting itk-segmentation==5.1.2\n",
            "\u001b[?25l  Downloading https://files.pythonhosted.org/packages/fd/9b/958de177ee6460d5fa210a8126d3af96947ad365473024a3d20309eda8a1/itk_segmentation-5.1.2-cp37-cp37m-manylinux1_x86_64.whl (10.3MB)\n",
            "\u001b[K     |████████████████████████████████| 10.3MB 4.3MB/s \n",
            "\u001b[?25hCollecting itk-io==5.1.2\n",
            "\u001b[?25l  Downloading https://files.pythonhosted.org/packages/1f/cf/d3d0c450e8ca2f265e34e66ab0c9af35d9c5e5c40a8653a12ebc672ddac6/itk_io-5.1.2-cp37-cp37m-manylinux1_x86_64.whl (14.0MB)\n",
            "\u001b[K     |████████████████████████████████| 14.0MB 355kB/s \n",
            "\u001b[?25hCollecting itk-filtering==5.1.2\n",
            "\u001b[?25l  Downloading https://files.pythonhosted.org/packages/27/a4/3ef76dff4b91059cbb0a4b38221e4030a9476daa4f9f783e05300a46d9c0/itk_filtering-5.1.2-cp37-cp37m-manylinux1_x86_64.whl (68.0MB)\n",
            "\u001b[K     |████████████████████████████████| 68.0MB 62kB/s \n",
            "\u001b[?25hCollecting itk-core==5.1.2\n",
            "\u001b[?25l  Downloading https://files.pythonhosted.org/packages/45/58/c4298e4470dc0d91900efb29a762de44da7f8051d7428476aa22eb1dfd24/itk_core-5.1.2-cp37-cp37m-manylinux1_x86_64.whl (50.1MB)\n",
            "\u001b[K     |████████████████████████████████| 50.1MB 40kB/s \n",
            "\u001b[?25hCollecting itk-registration==5.1.2\n",
            "\u001b[?25l  Downloading https://files.pythonhosted.org/packages/27/7a/7fde6cd47ddb5cb9f065313d26507cd723c6c4c3763e28875b1a19f718bf/itk_registration-5.1.2-cp37-cp37m-manylinux1_x86_64.whl (14.4MB)\n",
            "\u001b[K     |████████████████████████████████| 14.4MB 349kB/s \n",
            "\u001b[?25hRequirement already satisfied: numpy in /usr/local/lib/python3.7/dist-packages (from itk) (1.19.5)\n",
            "Collecting itk-numerics==5.1.2\n",
            "\u001b[?25l  Downloading https://files.pythonhosted.org/packages/10/c3/476b9c06b0003c509cb9f8da947f90dffd23700b72d36b5589c65d17c60f/itk_numerics-5.1.2-cp37-cp37m-manylinux1_x86_64.whl (36.3MB)\n",
            "\u001b[K     |████████████████████████████████| 36.3MB 119kB/s \n",
            "\u001b[?25hInstalling collected packages: itk-core, itk-numerics, itk-filtering, itk-segmentation, itk-io, itk-registration, itk\n",
            "Successfully installed itk-5.1.2 itk-core-5.1.2 itk-filtering-5.1.2 itk-io-5.1.2 itk-numerics-5.1.2 itk-registration-5.1.2 itk-segmentation-5.1.2\n"
          ],
          "name": "stdout"
        }
      ]
    },
    {
      "cell_type": "code",
      "metadata": {
        "colab": {
          "base_uri": "https://localhost:8080/"
        },
        "id": "NCecKYAQvW75",
        "outputId": "a552e18d-c53b-4912-cb5d-ceadf4fb98db"
      },
      "source": [
        "!echo $PATH"
      ],
      "execution_count": null,
      "outputs": [
        {
          "output_type": "stream",
          "text": [
            "/usr/local/nvidia/bin:/usr/local/cuda/bin:/usr/local/sbin:/usr/local/bin:/usr/sbin:/usr/bin:/sbin:/bin:/tools/node/bin:/tools/google-cloud-sdk/bin:/opt/bin\n"
          ],
          "name": "stdout"
        }
      ]
    },
    {
      "cell_type": "code",
      "metadata": {
        "colab": {
          "base_uri": "https://localhost:8080/"
        },
        "id": "HLwABwchvZyQ",
        "outputId": "79e08c41-cdd3-4032-b70a-0eb86a28a2c8"
      },
      "source": [
        "import os\r\n",
        "#os.environ['PYTHONPATH'] += \":/content/gdrive/My Drive/Colab Notebooks/MNIST_Classifier/src\"\r\n",
        "os.environ['PATH'] += \":/content/gdrive/My Drive/Fiji.app\"\r\n",
        "! echo $PATH"
      ],
      "execution_count": null,
      "outputs": [
        {
          "output_type": "stream",
          "text": [
            "/usr/local/nvidia/bin:/usr/local/cuda/bin:/usr/local/sbin:/usr/local/bin:/usr/sbin:/usr/bin:/sbin:/bin:/tools/node/bin:/tools/google-cloud-sdk/bin:/opt/bin:/content/gdrive/My Drive/Fiji.app\n"
          ],
          "name": "stdout"
        }
      ]
    },
    {
      "cell_type": "code",
      "metadata": {
        "colab": {
          "base_uri": "https://localhost:8080/"
        },
        "id": "xRoYeHWZvpHv",
        "outputId": "af18428a-a0d9-4fd9-c4a2-96c352e8f523"
      },
      "source": [
        "cd '/gdrive/MyDrive/SimpleITK-Notebooks/Python'"
      ],
      "execution_count": null,
      "outputs": [
        {
          "output_type": "stream",
          "text": [
            "/gdrive/MyDrive/SimpleITK-Notebooks/Python\n"
          ],
          "name": "stdout"
        }
      ]
    },
    {
      "cell_type": "code",
      "metadata": {
        "colab": {
          "base_uri": "https://localhost:8080/"
        },
        "id": "DavE8JA9vfGP",
        "outputId": "2c3550eb-3434-4f67-a87a-a4053324a803"
      },
      "source": [
        "import SimpleITK as sitk\r\n",
        "\r\n",
        "%run update_path_to_download_script\r\n",
        "from downloaddata import fetch_data, fetch_data_all\r\n",
        "\r\n",
        "from ipywidgets import interact\r\n",
        "\r\n",
        "print(sitk.Version())"
      ],
      "execution_count": null,
      "outputs": [
        {
          "output_type": "stream",
          "text": [
            "SimpleITK Version: 2.0.2 (ITK 5.1)\n",
            "Compiled: Dec  1 2020 22:01:03\n",
            "\n"
          ],
          "name": "stdout"
        }
      ]
    },
    {
      "cell_type": "code",
      "metadata": {
        "colab": {
          "base_uri": "https://localhost:8080/"
        },
        "id": "FTXVQciyoKvh",
        "outputId": "28e1da63-77b6-4477-b8f0-8193f2ffc4b3"
      },
      "source": [
        "cd /usr/local/"
      ],
      "execution_count": null,
      "outputs": [
        {
          "output_type": "stream",
          "text": [
            "/usr/local\n"
          ],
          "name": "stdout"
        }
      ]
    },
    {
      "cell_type": "code",
      "metadata": {
        "id": "deJq4jlhNH4D"
      },
      "source": [
        "import shutil"
      ],
      "execution_count": null,
      "outputs": []
    },
    {
      "cell_type": "code",
      "metadata": {
        "colab": {
          "base_uri": "https://localhost:8080/"
        },
        "id": "IXEeK9p3Nxw2",
        "outputId": "e379b9fd-09c4-4e46-96a1-d0ea1811a5cf"
      },
      "source": [
        "%ls /gdrive/MyDrive/"
      ],
      "execution_count": null,
      "outputs": [
        {
          "output_type": "stream",
          "text": [
            "\u001b[0m\u001b[01;34m'Colab Notebooks'\u001b[0m/                      \u001b[01;34mSimpleITK_ISBI2020_TUTORIAL\u001b[0m/\n",
            " \u001b[01;34mFiji.app\u001b[0m/                              SimpleITK.jpg\n",
            " fiji-linux64-20170530.zip              \u001b[01;34mSimpleITK-Notebooks\u001b[0m/\n",
            " \u001b[01;34mMyNiftyRec\u001b[0m/                            unnamed.png\n",
            " \u001b[01;34mMyTomoLab\u001b[0m/                            'Untitled project.gscript'\n",
            " pyjnius-1.2.0-py37h90b5fae_0.tar.bz2\n"
          ],
          "name": "stdout"
        }
      ]
    },
    {
      "cell_type": "code",
      "metadata": {
        "colab": {
          "base_uri": "https://localhost:8080/",
          "height": 35
        },
        "id": "SYIjTMImNL_i",
        "outputId": "816539f0-e645-4e96-9e0c-7c1f4c7414aa"
      },
      "source": [
        "shutil.copyfile('/gdrive/MyDrive/fiji-linux64-20170530.zip', '/usr/local/fiji-linux64-20170530.zip')"
      ],
      "execution_count": null,
      "outputs": [
        {
          "output_type": "execute_result",
          "data": {
            "application/vnd.google.colaboratory.intrinsic+json": {
              "type": "string"
            },
            "text/plain": [
              "'/usr/local/fiji-linux64-20170530.zip'"
            ]
          },
          "metadata": {
            "tags": []
          },
          "execution_count": 18
        }
      ]
    },
    {
      "cell_type": "code",
      "metadata": {
        "colab": {
          "base_uri": "https://localhost:8080/"
        },
        "id": "LL9jXhvYOFj6",
        "outputId": "ae93702e-21c5-455d-e706-5440b81c7ec7"
      },
      "source": [
        "cd /usr/local"
      ],
      "execution_count": null,
      "outputs": [
        {
          "output_type": "stream",
          "text": [
            "/usr/local\n"
          ],
          "name": "stdout"
        }
      ]
    },
    {
      "cell_type": "code",
      "metadata": {
        "colab": {
          "base_uri": "https://localhost:8080/"
        },
        "id": "KfItb5HPpSHW",
        "outputId": "2cc4ca2e-7aef-4bbb-ca20-38b0ec83ec5e"
      },
      "source": [
        "!unzip ./fiji-linux64-20170530.zip"
      ],
      "execution_count": null,
      "outputs": [
        {
          "output_type": "stream",
          "text": [
            "Archive:  ./fiji-linux64-20170530.zip\n",
            "  inflating: Fiji.app/db.xml.gz      \n",
            "  inflating: Fiji.app/Contents/Info.plist  \n",
            "  inflating: Fiji.app/Contents/Resources/Fiji.icns  \n",
            "  inflating: Fiji.app/Contents/Resources/ImageJ.icns  \n",
            "  inflating: Fiji.app/ImageJ-linux64  \n",
            "  inflating: Fiji.app/plugins/3D_Blob_Segmentation-3.0.0.jar  \n",
            "  inflating: Fiji.app/plugins/3D_Objects_Counter-2.0.0.jar  \n",
            "  inflating: Fiji.app/plugins/3D_Viewer-4.0.1.jar  \n",
            "  inflating: Fiji.app/plugins/Algorithm_Launcher.jar  \n",
            "  inflating: Fiji.app/plugins/Analyze/Dynamic_ROI_Profiler.clj  \n",
            "  inflating: Fiji.app/plugins/Analyze/Measure_RGB.txt  \n",
            "  inflating: Fiji.app/plugins/AnalyzeSkeleton_-3.1.2.jar  \n",
            "  inflating: Fiji.app/plugins/Anisotropic_Diffusion_2D-2.0.0.jar  \n",
            "  inflating: Fiji.app/plugins/Archipelago_Plugins-0.5.2.jar  \n",
            "  inflating: Fiji.app/plugins/Arrow_-2.0.1.jar  \n",
            "  inflating: Fiji.app/plugins/Auto_Threshold-1.16.4.jar  \n",
            "  inflating: Fiji.app/plugins/BalloonSegmentation_-3.0.0.jar  \n",
            "  inflating: Fiji.app/plugins/BeanShell_Interpreter-2.0.0-SNAPSHOT.jar  \n",
            "  inflating: Fiji.app/plugins/Bug_Submitter-2.1.0.jar  \n",
            "  inflating: Fiji.app/plugins/CLI_-2.0.0-SNAPSHOT.jar  \n",
            "  inflating: Fiji.app/plugins/CPU_Meter-2.0.0.jar  \n",
            "  inflating: Fiji.app/plugins/Calculator_Plus-2.0.0.jar  \n",
            "  inflating: Fiji.app/plugins/Cell_Counter-2.2.1.jar  \n",
            "  inflating: Fiji.app/plugins/Clojure_Interpreter-2.0.0-SNAPSHOT.jar  \n",
            "  inflating: Fiji.app/plugins/Colocalisation_Analysis-3.0.0.jar  \n",
            "  inflating: Fiji.app/plugins/Color_Histogram-2.0.6.jar  \n",
            "  inflating: Fiji.app/plugins/Color_Inspector_3D-2.3.1.jar  \n",
            "  inflating: Fiji.app/plugins/Colour_Deconvolution-3.0.1.jar  \n",
            "  inflating: Fiji.app/plugins/CorrectBleach_-2.0.1.jar  \n",
            "  inflating: Fiji.app/plugins/Correct_3D_Drift-1.0.0.jar  \n",
            "  inflating: Fiji.app/plugins/Descriptor_based_registration-2.1.1.jar  \n",
            "  inflating: Fiji.app/plugins/Dichromacy_-2.1.0.jar  \n",
            "  inflating: Fiji.app/plugins/Directionality_-2.0.1.jar  \n",
            "  inflating: Fiji.app/plugins/Examples/Add_Popup_Split_Channels.bsh  \n",
            "  inflating: Fiji.app/plugins/Examples/Anaglyph_for_Red_Cyan_glasses.rb  \n",
            "  inflating: Fiji.app/plugins/Examples/Blobs_Demo_in_Ruby.rb  \n",
            "  inflating: Fiji.app/plugins/Examples/Command_Launchers/Command_Launcher_BeanShell.bsh  \n",
            "  inflating: Fiji.app/plugins/Examples/Command_Launchers/Command_Launcher_Clojure.clj  \n",
            "  inflating: Fiji.app/plugins/Examples/Command_Launchers/Command_Launcher_Javascript.js  \n",
            "  inflating: Fiji.app/plugins/Examples/Command_Launchers/Command_Launcher_Python.py  \n",
            "  inflating: Fiji.app/plugins/Examples/Command_Launchers/Command_Launcher_Ruby.rb  \n",
            "  inflating: Fiji.app/plugins/Examples/CoverMaker/Cover_Maker.py  \n",
            "  inflating: Fiji.app/plugins/Examples/CoverMaker/Prepare_Cover_Maker_Database.py  \n",
            "  inflating: Fiji.app/plugins/Examples/Delayed_Snapshot.py  \n",
            "  inflating: Fiji.app/plugins/Examples/Delayed_Snapshot_Window.bsh  \n",
            "  inflating: Fiji.app/plugins/Examples/Edit_LUT_As_Text.py  \n",
            "  inflating: Fiji.app/plugins/Examples/Extended_Profile_Plot.bsh  \n",
            "  inflating: Fiji.app/plugins/Examples/Fiji_Cube.ijm  \n",
            "  inflating: Fiji.app/plugins/Examples/Fiji_Logo_3D.js  \n",
            "  inflating: Fiji.app/plugins/Examples/Find_Dimension_of_Raw_Image.py  \n",
            "  inflating: Fiji.app/plugins/Examples/Image_To_Tool_Icon.bsh  \n",
            "  inflating: Fiji.app/plugins/Examples/Multithreaded_Image_Processing.clj  \n",
            "  inflating: Fiji.app/plugins/Examples/Multithreaded_Image_Processing_in_Javascript.js  \n",
            "  inflating: Fiji.app/plugins/Examples/Plasma_Cloud.rb  \n",
            "  inflating: Fiji.app/plugins/Examples/Same_Slice_in_Multiple_Images.rb  \n",
            "  inflating: Fiji.app/plugins/Examples/The_Hue_Game.bsh  \n",
            "  inflating: Fiji.app/plugins/Examples/TrakEM2_Example_Scripts/Homogenize_Ball_Radius.py  \n",
            "  inflating: Fiji.app/plugins/Examples/TrakEM2_Example_Scripts/Measure_AreaLists.py  \n",
            "  inflating: Fiji.app/plugins/Examples/TrakEM2_Example_Scripts/T2_Select_All.py  \n",
            "  inflating: Fiji.app/plugins/Examples/TrakEM2_Example_Scripts/T2_set_all_transforms_to_identity.py  \n",
            "  inflating: Fiji.app/plugins/Examples/TrakEM2_Example_Scripts/extract_stack_under_arealist.py  \n",
            "  inflating: Fiji.app/plugins/Examples/blend_two_images.clj  \n",
            "  inflating: Fiji.app/plugins/Examples/celsius_to_fahrenheit.clj  \n",
            "  inflating: Fiji.app/plugins/Examples/chess_.py  \n",
            "  inflating: Fiji.app/plugins/Examples/compose_rgb-stacks.bsh  \n",
            "  inflating: Fiji.app/plugins/Examples/downsample_.js  \n",
            "  inflating: Fiji.app/plugins/Examples/list_all_threads.py  \n",
            "  inflating: Fiji.app/plugins/Examples/random_noise_example.clj  \n",
            "  inflating: Fiji.app/plugins/FS_Align_TrakEM2-2.0.1.jar  \n",
            "  inflating: Fiji.app/plugins/Feature_Detection-2.0.1.jar  \n",
            "  inflating: Fiji.app/plugins/Fiji_Archipelago-2.0.0.jar  \n",
            "  inflating: Fiji.app/plugins/Fiji_Developer-2.0.5.jar  \n",
            "  inflating: Fiji.app/plugins/Fiji_Package_Maker-2.1.0.jar  \n",
            "  inflating: Fiji.app/plugins/Fiji_Plugins-3.1.0.jar  \n",
            "  inflating: Fiji.app/plugins/Fiji_Updater.jar  \n",
            "  inflating: Fiji.app/plugins/FlowJ_-1.29.2.jar  \n",
            "  inflating: Fiji.app/plugins/Graph_Cut-1.0.1.jar  \n",
            "  inflating: Fiji.app/plugins/Gray_Morphology-2.3.3.jar  \n",
            "  inflating: Fiji.app/plugins/H5J_Loader_Plugin-1.0.6.jar  \n",
            "  inflating: Fiji.app/plugins/Helmholtz_Analysis-2.0.1.jar  \n",
            "  inflating: Fiji.app/plugins/IJ_Robot-2.0.0.jar  \n",
            "  inflating: Fiji.app/plugins/IO_-3.0.1.jar  \n",
            "  inflating: Fiji.app/plugins/Image_5D-2.0.1.jar  \n",
            "  inflating: Fiji.app/plugins/Image_Expression_Parser-3.0.0.jar  \n",
            "  inflating: Fiji.app/plugins/Interactive_3D_Surface_Plot-2.4.1.jar  \n",
            "  inflating: Fiji.app/plugins/IsoData_Classifier-2.0.0.jar  \n",
            "  inflating: Fiji.app/plugins/JRuby/imagej.rb  \n",
            "  inflating: Fiji.app/plugins/JRuby_Interpreter-2.0.0-SNAPSHOT.jar  \n",
            "  inflating: Fiji.app/plugins/Javascript_-2.0.0-SNAPSHOT.jar  \n",
            "  inflating: Fiji.app/plugins/Jython_Interpreter-2.0.0-SNAPSHOT.jar  \n",
            "  inflating: Fiji.app/plugins/Kuwahara_Filter-2.0.0.jar  \n",
            "  inflating: Fiji.app/plugins/KymographBuilder-1.2.3.jar  \n",
            "  inflating: Fiji.app/plugins/LSM_Reader-4.1.1.jar  \n",
            "  inflating: Fiji.app/plugins/LSM_Toolbox-4.1.1.jar  \n",
            "  inflating: Fiji.app/plugins/Lasso_and_Blow_Tool-2.0.1.jar  \n",
            "  inflating: Fiji.app/plugins/Linear_Kuwahara-2.0.0.jar  \n",
            "  inflating: Fiji.app/plugins/LocalThickness_-4.0.1.jar  \n",
            "  inflating: Fiji.app/plugins/MTrack2_-2.0.0.jar  \n",
            "  inflating: Fiji.app/plugins/M_I_P-2.0.0.jar  \n",
            "  inflating: Fiji.app/plugins/Macros/About_Plugin_Macros.txt  \n",
            "  inflating: Fiji.app/plugins/Macros/Bulls_Eye.txt  \n",
            "  inflating: Fiji.app/plugins/Macros/Polygon_.txt  \n",
            "  inflating: Fiji.app/plugins/Macros/RGB_Histogram.txt  \n",
            "  inflating: Fiji.app/plugins/Macros/batch_convert_any_to_tif.txt  \n",
            "  inflating: Fiji.app/plugins/Manual_Tracking-2.1.0.jar  \n",
            "  inflating: Fiji.app/plugins/Multi_Kymograph-3.0.0.jar  \n",
            "  inflating: Fiji.app/plugins/PIV_analyser-1.1.1.jar  \n",
            "  inflating: Fiji.app/plugins/QuickPALM_-1.1.1.jar  \n",
            "  inflating: Fiji.app/plugins/RATS_-2.0.0.jar  \n",
            "  inflating: Fiji.app/plugins/Reconstruct_Reader-2.0.2.jar  \n",
            "  inflating: Fiji.app/plugins/Refresh_Javas-2.0.0-SNAPSHOT.jar  \n",
            "  inflating: Fiji.app/plugins/SPIM_Opener-2.0.1.jar  \n",
            "  inflating: Fiji.app/plugins/SPIM_Registration-5.0.13.jar  \n",
            "  inflating: Fiji.app/plugins/Samples_-2.0.1.jar  \n",
            "  inflating: Fiji.app/plugins/Scripts/File/Fix_Funny_Filenames.ijm  \n",
            "  inflating: Fiji.app/plugins/Scripts/File/Make_Screencast.bsh  \n",
            "  inflating: Fiji.app/plugins/Scripts/File/Open_Samples/Adelsons_Squares.ijm  \n",
            "  inflating: Fiji.app/plugins/Scripts/File/Open_Samples/Comparing_Lengths.ijm  \n",
            "  inflating: Fiji.app/plugins/Scripts/File/Open_Samples/Spirals_.ijm  \n",
            "  inflating: Fiji.app/plugins/Scripts/File/Open_Samples/Straight_Lines.ijm  \n",
            "  inflating: Fiji.app/plugins/Scripts/File/Open_Samples/Striped_Circles.ijm  \n",
            "  inflating: Fiji.app/plugins/Scripts/Image/Adjust/Scale_to_DPI.js  \n",
            "  inflating: Fiji.app/plugins/Scripts/Image/Color/Set_Color_By_Wavelength.ijm  \n",
            "  inflating: Fiji.app/plugins/Scripts/Image/Hyperstacks/Temporal-Color_Code.ijm  \n",
            "  inflating: Fiji.app/plugins/Scripts/Plugins/Utilities/Create_Desktop_Icon.bsh  \n",
            "  inflating: Fiji.app/plugins/Scripts/Plugins/Utilities/Find_Jar_For_Class.bsh  \n",
            "  inflating: Fiji.app/plugins/Scripts/Plugins/Utilities/Record_Desktop.py  \n",
            "  inflating: Fiji.app/plugins/Scripts/Plugins/Utilities/Record_Window.py  \n",
            "  inflating: Fiji.app/plugins/Series_Labeler-2.0.0.jar  \n",
            "  inflating: Fiji.app/plugins/Sholl_Analysis-3.6.13.jar  \n",
            "  inflating: Fiji.app/plugins/Simple_Neurite_Tracer-3.1.1.jar  \n",
            "  inflating: Fiji.app/plugins/Siox_Segmentation-1.0.4.jar  \n",
            "  inflating: Fiji.app/plugins/Skeletonize3D_-2.1.0.jar  \n",
            "  inflating: Fiji.app/plugins/SplineDeformationGenerator_-2.0.0.jar  \n",
            "  inflating: Fiji.app/plugins/Stack_Manipulation-2.0.1.jar  \n",
            "  inflating: Fiji.app/plugins/Statistical_Region_Merging-2.0.0.jar  \n",
            "  inflating: Fiji.app/plugins/Stitching_-3.1.1.jar  \n",
            "  inflating: Fiji.app/plugins/Sync_Win-1.7-fiji3.jar  \n",
            "  inflating: Fiji.app/plugins/Thread_Killer-2.0.0.jar  \n",
            "  inflating: Fiji.app/plugins/Time_Lapse-2.0.1.jar  \n",
            "  inflating: Fiji.app/plugins/Time_Stamper-2.0.0.jar  \n",
            "  inflating: Fiji.app/plugins/ToAST_-25.0.1.jar  \n",
            "  inflating: Fiji.app/plugins/TopoJ_-2.0.0.jar  \n",
            "  inflating: Fiji.app/plugins/TrackMate_-3.4.2.jar  \n",
            "  inflating: Fiji.app/plugins/Trainable_Segmentation-3.2.11.jar  \n",
            "  inflating: Fiji.app/plugins/TrakEM2_-1.0h.jar  \n",
            "  inflating: Fiji.app/plugins/TrakEM2_Archipelago-2.0.1.jar  \n",
            "  inflating: Fiji.app/plugins/Utilities/Close_All_Without_Saving.txt  \n",
            "  inflating: Fiji.app/plugins/VIB_-3.0.1.jar  \n",
            "  inflating: Fiji.app/plugins/Vaa3d_Reader-2.0.1.jar  \n",
            "  inflating: Fiji.app/plugins/Vaa3d_Writer-1.0.1.jar  \n",
            "  inflating: Fiji.app/plugins/Video_Editing-2.0.0.jar  \n",
            "  inflating: Fiji.app/plugins/View5D_-1.3.1.jar  \n",
            "  inflating: Fiji.app/plugins/Volume_Calculator-2.0.1.jar  \n",
            "  inflating: Fiji.app/plugins/Volume_Viewer-2.01.1.jar  \n",
            "  inflating: Fiji.app/plugins/bUnwarpJ_-2.6.8.jar  \n",
            "  inflating: Fiji.app/plugins/bigdataviewer_fiji-3.0.0.jar  \n",
            "  inflating: Fiji.app/plugins/bigwarp_fiji-2.1.5.jar  \n",
            "  inflating: Fiji.app/plugins/bio-formats_plugins-5.5.1.jar  \n",
            "  inflating: Fiji.app/plugins/blockmatching_-2.1.1.jar  \n",
            "  inflating: Fiji.app/plugins/ij-ImageIO_.jar  \n",
            "  inflating: Fiji.app/plugins/level_sets-1.0.1.jar  \n",
            "  inflating: Fiji.app/plugins/mpicbg_-1.1.1.jar  \n",
            "  inflating: Fiji.app/plugins/panorama_-3.0.1.jar  \n",
            "  inflating: Fiji.app/plugins/readme.txt  \n",
            "  inflating: Fiji.app/plugins/register_virtual_stack_slices-3.0.1.jar  \n",
            "  inflating: Fiji.app/plugins/registration_3d-2.0.0.jar  \n",
            "  inflating: Fiji.app/plugins/trakem2_tps-1.1.2.jar  \n",
            "  inflating: Fiji.app/plugins/z_spacing-0.0.1-SNAPSHOT.jar  \n",
            "  inflating: Fiji.app/jars/JWlz-1.4.0.jar  \n",
            "  inflating: Fiji.app/jars/T2-NIT-1.1.1.jar  \n",
            "  inflating: Fiji.app/jars/T2-TreelineGraph-1.1.1.jar  \n",
            "  inflating: Fiji.app/jars/VIB-lib-2.1.1.jar  \n",
            "  inflating: Fiji.app/jars/VectorString-2.0.0.jar  \n",
            "  inflating: Fiji.app/jars/ahocorasick-0.2.4.jar  \n",
            "  inflating: Fiji.app/jars/ant-junit.jar  \n",
            "  inflating: Fiji.app/jars/ant-launcher.jar  \n",
            "  inflating: Fiji.app/jars/ant-nodeps.jar  \n",
            "  inflating: Fiji.app/jars/ant.jar   \n",
            "  inflating: Fiji.app/jars/args4j-2.0.25.jar  \n",
            "  inflating: Fiji.app/jars/asm-4.0.jar  \n",
            "  inflating: Fiji.app/jars/asm-analysis-4.0.jar  \n",
            "  inflating: Fiji.app/jars/asm-commons-4.0.jar  \n",
            "  inflating: Fiji.app/jars/asm-tree-4.0.jar  \n",
            "  inflating: Fiji.app/jars/asm-util-4.0.jar  \n",
            "  inflating: Fiji.app/jars/autocomplete-2.5.8.jar  \n",
            "  inflating: Fiji.app/jars/base64-2.3.8.jar  \n",
            "  inflating: Fiji.app/jars/batik-1.8.jar  \n",
            "  inflating: Fiji.app/jars/batik-anim-1.8.jar  \n",
            "  inflating: Fiji.app/jars/batik-awt-util-1.8.jar  \n",
            "  inflating: Fiji.app/jars/batik-bridge-1.8.jar  \n",
            "  inflating: Fiji.app/jars/batik-css-1.8.jar  \n",
            "  inflating: Fiji.app/jars/batik-dom-1.8.jar  \n",
            "  inflating: Fiji.app/jars/batik-ext-1.8.jar  \n",
            "  inflating: Fiji.app/jars/batik-gvt-1.8.jar  \n",
            "  inflating: Fiji.app/jars/batik-parser-1.8.jar  \n",
            "  inflating: Fiji.app/jars/batik-script-1.8.jar  \n",
            "  inflating: Fiji.app/jars/batik-svg-dom-1.8.jar  \n",
            "  inflating: Fiji.app/jars/batik-svggen-1.8.jar  \n",
            "  inflating: Fiji.app/jars/batik-util-1.8.jar  \n",
            "  inflating: Fiji.app/jars/batik-xml-1.8.jar  \n",
            "  inflating: Fiji.app/jars/bcmail-jdk14-138.jar  \n",
            "  inflating: Fiji.app/jars/bcprov-jdk14-138.jar  \n",
            "  inflating: Fiji.app/jars/bigdataviewer-core-3.0.3.jar  \n",
            "  inflating: Fiji.app/jars/bigdataviewer-vistools-1.0.0-beta-4.jar  \n",
            "  inflating: Fiji.app/jars/bio-formats/formats-api-5.5.1.jar  \n",
            "  inflating: Fiji.app/jars/bio-formats/formats-bsd-5.5.1.jar  \n",
            "  inflating: Fiji.app/jars/bio-formats/formats-common-5.1.10.jar  \n",
            "  inflating: Fiji.app/jars/bio-formats/formats-gpl-5.5.1.jar  \n",
            "  inflating: Fiji.app/jars/bio-formats/jai_imageio-5.5.1.jar  \n",
            "  inflating: Fiji.app/jars/bio-formats/jxrlib-all-0.2.1.jar  \n",
            "  inflating: Fiji.app/jars/bio-formats/mdbtools-java-5.1.10.jar  \n",
            "  inflating: Fiji.app/jars/bio-formats/metakit-5.3.0.jar  \n",
            "  inflating: Fiji.app/jars/bio-formats/ome-common-5.3.1.jar  \n",
            "  inflating: Fiji.app/jars/bio-formats/ome-mdbtools-5.3.0.jar  \n",
            "  inflating: Fiji.app/jars/bio-formats/ome-poi-5.3.1.jar  \n",
            "  inflating: Fiji.app/jars/bio-formats/ome-xml-5.4.0.jar  \n",
            "  inflating: Fiji.app/jars/bio-formats/specification-5.4.0.jar  \n",
            "  inflating: Fiji.app/jars/bio-formats/turbojpeg-5.5.1.jar  \n",
            "  inflating: Fiji.app/jars/blas-0.8.jar  \n",
            "  inflating: Fiji.app/jars/bsh-2.0b6.jar  \n",
            "  inflating: Fiji.app/jars/bytelist-1.0.11.jar  \n",
            "  inflating: Fiji.app/jars/clojure-1.8.0.jar  \n",
            "  inflating: Fiji.app/jars/codemodel-2.6.jar  \n",
            "  inflating: Fiji.app/jars/collections-generic-4.01.jar  \n",
            "  inflating: Fiji.app/jars/commons-codec-1.8.jar  \n",
            "  inflating: Fiji.app/jars/commons-compress-1.4.1.jar  \n",
            "  inflating: Fiji.app/jars/commons-lang3-3.1.jar  \n",
            "  inflating: Fiji.app/jars/commons-logging-1.1.1.jar  \n",
            "  inflating: Fiji.app/jars/commons-math-2.2.jar  \n",
            "  inflating: Fiji.app/jars/commons-math3-3.6.1.jar  \n",
            "  inflating: Fiji.app/jars/commons-vfs2-2.0.jar  \n",
            "  inflating: Fiji.app/jars/datasets-0.8.1906.jar  \n",
            "  inflating: Fiji.app/jars/ejml-0.24.jar  \n",
            "  inflating: Fiji.app/jars/eventbus-1.4.jar  \n",
            "  inflating: Fiji.app/jars/f2jutil-0.8.jar  \n",
            "  inflating: Fiji.app/jars/fake-2.0.0-SNAPSHOT.jar  \n",
            "  inflating: Fiji.app/jars/ffmpeg-2.6.1-0.11.jar  \n",
            "  inflating: Fiji.app/jars/fiji-2.0.0-SNAPSHOT.jar  \n",
            "  inflating: Fiji.app/jars/fiji-compat-2.0.2.jar  \n",
            "  inflating: Fiji.app/jars/fiji-lib-2.1.1.jar  \n",
            "  inflating: Fiji.app/jars/fiji-scripting-2.0.0-SNAPSHOT.jar  \n",
            "  inflating: Fiji.app/jars/filters-2.0.235.jar  \n",
            "  inflating: Fiji.app/jars/gcc-runtime-0.8.1906.jar  \n",
            "  inflating: Fiji.app/jars/gentyref-1.1.0.jar  \n",
            "  inflating: Fiji.app/jars/gluegen-rt-2.3.2.jar  \n",
            "  inflating: Fiji.app/jars/gluegen-rt-main-2.3.2.jar  \n",
            "  inflating: Fiji.app/jars/grDevices-0.8.1906.jar  \n",
            "  inflating: Fiji.app/jars/graphics-0.8.1906.jar  \n",
            "  inflating: Fiji.app/jars/groovy-2.3.6.jar  \n",
            "  inflating: Fiji.app/jars/gson-2.7.jar  \n",
            "  inflating: Fiji.app/jars/guava-19.0.jar  \n",
            "  inflating: Fiji.app/jars/hamcrest-core-1.3.jar  \n",
            "  inflating: Fiji.app/jars/ij-1.51n.jar  \n",
            "  inflating: Fiji.app/jars/ij1-patcher-0.12.5.jar  \n",
            "  inflating: Fiji.app/jars/image4j-0.7.jar  \n",
            "  inflating: Fiji.app/jars/imagej-2.0.0-rc-59.jar  \n",
            "  inflating: Fiji.app/jars/imagej-common-0.24.3.jar  \n",
            "  inflating: Fiji.app/jars/imagej-deprecated-0.1.1.jar  \n",
            "  inflating: Fiji.app/jars/imagej-launcher-4.0.5.jar  \n",
            "  inflating: Fiji.app/jars/imagej-legacy-0.23.5.jar  \n",
            "  inflating: Fiji.app/jars/imagej-notebook-0.2.1.jar  \n",
            "  inflating: Fiji.app/jars/imagej-ops-0.36.0.jar  \n",
            "  inflating: Fiji.app/jars/imagej-plugins-commands-0.7.0.jar  \n",
            "  inflating: Fiji.app/jars/imagej-plugins-tools-0.3.0.jar  \n",
            "  inflating: Fiji.app/jars/imagej-plugins-uploader-ssh-0.3.1.jar  \n",
            "  inflating: Fiji.app/jars/imagej-plugins-uploader-webdav-0.2.1.jar  \n",
            "  inflating: Fiji.app/jars/imagej-scripting-0.5.1.jar  \n",
            "  inflating: Fiji.app/jars/imagej-ui-awt-0.3.0.jar  \n",
            "  inflating: Fiji.app/jars/imagej-ui-swing-0.21.1.jar  \n",
            "  inflating: Fiji.app/jars/imagej-updater-0.8.2.jar  \n",
            "  inflating: Fiji.app/jars/imglib2-3.2.1.jar  \n",
            "  inflating: Fiji.app/jars/imglib2-algorithm-0.6.2.jar  \n",
            "  inflating: Fiji.app/jars/imglib2-algorithm-fft-0.1.2.jar  \n",
            "  inflating: Fiji.app/jars/imglib2-algorithm-gpl-0.1.5.jar  \n",
            "  inflating: Fiji.app/jars/imglib2-ij-2.0.0-beta-35.jar  \n",
            "  inflating: Fiji.app/jars/imglib2-realtransform-2.0.0-beta-34.jar  \n",
            "  inflating: Fiji.app/jars/imglib2-roi-0.4.4.jar  \n",
            "  inflating: Fiji.app/jars/imglib2-ui-2.0.0-beta-31.jar  \n",
            "  inflating: Fiji.app/jars/invokebinder-1.2.jar  \n",
            "  inflating: Fiji.app/jars/itext-2.1.5.jar  \n",
            "  inflating: Fiji.app/jars/itextpdf-5.1.1.jar  \n",
            "  inflating: Fiji.app/jars/j3dcore-1.6.0-scijava-2.jar  \n",
            "  inflating: Fiji.app/jars/j3dutils-1.6.0-scijava-2.jar  \n",
            "  inflating: Fiji.app/jars/jacl.jar  \n",
            "  inflating: Fiji.app/jars/jai-codec-1.1.3.jar  \n",
            "  inflating: Fiji.app/jars/jai-core-1.1.3.jar  \n",
            "  inflating: Fiji.app/jars/jama-1.0.3.jar  \n",
            "  inflating: Fiji.app/jars/java-cup-0.11a.jar  \n",
            "  inflating: Fiji.app/jars/javacpp-0.11.jar  \n",
            "  inflating: Fiji.app/jars/javassist-3.20.0-GA.jar  \n",
            "  inflating: Fiji.app/jars/jcodings-1.0.10.jar  \n",
            "  inflating: Fiji.app/jars/jcommon-1.0.23.jar  \n",
            "  inflating: Fiji.app/jars/jdatepicker-1.3.2.jar  \n",
            "  inflating: Fiji.app/jars/jdom2-2.0.6.jar  \n",
            "  inflating: Fiji.app/jars/jep-2.4.2.jar  \n",
            "  inflating: Fiji.app/jars/jffi-1.2.7-native.jar  \n",
            "  inflating: Fiji.app/jars/jffi-1.2.7.jar  \n",
            "  inflating: Fiji.app/jars/jfreechart-1.0.19.jar  \n",
            "  inflating: Fiji.app/jars/jgoodies-common-1.7.0.jar  \n",
            "  inflating: Fiji.app/jars/jgoodies-forms-1.7.2.jar  \n",
            "  inflating: Fiji.app/jars/jgrapht-0.8.3.jar  \n",
            "  inflating: Fiji.app/jars/jgraphx-1.10.4.1.jar  \n",
            "  inflating: Fiji.app/jars/jhdf5-14.12.5.jar  \n",
            "  inflating: Fiji.app/jars/jhotdraw-7.6.0.jar  \n",
            "  inflating: Fiji.app/jars/jitk-tps-2.1.0.jar  \n",
            "  inflating: Fiji.app/jars/jna-4.2.2.jar  \n",
            "  inflating: Fiji.app/jars/jnr-constants-0.8.5.jar  \n",
            "  inflating: Fiji.app/jars/jnr-enxio-0.4.jar  \n",
            "  inflating: Fiji.app/jars/jnr-ffi-1.0.7.jar  \n",
            "  inflating: Fiji.app/jars/jnr-netdb-1.1.2.jar  \n",
            "  inflating: Fiji.app/jars/jnr-posix-3.0.1.jar  \n",
            "  inflating: Fiji.app/jars/jnr-unixsocket-0.3.jar  \n",
            "  inflating: Fiji.app/jars/jnr-x86asm-1.0.2.jar  \n",
            "  inflating: Fiji.app/jars/joal-2.3.2.jar  \n",
            "  inflating: Fiji.app/jars/joal-main-2.3.2.jar  \n",
            "  inflating: Fiji.app/jars/jocl-2.3.2.jar  \n",
            "  inflating: Fiji.app/jars/jocl-main-2.3.2.jar  \n",
            "  inflating: Fiji.app/jars/joda-time-2.9.4.jar  \n",
            "  inflating: Fiji.app/jars/jogl-all-2.3.2.jar  \n",
            "  inflating: Fiji.app/jars/jogl-all-main-2.3.2.jar  \n",
            "  inflating: Fiji.app/jars/joni-2.1.1.jar  \n",
            "  inflating: Fiji.app/jars/jpedalSTD-2.80b11.jar  \n",
            "  inflating: Fiji.app/jars/jruby-core-1.7.12.jar  \n",
            "  inflating: Fiji.app/jars/jruby-stdlib-1.7.12.jar  \n",
            "  inflating: Fiji.app/jars/js.jar    \n",
            "  inflating: Fiji.app/jars/jsch-0.1.49.jar  \n",
            "  inflating: Fiji.app/jars/jsoup-1.7.2.jar  \n",
            "  inflating: Fiji.app/jars/jtransforms-2.4.jar  \n",
            "  inflating: Fiji.app/jars/jung-api-2.0.1.jar  \n",
            "  inflating: Fiji.app/jars/jung-graph-impl-2.0.1.jar  \n",
            "  inflating: Fiji.app/jars/jython-shaded-2.7.0.jar  \n",
            "  inflating: Fiji.app/jars/jzlib-1.1.2.jar  \n",
            "  inflating: Fiji.app/jars/kryo-2.24.0.jar  \n",
            "  inflating: Fiji.app/jars/languagesupport-2.5.8.jar  \n",
            "  inflating: Fiji.app/jars/lapack-0.8.jar  \n",
            "  inflating: Fiji.app/jars/legacy-imglib1-1.1.6.jar  \n",
            "  inflating: Fiji.app/jars/linux64/ffmpeg-2.6.1-0.11-linux-x86_64.jar  \n",
            "  inflating: Fiji.app/jars/linux64/gluegen-rt-2.3.2-natives-linux-amd64.jar  \n",
            "  inflating: Fiji.app/jars/linux64/joal-2.3.2-natives-linux-amd64.jar  \n",
            "  inflating: Fiji.app/jars/linux64/jocl-2.3.2-natives-linux-amd64.jar  \n",
            "  inflating: Fiji.app/jars/linux64/jogl-all-2.3.2-natives-linux-amd64.jar  \n",
            "  inflating: Fiji.app/jars/log4j-1.2.17.jar  \n",
            "  inflating: Fiji.app/jars/logback-classic-1.1.7.jar  \n",
            "  inflating: Fiji.app/jars/logback-core-1.1.7.jar  \n",
            "  inflating: Fiji.app/jars/mapdb-1.0.3.jar  \n",
            "  inflating: Fiji.app/jars/markdownj-0.3.0-1.0.2b4.jar  \n",
            "  inflating: Fiji.app/jars/maven-scm-api-1.4.jar  \n",
            "  inflating: Fiji.app/jars/maven-scm-provider-svn-commons-1.4.jar  \n",
            "  inflating: Fiji.app/jars/maven-scm-provider-svnexe-1.4.jar  \n",
            "  inflating: Fiji.app/jars/metadata-extractor-2.6.2.jar  \n",
            "  inflating: Fiji.app/jars/methods-0.8.1906.jar  \n",
            "  inflating: Fiji.app/jars/miglayout-3.7.4-swing.jar  \n",
            "  inflating: Fiji.app/jars/mines-jtk-20151125.jar  \n",
            "  inflating: Fiji.app/jars/minimaven-2.2.0.jar  \n",
            "  inflating: Fiji.app/jars/minlog-1.2.jar  \n",
            "  inflating: Fiji.app/jars/mpicbg-1.1.1.jar  \n",
            "  inflating: Fiji.app/jars/mpicbg-trakem2-1.2.3.jar  \n",
            "  inflating: Fiji.app/jars/mtj-1.0.4.jar  \n",
            "  inflating: Fiji.app/jars/nailgun-server-0.9.1.jar  \n",
            "  inflating: Fiji.app/jars/native-lib-loader-2.1.4.jar  \n",
            "  inflating: Fiji.app/jars/netcdf-4.3.19.jar  \n",
            "  inflating: Fiji.app/jars/netlib-java-0.9.3-renjin-patched-2.jar  \n",
            "  inflating: Fiji.app/jars/object-inspector-0.1.jar  \n",
            "  inflating: Fiji.app/jars/objenesis-2.1.jar  \n",
            "  inflating: Fiji.app/jars/op-finder-0.1.0.jar  \n",
            "  inflating: Fiji.app/jars/opencsv-2.4.jar  \n",
            "  inflating: Fiji.app/jars/options-1.1.jar  \n",
            "  inflating: Fiji.app/jars/pal-optimization-2.0.0.jar  \n",
            "  inflating: Fiji.app/jars/parsington-1.0.0.jar  \n",
            "  inflating: Fiji.app/jars/pentaho-package-manager-1.0.8.jar  \n",
            "  inflating: Fiji.app/jars/perf4j-0.9.13.jar  \n",
            "  inflating: Fiji.app/jars/plexus-utils-1.5.6.jar  \n",
            "  inflating: Fiji.app/jars/postgresql-8.2-507.jdbc3.jar  \n",
            "  inflating: Fiji.app/jars/regexp-1.3.jar  \n",
            "  inflating: Fiji.app/jars/renjin-appl-0.8.1906.jar  \n",
            "  inflating: Fiji.app/jars/renjin-core-0.8.1906.jar  \n",
            "  inflating: Fiji.app/jars/renjin-gnur-runtime-0.8.1906.jar  \n",
            "  inflating: Fiji.app/jars/renjin-script-engine-0.8.1906.jar  \n",
            "  inflating: Fiji.app/jars/rhino-1.7.6.jar  \n",
            "  inflating: Fiji.app/jars/rsyntaxtextarea-2.5.8.jar  \n",
            "  inflating: Fiji.app/jars/scala-compiler-2.12.1.jar  \n",
            "  inflating: Fiji.app/jars/scala-library-2.12.1.jar  \n",
            "  inflating: Fiji.app/jars/scala-parser-combinators_2.12.0-M4-1.0.4.jar  \n",
            "  inflating: Fiji.app/jars/scala-reflect-2.12.1.jar  \n",
            "  inflating: Fiji.app/jars/scala-xml_2.12-1.0.6.jar  \n",
            "  inflating: Fiji.app/jars/scala-xml_2.12.0-M4-1.0.5.jar  \n",
            "  inflating: Fiji.app/jars/scifio-0.31.1.jar  \n",
            "  inflating: Fiji.app/jars/scifio-bf-compat-2.0.2.jar  \n",
            "  inflating: Fiji.app/jars/scifio-cli-0.3.3.jar  \n",
            "  inflating: Fiji.app/jars/scifio-hdf5-0.1.1.jar  \n",
            "  inflating: Fiji.app/jars/scifio-jai-imageio-1.1.0.jar  \n",
            "  inflating: Fiji.app/jars/scifio-lifesci-0.7.0.jar  \n",
            "  inflating: Fiji.app/jars/scifio-ome-xml-0.14.2.jar  \n",
            "  inflating: Fiji.app/jars/scifio-tools-0.14.0.jar  \n",
            "  inflating: Fiji.app/jars/scijava-common-2.62.1.jar  \n",
            "  inflating: Fiji.app/jars/scijava-config-2.0.1.jar  \n",
            "  inflating: Fiji.app/jars/scijava-expression-parser-2.1.1.jar  \n",
            "  inflating: Fiji.app/jars/scijava-plugins-commands-0.2.2.jar  \n",
            "  inflating: Fiji.app/jars/scijava-plugins-platforms-0.2.1.jar  \n",
            "  inflating: Fiji.app/jars/scijava-plugins-text-markdown-0.1.2.jar  \n",
            "  inflating: Fiji.app/jars/scijava-plugins-text-plain-0.1.2.jar  \n",
            "  inflating: Fiji.app/jars/scijava-ui-awt-0.1.5.jar  \n",
            "  inflating: Fiji.app/jars/scijava-ui-swing-0.9.1.jar  \n",
            "  inflating: Fiji.app/jars/script-editor-0.1.2.jar  \n",
            "  inflating: Fiji.app/jars/scripting-beanshell-0.3.1.jar  \n",
            "  inflating: Fiji.app/jars/scripting-clojure-0.1.5.jar  \n",
            "  inflating: Fiji.app/jars/scripting-groovy-0.2.5.jar  \n",
            "  inflating: Fiji.app/jars/scripting-java-0.4.0.jar  \n",
            "  inflating: Fiji.app/jars/scripting-javascript-0.4.3.jar  \n",
            "  inflating: Fiji.app/jars/scripting-jruby-0.2.4.jar  \n",
            "  inflating: Fiji.app/jars/scripting-jython-0.4.0.jar  \n",
            "  inflating: Fiji.app/jars/scripting-renjin-0.2.1.jar  \n",
            "  inflating: Fiji.app/jars/scripting-scala-0.2.0.jar  \n",
            "  inflating: Fiji.app/jars/slf4j-api-1.7.21.jar  \n",
            "  inflating: Fiji.app/jars/snakeyaml-1.13.jar  \n",
            "  inflating: Fiji.app/jars/spim_data-2.2.0.jar  \n",
            "  inflating: Fiji.app/jars/stats-0.8.1906.jar  \n",
            "  inflating: Fiji.app/jars/swing-checkbox-tree-1.0.1.jar  \n",
            "  inflating: Fiji.app/jars/swing-worker-1.1.jar  \n",
            "  inflating: Fiji.app/jars/swingx-1.6.1.jar  \n",
            "  inflating: Fiji.app/jars/trove4j-3.0.3.jar  \n",
            "  inflating: Fiji.app/jars/udunits-4.3.18.jar  \n",
            "  inflating: Fiji.app/jars/ui-behaviour-1.1.0.jar  \n",
            "  inflating: Fiji.app/jars/utils-0.8.1906.jar  \n",
            "  inflating: Fiji.app/jars/vecmath-1.6.0-scijava-2.jar  \n",
            "  inflating: Fiji.app/jars/weave_jy2java-2.1.0.jar  \n",
            "  inflating: Fiji.app/jars/weka-dev-3.9.0.jar  \n",
            "  inflating: Fiji.app/jars/xerbla-0.8.jar  \n",
            "  inflating: Fiji.app/jars/xercesImpl-2.8.1.jar  \n",
            "  inflating: Fiji.app/jars/xml-apis-1.3.03.jar  \n",
            "  inflating: Fiji.app/jars/xml-apis-ext-1.3.04.jar  \n",
            "  inflating: Fiji.app/jars/xmlgraphics-commons-2.1.jar  \n",
            "  inflating: Fiji.app/jars/xmpcore-5.1.2.jar  \n",
            "  inflating: Fiji.app/jars/xz-1.0.jar  \n",
            "  inflating: Fiji.app/jars/yecht-1.0.jar  \n",
            "  inflating: Fiji.app/scripts/ImageJ.m  \n",
            "  inflating: Fiji.app/scripts/InstallJava3D.m  \n",
            "  inflating: Fiji.app/scripts/IsJava3DInstalled.m  \n",
            "  inflating: Fiji.app/scripts/Matlab3DViewerDemo_1.m  \n",
            "  inflating: Fiji.app/scripts/Matlab3DViewerDemo_2.m  \n",
            "  inflating: Fiji.app/scripts/Matlab3DViewerDemo_3.m  \n",
            "  inflating: Fiji.app/scripts/Matlab3DViewerIntroduction.m  \n",
            "  inflating: Fiji.app/scripts/Miji.m  \n",
            "  inflating: Fiji.app/scripts/Miji_Test.m  \n",
            "  inflating: Fiji.app/scripts/bfopen.m  \n",
            "  inflating: Fiji.app/scripts/copytoImg.m  \n",
            "  inflating: Fiji.app/scripts/copytoImgPlus.m  \n",
            "  inflating: Fiji.app/scripts/copytoMatlab.m  \n",
            "  inflating: Fiji.app/scripts/importTrackMateTracks.m  \n",
            "  inflating: Fiji.app/scripts/trackmateEdges.m  \n",
            "  inflating: Fiji.app/scripts/trackmateFeatureDeclarations.m  \n",
            "  inflating: Fiji.app/scripts/trackmateGraph.m  \n",
            "  inflating: Fiji.app/scripts/trackmateImageCalibration.m  \n",
            "  inflating: Fiji.app/scripts/trackmateSpots.m  \n",
            "  inflating: Fiji.app/images/about/about1.tif  \n",
            "  inflating: Fiji.app/images/about/about1.tif.txt  \n",
            "  inflating: Fiji.app/images/about/about2.tif  \n",
            "  inflating: Fiji.app/images/about/about2.tif.txt  \n",
            "  inflating: Fiji.app/images/about/about3.tif  \n",
            "  inflating: Fiji.app/images/about/about3.tif.txt  \n",
            "  inflating: Fiji.app/images/about/about4.tif  \n",
            "  inflating: Fiji.app/images/about/about4.tif.txt  \n",
            "  inflating: Fiji.app/images/about/about5.tif  \n",
            "  inflating: Fiji.app/images/about/about5.tif.txt  \n",
            "  inflating: Fiji.app/images/icon-flat.png  \n",
            "  inflating: Fiji.app/images/icon.png  \n",
            "  inflating: Fiji.app/macros/AutoRun/AutoRun_Scripts.ijm  \n",
            "  inflating: Fiji.app/macros/StartupMacros.fiji.ijm  \n",
            "  inflating: Fiji.app/macros/listManagement.txt  \n",
            "  inflating: Fiji.app/macros/toolsets/Clear Custom Tools.txt  \n",
            "  inflating: Fiji.app/macros/toolsets/Drawing Tools.txt  \n",
            "  inflating: Fiji.app/macros/toolsets/Lookup Tables.txt  \n",
            "  inflating: Fiji.app/README.md      \n",
            "  inflating: Fiji.app/WELCOME.md     \n",
            "  inflating: Fiji.app/luts/16_colors.lut  \n",
            "  inflating: Fiji.app/luts/5_ramps.lut  \n",
            "  inflating: Fiji.app/luts/6_shades.lut  \n",
            "  inflating: Fiji.app/luts/Cyan Hot.lut  \n",
            "  inflating: Fiji.app/luts/Green Fire Blue.lut  \n",
            "  inflating: Fiji.app/luts/HiLo.lut  \n",
            "  inflating: Fiji.app/luts/ICA.lut   \n",
            "  inflating: Fiji.app/luts/ICA2.lut  \n",
            "  inflating: Fiji.app/luts/ICA3.lut  \n",
            "  inflating: Fiji.app/luts/Magenta Hot.lut  \n",
            "  inflating: Fiji.app/luts/Orange Hot.lut  \n",
            "  inflating: Fiji.app/luts/Rainbow RGB.lut  \n",
            "  inflating: Fiji.app/luts/Red Hot.lut  \n",
            "  inflating: Fiji.app/luts/Thermal.lut  \n",
            "  inflating: Fiji.app/luts/Yellow Hot.lut  \n",
            "  inflating: Fiji.app/luts/blue_orange_icb.lut  \n",
            "  inflating: Fiji.app/luts/brgbcmyw.lut  \n",
            "  inflating: Fiji.app/luts/cool.lut  \n",
            "  inflating: Fiji.app/luts/edges.lut  \n",
            "  inflating: Fiji.app/luts/gem.lut   \n",
            "  inflating: Fiji.app/luts/glasbey.lut  \n",
            "  inflating: Fiji.app/luts/glasbey_inverted.lut  \n",
            "  inflating: Fiji.app/luts/glow.lut  \n",
            "  inflating: Fiji.app/luts/mpl-inferno.lut  \n",
            "  inflating: Fiji.app/luts/mpl-magma.lut  \n",
            "  inflating: Fiji.app/luts/mpl-plasma.lut  \n",
            "  inflating: Fiji.app/luts/mpl-viridis.lut  \n",
            "  inflating: Fiji.app/luts/phase.lut  \n",
            "  inflating: Fiji.app/luts/physics.lut  \n",
            "  inflating: Fiji.app/luts/royal.lut  \n",
            "  inflating: Fiji.app/luts/sepia.lut  \n",
            "  inflating: Fiji.app/luts/smart.lut  \n",
            "  inflating: Fiji.app/luts/thal.lut  \n",
            "  inflating: Fiji.app/luts/thallium.lut  \n",
            "  inflating: Fiji.app/luts/unionjack.lut  \n",
            "  inflating: Fiji.app/retro/backport-util-concurrent-3.1.jar  \n",
            "  inflating: Fiji.app/retro/retrotranslator-runtime-1.2.9.jar  \n",
            "  inflating: Fiji.app/retro/retrotranslator-transformer-1.2.9.jar  \n",
            "  inflating: Fiji.app/java/linux-amd64/jdk1.8.0_66/jre/bin/pack200  \n",
            "  inflating: Fiji.app/java/linux-amd64/jdk1.8.0_66/jre/bin/keytool  \n",
            "  inflating: Fiji.app/java/linux-amd64/jdk1.8.0_66/jre/bin/jjs  \n",
            "  inflating: Fiji.app/java/linux-amd64/jdk1.8.0_66/jre/bin/tnameserv  \n",
            "  inflating: Fiji.app/java/linux-amd64/jdk1.8.0_66/jre/bin/java  \n",
            "  inflating: Fiji.app/java/linux-amd64/jdk1.8.0_66/jre/bin/ControlPanel  \n",
            "  inflating: Fiji.app/java/linux-amd64/jdk1.8.0_66/jre/bin/orbd  \n",
            "  inflating: Fiji.app/java/linux-amd64/jdk1.8.0_66/jre/bin/rmiregistry  \n",
            "  inflating: Fiji.app/java/linux-amd64/jdk1.8.0_66/jre/bin/unpack200  \n",
            "  inflating: Fiji.app/java/linux-amd64/jdk1.8.0_66/jre/bin/policytool  \n",
            "  inflating: Fiji.app/java/linux-amd64/jdk1.8.0_66/jre/bin/javaws  \n",
            "  inflating: Fiji.app/java/linux-amd64/jdk1.8.0_66/jre/bin/servertool  \n",
            "  inflating: Fiji.app/java/linux-amd64/jdk1.8.0_66/jre/bin/rmid  \n",
            "  inflating: Fiji.app/java/linux-amd64/jdk1.8.0_66/jre/bin/jcontrol  \n",
            "  inflating: Fiji.app/java/linux-amd64/jdk1.8.0_66/jre/THIRDPARTYLICENSEREADME.txt  \n",
            "  inflating: Fiji.app/java/linux-amd64/jdk1.8.0_66/jre/Welcome.html  \n",
            "  inflating: Fiji.app/java/linux-amd64/jdk1.8.0_66/jre/COPYRIGHT  \n",
            "  inflating: Fiji.app/java/linux-amd64/jdk1.8.0_66/jre/plugin/desktop/sun_java.desktop  \n",
            "  inflating: Fiji.app/java/linux-amd64/jdk1.8.0_66/jre/plugin/desktop/sun_java.png  \n",
            "  inflating: Fiji.app/java/linux-amd64/jdk1.8.0_66/jre/THIRDPARTYLICENSEREADME-JAVAFX.txt  \n",
            "  inflating: Fiji.app/java/linux-amd64/jdk1.8.0_66/jre/README  \n",
            "  inflating: Fiji.app/java/linux-amd64/jdk1.8.0_66/jre/LICENSE  \n",
            "  inflating: Fiji.app/java/linux-amd64/jdk1.8.0_66/jre/man/ja/man1/rmid.1  \n",
            "  inflating: Fiji.app/java/linux-amd64/jdk1.8.0_66/jre/man/ja/man1/javaws.1  \n",
            "  inflating: Fiji.app/java/linux-amd64/jdk1.8.0_66/jre/man/ja/man1/tnameserv.1  \n",
            "  inflating: Fiji.app/java/linux-amd64/jdk1.8.0_66/jre/man/ja/man1/rmiregistry.1  \n",
            "  inflating: Fiji.app/java/linux-amd64/jdk1.8.0_66/jre/man/ja/man1/java.1  \n",
            "  inflating: Fiji.app/java/linux-amd64/jdk1.8.0_66/jre/man/ja/man1/orbd.1  \n",
            "  inflating: Fiji.app/java/linux-amd64/jdk1.8.0_66/jre/man/ja/man1/jjs.1  \n",
            "  inflating: Fiji.app/java/linux-amd64/jdk1.8.0_66/jre/man/ja/man1/servertool.1  \n",
            "  inflating: Fiji.app/java/linux-amd64/jdk1.8.0_66/jre/man/ja/man1/keytool.1  \n",
            "  inflating: Fiji.app/java/linux-amd64/jdk1.8.0_66/jre/man/ja/man1/pack200.1  \n",
            "  inflating: Fiji.app/java/linux-amd64/jdk1.8.0_66/jre/man/ja/man1/policytool.1  \n",
            "  inflating: Fiji.app/java/linux-amd64/jdk1.8.0_66/jre/man/ja/man1/unpack200.1  \n",
            "  inflating: Fiji.app/java/linux-amd64/jdk1.8.0_66/jre/man/ja_JP.UTF-8/man1/rmid.1  \n",
            "  inflating: Fiji.app/java/linux-amd64/jdk1.8.0_66/jre/man/ja_JP.UTF-8/man1/javaws.1  \n",
            "  inflating: Fiji.app/java/linux-amd64/jdk1.8.0_66/jre/man/ja_JP.UTF-8/man1/tnameserv.1  \n",
            "  inflating: Fiji.app/java/linux-amd64/jdk1.8.0_66/jre/man/ja_JP.UTF-8/man1/rmiregistry.1  \n",
            "  inflating: Fiji.app/java/linux-amd64/jdk1.8.0_66/jre/man/ja_JP.UTF-8/man1/java.1  \n",
            "  inflating: Fiji.app/java/linux-amd64/jdk1.8.0_66/jre/man/ja_JP.UTF-8/man1/orbd.1  \n",
            "  inflating: Fiji.app/java/linux-amd64/jdk1.8.0_66/jre/man/ja_JP.UTF-8/man1/jjs.1  \n",
            "  inflating: Fiji.app/java/linux-amd64/jdk1.8.0_66/jre/man/ja_JP.UTF-8/man1/servertool.1  \n",
            "  inflating: Fiji.app/java/linux-amd64/jdk1.8.0_66/jre/man/ja_JP.UTF-8/man1/keytool.1  \n",
            "  inflating: Fiji.app/java/linux-amd64/jdk1.8.0_66/jre/man/ja_JP.UTF-8/man1/pack200.1  \n",
            "  inflating: Fiji.app/java/linux-amd64/jdk1.8.0_66/jre/man/ja_JP.UTF-8/man1/policytool.1  \n",
            "  inflating: Fiji.app/java/linux-amd64/jdk1.8.0_66/jre/man/ja_JP.UTF-8/man1/unpack200.1  \n",
            "  inflating: Fiji.app/java/linux-amd64/jdk1.8.0_66/jre/man/man1/rmid.1  \n",
            "  inflating: Fiji.app/java/linux-amd64/jdk1.8.0_66/jre/man/man1/javaws.1  \n",
            "  inflating: Fiji.app/java/linux-amd64/jdk1.8.0_66/jre/man/man1/tnameserv.1  \n",
            "  inflating: Fiji.app/java/linux-amd64/jdk1.8.0_66/jre/man/man1/rmiregistry.1  \n",
            "  inflating: Fiji.app/java/linux-amd64/jdk1.8.0_66/jre/man/man1/java.1  \n",
            "  inflating: Fiji.app/java/linux-amd64/jdk1.8.0_66/jre/man/man1/orbd.1  \n",
            "  inflating: Fiji.app/java/linux-amd64/jdk1.8.0_66/jre/man/man1/jjs.1  \n",
            "  inflating: Fiji.app/java/linux-amd64/jdk1.8.0_66/jre/man/man1/servertool.1  \n",
            "  inflating: Fiji.app/java/linux-amd64/jdk1.8.0_66/jre/man/man1/keytool.1  \n",
            "  inflating: Fiji.app/java/linux-amd64/jdk1.8.0_66/jre/man/man1/pack200.1  \n",
            "  inflating: Fiji.app/java/linux-amd64/jdk1.8.0_66/jre/man/man1/policytool.1  \n",
            "  inflating: Fiji.app/java/linux-amd64/jdk1.8.0_66/jre/man/man1/unpack200.1  \n",
            "  inflating: Fiji.app/java/linux-amd64/jdk1.8.0_66/jre/release  \n",
            "  inflating: Fiji.app/java/linux-amd64/jdk1.8.0_66/jre/lib/logging.properties  \n",
            "  inflating: Fiji.app/java/linux-amd64/jdk1.8.0_66/jre/lib/psfont.properties.ja  \n",
            "  inflating: Fiji.app/java/linux-amd64/jdk1.8.0_66/jre/lib/cmm/sRGB.pf  \n",
            "  inflating: Fiji.app/java/linux-amd64/jdk1.8.0_66/jre/lib/cmm/LINEAR_RGB.pf  \n",
            "  inflating: Fiji.app/java/linux-amd64/jdk1.8.0_66/jre/lib/cmm/PYCC.pf  \n",
            "  inflating: Fiji.app/java/linux-amd64/jdk1.8.0_66/jre/lib/cmm/GRAY.pf  \n",
            "  inflating: Fiji.app/java/linux-amd64/jdk1.8.0_66/jre/lib/cmm/CIEXYZ.pf  \n",
            "  inflating: Fiji.app/java/linux-amd64/jdk1.8.0_66/jre/lib/deploy/mixcode_s.png  \n",
            "  inflating: Fiji.app/java/linux-amd64/jdk1.8.0_66/jre/lib/deploy/messages_ko.properties  \n",
            "  inflating: Fiji.app/java/linux-amd64/jdk1.8.0_66/jre/lib/deploy/messages_de.properties  \n",
            "  inflating: Fiji.app/java/linux-amd64/jdk1.8.0_66/jre/lib/deploy/messages_zh_HK.properties  \n",
            "  inflating: Fiji.app/java/linux-amd64/jdk1.8.0_66/jre/lib/deploy/MixedCodeMainDialog.ui  \n",
            "  inflating: Fiji.app/java/linux-amd64/jdk1.8.0_66/jre/lib/deploy/splash@2x.gif  \n",
            "  inflating: Fiji.app/java/linux-amd64/jdk1.8.0_66/jre/lib/deploy/java-icon.ico  \n",
            "  inflating: Fiji.app/java/linux-amd64/jdk1.8.0_66/jre/lib/deploy/ffjcext.zip  \n",
            "  inflating: Fiji.app/java/linux-amd64/jdk1.8.0_66/jre/lib/deploy/messages_ja.properties  \n",
            "  inflating: Fiji.app/java/linux-amd64/jdk1.8.0_66/jre/lib/deploy/messages_pt_BR.properties  \n",
            "  inflating: Fiji.app/java/linux-amd64/jdk1.8.0_66/jre/lib/deploy/messages_es.properties  \n",
            "  inflating: Fiji.app/java/linux-amd64/jdk1.8.0_66/jre/lib/deploy/messages_zh_TW.properties  \n",
            "  inflating: Fiji.app/java/linux-amd64/jdk1.8.0_66/jre/lib/deploy/cautionshield.icns  \n",
            "  inflating: Fiji.app/java/linux-amd64/jdk1.8.0_66/jre/lib/deploy/messages.properties  \n",
            "  inflating: Fiji.app/java/linux-amd64/jdk1.8.0_66/jre/lib/deploy/MixedCodeMainDialogJs.ui  \n",
            "  inflating: Fiji.app/java/linux-amd64/jdk1.8.0_66/jre/lib/deploy/splash.gif  \n",
            "  inflating: Fiji.app/java/linux-amd64/jdk1.8.0_66/jre/lib/deploy/messages_fr.properties  \n",
            "  inflating: Fiji.app/java/linux-amd64/jdk1.8.0_66/jre/lib/deploy/messages_zh_CN.properties  \n",
            "  inflating: Fiji.app/java/linux-amd64/jdk1.8.0_66/jre/lib/deploy/messages_sv.properties  \n",
            "  inflating: Fiji.app/java/linux-amd64/jdk1.8.0_66/jre/lib/deploy/messages_it.properties  \n",
            "  inflating: Fiji.app/java/linux-amd64/jdk1.8.0_66/jre/lib/net.properties  \n",
            "  inflating: Fiji.app/java/linux-amd64/jdk1.8.0_66/jre/lib/jfr/default.jfc  \n",
            "  inflating: Fiji.app/java/linux-amd64/jdk1.8.0_66/jre/lib/jfr/profile.jfc  \n",
            "  inflating: Fiji.app/java/linux-amd64/jdk1.8.0_66/jre/lib/hijrah-config-umalqura.properties  \n",
            "  inflating: Fiji.app/java/linux-amd64/jdk1.8.0_66/jre/lib/fontconfig.RedHat.5.bfc  \n",
            "  inflating: Fiji.app/java/linux-amd64/jdk1.8.0_66/jre/lib/fontconfig.RedHat.6.bfc  \n",
            "  inflating: Fiji.app/java/linux-amd64/jdk1.8.0_66/jre/lib/meta-index  \n",
            "  inflating: Fiji.app/java/linux-amd64/jdk1.8.0_66/jre/lib/security/trusted.libraries  \n",
            "  inflating: Fiji.app/java/linux-amd64/jdk1.8.0_66/jre/lib/security/local_policy.jar  \n",
            "  inflating: Fiji.app/java/linux-amd64/jdk1.8.0_66/jre/lib/security/cacerts  \n",
            "  inflating: Fiji.app/java/linux-amd64/jdk1.8.0_66/jre/lib/security/java.policy  \n",
            "  inflating: Fiji.app/java/linux-amd64/jdk1.8.0_66/jre/lib/security/blacklist  \n",
            "  inflating: Fiji.app/java/linux-amd64/jdk1.8.0_66/jre/lib/security/blacklisted.certs  \n",
            "  inflating: Fiji.app/java/linux-amd64/jdk1.8.0_66/jre/lib/security/US_export_policy.jar  \n",
            "  inflating: Fiji.app/java/linux-amd64/jdk1.8.0_66/jre/lib/security/javaws.policy  \n",
            "  inflating: Fiji.app/java/linux-amd64/jdk1.8.0_66/jre/lib/security/java.security  \n",
            "  inflating: Fiji.app/java/linux-amd64/jdk1.8.0_66/jre/lib/fontconfig.SuSE.10.properties.src  \n",
            "  inflating: Fiji.app/java/linux-amd64/jdk1.8.0_66/jre/lib/jexec  \n",
            "  inflating: Fiji.app/java/linux-amd64/jdk1.8.0_66/jre/lib/fontconfig.RedHat.5.properties.src  \n",
            "  inflating: Fiji.app/java/linux-amd64/jdk1.8.0_66/jre/lib/resources.jar  \n",
            "  inflating: Fiji.app/java/linux-amd64/jdk1.8.0_66/jre/lib/jvm.hprof.txt  \n",
            "  inflating: Fiji.app/java/linux-amd64/jdk1.8.0_66/jre/lib/charsets.jar  \n",
            "  inflating: Fiji.app/java/linux-amd64/jdk1.8.0_66/jre/lib/images/cursors/motif_LinkNoDrop32x32.gif  \n",
            "  inflating: Fiji.app/java/linux-amd64/jdk1.8.0_66/jre/lib/images/cursors/cursors.properties  \n",
            "  inflating: Fiji.app/java/linux-amd64/jdk1.8.0_66/jre/lib/images/cursors/motif_CopyNoDrop32x32.gif  \n",
            "  inflating: Fiji.app/java/linux-amd64/jdk1.8.0_66/jre/lib/images/cursors/motif_MoveDrop32x32.gif  \n",
            "  inflating: Fiji.app/java/linux-amd64/jdk1.8.0_66/jre/lib/images/cursors/invalid32x32.gif  \n",
            "  inflating: Fiji.app/java/linux-amd64/jdk1.8.0_66/jre/lib/images/cursors/motif_MoveNoDrop32x32.gif  \n",
            "  inflating: Fiji.app/java/linux-amd64/jdk1.8.0_66/jre/lib/images/cursors/motif_LinkDrop32x32.gif  \n",
            "  inflating: Fiji.app/java/linux-amd64/jdk1.8.0_66/jre/lib/images/cursors/motif_CopyDrop32x32.gif  \n",
            "  inflating: Fiji.app/java/linux-amd64/jdk1.8.0_66/jre/lib/images/icons/sun-java_HighContrast.png  \n",
            "  inflating: Fiji.app/java/linux-amd64/jdk1.8.0_66/jre/lib/images/icons/sun-java.png  \n",
            "  inflating: Fiji.app/java/linux-amd64/jdk1.8.0_66/jre/lib/images/icons/sun-java_LowContrast.png  \n",
            "  inflating: Fiji.app/java/linux-amd64/jdk1.8.0_66/jre/lib/images/icons/sun-java_HighContrastInverse.png  \n",
            "  inflating: Fiji.app/java/linux-amd64/jdk1.8.0_66/jre/lib/fontconfig.SuSE.10.bfc  \n",
            "  inflating: Fiji.app/java/linux-amd64/jdk1.8.0_66/jre/lib/ext/localedata.jar  \n",
            "  inflating: Fiji.app/java/linux-amd64/jdk1.8.0_66/jre/lib/ext/jfxrt.jar  \n",
            "  inflating: Fiji.app/java/linux-amd64/jdk1.8.0_66/jre/lib/ext/sunpkcs11.jar  \n",
            "  inflating: Fiji.app/java/linux-amd64/jdk1.8.0_66/jre/lib/ext/sunec.jar  \n",
            "  inflating: Fiji.app/java/linux-amd64/jdk1.8.0_66/jre/lib/ext/meta-index  \n",
            "  inflating: Fiji.app/java/linux-amd64/jdk1.8.0_66/jre/lib/ext/nashorn.jar  \n",
            "  inflating: Fiji.app/java/linux-amd64/jdk1.8.0_66/jre/lib/ext/dnsns.jar  \n",
            "  inflating: Fiji.app/java/linux-amd64/jdk1.8.0_66/jre/lib/ext/sunjce_provider.jar  \n",
            "  inflating: Fiji.app/java/linux-amd64/jdk1.8.0_66/jre/lib/ext/jaccess.jar  \n",
            "  inflating: Fiji.app/java/linux-amd64/jdk1.8.0_66/jre/lib/ext/cldrdata.jar  \n",
            "  inflating: Fiji.app/java/linux-amd64/jdk1.8.0_66/jre/lib/ext/zipfs.jar  \n",
            "  inflating: Fiji.app/java/linux-amd64/jdk1.8.0_66/jre/lib/fontconfig.bfc  \n",
            "  inflating: Fiji.app/java/linux-amd64/jdk1.8.0_66/jre/lib/javafx.properties  \n",
            "  inflating: Fiji.app/java/linux-amd64/jdk1.8.0_66/jre/lib/fontconfig.RedHat.6.properties.src  \n",
            "  inflating: Fiji.app/java/linux-amd64/jdk1.8.0_66/jre/lib/oblique-fonts/LucidaTypewriterBoldOblique.ttf  \n",
            "  inflating: Fiji.app/java/linux-amd64/jdk1.8.0_66/jre/lib/oblique-fonts/LucidaSansDemiOblique.ttf  \n",
            "  inflating: Fiji.app/java/linux-amd64/jdk1.8.0_66/jre/lib/oblique-fonts/LucidaSansOblique.ttf  \n",
            "  inflating: Fiji.app/java/linux-amd64/jdk1.8.0_66/jre/lib/oblique-fonts/fonts.dir  \n",
            "  inflating: Fiji.app/java/linux-amd64/jdk1.8.0_66/jre/lib/oblique-fonts/LucidaTypewriterOblique.ttf  \n",
            "  inflating: Fiji.app/java/linux-amd64/jdk1.8.0_66/jre/lib/deploy.jar  \n",
            "  inflating: Fiji.app/java/linux-amd64/jdk1.8.0_66/jre/lib/tzdb.dat  \n",
            "  inflating: Fiji.app/java/linux-amd64/jdk1.8.0_66/jre/lib/fontconfig.SuSE.11.bfc  \n",
            "  inflating: Fiji.app/java/linux-amd64/jdk1.8.0_66/jre/lib/management/jmxremote.access  \n",
            "  inflating: Fiji.app/java/linux-amd64/jdk1.8.0_66/jre/lib/management/management.properties  \n",
            "  inflating: Fiji.app/java/linux-amd64/jdk1.8.0_66/jre/lib/management/snmp.acl.template  \n",
            "  inflating: Fiji.app/java/linux-amd64/jdk1.8.0_66/jre/lib/management/jmxremote.password.template  \n",
            "  inflating: Fiji.app/java/linux-amd64/jdk1.8.0_66/jre/lib/jsse.jar  \n",
            "  inflating: Fiji.app/java/linux-amd64/jdk1.8.0_66/jre/lib/classlist  \n",
            "  inflating: Fiji.app/java/linux-amd64/jdk1.8.0_66/jre/lib/fontconfig.SuSE.11.properties.src  \n",
            "  inflating: Fiji.app/java/linux-amd64/jdk1.8.0_66/jre/lib/fonts/LucidaBrightRegular.ttf  \n",
            "  inflating: Fiji.app/java/linux-amd64/jdk1.8.0_66/jre/lib/fonts/LucidaBrightDemiBold.ttf  \n",
            "  inflating: Fiji.app/java/linux-amd64/jdk1.8.0_66/jre/lib/fonts/LucidaBrightDemiItalic.ttf  \n",
            "  inflating: Fiji.app/java/linux-amd64/jdk1.8.0_66/jre/lib/fonts/LucidaTypewriterRegular.ttf  \n",
            "  inflating: Fiji.app/java/linux-amd64/jdk1.8.0_66/jre/lib/fonts/LucidaSansRegular.ttf  \n",
            "  inflating: Fiji.app/java/linux-amd64/jdk1.8.0_66/jre/lib/fonts/LucidaSansDemiBold.ttf  \n",
            "  inflating: Fiji.app/java/linux-amd64/jdk1.8.0_66/jre/lib/fonts/LucidaTypewriterBold.ttf  \n",
            "  inflating: Fiji.app/java/linux-amd64/jdk1.8.0_66/jre/lib/fonts/fonts.dir  \n",
            "  inflating: Fiji.app/java/linux-amd64/jdk1.8.0_66/jre/lib/fonts/LucidaBrightItalic.ttf  \n",
            "  inflating: Fiji.app/java/linux-amd64/jdk1.8.0_66/jre/lib/sound.properties  \n",
            "  inflating: Fiji.app/java/linux-amd64/jdk1.8.0_66/jre/lib/fontconfig.Turbo.bfc  \n",
            "  inflating: Fiji.app/java/linux-amd64/jdk1.8.0_66/jre/lib/plugin.jar  \n",
            "  inflating: Fiji.app/java/linux-amd64/jdk1.8.0_66/jre/lib/desktop/mime/packages/x-java-jnlp-file.xml  \n",
            "  inflating: Fiji.app/java/linux-amd64/jdk1.8.0_66/jre/lib/desktop/mime/packages/x-java-archive.xml  \n",
            "  inflating: Fiji.app/java/linux-amd64/jdk1.8.0_66/jre/lib/desktop/applications/sun-java.desktop  \n",
            "  inflating: Fiji.app/java/linux-amd64/jdk1.8.0_66/jre/lib/desktop/applications/sun_java.desktop  \n",
            "  inflating: Fiji.app/java/linux-amd64/jdk1.8.0_66/jre/lib/desktop/applications/sun-javaws.desktop  \n",
            "  inflating: Fiji.app/java/linux-amd64/jdk1.8.0_66/jre/lib/desktop/icons/hicolor/16x16/mimetypes/gnome-mime-application-x-java-jnlp-file.png  \n",
            "  inflating: Fiji.app/java/linux-amd64/jdk1.8.0_66/jre/lib/desktop/icons/hicolor/16x16/mimetypes/gnome-mime-text-x-java.png  \n",
            "  inflating: Fiji.app/java/linux-amd64/jdk1.8.0_66/jre/lib/desktop/icons/hicolor/16x16/mimetypes/gnome-mime-application-x-java-archive.png  \n",
            "  inflating: Fiji.app/java/linux-amd64/jdk1.8.0_66/jre/lib/desktop/icons/hicolor/16x16/apps/sun-java.png  \n",
            "  inflating: Fiji.app/java/linux-amd64/jdk1.8.0_66/jre/lib/desktop/icons/hicolor/16x16/apps/sun-javaws.png  \n",
            "  inflating: Fiji.app/java/linux-amd64/jdk1.8.0_66/jre/lib/desktop/icons/hicolor/16x16/apps/sun-jcontrol.png  \n",
            "  inflating: Fiji.app/java/linux-amd64/jdk1.8.0_66/jre/lib/desktop/icons/hicolor/48x48/mimetypes/gnome-mime-application-x-java-jnlp-file.png  \n",
            "  inflating: Fiji.app/java/linux-amd64/jdk1.8.0_66/jre/lib/desktop/icons/hicolor/48x48/mimetypes/gnome-mime-text-x-java.png  \n",
            "  inflating: Fiji.app/java/linux-amd64/jdk1.8.0_66/jre/lib/desktop/icons/hicolor/48x48/mimetypes/gnome-mime-application-x-java-archive.png  \n",
            "  inflating: Fiji.app/java/linux-amd64/jdk1.8.0_66/jre/lib/desktop/icons/hicolor/48x48/apps/sun-java.png  \n",
            "  inflating: Fiji.app/java/linux-amd64/jdk1.8.0_66/jre/lib/desktop/icons/hicolor/48x48/apps/sun-javaws.png  \n",
            "  inflating: Fiji.app/java/linux-amd64/jdk1.8.0_66/jre/lib/desktop/icons/hicolor/48x48/apps/sun-jcontrol.png  \n",
            "  inflating: Fiji.app/java/linux-amd64/jdk1.8.0_66/jre/lib/desktop/icons/LowContrast/16x16/mimetypes/gnome-mime-application-x-java-jnlp-file.png  \n",
            "  inflating: Fiji.app/java/linux-amd64/jdk1.8.0_66/jre/lib/desktop/icons/LowContrast/16x16/mimetypes/gnome-mime-text-x-java.png  \n",
            "  inflating: Fiji.app/java/linux-amd64/jdk1.8.0_66/jre/lib/desktop/icons/LowContrast/16x16/mimetypes/gnome-mime-application-x-java-archive.png  \n",
            "  inflating: Fiji.app/java/linux-amd64/jdk1.8.0_66/jre/lib/desktop/icons/LowContrast/16x16/apps/sun-java.png  \n",
            "  inflating: Fiji.app/java/linux-amd64/jdk1.8.0_66/jre/lib/desktop/icons/LowContrast/16x16/apps/sun-javaws.png  \n",
            "  inflating: Fiji.app/java/linux-amd64/jdk1.8.0_66/jre/lib/desktop/icons/LowContrast/16x16/apps/sun-jcontrol.png  \n",
            "  inflating: Fiji.app/java/linux-amd64/jdk1.8.0_66/jre/lib/desktop/icons/LowContrast/48x48/mimetypes/gnome-mime-application-x-java-jnlp-file.png  \n",
            "  inflating: Fiji.app/java/linux-amd64/jdk1.8.0_66/jre/lib/desktop/icons/LowContrast/48x48/mimetypes/gnome-mime-text-x-java.png  \n",
            "  inflating: Fiji.app/java/linux-amd64/jdk1.8.0_66/jre/lib/desktop/icons/LowContrast/48x48/mimetypes/gnome-mime-application-x-java-archive.png  \n",
            "  inflating: Fiji.app/java/linux-amd64/jdk1.8.0_66/jre/lib/desktop/icons/LowContrast/48x48/apps/sun-java.png  \n",
            "  inflating: Fiji.app/java/linux-amd64/jdk1.8.0_66/jre/lib/desktop/icons/LowContrast/48x48/apps/sun-javaws.png  \n",
            "  inflating: Fiji.app/java/linux-amd64/jdk1.8.0_66/jre/lib/desktop/icons/LowContrast/48x48/apps/sun-jcontrol.png  \n",
            "  inflating: Fiji.app/java/linux-amd64/jdk1.8.0_66/jre/lib/desktop/icons/HighContrastInverse/16x16/mimetypes/gnome-mime-application-x-java-jnlp-file.png  \n",
            "  inflating: Fiji.app/java/linux-amd64/jdk1.8.0_66/jre/lib/desktop/icons/HighContrastInverse/16x16/mimetypes/gnome-mime-text-x-java.png  \n",
            "  inflating: Fiji.app/java/linux-amd64/jdk1.8.0_66/jre/lib/desktop/icons/HighContrastInverse/16x16/mimetypes/gnome-mime-application-x-java-archive.png  \n",
            "  inflating: Fiji.app/java/linux-amd64/jdk1.8.0_66/jre/lib/desktop/icons/HighContrastInverse/16x16/apps/sun-java.png  \n",
            "  inflating: Fiji.app/java/linux-amd64/jdk1.8.0_66/jre/lib/desktop/icons/HighContrastInverse/16x16/apps/sun-javaws.png  \n",
            "  inflating: Fiji.app/java/linux-amd64/jdk1.8.0_66/jre/lib/desktop/icons/HighContrastInverse/16x16/apps/sun-jcontrol.png  \n",
            "  inflating: Fiji.app/java/linux-amd64/jdk1.8.0_66/jre/lib/desktop/icons/HighContrastInverse/48x48/mimetypes/gnome-mime-application-x-java-jnlp-file.png  \n",
            "  inflating: Fiji.app/java/linux-amd64/jdk1.8.0_66/jre/lib/desktop/icons/HighContrastInverse/48x48/mimetypes/gnome-mime-text-x-java.png  \n",
            "  inflating: Fiji.app/java/linux-amd64/jdk1.8.0_66/jre/lib/desktop/icons/HighContrastInverse/48x48/mimetypes/gnome-mime-application-x-java-archive.png  \n",
            "  inflating: Fiji.app/java/linux-amd64/jdk1.8.0_66/jre/lib/desktop/icons/HighContrastInverse/48x48/apps/sun-java.png  \n",
            "  inflating: Fiji.app/java/linux-amd64/jdk1.8.0_66/jre/lib/desktop/icons/HighContrastInverse/48x48/apps/sun-javaws.png  \n",
            "  inflating: Fiji.app/java/linux-amd64/jdk1.8.0_66/jre/lib/desktop/icons/HighContrastInverse/48x48/apps/sun-jcontrol.png  \n",
            "  inflating: Fiji.app/java/linux-amd64/jdk1.8.0_66/jre/lib/desktop/icons/HighContrast/16x16/mimetypes/gnome-mime-application-x-java-jnlp-file.png  \n",
            "  inflating: Fiji.app/java/linux-amd64/jdk1.8.0_66/jre/lib/desktop/icons/HighContrast/16x16/mimetypes/gnome-mime-text-x-java.png  \n",
            "  inflating: Fiji.app/java/linux-amd64/jdk1.8.0_66/jre/lib/desktop/icons/HighContrast/16x16/mimetypes/gnome-mime-application-x-java-archive.png  \n",
            "  inflating: Fiji.app/java/linux-amd64/jdk1.8.0_66/jre/lib/desktop/icons/HighContrast/16x16/apps/sun-java.png  \n",
            "  inflating: Fiji.app/java/linux-amd64/jdk1.8.0_66/jre/lib/desktop/icons/HighContrast/16x16/apps/sun-javaws.png  \n",
            "  inflating: Fiji.app/java/linux-amd64/jdk1.8.0_66/jre/lib/desktop/icons/HighContrast/16x16/apps/sun-jcontrol.png  \n",
            "  inflating: Fiji.app/java/linux-amd64/jdk1.8.0_66/jre/lib/desktop/icons/HighContrast/48x48/mimetypes/gnome-mime-application-x-java-jnlp-file.png  \n",
            "  inflating: Fiji.app/java/linux-amd64/jdk1.8.0_66/jre/lib/desktop/icons/HighContrast/48x48/mimetypes/gnome-mime-text-x-java.png  \n",
            "  inflating: Fiji.app/java/linux-amd64/jdk1.8.0_66/jre/lib/desktop/icons/HighContrast/48x48/mimetypes/gnome-mime-application-x-java-archive.png  \n",
            "  inflating: Fiji.app/java/linux-amd64/jdk1.8.0_66/jre/lib/desktop/icons/HighContrast/48x48/apps/sun-java.png  \n",
            "  inflating: Fiji.app/java/linux-amd64/jdk1.8.0_66/jre/lib/desktop/icons/HighContrast/48x48/apps/sun-javaws.png  \n",
            "  inflating: Fiji.app/java/linux-amd64/jdk1.8.0_66/jre/lib/desktop/icons/HighContrast/48x48/apps/sun-jcontrol.png  \n",
            "  inflating: Fiji.app/java/linux-amd64/jdk1.8.0_66/jre/lib/amd64/liblcms.so  \n",
            "  inflating: Fiji.app/java/linux-amd64/jdk1.8.0_66/jre/lib/amd64/libjsoundalsa.so  \n",
            "  inflating: Fiji.app/java/linux-amd64/jdk1.8.0_66/jre/lib/amd64/libmlib_image.so  \n",
            "  inflating: Fiji.app/java/linux-amd64/jdk1.8.0_66/jre/lib/amd64/libawt_headless.so  \n",
            "  inflating: Fiji.app/java/linux-amd64/jdk1.8.0_66/jre/lib/amd64/libjava.so  \n",
            "  inflating: Fiji.app/java/linux-amd64/jdk1.8.0_66/jre/lib/amd64/libprism_es2.so  \n",
            "  inflating: Fiji.app/java/linux-amd64/jdk1.8.0_66/jre/lib/amd64/libzip.so  \n",
            "  inflating: Fiji.app/java/linux-amd64/jdk1.8.0_66/jre/lib/amd64/libnpt.so  \n",
            "  inflating: Fiji.app/java/linux-amd64/jdk1.8.0_66/jre/lib/amd64/libavplugin-54.so  \n",
            "  inflating: Fiji.app/java/linux-amd64/jdk1.8.0_66/jre/lib/amd64/libfxplugins.so  \n",
            "  inflating: Fiji.app/java/linux-amd64/jdk1.8.0_66/jre/lib/amd64/libdcpr.so  \n",
            "  inflating: Fiji.app/java/linux-amd64/jdk1.8.0_66/jre/lib/amd64/libbci.so  \n",
            "  inflating: Fiji.app/java/linux-amd64/jdk1.8.0_66/jre/lib/amd64/libjfxmedia.so  \n",
            "  inflating: Fiji.app/java/linux-amd64/jdk1.8.0_66/jre/lib/amd64/libprism_common.so  \n",
            "  inflating: Fiji.app/java/linux-amd64/jdk1.8.0_66/jre/lib/amd64/libjsdt.so  \n",
            "  inflating: Fiji.app/java/linux-amd64/jdk1.8.0_66/jre/lib/amd64/libjavafx_font.so  \n",
            "  inflating: Fiji.app/java/linux-amd64/jdk1.8.0_66/jre/lib/amd64/libjavafx_font_pango.so  \n",
            "  inflating: Fiji.app/java/linux-amd64/jdk1.8.0_66/jre/lib/amd64/libsunec.so  \n",
            "  inflating: Fiji.app/java/linux-amd64/jdk1.8.0_66/jre/lib/amd64/jvm.cfg  \n",
            "  inflating: Fiji.app/java/linux-amd64/jdk1.8.0_66/jre/lib/amd64/libresource.so  \n",
            "  inflating: Fiji.app/java/linux-amd64/jdk1.8.0_66/jre/lib/amd64/libdeploy.so  \n",
            "  inflating: Fiji.app/java/linux-amd64/jdk1.8.0_66/jre/lib/amd64/libhprof.so  \n",
            "  inflating: Fiji.app/java/linux-amd64/jdk1.8.0_66/jre/lib/amd64/libavplugin-53.so  \n",
            "  inflating: Fiji.app/java/linux-amd64/jdk1.8.0_66/jre/lib/amd64/libt2k.so  \n",
            "  inflating: Fiji.app/java/linux-amd64/jdk1.8.0_66/jre/lib/amd64/libjavafx_font_t2k.so  \n",
            "  inflating: Fiji.app/java/linux-amd64/jdk1.8.0_66/jre/lib/amd64/libkcms.so  \n",
            "  inflating: Fiji.app/java/linux-amd64/jdk1.8.0_66/jre/lib/amd64/libverify.so  \n",
            "  inflating: Fiji.app/java/linux-amd64/jdk1.8.0_66/jre/lib/amd64/libgstreamer-lite.so  \n",
            "  inflating: Fiji.app/java/linux-amd64/jdk1.8.0_66/jre/lib/amd64/libj2pkcs11.so  \n",
            "  inflating: Fiji.app/java/linux-amd64/jdk1.8.0_66/jre/lib/amd64/libglass.so  \n",
            "  inflating: Fiji.app/java/linux-amd64/jdk1.8.0_66/jre/lib/amd64/libprism_sw.so  \n",
            "  inflating: Fiji.app/java/linux-amd64/jdk1.8.0_66/jre/lib/amd64/libdt_socket.so  \n",
            "  inflating: Fiji.app/java/linux-amd64/jdk1.8.0_66/jre/lib/amd64/server/Xusage.txt  \n",
            "  inflating: Fiji.app/java/linux-amd64/jdk1.8.0_66/jre/lib/amd64/server/libjvm.so  \n",
            "  inflating: Fiji.app/java/linux-amd64/jdk1.8.0_66/jre/lib/amd64/server/libjsig.so  \n",
            "  inflating: Fiji.app/java/linux-amd64/jdk1.8.0_66/jre/lib/amd64/libunpack.so  \n",
            "  inflating: Fiji.app/java/linux-amd64/jdk1.8.0_66/jre/lib/amd64/libjavafx_font_freetype.so  \n",
            "  inflating: Fiji.app/java/linux-amd64/jdk1.8.0_66/jre/lib/amd64/libjawt.so  \n",
            "  inflating: Fiji.app/java/linux-amd64/jdk1.8.0_66/jre/lib/amd64/libjava_crw_demo.so  \n",
            "  inflating: Fiji.app/java/linux-amd64/jdk1.8.0_66/jre/lib/amd64/libjsound.so  \n",
            "  inflating: Fiji.app/java/linux-amd64/jdk1.8.0_66/jre/lib/amd64/libsctp.so  \n",
            "  inflating: Fiji.app/java/linux-amd64/jdk1.8.0_66/jre/lib/amd64/libjsig.so  \n",
            "  inflating: Fiji.app/java/linux-amd64/jdk1.8.0_66/jre/lib/amd64/libawt.so  \n",
            "  inflating: Fiji.app/java/linux-amd64/jdk1.8.0_66/jre/lib/amd64/libdecora_sse.so  \n",
            "  inflating: Fiji.app/java/linux-amd64/jdk1.8.0_66/jre/lib/amd64/libjdwp.so  \n",
            "  inflating: Fiji.app/java/linux-amd64/jdk1.8.0_66/jre/lib/amd64/libfontmanager.so  \n",
            "  inflating: Fiji.app/java/linux-amd64/jdk1.8.0_66/jre/lib/amd64/libnpjp2.so  \n",
            "  inflating: Fiji.app/java/linux-amd64/jdk1.8.0_66/jre/lib/amd64/libjpeg.so  \n",
            "  inflating: Fiji.app/java/linux-amd64/jdk1.8.0_66/jre/lib/amd64/libnio.so  \n",
            "  inflating: Fiji.app/java/linux-amd64/jdk1.8.0_66/jre/lib/amd64/libmanagement.so  \n",
            "  inflating: Fiji.app/java/linux-amd64/jdk1.8.0_66/jre/lib/amd64/libnet.so  \n",
            "  inflating: Fiji.app/java/linux-amd64/jdk1.8.0_66/jre/lib/amd64/libjaas_unix.so  \n",
            "  inflating: Fiji.app/java/linux-amd64/jdk1.8.0_66/jre/lib/amd64/libjfxwebkit.so  \n",
            "  inflating: Fiji.app/java/linux-amd64/jdk1.8.0_66/jre/lib/amd64/libj2pcsc.so  \n",
            "  inflating: Fiji.app/java/linux-amd64/jdk1.8.0_66/jre/lib/amd64/libinstrument.so  \n",
            "  inflating: Fiji.app/java/linux-amd64/jdk1.8.0_66/jre/lib/amd64/libsplashscreen.so  \n",
            "  inflating: Fiji.app/java/linux-amd64/jdk1.8.0_66/jre/lib/amd64/jli/libjli.so  \n",
            "  inflating: Fiji.app/java/linux-amd64/jdk1.8.0_66/jre/lib/amd64/libjavafx_iio.so  \n",
            "  inflating: Fiji.app/java/linux-amd64/jdk1.8.0_66/jre/lib/amd64/libj2gss.so  \n",
            "  inflating: Fiji.app/java/linux-amd64/jdk1.8.0_66/jre/lib/amd64/libjfr.so  \n",
            "  inflating: Fiji.app/java/linux-amd64/jdk1.8.0_66/jre/lib/amd64/libawt_xawt.so  \n",
            "  inflating: Fiji.app/java/linux-amd64/jdk1.8.0_66/jre/lib/flavormap.properties  \n",
            "  inflating: Fiji.app/java/linux-amd64/jdk1.8.0_66/jre/lib/calendars.properties  \n",
            "  inflating: Fiji.app/java/linux-amd64/jdk1.8.0_66/jre/lib/fontconfig.Turbo.properties.src  \n",
            "  inflating: Fiji.app/java/linux-amd64/jdk1.8.0_66/jre/lib/management-agent.jar  \n",
            "  inflating: Fiji.app/java/linux-amd64/jdk1.8.0_66/jre/lib/locale/ja/LC_MESSAGES/sunw_java_plugin.mo  \n",
            "  inflating: Fiji.app/java/linux-amd64/jdk1.8.0_66/jre/lib/locale/ko.UTF-8/LC_MESSAGES/sunw_java_plugin.mo  \n",
            "  inflating: Fiji.app/java/linux-amd64/jdk1.8.0_66/jre/lib/locale/de/LC_MESSAGES/sunw_java_plugin.mo  \n",
            "  inflating: Fiji.app/java/linux-amd64/jdk1.8.0_66/jre/lib/locale/sv/LC_MESSAGES/sunw_java_plugin.mo  \n",
            "  inflating: Fiji.app/java/linux-amd64/jdk1.8.0_66/jre/lib/locale/zh_TW.BIG5/LC_MESSAGES/sunw_java_plugin.mo  \n",
            "  inflating: Fiji.app/java/linux-amd64/jdk1.8.0_66/jre/lib/locale/zh.GBK/LC_MESSAGES/sunw_java_plugin.mo  \n",
            "  inflating: Fiji.app/java/linux-amd64/jdk1.8.0_66/jre/lib/locale/fr/LC_MESSAGES/sunw_java_plugin.mo  \n",
            "  inflating: Fiji.app/java/linux-amd64/jdk1.8.0_66/jre/lib/locale/it/LC_MESSAGES/sunw_java_plugin.mo  \n",
            "  inflating: Fiji.app/java/linux-amd64/jdk1.8.0_66/jre/lib/locale/zh_HK.BIG5HK/LC_MESSAGES/sunw_java_plugin.mo  \n",
            "  inflating: Fiji.app/java/linux-amd64/jdk1.8.0_66/jre/lib/locale/es/LC_MESSAGES/sunw_java_plugin.mo  \n",
            "  inflating: Fiji.app/java/linux-amd64/jdk1.8.0_66/jre/lib/locale/zh/LC_MESSAGES/sunw_java_plugin.mo  \n",
            "  inflating: Fiji.app/java/linux-amd64/jdk1.8.0_66/jre/lib/locale/ko/LC_MESSAGES/sunw_java_plugin.mo  \n",
            "  inflating: Fiji.app/java/linux-amd64/jdk1.8.0_66/jre/lib/locale/zh_TW/LC_MESSAGES/sunw_java_plugin.mo  \n",
            "  inflating: Fiji.app/java/linux-amd64/jdk1.8.0_66/jre/lib/locale/pt_BR/LC_MESSAGES/sunw_java_plugin.mo  \n",
            "  inflating: Fiji.app/java/linux-amd64/jdk1.8.0_66/jre/lib/currency.data  \n",
            "  inflating: Fiji.app/java/linux-amd64/jdk1.8.0_66/jre/lib/fontconfig.properties.src  \n",
            "  inflating: Fiji.app/java/linux-amd64/jdk1.8.0_66/jre/lib/jce.jar  \n",
            "  inflating: Fiji.app/java/linux-amd64/jdk1.8.0_66/jre/lib/rt.jar  \n",
            "  inflating: Fiji.app/java/linux-amd64/jdk1.8.0_66/jre/lib/psfontj2d.properties  \n",
            "  inflating: Fiji.app/java/linux-amd64/jdk1.8.0_66/jre/lib/content-types.properties  \n",
            "  inflating: Fiji.app/java/linux-amd64/jdk1.8.0_66/jre/lib/jfr.jar  \n",
            "  inflating: Fiji.app/java/linux-amd64/jdk1.8.0_66/jre/lib/javaws.jar  \n",
            "  inflating: Fiji.app/java/linux-amd64/jdk1.8.0_66/jre/lib/jfxswt.jar  \n"
          ],
          "name": "stdout"
        }
      ]
    },
    {
      "cell_type": "code",
      "metadata": {
        "id": "09nvPEuAJdCY"
      },
      "source": [
        "#!pip install SimpleITK"
      ],
      "execution_count": null,
      "outputs": []
    },
    {
      "cell_type": "code",
      "metadata": {
        "id": "e9DKfO74lHGd"
      },
      "source": [
        "#!git clone https://github.com/InsightSoftwareConsortium/SimpleITK-Notebooks.git"
      ],
      "execution_count": null,
      "outputs": []
    },
    {
      "cell_type": "code",
      "metadata": {
        "colab": {
          "base_uri": "https://localhost:8080/"
        },
        "id": "6DWNQbwwJdCY",
        "outputId": "9ff432d1-455e-46e7-fb47-3105d7111d54"
      },
      "source": [
        "pip install ipywidgets"
      ],
      "execution_count": null,
      "outputs": [
        {
          "output_type": "stream",
          "text": [
            "Requirement already satisfied: ipywidgets in ./lib/python3.7/dist-packages (7.6.3)\n",
            "Requirement already satisfied: jupyterlab-widgets>=1.0.0; python_version >= \"3.6\" in ./lib/python3.7/dist-packages (from ipywidgets) (1.0.0)\n",
            "Requirement already satisfied: nbformat>=4.2.0 in ./lib/python3.7/dist-packages (from ipywidgets) (5.1.2)\n",
            "Requirement already satisfied: ipython>=4.0.0; python_version >= \"3.3\" in ./lib/python3.7/dist-packages (from ipywidgets) (5.5.0)\n",
            "Requirement already satisfied: ipykernel>=4.5.1 in ./lib/python3.7/dist-packages (from ipywidgets) (4.10.1)\n",
            "Requirement already satisfied: widgetsnbextension~=3.5.0 in ./lib/python3.7/dist-packages (from ipywidgets) (3.5.1)\n",
            "Requirement already satisfied: traitlets>=4.3.1 in ./lib/python3.7/dist-packages (from ipywidgets) (5.0.5)\n",
            "Requirement already satisfied: jsonschema!=2.5.0,>=2.4 in ./lib/python3.7/dist-packages (from nbformat>=4.2.0->ipywidgets) (2.6.0)\n",
            "Requirement already satisfied: ipython-genutils in ./lib/python3.7/dist-packages (from nbformat>=4.2.0->ipywidgets) (0.2.0)\n",
            "Requirement already satisfied: jupyter-core in ./lib/python3.7/dist-packages (from nbformat>=4.2.0->ipywidgets) (4.7.1)\n",
            "Requirement already satisfied: decorator in ./lib/python3.7/dist-packages (from ipython>=4.0.0; python_version >= \"3.3\"->ipywidgets) (4.4.2)\n",
            "Requirement already satisfied: pickleshare in ./lib/python3.7/dist-packages (from ipython>=4.0.0; python_version >= \"3.3\"->ipywidgets) (0.7.5)\n",
            "Requirement already satisfied: pexpect; sys_platform != \"win32\" in ./lib/python3.7/dist-packages (from ipython>=4.0.0; python_version >= \"3.3\"->ipywidgets) (4.8.0)\n",
            "Requirement already satisfied: prompt-toolkit<2.0.0,>=1.0.4 in ./lib/python3.7/dist-packages (from ipython>=4.0.0; python_version >= \"3.3\"->ipywidgets) (1.0.18)\n",
            "Requirement already satisfied: pygments in ./lib/python3.7/dist-packages (from ipython>=4.0.0; python_version >= \"3.3\"->ipywidgets) (2.6.1)\n",
            "Requirement already satisfied: simplegeneric>0.8 in ./lib/python3.7/dist-packages (from ipython>=4.0.0; python_version >= \"3.3\"->ipywidgets) (0.8.1)\n",
            "Requirement already satisfied: setuptools>=18.5 in ./lib/python3.7/dist-packages (from ipython>=4.0.0; python_version >= \"3.3\"->ipywidgets) (53.0.0)\n",
            "Requirement already satisfied: jupyter-client in ./lib/python3.7/dist-packages (from ipykernel>=4.5.1->ipywidgets) (5.3.5)\n",
            "Requirement already satisfied: tornado>=4.0 in ./lib/python3.7/dist-packages (from ipykernel>=4.5.1->ipywidgets) (5.1.1)\n",
            "Requirement already satisfied: notebook>=4.4.1 in ./lib/python3.7/dist-packages (from widgetsnbextension~=3.5.0->ipywidgets) (5.3.1)\n",
            "Requirement already satisfied: ptyprocess>=0.5 in ./lib/python3.7/dist-packages (from pexpect; sys_platform != \"win32\"->ipython>=4.0.0; python_version >= \"3.3\"->ipywidgets) (0.7.0)\n",
            "Requirement already satisfied: wcwidth in ./lib/python3.7/dist-packages (from prompt-toolkit<2.0.0,>=1.0.4->ipython>=4.0.0; python_version >= \"3.3\"->ipywidgets) (0.2.5)\n",
            "Requirement already satisfied: six>=1.9.0 in ./lib/python3.7/dist-packages (from prompt-toolkit<2.0.0,>=1.0.4->ipython>=4.0.0; python_version >= \"3.3\"->ipywidgets) (1.15.0)\n",
            "Requirement already satisfied: python-dateutil>=2.1 in ./lib/python3.7/dist-packages (from jupyter-client->ipykernel>=4.5.1->ipywidgets) (2.8.1)\n",
            "Requirement already satisfied: pyzmq>=13 in ./lib/python3.7/dist-packages (from jupyter-client->ipykernel>=4.5.1->ipywidgets) (22.0.3)\n",
            "Requirement already satisfied: terminado>=0.8.1 in ./lib/python3.7/dist-packages (from notebook>=4.4.1->widgetsnbextension~=3.5.0->ipywidgets) (0.9.2)\n",
            "Requirement already satisfied: Send2Trash in ./lib/python3.7/dist-packages (from notebook>=4.4.1->widgetsnbextension~=3.5.0->ipywidgets) (1.5.0)\n",
            "Requirement already satisfied: jinja2 in ./lib/python3.7/dist-packages (from notebook>=4.4.1->widgetsnbextension~=3.5.0->ipywidgets) (2.11.3)\n",
            "Requirement already satisfied: nbconvert in ./lib/python3.7/dist-packages (from notebook>=4.4.1->widgetsnbextension~=3.5.0->ipywidgets) (5.6.1)\n",
            "Requirement already satisfied: MarkupSafe>=0.23 in ./lib/python3.7/dist-packages (from jinja2->notebook>=4.4.1->widgetsnbextension~=3.5.0->ipywidgets) (1.1.1)\n",
            "Requirement already satisfied: defusedxml in ./lib/python3.7/dist-packages (from nbconvert->notebook>=4.4.1->widgetsnbextension~=3.5.0->ipywidgets) (0.6.0)\n",
            "Requirement already satisfied: testpath in ./lib/python3.7/dist-packages (from nbconvert->notebook>=4.4.1->widgetsnbextension~=3.5.0->ipywidgets) (0.4.4)\n",
            "Requirement already satisfied: bleach in ./lib/python3.7/dist-packages (from nbconvert->notebook>=4.4.1->widgetsnbextension~=3.5.0->ipywidgets) (3.3.0)\n",
            "Requirement already satisfied: entrypoints>=0.2.2 in ./lib/python3.7/dist-packages (from nbconvert->notebook>=4.4.1->widgetsnbextension~=3.5.0->ipywidgets) (0.3)\n",
            "Requirement already satisfied: mistune<2,>=0.8.1 in ./lib/python3.7/dist-packages (from nbconvert->notebook>=4.4.1->widgetsnbextension~=3.5.0->ipywidgets) (0.8.4)\n",
            "Requirement already satisfied: pandocfilters>=1.4.1 in ./lib/python3.7/dist-packages (from nbconvert->notebook>=4.4.1->widgetsnbextension~=3.5.0->ipywidgets) (1.4.3)\n",
            "Requirement already satisfied: packaging in ./lib/python3.7/dist-packages (from bleach->nbconvert->notebook>=4.4.1->widgetsnbextension~=3.5.0->ipywidgets) (20.9)\n",
            "Requirement already satisfied: webencodings in ./lib/python3.7/dist-packages (from bleach->nbconvert->notebook>=4.4.1->widgetsnbextension~=3.5.0->ipywidgets) (0.5.1)\n",
            "Requirement already satisfied: pyparsing>=2.0.2 in ./lib/python3.7/dist-packages (from packaging->bleach->nbconvert->notebook>=4.4.1->widgetsnbextension~=3.5.0->ipywidgets) (2.4.7)\n"
          ],
          "name": "stdout"
        }
      ]
    },
    {
      "cell_type": "code",
      "metadata": {
        "colab": {
          "base_uri": "https://localhost:8080/",
          "height": 84,
          "referenced_widgets": [
            "49c66c58fe1b412ba312e8fd856430ca",
            "38586b07de3745ceb74d9926ede7e762",
            "27b697c0385843e782f3d5bd250f9972",
            "bd630a2ed40146b99c37b8d04ac67c43",
            "1f944eca73784e6b9652d2d26626c35d",
            "2ab59bb28a154508bddc8c5849d92e64",
            "d42710ba2be847b9867fcc869c641d8a"
          ]
        },
        "id": "aWSsW1pTJdCY",
        "outputId": "a45c5097-fc7c-4612-8525-1aa62f662e70"
      },
      "source": [
        "# this will allow the notebook to reload/refresh automatically within the runtime\r\n",
        "%reload_ext autoreload\r\n",
        "%autoreload 2\r\n",
        "\r\n",
        "from ipywidgets import interact\r\n",
        "\r\n",
        "def f(x):\r\n",
        "  return x\r\n",
        "\r\n",
        "interact(f, x=10)"
      ],
      "execution_count": null,
      "outputs": [
        {
          "output_type": "display_data",
          "data": {
            "application/vnd.jupyter.widget-view+json": {
              "model_id": "49c66c58fe1b412ba312e8fd856430ca",
              "version_minor": 0,
              "version_major": 2
            },
            "text/plain": [
              "interactive(children=(IntSlider(value=10, description='x', max=30, min=-10), Output()), _dom_classes=('widget-…"
            ]
          },
          "metadata": {
            "tags": []
          }
        },
        {
          "output_type": "execute_result",
          "data": {
            "text/plain": [
              "<function __main__.f>"
            ]
          },
          "metadata": {
            "tags": []
          },
          "execution_count": 24
        }
      ]
    },
    {
      "cell_type": "code",
      "metadata": {
        "id": "zEO9gF3wttp_"
      },
      "source": [
        "#pip install itk"
      ],
      "execution_count": null,
      "outputs": []
    },
    {
      "cell_type": "code",
      "metadata": {
        "colab": {
          "base_uri": "https://localhost:8080/"
        },
        "id": "HaFNVhdxrzBz",
        "outputId": "a84e1ad3-ab58-4689-cb02-96d1d02a8873"
      },
      "source": [
        "cd '/gdrive/MyDrive/SimpleITK-Notebooks/Python/'"
      ],
      "execution_count": null,
      "outputs": [
        {
          "output_type": "stream",
          "text": [
            "/gdrive/MyDrive/SimpleITK-Notebooks/Python\n"
          ],
          "name": "stdout"
        }
      ]
    },
    {
      "cell_type": "code",
      "metadata": {
        "id": "7CZ95Naer7zA"
      },
      "source": [
        "!python '/gdrive/MyDrive/SimpleITK-Notebooks/Python/update_path_to_download_script.py'"
      ],
      "execution_count": null,
      "outputs": []
    },
    {
      "cell_type": "code",
      "metadata": {
        "colab": {
          "base_uri": "https://localhost:8080/"
        },
        "id": "6uxmcL-rthqA",
        "outputId": "2508557a-4a43-4f24-ccbd-221578ea719f"
      },
      "source": [
        "import os\r\n",
        "os.environ['PYTHONPATH'] += \":/content/gdrive/My Drive/Fiji.app\"\r\n",
        "! echo $PYTHONPATH\r\n",
        "os.environ['PATH'] += \":/content/gdrive/My Drive/Fiji.app\"\r\n",
        "! echo $PATH"
      ],
      "execution_count": null,
      "outputs": [
        {
          "output_type": "stream",
          "text": [
            "/env/python:/content/gdrive/My Drive/Fiji.app\n",
            "/usr/local/nvidia/bin:/usr/local/cuda/bin:/usr/local/sbin:/usr/local/bin:/usr/sbin:/usr/bin:/sbin:/bin:/tools/node/bin:/tools/google-cloud-sdk/bin:/opt/bin:/content/gdrive/My Drive/Fiji.app:/content/gdrive/My Drive/Fiji.app\n"
          ],
          "name": "stdout"
        }
      ]
    },
    {
      "cell_type": "code",
      "metadata": {
        "id": "1SwkFZlBqJfP"
      },
      "source": [
        "import numpy as np\r\n",
        "import os\r\n",
        "from ipywidgets import interact, fixed\r\n",
        "\r\n",
        "%matplotlib inline\r\n",
        "import matplotlib.pyplot as plt\r\n",
        "\r\n",
        "from downloaddata import fetch_data as fdata\r\n",
        "\r\n",
        "OUTPUT_DIR = 'output'\r\n",
        "\r\n",
        "image_viewer = sitk.ImageViewer()"
      ],
      "execution_count": null,
      "outputs": []
    },
    {
      "cell_type": "code",
      "metadata": {
        "colab": {
          "base_uri": "https://localhost:8080/"
        },
        "id": "nCJGlMFdqOFE",
        "outputId": "fd29605d-760c-450b-ad6d-0ea17c52b3b3"
      },
      "source": [
        "print(image_viewer)"
      ],
      "execution_count": null,
      "outputs": [
        {
          "output_type": "stream",
          "text": [
            "itk::simple::ImageViewer\n",
            "  Title: \n",
            "  Command: %a -eval 'open(\"%f\"); rename(\"%t\");'\n",
            "  Application: /usr/local/Fiji.app/ImageJ-linux64\n",
            "  Default Application: /usr/local/Fiji.app/ImageJ-linux64\n",
            "  File Extension: .mha\n",
            "  Default File Extension: .mha\n",
            "  Search Path: [ ./, /root/bin/, /opt/, /usr/local/ ]\n",
            "  Executable Names: [ Fiji.app/ImageJ-linux64, Fiji.app/ImageJ-linux32 ]\n",
            "  Debug Flag: 0\n",
            "\n"
          ],
          "name": "stdout"
        }
      ]
    },
    {
      "cell_type": "code",
      "metadata": {
        "colab": {
          "base_uri": "https://localhost:8080/"
        },
        "id": "7_SNqv-kwyrU",
        "outputId": "8e28bb84-77d0-47fa-802f-f08ee83ec21e"
      },
      "source": [
        "%ls /usr/local/Fiji.app/ImageJ-linux64"
      ],
      "execution_count": null,
      "outputs": [
        {
          "output_type": "stream",
          "text": [
            "\u001b[0m\u001b[01;32m/usr/local/Fiji.app/ImageJ-linux64\u001b[0m*\n"
          ],
          "name": "stdout"
        }
      ]
    },
    {
      "cell_type": "code",
      "metadata": {
        "id": "QrGhafu9JdCb"
      },
      "source": [
        "#!python '/gdrive/MyDrive/SimpleITK-Notebooks/Python/update_path_to_download_script.py'"
      ],
      "execution_count": null,
      "outputs": []
    },
    {
      "cell_type": "code",
      "metadata": {
        "colab": {
          "base_uri": "https://localhost:8080/"
        },
        "id": "V-V37PL4JdCb",
        "outputId": "b4e70bbb-53d6-44c3-a257-850a85736524"
      },
      "source": [
        "cd '/gdrive/MyDrive/SimpleITK-Notebooks/Python/'"
      ],
      "execution_count": null,
      "outputs": [
        {
          "output_type": "stream",
          "text": [
            "/gdrive/MyDrive/SimpleITK-Notebooks/Python\n"
          ],
          "name": "stdout"
        }
      ]
    },
    {
      "cell_type": "code",
      "metadata": {
        "colab": {
          "base_uri": "https://localhost:8080/"
        },
        "id": "_O2bv8m0JdCb",
        "outputId": "6ba79899-6603-423b-d951-dfc0a3647c74"
      },
      "source": [
        "import SimpleITK as sitk\r\n",
        "\r\n",
        "%run update_path_to_download_script\r\n",
        "from downloaddata import fetch_data, fetch_data_all\r\n",
        "\r\n",
        "from ipywidgets import interact\r\n",
        "\r\n",
        "print(sitk.Version())"
      ],
      "execution_count": null,
      "outputs": [
        {
          "output_type": "stream",
          "text": [
            "SimpleITK Version: 2.0.2 (ITK 5.1)\n",
            "Compiled: Dec  1 2020 22:01:03\n",
            "\n"
          ],
          "name": "stdout"
        }
      ]
    },
    {
      "cell_type": "code",
      "metadata": {
        "colab": {
          "base_uri": "https://localhost:8080/"
        },
        "id": "DL--n6qEJdCb",
        "outputId": "7a95a578-111b-4898-c180-3d93df91c9e7"
      },
      "source": [
        "%cd '/gdrive/MyDrive/'\r\n",
        "%ls"
      ],
      "execution_count": null,
      "outputs": [
        {
          "output_type": "stream",
          "text": [
            "/gdrive/MyDrive\n",
            "\u001b[0m\u001b[01;34m'Colab Notebooks'\u001b[0m/                      \u001b[01;34mSimpleITK_ISBI2020_TUTORIAL\u001b[0m/\n",
            " \u001b[01;34mFiji.app\u001b[0m/                              SimpleITK.jpg\n",
            " fiji-linux64-20170530.zip              \u001b[01;34mSimpleITK-Notebooks\u001b[0m/\n",
            " \u001b[01;34mMyNiftyRec\u001b[0m/                            unnamed.png\n",
            " \u001b[01;34mMyTomoLab\u001b[0m/                            'Untitled project.gscript'\n",
            " pyjnius-1.2.0-py37h90b5fae_0.tar.bz2\n"
          ],
          "name": "stdout"
        }
      ]
    },
    {
      "cell_type": "code",
      "metadata": {
        "colab": {
          "base_uri": "https://localhost:8080/"
        },
        "id": "j2l-rZGgJdCb",
        "outputId": "fb8207cd-ae37-4537-b9ed-09f8fbc53eca"
      },
      "source": [
        "cd /usr/local/"
      ],
      "execution_count": null,
      "outputs": [
        {
          "output_type": "stream",
          "text": [
            "/usr/local\n"
          ],
          "name": "stdout"
        }
      ]
    },
    {
      "cell_type": "code",
      "metadata": {
        "id": "SS2wEpSedN3z"
      },
      "source": [
        "#image_viewer.SetApplication('/usr/local/Fiji.app/ImageJ-linux64')"
      ],
      "execution_count": null,
      "outputs": []
    },
    {
      "cell_type": "code",
      "metadata": {
        "id": "CaJMiV5cdKIn"
      },
      "source": [
        "# Uncomment the line below to change the default external viewer to your viewer of choice and test that it works.\r\n",
        "#%env SITK_SHOW_COMMAND /Applications/ITK-SNAP.app/Contents/MacOS/ITK-SNAP \r\n",
        "#%env SITK_SHOW_COMMAND  /gdrive/MyDrive/Fiji.app/ImageJ-linux64\r\n",
        "#%env SITK_SHOW_COMMAND  /usr/local/Fiji.app/\r\n",
        "#%env SITK_SHOW_COMMAND  /usr/local/Fiji.app/ImageJ-linux64\r\n",
        "\r\n",
        "# Retrieve an image from the network, read it and display using the external viewer. \r\n",
        "# The show method will also set the display window's title and by setting debugOn to True, \r\n",
        "# will also print information with respect to the command it is attempting to invoke.\r\n",
        "# NOTE: The debug information is printed to the terminal from which you launched the notebook\r\n",
        "#       server."
      ],
      "execution_count": null,
      "outputs": []
    },
    {
      "cell_type": "code",
      "metadata": {
        "colab": {
          "base_uri": "https://localhost:8080/"
        },
        "id": "SM1qty46eS1p",
        "outputId": "9026da8e-ce15-4169-b394-61a57b3d2420"
      },
      "source": [
        "%ls /gdrive/MyDrive/"
      ],
      "execution_count": null,
      "outputs": [
        {
          "output_type": "stream",
          "text": [
            "\u001b[0m\u001b[01;34m'Colab Notebooks'\u001b[0m/                      \u001b[01;34mSimpleITK_ISBI2020_TUTORIAL\u001b[0m/\n",
            " \u001b[01;34mFiji.app\u001b[0m/                              SimpleITK.jpg\n",
            " fiji-linux64-20170530.zip              \u001b[01;34mSimpleITK-Notebooks\u001b[0m/\n",
            " \u001b[01;34mMyNiftyRec\u001b[0m/                            unnamed.png\n",
            " \u001b[01;34mMyTomoLab\u001b[0m/                            'Untitled project.gscript'\n",
            " pyjnius-1.2.0-py37h90b5fae_0.tar.bz2\n"
          ],
          "name": "stdout"
        }
      ]
    },
    {
      "cell_type": "code",
      "metadata": {
        "colab": {
          "base_uri": "https://localhost:8080/"
        },
        "id": "FwSNHd10JdCc",
        "outputId": "0eb843a1-cea8-4792-8abd-86e3c3536124"
      },
      "source": [
        "%cd /gdrive/MyDrive/SimpleITK_ISBI2020_TUTORIAL"
      ],
      "execution_count": null,
      "outputs": [
        {
          "output_type": "stream",
          "text": [
            "/gdrive/MyDrive/SimpleITK_ISBI2020_TUTORIAL\n"
          ],
          "name": "stdout"
        }
      ]
    },
    {
      "cell_type": "code",
      "metadata": {
        "colab": {
          "base_uri": "https://localhost:8080/"
        },
        "id": "JntpnOgOFwep",
        "outputId": "5ed8ac61-b8dd-416d-fafa-fc4f4c40de57"
      },
      "source": [
        "print(image_viewer)"
      ],
      "execution_count": null,
      "outputs": [
        {
          "output_type": "stream",
          "text": [
            "itk::simple::ImageViewer\n",
            "  Title: \n",
            "  Command: %a -eval 'open(\"%f\"); rename(\"%t\");'\n",
            "  Application: /usr/local/Fiji.app/ImageJ-linux64\n",
            "  Default Application: /usr/local/Fiji.app/ImageJ-linux64\n",
            "  File Extension: .mha\n",
            "  Default File Extension: .mha\n",
            "  Search Path: [ ./, /root/bin/, /opt/, /usr/local/ ]\n",
            "  Executable Names: [ Fiji.app/ImageJ-linux64, Fiji.app/ImageJ-linux32 ]\n",
            "  Debug Flag: 0\n",
            "\n"
          ],
          "name": "stdout"
        }
      ]
    },
    {
      "cell_type": "code",
      "metadata": {
        "id": "o9zBdnykCbus"
      },
      "source": [
        "#import SimpleITK as sitk\n",
        "\n",
        "#%matplotlib inline\n",
        "#import matplotlib.pyplot as plt\n",
        "#import numpy as np\n",
        "\n",
        "#from ipywidgets import interact, fixed\n",
        "#import os\n",
        "\n",
        "#OUTPUT_DIR = 'Output'\n",
        "\n",
        "# Utility method that either downloads data from the Girder repository or\n",
        "# if already downloaded returns the file name for reading from disk (cached data).\n",
        "#%run update_path_to_download_script\n",
        "#from downloaddata import fetch_data as fdata"
      ],
      "execution_count": null,
      "outputs": []
    },
    {
      "cell_type": "markdown",
      "metadata": {
        "id": "tOwF_uQIc1EM"
      },
      "source": [
        "## Images are Physical Objects\n",
        "\n",
        "<img src=\"figures/ImageOriginAndSpacing.png\" style=\"width:700px\"/><br><br>"
      ]
    },
    {
      "cell_type": "markdown",
      "metadata": {
        "id": "3l24l7d4c1EN"
      },
      "source": [
        "### Pixel Types\n",
        "\n",
        "The pixel type is represented as an enumerated type. The following is a table of the enumerated list.\n",
        "\n",
        "<table>\n",
        "  <tr><td>sitkUInt8</td><td>Unsigned 8 bit integer</td></tr>\n",
        "  <tr><td>sitkInt8</td><td>Signed 8 bit integer</td></tr>\n",
        "  <tr><td>sitkUInt16</td><td>Unsigned 16 bit integer</td></tr>\n",
        "  <tr><td>sitkInt16</td><td>Signed 16 bit integer</td></tr>\n",
        "  <tr><td>sitkUInt32</td><td>Unsigned 32 bit integer</td></tr>\n",
        "  <tr><td>sitkInt32</td><td>Signed 32 bit integer</td></tr>\n",
        "  <tr><td>sitkUInt64</td><td>Unsigned 64 bit integer</td></tr>\n",
        "  <tr><td>sitkInt64</td><td>Signed 64 bit integer</td></tr>\n",
        "  <tr><td>sitkFloat32</td><td>32 bit float</td></tr>\n",
        "  <tr><td>sitkFloat64</td><td>64 bit float</td></tr>\n",
        "  <tr><td>sitkComplexFloat32</td><td>complex number of 32 bit float</td></tr>\n",
        "  <tr><td>sitkComplexFloat64</td><td>complex number of 64 bit float</td></tr>\n",
        "  <tr><td>sitkVectorUInt8</td><td>Multi-component of unsigned 8 bit integer</td></tr>\n",
        "  <tr><td>sitkVectorInt8</td><td>Multi-component of signed 8 bit integer</td></tr>\n",
        "  <tr><td>sitkVectorUInt16</td><td>Multi-component of unsigned 16 bit integer</td></tr>\n",
        "  <tr><td>sitkVectorInt16</td><td>Multi-component of signed 16 bit integer</td></tr>\n",
        "  <tr><td>sitkVectorUInt32</td><td>Multi-component of unsigned 32 bit integer</td></tr>\n",
        "  <tr><td>sitkVectorInt32</td><td>Multi-component of signed 32 bit integer</td></tr>\n",
        "  <tr><td>sitkVectorUInt64</td><td>Multi-component of unsigned 64 bit integer</td></tr>\n",
        "  <tr><td>sitkVectorInt64</td><td>Multi-component of signed 64 bit integer</td></tr>\n",
        "  <tr><td>sitkVectorFloat32</td><td>Multi-component of 32 bit float</td></tr>\n",
        "  <tr><td>sitkVectorFloat64</td><td>Multi-component of 64 bit float</td></tr>\n",
        "  <tr><td>sitkLabelUInt8</td><td>RLE label of unsigned 8 bit integers</td></tr>\n",
        "  <tr><td>sitkLabelUInt16</td><td>RLE label of unsigned 16 bit integers</td></tr>\n",
        "  <tr><td>sitkLabelUInt32</td><td>RLE label of unsigned 32 bit integers</td></tr>\n",
        "  <tr><td>sitkLabelUInt64</td><td>RLE label of unsigned 64 bit integers</td></tr>\n",
        "</table>\n",
        "\n",
        "There is also `sitkUnknown`, which is used for undefined or erroneous pixel ID's.\n",
        "\n",
        "Some filters only work with images with a specific pixel type. The primary example is the registration framework which works with sitkFloat32 or sitkFloat64. To address this issue you can either specify the appropriate pixel type when reading or creating the image, or use the <a href=\"https://itk.org/SimpleITKDoxygen/html/namespaceitk_1_1simple.html#af8c9d7cc96a299a05890e9c3db911885\">Cast function</a>.  "
      ]
    },
    {
      "cell_type": "code",
      "metadata": {
        "colab": {
          "base_uri": "https://localhost:8080/"
        },
        "id": "CBRDhNEYdGiw",
        "outputId": "c739fd32-f3c7-4cb2-8682-ba3b1846831d"
      },
      "source": [
        "pip install virtualenv"
      ],
      "execution_count": null,
      "outputs": [
        {
          "output_type": "stream",
          "text": [
            "Requirement already satisfied: virtualenv in /usr/local/lib/python3.7/dist-packages (20.4.2)\n",
            "Requirement already satisfied: distlib<1,>=0.3.1 in /usr/local/lib/python3.7/dist-packages (from virtualenv) (0.3.1)\n",
            "Requirement already satisfied: importlib-metadata>=0.12; python_version < \"3.8\" in /usr/local/lib/python3.7/dist-packages (from virtualenv) (3.7.0)\n",
            "Requirement already satisfied: filelock<4,>=3.0.0 in /usr/local/lib/python3.7/dist-packages (from virtualenv) (3.0.12)\n",
            "Requirement already satisfied: six<2,>=1.9.0 in /usr/local/lib/python3.7/dist-packages (from virtualenv) (1.15.0)\n",
            "Requirement already satisfied: appdirs<2,>=1.4.3 in /usr/local/lib/python3.7/dist-packages (from virtualenv) (1.4.4)\n",
            "Requirement already satisfied: typing-extensions>=3.6.4; python_version < \"3.8\" in /usr/local/lib/python3.7/dist-packages (from importlib-metadata>=0.12; python_version < \"3.8\"->virtualenv) (3.7.4.3)\n",
            "Requirement already satisfied: zipp>=0.5 in /usr/local/lib/python3.7/dist-packages (from importlib-metadata>=0.12; python_version < \"3.8\"->virtualenv) (3.4.0)\n"
          ],
          "name": "stdout"
        }
      ]
    },
    {
      "cell_type": "code",
      "metadata": {
        "colab": {
          "base_uri": "https://localhost:8080/"
        },
        "id": "hg21VPYEdMpH",
        "outputId": "5f55652f-fac8-49aa-f781-4bf602205e8b"
      },
      "source": [
        "#!virtualenv ~/sitkpy --no-site-packages\r\n",
        "!virtualenv ~/sitkpy"
      ],
      "execution_count": null,
      "outputs": [
        {
          "output_type": "stream",
          "text": [
            "created virtual environment CPython3.7.10.final.0-64 in 415ms\n",
            "  creator CPython3Posix(dest=/root/sitkpy, clear=False, no_vcs_ignore=False, global=False)\n",
            "  seeder FromAppData(download=False, pip=bundle, setuptools=bundle, wheel=bundle, via=copy, app_data_dir=/root/.local/share/virtualenv)\n",
            "    added seed packages: Jinja2==2.11.3, MarkupSafe==1.1.1, Pillow==8.1.0, Pygments==2.8.0, QtPy==1.9.0, Send2Trash==1.5.0, SimpleITK==2.0.2, argon2_cffi==20.1.0, async_generator==1.10, attrs==20.3.0, backcall==0.2.0, bleach==3.3.0, cffi==1.14.5, cycler==0.10.0, decorator==4.4.2, defusedxml==0.6.0, dill==0.3.3, entrypoints==0.3, importlib_metadata==3.7.0, ipykernel==5.5.0, ipython==7.21.0, ipython_genutils==0.2.0, ipywidgets==7.6.3, jedi==0.18.0, jsonschema==3.2.0, jupyter==1.0.0, jupyter_client==6.1.11, jupyter_console==6.2.0, jupyter_core==4.7.1, jupyterlab_pygments==0.1.2, jupyterlab_widgets==1.0.0, kiwisolver==1.3.1, llvmlite==0.35.0, matplotlib==3.3.4, mistune==0.8.4, multiprocess==0.70.11.1, nbclient==0.5.3, nbconvert==6.0.7, nbformat==5.1.2, nest_asyncio==1.5.1, notebook==6.2.0, numba==0.52.0, numpy==1.20.1, packaging==20.9, pandas==1.2.2, pandocfilters==1.4.3, parso==0.8.1, pexpect==4.8.0, pickleshare==0.7.5, pip==21.0.1, prometheus_client==0.9.0, prompt_toolkit==3.0.16, ptyprocess==0.7.0, pycparser==2.20, pyparsing==2.4.7, pyrsistent==0.17.3, python_dateutil==2.8.1, pytz==2021.1, pyzmq==22.0.3, qtconsole==5.0.2, scipy==1.6.1, setuptools==52.0.0, six==1.15.0, terminado==0.9.2, testpath==0.4.4, tornado==6.1, traitlets==5.0.5, typing_extensions==3.7.4.3, wcwidth==0.2.5, webencodings==0.5.1, wheel==0.36.2, widgetsnbextension==3.5.1, zipp==3.4.0\n",
            "  activators BashActivator,CShellActivator,FishActivator,PowerShellActivator,PythonActivator,XonshActivator\n"
          ],
          "name": "stdout"
        }
      ]
    },
    {
      "cell_type": "code",
      "metadata": {
        "colab": {
          "base_uri": "https://localhost:8080/"
        },
        "id": "79YntY-odSP1",
        "outputId": "7528d6e1-e623-44e0-da48-97b078d7e392"
      },
      "source": [
        "from google.colab import drive\r\n",
        "drive.mount('/gdrive')\r\n",
        "%cd /gdrive"
      ],
      "execution_count": null,
      "outputs": [
        {
          "output_type": "stream",
          "text": [
            "Drive already mounted at /gdrive; to attempt to forcibly remount, call drive.mount(\"/gdrive\", force_remount=True).\n",
            "/gdrive\n"
          ],
          "name": "stdout"
        }
      ]
    },
    {
      "cell_type": "code",
      "metadata": {
        "colab": {
          "base_uri": "https://localhost:8080/"
        },
        "id": "kw9eGdBadle2",
        "outputId": "0ee8bae0-606a-4355-ed8e-68e159f84ba4"
      },
      "source": [
        "!~/sitkpy/bin/pip install -r '/gdrive/MyDrive/SimpleITK-Notebooks/Python/requirements.txt'"
      ],
      "execution_count": null,
      "outputs": [
        {
          "output_type": "stream",
          "text": [
            "Requirement already satisfied: SimpleITK>=2.0.0 in /root/sitkpy/lib/python3.7/site-packages (from -r /gdrive/MyDrive/SimpleITK-Notebooks/Python/requirements.txt (line 1)) (2.0.2)\n",
            "Requirement already satisfied: jupyter in /root/sitkpy/lib/python3.7/site-packages (from -r /gdrive/MyDrive/SimpleITK-Notebooks/Python/requirements.txt (line 2)) (1.0.0)\n",
            "Requirement already satisfied: matplotlib in /root/sitkpy/lib/python3.7/site-packages (from -r /gdrive/MyDrive/SimpleITK-Notebooks/Python/requirements.txt (line 3)) (3.3.4)\n",
            "Requirement already satisfied: ipywidgets in /root/sitkpy/lib/python3.7/site-packages (from -r /gdrive/MyDrive/SimpleITK-Notebooks/Python/requirements.txt (line 4)) (7.6.3)\n",
            "Requirement already satisfied: numpy in /root/sitkpy/lib/python3.7/site-packages (from -r /gdrive/MyDrive/SimpleITK-Notebooks/Python/requirements.txt (line 5)) (1.20.1)\n",
            "Requirement already satisfied: scipy in /root/sitkpy/lib/python3.7/site-packages (from -r /gdrive/MyDrive/SimpleITK-Notebooks/Python/requirements.txt (line 6)) (1.6.1)\n",
            "Requirement already satisfied: pandas in /root/sitkpy/lib/python3.7/site-packages (from -r /gdrive/MyDrive/SimpleITK-Notebooks/Python/requirements.txt (line 7)) (1.2.2)\n",
            "Requirement already satisfied: numba in /root/sitkpy/lib/python3.7/site-packages (from -r /gdrive/MyDrive/SimpleITK-Notebooks/Python/requirements.txt (line 8)) (0.52.0)\n",
            "Requirement already satisfied: multiprocess in /root/sitkpy/lib/python3.7/site-packages (from -r /gdrive/MyDrive/SimpleITK-Notebooks/Python/requirements.txt (line 9)) (0.70.11.1)\n",
            "Requirement already satisfied: widgetsnbextension~=3.5.0 in /root/sitkpy/lib/python3.7/site-packages (from ipywidgets->-r /gdrive/MyDrive/SimpleITK-Notebooks/Python/requirements.txt (line 4)) (3.5.1)\n",
            "Requirement already satisfied: jupyterlab-widgets>=1.0.0 in /root/sitkpy/lib/python3.7/site-packages (from ipywidgets->-r /gdrive/MyDrive/SimpleITK-Notebooks/Python/requirements.txt (line 4)) (1.0.0)\n",
            "Requirement already satisfied: ipykernel>=4.5.1 in /root/sitkpy/lib/python3.7/site-packages (from ipywidgets->-r /gdrive/MyDrive/SimpleITK-Notebooks/Python/requirements.txt (line 4)) (5.5.0)\n",
            "Requirement already satisfied: traitlets>=4.3.1 in /root/sitkpy/lib/python3.7/site-packages (from ipywidgets->-r /gdrive/MyDrive/SimpleITK-Notebooks/Python/requirements.txt (line 4)) (5.0.5)\n",
            "Requirement already satisfied: ipython>=4.0.0 in /root/sitkpy/lib/python3.7/site-packages (from ipywidgets->-r /gdrive/MyDrive/SimpleITK-Notebooks/Python/requirements.txt (line 4)) (7.21.0)\n",
            "Requirement already satisfied: nbformat>=4.2.0 in /root/sitkpy/lib/python3.7/site-packages (from ipywidgets->-r /gdrive/MyDrive/SimpleITK-Notebooks/Python/requirements.txt (line 4)) (5.1.2)\n",
            "Requirement already satisfied: jupyter-client in /root/sitkpy/lib/python3.7/site-packages (from ipykernel>=4.5.1->ipywidgets->-r /gdrive/MyDrive/SimpleITK-Notebooks/Python/requirements.txt (line 4)) (6.1.11)\n",
            "Requirement already satisfied: tornado>=4.2 in /root/sitkpy/lib/python3.7/site-packages (from ipykernel>=4.5.1->ipywidgets->-r /gdrive/MyDrive/SimpleITK-Notebooks/Python/requirements.txt (line 4)) (6.1)\n",
            "Requirement already satisfied: setuptools>=18.5 in /root/sitkpy/lib/python3.7/site-packages (from ipython>=4.0.0->ipywidgets->-r /gdrive/MyDrive/SimpleITK-Notebooks/Python/requirements.txt (line 4)) (52.0.0)\n",
            "Requirement already satisfied: pickleshare in /root/sitkpy/lib/python3.7/site-packages (from ipython>=4.0.0->ipywidgets->-r /gdrive/MyDrive/SimpleITK-Notebooks/Python/requirements.txt (line 4)) (0.7.5)\n",
            "Requirement already satisfied: pexpect>4.3 in /root/sitkpy/lib/python3.7/site-packages (from ipython>=4.0.0->ipywidgets->-r /gdrive/MyDrive/SimpleITK-Notebooks/Python/requirements.txt (line 4)) (4.8.0)\n",
            "Requirement already satisfied: backcall in /root/sitkpy/lib/python3.7/site-packages (from ipython>=4.0.0->ipywidgets->-r /gdrive/MyDrive/SimpleITK-Notebooks/Python/requirements.txt (line 4)) (0.2.0)\n",
            "Requirement already satisfied: prompt-toolkit!=3.0.0,!=3.0.1,<3.1.0,>=2.0.0 in /root/sitkpy/lib/python3.7/site-packages (from ipython>=4.0.0->ipywidgets->-r /gdrive/MyDrive/SimpleITK-Notebooks/Python/requirements.txt (line 4)) (3.0.16)\n",
            "Requirement already satisfied: jedi>=0.16 in /root/sitkpy/lib/python3.7/site-packages (from ipython>=4.0.0->ipywidgets->-r /gdrive/MyDrive/SimpleITK-Notebooks/Python/requirements.txt (line 4)) (0.18.0)\n",
            "Requirement already satisfied: pygments in /root/sitkpy/lib/python3.7/site-packages (from ipython>=4.0.0->ipywidgets->-r /gdrive/MyDrive/SimpleITK-Notebooks/Python/requirements.txt (line 4)) (2.8.0)\n",
            "Requirement already satisfied: decorator in /root/sitkpy/lib/python3.7/site-packages (from ipython>=4.0.0->ipywidgets->-r /gdrive/MyDrive/SimpleITK-Notebooks/Python/requirements.txt (line 4)) (4.4.2)\n",
            "Requirement already satisfied: parso<0.9.0,>=0.8.0 in /root/sitkpy/lib/python3.7/site-packages (from jedi>=0.16->ipython>=4.0.0->ipywidgets->-r /gdrive/MyDrive/SimpleITK-Notebooks/Python/requirements.txt (line 4)) (0.8.1)\n",
            "Requirement already satisfied: jupyter-core in /root/sitkpy/lib/python3.7/site-packages (from nbformat>=4.2.0->ipywidgets->-r /gdrive/MyDrive/SimpleITK-Notebooks/Python/requirements.txt (line 4)) (4.7.1)\n",
            "Requirement already satisfied: ipython-genutils in /root/sitkpy/lib/python3.7/site-packages (from nbformat>=4.2.0->ipywidgets->-r /gdrive/MyDrive/SimpleITK-Notebooks/Python/requirements.txt (line 4)) (0.2.0)\n",
            "Requirement already satisfied: jsonschema!=2.5.0,>=2.4 in /root/sitkpy/lib/python3.7/site-packages (from nbformat>=4.2.0->ipywidgets->-r /gdrive/MyDrive/SimpleITK-Notebooks/Python/requirements.txt (line 4)) (3.2.0)\n",
            "Requirement already satisfied: attrs>=17.4.0 in /root/sitkpy/lib/python3.7/site-packages (from jsonschema!=2.5.0,>=2.4->nbformat>=4.2.0->ipywidgets->-r /gdrive/MyDrive/SimpleITK-Notebooks/Python/requirements.txt (line 4)) (20.3.0)\n",
            "Requirement already satisfied: six>=1.11.0 in /root/sitkpy/lib/python3.7/site-packages (from jsonschema!=2.5.0,>=2.4->nbformat>=4.2.0->ipywidgets->-r /gdrive/MyDrive/SimpleITK-Notebooks/Python/requirements.txt (line 4)) (1.15.0)\n",
            "Requirement already satisfied: importlib-metadata in /root/sitkpy/lib/python3.7/site-packages (from jsonschema!=2.5.0,>=2.4->nbformat>=4.2.0->ipywidgets->-r /gdrive/MyDrive/SimpleITK-Notebooks/Python/requirements.txt (line 4)) (3.7.0)\n",
            "Requirement already satisfied: pyrsistent>=0.14.0 in /root/sitkpy/lib/python3.7/site-packages (from jsonschema!=2.5.0,>=2.4->nbformat>=4.2.0->ipywidgets->-r /gdrive/MyDrive/SimpleITK-Notebooks/Python/requirements.txt (line 4)) (0.17.3)\n",
            "Requirement already satisfied: ptyprocess>=0.5 in /root/sitkpy/lib/python3.7/site-packages (from pexpect>4.3->ipython>=4.0.0->ipywidgets->-r /gdrive/MyDrive/SimpleITK-Notebooks/Python/requirements.txt (line 4)) (0.7.0)\n",
            "Requirement already satisfied: wcwidth in /root/sitkpy/lib/python3.7/site-packages (from prompt-toolkit!=3.0.0,!=3.0.1,<3.1.0,>=2.0.0->ipython>=4.0.0->ipywidgets->-r /gdrive/MyDrive/SimpleITK-Notebooks/Python/requirements.txt (line 4)) (0.2.5)\n",
            "Requirement already satisfied: notebook>=4.4.1 in /root/sitkpy/lib/python3.7/site-packages (from widgetsnbextension~=3.5.0->ipywidgets->-r /gdrive/MyDrive/SimpleITK-Notebooks/Python/requirements.txt (line 4)) (6.2.0)\n",
            "Requirement already satisfied: nbconvert in /root/sitkpy/lib/python3.7/site-packages (from notebook>=4.4.1->widgetsnbextension~=3.5.0->ipywidgets->-r /gdrive/MyDrive/SimpleITK-Notebooks/Python/requirements.txt (line 4)) (6.0.7)\n",
            "Requirement already satisfied: pyzmq>=17 in /root/sitkpy/lib/python3.7/site-packages (from notebook>=4.4.1->widgetsnbextension~=3.5.0->ipywidgets->-r /gdrive/MyDrive/SimpleITK-Notebooks/Python/requirements.txt (line 4)) (22.0.3)\n",
            "Requirement already satisfied: Send2Trash>=1.5.0 in /root/sitkpy/lib/python3.7/site-packages (from notebook>=4.4.1->widgetsnbextension~=3.5.0->ipywidgets->-r /gdrive/MyDrive/SimpleITK-Notebooks/Python/requirements.txt (line 4)) (1.5.0)\n",
            "Requirement already satisfied: jinja2 in /root/sitkpy/lib/python3.7/site-packages (from notebook>=4.4.1->widgetsnbextension~=3.5.0->ipywidgets->-r /gdrive/MyDrive/SimpleITK-Notebooks/Python/requirements.txt (line 4)) (2.11.3)\n",
            "Requirement already satisfied: terminado>=0.8.3 in /root/sitkpy/lib/python3.7/site-packages (from notebook>=4.4.1->widgetsnbextension~=3.5.0->ipywidgets->-r /gdrive/MyDrive/SimpleITK-Notebooks/Python/requirements.txt (line 4)) (0.9.2)\n",
            "Requirement already satisfied: prometheus-client in /root/sitkpy/lib/python3.7/site-packages (from notebook>=4.4.1->widgetsnbextension~=3.5.0->ipywidgets->-r /gdrive/MyDrive/SimpleITK-Notebooks/Python/requirements.txt (line 4)) (0.9.0)\n",
            "Requirement already satisfied: argon2-cffi in /root/sitkpy/lib/python3.7/site-packages (from notebook>=4.4.1->widgetsnbextension~=3.5.0->ipywidgets->-r /gdrive/MyDrive/SimpleITK-Notebooks/Python/requirements.txt (line 4)) (20.1.0)\n",
            "Requirement already satisfied: python-dateutil>=2.1 in /root/sitkpy/lib/python3.7/site-packages (from jupyter-client->ipykernel>=4.5.1->ipywidgets->-r /gdrive/MyDrive/SimpleITK-Notebooks/Python/requirements.txt (line 4)) (2.8.1)\n",
            "Requirement already satisfied: jupyter-console in /root/sitkpy/lib/python3.7/site-packages (from jupyter->-r /gdrive/MyDrive/SimpleITK-Notebooks/Python/requirements.txt (line 2)) (6.2.0)\n",
            "Requirement already satisfied: qtconsole in /root/sitkpy/lib/python3.7/site-packages (from jupyter->-r /gdrive/MyDrive/SimpleITK-Notebooks/Python/requirements.txt (line 2)) (5.0.2)\n",
            "Requirement already satisfied: pyparsing!=2.0.4,!=2.1.2,!=2.1.6,>=2.0.3 in /root/sitkpy/lib/python3.7/site-packages (from matplotlib->-r /gdrive/MyDrive/SimpleITK-Notebooks/Python/requirements.txt (line 3)) (2.4.7)\n",
            "Requirement already satisfied: pillow>=6.2.0 in /root/sitkpy/lib/python3.7/site-packages (from matplotlib->-r /gdrive/MyDrive/SimpleITK-Notebooks/Python/requirements.txt (line 3)) (8.1.0)\n",
            "Requirement already satisfied: cycler>=0.10 in /root/sitkpy/lib/python3.7/site-packages (from matplotlib->-r /gdrive/MyDrive/SimpleITK-Notebooks/Python/requirements.txt (line 3)) (0.10.0)\n",
            "Requirement already satisfied: kiwisolver>=1.0.1 in /root/sitkpy/lib/python3.7/site-packages (from matplotlib->-r /gdrive/MyDrive/SimpleITK-Notebooks/Python/requirements.txt (line 3)) (1.3.1)\n",
            "Requirement already satisfied: dill>=0.3.3 in /root/sitkpy/lib/python3.7/site-packages (from multiprocess->-r /gdrive/MyDrive/SimpleITK-Notebooks/Python/requirements.txt (line 9)) (0.3.3)\n",
            "Requirement already satisfied: llvmlite<0.36,>=0.35.0 in /root/sitkpy/lib/python3.7/site-packages (from numba->-r /gdrive/MyDrive/SimpleITK-Notebooks/Python/requirements.txt (line 8)) (0.35.0)\n",
            "Requirement already satisfied: pytz>=2017.3 in /root/sitkpy/lib/python3.7/site-packages (from pandas->-r /gdrive/MyDrive/SimpleITK-Notebooks/Python/requirements.txt (line 7)) (2021.1)\n",
            "Requirement already satisfied: cffi>=1.0.0 in /root/sitkpy/lib/python3.7/site-packages (from argon2-cffi->notebook>=4.4.1->widgetsnbextension~=3.5.0->ipywidgets->-r /gdrive/MyDrive/SimpleITK-Notebooks/Python/requirements.txt (line 4)) (1.14.5)\n",
            "Requirement already satisfied: pycparser in /root/sitkpy/lib/python3.7/site-packages (from cffi>=1.0.0->argon2-cffi->notebook>=4.4.1->widgetsnbextension~=3.5.0->ipywidgets->-r /gdrive/MyDrive/SimpleITK-Notebooks/Python/requirements.txt (line 4)) (2.20)\n",
            "Requirement already satisfied: zipp>=0.5 in /root/sitkpy/lib/python3.7/site-packages (from importlib-metadata->jsonschema!=2.5.0,>=2.4->nbformat>=4.2.0->ipywidgets->-r /gdrive/MyDrive/SimpleITK-Notebooks/Python/requirements.txt (line 4)) (3.4.0)\n",
            "Requirement already satisfied: typing-extensions>=3.6.4 in /root/sitkpy/lib/python3.7/site-packages (from importlib-metadata->jsonschema!=2.5.0,>=2.4->nbformat>=4.2.0->ipywidgets->-r /gdrive/MyDrive/SimpleITK-Notebooks/Python/requirements.txt (line 4)) (3.7.4.3)\n",
            "Requirement already satisfied: MarkupSafe>=0.23 in /root/sitkpy/lib/python3.7/site-packages (from jinja2->notebook>=4.4.1->widgetsnbextension~=3.5.0->ipywidgets->-r /gdrive/MyDrive/SimpleITK-Notebooks/Python/requirements.txt (line 4)) (1.1.1)\n",
            "Requirement already satisfied: entrypoints>=0.2.2 in /root/sitkpy/lib/python3.7/site-packages (from nbconvert->notebook>=4.4.1->widgetsnbextension~=3.5.0->ipywidgets->-r /gdrive/MyDrive/SimpleITK-Notebooks/Python/requirements.txt (line 4)) (0.3)\n",
            "Requirement already satisfied: pandocfilters>=1.4.1 in /root/sitkpy/lib/python3.7/site-packages (from nbconvert->notebook>=4.4.1->widgetsnbextension~=3.5.0->ipywidgets->-r /gdrive/MyDrive/SimpleITK-Notebooks/Python/requirements.txt (line 4)) (1.4.3)\n",
            "Requirement already satisfied: jupyterlab-pygments in /root/sitkpy/lib/python3.7/site-packages (from nbconvert->notebook>=4.4.1->widgetsnbextension~=3.5.0->ipywidgets->-r /gdrive/MyDrive/SimpleITK-Notebooks/Python/requirements.txt (line 4)) (0.1.2)\n",
            "Requirement already satisfied: bleach in /root/sitkpy/lib/python3.7/site-packages (from nbconvert->notebook>=4.4.1->widgetsnbextension~=3.5.0->ipywidgets->-r /gdrive/MyDrive/SimpleITK-Notebooks/Python/requirements.txt (line 4)) (3.3.0)\n",
            "Requirement already satisfied: testpath in /root/sitkpy/lib/python3.7/site-packages (from nbconvert->notebook>=4.4.1->widgetsnbextension~=3.5.0->ipywidgets->-r /gdrive/MyDrive/SimpleITK-Notebooks/Python/requirements.txt (line 4)) (0.4.4)\n",
            "Requirement already satisfied: nbclient<0.6.0,>=0.5.0 in /root/sitkpy/lib/python3.7/site-packages (from nbconvert->notebook>=4.4.1->widgetsnbextension~=3.5.0->ipywidgets->-r /gdrive/MyDrive/SimpleITK-Notebooks/Python/requirements.txt (line 4)) (0.5.3)\n",
            "Requirement already satisfied: defusedxml in /root/sitkpy/lib/python3.7/site-packages (from nbconvert->notebook>=4.4.1->widgetsnbextension~=3.5.0->ipywidgets->-r /gdrive/MyDrive/SimpleITK-Notebooks/Python/requirements.txt (line 4)) (0.6.0)\n",
            "Requirement already satisfied: mistune<2,>=0.8.1 in /root/sitkpy/lib/python3.7/site-packages (from nbconvert->notebook>=4.4.1->widgetsnbextension~=3.5.0->ipywidgets->-r /gdrive/MyDrive/SimpleITK-Notebooks/Python/requirements.txt (line 4)) (0.8.4)\n",
            "Requirement already satisfied: nest-asyncio in /root/sitkpy/lib/python3.7/site-packages (from nbclient<0.6.0,>=0.5.0->nbconvert->notebook>=4.4.1->widgetsnbextension~=3.5.0->ipywidgets->-r /gdrive/MyDrive/SimpleITK-Notebooks/Python/requirements.txt (line 4)) (1.5.1)\n",
            "Requirement already satisfied: async-generator in /root/sitkpy/lib/python3.7/site-packages (from nbclient<0.6.0,>=0.5.0->nbconvert->notebook>=4.4.1->widgetsnbextension~=3.5.0->ipywidgets->-r /gdrive/MyDrive/SimpleITK-Notebooks/Python/requirements.txt (line 4)) (1.10)\n",
            "Requirement already satisfied: packaging in /root/sitkpy/lib/python3.7/site-packages (from bleach->nbconvert->notebook>=4.4.1->widgetsnbextension~=3.5.0->ipywidgets->-r /gdrive/MyDrive/SimpleITK-Notebooks/Python/requirements.txt (line 4)) (20.9)\n",
            "Requirement already satisfied: webencodings in /root/sitkpy/lib/python3.7/site-packages (from bleach->nbconvert->notebook>=4.4.1->widgetsnbextension~=3.5.0->ipywidgets->-r /gdrive/MyDrive/SimpleITK-Notebooks/Python/requirements.txt (line 4)) (0.5.1)\n",
            "Requirement already satisfied: qtpy in /root/sitkpy/lib/python3.7/site-packages (from qtconsole->jupyter->-r /gdrive/MyDrive/SimpleITK-Notebooks/Python/requirements.txt (line 2)) (1.9.0)\n"
          ],
          "name": "stdout"
        }
      ]
    },
    {
      "cell_type": "code",
      "metadata": {
        "colab": {
          "base_uri": "https://localhost:8080/"
        },
        "id": "GZbVnixSd1YB",
        "outputId": "d915e5e0-8b1c-4a2c-e847-fe9f18c5093f"
      },
      "source": [
        "pip install SimpleITK"
      ],
      "execution_count": null,
      "outputs": [
        {
          "output_type": "stream",
          "text": [
            "Requirement already satisfied: SimpleITK in /usr/local/lib/python3.7/dist-packages (2.0.2)\n"
          ],
          "name": "stdout"
        }
      ]
    },
    {
      "cell_type": "code",
      "metadata": {
        "colab": {
          "base_uri": "https://localhost:8080/"
        },
        "id": "orkwOiFIeBmV",
        "outputId": "591b3368-ba16-4f5b-f1c7-ea19bcfd0cf9"
      },
      "source": [
        "pip install ipywidgets"
      ],
      "execution_count": null,
      "outputs": [
        {
          "output_type": "stream",
          "text": [
            "Requirement already satisfied: ipywidgets in /usr/local/lib/python3.7/dist-packages (7.6.3)\n",
            "Requirement already satisfied: ipython>=4.0.0; python_version >= \"3.3\" in /usr/local/lib/python3.7/dist-packages (from ipywidgets) (5.5.0)\n",
            "Requirement already satisfied: jupyterlab-widgets>=1.0.0; python_version >= \"3.6\" in /usr/local/lib/python3.7/dist-packages (from ipywidgets) (1.0.0)\n",
            "Requirement already satisfied: nbformat>=4.2.0 in /usr/local/lib/python3.7/dist-packages (from ipywidgets) (5.1.2)\n",
            "Requirement already satisfied: ipykernel>=4.5.1 in /usr/local/lib/python3.7/dist-packages (from ipywidgets) (4.10.1)\n",
            "Requirement already satisfied: traitlets>=4.3.1 in /usr/local/lib/python3.7/dist-packages (from ipywidgets) (5.0.5)\n",
            "Requirement already satisfied: widgetsnbextension~=3.5.0 in /usr/local/lib/python3.7/dist-packages (from ipywidgets) (3.5.1)\n",
            "Requirement already satisfied: setuptools>=18.5 in /usr/local/lib/python3.7/dist-packages (from ipython>=4.0.0; python_version >= \"3.3\"->ipywidgets) (53.0.0)\n",
            "Requirement already satisfied: pexpect; sys_platform != \"win32\" in /usr/local/lib/python3.7/dist-packages (from ipython>=4.0.0; python_version >= \"3.3\"->ipywidgets) (4.8.0)\n",
            "Requirement already satisfied: prompt-toolkit<2.0.0,>=1.0.4 in /usr/local/lib/python3.7/dist-packages (from ipython>=4.0.0; python_version >= \"3.3\"->ipywidgets) (1.0.18)\n",
            "Requirement already satisfied: pickleshare in /usr/local/lib/python3.7/dist-packages (from ipython>=4.0.0; python_version >= \"3.3\"->ipywidgets) (0.7.5)\n",
            "Requirement already satisfied: simplegeneric>0.8 in /usr/local/lib/python3.7/dist-packages (from ipython>=4.0.0; python_version >= \"3.3\"->ipywidgets) (0.8.1)\n",
            "Requirement already satisfied: decorator in /usr/local/lib/python3.7/dist-packages (from ipython>=4.0.0; python_version >= \"3.3\"->ipywidgets) (4.4.2)\n",
            "Requirement already satisfied: pygments in /usr/local/lib/python3.7/dist-packages (from ipython>=4.0.0; python_version >= \"3.3\"->ipywidgets) (2.6.1)\n",
            "Requirement already satisfied: jupyter-core in /usr/local/lib/python3.7/dist-packages (from nbformat>=4.2.0->ipywidgets) (4.7.1)\n",
            "Requirement already satisfied: ipython-genutils in /usr/local/lib/python3.7/dist-packages (from nbformat>=4.2.0->ipywidgets) (0.2.0)\n",
            "Requirement already satisfied: jsonschema!=2.5.0,>=2.4 in /usr/local/lib/python3.7/dist-packages (from nbformat>=4.2.0->ipywidgets) (2.6.0)\n",
            "Requirement already satisfied: jupyter-client in /usr/local/lib/python3.7/dist-packages (from ipykernel>=4.5.1->ipywidgets) (5.3.5)\n",
            "Requirement already satisfied: tornado>=4.0 in /usr/local/lib/python3.7/dist-packages (from ipykernel>=4.5.1->ipywidgets) (5.1.1)\n",
            "Requirement already satisfied: notebook>=4.4.1 in /usr/local/lib/python3.7/dist-packages (from widgetsnbextension~=3.5.0->ipywidgets) (5.3.1)\n",
            "Requirement already satisfied: ptyprocess>=0.5 in /usr/local/lib/python3.7/dist-packages (from pexpect; sys_platform != \"win32\"->ipython>=4.0.0; python_version >= \"3.3\"->ipywidgets) (0.7.0)\n",
            "Requirement already satisfied: wcwidth in /usr/local/lib/python3.7/dist-packages (from prompt-toolkit<2.0.0,>=1.0.4->ipython>=4.0.0; python_version >= \"3.3\"->ipywidgets) (0.2.5)\n",
            "Requirement already satisfied: six>=1.9.0 in /usr/local/lib/python3.7/dist-packages (from prompt-toolkit<2.0.0,>=1.0.4->ipython>=4.0.0; python_version >= \"3.3\"->ipywidgets) (1.15.0)\n",
            "Requirement already satisfied: pyzmq>=13 in /usr/local/lib/python3.7/dist-packages (from jupyter-client->ipykernel>=4.5.1->ipywidgets) (22.0.3)\n",
            "Requirement already satisfied: python-dateutil>=2.1 in /usr/local/lib/python3.7/dist-packages (from jupyter-client->ipykernel>=4.5.1->ipywidgets) (2.8.1)\n",
            "Requirement already satisfied: Send2Trash in /usr/local/lib/python3.7/dist-packages (from notebook>=4.4.1->widgetsnbextension~=3.5.0->ipywidgets) (1.5.0)\n",
            "Requirement already satisfied: terminado>=0.8.1 in /usr/local/lib/python3.7/dist-packages (from notebook>=4.4.1->widgetsnbextension~=3.5.0->ipywidgets) (0.9.2)\n",
            "Requirement already satisfied: jinja2 in /usr/local/lib/python3.7/dist-packages (from notebook>=4.4.1->widgetsnbextension~=3.5.0->ipywidgets) (2.11.3)\n",
            "Requirement already satisfied: nbconvert in /usr/local/lib/python3.7/dist-packages (from notebook>=4.4.1->widgetsnbextension~=3.5.0->ipywidgets) (5.6.1)\n",
            "Requirement already satisfied: MarkupSafe>=0.23 in /usr/local/lib/python3.7/dist-packages (from jinja2->notebook>=4.4.1->widgetsnbextension~=3.5.0->ipywidgets) (1.1.1)\n",
            "Requirement already satisfied: mistune<2,>=0.8.1 in /usr/local/lib/python3.7/dist-packages (from nbconvert->notebook>=4.4.1->widgetsnbextension~=3.5.0->ipywidgets) (0.8.4)\n",
            "Requirement already satisfied: pandocfilters>=1.4.1 in /usr/local/lib/python3.7/dist-packages (from nbconvert->notebook>=4.4.1->widgetsnbextension~=3.5.0->ipywidgets) (1.4.3)\n",
            "Requirement already satisfied: entrypoints>=0.2.2 in /usr/local/lib/python3.7/dist-packages (from nbconvert->notebook>=4.4.1->widgetsnbextension~=3.5.0->ipywidgets) (0.3)\n",
            "Requirement already satisfied: defusedxml in /usr/local/lib/python3.7/dist-packages (from nbconvert->notebook>=4.4.1->widgetsnbextension~=3.5.0->ipywidgets) (0.6.0)\n",
            "Requirement already satisfied: bleach in /usr/local/lib/python3.7/dist-packages (from nbconvert->notebook>=4.4.1->widgetsnbextension~=3.5.0->ipywidgets) (3.3.0)\n",
            "Requirement already satisfied: testpath in /usr/local/lib/python3.7/dist-packages (from nbconvert->notebook>=4.4.1->widgetsnbextension~=3.5.0->ipywidgets) (0.4.4)\n",
            "Requirement already satisfied: packaging in /usr/local/lib/python3.7/dist-packages (from bleach->nbconvert->notebook>=4.4.1->widgetsnbextension~=3.5.0->ipywidgets) (20.9)\n",
            "Requirement already satisfied: webencodings in /usr/local/lib/python3.7/dist-packages (from bleach->nbconvert->notebook>=4.4.1->widgetsnbextension~=3.5.0->ipywidgets) (0.5.1)\n",
            "Requirement already satisfied: pyparsing>=2.0.2 in /usr/local/lib/python3.7/dist-packages (from packaging->bleach->nbconvert->notebook>=4.4.1->widgetsnbextension~=3.5.0->ipywidgets) (2.4.7)\n"
          ],
          "name": "stdout"
        }
      ]
    },
    {
      "cell_type": "code",
      "metadata": {
        "colab": {
          "base_uri": "https://localhost:8080/",
          "height": 84,
          "referenced_widgets": [
            "8f71d71f42284721a86df37cc95b3f4b",
            "d41efaa0bc6b451b96721ac7b63f7294",
            "5dff180e8231444596b9fa7aa3cff468",
            "fce5625e1d3c4418895dac0bdc9df8e1",
            "fcbe3166c93a4dff89f8ec86f43e24b7",
            "e40a67a875364cdda750f3315907afbe",
            "0ce5d8f029b34150854e3848ec190bbf"
          ]
        },
        "id": "RgF36aN8eE2J",
        "outputId": "3c7eb9e3-8174-4952-c374-3934e241e9b7"
      },
      "source": [
        "# this will allow the notebook to reload/refresh automatically within the runtime\r\n",
        "%reload_ext autoreload\r\n",
        "%autoreload 2\r\n",
        "\r\n",
        "from ipywidgets import interact\r\n",
        "\r\n",
        "def f(x):\r\n",
        "  return x\r\n",
        "\r\n",
        "interact(f, x=10)"
      ],
      "execution_count": null,
      "outputs": [
        {
          "output_type": "display_data",
          "data": {
            "application/vnd.jupyter.widget-view+json": {
              "model_id": "8f71d71f42284721a86df37cc95b3f4b",
              "version_minor": 0,
              "version_major": 2
            },
            "text/plain": [
              "interactive(children=(IntSlider(value=10, description='x', max=30, min=-10), Output()), _dom_classes=('widget-…"
            ]
          },
          "metadata": {
            "tags": []
          }
        },
        {
          "output_type": "execute_result",
          "data": {
            "text/plain": [
              "<function __main__.f>"
            ]
          },
          "metadata": {
            "tags": []
          },
          "execution_count": 22
        }
      ]
    },
    {
      "cell_type": "code",
      "metadata": {
        "id": "YR-HSHlSfClz"
      },
      "source": [
        "#pip install itk"
      ],
      "execution_count": null,
      "outputs": []
    },
    {
      "cell_type": "code",
      "metadata": {
        "id": "qeyk9_cUf9d3"
      },
      "source": [
        "!python '/gdrive/MyDrive/SimpleITK-Notebooks/Python/update_path_to_download_script.py'"
      ],
      "execution_count": null,
      "outputs": []
    },
    {
      "cell_type": "code",
      "metadata": {
        "colab": {
          "base_uri": "https://localhost:8080/"
        },
        "id": "w2GNa--GgkUZ",
        "outputId": "62982e43-47cd-4cf8-86b1-28c043f9ea22"
      },
      "source": [
        "cd '/gdrive/MyDrive/SimpleITK-Notebooks/Python/'"
      ],
      "execution_count": null,
      "outputs": [
        {
          "output_type": "stream",
          "text": [
            "/gdrive/MyDrive/SimpleITK-Notebooks/Python\n"
          ],
          "name": "stdout"
        }
      ]
    },
    {
      "cell_type": "code",
      "metadata": {
        "colab": {
          "base_uri": "https://localhost:8080/"
        },
        "id": "z15LpuD9fh-u",
        "outputId": "c7c5387d-718a-4d9d-cfb1-38e5359bff76"
      },
      "source": [
        "import SimpleITK as sitk\r\n",
        "\r\n",
        "%run update_path_to_download_script\r\n",
        "from downloaddata import fetch_data, fetch_data_all\r\n",
        "\r\n",
        "from ipywidgets import interact\r\n",
        "\r\n",
        "print(sitk.Version())"
      ],
      "execution_count": null,
      "outputs": [
        {
          "output_type": "stream",
          "text": [
            "SimpleITK Version: 2.0.2 (ITK 5.1)\n",
            "Compiled: Dec  1 2020 22:01:03\n",
            "\n"
          ],
          "name": "stdout"
        }
      ]
    },
    {
      "cell_type": "code",
      "metadata": {
        "id": "NnDIpG5zc1EO"
      },
      "source": [
        "#import SimpleITK as sitk\n",
        "\n",
        "import numpy as np\n",
        "import os\n",
        "from ipywidgets import interact, fixed\n",
        "\n",
        "%matplotlib inline\n",
        "import matplotlib.pyplot as plt\n",
        "\n",
        "from downloaddata import fetch_data as fdata\n",
        "\n",
        "OUTPUT_DIR = 'output'\n",
        "\n",
        "image_viewer = sitk.ImageViewer()"
      ],
      "execution_count": null,
      "outputs": []
    },
    {
      "cell_type": "code",
      "metadata": {
        "colab": {
          "base_uri": "https://localhost:8080/"
        },
        "id": "Sjh10OyWhXG4",
        "outputId": "41595202-1233-4e8b-b026-3c54587b93a2"
      },
      "source": [
        "%cd '/gdrive/MyDrive/'\r\n",
        "%ls"
      ],
      "execution_count": null,
      "outputs": [
        {
          "output_type": "stream",
          "text": [
            "/gdrive/MyDrive\n",
            "\u001b[0m\u001b[01;34m'Colab Notebooks'\u001b[0m/                      \u001b[01;34mSimpleITK_ISBI2020_TUTORIAL\u001b[0m/\n",
            " \u001b[01;34mFiji.app\u001b[0m/                              SimpleITK.jpg\n",
            " fiji-linux64-20170530.zip              \u001b[01;34mSimpleITK-Notebooks\u001b[0m/\n",
            " \u001b[01;34mMyNiftyRec\u001b[0m/                            unnamed.png\n",
            " \u001b[01;34mMyTomoLab\u001b[0m/                            'Untitled project.gscript'\n",
            " pyjnius-1.2.0-py37h90b5fae_0.tar.bz2\n"
          ],
          "name": "stdout"
        }
      ]
    },
    {
      "cell_type": "code",
      "metadata": {
        "colab": {
          "base_uri": "https://localhost:8080/",
          "height": 35
        },
        "id": "wW8k4-Ux_z6O",
        "outputId": "f8f2df44-2c1f-4833-9e92-65c883b4eedb"
      },
      "source": [
        "import os\r\n",
        "import shutil\r\n",
        "\r\n",
        "# Move a file from the directory d1 to d2\r\n",
        "shutil.copy('/gdrive/MyDrive/fiji-linux64-20170530.zip', '/usr/local/fiji-linux64-20170530.zip')"
      ],
      "execution_count": null,
      "outputs": [
        {
          "output_type": "execute_result",
          "data": {
            "application/vnd.google.colaboratory.intrinsic+json": {
              "type": "string"
            },
            "text/plain": [
              "'/usr/local/fiji-linux64-20170530.zip'"
            ]
          },
          "metadata": {
            "tags": []
          },
          "execution_count": 14
        }
      ]
    },
    {
      "cell_type": "code",
      "metadata": {
        "colab": {
          "base_uri": "https://localhost:8080/"
        },
        "id": "KujzqAVJB6UC",
        "outputId": "027f8edb-d76a-4081-9b3a-7243a2acd963"
      },
      "source": [
        "cd /usr/local/"
      ],
      "execution_count": null,
      "outputs": [
        {
          "output_type": "stream",
          "text": [
            "/usr/local\n"
          ],
          "name": "stdout"
        }
      ]
    },
    {
      "cell_type": "code",
      "metadata": {
        "colab": {
          "base_uri": "https://localhost:8080/"
        },
        "id": "D9gTyylthNBV",
        "outputId": "be6483cd-7816-472d-912c-935cedb98253"
      },
      "source": [
        "!unzip fiji-linux64-20170530.zip"
      ],
      "execution_count": null,
      "outputs": [
        {
          "output_type": "stream",
          "text": [
            "Archive:  fiji-linux64-20170530.zip\n",
            "replace Fiji.app/db.xml.gz? [y]es, [n]o, [A]ll, [N]one, [r]ename: None\n"
          ],
          "name": "stdout"
        }
      ]
    },
    {
      "cell_type": "code",
      "metadata": {
        "colab": {
          "base_uri": "https://localhost:8080/"
        },
        "id": "-lMjJyQAEzYZ",
        "outputId": "11067b17-3300-4a23-b7e8-159aaf7f632a"
      },
      "source": [
        "%ls /usr/local/Fiji.app/"
      ],
      "execution_count": null,
      "outputs": [
        {
          "output_type": "stream",
          "text": [
            "\u001b[0m\u001b[01;34mContents\u001b[0m/  \u001b[01;32mImageJ-linux64\u001b[0m*  \u001b[01;34mjars\u001b[0m/  \u001b[01;34mluts\u001b[0m/    \u001b[01;34mplugins\u001b[0m/   \u001b[01;34mretro\u001b[0m/    WELCOME.md\n",
            "db.xml.gz  \u001b[01;34mimages\u001b[0m/          \u001b[01;34mjava\u001b[0m/  \u001b[01;34mmacros\u001b[0m/  README.md  \u001b[01;34mscripts\u001b[0m/\n"
          ],
          "name": "stdout"
        }
      ]
    },
    {
      "cell_type": "code",
      "metadata": {
        "colab": {
          "base_uri": "https://localhost:8080/"
        },
        "id": "dlfiMXioJFs8",
        "outputId": "e787a663-5ccf-4aee-81aa-8e7920631801"
      },
      "source": [
        "cd '/gdrive/MyDrive/SimpleITK-Notebooks/Python/'"
      ],
      "execution_count": null,
      "outputs": [
        {
          "output_type": "stream",
          "text": [
            "/gdrive/MyDrive/SimpleITK-Notebooks/Python\n"
          ],
          "name": "stdout"
        }
      ]
    },
    {
      "cell_type": "code",
      "metadata": {
        "colab": {
          "base_uri": "https://localhost:8080/"
        },
        "id": "i6dsCZMlJkm5",
        "outputId": "f8fc5b73-2c20-493a-cd71-4f87a72b51b9"
      },
      "source": [
        "%ls"
      ],
      "execution_count": null,
      "outputs": [
        {
          "output_type": "stream",
          "text": [
            " 00_Setup.ipynb\n",
            " 01_Image_Basics.ipynb\n",
            " 02_Pythonic_Image.ipynb\n",
            " 03_Image_Details.ipynb\n",
            " 04_Image_Display.ipynb\n",
            " 05_Results_Visualization.ipynb\n",
            "\"10_matplotlib's_imshow.ipynb\"\n",
            " 11_Progress.ipynb\n",
            " 20_Expand_With_Interpolators.ipynb\n",
            " 21_Transforms_and_Resampling.ipynb\n",
            " 22_Transforms.ipynb\n",
            " 300_Segmentation_Overview.ipynb\n",
            " 30_Segmentation_Region_Growing.ipynb\n",
            " 31_Levelset_Segmentation.ipynb\n",
            " 32_Watersheds_Segmentation.ipynb\n",
            " 33_Segmentation_Thresholding_Edge_Detection.ipynb\n",
            " 34_Segmentation_Evaluation.ipynb\n",
            " 35_Segmentation_Shape_Analysis.ipynb\n",
            " 36_Microscopy_Colocalization_Distance_Analysis.ipynb\n",
            " 51_VH_Segmentation1.ipynb\n",
            " 55_VH_Resample.ipynb\n",
            " 56_VH_Registration1.ipynb\n",
            " 60_Registration_Introduction.ipynb\n",
            " 61_Registration_Introduction_Continued.ipynb\n",
            " 62_Registration_Tuning.ipynb\n",
            " 63_Registration_Initialization.ipynb\n",
            " 64_Registration_Memory_Time_Tradeoff.ipynb\n",
            " 65_Registration_FFD.ipynb\n",
            " 66_Registration_Demons.ipynb\n",
            " 67_Registration_Semiautomatic_Homework.ipynb\n",
            " 68_Registration_Errors.ipynb\n",
            " 69_x-ray-panorama.ipynb\n",
            " 70_Data_Augmentation.ipynb\n",
            " 71_Trust_But_Verify.ipynb\n",
            " characterize_data.py\n",
            " environment.yml\n",
            " fle.svg\n",
            " gui.py\n",
            " hkaAngle.png\n",
            " ImageOriginAndSpacing.png\n",
            " ITKv4RegistrationComponentsDiagram.svg\n",
            " knobs.jpg\n",
            " myshow.py\n",
            " \u001b[0m\u001b[01;34mOutput\u001b[0m/\n",
            " popi_utilities_setup.py\n",
            " pyjnius-1.2.0-py37h90b5fae_0.tar.bz2\n",
            " README.md\n",
            " registration_callbacks.py\n",
            " registration_utilities.py\n",
            " requirements.txt\n",
            " resampling.svg\n",
            " setup_for_testing.py\n",
            " update_path_to_download_script.py\n"
          ],
          "name": "stdout"
        }
      ]
    },
    {
      "cell_type": "code",
      "metadata": {
        "colab": {
          "base_uri": "https://localhost:8080/"
        },
        "id": "dIPYoS96Jsdy",
        "outputId": "3ad672aa-b261-4ec0-8ef8-22bc1b26647d"
      },
      "source": [
        "print('./README.md')"
      ],
      "execution_count": null,
      "outputs": [
        {
          "output_type": "stream",
          "text": [
            "./README.md\n"
          ],
          "name": "stdout"
        }
      ]
    },
    {
      "cell_type": "code",
      "metadata": {
        "id": "agXGAF_AhvtM"
      },
      "source": [
        "# Uncomment the line below to change the default external viewer to your viewer of choice and test that it works.\r\n",
        "#%env SITK_SHOW_COMMAND /Applications/ITK-SNAP.app/Contents/MacOS/ITK-SNAP \r\n",
        "#%env SITK_SHOW_COMMAND  /gdrive/MyDrive/Fiji.app/ImageJ-linux64\r\n",
        "%env SITK_SHOW_COMMAND  /usr/local/Fiji.app/\r\n",
        "\r\n",
        "# Retrieve an image from the network, read it and display using the external viewer. \r\n",
        "# The show method will also set the display window's title and by setting debugOn to True, \r\n",
        "# will also print information with respect to the command it is attempting to invoke.\r\n",
        "# NOTE: The debug information is printed to the terminal from which you launched the notebook\r\n",
        "#       server."
      ],
      "execution_count": null,
      "outputs": []
    },
    {
      "cell_type": "code",
      "metadata": {
        "id": "ctvLNdr1CSkb"
      },
      "source": [
        "image_viewer.SetApplication('/usr/local/Fiji.app/ImageJ-linux64')"
      ],
      "execution_count": null,
      "outputs": []
    },
    {
      "cell_type": "code",
      "metadata": {
        "id": "QpgJq8KECzOI"
      },
      "source": [
        "%ls /gdrive/MyDrive/SimpleITK_ISBI2020_TUTORIAL/"
      ],
      "execution_count": null,
      "outputs": []
    },
    {
      "cell_type": "code",
      "metadata": {
        "id": "h1gzSmoPxmPQ"
      },
      "source": [
        "%cd /gdrive/MyDrive/SimpleITK_ISBI2020_TUTORIAL"
      ],
      "execution_count": null,
      "outputs": []
    },
    {
      "cell_type": "code",
      "metadata": {
        "id": "gPC9wsUADFUu"
      },
      "source": [
        "%ls"
      ],
      "execution_count": null,
      "outputs": []
    },
    {
      "cell_type": "code",
      "metadata": {
        "id": "Em3oZiGkiAQH"
      },
      "source": [
        "pip install itk"
      ],
      "execution_count": null,
      "outputs": []
    },
    {
      "cell_type": "code",
      "metadata": {
        "id": "jslY-i6EipUH"
      },
      "source": [
        "import sys\r\n",
        "import SimpleITK as sitk"
      ],
      "execution_count": null,
      "outputs": []
    },
    {
      "cell_type": "code",
      "metadata": {
        "id": "1yHaLI7OjdId"
      },
      "source": [
        "%ls '/usr/local/Fiji.app/'"
      ],
      "execution_count": null,
      "outputs": []
    },
    {
      "cell_type": "code",
      "metadata": {
        "id": "MmcQFhgElUJl"
      },
      "source": [
        "image_viewer = sitk.ImageViewer()"
      ],
      "execution_count": null,
      "outputs": []
    },
    {
      "cell_type": "code",
      "metadata": {
        "id": "vc-DVyJfnpTl"
      },
      "source": [
        "image_viewer.SetApplication('/usr/local/Fiji.app/ImageJ-linux64')"
      ],
      "execution_count": null,
      "outputs": []
    },
    {
      "cell_type": "code",
      "metadata": {
        "id": "kP696kDroExu"
      },
      "source": [
        "import os\r\n",
        "#os.environ['PYTHONPATH'] += \":/content/gdrive/My Drive/Colab Notebooks/MNIST_Classifier/src\"\r\n",
        "os.environ['PATH'] += \":/usr/local/Fiji.app\"\r\n",
        "! echo $PATH"
      ],
      "execution_count": null,
      "outputs": []
    },
    {
      "cell_type": "code",
      "metadata": {
        "id": "GJuBVNmbqXKl"
      },
      "source": [
        "import os\r\n",
        "#os.environ['PYTHONPATH'] += \":/content/gdrive/My Drive/Colab Notebooks/MNIST_Classifier/src\"\r\n",
        "os.environ['PATH'] += \":/gdrive/MyDrive/Fiji.app/\"\r\n",
        "! echo $PATH"
      ],
      "execution_count": null,
      "outputs": []
    },
    {
      "cell_type": "code",
      "metadata": {
        "id": "X4EAhrle-OO9"
      },
      "source": [
        "%ls /usr/local/Fiji.app"
      ],
      "execution_count": null,
      "outputs": []
    },
    {
      "cell_type": "markdown",
      "metadata": {
        "id": "6Y5ZucBgc1EO"
      },
      "source": [
        "## Image Creation\n",
        "\n",
        "The following components are required for a complete definition of an image:\n",
        "<ol>\n",
        "<li>Pixel type [fixed on creation, no default]: unsigned 32 bit integer, sitkVectorUInt8, etc., see list above.</li>\n",
        "<li> Sizes [fixed on creation, no default]: number of pixels/voxels in each dimension. This quantity implicitly defines the image dimension.</li>\n",
        "<li> Origin [default is zero]: coordinates of the pixel/voxel with index (0,0,0) in physical units (i.e. mm).</li>\n",
        "<li> Spacing [default is one]: Distance between adjacent pixels/voxels in each dimension given in physical units.</li>\n",
        "<li> Direction matrix [default is identity]: mapping, rotation, between direction of the pixel/voxel axes and physical directions.</li>\n",
        "</ol>\n",
        "\n",
        "Initial pixel/voxel values are set to zero."
      ]
    },
    {
      "cell_type": "code",
      "metadata": {
        "id": "xauHSbUHxRr_"
      },
      "source": [
        "grid_image = sitk.GridSource(outputPixelType=sitk.sitkUInt16, size=(512,512),\r\n",
        "                             sigma=(0.1,0.1), gridSpacing=(20.0,20.0))\r\n",
        "\r\n"
      ],
      "execution_count": null,
      "outputs": []
    },
    {
      "cell_type": "code",
      "metadata": {
        "id": "k1B7tt-zy37k"
      },
      "source": [
        "sitk.Show(grid_image, debugOn=True)"
      ],
      "execution_count": null,
      "outputs": []
    },
    {
      "cell_type": "code",
      "metadata": {
        "id": "KJAkzuvXxT3T"
      },
      "source": [
        "# Procedural interface, using the default image viewer (Fiji/ImageJ) or\r\n",
        "# any viewer specified by the SITK_SHOW_COMMAND environment variable.\r\n",
        "sitk.Show(grid_image, title = \"grid using Show function\", debugOn = True)"
      ],
      "execution_count": null,
      "outputs": []
    },
    {
      "cell_type": "code",
      "metadata": {
        "id": "bNeQmEUsm3ld"
      },
      "source": [
        "sitk.Show(sitk.Image(64, 64, sitk.sitkFloat32), 'sample image', debugOn=True)"
      ],
      "execution_count": null,
      "outputs": []
    },
    {
      "cell_type": "code",
      "metadata": {
        "simpleitk_error_allowed": "Exception thrown in SimpleITK ImageViewer_Execute:",
        "id": "2Z_89nthc1EO"
      },
      "source": [
        "image_3D = sitk.Image(256, 128, 64, sitk.sitkInt16)\n",
        "image_2D = sitk.Image(64, 64, sitk.sitkFloat32)\n",
        "image_RGB = sitk.Image([128,64], sitk.sitkVectorUInt8, 3)\n",
        "\n",
        "image_viewer.Execute(image_3D)\n",
        "image_viewer.Execute(image_RGB)"
      ],
      "execution_count": null,
      "outputs": []
    },
    {
      "cell_type": "markdown",
      "metadata": {
        "collapsed": true,
        "id": "l5XP_2cYc1EP"
      },
      "source": [
        "Or, creation from file."
      ]
    },
    {
      "cell_type": "code",
      "metadata": {
        "id": "pofpbndgc1EP"
      },
      "source": [
        "logo = sitk.ReadImage(fdata('SimpleITK.jpg'))\n",
        "\n",
        "# GetArrayViewFromImage returns an immutable numpy array view to the data.\n",
        "plt.imshow(sitk.GetArrayViewFromImage(logo))\n",
        "plt.axis('off');"
      ],
      "execution_count": null,
      "outputs": []
    },
    {
      "cell_type": "markdown",
      "metadata": {
        "id": "r8mKKrqPc1EP"
      },
      "source": [
        "## Basic Image Attributes (Meta-Data)\n",
        "\n",
        "You can change the image origin, spacing and direction. Making such changes to an image already containing data should be done cautiously. "
      ]
    },
    {
      "cell_type": "code",
      "metadata": {
        "id": "4XPl5Itlc1EQ"
      },
      "source": [
        "selected_image = image_3D\n",
        "print('Before modification:')\n",
        "print('origin: ' + str(selected_image.GetOrigin()))\n",
        "print('size: ' + str(selected_image.GetSize()))\n",
        "print('spacing: ' + str(selected_image.GetSpacing()))\n",
        "print('direction: ' + str(selected_image.GetDirection()))\n",
        "print('pixel type: ' + str(selected_image.GetPixelIDTypeAsString()))\n",
        "print('number of pixel components: ' + str(selected_image.GetNumberOfComponentsPerPixel()))\n",
        "\n",
        "selected_image.SetOrigin((78.0, 76.0, 77.0))\n",
        "selected_image.SetSpacing([0.5,0.5,3.0])\n",
        "\n",
        "print('\\nAfter modification:')\n",
        "print('origin: ' + str(selected_image.GetOrigin()))\n",
        "print('spacing: ' + str(selected_image.GetSpacing()))"
      ],
      "execution_count": null,
      "outputs": []
    },
    {
      "cell_type": "markdown",
      "metadata": {
        "id": "SDMikugrc1EQ"
      },
      "source": [
        "## Accessing Pixels and Slicing\n",
        "\n",
        "Either use the ``GetPixel`` and ``SetPixel`` functions or the Pythonic slicing operator. The access functions and image slicing operator are in [x,y,z] order."
      ]
    },
    {
      "cell_type": "code",
      "metadata": {
        "id": "PwMc8yv7c1EQ"
      },
      "source": [
        "print(image_3D.GetPixel(0, 0, 0))\n",
        "image_3D.SetPixel(0, 0, 0, 1)\n",
        "print(image_3D.GetPixel(0, 0, 0))\n",
        "\n",
        "# This can also be done using Pythonic notation.\n",
        "print(image_3D[0,0,1])\n",
        "image_3D[0,0,1] = 2\n",
        "print(image_3D[0,0,1])"
      ],
      "execution_count": null,
      "outputs": []
    },
    {
      "cell_type": "code",
      "metadata": {
        "id": "p6jDe00Ec1ER"
      },
      "source": [
        "# Brute force sub-sampling \n",
        "logo_subsampled = logo[::2,::2]\n",
        "\n",
        "# Get the sub-image containing the word Simple\n",
        "simple = logo[0:115,:]\n",
        "\n",
        "# Get the sub-image containing the word Simple and flip it\n",
        "simple_flipped = logo[115:0:-1,:]\n",
        "\n",
        "n = 4\n",
        "\n",
        "plt.subplot(n,1,1)\n",
        "plt.imshow(sitk.GetArrayViewFromImage(logo))\n",
        "plt.axis('off');\n",
        "\n",
        "plt.subplot(n,1,2)\n",
        "plt.imshow(sitk.GetArrayViewFromImage(logo_subsampled))\n",
        "plt.axis('off');\n",
        "\n",
        "plt.subplot(n,1,3)\n",
        "plt.imshow(sitk.GetArrayViewFromImage(simple))\n",
        "plt.axis('off')\n",
        "\n",
        "plt.subplot(n,1,4)\n",
        "plt.imshow(sitk.GetArrayViewFromImage(simple_flipped))\n",
        "plt.axis('off');"
      ],
      "execution_count": null,
      "outputs": []
    },
    {
      "cell_type": "markdown",
      "metadata": {
        "id": "YZfhpSvgc1ER"
      },
      "source": [
        "## Image operations\n",
        "\n",
        "SimpleITK supports basic arithmetic operations between images while taking into account their meta-data. Images must physically overlap (pixel by pixel).\n",
        "\n",
        "How close do physical attributes (meta-data values) need to be in order to be considered equivalent?"
      ]
    },
    {
      "cell_type": "code",
      "metadata": {
        "id": "zQHq3rPkc1ER"
      },
      "source": [
        "img_width = 128\n",
        "img_height = 64\n",
        "img1 = sitk.Image((img_width, img_height), sitk.sitkUInt8)\n",
        "for i in range(img_width):\n",
        "    img1[i,1] = 5\n",
        "\n",
        "img2 = sitk.Image(img1.GetSize(), sitk.sitkUInt8)\n",
        "#img2.SetDirection([0,1,0.5,0.5])\n",
        "img2.SetOrigin([0.000001,0.000001])\n",
        "for i in range(img_width):\n",
        "    img2[i,1] = 120\n",
        "    img2[i,img_height//2] = 60\n",
        "\n",
        "# Add the two images (upper line has a value of 125, and lower of 60) \n",
        "img3 = img1 + img2\n",
        "\n",
        "plt.imshow(sitk.GetArrayViewFromImage(img3), cmap=plt.cm.Greys_r)\n",
        "plt.axis('off');"
      ],
      "execution_count": null,
      "outputs": []
    },
    {
      "cell_type": "markdown",
      "metadata": {
        "id": "m-XZpz-Qc1ER"
      },
      "source": [
        "Comparative operators (&gt;, &gt;=, &lt;, &lt;=, ==) are also supported, returning binary images."
      ]
    },
    {
      "cell_type": "code",
      "metadata": {
        "id": "GVJDnzH5c1ES"
      },
      "source": [
        "thresholded_image = img3>50\n",
        "plt.imshow(sitk.GetArrayViewFromImage(thresholded_image), cmap=plt.cm.Greys_r)\n",
        "plt.axis('off');"
      ],
      "execution_count": null,
      "outputs": []
    },
    {
      "cell_type": "markdown",
      "metadata": {
        "id": "Ga9-8aFMc1ES"
      },
      "source": [
        "## SimpleITK2Numpy and Numpy2SimpleITK\n",
        "\n",
        "SimpleITK and numpy indexing access is in opposite order! \n",
        "\n",
        "SimpleITK: image[x,y,z]<br>\n",
        "numpy: image_numpy_array[z,y,x]\n",
        "\n",
        "### SimpleITK2Numpy\n",
        "\n",
        "1. ```GetArrayFromImage()```: returns a copy of the image data. You can then freely modify the data as it has no effect on the original SimpleITK image.\n",
        "2. ```GetArrayViewFromImage()```: returns a view on the image data which is useful for display in a memory efficient manner. You cannot modify the data and __the view will be invalid if the original SimpleITK image is deleted__.\n",
        "\n",
        "### Numpy2SimpleITK\n",
        "1. ```GetImageFromArray()```: returns a SimpleITK image with origin set to zero, spacing set to one for all dimensions, and the direction cosine matrix set to identity. Intensity data is copied from the numpy array. __In most cases you will need to set appropriate meta-data values.__ \n"
      ]
    },
    {
      "cell_type": "code",
      "metadata": {
        "id": "Sa1K4f2Ec1ES"
      },
      "source": [
        "nda = sitk.GetArrayFromImage(image_3D)\n",
        "print(image_3D.GetSize())\n",
        "print(nda.shape)\n",
        "\n",
        "nda = sitk.GetArrayFromImage(image_RGB)\n",
        "print(image_RGB.GetSize())\n",
        "print(nda.shape)"
      ],
      "execution_count": null,
      "outputs": []
    },
    {
      "cell_type": "code",
      "metadata": {
        "id": "Kkt32Xglc1ES"
      },
      "source": [
        "gabor_image = sitk.GaborSource(size=[64,64], frequency=.03)\n",
        "# Getting a numpy array view on the image data doesn't copy the data\n",
        "nda_view = sitk.GetArrayViewFromImage(gabor_image)\n",
        "plt.imshow(nda_view, cmap=plt.cm.Greys_r)\n",
        "plt.axis('off');"
      ],
      "execution_count": null,
      "outputs": []
    },
    {
      "cell_type": "code",
      "metadata": {
        "id": "RmpczT3Nc1ET"
      },
      "source": [
        "nda = np.zeros((10,20,3))\n",
        "\n",
        "        #if this is supposed to be a 3D gray scale image [x=3, y=20, z=10]\n",
        "img = sitk.GetImageFromArray(nda)\n",
        "print(img.GetSize())\n",
        "\n",
        "      #if this is supposed to be a 2D color image [x=20,y=10]\n",
        "img = sitk.GetImageFromArray(nda, isVector=True)\n",
        "print(img.GetSize())"
      ],
      "execution_count": null,
      "outputs": []
    },
    {
      "cell_type": "markdown",
      "metadata": {
        "id": "CfhyyVsHc1ET"
      },
      "source": [
        "## Reading and Writing\n",
        "\n",
        "SimpleITK can read and write images stored in a single file, or a set of files (e.g. DICOM series). The toolkit provides both an object oriented and a procedural interface. The primary difference being that the object oriented approach provides more control while the procedural interface is more convenient.\n",
        "\n",
        "We look at DICOM images as an example illustrating this difference. Images stored in the DICOM format have a meta-data dictionary associated with them, which is populated with the DICOM tags. When a DICOM image series is read as a single image volume, the resulting image's meta-data dictionary is not populated since DICOM tags are specific to each of the files in the series. If you use the procedural method for reading the series then you do not have access to the set of meta-data dictionaries associated with each of the files. To obtain each dictionary you will have to access each of the files separately. On the other hand, if you use the object oriented interface, the set of dictionaries will be accessible from the ```ImageSeriesReader``` which you used to read the DICOM series. The meta-data dictionary for each file is available using the <a href=\"https://itk.org/SimpleITKDoxygen/html/classitk_1_1simple_1_1ImageSeriesReader.html#a337b19b6bc101f5571455afb46514b6d\">HasMetaDataKey</a> and <a href=\"https://itk.org/SimpleITKDoxygen/html/classitk_1_1simple_1_1ImageSeriesReader.html#a19995f33b86c60e2ae4878cb4d8c30ee\">GetMetaData</a> methods. \n",
        "\n",
        "We start with reading and writing an image using the procedural interface."
      ]
    },
    {
      "cell_type": "code",
      "metadata": {
        "id": "ivtkfS3qc1ET"
      },
      "source": [
        "img = sitk.ReadImage(fdata('SimpleITK.jpg'))\n",
        "sitk.WriteImage(img, os.path.join(OUTPUT_DIR, 'SimpleITK.png'))"
      ],
      "execution_count": null,
      "outputs": []
    },
    {
      "cell_type": "markdown",
      "metadata": {
        "id": "QiiN0heNc1ET"
      },
      "source": [
        "Read an image in JPEG format and cast the pixel type according to user selection."
      ]
    },
    {
      "cell_type": "code",
      "metadata": {
        "id": "3M7WBPsLc1ET"
      },
      "source": [
        "# Several pixel types, some make sense in this case (vector types) and some are just show\n",
        "# that the user's choice will force the pixel type even when it doesn't make sense.\n",
        "pixel_types = { 'sitkVectorUInt8' : sitk.sitkVectorUInt8,\n",
        "                'sitkVectorUInt16' : sitk.sitkVectorUInt16,\n",
        "                'sitkVectorFloat64' : sitk.sitkVectorFloat64}\n",
        "\n",
        "def pixel_type_dropdown_callback(pixel_type, pixel_types_dict):\n",
        "    #specify the file location and the pixel type we want\n",
        "    img = sitk.ReadImage(fdata('SimpleITK.jpg'), pixel_types_dict[pixel_type])\n",
        "    \n",
        "    print(img.GetPixelIDTypeAsString())\n",
        "    print(img[0,0])\n",
        "    plt.imshow(sitk.GetArrayViewFromImage(img))\n",
        "    plt.axis('off')\n",
        " \n",
        "interact(pixel_type_dropdown_callback, pixel_type=list(pixel_types.keys()), pixel_types_dict=fixed(pixel_types));     "
      ],
      "execution_count": null,
      "outputs": []
    },
    {
      "cell_type": "markdown",
      "metadata": {
        "id": "aaeSXmnIc1EU"
      },
      "source": [
        "Read a DICOM series and write it as a single mha file."
      ]
    },
    {
      "cell_type": "code",
      "metadata": {
        "id": "Nk9753u2c1EU"
      },
      "source": [
        "data_directory = os.path.dirname(fdata(\"CIRS057A_MR_CT_DICOM/readme.txt\"))\n",
        "series_ID = '1.2.840.113619.2.290.3.3233817346.783.1399004564.515'\n",
        "\n",
        "# Use the functional interface to read the image series.\n",
        "original_image = sitk.ReadImage(sitk.ImageSeriesReader_GetGDCMSeriesFileNames(data_directory,series_ID))\n",
        "\n",
        "# Write the image.\n",
        "output_file_name_3D = os.path.join(OUTPUT_DIR, '3DImage.mha')\n",
        "sitk.WriteImage(original_image, output_file_name_3D)"
      ],
      "execution_count": null,
      "outputs": []
    },
    {
      "cell_type": "markdown",
      "metadata": {
        "id": "HwGzT3mQc1EU"
      },
      "source": [
        "Select a specific DICOM series from a directory and only then load user selection."
      ]
    },
    {
      "cell_type": "code",
      "metadata": {
        "id": "xka97ZKpc1EU"
      },
      "source": [
        "data_directory = os.path.dirname(fdata(\"CIRS057A_MR_CT_DICOM/readme.txt\"))\n",
        "# Global variable 'selected_series' is updated by the interact function\n",
        "selected_series = ''\n",
        "file_reader = sitk.ImageFileReader()\n",
        "def DICOM_series_dropdown_callback(series_to_load, series_dictionary):\n",
        "    global selected_series\n",
        "               # Print some information about the series from the meta-data dictionary\n",
        "               # DICOM standard part 6, Data Dictionary: http://medical.nema.org/medical/dicom/current/output/pdf/part06.pdf\n",
        "    file_reader.SetFileName(series_dictionary[series_to_load][0])\n",
        "    file_reader.ReadImageInformation()\n",
        "    tags_to_print = {'0010|0010': 'Patient name: ', \n",
        "                     '0008|0060' : 'Modality: ',\n",
        "                     '0008|0021' : 'Series date: ',\n",
        "                     '0008|0080' : 'Institution name: ',\n",
        "                     '0008|1050' : 'Performing physician\\'s name: '}\n",
        "    for tag in tags_to_print:\n",
        "        try:\n",
        "            print(tags_to_print[tag] + file_reader.GetMetaData(tag))\n",
        "        except: # Ignore if the tag isn't in the dictionary\n",
        "            pass\n",
        "    selected_series = series_to_load                    \n",
        "\n",
        "# Directory contains multiple DICOM studies/series, store\n",
        "# in dictionary with key being the series ID\n",
        "series_file_names = {}\n",
        "series_IDs = sitk.ImageSeriesReader_GetGDCMSeriesIDs(data_directory)\n",
        "            # Check that we have at least one series\n",
        "if series_IDs:\n",
        "    for series in series_IDs:\n",
        "        series_file_names[series] = sitk.ImageSeriesReader_GetGDCMSeriesFileNames(data_directory, series)\n",
        "    \n",
        "    interact(DICOM_series_dropdown_callback, series_to_load=list(series_IDs), series_dictionary=fixed(series_file_names)); \n",
        "else:\n",
        "    print('Data directory does not contain any DICOM series.')"
      ],
      "execution_count": null,
      "outputs": []
    },
    {
      "cell_type": "code",
      "metadata": {
        "id": "mL60qNvBc1EU"
      },
      "source": [
        "img = sitk.ReadImage(series_file_names[selected_series])\n",
        "# Display the image slice from the middle of the stack, z axis\n",
        "z = img.GetDepth()//2\n",
        "plt.imshow(sitk.GetArrayViewFromImage(img)[z,:,:], cmap=plt.cm.Greys_r)\n",
        "plt.axis('off');"
      ],
      "execution_count": null,
      "outputs": []
    },
    {
      "cell_type": "markdown",
      "metadata": {
        "collapsed": true,
        "id": "eqPVCklMc1EU"
      },
      "source": [
        "Write the volume as a series of JPEGs. The WriteImage function receives a volume and a list of images names and writes the volume according to the z axis. For a displayable result we need to rescale the image intensities (default is [0,255]) since the JPEG format requires a cast to the UInt8 pixel type."
      ]
    },
    {
      "cell_type": "code",
      "metadata": {
        "id": "q3miBnvdc1EU"
      },
      "source": [
        "sitk.WriteImage(sitk.Cast(sitk.RescaleIntensity(img), sitk.sitkUInt8), \n",
        "                [os.path.join(OUTPUT_DIR, 'slice{0:03d}.jpg'.format(i)) for i in range(img.GetSize()[2])]) "
      ],
      "execution_count": null,
      "outputs": []
    },
    {
      "cell_type": "markdown",
      "metadata": {
        "id": "9j-MC-BQc1EV"
      },
      "source": [
        "### Advanced Reading\n",
        "\n",
        "SimpleITK relies on the registered ImageIO components to indicate whether they can read a file and then perform the reading. This is done automatically. You can select a specific ImageIO if multiple components can read the same format and you want to use a specific one.\n",
        "\n",
        "Additionally, some of the ImageIO components support streaming. That is, they can read a portion of the image into memory. This is useful when working with large images."
      ]
    },
    {
      "cell_type": "code",
      "metadata": {
        "simpleitk_error_expected": "Error JPEGImageIO could not open file",
        "id": "8Jv0TBOYc1EV"
      },
      "source": [
        "file_reader = sitk.ImageFileReader()\n",
        "\n",
        "# print the reader and see which ImageIO components are registered\n",
        "print('\\n',file_reader)\n",
        "\n",
        "# select the JPEG ImageIO and read\n",
        "file_reader.SetImageIO('JPEGImageIO')\n",
        "file_reader.SetFileName(fdata('SimpleITK.jpg'))\n",
        "logo = file_reader.Execute()\n",
        "\n",
        "# when the ImageIO doesn't match the image type we get an exception\n",
        "file_reader.SetFileName(fdata('training_001_ct.mha'))\n",
        "ct_head = file_reader.Execute()"
      ],
      "execution_count": null,
      "outputs": []
    },
    {
      "cell_type": "code",
      "metadata": {
        "simpleitk_error_allowed": "Exception thrown in SimpleITK ImageViewer_Execute:",
        "id": "r5OxornJc1EV"
      },
      "source": [
        "# reset the reader's behavior so that it automatically selects the ImageIO    \n",
        "file_reader.SetImageIO('')\n",
        "ct_head = file_reader.Execute()\n",
        "image_viewer.Execute(ct_head)"
      ],
      "execution_count": null,
      "outputs": []
    },
    {
      "cell_type": "markdown",
      "metadata": {
        "id": "ZQ890_0cc1EV"
      },
      "source": [
        "If our region of interest is only in the central region of the image we can just read that region."
      ]
    },
    {
      "cell_type": "code",
      "metadata": {
        "simpleitk_error_allowed": "Exception thrown in SimpleITK ImageViewer_Execute:",
        "id": "ajJyb3Y7c1EV"
      },
      "source": [
        "file_reader = sitk.ImageFileReader()\n",
        "file_reader.SetFileName(fdata('training_001_ct.mha'))\n",
        "\n",
        "# read the image information without reading the bulk data, compute ROI start and size and read it.\n",
        "file_reader.ReadImageInformation()\n",
        "start_index, extract_size = zip(*[(int(0.25*sz), int(0.5*sz)) for sz in file_reader.GetSize()])\n",
        "file_reader.SetExtractIndex(start_index)\n",
        "file_reader.SetExtractSize(extract_size)\n",
        "\n",
        "image_viewer.Execute(file_reader.Execute())"
      ],
      "execution_count": null,
      "outputs": []
    },
    {
      "cell_type": "markdown",
      "metadata": {
        "id": "Q6V_02x3c1EV"
      },
      "source": [
        "## Resampling\n",
        "\n",
        "<img src=\"figures/resampling.svg\"/><br><br>\n",
        "\n",
        "Resampling as the verb implies is the action of sampling an image, which itself is a sampling of an original continuous signal.\n",
        "\n",
        "Generally speaking, resampling in SimpleITK involves four components:\n",
        "1. Image - the image we resample, given in coordinate system $m$.\n",
        "2. Resampling grid - a regular grid of points given in coordinate system $f$ which will be mapped to coordinate system $m$.\n",
        "2. Transformation $T_f^m$ - maps points from coordinate system $f$ to coordinate system $m$, $^mp = T_f^m(^fp)$.\n",
        "3. Interpolator - method for obtaining the intensity values at arbitrary points in coordinate system $m$ from the values of the points defined by the Image.\n",
        "\n",
        "\n",
        "While SimpleITK provides a large number of interpolation methods, the two most commonly used are ```sitkLinear``` and ```sitkNearestNeighbor```. The former is used for most interpolation tasks, a compromise between accuracy and computational efficiency. The later is used to interpolate labeled images representing a segmentation, it is the only interpolation approach which will not introduce new labels into the result.\n",
        "\n",
        "SimpleITK's procedural API provides three methods for performing resampling, with the difference being the way you specify the resampling grid:\n",
        "\n",
        "1. ```Resample(const Image &image1, Transform transform, InterpolatorEnum interpolator, double defaultPixelValue, PixelIDValueEnum outputPixelType)```\n",
        "2. ```Resample(const Image &image1, const Image &referenceImage, Transform transform, InterpolatorEnum interpolator, double defaultPixelValue, PixelIDValueEnum outputPixelType)```\n",
        "3. ```Resample(const Image &image1, std::vector< uint32_t > size, Transform transform, InterpolatorEnum interpolator, std::vector< double > outputOrigin, std::vector< double > outputSpacing, std::vector< double > outputDirection, double defaultPixelValue, PixelIDValueEnum outputPixelType)```"
      ]
    },
    {
      "cell_type": "code",
      "metadata": {
        "id": "-n7_xCSac1EW"
      },
      "source": [
        "def resample_display(image, euler2d_transform, tx, ty, theta):\n",
        "    euler2d_transform.SetTranslation((tx, ty))\n",
        "    euler2d_transform.SetAngle(theta)\n",
        "    \n",
        "    resampled_image = sitk.Resample(image, euler2d_transform)\n",
        "    plt.imshow(sitk.GetArrayFromImage(resampled_image))\n",
        "    plt.axis('off')    \n",
        "    plt.show()\n",
        "\n",
        "euler2d = sitk.Euler2DTransform()\n",
        "# Why do we set the center?\n",
        "euler2d.SetCenter(logo.TransformContinuousIndexToPhysicalPoint(np.array(logo.GetSize())/2.0))\n",
        "interact(resample_display, image=fixed(logo), euler2d_transform=fixed(euler2d), tx=(-128.0, 128.0,2.5), ty=(-64.0, 64.0), theta=(-np.pi/4.0,np.pi/4.0));"
      ],
      "execution_count": null,
      "outputs": []
    },
    {
      "cell_type": "markdown",
      "metadata": {
        "id": "ktORofalc1EW"
      },
      "source": [
        "### Common Errors\n",
        "\n",
        "It is not uncommon to end up with an empty (all black) image after resampling. This is due to:\n",
        "1. Using wrong settings for the resampling grid, not too common, but does happen.\n",
        "2. Using the inverse of the transformation $T_f^m$. This is a relatively common error, which is readily addressed by invoking the transformations ```GetInverse``` method."
      ]
    },
    {
      "cell_type": "markdown",
      "metadata": {
        "id": "OeFXhDuxc1EW"
      },
      "source": [
        "### Defining the Resampling Grid\n",
        "\n",
        "In the example above we arbitrarily used the original image grid as the resampling grid. As a result, for many of the transformations the resulting image contained black pixels, pixels which were mapped outside the spatial domain of the original image and a partial view of the original image.\n",
        "\n",
        "If we want the resulting image to contain all of the original image no matter the transformation, we will need to define the resampling grid using our knowledge of the original image's spatial domain and the **inverse** of the given transformation. \n",
        "\n",
        "Computing the bounds of the resampling grid when dealing with an affine transformation is straightforward. An affine transformation preserves convexity with extreme points mapped to extreme points. Thus we only need to apply the **inverse** transformation to the corners of the original image to obtain the bounds of the resampling grid.\n",
        "\n",
        "Computing the bounds of the resampling grid when dealing with a BSplineTransform or DisplacementFieldTransform is more involved as we are not guaranteed that extreme points are mapped to extreme points. This requires that we apply the **inverse** transformation to all points in the original image to obtain the bounds of the resampling grid.  "
      ]
    },
    {
      "cell_type": "code",
      "metadata": {
        "id": "NOg-iP7yc1EW"
      },
      "source": [
        "euler2d = sitk.Euler2DTransform()\n",
        "# Why do we set the center?\n",
        "euler2d.SetCenter(logo.TransformContinuousIndexToPhysicalPoint(np.array(logo.GetSize())/2.0))\n",
        "\n",
        "tx = 64\n",
        "ty = 32\n",
        "euler2d.SetTranslation((tx, ty))\n",
        "\n",
        "extreme_points = [logo.TransformIndexToPhysicalPoint((0,0)), \n",
        "                  logo.TransformIndexToPhysicalPoint((logo.GetWidth(),0)),\n",
        "                  logo.TransformIndexToPhysicalPoint((logo.GetWidth(),logo.GetHeight())),\n",
        "                  logo.TransformIndexToPhysicalPoint((0,logo.GetHeight()))]\n",
        "inv_euler2d = euler2d.GetInverse()\n",
        "\n",
        "extreme_points_transformed = [inv_euler2d.TransformPoint(pnt) for pnt in extreme_points]\n",
        "min_x = min(extreme_points_transformed)[0]\n",
        "min_y = min(extreme_points_transformed, key=lambda p: p[1])[1]\n",
        "max_x = max(extreme_points_transformed)[0]\n",
        "max_y = max(extreme_points_transformed, key=lambda p: p[1])[1]\n",
        "\n",
        "# Use the original spacing (arbitrary decision).\n",
        "output_spacing = logo.GetSpacing()\n",
        "# Identity cosine matrix (arbitrary decision).   \n",
        "output_direction = [1.0, 0.0, 0.0, 1.0]\n",
        "# Minimal x,y coordinates are the new origin.\n",
        "output_origin = [min_x, min_y]\n",
        "# Compute grid size based on the physical size and spacing.\n",
        "output_size = [int((max_x-min_x)/output_spacing[0]), int((max_y-min_y)/output_spacing[1])]\n",
        "\n",
        "resampled_image = sitk.Resample(logo, output_size, euler2d, sitk.sitkLinear, output_origin, output_spacing, output_direction)\n",
        "plt.imshow(sitk.GetArrayViewFromImage(resampled_image))\n",
        "plt.axis('off')    \n",
        "plt.show()"
      ],
      "execution_count": null,
      "outputs": []
    },
    {
      "cell_type": "markdown",
      "metadata": {
        "id": "R7QdANq3c1EW"
      },
      "source": [
        "Are you puzzled by the result? Is the output just a copy of the input? Add a rotation to the code above and see what happens (```euler2d.SetAngle(0.79)```)."
      ]
    },
    {
      "cell_type": "markdown",
      "metadata": {
        "id": "w48KVsLbc1EW"
      },
      "source": [
        "<a href=\"03_data_augmentation.ipynb\"><h2 align=right>Next &raquo;</h2></a>"
      ]
    }
  ]
}