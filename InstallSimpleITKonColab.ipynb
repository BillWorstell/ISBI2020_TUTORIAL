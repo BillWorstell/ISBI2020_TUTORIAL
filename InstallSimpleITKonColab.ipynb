{
  "nbformat": 4,
  "nbformat_minor": 0,
  "metadata": {
    "colab": {
      "name": "InstallSimpleITKonColab.ipynb",
      "provenance": [],
      "authorship_tag": "ABX9TyOwOss+fpdJmGju7urm9o5J",
      "include_colab_link": true
    },
    "kernelspec": {
      "name": "python3",
      "display_name": "Python 3"
    }
  },
  "cells": [
    {
      "cell_type": "markdown",
      "metadata": {
        "id": "view-in-github",
        "colab_type": "text"
      },
      "source": [
        "<a href=\"https://colab.research.google.com/github/BillWorstell/ISBI2020_TUTORIAL/blob/master/InstallSimpleITKonColab.ipynb\" target=\"_parent\"><img src=\"https://colab.research.google.com/assets/colab-badge.svg\" alt=\"Open In Colab\"/></a>"
      ]
    },
    {
      "cell_type": "markdown",
      "metadata": {
        "id": "PTv5VV3SfStv"
      },
      "source": [
        "Welcome to SimpleITK Jupyter Notebooks\r\n",
        "\r\n",
        "SimpleITK Environment Setup\r\n",
        "Check that SimpleITK and auxiliary program(s) are correctly installed in your environment, and that you have the SimpleITK version which you expect (requires network connectivity).\r\n",
        "\r\n",
        "You can optionally download all of the data used in the notebooks in advance. This step is only necessary if you expect to run the notebooks without network connectivity.\r\n",
        "\r\n",
        "The following cell checks that all expected packages are installed.\r\n"
      ]
    },
    {
      "cell_type": "markdown",
      "metadata": {
        "id": "1b9EmMBDclU-"
      },
      "source": [
        "Following instructions from https://github.com/InsightSoftwareConsortium/SimpleITK-Notebooks/blob/master/Python/README.md"
      ]
    },
    {
      "cell_type": "code",
      "metadata": {
        "colab": {
          "base_uri": "https://localhost:8080/"
        },
        "id": "ZTyzEirzdRb-",
        "outputId": "00a8be8f-222e-4e5f-c3b9-721b8faa7ead"
      },
      "source": [
        "pip install virtualenv"
      ],
      "execution_count": 1,
      "outputs": [
        {
          "output_type": "stream",
          "text": [
            "Collecting virtualenv\n",
            "\u001b[?25l  Downloading https://files.pythonhosted.org/packages/9f/fb/7423637e48cffbb2e567ca113d2b05068f8b457dde998ab487adf7386c86/virtualenv-20.4.2-py2.py3-none-any.whl (7.2MB)\n",
            "\u001b[K     |████████████████████████████████| 7.2MB 5.1MB/s \n",
            "\u001b[?25hRequirement already satisfied: appdirs<2,>=1.4.3 in /usr/local/lib/python3.7/dist-packages (from virtualenv) (1.4.4)\n",
            "Collecting distlib<1,>=0.3.1\n",
            "\u001b[?25l  Downloading https://files.pythonhosted.org/packages/f5/0a/490fa011d699bb5a5f3a0cf57de82237f52a6db9d40f33c53b2736c9a1f9/distlib-0.3.1-py2.py3-none-any.whl (335kB)\n",
            "\u001b[K     |████████████████████████████████| 337kB 32.5MB/s \n",
            "\u001b[?25hRequirement already satisfied: six<2,>=1.9.0 in /usr/local/lib/python3.7/dist-packages (from virtualenv) (1.15.0)\n",
            "Requirement already satisfied: importlib-metadata>=0.12; python_version < \"3.8\" in /usr/local/lib/python3.7/dist-packages (from virtualenv) (3.7.0)\n",
            "Requirement already satisfied: filelock<4,>=3.0.0 in /usr/local/lib/python3.7/dist-packages (from virtualenv) (3.0.12)\n",
            "Requirement already satisfied: zipp>=0.5 in /usr/local/lib/python3.7/dist-packages (from importlib-metadata>=0.12; python_version < \"3.8\"->virtualenv) (3.4.0)\n",
            "Requirement already satisfied: typing-extensions>=3.6.4; python_version < \"3.8\" in /usr/local/lib/python3.7/dist-packages (from importlib-metadata>=0.12; python_version < \"3.8\"->virtualenv) (3.7.4.3)\n",
            "Installing collected packages: distlib, virtualenv\n",
            "Successfully installed distlib-0.3.1 virtualenv-20.4.2\n"
          ],
          "name": "stdout"
        }
      ]
    },
    {
      "cell_type": "code",
      "metadata": {
        "colab": {
          "base_uri": "https://localhost:8080/"
        },
        "id": "UF_108ULdgK5",
        "outputId": "c62b0c80-d3cd-4f8b-d4be-e70a013fe3e0"
      },
      "source": [
        "#!virtualenv ~/sitkpy --no-site-packages\r\n",
        "!virtualenv ~/sitkpy"
      ],
      "execution_count": 2,
      "outputs": [
        {
          "output_type": "stream",
          "text": [
            "created virtual environment CPython3.7.10.final.0-64 in 1031ms\n",
            "  creator CPython3Posix(dest=/root/sitkpy, clear=False, no_vcs_ignore=False, global=False)\n",
            "  seeder FromAppData(download=False, pip=bundle, setuptools=bundle, wheel=bundle, via=copy, app_data_dir=/root/.local/share/virtualenv)\n",
            "    added seed packages: pip==21.0.1, setuptools==52.0.0, wheel==0.36.2\n",
            "  activators BashActivator,CShellActivator,FishActivator,PowerShellActivator,PythonActivator,XonshActivator\n"
          ],
          "name": "stdout"
        }
      ]
    },
    {
      "cell_type": "code",
      "metadata": {
        "colab": {
          "base_uri": "https://localhost:8080/"
        },
        "id": "xyVJbIS_fAxV",
        "outputId": "8076a68a-a7fe-48e6-b48c-8e32cdc54bcc"
      },
      "source": [
        "from google.colab import drive\r\n",
        "drive.mount('/gdrive')\r\n",
        "%cd /gdrive"
      ],
      "execution_count": 3,
      "outputs": [
        {
          "output_type": "stream",
          "text": [
            "Mounted at /gdrive\n",
            "/gdrive\n"
          ],
          "name": "stdout"
        }
      ]
    },
    {
      "cell_type": "code",
      "metadata": {
        "colab": {
          "base_uri": "https://localhost:8080/"
        },
        "id": "B-dxIfjKffPo",
        "outputId": "54d19c96-eba4-4930-ec18-031c814d1a74"
      },
      "source": [
        "!ls '/gdrive/MyDrive/SimpleITK-Notebooks/Python'"
      ],
      "execution_count": 4,
      "outputs": [
        {
          "output_type": "stream",
          "text": [
            " 00_Setup.ipynb\n",
            " 01_Image_Basics.ipynb\n",
            " 02_Pythonic_Image.ipynb\n",
            " 03_Image_Details.ipynb\n",
            " 04_Image_Display.ipynb\n",
            " 05_Results_Visualization.ipynb\n",
            "\"10_matplotlib's_imshow.ipynb\"\n",
            " 11_Progress.ipynb\n",
            " 20_Expand_With_Interpolators.ipynb\n",
            " 21_Transforms_and_Resampling.ipynb\n",
            " 22_Transforms.ipynb\n",
            " 300_Segmentation_Overview.ipynb\n",
            " 30_Segmentation_Region_Growing.ipynb\n",
            " 31_Levelset_Segmentation.ipynb\n",
            " 32_Watersheds_Segmentation.ipynb\n",
            " 33_Segmentation_Thresholding_Edge_Detection.ipynb\n",
            " 34_Segmentation_Evaluation.ipynb\n",
            " 35_Segmentation_Shape_Analysis.ipynb\n",
            " 36_Microscopy_Colocalization_Distance_Analysis.ipynb\n",
            " 51_VH_Segmentation1.ipynb\n",
            " 55_VH_Resample.ipynb\n",
            " 56_VH_Registration1.ipynb\n",
            " 60_Registration_Introduction.ipynb\n",
            " 61_Registration_Introduction_Continued.ipynb\n",
            " 62_Registration_Tuning.ipynb\n",
            " 63_Registration_Initialization.ipynb\n",
            " 64_Registration_Memory_Time_Tradeoff.ipynb\n",
            " 65_Registration_FFD.ipynb\n",
            " 66_Registration_Demons.ipynb\n",
            " 67_Registration_Semiautomatic_Homework.ipynb\n",
            " 68_Registration_Errors.ipynb\n",
            " 69_x-ray-panorama.ipynb\n",
            " 70_Data_Augmentation.ipynb\n",
            " 71_Trust_But_Verify.ipynb\n",
            " characterize_data.py\n",
            " environment.yml\n",
            " fle.svg\n",
            " gui.py\n",
            " hkaAngle.png\n",
            " ImageOriginAndSpacing.png\n",
            " ITKv4RegistrationComponentsDiagram.svg\n",
            " knobs.jpg\n",
            " myshow.py\n",
            " Output\n",
            " popi_utilities_setup.py\n",
            " pyjnius-1.2.0-py37h90b5fae_0.tar.bz2\n",
            " README.md\n",
            " registration_callbacks.py\n",
            " registration_utilities.py\n",
            " requirements.txt\n",
            " resampling.svg\n",
            " setup_for_testing.py\n",
            " update_path_to_download_script.py\n"
          ],
          "name": "stdout"
        }
      ]
    },
    {
      "cell_type": "code",
      "metadata": {
        "colab": {
          "base_uri": "https://localhost:8080/"
        },
        "id": "UAA961LQeJwf",
        "outputId": "a6177d37-c730-416d-db95-e79669115239"
      },
      "source": [
        "!~/sitkpy/bin/pip install -r '/gdrive/MyDrive/SimpleITK-Notebooks/Python/requirements.txt'"
      ],
      "execution_count": 5,
      "outputs": [
        {
          "output_type": "stream",
          "text": [
            "Collecting SimpleITK>=2.0.0\n",
            "  Downloading SimpleITK-2.0.2-cp37-cp37m-manylinux2010_x86_64.whl (47.4 MB)\n",
            "\u001b[K     |████████████████████████████████| 47.4 MB 48 kB/s \n",
            "\u001b[?25hCollecting jupyter\n",
            "  Downloading jupyter-1.0.0-py2.py3-none-any.whl (2.7 kB)\n",
            "Collecting matplotlib\n",
            "  Downloading matplotlib-3.3.4-cp37-cp37m-manylinux1_x86_64.whl (11.5 MB)\n",
            "\u001b[K     |████████████████████████████████| 11.5 MB 64.3 MB/s \n",
            "\u001b[?25hCollecting ipywidgets\n",
            "  Downloading ipywidgets-7.6.3-py2.py3-none-any.whl (121 kB)\n",
            "\u001b[K     |████████████████████████████████| 121 kB 78.9 MB/s \n",
            "\u001b[?25hCollecting numpy\n",
            "  Downloading numpy-1.20.1-cp37-cp37m-manylinux2010_x86_64.whl (15.3 MB)\n",
            "\u001b[K     |████████████████████████████████| 15.3 MB 162 kB/s \n",
            "\u001b[?25hCollecting scipy\n",
            "  Downloading scipy-1.6.1-cp37-cp37m-manylinux1_x86_64.whl (27.4 MB)\n",
            "\u001b[K     |████████████████████████████████| 27.4 MB 60 kB/s \n",
            "\u001b[?25hCollecting pandas\n",
            "  Downloading pandas-1.2.2-cp37-cp37m-manylinux1_x86_64.whl (9.9 MB)\n",
            "\u001b[K     |████████████████████████████████| 9.9 MB 64.1 MB/s \n",
            "\u001b[?25hCollecting numba\n",
            "  Downloading numba-0.52.0-cp37-cp37m-manylinux2014_x86_64.whl (3.2 MB)\n",
            "\u001b[K     |████████████████████████████████| 3.2 MB 65.5 MB/s \n",
            "\u001b[?25hCollecting multiprocess\n",
            "  Downloading multiprocess-0.70.11.1-py37-none-any.whl (108 kB)\n",
            "\u001b[K     |████████████████████████████████| 108 kB 49.1 MB/s \n",
            "\u001b[?25hCollecting widgetsnbextension~=3.5.0\n",
            "  Downloading widgetsnbextension-3.5.1-py2.py3-none-any.whl (2.2 MB)\n",
            "\u001b[K     |████████████████████████████████| 2.2 MB 45.0 MB/s \n",
            "\u001b[?25hCollecting jupyterlab-widgets>=1.0.0\n",
            "  Downloading jupyterlab_widgets-1.0.0-py3-none-any.whl (243 kB)\n",
            "\u001b[K     |████████████████████████████████| 243 kB 70.7 MB/s \n",
            "\u001b[?25hCollecting ipython>=4.0.0\n",
            "  Downloading ipython-7.21.0-py3-none-any.whl (784 kB)\n",
            "\u001b[K     |████████████████████████████████| 784 kB 49.9 MB/s \n",
            "\u001b[?25hCollecting ipykernel>=4.5.1\n",
            "  Downloading ipykernel-5.5.0-py3-none-any.whl (120 kB)\n",
            "\u001b[K     |████████████████████████████████| 120 kB 62.1 MB/s \n",
            "\u001b[?25hCollecting nbformat>=4.2.0\n",
            "  Downloading nbformat-5.1.2-py3-none-any.whl (113 kB)\n",
            "\u001b[K     |████████████████████████████████| 113 kB 50.2 MB/s \n",
            "\u001b[?25hCollecting traitlets>=4.3.1\n",
            "  Downloading traitlets-5.0.5-py3-none-any.whl (100 kB)\n",
            "\u001b[K     |████████████████████████████████| 100 kB 8.6 MB/s \n",
            "\u001b[?25hCollecting tornado>=4.2\n",
            "  Downloading tornado-6.1-cp37-cp37m-manylinux2010_x86_64.whl (428 kB)\n",
            "\u001b[K     |████████████████████████████████| 428 kB 67.9 MB/s \n",
            "\u001b[?25hCollecting jupyter-client\n",
            "  Downloading jupyter_client-6.1.11-py3-none-any.whl (108 kB)\n",
            "\u001b[K     |████████████████████████████████| 108 kB 71.6 MB/s \n",
            "\u001b[?25hCollecting prompt-toolkit!=3.0.0,!=3.0.1,<3.1.0,>=2.0.0\n",
            "  Downloading prompt_toolkit-3.0.16-py3-none-any.whl (366 kB)\n",
            "\u001b[K     |████████████████████████████████| 366 kB 70.5 MB/s \n",
            "\u001b[?25hCollecting decorator\n",
            "  Downloading decorator-4.4.2-py2.py3-none-any.whl (9.2 kB)\n",
            "Collecting backcall\n",
            "  Downloading backcall-0.2.0-py2.py3-none-any.whl (11 kB)\n",
            "Collecting pexpect>4.3\n",
            "  Downloading pexpect-4.8.0-py2.py3-none-any.whl (59 kB)\n",
            "\u001b[K     |████████████████████████████████| 59 kB 4.8 MB/s \n",
            "\u001b[?25hCollecting pygments\n",
            "  Downloading Pygments-2.8.0-py3-none-any.whl (983 kB)\n",
            "\u001b[K     |████████████████████████████████| 983 kB 58.0 MB/s \n",
            "\u001b[?25hCollecting jedi>=0.16\n",
            "  Downloading jedi-0.18.0-py2.py3-none-any.whl (1.4 MB)\n",
            "\u001b[K     |████████████████████████████████| 1.4 MB 49.7 MB/s \n",
            "\u001b[?25hCollecting pickleshare\n",
            "  Downloading pickleshare-0.7.5-py2.py3-none-any.whl (6.9 kB)\n",
            "Requirement already satisfied: setuptools>=18.5 in /root/sitkpy/lib/python3.7/site-packages (from ipython>=4.0.0->ipywidgets->-r /gdrive/MyDrive/SimpleITK-Notebooks/Python/requirements.txt (line 4)) (52.0.0)\n",
            "Collecting parso<0.9.0,>=0.8.0\n",
            "  Downloading parso-0.8.1-py2.py3-none-any.whl (93 kB)\n",
            "\u001b[K     |████████████████████████████████| 93 kB 1.8 MB/s \n",
            "\u001b[?25hCollecting jupyter-core\n",
            "  Downloading jupyter_core-4.7.1-py3-none-any.whl (82 kB)\n",
            "\u001b[K     |████████████████████████████████| 82 kB 973 kB/s \n",
            "\u001b[?25hCollecting jsonschema!=2.5.0,>=2.4\n",
            "  Downloading jsonschema-3.2.0-py2.py3-none-any.whl (56 kB)\n",
            "\u001b[K     |████████████████████████████████| 56 kB 3.8 MB/s \n",
            "\u001b[?25hCollecting ipython-genutils\n",
            "  Downloading ipython_genutils-0.2.0-py2.py3-none-any.whl (26 kB)\n",
            "Collecting importlib-metadata\n",
            "  Downloading importlib_metadata-3.7.0-py3-none-any.whl (11 kB)\n",
            "Collecting attrs>=17.4.0\n",
            "  Downloading attrs-20.3.0-py2.py3-none-any.whl (49 kB)\n",
            "\u001b[K     |████████████████████████████████| 49 kB 5.1 MB/s \n",
            "\u001b[?25hCollecting pyrsistent>=0.14.0\n",
            "  Downloading pyrsistent-0.17.3.tar.gz (106 kB)\n",
            "\u001b[K     |████████████████████████████████| 106 kB 58.4 MB/s \n",
            "\u001b[?25hCollecting six>=1.11.0\n",
            "  Downloading six-1.15.0-py2.py3-none-any.whl (10 kB)\n",
            "Collecting ptyprocess>=0.5\n",
            "  Downloading ptyprocess-0.7.0-py2.py3-none-any.whl (13 kB)\n",
            "Collecting wcwidth\n",
            "  Downloading wcwidth-0.2.5-py2.py3-none-any.whl (30 kB)\n",
            "Collecting notebook>=4.4.1\n",
            "  Downloading notebook-6.2.0-py3-none-any.whl (9.5 MB)\n",
            "\u001b[K     |████████████████████████████████| 9.5 MB 40.7 MB/s \n",
            "\u001b[?25hCollecting pyzmq>=17\n",
            "  Downloading pyzmq-22.0.3-cp37-cp37m-manylinux1_x86_64.whl (1.1 MB)\n",
            "\u001b[K     |████████████████████████████████| 1.1 MB 48.6 MB/s \n",
            "\u001b[?25hCollecting nbconvert\n",
            "  Downloading nbconvert-6.0.7-py3-none-any.whl (552 kB)\n",
            "\u001b[K     |████████████████████████████████| 552 kB 58.3 MB/s \n",
            "\u001b[?25hCollecting prometheus-client\n",
            "  Downloading prometheus_client-0.9.0-py2.py3-none-any.whl (53 kB)\n",
            "\u001b[K     |████████████████████████████████| 53 kB 2.1 MB/s \n",
            "\u001b[?25hCollecting jinja2\n",
            "  Downloading Jinja2-2.11.3-py2.py3-none-any.whl (125 kB)\n",
            "\u001b[K     |████████████████████████████████| 125 kB 55.4 MB/s \n",
            "\u001b[?25hCollecting terminado>=0.8.3\n",
            "  Downloading terminado-0.9.2-py3-none-any.whl (14 kB)\n",
            "Collecting Send2Trash>=1.5.0\n",
            "  Downloading Send2Trash-1.5.0-py3-none-any.whl (12 kB)\n",
            "Collecting argon2-cffi\n",
            "  Downloading argon2_cffi-20.1.0-cp35-abi3-manylinux1_x86_64.whl (97 kB)\n",
            "\u001b[K     |████████████████████████████████| 97 kB 7.0 MB/s \n",
            "\u001b[?25hCollecting python-dateutil>=2.1\n",
            "  Downloading python_dateutil-2.8.1-py2.py3-none-any.whl (227 kB)\n",
            "\u001b[K     |████████████████████████████████| 227 kB 62.4 MB/s \n",
            "\u001b[?25hCollecting qtconsole\n",
            "  Downloading qtconsole-5.0.2-py3-none-any.whl (119 kB)\n",
            "\u001b[K     |████████████████████████████████| 119 kB 61.2 MB/s \n",
            "\u001b[?25hCollecting jupyter-console\n",
            "  Downloading jupyter_console-6.2.0-py3-none-any.whl (22 kB)\n",
            "Collecting pillow>=6.2.0\n",
            "  Downloading Pillow-8.1.0-cp37-cp37m-manylinux1_x86_64.whl (2.2 MB)\n",
            "\u001b[K     |████████████████████████████████| 2.2 MB 41.6 MB/s \n",
            "\u001b[?25hCollecting cycler>=0.10\n",
            "  Downloading cycler-0.10.0-py2.py3-none-any.whl (6.5 kB)\n",
            "Collecting kiwisolver>=1.0.1\n",
            "  Downloading kiwisolver-1.3.1-cp37-cp37m-manylinux1_x86_64.whl (1.1 MB)\n",
            "\u001b[K     |████████████████████████████████| 1.1 MB 42.3 MB/s \n",
            "\u001b[?25hCollecting pyparsing!=2.0.4,!=2.1.2,!=2.1.6,>=2.0.3\n",
            "  Downloading pyparsing-2.4.7-py2.py3-none-any.whl (67 kB)\n",
            "\u001b[K     |████████████████████████████████| 67 kB 5.5 MB/s \n",
            "\u001b[?25hCollecting dill>=0.3.3\n",
            "  Downloading dill-0.3.3-py2.py3-none-any.whl (81 kB)\n",
            "\u001b[K     |████████████████████████████████| 81 kB 8.8 MB/s \n",
            "\u001b[?25hCollecting llvmlite<0.36,>=0.35.0\n",
            "  Downloading llvmlite-0.35.0-cp37-cp37m-manylinux2010_x86_64.whl (25.3 MB)\n",
            "\u001b[K     |████████████████████████████████| 25.3 MB 1.3 MB/s \n",
            "\u001b[?25hCollecting pytz>=2017.3\n",
            "  Downloading pytz-2021.1-py2.py3-none-any.whl (510 kB)\n",
            "\u001b[K     |████████████████████████████████| 510 kB 55.7 MB/s \n",
            "\u001b[?25hCollecting cffi>=1.0.0\n",
            "  Downloading cffi-1.14.5-cp37-cp37m-manylinux1_x86_64.whl (402 kB)\n",
            "\u001b[K     |████████████████████████████████| 402 kB 62.2 MB/s \n",
            "\u001b[?25hCollecting pycparser\n",
            "  Downloading pycparser-2.20-py2.py3-none-any.whl (112 kB)\n",
            "\u001b[K     |████████████████████████████████| 112 kB 61.5 MB/s \n",
            "\u001b[?25hCollecting typing-extensions>=3.6.4\n",
            "  Downloading typing_extensions-3.7.4.3-py3-none-any.whl (22 kB)\n",
            "Collecting zipp>=0.5\n",
            "  Downloading zipp-3.4.0-py3-none-any.whl (5.2 kB)\n",
            "Collecting MarkupSafe>=0.23\n",
            "  Downloading MarkupSafe-1.1.1-cp37-cp37m-manylinux2010_x86_64.whl (33 kB)\n",
            "Collecting bleach\n",
            "  Downloading bleach-3.3.0-py2.py3-none-any.whl (283 kB)\n",
            "\u001b[K     |████████████████████████████████| 283 kB 60.5 MB/s \n",
            "\u001b[?25hCollecting defusedxml\n",
            "  Downloading defusedxml-0.6.0-py2.py3-none-any.whl (23 kB)\n",
            "Collecting nbclient<0.6.0,>=0.5.0\n",
            "  Downloading nbclient-0.5.3-py3-none-any.whl (82 kB)\n",
            "\u001b[K     |████████████████████████████████| 82 kB 953 kB/s \n",
            "\u001b[?25hCollecting jupyterlab-pygments\n",
            "  Downloading jupyterlab_pygments-0.1.2-py2.py3-none-any.whl (4.6 kB)\n",
            "Collecting testpath\n",
            "  Downloading testpath-0.4.4-py2.py3-none-any.whl (163 kB)\n",
            "\u001b[K     |████████████████████████████████| 163 kB 73.7 MB/s \n",
            "\u001b[?25hCollecting entrypoints>=0.2.2\n",
            "  Downloading entrypoints-0.3-py2.py3-none-any.whl (11 kB)\n",
            "Collecting pandocfilters>=1.4.1\n",
            "  Downloading pandocfilters-1.4.3.tar.gz (16 kB)\n",
            "Collecting mistune<2,>=0.8.1\n",
            "  Downloading mistune-0.8.4-py2.py3-none-any.whl (16 kB)\n",
            "Collecting nest-asyncio\n",
            "  Downloading nest_asyncio-1.5.1-py3-none-any.whl (5.0 kB)\n",
            "Collecting async-generator\n",
            "  Downloading async_generator-1.10-py3-none-any.whl (18 kB)\n",
            "Collecting webencodings\n",
            "  Downloading webencodings-0.5.1-py2.py3-none-any.whl (11 kB)\n",
            "Collecting packaging\n",
            "  Downloading packaging-20.9-py2.py3-none-any.whl (40 kB)\n",
            "\u001b[K     |████████████████████████████████| 40 kB 5.0 MB/s \n",
            "\u001b[?25hCollecting qtpy\n",
            "  Downloading QtPy-1.9.0-py2.py3-none-any.whl (54 kB)\n",
            "\u001b[K     |████████████████████████████████| 54 kB 2.3 MB/s \n",
            "\u001b[?25hBuilding wheels for collected packages: pyrsistent, pandocfilters\n",
            "  Building wheel for pyrsistent (setup.py) ... \u001b[?25l\u001b[?25hdone\n",
            "  Created wheel for pyrsistent: filename=pyrsistent-0.17.3-cp37-cp37m-linux_x86_64.whl size=98069 sha256=88068dc723f91f57ca9a284bd016b12811cb80a3f802dd99ff5670cebc5419f6\n",
            "  Stored in directory: /root/.cache/pip/wheels/a5/52/bf/71258a1d7b3c8cbe1ee53f9314c6f65f20385481eaee573cc5\n",
            "  Building wheel for pandocfilters (setup.py) ... \u001b[?25l\u001b[?25hdone\n",
            "  Created wheel for pandocfilters: filename=pandocfilters-1.4.3-py3-none-any.whl size=7992 sha256=0cbfc1e210ac0e02b9c110b0442722284e82ed8e818d190402603e9d234e9cc1\n",
            "  Stored in directory: /root/.cache/pip/wheels/42/81/34/545dc2fbf0e9137811e901108d37fc04650e81d48f97078000\n",
            "Successfully built pyrsistent pandocfilters\n",
            "Installing collected packages: zipp, typing-extensions, ipython-genutils, traitlets, six, pyrsistent, importlib-metadata, attrs, wcwidth, tornado, pyzmq, python-dateutil, pyparsing, ptyprocess, parso, jupyter-core, jsonschema, webencodings, pygments, pycparser, prompt-toolkit, pickleshare, pexpect, packaging, nest-asyncio, nbformat, MarkupSafe, jupyter-client, jedi, decorator, backcall, async-generator, testpath, pandocfilters, nbclient, mistune, jupyterlab-pygments, jinja2, ipython, entrypoints, defusedxml, cffi, bleach, terminado, Send2Trash, prometheus-client, nbconvert, ipykernel, argon2-cffi, notebook, widgetsnbextension, qtpy, jupyterlab-widgets, qtconsole, pytz, pillow, numpy, llvmlite, kiwisolver, jupyter-console, ipywidgets, dill, cycler, SimpleITK, scipy, pandas, numba, multiprocess, matplotlib, jupyter\n",
            "Successfully installed MarkupSafe-1.1.1 Send2Trash-1.5.0 SimpleITK-2.0.2 argon2-cffi-20.1.0 async-generator-1.10 attrs-20.3.0 backcall-0.2.0 bleach-3.3.0 cffi-1.14.5 cycler-0.10.0 decorator-4.4.2 defusedxml-0.6.0 dill-0.3.3 entrypoints-0.3 importlib-metadata-3.7.0 ipykernel-5.5.0 ipython-7.21.0 ipython-genutils-0.2.0 ipywidgets-7.6.3 jedi-0.18.0 jinja2-2.11.3 jsonschema-3.2.0 jupyter-1.0.0 jupyter-client-6.1.11 jupyter-console-6.2.0 jupyter-core-4.7.1 jupyterlab-pygments-0.1.2 jupyterlab-widgets-1.0.0 kiwisolver-1.3.1 llvmlite-0.35.0 matplotlib-3.3.4 mistune-0.8.4 multiprocess-0.70.11.1 nbclient-0.5.3 nbconvert-6.0.7 nbformat-5.1.2 nest-asyncio-1.5.1 notebook-6.2.0 numba-0.52.0 numpy-1.20.1 packaging-20.9 pandas-1.2.2 pandocfilters-1.4.3 parso-0.8.1 pexpect-4.8.0 pickleshare-0.7.5 pillow-8.1.0 prometheus-client-0.9.0 prompt-toolkit-3.0.16 ptyprocess-0.7.0 pycparser-2.20 pygments-2.8.0 pyparsing-2.4.7 pyrsistent-0.17.3 python-dateutil-2.8.1 pytz-2021.1 pyzmq-22.0.3 qtconsole-5.0.2 qtpy-1.9.0 scipy-1.6.1 six-1.15.0 terminado-0.9.2 testpath-0.4.4 tornado-6.1 traitlets-5.0.5 typing-extensions-3.7.4.3 wcwidth-0.2.5 webencodings-0.5.1 widgetsnbextension-3.5.1 zipp-3.4.0\n"
          ],
          "name": "stdout"
        }
      ]
    },
    {
      "cell_type": "code",
      "metadata": {
        "colab": {
          "base_uri": "https://localhost:8080/"
        },
        "id": "C2AaLERagGzB",
        "outputId": "33b22b15-4913-4e1c-8599-92e778d927e9"
      },
      "source": [
        "cd '/gdrive/MyDrive/SimpleITK-Notebooks/Python'"
      ],
      "execution_count": 6,
      "outputs": [
        {
          "output_type": "stream",
          "text": [
            "/gdrive/MyDrive/SimpleITK-Notebooks/Python\n"
          ],
          "name": "stdout"
        }
      ]
    },
    {
      "cell_type": "code",
      "metadata": {
        "colab": {
          "base_uri": "https://localhost:8080/"
        },
        "id": "tsIBm_cgbbSh",
        "outputId": "ebd54a38-daf1-4f5a-de19-2548668e0eed"
      },
      "source": [
        "pip install SimpleITK\r\n"
      ],
      "execution_count": 8,
      "outputs": [
        {
          "output_type": "stream",
          "text": [
            "Collecting SimpleITK\n",
            "  Using cached https://files.pythonhosted.org/packages/9c/6b/85df5eb3a8059b23a53a9f224476e75473f9bcc0a8583ed1a9c34619f372/SimpleITK-2.0.2-cp37-cp37m-manylinux2010_x86_64.whl\n",
            "Installing collected packages: SimpleITK\n",
            "Successfully installed SimpleITK-2.0.2\n"
          ],
          "name": "stdout"
        }
      ]
    },
    {
      "cell_type": "code",
      "metadata": {
        "colab": {
          "base_uri": "https://localhost:8080/"
        },
        "id": "UDBwjg4cXu0-",
        "outputId": "9d2eb9b7-e7f9-4abc-ac06-999145976067"
      },
      "source": [
        "pip install ipywidgets"
      ],
      "execution_count": 9,
      "outputs": [
        {
          "output_type": "stream",
          "text": [
            "Requirement already satisfied: ipywidgets in /usr/local/lib/python3.7/dist-packages (7.6.3)\n",
            "Requirement already satisfied: ipython>=4.0.0; python_version >= \"3.3\" in /usr/local/lib/python3.7/dist-packages (from ipywidgets) (5.5.0)\n",
            "Requirement already satisfied: nbformat>=4.2.0 in /usr/local/lib/python3.7/dist-packages (from ipywidgets) (5.1.2)\n",
            "Requirement already satisfied: traitlets>=4.3.1 in /usr/local/lib/python3.7/dist-packages (from ipywidgets) (5.0.5)\n",
            "Requirement already satisfied: widgetsnbextension~=3.5.0 in /usr/local/lib/python3.7/dist-packages (from ipywidgets) (3.5.1)\n",
            "Requirement already satisfied: ipykernel>=4.5.1 in /usr/local/lib/python3.7/dist-packages (from ipywidgets) (4.10.1)\n",
            "Requirement already satisfied: jupyterlab-widgets>=1.0.0; python_version >= \"3.6\" in /usr/local/lib/python3.7/dist-packages (from ipywidgets) (1.0.0)\n",
            "Requirement already satisfied: setuptools>=18.5 in /usr/local/lib/python3.7/dist-packages (from ipython>=4.0.0; python_version >= \"3.3\"->ipywidgets) (53.0.0)\n",
            "Requirement already satisfied: simplegeneric>0.8 in /usr/local/lib/python3.7/dist-packages (from ipython>=4.0.0; python_version >= \"3.3\"->ipywidgets) (0.8.1)\n",
            "Requirement already satisfied: pickleshare in /usr/local/lib/python3.7/dist-packages (from ipython>=4.0.0; python_version >= \"3.3\"->ipywidgets) (0.7.5)\n",
            "Requirement already satisfied: decorator in /usr/local/lib/python3.7/dist-packages (from ipython>=4.0.0; python_version >= \"3.3\"->ipywidgets) (4.4.2)\n",
            "Requirement already satisfied: pexpect; sys_platform != \"win32\" in /usr/local/lib/python3.7/dist-packages (from ipython>=4.0.0; python_version >= \"3.3\"->ipywidgets) (4.8.0)\n",
            "Requirement already satisfied: pygments in /usr/local/lib/python3.7/dist-packages (from ipython>=4.0.0; python_version >= \"3.3\"->ipywidgets) (2.6.1)\n",
            "Requirement already satisfied: prompt-toolkit<2.0.0,>=1.0.4 in /usr/local/lib/python3.7/dist-packages (from ipython>=4.0.0; python_version >= \"3.3\"->ipywidgets) (1.0.18)\n",
            "Requirement already satisfied: jsonschema!=2.5.0,>=2.4 in /usr/local/lib/python3.7/dist-packages (from nbformat>=4.2.0->ipywidgets) (2.6.0)\n",
            "Requirement already satisfied: ipython-genutils in /usr/local/lib/python3.7/dist-packages (from nbformat>=4.2.0->ipywidgets) (0.2.0)\n",
            "Requirement already satisfied: jupyter-core in /usr/local/lib/python3.7/dist-packages (from nbformat>=4.2.0->ipywidgets) (4.7.1)\n",
            "Requirement already satisfied: notebook>=4.4.1 in /usr/local/lib/python3.7/dist-packages (from widgetsnbextension~=3.5.0->ipywidgets) (5.3.1)\n",
            "Requirement already satisfied: tornado>=4.0 in /usr/local/lib/python3.7/dist-packages (from ipykernel>=4.5.1->ipywidgets) (5.1.1)\n",
            "Requirement already satisfied: jupyter-client in /usr/local/lib/python3.7/dist-packages (from ipykernel>=4.5.1->ipywidgets) (5.3.5)\n",
            "Requirement already satisfied: ptyprocess>=0.5 in /usr/local/lib/python3.7/dist-packages (from pexpect; sys_platform != \"win32\"->ipython>=4.0.0; python_version >= \"3.3\"->ipywidgets) (0.7.0)\n",
            "Requirement already satisfied: six>=1.9.0 in /usr/local/lib/python3.7/dist-packages (from prompt-toolkit<2.0.0,>=1.0.4->ipython>=4.0.0; python_version >= \"3.3\"->ipywidgets) (1.15.0)\n",
            "Requirement already satisfied: wcwidth in /usr/local/lib/python3.7/dist-packages (from prompt-toolkit<2.0.0,>=1.0.4->ipython>=4.0.0; python_version >= \"3.3\"->ipywidgets) (0.2.5)\n",
            "Requirement already satisfied: nbconvert in /usr/local/lib/python3.7/dist-packages (from notebook>=4.4.1->widgetsnbextension~=3.5.0->ipywidgets) (5.6.1)\n",
            "Requirement already satisfied: Send2Trash in /usr/local/lib/python3.7/dist-packages (from notebook>=4.4.1->widgetsnbextension~=3.5.0->ipywidgets) (1.5.0)\n",
            "Requirement already satisfied: terminado>=0.8.1 in /usr/local/lib/python3.7/dist-packages (from notebook>=4.4.1->widgetsnbextension~=3.5.0->ipywidgets) (0.9.2)\n",
            "Requirement already satisfied: jinja2 in /usr/local/lib/python3.7/dist-packages (from notebook>=4.4.1->widgetsnbextension~=3.5.0->ipywidgets) (2.11.3)\n",
            "Requirement already satisfied: pyzmq>=13 in /usr/local/lib/python3.7/dist-packages (from jupyter-client->ipykernel>=4.5.1->ipywidgets) (22.0.3)\n",
            "Requirement already satisfied: python-dateutil>=2.1 in /usr/local/lib/python3.7/dist-packages (from jupyter-client->ipykernel>=4.5.1->ipywidgets) (2.8.1)\n",
            "Requirement already satisfied: mistune<2,>=0.8.1 in /usr/local/lib/python3.7/dist-packages (from nbconvert->notebook>=4.4.1->widgetsnbextension~=3.5.0->ipywidgets) (0.8.4)\n",
            "Requirement already satisfied: bleach in /usr/local/lib/python3.7/dist-packages (from nbconvert->notebook>=4.4.1->widgetsnbextension~=3.5.0->ipywidgets) (3.3.0)\n",
            "Requirement already satisfied: testpath in /usr/local/lib/python3.7/dist-packages (from nbconvert->notebook>=4.4.1->widgetsnbextension~=3.5.0->ipywidgets) (0.4.4)\n",
            "Requirement already satisfied: pandocfilters>=1.4.1 in /usr/local/lib/python3.7/dist-packages (from nbconvert->notebook>=4.4.1->widgetsnbextension~=3.5.0->ipywidgets) (1.4.3)\n",
            "Requirement already satisfied: entrypoints>=0.2.2 in /usr/local/lib/python3.7/dist-packages (from nbconvert->notebook>=4.4.1->widgetsnbextension~=3.5.0->ipywidgets) (0.3)\n",
            "Requirement already satisfied: defusedxml in /usr/local/lib/python3.7/dist-packages (from nbconvert->notebook>=4.4.1->widgetsnbextension~=3.5.0->ipywidgets) (0.6.0)\n",
            "Requirement already satisfied: MarkupSafe>=0.23 in /usr/local/lib/python3.7/dist-packages (from jinja2->notebook>=4.4.1->widgetsnbextension~=3.5.0->ipywidgets) (1.1.1)\n",
            "Requirement already satisfied: webencodings in /usr/local/lib/python3.7/dist-packages (from bleach->nbconvert->notebook>=4.4.1->widgetsnbextension~=3.5.0->ipywidgets) (0.5.1)\n",
            "Requirement already satisfied: packaging in /usr/local/lib/python3.7/dist-packages (from bleach->nbconvert->notebook>=4.4.1->widgetsnbextension~=3.5.0->ipywidgets) (20.9)\n",
            "Requirement already satisfied: pyparsing>=2.0.2 in /usr/local/lib/python3.7/dist-packages (from packaging->bleach->nbconvert->notebook>=4.4.1->widgetsnbextension~=3.5.0->ipywidgets) (2.4.7)\n"
          ],
          "name": "stdout"
        }
      ]
    },
    {
      "cell_type": "code",
      "metadata": {
        "colab": {
          "base_uri": "https://localhost:8080/"
        },
        "id": "HDfuvDYadT5_",
        "outputId": "976cb547-2d07-4e3a-df8f-0d37c978e21b"
      },
      "source": [
        "from google.colab import drive\r\n",
        "drive.mount('/gdrive')\r\n",
        "%cd /gdrive"
      ],
      "execution_count": 10,
      "outputs": [
        {
          "output_type": "stream",
          "text": [
            "Drive already mounted at /gdrive; to attempt to forcibly remount, call drive.mount(\"/gdrive\", force_remount=True).\n",
            "/gdrive\n"
          ],
          "name": "stdout"
        }
      ]
    },
    {
      "cell_type": "code",
      "metadata": {
        "colab": {
          "base_uri": "https://localhost:8080/"
        },
        "id": "1oi30QV_mDsr",
        "outputId": "df507aef-0683-441c-ee5e-fa2c1d8432a5"
      },
      "source": [
        "%cd '/gdrive/MyDrive/'\r\n",
        "%ls"
      ],
      "execution_count": 11,
      "outputs": [
        {
          "output_type": "stream",
          "text": [
            "/gdrive/MyDrive\n",
            "\u001b[0m\u001b[01;34m'Colab Notebooks'\u001b[0m/           \u001b[01;34mSimpleITK_ISBI2020_TUTORIAL\u001b[0m/\n",
            " \u001b[01;34mFiji.app\u001b[0m/                   SimpleITK.jpg\n",
            " fiji-linux64-20170530.zip   \u001b[01;34mSimpleITK-Notebooks\u001b[0m/\n",
            " \u001b[01;34mMyNiftyRec\u001b[0m/                 unnamed.png\n",
            " \u001b[01;34mMyTomoLab\u001b[0m/                 'Untitled project.gscript'\n"
          ],
          "name": "stdout"
        }
      ]
    },
    {
      "cell_type": "code",
      "metadata": {
        "colab": {
          "base_uri": "https://localhost:8080/"
        },
        "id": "CcQvkNgDmnzE",
        "outputId": "1c5bc479-80bd-499b-cf54-4f249d1f4f5c"
      },
      "source": [
        "!unzip fiji-linux64-20170530.zip"
      ],
      "execution_count": 12,
      "outputs": [
        {
          "output_type": "stream",
          "text": [
            "Archive:  fiji-linux64-20170530.zip\n",
            "replace Fiji.app/db.xml.gz? [y]es, [n]o, [A]ll, [N]one, [r]ename: None\n",
            "None\n"
          ],
          "name": "stdout"
        }
      ]
    },
    {
      "cell_type": "code",
      "metadata": {
        "colab": {
          "base_uri": "https://localhost:8080/"
        },
        "id": "emT7JmsnorCZ",
        "outputId": "da7da16e-326e-4054-dd2f-a88f343b55fd"
      },
      "source": [
        "%ls '/gdrive/MyDrive/'"
      ],
      "execution_count": 13,
      "outputs": [
        {
          "output_type": "stream",
          "text": [
            "\u001b[0m\u001b[01;34m'Colab Notebooks'\u001b[0m/           \u001b[01;34mSimpleITK_ISBI2020_TUTORIAL\u001b[0m/\n",
            " \u001b[01;34mFiji.app\u001b[0m/                   SimpleITK.jpg\n",
            " fiji-linux64-20170530.zip   \u001b[01;34mSimpleITK-Notebooks\u001b[0m/\n",
            " \u001b[01;34mMyNiftyRec\u001b[0m/                 unnamed.png\n",
            " \u001b[01;34mMyTomoLab\u001b[0m/                 'Untitled project.gscript'\n"
          ],
          "name": "stdout"
        }
      ]
    },
    {
      "cell_type": "code",
      "metadata": {
        "colab": {
          "base_uri": "https://localhost:8080/"
        },
        "id": "cEKCEYtWvYx2",
        "outputId": "56a639ca-2dc8-4b58-a917-c87387c8bf8e"
      },
      "source": [
        "%ls '/gdrive/MyDrive/Fiji.app'"
      ],
      "execution_count": 14,
      "outputs": [
        {
          "output_type": "stream",
          "text": [
            "\u001b[0m\u001b[01;34mContents\u001b[0m/  ImageJ2.desktop  \u001b[01;34mimages\u001b[0m/  \u001b[01;34mjava\u001b[0m/  \u001b[01;34mmacros\u001b[0m/   README.md  \u001b[01;34mscripts\u001b[0m/\n",
            "db.xml.gz  ImageJ-linux64   \u001b[01;34mjars\u001b[0m/    \u001b[01;34mluts\u001b[0m/  \u001b[01;34mplugins\u001b[0m/  \u001b[01;34mretro\u001b[0m/     WELCOME.md\n"
          ],
          "name": "stdout"
        }
      ]
    },
    {
      "cell_type": "code",
      "metadata": {
        "colab": {
          "base_uri": "https://localhost:8080/"
        },
        "id": "L64ISLptvojc",
        "outputId": "6f44275f-e15f-48ae-ca66-fd5fcf8f0025"
      },
      "source": [
        "%ls -ltr '/gdrive/MyDrive/Fiji.app/ImageJ-linux64'"
      ],
      "execution_count": 15,
      "outputs": [
        {
          "output_type": "stream",
          "text": [
            "-rw------- 1 root root 90243 Feb 26 19:18 /gdrive/MyDrive/Fiji.app/ImageJ-linux64\n"
          ],
          "name": "stdout"
        }
      ]
    },
    {
      "cell_type": "code",
      "metadata": {
        "colab": {
          "base_uri": "https://localhost:8080/"
        },
        "id": "LjyuN_fj070O",
        "outputId": "488750ce-1fe0-49c6-c74e-4d2e4c01e6d8"
      },
      "source": [
        "pip install itk"
      ],
      "execution_count": 16,
      "outputs": [
        {
          "output_type": "stream",
          "text": [
            "Collecting itk\n",
            "  Downloading https://files.pythonhosted.org/packages/3e/0e/13b23943e30281de56d49b9dba4b1e5278078655405d466ae429c141da09/itk-5.1.2-cp37-cp37m-manylinux1_x86_64.whl\n",
            "Collecting itk-filtering==5.1.2\n",
            "\u001b[?25l  Downloading https://files.pythonhosted.org/packages/27/a4/3ef76dff4b91059cbb0a4b38221e4030a9476daa4f9f783e05300a46d9c0/itk_filtering-5.1.2-cp37-cp37m-manylinux1_x86_64.whl (68.0MB)\n",
            "\u001b[K     |████████████████████████████████| 68.0MB 66kB/s \n",
            "\u001b[?25hCollecting itk-io==5.1.2\n",
            "\u001b[?25l  Downloading https://files.pythonhosted.org/packages/1f/cf/d3d0c450e8ca2f265e34e66ab0c9af35d9c5e5c40a8653a12ebc672ddac6/itk_io-5.1.2-cp37-cp37m-manylinux1_x86_64.whl (14.0MB)\n",
            "\u001b[K     |████████████████████████████████| 14.0MB 31.2MB/s \n",
            "\u001b[?25hRequirement already satisfied: numpy in /usr/local/lib/python3.7/dist-packages (from itk) (1.19.5)\n",
            "Collecting itk-segmentation==5.1.2\n",
            "\u001b[?25l  Downloading https://files.pythonhosted.org/packages/fd/9b/958de177ee6460d5fa210a8126d3af96947ad365473024a3d20309eda8a1/itk_segmentation-5.1.2-cp37-cp37m-manylinux1_x86_64.whl (10.3MB)\n",
            "\u001b[K     |████████████████████████████████| 10.3MB 25.0MB/s \n",
            "\u001b[?25hCollecting itk-numerics==5.1.2\n",
            "\u001b[?25l  Downloading https://files.pythonhosted.org/packages/10/c3/476b9c06b0003c509cb9f8da947f90dffd23700b72d36b5589c65d17c60f/itk_numerics-5.1.2-cp37-cp37m-manylinux1_x86_64.whl (36.3MB)\n",
            "\u001b[K     |████████████████████████████████| 36.3MB 133kB/s \n",
            "\u001b[?25hCollecting itk-core==5.1.2\n",
            "\u001b[?25l  Downloading https://files.pythonhosted.org/packages/45/58/c4298e4470dc0d91900efb29a762de44da7f8051d7428476aa22eb1dfd24/itk_core-5.1.2-cp37-cp37m-manylinux1_x86_64.whl (50.1MB)\n",
            "\u001b[K     |████████████████████████████████| 50.1MB 68kB/s \n",
            "\u001b[?25hCollecting itk-registration==5.1.2\n",
            "\u001b[?25l  Downloading https://files.pythonhosted.org/packages/27/7a/7fde6cd47ddb5cb9f065313d26507cd723c6c4c3763e28875b1a19f718bf/itk_registration-5.1.2-cp37-cp37m-manylinux1_x86_64.whl (14.4MB)\n",
            "\u001b[K     |████████████████████████████████| 14.4MB 246kB/s \n",
            "\u001b[?25hInstalling collected packages: itk-core, itk-numerics, itk-filtering, itk-io, itk-segmentation, itk-registration, itk\n",
            "Successfully installed itk-5.1.2 itk-core-5.1.2 itk-filtering-5.1.2 itk-io-5.1.2 itk-numerics-5.1.2 itk-registration-5.1.2 itk-segmentation-5.1.2\n"
          ],
          "name": "stdout"
        }
      ]
    },
    {
      "cell_type": "code",
      "metadata": {
        "colab": {
          "base_uri": "https://localhost:8080/"
        },
        "id": "NxiCuQD1c4Au",
        "outputId": "715c93a8-aeb9-4c0c-b973-a37828af163d"
      },
      "source": [
        "cd '/gdrive/MyDrive/SimpleITK-Notebooks/Python'"
      ],
      "execution_count": 17,
      "outputs": [
        {
          "output_type": "stream",
          "text": [
            "/gdrive/MyDrive/SimpleITK-Notebooks/Python\n"
          ],
          "name": "stdout"
        }
      ]
    },
    {
      "cell_type": "code",
      "metadata": {
        "colab": {
          "base_uri": "https://localhost:8080/"
        },
        "id": "zo94bCxLdmDw",
        "outputId": "d5854213-e968-445c-db5e-568616a98e0c"
      },
      "source": [
        "!ls '/gdrive/MyDrive/SimpleITK-Notebooks/Python'"
      ],
      "execution_count": 18,
      "outputs": [
        {
          "output_type": "stream",
          "text": [
            " 00_Setup.ipynb\n",
            " 01_Image_Basics.ipynb\n",
            " 02_Pythonic_Image.ipynb\n",
            " 03_Image_Details.ipynb\n",
            " 04_Image_Display.ipynb\n",
            " 05_Results_Visualization.ipynb\n",
            "\"10_matplotlib's_imshow.ipynb\"\n",
            " 11_Progress.ipynb\n",
            " 20_Expand_With_Interpolators.ipynb\n",
            " 21_Transforms_and_Resampling.ipynb\n",
            " 22_Transforms.ipynb\n",
            " 300_Segmentation_Overview.ipynb\n",
            " 30_Segmentation_Region_Growing.ipynb\n",
            " 31_Levelset_Segmentation.ipynb\n",
            " 32_Watersheds_Segmentation.ipynb\n",
            " 33_Segmentation_Thresholding_Edge_Detection.ipynb\n",
            " 34_Segmentation_Evaluation.ipynb\n",
            " 35_Segmentation_Shape_Analysis.ipynb\n",
            " 36_Microscopy_Colocalization_Distance_Analysis.ipynb\n",
            " 51_VH_Segmentation1.ipynb\n",
            " 55_VH_Resample.ipynb\n",
            " 56_VH_Registration1.ipynb\n",
            " 60_Registration_Introduction.ipynb\n",
            " 61_Registration_Introduction_Continued.ipynb\n",
            " 62_Registration_Tuning.ipynb\n",
            " 63_Registration_Initialization.ipynb\n",
            " 64_Registration_Memory_Time_Tradeoff.ipynb\n",
            " 65_Registration_FFD.ipynb\n",
            " 66_Registration_Demons.ipynb\n",
            " 67_Registration_Semiautomatic_Homework.ipynb\n",
            " 68_Registration_Errors.ipynb\n",
            " 69_x-ray-panorama.ipynb\n",
            " 70_Data_Augmentation.ipynb\n",
            " 71_Trust_But_Verify.ipynb\n",
            " characterize_data.py\n",
            " environment.yml\n",
            " fle.svg\n",
            " gui.py\n",
            " hkaAngle.png\n",
            " ImageOriginAndSpacing.png\n",
            " ITKv4RegistrationComponentsDiagram.svg\n",
            " knobs.jpg\n",
            " myshow.py\n",
            " Output\n",
            " popi_utilities_setup.py\n",
            " pyjnius-1.2.0-py37h90b5fae_0.tar.bz2\n",
            " README.md\n",
            " registration_callbacks.py\n",
            " registration_utilities.py\n",
            " requirements.txt\n",
            " resampling.svg\n",
            " setup_for_testing.py\n",
            " update_path_to_download_script.py\n"
          ],
          "name": "stdout"
        }
      ]
    },
    {
      "cell_type": "code",
      "metadata": {
        "colab": {
          "base_uri": "https://localhost:8080/"
        },
        "id": "2VJK3girue3L",
        "outputId": "3deb3d92-e230-47fd-9709-97ab755ac07f"
      },
      "source": [
        "!echo $PATH"
      ],
      "execution_count": 19,
      "outputs": [
        {
          "output_type": "stream",
          "text": [
            "/usr/local/nvidia/bin:/usr/local/cuda/bin:/usr/local/sbin:/usr/local/bin:/usr/sbin:/usr/bin:/sbin:/bin:/tools/node/bin:/tools/google-cloud-sdk/bin:/opt/bin\n"
          ],
          "name": "stdout"
        }
      ]
    },
    {
      "cell_type": "code",
      "metadata": {
        "colab": {
          "base_uri": "https://localhost:8080/"
        },
        "id": "31xqqsYazl0V",
        "outputId": "59dec154-de63-4311-97e7-5fbfefd06f00"
      },
      "source": [
        "import os\r\n",
        "#os.environ['PYTHONPATH'] += \":/content/gdrive/My Drive/Colab Notebooks/MNIST_Classifier/src\"\r\n",
        "os.environ['PATH'] += \":/content/gdrive/My Drive/Fiji.app\"\r\n",
        "! echo $PATH"
      ],
      "execution_count": 20,
      "outputs": [
        {
          "output_type": "stream",
          "text": [
            "/usr/local/nvidia/bin:/usr/local/cuda/bin:/usr/local/sbin:/usr/local/bin:/usr/sbin:/usr/bin:/sbin:/bin:/tools/node/bin:/tools/google-cloud-sdk/bin:/opt/bin:/content/gdrive/My Drive/Fiji.app\n"
          ],
          "name": "stdout"
        }
      ]
    },
    {
      "cell_type": "code",
      "metadata": {
        "colab": {
          "base_uri": "https://localhost:8080/"
        },
        "id": "JdCouro_fDAV",
        "outputId": "260f9623-e2ae-455d-e1c2-832bea3b9e12"
      },
      "source": [
        "import SimpleITK as sitk\r\n",
        "\r\n",
        "%run update_path_to_download_script\r\n",
        "from downloaddata import fetch_data, fetch_data_all\r\n",
        "\r\n",
        "from ipywidgets import interact\r\n",
        "\r\n",
        "print(sitk.Version())"
      ],
      "execution_count": 21,
      "outputs": [
        {
          "output_type": "stream",
          "text": [
            "SimpleITK Version: 2.0.2 (ITK 5.1)\n",
            "Compiled: Dec  1 2020 22:01:03\n",
            "\n"
          ],
          "name": "stdout"
        }
      ]
    },
    {
      "cell_type": "code",
      "metadata": {
        "colab": {
          "base_uri": "https://localhost:8080/"
        },
        "id": "rnZUhGoR6NBx",
        "outputId": "9eca97c1-0ee5-4651-b8f1-f5c32442de37"
      },
      "source": [
        "!ls '/gdrive/MyDrive/SimpleITK-Notebooks/SimpleITK.jpg'"
      ],
      "execution_count": 22,
      "outputs": [
        {
          "output_type": "stream",
          "text": [
            "/gdrive/MyDrive/SimpleITK-Notebooks/SimpleITK.jpg\n"
          ],
          "name": "stdout"
        }
      ]
    },
    {
      "cell_type": "code",
      "metadata": {
        "colab": {
          "base_uri": "https://localhost:8080/"
        },
        "id": "DOb83V-DgBKQ",
        "outputId": "04f301d4-0368-4ade-8a93-b39a3ba5c351"
      },
      "source": [
        "# Uncomment the line below to change the default external viewer to your viewer of choice and test that it works.\r\n",
        "#%env SITK_SHOW_COMMAND /Applications/ITK-SNAP.app/Contents/MacOS/ITK-SNAP \r\n",
        "%env SITK_SHOW_COMMAND  /gdrive/MyDrive/Fiji.app/ImageJ-linux64\r\n",
        "\r\n",
        "# Retrieve an image from the network, read it and display using the external viewer. \r\n",
        "# The show method will also set the display window's title and by setting debugOn to True, \r\n",
        "# will also print information with respect to the command it is attempting to invoke.\r\n",
        "# NOTE: The debug information is printed to the terminal from which you launched the notebook\r\n",
        "#       server."
      ],
      "execution_count": 23,
      "outputs": [
        {
          "output_type": "stream",
          "text": [
            "env: SITK_SHOW_COMMAND=/gdrive/MyDrive/Fiji.app/ImageJ-linux64\n"
          ],
          "name": "stdout"
        }
      ]
    },
    {
      "cell_type": "code",
      "metadata": {
        "id": "jEDE6TIYYb1l"
      },
      "source": [
        "import sys\r\n",
        "sys.path.append('https://github.com/SimpleITK/ISBI2020_TUTORIAL/blob/master/')"
      ],
      "execution_count": 24,
      "outputs": []
    },
    {
      "cell_type": "code",
      "metadata": {
        "id": "laH8qeqWZJq0",
        "colab": {
          "base_uri": "https://localhost:8080/"
        },
        "outputId": "804d18ac-94a1-4f61-cb39-230c24587068"
      },
      "source": [
        "!cd '/gdrive/MyDrive/SimpleITK-Notebooks/Python'\r\n",
        "!ls -ltr"
      ],
      "execution_count": 27,
      "outputs": [
        {
          "output_type": "stream",
          "text": [
            "total 6258\n",
            "-rw------- 1 root root  209610 Feb 10  2019  pyjnius-1.2.0-py37h90b5fae_0.tar.bz2\n",
            "-rw------- 1 root root     187 Feb 25 20:46  update_path_to_download_script.py\n",
            "-rw------- 1 root root     799 Feb 25 20:46  setup_for_testing.py\n",
            "-rw------- 1 root root  170226 Feb 25 20:46  resampling.svg\n",
            "-rw------- 1 root root      94 Feb 25 20:46  requirements.txt\n",
            "-rw------- 1 root root   11684 Feb 25 20:46  registration_utilities.py\n",
            "-rw------- 1 root root    5589 Feb 25 20:46  registration_callbacks.py\n",
            "-rw------- 1 root root    2016 Feb 25 20:46  README.md\n",
            "-rw------- 1 root root    4481 Feb 25 20:46  popi_utilities_setup.py\n",
            "-rw------- 1 root root    3072 Feb 25 20:46  myshow.py\n",
            "-rw------- 1 root root  440562 Feb 25 20:46  knobs.jpg\n",
            "-rw------- 1 root root      54 Feb 25 20:46  ITKv4RegistrationComponentsDiagram.svg\n",
            "-rw------- 1 root root  115764 Feb 25 20:46  ImageOriginAndSpacing.png\n",
            "-rw------- 1 root root   46424 Feb 25 20:46  hkaAngle.png\n",
            "-rw------- 1 root root   63576 Feb 25 20:46  gui.py\n",
            "-rw------- 1 root root 4617214 Feb 25 20:46  fle.svg\n",
            "-rw------- 1 root root     236 Feb 25 20:46  environment.yml\n",
            "-rw------- 1 root root   20756 Feb 25 20:46  characterize_data.py\n",
            "-rw------- 1 root root   36195 Feb 25 20:46  71_Trust_But_Verify.ipynb\n",
            "-rw------- 1 root root   54284 Feb 25 20:46  70_Data_Augmentation.ipynb\n",
            "-rw------- 1 root root   32171 Feb 25 20:46  69_x-ray-panorama.ipynb\n",
            "-rw------- 1 root root   17879 Feb 25 20:46  68_Registration_Errors.ipynb\n",
            "-rw------- 1 root root   16464 Feb 25 20:46  67_Registration_Semiautomatic_Homework.ipynb\n",
            "-rw------- 1 root root   26277 Feb 25 20:46  66_Registration_Demons.ipynb\n",
            "-rw------- 1 root root   21027 Feb 25 20:46  65_Registration_FFD.ipynb\n",
            "-rw------- 1 root root   14894 Feb 25 20:46  64_Registration_Memory_Time_Tradeoff.ipynb\n",
            "-rw------- 1 root root   35714 Feb 25 20:46  63_Registration_Initialization.ipynb\n",
            "-rw------- 1 root root   17315 Feb 25 20:46  62_Registration_Tuning.ipynb\n",
            "-rw------- 1 root root   21680 Feb 25 20:46  61_Registration_Introduction_Continued.ipynb\n",
            "-rw------- 1 root root   19051 Feb 25 20:46  60_Registration_Introduction.ipynb\n",
            "-rw------- 1 root root    7619 Feb 25 20:46  56_VH_Registration1.ipynb\n",
            "-rw------- 1 root root    5241 Feb 25 20:46  55_VH_Resample.ipynb\n",
            "-rw------- 1 root root    1971 Feb 25 20:46  51_VH_Segmentation1.ipynb\n",
            "-rw------- 1 root root   16594 Feb 25 20:46  36_Microscopy_Colocalization_Distance_Analysis.ipynb\n",
            "-rw------- 1 root root   17755 Feb 25 20:46  35_Segmentation_Shape_Analysis.ipynb\n",
            "-rw------- 1 root root   25989 Feb 25 20:46  34_Segmentation_Evaluation.ipynb\n",
            "-rw------- 1 root root   14780 Feb 25 20:46  33_Segmentation_Thresholding_Edge_Detection.ipynb\n",
            "-rw------- 1 root root    7873 Feb 25 20:46  32_Watersheds_Segmentation.ipynb\n",
            "-rw------- 1 root root    5026 Feb 25 20:46  31_Levelset_Segmentation.ipynb\n",
            "-rw------- 1 root root   11087 Feb 25 20:46  30_Segmentation_Region_Growing.ipynb\n",
            "-rw------- 1 root root   12521 Feb 25 20:46  300_Segmentation_Overview.ipynb\n",
            "-rw------- 1 root root   54529 Feb 25 20:46  22_Transforms.ipynb\n",
            "-rw------- 1 root root   30911 Feb 25 20:46  21_Transforms_and_Resampling.ipynb\n",
            "-rw------- 1 root root    4574 Feb 25 20:46  20_Expand_With_Interpolators.ipynb\n",
            "-rw------- 1 root root   19738 Feb 25 20:46  11_Progress.ipynb\n",
            "-rw------- 1 root root   15770 Feb 25 20:46 \"10_matplotlib's_imshow.ipynb\"\n",
            "-rw------- 1 root root   33561 Feb 25 20:46  05_Results_Visualization.ipynb\n",
            "-rw------- 1 root root   12557 Feb 25 20:46  04_Image_Display.ipynb\n",
            "-rw------- 1 root root   39693 Feb 25 20:46  03_Image_Details.ipynb\n",
            "-rw------- 1 root root    9356 Feb 25 20:46  02_Pythonic_Image.ipynb\n",
            "-rw------- 1 root root   13494 Feb 25 20:46  01_Image_Basics.ipynb\n",
            "-rw------- 1 root root    5835 Feb 25 20:46  00_Setup.ipynb\n",
            "drwx------ 2 root root    4096 Feb 26 00:04  Output\n"
          ],
          "name": "stdout"
        }
      ]
    },
    {
      "cell_type": "markdown",
      "metadata": {
        "id": "0X1xv88mi_1C"
      },
      "source": [
        "Steps to Start Running Our Jupyter Notebooks on Google CoLab\r\n",
        "Download the notebook by going to File --> Download .ipynb.\r\n",
        "On the welcome screen click on UPLOAD and upload the .ipynb you've just downloaded.\r\n",
        "You're done! You should now be able to execute on the notebook."
      ]
    }
  ]
}