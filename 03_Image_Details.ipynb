{
  "nbformat": 4,
  "nbformat_minor": 0,
  "metadata": {
    "anaconda-cloud": {},
    "kernelspec": {
      "display_name": "Python 3",
      "language": "python",
      "name": "python3"
    },
    "language_info": {
      "codemirror_mode": {
        "name": "ipython",
        "version": 3
      },
      "file_extension": ".py",
      "mimetype": "text/x-python",
      "name": "python",
      "nbconvert_exporter": "python",
      "pygments_lexer": "ipython3",
      "version": "3.8.5"
    },
    "colab": {
      "name": "03_Image_Details.ipynb",
      "provenance": [],
      "collapsed_sections": [],
      "include_colab_link": true
    },
    "widgets": {
      "application/vnd.jupyter.widget-state+json": {
        "074d73809576403db74386239a93a9cb": {
          "model_module": "@jupyter-widgets/controls",
          "model_name": "VBoxModel",
          "state": {
            "_view_name": "VBoxView",
            "_dom_classes": [
              "widget-interact"
            ],
            "_model_name": "VBoxModel",
            "_view_module": "@jupyter-widgets/controls",
            "_model_module_version": "1.5.0",
            "_view_count": null,
            "_view_module_version": "1.5.0",
            "box_style": "",
            "layout": "IPY_MODEL_d3e189f5506142a9b75eb97ec649127f",
            "_model_module": "@jupyter-widgets/controls",
            "children": [
              "IPY_MODEL_92c6b7cfbce3410aad82511748e3fdf7",
              "IPY_MODEL_1e286cc2efa34a739c66fc09d370bfc4"
            ]
          }
        },
        "d3e189f5506142a9b75eb97ec649127f": {
          "model_module": "@jupyter-widgets/base",
          "model_name": "LayoutModel",
          "state": {
            "_view_name": "LayoutView",
            "grid_template_rows": null,
            "right": null,
            "justify_content": null,
            "_view_module": "@jupyter-widgets/base",
            "overflow": null,
            "_model_module_version": "1.2.0",
            "_view_count": null,
            "flex_flow": null,
            "width": null,
            "min_width": null,
            "border": null,
            "align_items": null,
            "bottom": null,
            "_model_module": "@jupyter-widgets/base",
            "top": null,
            "grid_column": null,
            "overflow_y": null,
            "overflow_x": null,
            "grid_auto_flow": null,
            "grid_area": null,
            "grid_template_columns": null,
            "flex": null,
            "_model_name": "LayoutModel",
            "justify_items": null,
            "grid_row": null,
            "max_height": null,
            "align_content": null,
            "visibility": null,
            "align_self": null,
            "height": null,
            "min_height": null,
            "padding": null,
            "grid_auto_rows": null,
            "grid_gap": null,
            "max_width": null,
            "order": null,
            "_view_module_version": "1.2.0",
            "grid_template_areas": null,
            "object_position": null,
            "object_fit": null,
            "grid_auto_columns": null,
            "margin": null,
            "display": null,
            "left": null
          }
        },
        "92c6b7cfbce3410aad82511748e3fdf7": {
          "model_module": "@jupyter-widgets/controls",
          "model_name": "IntSliderModel",
          "state": {
            "_view_name": "IntSliderView",
            "style": "IPY_MODEL_dab9ee0a65a143c69b8a809f5b119812",
            "_dom_classes": [],
            "description": "x",
            "step": 1,
            "_model_name": "IntSliderModel",
            "orientation": "horizontal",
            "max": 30,
            "_view_module": "@jupyter-widgets/controls",
            "_model_module_version": "1.5.0",
            "value": 10,
            "_view_count": null,
            "disabled": false,
            "_view_module_version": "1.5.0",
            "min": -10,
            "continuous_update": true,
            "readout_format": "d",
            "description_tooltip": null,
            "readout": true,
            "_model_module": "@jupyter-widgets/controls",
            "layout": "IPY_MODEL_9cb47e8fa76f433999a61e3143614a0d"
          }
        },
        "1e286cc2efa34a739c66fc09d370bfc4": {
          "model_module": "@jupyter-widgets/output",
          "model_name": "OutputModel",
          "state": {
            "_view_name": "OutputView",
            "msg_id": "",
            "_dom_classes": [],
            "_model_name": "OutputModel",
            "outputs": [
              {
                "output_type": "display_data",
                "metadata": {
                  "tags": []
                },
                "text/plain": "10"
              }
            ],
            "_view_module": "@jupyter-widgets/output",
            "_model_module_version": "1.0.0",
            "_view_count": null,
            "_view_module_version": "1.0.0",
            "layout": "IPY_MODEL_8ef2d79cd18841bd8df1aa05b8456f18",
            "_model_module": "@jupyter-widgets/output"
          }
        },
        "dab9ee0a65a143c69b8a809f5b119812": {
          "model_module": "@jupyter-widgets/controls",
          "model_name": "SliderStyleModel",
          "state": {
            "_view_name": "StyleView",
            "handle_color": null,
            "_model_name": "SliderStyleModel",
            "description_width": "",
            "_view_module": "@jupyter-widgets/base",
            "_model_module_version": "1.5.0",
            "_view_count": null,
            "_view_module_version": "1.2.0",
            "_model_module": "@jupyter-widgets/controls"
          }
        },
        "9cb47e8fa76f433999a61e3143614a0d": {
          "model_module": "@jupyter-widgets/base",
          "model_name": "LayoutModel",
          "state": {
            "_view_name": "LayoutView",
            "grid_template_rows": null,
            "right": null,
            "justify_content": null,
            "_view_module": "@jupyter-widgets/base",
            "overflow": null,
            "_model_module_version": "1.2.0",
            "_view_count": null,
            "flex_flow": null,
            "width": null,
            "min_width": null,
            "border": null,
            "align_items": null,
            "bottom": null,
            "_model_module": "@jupyter-widgets/base",
            "top": null,
            "grid_column": null,
            "overflow_y": null,
            "overflow_x": null,
            "grid_auto_flow": null,
            "grid_area": null,
            "grid_template_columns": null,
            "flex": null,
            "_model_name": "LayoutModel",
            "justify_items": null,
            "grid_row": null,
            "max_height": null,
            "align_content": null,
            "visibility": null,
            "align_self": null,
            "height": null,
            "min_height": null,
            "padding": null,
            "grid_auto_rows": null,
            "grid_gap": null,
            "max_width": null,
            "order": null,
            "_view_module_version": "1.2.0",
            "grid_template_areas": null,
            "object_position": null,
            "object_fit": null,
            "grid_auto_columns": null,
            "margin": null,
            "display": null,
            "left": null
          }
        },
        "8ef2d79cd18841bd8df1aa05b8456f18": {
          "model_module": "@jupyter-widgets/base",
          "model_name": "LayoutModel",
          "state": {
            "_view_name": "LayoutView",
            "grid_template_rows": null,
            "right": null,
            "justify_content": null,
            "_view_module": "@jupyter-widgets/base",
            "overflow": null,
            "_model_module_version": "1.2.0",
            "_view_count": null,
            "flex_flow": null,
            "width": null,
            "min_width": null,
            "border": null,
            "align_items": null,
            "bottom": null,
            "_model_module": "@jupyter-widgets/base",
            "top": null,
            "grid_column": null,
            "overflow_y": null,
            "overflow_x": null,
            "grid_auto_flow": null,
            "grid_area": null,
            "grid_template_columns": null,
            "flex": null,
            "_model_name": "LayoutModel",
            "justify_items": null,
            "grid_row": null,
            "max_height": null,
            "align_content": null,
            "visibility": null,
            "align_self": null,
            "height": null,
            "min_height": null,
            "padding": null,
            "grid_auto_rows": null,
            "grid_gap": null,
            "max_width": null,
            "order": null,
            "_view_module_version": "1.2.0",
            "grid_template_areas": null,
            "object_position": null,
            "object_fit": null,
            "grid_auto_columns": null,
            "margin": null,
            "display": null,
            "left": null
          }
        }
      }
    }
  },
  "cells": [
    {
      "cell_type": "markdown",
      "metadata": {
        "id": "view-in-github",
        "colab_type": "text"
      },
      "source": [
        "<a href=\"https://colab.research.google.com/github/BillWorstell/ISBI2020_TUTORIAL/blob/master/03_Image_Details.ipynb\" target=\"_parent\"><img src=\"https://colab.research.google.com/assets/colab-badge.svg\" alt=\"Open In Colab\"/></a>"
      ]
    },
    {
      "cell_type": "markdown",
      "metadata": {
        "id": "IeR9M8qOCbun"
      },
      "source": [
        "<h1 align=\"center\">Images <a href=\"https://mybinder.org/v2/gh/InsightSoftwareConsortium/SimpleITK-Notebooks/master?filepath=Python%2F03_Image_Details.ipynb\"><img style=\"float: right;\" src=\"https://mybinder.org/badge_logo.svg\"></a></h1>\n",
        "\n",
        "<table width=\"100%\">\n",
        "<tr style=\"background-color: red;\"><td><font color=\"white\">SimpleITK conventions:</font></td></tr>\n",
        "<tr><td>\n",
        "<ul>\n",
        "<li>Image access is in x,y,z order, image.GetPixel(x,y,z) or image[x,y,z], with zero based indexing.</li>\n",
        "<li>If the output of an ITK filter has non-zero starting index, then the index will be set to 0, and the origin adjusted accordingly.</li>\n",
        "</ul>\n",
        "</td></tr>\n",
        "</table>\n",
        "\n",
        "The unique feature of SimpleITK (derived from ITK) as a toolkit for image manipulation and analysis is that it views <b>images as physical objects occupying a bounded region in physical space</b>. In addition images can have different spacing between pixels along each axis, and the axes are not necessarily orthogonal. The following figure illustrates these concepts. \n",
        "\n",
        "<img src=\"ImageOriginAndSpacing.png\" style=\"width:700px\"/><br><br>\n",
        "\n",
        "\n",
        "### Pixel Types\n",
        "\n",
        "The pixel type is represented as an enumerated type. The following is a table of the enumerated list.\n",
        "\n",
        "<table>\n",
        "  <tr><td>sitkUInt8</td><td>Unsigned 8 bit integer</td></tr>\n",
        "  <tr><td>sitkInt8</td><td>Signed 8 bit integer</td></tr>\n",
        "  <tr><td>sitkUInt16</td><td>Unsigned 16 bit integer</td></tr>\n",
        "  <tr><td>sitkInt16</td><td>Signed 16 bit integer</td></tr>\n",
        "  <tr><td>sitkUInt32</td><td>Unsigned 32 bit integer</td></tr>\n",
        "  <tr><td>sitkInt32</td><td>Signed 32 bit integer</td></tr>\n",
        "  <tr><td>sitkUInt64</td><td>Unsigned 64 bit integer</td></tr>\n",
        "  <tr><td>sitkInt64</td><td>Signed 64 bit integer</td></tr>\n",
        "  <tr><td>sitkFloat32</td><td>32 bit float</td></tr>\n",
        "  <tr><td>sitkFloat64</td><td>64 bit float</td></tr>\n",
        "  <tr><td>sitkComplexFloat32</td><td>complex number of 32 bit float</td></tr>\n",
        "  <tr><td>sitkComplexFloat64</td><td>complex number of 64 bit float</td></tr>\n",
        "  <tr><td>sitkVectorUInt8</td><td>Multi-component of unsigned 8 bit integer</td></tr>\n",
        "  <tr><td>sitkVectorInt8</td><td>Multi-component of signed 8 bit integer</td></tr>\n",
        "  <tr><td>sitkVectorUInt16</td><td>Multi-component of unsigned 16 bit integer</td></tr>\n",
        "  <tr><td>sitkVectorInt16</td><td>Multi-component of signed 16 bit integer</td></tr>\n",
        "  <tr><td>sitkVectorUInt32</td><td>Multi-component of unsigned 32 bit integer</td></tr>\n",
        "  <tr><td>sitkVectorInt32</td><td>Multi-component of signed 32 bit integer</td></tr>\n",
        "  <tr><td>sitkVectorUInt64</td><td>Multi-component of unsigned 64 bit integer</td></tr>\n",
        "  <tr><td>sitkVectorInt64</td><td>Multi-component of signed 64 bit integer</td></tr>\n",
        "  <tr><td>sitkVectorFloat32</td><td>Multi-component of 32 bit float</td></tr>\n",
        "  <tr><td>sitkVectorFloat64</td><td>Multi-component of 64 bit float</td></tr>\n",
        "  <tr><td>sitkLabelUInt8</td><td>RLE label of unsigned 8 bit integers</td></tr>\n",
        "  <tr><td>sitkLabelUInt16</td><td>RLE label of unsigned 16 bit integers</td></tr>\n",
        "  <tr><td>sitkLabelUInt32</td><td>RLE label of unsigned 32 bit integers</td></tr>\n",
        "  <tr><td>sitkLabelUInt64</td><td>RLE label of unsigned 64 bit integers</td></tr>\n",
        "</table>\n",
        "\n",
        "There is also `sitkUnknown`, which is used for undefined or erroneous pixel ID's. It has a value of -1.\n",
        "\n",
        "The 64-bit integer types are not available on all distributions. When not available the value is `sitkUnknown`."
      ]
    },
    {
      "cell_type": "markdown",
      "metadata": {
        "id": "82lLi7zNDacj"
      },
      "source": [
        "## Install SimpleITK and Environment\n",
        "\n",
        "Expects to find on MyDrive:\n",
        " \n",
        "/gdrive/MyDrive/SimpleITK-Notebooks/Python\n",
        "\n",
        "/gdrive/MyDrive/SimpleITK-Notebooks/Python/requirements.txt\n",
        "\n",
        "/gdrive/MyDrive/Fiji.app/ImageJ-linux64\n",
        "\n",
        "<img src=\"figures/ImageOriginAndSpacing.png\" style=\"width:700px\"/><br><br>"
      ]
    },
    {
      "cell_type": "code",
      "metadata": {
        "colab": {
          "base_uri": "https://localhost:8080/"
        },
        "id": "CBRDhNEYdGiw",
        "outputId": "2cbe5480-821b-441f-fcb1-0814b651271f"
      },
      "source": [
        "pip install virtualenv"
      ],
      "execution_count": null,
      "outputs": [
        {
          "output_type": "stream",
          "text": [
            "Collecting virtualenv\n",
            "\u001b[?25l  Downloading https://files.pythonhosted.org/packages/9f/fb/7423637e48cffbb2e567ca113d2b05068f8b457dde998ab487adf7386c86/virtualenv-20.4.2-py2.py3-none-any.whl (7.2MB)\n",
            "\u001b[K     |████████████████████████████████| 7.2MB 8.7MB/s \n",
            "\u001b[?25hCollecting distlib<1,>=0.3.1\n",
            "\u001b[?25l  Downloading https://files.pythonhosted.org/packages/f5/0a/490fa011d699bb5a5f3a0cf57de82237f52a6db9d40f33c53b2736c9a1f9/distlib-0.3.1-py2.py3-none-any.whl (335kB)\n",
            "\u001b[K     |████████████████████████████████| 337kB 15.7MB/s \n",
            "\u001b[?25hRequirement already satisfied: filelock<4,>=3.0.0 in /usr/local/lib/python3.7/dist-packages (from virtualenv) (3.0.12)\n",
            "Requirement already satisfied: appdirs<2,>=1.4.3 in /usr/local/lib/python3.7/dist-packages (from virtualenv) (1.4.4)\n",
            "Requirement already satisfied: six<2,>=1.9.0 in /usr/local/lib/python3.7/dist-packages (from virtualenv) (1.15.0)\n",
            "Requirement already satisfied: importlib-metadata>=0.12; python_version < \"3.8\" in /usr/local/lib/python3.7/dist-packages (from virtualenv) (3.7.0)\n",
            "Requirement already satisfied: zipp>=0.5 in /usr/local/lib/python3.7/dist-packages (from importlib-metadata>=0.12; python_version < \"3.8\"->virtualenv) (3.4.0)\n",
            "Requirement already satisfied: typing-extensions>=3.6.4; python_version < \"3.8\" in /usr/local/lib/python3.7/dist-packages (from importlib-metadata>=0.12; python_version < \"3.8\"->virtualenv) (3.7.4.3)\n",
            "Installing collected packages: distlib, virtualenv\n",
            "Successfully installed distlib-0.3.1 virtualenv-20.4.2\n"
          ],
          "name": "stdout"
        }
      ]
    },
    {
      "cell_type": "code",
      "metadata": {
        "colab": {
          "base_uri": "https://localhost:8080/"
        },
        "id": "hg21VPYEdMpH",
        "outputId": "99623b78-72da-40b6-8ca7-763c9bdb90fa"
      },
      "source": [
        "#!virtualenv ~/sitkpy --no-site-packages\r\n",
        "!virtualenv ~/sitkpy"
      ],
      "execution_count": null,
      "outputs": [
        {
          "output_type": "stream",
          "text": [
            "created virtual environment CPython3.7.10.final.0-64 in 1071ms\n",
            "  creator CPython3Posix(dest=/root/sitkpy, clear=False, no_vcs_ignore=False, global=False)\n",
            "  seeder FromAppData(download=False, pip=bundle, setuptools=bundle, wheel=bundle, via=copy, app_data_dir=/root/.local/share/virtualenv)\n",
            "    added seed packages: pip==21.0.1, setuptools==52.0.0, wheel==0.36.2\n",
            "  activators BashActivator,CShellActivator,FishActivator,PowerShellActivator,PythonActivator,XonshActivator\n"
          ],
          "name": "stdout"
        }
      ]
    },
    {
      "cell_type": "code",
      "metadata": {
        "colab": {
          "base_uri": "https://localhost:8080/"
        },
        "id": "79YntY-odSP1",
        "outputId": "2167f718-b403-405e-81d9-1c46b345ee5e"
      },
      "source": [
        "from google.colab import drive\r\n",
        "drive.mount('/gdrive')\r\n",
        "%cd /gdrive"
      ],
      "execution_count": null,
      "outputs": [
        {
          "output_type": "stream",
          "text": [
            "Mounted at /gdrive\n",
            "/gdrive\n"
          ],
          "name": "stdout"
        }
      ]
    },
    {
      "cell_type": "code",
      "metadata": {
        "colab": {
          "base_uri": "https://localhost:8080/"
        },
        "id": "kw9eGdBadle2",
        "outputId": "dd8c6ef4-2f4c-4778-e567-7cd7b2281afa"
      },
      "source": [
        "#!pip install -r '/gdrive/MyDrive/SimpleITK-Notebooks/Python/requirements.txt'\r\n",
        "!~/sitkpy/bin/pip install -r '/gdrive/MyDrive/SimpleITK-Notebooks/Python/requirements.txt'"
      ],
      "execution_count": null,
      "outputs": [
        {
          "output_type": "stream",
          "text": [
            "Collecting SimpleITK>=2.0.0\n",
            "  Downloading SimpleITK-2.0.2-cp37-cp37m-manylinux2010_x86_64.whl (47.4 MB)\n",
            "\u001b[K     |████████████████████████████████| 47.4 MB 48 kB/s \n",
            "\u001b[?25hCollecting jupyter\n",
            "  Downloading jupyter-1.0.0-py2.py3-none-any.whl (2.7 kB)\n",
            "Collecting matplotlib\n",
            "  Downloading matplotlib-3.3.4-cp37-cp37m-manylinux1_x86_64.whl (11.5 MB)\n",
            "\u001b[K     |████████████████████████████████| 11.5 MB 44.1 MB/s \n",
            "\u001b[?25hCollecting ipywidgets\n",
            "  Downloading ipywidgets-7.6.3-py2.py3-none-any.whl (121 kB)\n",
            "\u001b[K     |████████████████████████████████| 121 kB 52.9 MB/s \n",
            "\u001b[?25hCollecting numpy\n",
            "  Downloading numpy-1.20.1-cp37-cp37m-manylinux2010_x86_64.whl (15.3 MB)\n",
            "\u001b[K     |████████████████████████████████| 15.3 MB 164 kB/s \n",
            "\u001b[?25hCollecting scipy\n",
            "  Downloading scipy-1.6.1-cp37-cp37m-manylinux1_x86_64.whl (27.4 MB)\n",
            "\u001b[K     |████████████████████████████████| 27.4 MB 70 kB/s \n",
            "\u001b[?25hCollecting pandas\n",
            "  Downloading pandas-1.2.2-cp37-cp37m-manylinux1_x86_64.whl (9.9 MB)\n",
            "\u001b[K     |████████████████████████████████| 9.9 MB 50.2 MB/s \n",
            "\u001b[?25hCollecting numba\n",
            "  Downloading numba-0.52.0-cp37-cp37m-manylinux2014_x86_64.whl (3.2 MB)\n",
            "\u001b[K     |████████████████████████████████| 3.2 MB 41.8 MB/s \n",
            "\u001b[?25hCollecting multiprocess\n",
            "  Downloading multiprocess-0.70.11.1-py37-none-any.whl (108 kB)\n",
            "\u001b[K     |████████████████████████████████| 108 kB 67.5 MB/s \n",
            "\u001b[?25hCollecting ipython>=4.0.0\n",
            "  Downloading ipython-7.21.0-py3-none-any.whl (784 kB)\n",
            "\u001b[K     |████████████████████████████████| 784 kB 45.2 MB/s \n",
            "\u001b[?25hCollecting widgetsnbextension~=3.5.0\n",
            "  Downloading widgetsnbextension-3.5.1-py2.py3-none-any.whl (2.2 MB)\n",
            "\u001b[K     |████████████████████████████████| 2.2 MB 53.6 MB/s \n",
            "\u001b[?25hCollecting jupyterlab-widgets>=1.0.0\n",
            "  Downloading jupyterlab_widgets-1.0.0-py3-none-any.whl (243 kB)\n",
            "\u001b[K     |████████████████████████████████| 243 kB 71.3 MB/s \n",
            "\u001b[?25hCollecting ipykernel>=4.5.1\n",
            "  Downloading ipykernel-5.5.0-py3-none-any.whl (120 kB)\n",
            "\u001b[K     |████████████████████████████████| 120 kB 60.9 MB/s \n",
            "\u001b[?25hCollecting nbformat>=4.2.0\n",
            "  Downloading nbformat-5.1.2-py3-none-any.whl (113 kB)\n",
            "\u001b[K     |████████████████████████████████| 113 kB 55.0 MB/s \n",
            "\u001b[?25hCollecting traitlets>=4.3.1\n",
            "  Downloading traitlets-5.0.5-py3-none-any.whl (100 kB)\n",
            "\u001b[K     |████████████████████████████████| 100 kB 9.1 MB/s \n",
            "\u001b[?25hCollecting jupyter-client\n",
            "  Downloading jupyter_client-6.1.11-py3-none-any.whl (108 kB)\n",
            "\u001b[K     |████████████████████████████████| 108 kB 34.9 MB/s \n",
            "\u001b[?25hCollecting tornado>=4.2\n",
            "  Downloading tornado-6.1-cp37-cp37m-manylinux2010_x86_64.whl (428 kB)\n",
            "\u001b[K     |████████████████████████████████| 428 kB 46.0 MB/s \n",
            "\u001b[?25hCollecting pexpect>4.3\n",
            "  Downloading pexpect-4.8.0-py2.py3-none-any.whl (59 kB)\n",
            "\u001b[K     |████████████████████████████████| 59 kB 5.4 MB/s \n",
            "\u001b[?25hCollecting decorator\n",
            "  Downloading decorator-4.4.2-py2.py3-none-any.whl (9.2 kB)\n",
            "Collecting backcall\n",
            "  Downloading backcall-0.2.0-py2.py3-none-any.whl (11 kB)\n",
            "Collecting jedi>=0.16\n",
            "  Downloading jedi-0.18.0-py2.py3-none-any.whl (1.4 MB)\n",
            "\u001b[K     |████████████████████████████████| 1.4 MB 44.6 MB/s \n",
            "\u001b[?25hRequirement already satisfied: setuptools>=18.5 in /root/sitkpy/lib/python3.7/site-packages (from ipython>=4.0.0->ipywidgets->-r /gdrive/MyDrive/SimpleITK-Notebooks/Python/requirements.txt (line 4)) (52.0.0)\n",
            "Collecting pygments\n",
            "  Downloading Pygments-2.8.0-py3-none-any.whl (983 kB)\n",
            "\u001b[K     |████████████████████████████████| 983 kB 44.7 MB/s \n",
            "\u001b[?25hCollecting prompt-toolkit!=3.0.0,!=3.0.1,<3.1.0,>=2.0.0\n",
            "  Downloading prompt_toolkit-3.0.16-py3-none-any.whl (366 kB)\n",
            "\u001b[K     |████████████████████████████████| 366 kB 66.1 MB/s \n",
            "\u001b[?25hCollecting pickleshare\n",
            "  Downloading pickleshare-0.7.5-py2.py3-none-any.whl (6.9 kB)\n",
            "Collecting parso<0.9.0,>=0.8.0\n",
            "  Downloading parso-0.8.1-py2.py3-none-any.whl (93 kB)\n",
            "\u001b[K     |████████████████████████████████| 93 kB 1.8 MB/s \n",
            "\u001b[?25hCollecting jupyter-core\n",
            "  Downloading jupyter_core-4.7.1-py3-none-any.whl (82 kB)\n",
            "\u001b[K     |████████████████████████████████| 82 kB 864 kB/s \n",
            "\u001b[?25hCollecting ipython-genutils\n",
            "  Downloading ipython_genutils-0.2.0-py2.py3-none-any.whl (26 kB)\n",
            "Collecting jsonschema!=2.5.0,>=2.4\n",
            "  Downloading jsonschema-3.2.0-py2.py3-none-any.whl (56 kB)\n",
            "\u001b[K     |████████████████████████████████| 56 kB 4.0 MB/s \n",
            "\u001b[?25hCollecting attrs>=17.4.0\n",
            "  Downloading attrs-20.3.0-py2.py3-none-any.whl (49 kB)\n",
            "\u001b[K     |████████████████████████████████| 49 kB 5.2 MB/s \n",
            "\u001b[?25hCollecting importlib-metadata\n",
            "  Downloading importlib_metadata-3.7.0-py3-none-any.whl (11 kB)\n",
            "Collecting six>=1.11.0\n",
            "  Downloading six-1.15.0-py2.py3-none-any.whl (10 kB)\n",
            "Collecting pyrsistent>=0.14.0\n",
            "  Downloading pyrsistent-0.17.3.tar.gz (106 kB)\n",
            "\u001b[K     |████████████████████████████████| 106 kB 55.3 MB/s \n",
            "\u001b[?25hCollecting ptyprocess>=0.5\n",
            "  Downloading ptyprocess-0.7.0-py2.py3-none-any.whl (13 kB)\n",
            "Collecting wcwidth\n",
            "  Downloading wcwidth-0.2.5-py2.py3-none-any.whl (30 kB)\n",
            "Collecting notebook>=4.4.1\n",
            "  Downloading notebook-6.2.0-py3-none-any.whl (9.5 MB)\n",
            "\u001b[K     |████████████████████████████████| 9.5 MB 27.2 MB/s \n",
            "\u001b[?25hCollecting jinja2\n",
            "  Downloading Jinja2-2.11.3-py2.py3-none-any.whl (125 kB)\n",
            "\u001b[K     |████████████████████████████████| 125 kB 70.3 MB/s \n",
            "\u001b[?25hCollecting argon2-cffi\n",
            "  Downloading argon2_cffi-20.1.0-cp35-abi3-manylinux1_x86_64.whl (97 kB)\n",
            "\u001b[K     |████████████████████████████████| 97 kB 7.6 MB/s \n",
            "\u001b[?25hCollecting Send2Trash>=1.5.0\n",
            "  Downloading Send2Trash-1.5.0-py3-none-any.whl (12 kB)\n",
            "Collecting prometheus-client\n",
            "  Downloading prometheus_client-0.9.0-py2.py3-none-any.whl (53 kB)\n",
            "\u001b[K     |████████████████████████████████| 53 kB 2.2 MB/s \n",
            "\u001b[?25hCollecting nbconvert\n",
            "  Downloading nbconvert-6.0.7-py3-none-any.whl (552 kB)\n",
            "\u001b[K     |████████████████████████████████| 552 kB 44.5 MB/s \n",
            "\u001b[?25hCollecting terminado>=0.8.3\n",
            "  Downloading terminado-0.9.2-py3-none-any.whl (14 kB)\n",
            "Collecting pyzmq>=17\n",
            "  Downloading pyzmq-22.0.3-cp37-cp37m-manylinux1_x86_64.whl (1.1 MB)\n",
            "\u001b[K     |████████████████████████████████| 1.1 MB 43.3 MB/s \n",
            "\u001b[?25hCollecting python-dateutil>=2.1\n",
            "  Downloading python_dateutil-2.8.1-py2.py3-none-any.whl (227 kB)\n",
            "\u001b[K     |████████████████████████████████| 227 kB 59.1 MB/s \n",
            "\u001b[?25hCollecting jupyter-console\n",
            "  Downloading jupyter_console-6.2.0-py3-none-any.whl (22 kB)\n",
            "Collecting qtconsole\n",
            "  Downloading qtconsole-5.0.2-py3-none-any.whl (119 kB)\n",
            "\u001b[K     |████████████████████████████████| 119 kB 50.1 MB/s \n",
            "\u001b[?25hCollecting cycler>=0.10\n",
            "  Downloading cycler-0.10.0-py2.py3-none-any.whl (6.5 kB)\n",
            "Collecting pyparsing!=2.0.4,!=2.1.2,!=2.1.6,>=2.0.3\n",
            "  Downloading pyparsing-2.4.7-py2.py3-none-any.whl (67 kB)\n",
            "\u001b[K     |████████████████████████████████| 67 kB 4.9 MB/s \n",
            "\u001b[?25hCollecting pillow>=6.2.0\n",
            "  Downloading Pillow-8.1.0-cp37-cp37m-manylinux1_x86_64.whl (2.2 MB)\n",
            "\u001b[K     |████████████████████████████████| 2.2 MB 41.5 MB/s \n",
            "\u001b[?25hCollecting kiwisolver>=1.0.1\n",
            "  Downloading kiwisolver-1.3.1-cp37-cp37m-manylinux1_x86_64.whl (1.1 MB)\n",
            "\u001b[K     |████████████████████████████████| 1.1 MB 37.8 MB/s \n",
            "\u001b[?25hCollecting dill>=0.3.3\n",
            "  Downloading dill-0.3.3-py2.py3-none-any.whl (81 kB)\n",
            "\u001b[K     |████████████████████████████████| 81 kB 9.5 MB/s \n",
            "\u001b[?25hCollecting llvmlite<0.36,>=0.35.0\n",
            "  Downloading llvmlite-0.35.0-cp37-cp37m-manylinux2010_x86_64.whl (25.3 MB)\n",
            "\u001b[K     |████████████████████████████████| 25.3 MB 60.7 MB/s \n",
            "\u001b[?25hCollecting pytz>=2017.3\n",
            "  Downloading pytz-2021.1-py2.py3-none-any.whl (510 kB)\n",
            "\u001b[K     |████████████████████████████████| 510 kB 64.0 MB/s \n",
            "\u001b[?25hCollecting cffi>=1.0.0\n",
            "  Downloading cffi-1.14.5-cp37-cp37m-manylinux1_x86_64.whl (402 kB)\n",
            "\u001b[K     |████████████████████████████████| 402 kB 74.0 MB/s \n",
            "\u001b[?25hCollecting pycparser\n",
            "  Downloading pycparser-2.20-py2.py3-none-any.whl (112 kB)\n",
            "\u001b[K     |████████████████████████████████| 112 kB 51.6 MB/s \n",
            "\u001b[?25hCollecting typing-extensions>=3.6.4\n",
            "  Downloading typing_extensions-3.7.4.3-py3-none-any.whl (22 kB)\n",
            "Collecting zipp>=0.5\n",
            "  Downloading zipp-3.4.0-py3-none-any.whl (5.2 kB)\n",
            "Collecting MarkupSafe>=0.23\n",
            "  Downloading MarkupSafe-1.1.1-cp37-cp37m-manylinux2010_x86_64.whl (33 kB)\n",
            "Collecting defusedxml\n",
            "  Downloading defusedxml-0.6.0-py2.py3-none-any.whl (23 kB)\n",
            "Collecting testpath\n",
            "  Downloading testpath-0.4.4-py2.py3-none-any.whl (163 kB)\n",
            "\u001b[K     |████████████████████████████████| 163 kB 70.0 MB/s \n",
            "\u001b[?25hCollecting nbclient<0.6.0,>=0.5.0\n",
            "  Downloading nbclient-0.5.3-py3-none-any.whl (82 kB)\n",
            "\u001b[K     |████████████████████████████████| 82 kB 861 kB/s \n",
            "\u001b[?25hCollecting entrypoints>=0.2.2\n",
            "  Downloading entrypoints-0.3-py2.py3-none-any.whl (11 kB)\n",
            "Collecting mistune<2,>=0.8.1\n",
            "  Downloading mistune-0.8.4-py2.py3-none-any.whl (16 kB)\n",
            "Collecting jupyterlab-pygments\n",
            "  Downloading jupyterlab_pygments-0.1.2-py2.py3-none-any.whl (4.6 kB)\n",
            "Collecting bleach\n",
            "  Downloading bleach-3.3.0-py2.py3-none-any.whl (283 kB)\n",
            "\u001b[K     |████████████████████████████████| 283 kB 47.8 MB/s \n",
            "\u001b[?25hCollecting pandocfilters>=1.4.1\n",
            "  Downloading pandocfilters-1.4.3.tar.gz (16 kB)\n",
            "Collecting async-generator\n",
            "  Downloading async_generator-1.10-py3-none-any.whl (18 kB)\n",
            "Collecting nest-asyncio\n",
            "  Downloading nest_asyncio-1.5.1-py3-none-any.whl (5.0 kB)\n",
            "Collecting packaging\n",
            "  Downloading packaging-20.9-py2.py3-none-any.whl (40 kB)\n",
            "\u001b[K     |████████████████████████████████| 40 kB 5.1 MB/s \n",
            "\u001b[?25hCollecting webencodings\n",
            "  Downloading webencodings-0.5.1-py2.py3-none-any.whl (11 kB)\n",
            "Collecting qtpy\n",
            "  Downloading QtPy-1.9.0-py2.py3-none-any.whl (54 kB)\n",
            "\u001b[K     |████████████████████████████████| 54 kB 2.3 MB/s \n",
            "\u001b[?25hBuilding wheels for collected packages: pyrsistent, pandocfilters\n",
            "  Building wheel for pyrsistent (setup.py) ... \u001b[?25l\u001b[?25hdone\n",
            "  Created wheel for pyrsistent: filename=pyrsistent-0.17.3-cp37-cp37m-linux_x86_64.whl size=98049 sha256=516e4f004d2aa32fdae7718782c55ed65edb210688e757a48f5ca88288fed777\n",
            "  Stored in directory: /root/.cache/pip/wheels/a5/52/bf/71258a1d7b3c8cbe1ee53f9314c6f65f20385481eaee573cc5\n",
            "  Building wheel for pandocfilters (setup.py) ... \u001b[?25l\u001b[?25hdone\n",
            "  Created wheel for pandocfilters: filename=pandocfilters-1.4.3-py3-none-any.whl size=7992 sha256=6bef088b0eeef6cd6f3271c89b9a58fd66e5cf0c31955004dda2560f63d1816c\n",
            "  Stored in directory: /root/.cache/pip/wheels/42/81/34/545dc2fbf0e9137811e901108d37fc04650e81d48f97078000\n",
            "Successfully built pyrsistent pandocfilters\n",
            "Installing collected packages: zipp, typing-extensions, ipython-genutils, traitlets, six, pyrsistent, importlib-metadata, attrs, wcwidth, tornado, pyzmq, python-dateutil, pyparsing, ptyprocess, parso, jupyter-core, jsonschema, webencodings, pygments, pycparser, prompt-toolkit, pickleshare, pexpect, packaging, nest-asyncio, nbformat, MarkupSafe, jupyter-client, jedi, decorator, backcall, async-generator, testpath, pandocfilters, nbclient, mistune, jupyterlab-pygments, jinja2, ipython, entrypoints, defusedxml, cffi, bleach, terminado, Send2Trash, prometheus-client, nbconvert, ipykernel, argon2-cffi, notebook, widgetsnbextension, qtpy, jupyterlab-widgets, qtconsole, pytz, pillow, numpy, llvmlite, kiwisolver, jupyter-console, ipywidgets, dill, cycler, SimpleITK, scipy, pandas, numba, multiprocess, matplotlib, jupyter\n",
            "Successfully installed MarkupSafe-1.1.1 Send2Trash-1.5.0 SimpleITK-2.0.2 argon2-cffi-20.1.0 async-generator-1.10 attrs-20.3.0 backcall-0.2.0 bleach-3.3.0 cffi-1.14.5 cycler-0.10.0 decorator-4.4.2 defusedxml-0.6.0 dill-0.3.3 entrypoints-0.3 importlib-metadata-3.7.0 ipykernel-5.5.0 ipython-7.21.0 ipython-genutils-0.2.0 ipywidgets-7.6.3 jedi-0.18.0 jinja2-2.11.3 jsonschema-3.2.0 jupyter-1.0.0 jupyter-client-6.1.11 jupyter-console-6.2.0 jupyter-core-4.7.1 jupyterlab-pygments-0.1.2 jupyterlab-widgets-1.0.0 kiwisolver-1.3.1 llvmlite-0.35.0 matplotlib-3.3.4 mistune-0.8.4 multiprocess-0.70.11.1 nbclient-0.5.3 nbconvert-6.0.7 nbformat-5.1.2 nest-asyncio-1.5.1 notebook-6.2.0 numba-0.52.0 numpy-1.20.1 packaging-20.9 pandas-1.2.2 pandocfilters-1.4.3 parso-0.8.1 pexpect-4.8.0 pickleshare-0.7.5 pillow-8.1.0 prometheus-client-0.9.0 prompt-toolkit-3.0.16 ptyprocess-0.7.0 pycparser-2.20 pygments-2.8.0 pyparsing-2.4.7 pyrsistent-0.17.3 python-dateutil-2.8.1 pytz-2021.1 pyzmq-22.0.3 qtconsole-5.0.2 qtpy-1.9.0 scipy-1.6.1 six-1.15.0 terminado-0.9.2 testpath-0.4.4 tornado-6.1 traitlets-5.0.5 typing-extensions-3.7.4.3 wcwidth-0.2.5 webencodings-0.5.1 widgetsnbextension-3.5.1 zipp-3.4.0\n"
          ],
          "name": "stdout"
        }
      ]
    },
    {
      "cell_type": "code",
      "metadata": {
        "colab": {
          "base_uri": "https://localhost:8080/"
        },
        "id": "p--5ZBi6uePo",
        "outputId": "b9f443d6-99d1-4e68-e952-38354ab0d770"
      },
      "source": [
        "cd '/gdrive/MyDrive/SimpleITK-Notebooks/Python'"
      ],
      "execution_count": null,
      "outputs": [
        {
          "output_type": "stream",
          "text": [
            "/gdrive/MyDrive/SimpleITK-Notebooks/Python\n"
          ],
          "name": "stdout"
        }
      ]
    },
    {
      "cell_type": "code",
      "metadata": {
        "colab": {
          "base_uri": "https://localhost:8080/"
        },
        "id": "BHlrqMzWukwy",
        "outputId": "9599613e-d84d-4ff4-87ca-f566c73310ca"
      },
      "source": [
        "pip install SimpleITK"
      ],
      "execution_count": null,
      "outputs": [
        {
          "output_type": "stream",
          "text": [
            "Collecting SimpleITK\n",
            "  Using cached https://files.pythonhosted.org/packages/9c/6b/85df5eb3a8059b23a53a9f224476e75473f9bcc0a8583ed1a9c34619f372/SimpleITK-2.0.2-cp37-cp37m-manylinux2010_x86_64.whl\n",
            "Installing collected packages: SimpleITK\n",
            "Successfully installed SimpleITK-2.0.2\n"
          ],
          "name": "stdout"
        }
      ]
    },
    {
      "cell_type": "code",
      "metadata": {
        "colab": {
          "base_uri": "https://localhost:8080/"
        },
        "id": "YytwFDTzuqmP",
        "outputId": "bc60f861-988a-433c-c5a2-3b854c538973"
      },
      "source": [
        "pip install ipywidgets"
      ],
      "execution_count": null,
      "outputs": [
        {
          "output_type": "stream",
          "text": [
            "Requirement already satisfied: ipywidgets in /usr/local/lib/python3.7/dist-packages (7.6.3)\n",
            "Requirement already satisfied: ipykernel>=4.5.1 in /usr/local/lib/python3.7/dist-packages (from ipywidgets) (4.10.1)\n",
            "Requirement already satisfied: ipython>=4.0.0; python_version >= \"3.3\" in /usr/local/lib/python3.7/dist-packages (from ipywidgets) (5.5.0)\n",
            "Requirement already satisfied: widgetsnbextension~=3.5.0 in /usr/local/lib/python3.7/dist-packages (from ipywidgets) (3.5.1)\n",
            "Requirement already satisfied: nbformat>=4.2.0 in /usr/local/lib/python3.7/dist-packages (from ipywidgets) (5.1.2)\n",
            "Requirement already satisfied: traitlets>=4.3.1 in /usr/local/lib/python3.7/dist-packages (from ipywidgets) (5.0.5)\n",
            "Requirement already satisfied: jupyterlab-widgets>=1.0.0; python_version >= \"3.6\" in /usr/local/lib/python3.7/dist-packages (from ipywidgets) (1.0.0)\n",
            "Requirement already satisfied: tornado>=4.0 in /usr/local/lib/python3.7/dist-packages (from ipykernel>=4.5.1->ipywidgets) (5.1.1)\n",
            "Requirement already satisfied: jupyter-client in /usr/local/lib/python3.7/dist-packages (from ipykernel>=4.5.1->ipywidgets) (5.3.5)\n",
            "Requirement already satisfied: simplegeneric>0.8 in /usr/local/lib/python3.7/dist-packages (from ipython>=4.0.0; python_version >= \"3.3\"->ipywidgets) (0.8.1)\n",
            "Requirement already satisfied: pygments in /usr/local/lib/python3.7/dist-packages (from ipython>=4.0.0; python_version >= \"3.3\"->ipywidgets) (2.6.1)\n",
            "Requirement already satisfied: setuptools>=18.5 in /usr/local/lib/python3.7/dist-packages (from ipython>=4.0.0; python_version >= \"3.3\"->ipywidgets) (53.0.0)\n",
            "Requirement already satisfied: decorator in /usr/local/lib/python3.7/dist-packages (from ipython>=4.0.0; python_version >= \"3.3\"->ipywidgets) (4.4.2)\n",
            "Requirement already satisfied: pexpect; sys_platform != \"win32\" in /usr/local/lib/python3.7/dist-packages (from ipython>=4.0.0; python_version >= \"3.3\"->ipywidgets) (4.8.0)\n",
            "Requirement already satisfied: prompt-toolkit<2.0.0,>=1.0.4 in /usr/local/lib/python3.7/dist-packages (from ipython>=4.0.0; python_version >= \"3.3\"->ipywidgets) (1.0.18)\n",
            "Requirement already satisfied: pickleshare in /usr/local/lib/python3.7/dist-packages (from ipython>=4.0.0; python_version >= \"3.3\"->ipywidgets) (0.7.5)\n",
            "Requirement already satisfied: notebook>=4.4.1 in /usr/local/lib/python3.7/dist-packages (from widgetsnbextension~=3.5.0->ipywidgets) (5.3.1)\n",
            "Requirement already satisfied: ipython-genutils in /usr/local/lib/python3.7/dist-packages (from nbformat>=4.2.0->ipywidgets) (0.2.0)\n",
            "Requirement already satisfied: jupyter-core in /usr/local/lib/python3.7/dist-packages (from nbformat>=4.2.0->ipywidgets) (4.7.1)\n",
            "Requirement already satisfied: jsonschema!=2.5.0,>=2.4 in /usr/local/lib/python3.7/dist-packages (from nbformat>=4.2.0->ipywidgets) (2.6.0)\n",
            "Requirement already satisfied: python-dateutil>=2.1 in /usr/local/lib/python3.7/dist-packages (from jupyter-client->ipykernel>=4.5.1->ipywidgets) (2.8.1)\n",
            "Requirement already satisfied: pyzmq>=13 in /usr/local/lib/python3.7/dist-packages (from jupyter-client->ipykernel>=4.5.1->ipywidgets) (22.0.3)\n",
            "Requirement already satisfied: ptyprocess>=0.5 in /usr/local/lib/python3.7/dist-packages (from pexpect; sys_platform != \"win32\"->ipython>=4.0.0; python_version >= \"3.3\"->ipywidgets) (0.7.0)\n",
            "Requirement already satisfied: six>=1.9.0 in /usr/local/lib/python3.7/dist-packages (from prompt-toolkit<2.0.0,>=1.0.4->ipython>=4.0.0; python_version >= \"3.3\"->ipywidgets) (1.15.0)\n",
            "Requirement already satisfied: wcwidth in /usr/local/lib/python3.7/dist-packages (from prompt-toolkit<2.0.0,>=1.0.4->ipython>=4.0.0; python_version >= \"3.3\"->ipywidgets) (0.2.5)\n",
            "Requirement already satisfied: Send2Trash in /usr/local/lib/python3.7/dist-packages (from notebook>=4.4.1->widgetsnbextension~=3.5.0->ipywidgets) (1.5.0)\n",
            "Requirement already satisfied: terminado>=0.8.1 in /usr/local/lib/python3.7/dist-packages (from notebook>=4.4.1->widgetsnbextension~=3.5.0->ipywidgets) (0.9.2)\n",
            "Requirement already satisfied: jinja2 in /usr/local/lib/python3.7/dist-packages (from notebook>=4.4.1->widgetsnbextension~=3.5.0->ipywidgets) (2.11.3)\n",
            "Requirement already satisfied: nbconvert in /usr/local/lib/python3.7/dist-packages (from notebook>=4.4.1->widgetsnbextension~=3.5.0->ipywidgets) (5.6.1)\n",
            "Requirement already satisfied: MarkupSafe>=0.23 in /usr/local/lib/python3.7/dist-packages (from jinja2->notebook>=4.4.1->widgetsnbextension~=3.5.0->ipywidgets) (1.1.1)\n",
            "Requirement already satisfied: mistune<2,>=0.8.1 in /usr/local/lib/python3.7/dist-packages (from nbconvert->notebook>=4.4.1->widgetsnbextension~=3.5.0->ipywidgets) (0.8.4)\n",
            "Requirement already satisfied: testpath in /usr/local/lib/python3.7/dist-packages (from nbconvert->notebook>=4.4.1->widgetsnbextension~=3.5.0->ipywidgets) (0.4.4)\n",
            "Requirement already satisfied: pandocfilters>=1.4.1 in /usr/local/lib/python3.7/dist-packages (from nbconvert->notebook>=4.4.1->widgetsnbextension~=3.5.0->ipywidgets) (1.4.3)\n",
            "Requirement already satisfied: entrypoints>=0.2.2 in /usr/local/lib/python3.7/dist-packages (from nbconvert->notebook>=4.4.1->widgetsnbextension~=3.5.0->ipywidgets) (0.3)\n",
            "Requirement already satisfied: bleach in /usr/local/lib/python3.7/dist-packages (from nbconvert->notebook>=4.4.1->widgetsnbextension~=3.5.0->ipywidgets) (3.3.0)\n",
            "Requirement already satisfied: defusedxml in /usr/local/lib/python3.7/dist-packages (from nbconvert->notebook>=4.4.1->widgetsnbextension~=3.5.0->ipywidgets) (0.6.0)\n",
            "Requirement already satisfied: packaging in /usr/local/lib/python3.7/dist-packages (from bleach->nbconvert->notebook>=4.4.1->widgetsnbextension~=3.5.0->ipywidgets) (20.9)\n",
            "Requirement already satisfied: webencodings in /usr/local/lib/python3.7/dist-packages (from bleach->nbconvert->notebook>=4.4.1->widgetsnbextension~=3.5.0->ipywidgets) (0.5.1)\n",
            "Requirement already satisfied: pyparsing>=2.0.2 in /usr/local/lib/python3.7/dist-packages (from packaging->bleach->nbconvert->notebook>=4.4.1->widgetsnbextension~=3.5.0->ipywidgets) (2.4.7)\n"
          ],
          "name": "stdout"
        }
      ]
    },
    {
      "cell_type": "code",
      "metadata": {
        "colab": {
          "base_uri": "https://localhost:8080/"
        },
        "id": "4aJvQMvsuzuy",
        "outputId": "e0f258ae-fe4b-4b31-a106-dda552f55d8b"
      },
      "source": [
        "from google.colab import drive\r\n",
        "drive.mount('/gdrive')\r\n",
        "%cd /gdrive"
      ],
      "execution_count": null,
      "outputs": [
        {
          "output_type": "stream",
          "text": [
            "Drive already mounted at /gdrive; to attempt to forcibly remount, call drive.mount(\"/gdrive\", force_remount=True).\n",
            "/gdrive\n"
          ],
          "name": "stdout"
        }
      ]
    },
    {
      "cell_type": "code",
      "metadata": {
        "colab": {
          "base_uri": "https://localhost:8080/"
        },
        "id": "3e94670wvJOL",
        "outputId": "825a628b-dc8f-463c-c5ba-06f4ea3c0864"
      },
      "source": [
        "%ls -ltr '/gdrive/MyDrive/Fiji.app/ImageJ-linux64'"
      ],
      "execution_count": null,
      "outputs": [
        {
          "output_type": "stream",
          "text": [
            "-rw------- 1 root root 90243 Feb 27 18:15 /gdrive/MyDrive/Fiji.app/ImageJ-linux64\n"
          ],
          "name": "stdout"
        }
      ]
    },
    {
      "cell_type": "code",
      "metadata": {
        "colab": {
          "base_uri": "https://localhost:8080/"
        },
        "id": "EPoWLA76msQ4",
        "outputId": "e6d9ca25-5c1d-424f-9047-af70ea731da6"
      },
      "source": [
        "!pip install itk\r\n",
        "\r\n",
        "#!~/sitkpy/bin/pip install ITK"
      ],
      "execution_count": null,
      "outputs": [
        {
          "output_type": "stream",
          "text": [
            "Collecting itk\n",
            "  Downloading https://files.pythonhosted.org/packages/3e/0e/13b23943e30281de56d49b9dba4b1e5278078655405d466ae429c141da09/itk-5.1.2-cp37-cp37m-manylinux1_x86_64.whl\n",
            "Collecting itk-core==5.1.2\n",
            "\u001b[?25l  Downloading https://files.pythonhosted.org/packages/45/58/c4298e4470dc0d91900efb29a762de44da7f8051d7428476aa22eb1dfd24/itk_core-5.1.2-cp37-cp37m-manylinux1_x86_64.whl (50.1MB)\n",
            "\u001b[K     |████████████████████████████████| 50.1MB 86kB/s \n",
            "\u001b[?25hCollecting itk-registration==5.1.2\n",
            "\u001b[?25l  Downloading https://files.pythonhosted.org/packages/27/7a/7fde6cd47ddb5cb9f065313d26507cd723c6c4c3763e28875b1a19f718bf/itk_registration-5.1.2-cp37-cp37m-manylinux1_x86_64.whl (14.4MB)\n",
            "\u001b[K     |████████████████████████████████| 14.4MB 345kB/s \n",
            "\u001b[?25hRequirement already satisfied: numpy in /usr/local/lib/python3.7/dist-packages (from itk) (1.19.5)\n",
            "Collecting itk-segmentation==5.1.2\n",
            "\u001b[?25l  Downloading https://files.pythonhosted.org/packages/fd/9b/958de177ee6460d5fa210a8126d3af96947ad365473024a3d20309eda8a1/itk_segmentation-5.1.2-cp37-cp37m-manylinux1_x86_64.whl (10.3MB)\n",
            "\u001b[K     |████████████████████████████████| 10.3MB 16.9MB/s \n",
            "\u001b[?25hCollecting itk-io==5.1.2\n",
            "\u001b[?25l  Downloading https://files.pythonhosted.org/packages/1f/cf/d3d0c450e8ca2f265e34e66ab0c9af35d9c5e5c40a8653a12ebc672ddac6/itk_io-5.1.2-cp37-cp37m-manylinux1_x86_64.whl (14.0MB)\n",
            "\u001b[K     |████████████████████████████████| 14.0MB 29.9MB/s \n",
            "\u001b[?25hCollecting itk-numerics==5.1.2\n",
            "\u001b[?25l  Downloading https://files.pythonhosted.org/packages/10/c3/476b9c06b0003c509cb9f8da947f90dffd23700b72d36b5589c65d17c60f/itk_numerics-5.1.2-cp37-cp37m-manylinux1_x86_64.whl (36.3MB)\n",
            "\u001b[K     |████████████████████████████████| 36.3MB 130kB/s \n",
            "\u001b[?25hCollecting itk-filtering==5.1.2\n",
            "\u001b[?25l  Downloading https://files.pythonhosted.org/packages/27/a4/3ef76dff4b91059cbb0a4b38221e4030a9476daa4f9f783e05300a46d9c0/itk_filtering-5.1.2-cp37-cp37m-manylinux1_x86_64.whl (68.0MB)\n",
            "\u001b[K     |████████████████████████████████| 68.0MB 118kB/s \n",
            "\u001b[?25hInstalling collected packages: itk-core, itk-numerics, itk-filtering, itk-registration, itk-segmentation, itk-io, itk\n",
            "Successfully installed itk-5.1.2 itk-core-5.1.2 itk-filtering-5.1.2 itk-io-5.1.2 itk-numerics-5.1.2 itk-registration-5.1.2 itk-segmentation-5.1.2\n"
          ],
          "name": "stdout"
        }
      ]
    },
    {
      "cell_type": "code",
      "metadata": {
        "colab": {
          "base_uri": "https://localhost:8080/"
        },
        "id": "NCecKYAQvW75",
        "outputId": "f1d48c1f-76d4-42f8-e650-5518f5baadbc"
      },
      "source": [
        "!echo $PATH"
      ],
      "execution_count": null,
      "outputs": [
        {
          "output_type": "stream",
          "text": [
            "/usr/local/nvidia/bin:/usr/local/cuda/bin:/usr/local/sbin:/usr/local/bin:/usr/sbin:/usr/bin:/sbin:/bin:/tools/node/bin:/tools/google-cloud-sdk/bin:/opt/bin\n"
          ],
          "name": "stdout"
        }
      ]
    },
    {
      "cell_type": "code",
      "metadata": {
        "colab": {
          "base_uri": "https://localhost:8080/"
        },
        "id": "HLwABwchvZyQ",
        "outputId": "2764a71a-042a-4354-de3c-aa98784b0406"
      },
      "source": [
        "import os\r\n",
        "#os.environ['PYTHONPATH'] += \":/content/gdrive/My Drive/Colab Notebooks/MNIST_Classifier/src\"\r\n",
        "os.environ['PATH'] += \":/content/gdrive/My Drive/Fiji.app\"\r\n",
        "! echo $PATH"
      ],
      "execution_count": null,
      "outputs": [
        {
          "output_type": "stream",
          "text": [
            "/usr/local/nvidia/bin:/usr/local/cuda/bin:/usr/local/sbin:/usr/local/bin:/usr/sbin:/usr/bin:/sbin:/bin:/tools/node/bin:/tools/google-cloud-sdk/bin:/opt/bin:/content/gdrive/My Drive/Fiji.app\n"
          ],
          "name": "stdout"
        }
      ]
    },
    {
      "cell_type": "code",
      "metadata": {
        "colab": {
          "base_uri": "https://localhost:8080/"
        },
        "id": "xRoYeHWZvpHv",
        "outputId": "810a5415-71b4-426e-8696-293a8848ad5d"
      },
      "source": [
        "cd '/gdrive/MyDrive/SimpleITK-Notebooks/Python'"
      ],
      "execution_count": null,
      "outputs": [
        {
          "output_type": "stream",
          "text": [
            "/gdrive/MyDrive/SimpleITK-Notebooks/Python\n"
          ],
          "name": "stdout"
        }
      ]
    },
    {
      "cell_type": "code",
      "metadata": {
        "colab": {
          "base_uri": "https://localhost:8080/"
        },
        "id": "DavE8JA9vfGP",
        "outputId": "458eb786-a093-4856-e3f7-5db9713f9620"
      },
      "source": [
        "import SimpleITK as sitk\r\n",
        "\r\n",
        "%run update_path_to_download_script\r\n",
        "from downloaddata import fetch_data, fetch_data_all\r\n",
        "\r\n",
        "from ipywidgets import interact\r\n",
        "\r\n",
        "print(sitk.Version())"
      ],
      "execution_count": null,
      "outputs": [
        {
          "output_type": "stream",
          "text": [
            "SimpleITK Version: 2.0.2 (ITK 5.1)\n",
            "Compiled: Dec  1 2020 22:01:03\n",
            "\n"
          ],
          "name": "stdout"
        }
      ]
    },
    {
      "cell_type": "code",
      "metadata": {
        "colab": {
          "base_uri": "https://localhost:8080/"
        },
        "id": "FTXVQciyoKvh",
        "outputId": "d15e35c2-4158-432a-ddd3-2a9ec5e9823b"
      },
      "source": [
        "cd /usr/local/"
      ],
      "execution_count": null,
      "outputs": [
        {
          "output_type": "stream",
          "text": [
            "/usr/local\n"
          ],
          "name": "stdout"
        }
      ]
    },
    {
      "cell_type": "code",
      "metadata": {
        "id": "deJq4jlhNH4D"
      },
      "source": [
        "import shutil"
      ],
      "execution_count": null,
      "outputs": []
    },
    {
      "cell_type": "code",
      "metadata": {
        "colab": {
          "base_uri": "https://localhost:8080/"
        },
        "id": "IXEeK9p3Nxw2",
        "outputId": "6daaa2af-a340-4fc4-e868-ed582b20893a"
      },
      "source": [
        "%ls /gdrive/MyDrive/"
      ],
      "execution_count": null,
      "outputs": [
        {
          "output_type": "stream",
          "text": [
            "\u001b[0m\u001b[01;34m'Colab Notebooks'\u001b[0m/                      \u001b[01;34mSimpleITK_ISBI2020_TUTORIAL\u001b[0m/\n",
            " \u001b[01;34mFiji.app\u001b[0m/                              SimpleITK.jpg\n",
            " fiji-linux64-20170530.zip              \u001b[01;34mSimpleITK-Notebooks\u001b[0m/\n",
            " \u001b[01;34mMyNiftyRec\u001b[0m/                            unnamed.png\n",
            " \u001b[01;34mMyTomoLab\u001b[0m/                            'Untitled project.gscript'\n",
            " pyjnius-1.2.0-py37h90b5fae_0.tar.bz2\n"
          ],
          "name": "stdout"
        }
      ]
    },
    {
      "cell_type": "code",
      "metadata": {
        "colab": {
          "base_uri": "https://localhost:8080/",
          "height": 35
        },
        "id": "SYIjTMImNL_i",
        "outputId": "86593913-4f49-4829-f652-c188c90ded48"
      },
      "source": [
        "shutil.copyfile('/gdrive/MyDrive/fiji-linux64-20170530.zip', '/usr/local/fiji-linux64-20170530.zip')"
      ],
      "execution_count": null,
      "outputs": [
        {
          "output_type": "execute_result",
          "data": {
            "application/vnd.google.colaboratory.intrinsic+json": {
              "type": "string"
            },
            "text/plain": [
              "'/usr/local/fiji-linux64-20170530.zip'"
            ]
          },
          "metadata": {
            "tags": []
          },
          "execution_count": 18
        }
      ]
    },
    {
      "cell_type": "code",
      "metadata": {
        "colab": {
          "base_uri": "https://localhost:8080/"
        },
        "id": "LL9jXhvYOFj6",
        "outputId": "c01bc369-474e-40b5-d277-13a0d2c71336"
      },
      "source": [
        "cd /usr/local"
      ],
      "execution_count": null,
      "outputs": [
        {
          "output_type": "stream",
          "text": [
            "/usr/local\n"
          ],
          "name": "stdout"
        }
      ]
    },
    {
      "cell_type": "code",
      "metadata": {
        "colab": {
          "base_uri": "https://localhost:8080/"
        },
        "id": "KfItb5HPpSHW",
        "outputId": "0f2285b2-77a3-463e-e90f-6d9b3f6c40a8"
      },
      "source": [
        "!unzip ./fiji-linux64-20170530.zip"
      ],
      "execution_count": null,
      "outputs": [
        {
          "output_type": "stream",
          "text": [
            "Archive:  ./fiji-linux64-20170530.zip\n",
            "  inflating: Fiji.app/db.xml.gz      \n",
            "  inflating: Fiji.app/Contents/Info.plist  \n",
            "  inflating: Fiji.app/Contents/Resources/Fiji.icns  \n",
            "  inflating: Fiji.app/Contents/Resources/ImageJ.icns  \n",
            "  inflating: Fiji.app/ImageJ-linux64  \n",
            "  inflating: Fiji.app/plugins/3D_Blob_Segmentation-3.0.0.jar  \n",
            "  inflating: Fiji.app/plugins/3D_Objects_Counter-2.0.0.jar  \n",
            "  inflating: Fiji.app/plugins/3D_Viewer-4.0.1.jar  \n",
            "  inflating: Fiji.app/plugins/Algorithm_Launcher.jar  \n",
            "  inflating: Fiji.app/plugins/Analyze/Dynamic_ROI_Profiler.clj  \n",
            "  inflating: Fiji.app/plugins/Analyze/Measure_RGB.txt  \n",
            "  inflating: Fiji.app/plugins/AnalyzeSkeleton_-3.1.2.jar  \n",
            "  inflating: Fiji.app/plugins/Anisotropic_Diffusion_2D-2.0.0.jar  \n",
            "  inflating: Fiji.app/plugins/Archipelago_Plugins-0.5.2.jar  \n",
            "  inflating: Fiji.app/plugins/Arrow_-2.0.1.jar  \n",
            "  inflating: Fiji.app/plugins/Auto_Threshold-1.16.4.jar  \n",
            "  inflating: Fiji.app/plugins/BalloonSegmentation_-3.0.0.jar  \n",
            "  inflating: Fiji.app/plugins/BeanShell_Interpreter-2.0.0-SNAPSHOT.jar  \n",
            "  inflating: Fiji.app/plugins/Bug_Submitter-2.1.0.jar  \n",
            "  inflating: Fiji.app/plugins/CLI_-2.0.0-SNAPSHOT.jar  \n",
            "  inflating: Fiji.app/plugins/CPU_Meter-2.0.0.jar  \n",
            "  inflating: Fiji.app/plugins/Calculator_Plus-2.0.0.jar  \n",
            "  inflating: Fiji.app/plugins/Cell_Counter-2.2.1.jar  \n",
            "  inflating: Fiji.app/plugins/Clojure_Interpreter-2.0.0-SNAPSHOT.jar  \n",
            "  inflating: Fiji.app/plugins/Colocalisation_Analysis-3.0.0.jar  \n",
            "  inflating: Fiji.app/plugins/Color_Histogram-2.0.6.jar  \n",
            "  inflating: Fiji.app/plugins/Color_Inspector_3D-2.3.1.jar  \n",
            "  inflating: Fiji.app/plugins/Colour_Deconvolution-3.0.1.jar  \n",
            "  inflating: Fiji.app/plugins/CorrectBleach_-2.0.1.jar  \n",
            "  inflating: Fiji.app/plugins/Correct_3D_Drift-1.0.0.jar  \n",
            "  inflating: Fiji.app/plugins/Descriptor_based_registration-2.1.1.jar  \n",
            "  inflating: Fiji.app/plugins/Dichromacy_-2.1.0.jar  \n",
            "  inflating: Fiji.app/plugins/Directionality_-2.0.1.jar  \n",
            "  inflating: Fiji.app/plugins/Examples/Add_Popup_Split_Channels.bsh  \n",
            "  inflating: Fiji.app/plugins/Examples/Anaglyph_for_Red_Cyan_glasses.rb  \n",
            "  inflating: Fiji.app/plugins/Examples/Blobs_Demo_in_Ruby.rb  \n",
            "  inflating: Fiji.app/plugins/Examples/Command_Launchers/Command_Launcher_BeanShell.bsh  \n",
            "  inflating: Fiji.app/plugins/Examples/Command_Launchers/Command_Launcher_Clojure.clj  \n",
            "  inflating: Fiji.app/plugins/Examples/Command_Launchers/Command_Launcher_Javascript.js  \n",
            "  inflating: Fiji.app/plugins/Examples/Command_Launchers/Command_Launcher_Python.py  \n",
            "  inflating: Fiji.app/plugins/Examples/Command_Launchers/Command_Launcher_Ruby.rb  \n",
            "  inflating: Fiji.app/plugins/Examples/CoverMaker/Cover_Maker.py  \n",
            "  inflating: Fiji.app/plugins/Examples/CoverMaker/Prepare_Cover_Maker_Database.py  \n",
            "  inflating: Fiji.app/plugins/Examples/Delayed_Snapshot.py  \n",
            "  inflating: Fiji.app/plugins/Examples/Delayed_Snapshot_Window.bsh  \n",
            "  inflating: Fiji.app/plugins/Examples/Edit_LUT_As_Text.py  \n",
            "  inflating: Fiji.app/plugins/Examples/Extended_Profile_Plot.bsh  \n",
            "  inflating: Fiji.app/plugins/Examples/Fiji_Cube.ijm  \n",
            "  inflating: Fiji.app/plugins/Examples/Fiji_Logo_3D.js  \n",
            "  inflating: Fiji.app/plugins/Examples/Find_Dimension_of_Raw_Image.py  \n",
            "  inflating: Fiji.app/plugins/Examples/Image_To_Tool_Icon.bsh  \n",
            "  inflating: Fiji.app/plugins/Examples/Multithreaded_Image_Processing.clj  \n",
            "  inflating: Fiji.app/plugins/Examples/Multithreaded_Image_Processing_in_Javascript.js  \n",
            "  inflating: Fiji.app/plugins/Examples/Plasma_Cloud.rb  \n",
            "  inflating: Fiji.app/plugins/Examples/Same_Slice_in_Multiple_Images.rb  \n",
            "  inflating: Fiji.app/plugins/Examples/The_Hue_Game.bsh  \n",
            "  inflating: Fiji.app/plugins/Examples/TrakEM2_Example_Scripts/Homogenize_Ball_Radius.py  \n",
            "  inflating: Fiji.app/plugins/Examples/TrakEM2_Example_Scripts/Measure_AreaLists.py  \n",
            "  inflating: Fiji.app/plugins/Examples/TrakEM2_Example_Scripts/T2_Select_All.py  \n",
            "  inflating: Fiji.app/plugins/Examples/TrakEM2_Example_Scripts/T2_set_all_transforms_to_identity.py  \n",
            "  inflating: Fiji.app/plugins/Examples/TrakEM2_Example_Scripts/extract_stack_under_arealist.py  \n",
            "  inflating: Fiji.app/plugins/Examples/blend_two_images.clj  \n",
            "  inflating: Fiji.app/plugins/Examples/celsius_to_fahrenheit.clj  \n",
            "  inflating: Fiji.app/plugins/Examples/chess_.py  \n",
            "  inflating: Fiji.app/plugins/Examples/compose_rgb-stacks.bsh  \n",
            "  inflating: Fiji.app/plugins/Examples/downsample_.js  \n",
            "  inflating: Fiji.app/plugins/Examples/list_all_threads.py  \n",
            "  inflating: Fiji.app/plugins/Examples/random_noise_example.clj  \n",
            "  inflating: Fiji.app/plugins/FS_Align_TrakEM2-2.0.1.jar  \n",
            "  inflating: Fiji.app/plugins/Feature_Detection-2.0.1.jar  \n",
            "  inflating: Fiji.app/plugins/Fiji_Archipelago-2.0.0.jar  \n",
            "  inflating: Fiji.app/plugins/Fiji_Developer-2.0.5.jar  \n",
            "  inflating: Fiji.app/plugins/Fiji_Package_Maker-2.1.0.jar  \n",
            "  inflating: Fiji.app/plugins/Fiji_Plugins-3.1.0.jar  \n",
            "  inflating: Fiji.app/plugins/Fiji_Updater.jar  \n",
            "  inflating: Fiji.app/plugins/FlowJ_-1.29.2.jar  \n",
            "  inflating: Fiji.app/plugins/Graph_Cut-1.0.1.jar  \n",
            "  inflating: Fiji.app/plugins/Gray_Morphology-2.3.3.jar  \n",
            "  inflating: Fiji.app/plugins/H5J_Loader_Plugin-1.0.6.jar  \n",
            "  inflating: Fiji.app/plugins/Helmholtz_Analysis-2.0.1.jar  \n",
            "  inflating: Fiji.app/plugins/IJ_Robot-2.0.0.jar  \n",
            "  inflating: Fiji.app/plugins/IO_-3.0.1.jar  \n",
            "  inflating: Fiji.app/plugins/Image_5D-2.0.1.jar  \n",
            "  inflating: Fiji.app/plugins/Image_Expression_Parser-3.0.0.jar  \n",
            "  inflating: Fiji.app/plugins/Interactive_3D_Surface_Plot-2.4.1.jar  \n",
            "  inflating: Fiji.app/plugins/IsoData_Classifier-2.0.0.jar  \n",
            "  inflating: Fiji.app/plugins/JRuby/imagej.rb  \n",
            "  inflating: Fiji.app/plugins/JRuby_Interpreter-2.0.0-SNAPSHOT.jar  \n",
            "  inflating: Fiji.app/plugins/Javascript_-2.0.0-SNAPSHOT.jar  \n",
            "  inflating: Fiji.app/plugins/Jython_Interpreter-2.0.0-SNAPSHOT.jar  \n",
            "  inflating: Fiji.app/plugins/Kuwahara_Filter-2.0.0.jar  \n",
            "  inflating: Fiji.app/plugins/KymographBuilder-1.2.3.jar  \n",
            "  inflating: Fiji.app/plugins/LSM_Reader-4.1.1.jar  \n",
            "  inflating: Fiji.app/plugins/LSM_Toolbox-4.1.1.jar  \n",
            "  inflating: Fiji.app/plugins/Lasso_and_Blow_Tool-2.0.1.jar  \n",
            "  inflating: Fiji.app/plugins/Linear_Kuwahara-2.0.0.jar  \n",
            "  inflating: Fiji.app/plugins/LocalThickness_-4.0.1.jar  \n",
            "  inflating: Fiji.app/plugins/MTrack2_-2.0.0.jar  \n",
            "  inflating: Fiji.app/plugins/M_I_P-2.0.0.jar  \n",
            "  inflating: Fiji.app/plugins/Macros/About_Plugin_Macros.txt  \n",
            "  inflating: Fiji.app/plugins/Macros/Bulls_Eye.txt  \n",
            "  inflating: Fiji.app/plugins/Macros/Polygon_.txt  \n",
            "  inflating: Fiji.app/plugins/Macros/RGB_Histogram.txt  \n",
            "  inflating: Fiji.app/plugins/Macros/batch_convert_any_to_tif.txt  \n",
            "  inflating: Fiji.app/plugins/Manual_Tracking-2.1.0.jar  \n",
            "  inflating: Fiji.app/plugins/Multi_Kymograph-3.0.0.jar  \n",
            "  inflating: Fiji.app/plugins/PIV_analyser-1.1.1.jar  \n",
            "  inflating: Fiji.app/plugins/QuickPALM_-1.1.1.jar  \n",
            "  inflating: Fiji.app/plugins/RATS_-2.0.0.jar  \n",
            "  inflating: Fiji.app/plugins/Reconstruct_Reader-2.0.2.jar  \n",
            "  inflating: Fiji.app/plugins/Refresh_Javas-2.0.0-SNAPSHOT.jar  \n",
            "  inflating: Fiji.app/plugins/SPIM_Opener-2.0.1.jar  \n",
            "  inflating: Fiji.app/plugins/SPIM_Registration-5.0.13.jar  \n",
            "  inflating: Fiji.app/plugins/Samples_-2.0.1.jar  \n",
            "  inflating: Fiji.app/plugins/Scripts/File/Fix_Funny_Filenames.ijm  \n",
            "  inflating: Fiji.app/plugins/Scripts/File/Make_Screencast.bsh  \n",
            "  inflating: Fiji.app/plugins/Scripts/File/Open_Samples/Adelsons_Squares.ijm  \n",
            "  inflating: Fiji.app/plugins/Scripts/File/Open_Samples/Comparing_Lengths.ijm  \n",
            "  inflating: Fiji.app/plugins/Scripts/File/Open_Samples/Spirals_.ijm  \n",
            "  inflating: Fiji.app/plugins/Scripts/File/Open_Samples/Straight_Lines.ijm  \n",
            "  inflating: Fiji.app/plugins/Scripts/File/Open_Samples/Striped_Circles.ijm  \n",
            "  inflating: Fiji.app/plugins/Scripts/Image/Adjust/Scale_to_DPI.js  \n",
            "  inflating: Fiji.app/plugins/Scripts/Image/Color/Set_Color_By_Wavelength.ijm  \n",
            "  inflating: Fiji.app/plugins/Scripts/Image/Hyperstacks/Temporal-Color_Code.ijm  \n",
            "  inflating: Fiji.app/plugins/Scripts/Plugins/Utilities/Create_Desktop_Icon.bsh  \n",
            "  inflating: Fiji.app/plugins/Scripts/Plugins/Utilities/Find_Jar_For_Class.bsh  \n",
            "  inflating: Fiji.app/plugins/Scripts/Plugins/Utilities/Record_Desktop.py  \n",
            "  inflating: Fiji.app/plugins/Scripts/Plugins/Utilities/Record_Window.py  \n",
            "  inflating: Fiji.app/plugins/Series_Labeler-2.0.0.jar  \n",
            "  inflating: Fiji.app/plugins/Sholl_Analysis-3.6.13.jar  \n",
            "  inflating: Fiji.app/plugins/Simple_Neurite_Tracer-3.1.1.jar  \n",
            "  inflating: Fiji.app/plugins/Siox_Segmentation-1.0.4.jar  \n",
            "  inflating: Fiji.app/plugins/Skeletonize3D_-2.1.0.jar  \n",
            "  inflating: Fiji.app/plugins/SplineDeformationGenerator_-2.0.0.jar  \n",
            "  inflating: Fiji.app/plugins/Stack_Manipulation-2.0.1.jar  \n",
            "  inflating: Fiji.app/plugins/Statistical_Region_Merging-2.0.0.jar  \n",
            "  inflating: Fiji.app/plugins/Stitching_-3.1.1.jar  \n",
            "  inflating: Fiji.app/plugins/Sync_Win-1.7-fiji3.jar  \n",
            "  inflating: Fiji.app/plugins/Thread_Killer-2.0.0.jar  \n",
            "  inflating: Fiji.app/plugins/Time_Lapse-2.0.1.jar  \n",
            "  inflating: Fiji.app/plugins/Time_Stamper-2.0.0.jar  \n",
            "  inflating: Fiji.app/plugins/ToAST_-25.0.1.jar  \n",
            "  inflating: Fiji.app/plugins/TopoJ_-2.0.0.jar  \n",
            "  inflating: Fiji.app/plugins/TrackMate_-3.4.2.jar  \n",
            "  inflating: Fiji.app/plugins/Trainable_Segmentation-3.2.11.jar  \n",
            "  inflating: Fiji.app/plugins/TrakEM2_-1.0h.jar  \n",
            "  inflating: Fiji.app/plugins/TrakEM2_Archipelago-2.0.1.jar  \n",
            "  inflating: Fiji.app/plugins/Utilities/Close_All_Without_Saving.txt  \n",
            "  inflating: Fiji.app/plugins/VIB_-3.0.1.jar  \n",
            "  inflating: Fiji.app/plugins/Vaa3d_Reader-2.0.1.jar  \n",
            "  inflating: Fiji.app/plugins/Vaa3d_Writer-1.0.1.jar  \n",
            "  inflating: Fiji.app/plugins/Video_Editing-2.0.0.jar  \n",
            "  inflating: Fiji.app/plugins/View5D_-1.3.1.jar  \n",
            "  inflating: Fiji.app/plugins/Volume_Calculator-2.0.1.jar  \n",
            "  inflating: Fiji.app/plugins/Volume_Viewer-2.01.1.jar  \n",
            "  inflating: Fiji.app/plugins/bUnwarpJ_-2.6.8.jar  \n",
            "  inflating: Fiji.app/plugins/bigdataviewer_fiji-3.0.0.jar  \n",
            "  inflating: Fiji.app/plugins/bigwarp_fiji-2.1.5.jar  \n",
            "  inflating: Fiji.app/plugins/bio-formats_plugins-5.5.1.jar  \n",
            "  inflating: Fiji.app/plugins/blockmatching_-2.1.1.jar  \n",
            "  inflating: Fiji.app/plugins/ij-ImageIO_.jar  \n",
            "  inflating: Fiji.app/plugins/level_sets-1.0.1.jar  \n",
            "  inflating: Fiji.app/plugins/mpicbg_-1.1.1.jar  \n",
            "  inflating: Fiji.app/plugins/panorama_-3.0.1.jar  \n",
            "  inflating: Fiji.app/plugins/readme.txt  \n",
            "  inflating: Fiji.app/plugins/register_virtual_stack_slices-3.0.1.jar  \n",
            "  inflating: Fiji.app/plugins/registration_3d-2.0.0.jar  \n",
            "  inflating: Fiji.app/plugins/trakem2_tps-1.1.2.jar  \n",
            "  inflating: Fiji.app/plugins/z_spacing-0.0.1-SNAPSHOT.jar  \n",
            "  inflating: Fiji.app/jars/JWlz-1.4.0.jar  \n",
            "  inflating: Fiji.app/jars/T2-NIT-1.1.1.jar  \n",
            "  inflating: Fiji.app/jars/T2-TreelineGraph-1.1.1.jar  \n",
            "  inflating: Fiji.app/jars/VIB-lib-2.1.1.jar  \n",
            "  inflating: Fiji.app/jars/VectorString-2.0.0.jar  \n",
            "  inflating: Fiji.app/jars/ahocorasick-0.2.4.jar  \n",
            "  inflating: Fiji.app/jars/ant-junit.jar  \n",
            "  inflating: Fiji.app/jars/ant-launcher.jar  \n",
            "  inflating: Fiji.app/jars/ant-nodeps.jar  \n",
            "  inflating: Fiji.app/jars/ant.jar   \n",
            "  inflating: Fiji.app/jars/args4j-2.0.25.jar  \n",
            "  inflating: Fiji.app/jars/asm-4.0.jar  \n",
            "  inflating: Fiji.app/jars/asm-analysis-4.0.jar  \n",
            "  inflating: Fiji.app/jars/asm-commons-4.0.jar  \n",
            "  inflating: Fiji.app/jars/asm-tree-4.0.jar  \n",
            "  inflating: Fiji.app/jars/asm-util-4.0.jar  \n",
            "  inflating: Fiji.app/jars/autocomplete-2.5.8.jar  \n",
            "  inflating: Fiji.app/jars/base64-2.3.8.jar  \n",
            "  inflating: Fiji.app/jars/batik-1.8.jar  \n",
            "  inflating: Fiji.app/jars/batik-anim-1.8.jar  \n",
            "  inflating: Fiji.app/jars/batik-awt-util-1.8.jar  \n",
            "  inflating: Fiji.app/jars/batik-bridge-1.8.jar  \n",
            "  inflating: Fiji.app/jars/batik-css-1.8.jar  \n",
            "  inflating: Fiji.app/jars/batik-dom-1.8.jar  \n",
            "  inflating: Fiji.app/jars/batik-ext-1.8.jar  \n",
            "  inflating: Fiji.app/jars/batik-gvt-1.8.jar  \n",
            "  inflating: Fiji.app/jars/batik-parser-1.8.jar  \n",
            "  inflating: Fiji.app/jars/batik-script-1.8.jar  \n",
            "  inflating: Fiji.app/jars/batik-svg-dom-1.8.jar  \n",
            "  inflating: Fiji.app/jars/batik-svggen-1.8.jar  \n",
            "  inflating: Fiji.app/jars/batik-util-1.8.jar  \n",
            "  inflating: Fiji.app/jars/batik-xml-1.8.jar  \n",
            "  inflating: Fiji.app/jars/bcmail-jdk14-138.jar  \n",
            "  inflating: Fiji.app/jars/bcprov-jdk14-138.jar  \n",
            "  inflating: Fiji.app/jars/bigdataviewer-core-3.0.3.jar  \n",
            "  inflating: Fiji.app/jars/bigdataviewer-vistools-1.0.0-beta-4.jar  \n",
            "  inflating: Fiji.app/jars/bio-formats/formats-api-5.5.1.jar  \n",
            "  inflating: Fiji.app/jars/bio-formats/formats-bsd-5.5.1.jar  \n",
            "  inflating: Fiji.app/jars/bio-formats/formats-common-5.1.10.jar  \n",
            "  inflating: Fiji.app/jars/bio-formats/formats-gpl-5.5.1.jar  \n",
            "  inflating: Fiji.app/jars/bio-formats/jai_imageio-5.5.1.jar  \n",
            "  inflating: Fiji.app/jars/bio-formats/jxrlib-all-0.2.1.jar  \n",
            "  inflating: Fiji.app/jars/bio-formats/mdbtools-java-5.1.10.jar  \n",
            "  inflating: Fiji.app/jars/bio-formats/metakit-5.3.0.jar  \n",
            "  inflating: Fiji.app/jars/bio-formats/ome-common-5.3.1.jar  \n",
            "  inflating: Fiji.app/jars/bio-formats/ome-mdbtools-5.3.0.jar  \n",
            "  inflating: Fiji.app/jars/bio-formats/ome-poi-5.3.1.jar  \n",
            "  inflating: Fiji.app/jars/bio-formats/ome-xml-5.4.0.jar  \n",
            "  inflating: Fiji.app/jars/bio-formats/specification-5.4.0.jar  \n",
            "  inflating: Fiji.app/jars/bio-formats/turbojpeg-5.5.1.jar  \n",
            "  inflating: Fiji.app/jars/blas-0.8.jar  \n",
            "  inflating: Fiji.app/jars/bsh-2.0b6.jar  \n",
            "  inflating: Fiji.app/jars/bytelist-1.0.11.jar  \n",
            "  inflating: Fiji.app/jars/clojure-1.8.0.jar  \n",
            "  inflating: Fiji.app/jars/codemodel-2.6.jar  \n",
            "  inflating: Fiji.app/jars/collections-generic-4.01.jar  \n",
            "  inflating: Fiji.app/jars/commons-codec-1.8.jar  \n",
            "  inflating: Fiji.app/jars/commons-compress-1.4.1.jar  \n",
            "  inflating: Fiji.app/jars/commons-lang3-3.1.jar  \n",
            "  inflating: Fiji.app/jars/commons-logging-1.1.1.jar  \n",
            "  inflating: Fiji.app/jars/commons-math-2.2.jar  \n",
            "  inflating: Fiji.app/jars/commons-math3-3.6.1.jar  \n",
            "  inflating: Fiji.app/jars/commons-vfs2-2.0.jar  \n",
            "  inflating: Fiji.app/jars/datasets-0.8.1906.jar  \n",
            "  inflating: Fiji.app/jars/ejml-0.24.jar  \n",
            "  inflating: Fiji.app/jars/eventbus-1.4.jar  \n",
            "  inflating: Fiji.app/jars/f2jutil-0.8.jar  \n",
            "  inflating: Fiji.app/jars/fake-2.0.0-SNAPSHOT.jar  \n",
            "  inflating: Fiji.app/jars/ffmpeg-2.6.1-0.11.jar  \n",
            "  inflating: Fiji.app/jars/fiji-2.0.0-SNAPSHOT.jar  \n",
            "  inflating: Fiji.app/jars/fiji-compat-2.0.2.jar  \n",
            "  inflating: Fiji.app/jars/fiji-lib-2.1.1.jar  \n",
            "  inflating: Fiji.app/jars/fiji-scripting-2.0.0-SNAPSHOT.jar  \n",
            "  inflating: Fiji.app/jars/filters-2.0.235.jar  \n",
            "  inflating: Fiji.app/jars/gcc-runtime-0.8.1906.jar  \n",
            "  inflating: Fiji.app/jars/gentyref-1.1.0.jar  \n",
            "  inflating: Fiji.app/jars/gluegen-rt-2.3.2.jar  \n",
            "  inflating: Fiji.app/jars/gluegen-rt-main-2.3.2.jar  \n",
            "  inflating: Fiji.app/jars/grDevices-0.8.1906.jar  \n",
            "  inflating: Fiji.app/jars/graphics-0.8.1906.jar  \n",
            "  inflating: Fiji.app/jars/groovy-2.3.6.jar  \n",
            "  inflating: Fiji.app/jars/gson-2.7.jar  \n",
            "  inflating: Fiji.app/jars/guava-19.0.jar  \n",
            "  inflating: Fiji.app/jars/hamcrest-core-1.3.jar  \n",
            "  inflating: Fiji.app/jars/ij-1.51n.jar  \n",
            "  inflating: Fiji.app/jars/ij1-patcher-0.12.5.jar  \n",
            "  inflating: Fiji.app/jars/image4j-0.7.jar  \n",
            "  inflating: Fiji.app/jars/imagej-2.0.0-rc-59.jar  \n",
            "  inflating: Fiji.app/jars/imagej-common-0.24.3.jar  \n",
            "  inflating: Fiji.app/jars/imagej-deprecated-0.1.1.jar  \n",
            "  inflating: Fiji.app/jars/imagej-launcher-4.0.5.jar  \n",
            "  inflating: Fiji.app/jars/imagej-legacy-0.23.5.jar  \n",
            "  inflating: Fiji.app/jars/imagej-notebook-0.2.1.jar  \n",
            "  inflating: Fiji.app/jars/imagej-ops-0.36.0.jar  \n",
            "  inflating: Fiji.app/jars/imagej-plugins-commands-0.7.0.jar  \n",
            "  inflating: Fiji.app/jars/imagej-plugins-tools-0.3.0.jar  \n",
            "  inflating: Fiji.app/jars/imagej-plugins-uploader-ssh-0.3.1.jar  \n",
            "  inflating: Fiji.app/jars/imagej-plugins-uploader-webdav-0.2.1.jar  \n",
            "  inflating: Fiji.app/jars/imagej-scripting-0.5.1.jar  \n",
            "  inflating: Fiji.app/jars/imagej-ui-awt-0.3.0.jar  \n",
            "  inflating: Fiji.app/jars/imagej-ui-swing-0.21.1.jar  \n",
            "  inflating: Fiji.app/jars/imagej-updater-0.8.2.jar  \n",
            "  inflating: Fiji.app/jars/imglib2-3.2.1.jar  \n",
            "  inflating: Fiji.app/jars/imglib2-algorithm-0.6.2.jar  \n",
            "  inflating: Fiji.app/jars/imglib2-algorithm-fft-0.1.2.jar  \n",
            "  inflating: Fiji.app/jars/imglib2-algorithm-gpl-0.1.5.jar  \n",
            "  inflating: Fiji.app/jars/imglib2-ij-2.0.0-beta-35.jar  \n",
            "  inflating: Fiji.app/jars/imglib2-realtransform-2.0.0-beta-34.jar  \n",
            "  inflating: Fiji.app/jars/imglib2-roi-0.4.4.jar  \n",
            "  inflating: Fiji.app/jars/imglib2-ui-2.0.0-beta-31.jar  \n",
            "  inflating: Fiji.app/jars/invokebinder-1.2.jar  \n",
            "  inflating: Fiji.app/jars/itext-2.1.5.jar  \n",
            "  inflating: Fiji.app/jars/itextpdf-5.1.1.jar  \n",
            "  inflating: Fiji.app/jars/j3dcore-1.6.0-scijava-2.jar  \n",
            "  inflating: Fiji.app/jars/j3dutils-1.6.0-scijava-2.jar  \n",
            "  inflating: Fiji.app/jars/jacl.jar  \n",
            "  inflating: Fiji.app/jars/jai-codec-1.1.3.jar  \n",
            "  inflating: Fiji.app/jars/jai-core-1.1.3.jar  \n",
            "  inflating: Fiji.app/jars/jama-1.0.3.jar  \n",
            "  inflating: Fiji.app/jars/java-cup-0.11a.jar  \n",
            "  inflating: Fiji.app/jars/javacpp-0.11.jar  \n",
            "  inflating: Fiji.app/jars/javassist-3.20.0-GA.jar  \n",
            "  inflating: Fiji.app/jars/jcodings-1.0.10.jar  \n",
            "  inflating: Fiji.app/jars/jcommon-1.0.23.jar  \n",
            "  inflating: Fiji.app/jars/jdatepicker-1.3.2.jar  \n",
            "  inflating: Fiji.app/jars/jdom2-2.0.6.jar  \n",
            "  inflating: Fiji.app/jars/jep-2.4.2.jar  \n",
            "  inflating: Fiji.app/jars/jffi-1.2.7-native.jar  \n",
            "  inflating: Fiji.app/jars/jffi-1.2.7.jar  \n",
            "  inflating: Fiji.app/jars/jfreechart-1.0.19.jar  \n",
            "  inflating: Fiji.app/jars/jgoodies-common-1.7.0.jar  \n",
            "  inflating: Fiji.app/jars/jgoodies-forms-1.7.2.jar  \n",
            "  inflating: Fiji.app/jars/jgrapht-0.8.3.jar  \n",
            "  inflating: Fiji.app/jars/jgraphx-1.10.4.1.jar  \n",
            "  inflating: Fiji.app/jars/jhdf5-14.12.5.jar  \n",
            "  inflating: Fiji.app/jars/jhotdraw-7.6.0.jar  \n",
            "  inflating: Fiji.app/jars/jitk-tps-2.1.0.jar  \n",
            "  inflating: Fiji.app/jars/jna-4.2.2.jar  \n",
            "  inflating: Fiji.app/jars/jnr-constants-0.8.5.jar  \n",
            "  inflating: Fiji.app/jars/jnr-enxio-0.4.jar  \n",
            "  inflating: Fiji.app/jars/jnr-ffi-1.0.7.jar  \n",
            "  inflating: Fiji.app/jars/jnr-netdb-1.1.2.jar  \n",
            "  inflating: Fiji.app/jars/jnr-posix-3.0.1.jar  \n",
            "  inflating: Fiji.app/jars/jnr-unixsocket-0.3.jar  \n",
            "  inflating: Fiji.app/jars/jnr-x86asm-1.0.2.jar  \n",
            "  inflating: Fiji.app/jars/joal-2.3.2.jar  \n",
            "  inflating: Fiji.app/jars/joal-main-2.3.2.jar  \n",
            "  inflating: Fiji.app/jars/jocl-2.3.2.jar  \n",
            "  inflating: Fiji.app/jars/jocl-main-2.3.2.jar  \n",
            "  inflating: Fiji.app/jars/joda-time-2.9.4.jar  \n",
            "  inflating: Fiji.app/jars/jogl-all-2.3.2.jar  \n",
            "  inflating: Fiji.app/jars/jogl-all-main-2.3.2.jar  \n",
            "  inflating: Fiji.app/jars/joni-2.1.1.jar  \n",
            "  inflating: Fiji.app/jars/jpedalSTD-2.80b11.jar  \n",
            "  inflating: Fiji.app/jars/jruby-core-1.7.12.jar  \n",
            "  inflating: Fiji.app/jars/jruby-stdlib-1.7.12.jar  \n",
            "  inflating: Fiji.app/jars/js.jar    \n",
            "  inflating: Fiji.app/jars/jsch-0.1.49.jar  \n",
            "  inflating: Fiji.app/jars/jsoup-1.7.2.jar  \n",
            "  inflating: Fiji.app/jars/jtransforms-2.4.jar  \n",
            "  inflating: Fiji.app/jars/jung-api-2.0.1.jar  \n",
            "  inflating: Fiji.app/jars/jung-graph-impl-2.0.1.jar  \n",
            "  inflating: Fiji.app/jars/jython-shaded-2.7.0.jar  \n",
            "  inflating: Fiji.app/jars/jzlib-1.1.2.jar  \n",
            "  inflating: Fiji.app/jars/kryo-2.24.0.jar  \n",
            "  inflating: Fiji.app/jars/languagesupport-2.5.8.jar  \n",
            "  inflating: Fiji.app/jars/lapack-0.8.jar  \n",
            "  inflating: Fiji.app/jars/legacy-imglib1-1.1.6.jar  \n",
            "  inflating: Fiji.app/jars/linux64/ffmpeg-2.6.1-0.11-linux-x86_64.jar  \n",
            "  inflating: Fiji.app/jars/linux64/gluegen-rt-2.3.2-natives-linux-amd64.jar  \n",
            "  inflating: Fiji.app/jars/linux64/joal-2.3.2-natives-linux-amd64.jar  \n",
            "  inflating: Fiji.app/jars/linux64/jocl-2.3.2-natives-linux-amd64.jar  \n",
            "  inflating: Fiji.app/jars/linux64/jogl-all-2.3.2-natives-linux-amd64.jar  \n",
            "  inflating: Fiji.app/jars/log4j-1.2.17.jar  \n",
            "  inflating: Fiji.app/jars/logback-classic-1.1.7.jar  \n",
            "  inflating: Fiji.app/jars/logback-core-1.1.7.jar  \n",
            "  inflating: Fiji.app/jars/mapdb-1.0.3.jar  \n",
            "  inflating: Fiji.app/jars/markdownj-0.3.0-1.0.2b4.jar  \n",
            "  inflating: Fiji.app/jars/maven-scm-api-1.4.jar  \n",
            "  inflating: Fiji.app/jars/maven-scm-provider-svn-commons-1.4.jar  \n",
            "  inflating: Fiji.app/jars/maven-scm-provider-svnexe-1.4.jar  \n",
            "  inflating: Fiji.app/jars/metadata-extractor-2.6.2.jar  \n",
            "  inflating: Fiji.app/jars/methods-0.8.1906.jar  \n",
            "  inflating: Fiji.app/jars/miglayout-3.7.4-swing.jar  \n",
            "  inflating: Fiji.app/jars/mines-jtk-20151125.jar  \n",
            "  inflating: Fiji.app/jars/minimaven-2.2.0.jar  \n",
            "  inflating: Fiji.app/jars/minlog-1.2.jar  \n",
            "  inflating: Fiji.app/jars/mpicbg-1.1.1.jar  \n",
            "  inflating: Fiji.app/jars/mpicbg-trakem2-1.2.3.jar  \n",
            "  inflating: Fiji.app/jars/mtj-1.0.4.jar  \n",
            "  inflating: Fiji.app/jars/nailgun-server-0.9.1.jar  \n",
            "  inflating: Fiji.app/jars/native-lib-loader-2.1.4.jar  \n",
            "  inflating: Fiji.app/jars/netcdf-4.3.19.jar  \n",
            "  inflating: Fiji.app/jars/netlib-java-0.9.3-renjin-patched-2.jar  \n",
            "  inflating: Fiji.app/jars/object-inspector-0.1.jar  \n",
            "  inflating: Fiji.app/jars/objenesis-2.1.jar  \n",
            "  inflating: Fiji.app/jars/op-finder-0.1.0.jar  \n",
            "  inflating: Fiji.app/jars/opencsv-2.4.jar  \n",
            "  inflating: Fiji.app/jars/options-1.1.jar  \n",
            "  inflating: Fiji.app/jars/pal-optimization-2.0.0.jar  \n",
            "  inflating: Fiji.app/jars/parsington-1.0.0.jar  \n",
            "  inflating: Fiji.app/jars/pentaho-package-manager-1.0.8.jar  \n",
            "  inflating: Fiji.app/jars/perf4j-0.9.13.jar  \n",
            "  inflating: Fiji.app/jars/plexus-utils-1.5.6.jar  \n",
            "  inflating: Fiji.app/jars/postgresql-8.2-507.jdbc3.jar  \n",
            "  inflating: Fiji.app/jars/regexp-1.3.jar  \n",
            "  inflating: Fiji.app/jars/renjin-appl-0.8.1906.jar  \n",
            "  inflating: Fiji.app/jars/renjin-core-0.8.1906.jar  \n",
            "  inflating: Fiji.app/jars/renjin-gnur-runtime-0.8.1906.jar  \n",
            "  inflating: Fiji.app/jars/renjin-script-engine-0.8.1906.jar  \n",
            "  inflating: Fiji.app/jars/rhino-1.7.6.jar  \n",
            "  inflating: Fiji.app/jars/rsyntaxtextarea-2.5.8.jar  \n",
            "  inflating: Fiji.app/jars/scala-compiler-2.12.1.jar  \n",
            "  inflating: Fiji.app/jars/scala-library-2.12.1.jar  \n",
            "  inflating: Fiji.app/jars/scala-parser-combinators_2.12.0-M4-1.0.4.jar  \n",
            "  inflating: Fiji.app/jars/scala-reflect-2.12.1.jar  \n",
            "  inflating: Fiji.app/jars/scala-xml_2.12-1.0.6.jar  \n",
            "  inflating: Fiji.app/jars/scala-xml_2.12.0-M4-1.0.5.jar  \n",
            "  inflating: Fiji.app/jars/scifio-0.31.1.jar  \n",
            "  inflating: Fiji.app/jars/scifio-bf-compat-2.0.2.jar  \n",
            "  inflating: Fiji.app/jars/scifio-cli-0.3.3.jar  \n",
            "  inflating: Fiji.app/jars/scifio-hdf5-0.1.1.jar  \n",
            "  inflating: Fiji.app/jars/scifio-jai-imageio-1.1.0.jar  \n",
            "  inflating: Fiji.app/jars/scifio-lifesci-0.7.0.jar  \n",
            "  inflating: Fiji.app/jars/scifio-ome-xml-0.14.2.jar  \n",
            "  inflating: Fiji.app/jars/scifio-tools-0.14.0.jar  \n",
            "  inflating: Fiji.app/jars/scijava-common-2.62.1.jar  \n",
            "  inflating: Fiji.app/jars/scijava-config-2.0.1.jar  \n",
            "  inflating: Fiji.app/jars/scijava-expression-parser-2.1.1.jar  \n",
            "  inflating: Fiji.app/jars/scijava-plugins-commands-0.2.2.jar  \n",
            "  inflating: Fiji.app/jars/scijava-plugins-platforms-0.2.1.jar  \n",
            "  inflating: Fiji.app/jars/scijava-plugins-text-markdown-0.1.2.jar  \n",
            "  inflating: Fiji.app/jars/scijava-plugins-text-plain-0.1.2.jar  \n",
            "  inflating: Fiji.app/jars/scijava-ui-awt-0.1.5.jar  \n",
            "  inflating: Fiji.app/jars/scijava-ui-swing-0.9.1.jar  \n",
            "  inflating: Fiji.app/jars/script-editor-0.1.2.jar  \n",
            "  inflating: Fiji.app/jars/scripting-beanshell-0.3.1.jar  \n",
            "  inflating: Fiji.app/jars/scripting-clojure-0.1.5.jar  \n",
            "  inflating: Fiji.app/jars/scripting-groovy-0.2.5.jar  \n",
            "  inflating: Fiji.app/jars/scripting-java-0.4.0.jar  \n",
            "  inflating: Fiji.app/jars/scripting-javascript-0.4.3.jar  \n",
            "  inflating: Fiji.app/jars/scripting-jruby-0.2.4.jar  \n",
            "  inflating: Fiji.app/jars/scripting-jython-0.4.0.jar  \n",
            "  inflating: Fiji.app/jars/scripting-renjin-0.2.1.jar  \n",
            "  inflating: Fiji.app/jars/scripting-scala-0.2.0.jar  \n",
            "  inflating: Fiji.app/jars/slf4j-api-1.7.21.jar  \n",
            "  inflating: Fiji.app/jars/snakeyaml-1.13.jar  \n",
            "  inflating: Fiji.app/jars/spim_data-2.2.0.jar  \n",
            "  inflating: Fiji.app/jars/stats-0.8.1906.jar  \n",
            "  inflating: Fiji.app/jars/swing-checkbox-tree-1.0.1.jar  \n",
            "  inflating: Fiji.app/jars/swing-worker-1.1.jar  \n",
            "  inflating: Fiji.app/jars/swingx-1.6.1.jar  \n",
            "  inflating: Fiji.app/jars/trove4j-3.0.3.jar  \n",
            "  inflating: Fiji.app/jars/udunits-4.3.18.jar  \n",
            "  inflating: Fiji.app/jars/ui-behaviour-1.1.0.jar  \n",
            "  inflating: Fiji.app/jars/utils-0.8.1906.jar  \n",
            "  inflating: Fiji.app/jars/vecmath-1.6.0-scijava-2.jar  \n",
            "  inflating: Fiji.app/jars/weave_jy2java-2.1.0.jar  \n",
            "  inflating: Fiji.app/jars/weka-dev-3.9.0.jar  \n",
            "  inflating: Fiji.app/jars/xerbla-0.8.jar  \n",
            "  inflating: Fiji.app/jars/xercesImpl-2.8.1.jar  \n",
            "  inflating: Fiji.app/jars/xml-apis-1.3.03.jar  \n",
            "  inflating: Fiji.app/jars/xml-apis-ext-1.3.04.jar  \n",
            "  inflating: Fiji.app/jars/xmlgraphics-commons-2.1.jar  \n",
            "  inflating: Fiji.app/jars/xmpcore-5.1.2.jar  \n",
            "  inflating: Fiji.app/jars/xz-1.0.jar  \n",
            "  inflating: Fiji.app/jars/yecht-1.0.jar  \n",
            "  inflating: Fiji.app/scripts/ImageJ.m  \n",
            "  inflating: Fiji.app/scripts/InstallJava3D.m  \n",
            "  inflating: Fiji.app/scripts/IsJava3DInstalled.m  \n",
            "  inflating: Fiji.app/scripts/Matlab3DViewerDemo_1.m  \n",
            "  inflating: Fiji.app/scripts/Matlab3DViewerDemo_2.m  \n",
            "  inflating: Fiji.app/scripts/Matlab3DViewerDemo_3.m  \n",
            "  inflating: Fiji.app/scripts/Matlab3DViewerIntroduction.m  \n",
            "  inflating: Fiji.app/scripts/Miji.m  \n",
            "  inflating: Fiji.app/scripts/Miji_Test.m  \n",
            "  inflating: Fiji.app/scripts/bfopen.m  \n",
            "  inflating: Fiji.app/scripts/copytoImg.m  \n",
            "  inflating: Fiji.app/scripts/copytoImgPlus.m  \n",
            "  inflating: Fiji.app/scripts/copytoMatlab.m  \n",
            "  inflating: Fiji.app/scripts/importTrackMateTracks.m  \n",
            "  inflating: Fiji.app/scripts/trackmateEdges.m  \n",
            "  inflating: Fiji.app/scripts/trackmateFeatureDeclarations.m  \n",
            "  inflating: Fiji.app/scripts/trackmateGraph.m  \n",
            "  inflating: Fiji.app/scripts/trackmateImageCalibration.m  \n",
            "  inflating: Fiji.app/scripts/trackmateSpots.m  \n",
            "  inflating: Fiji.app/images/about/about1.tif  \n",
            "  inflating: Fiji.app/images/about/about1.tif.txt  \n",
            "  inflating: Fiji.app/images/about/about2.tif  \n",
            "  inflating: Fiji.app/images/about/about2.tif.txt  \n",
            "  inflating: Fiji.app/images/about/about3.tif  \n",
            "  inflating: Fiji.app/images/about/about3.tif.txt  \n",
            "  inflating: Fiji.app/images/about/about4.tif  \n",
            "  inflating: Fiji.app/images/about/about4.tif.txt  \n",
            "  inflating: Fiji.app/images/about/about5.tif  \n",
            "  inflating: Fiji.app/images/about/about5.tif.txt  \n",
            "  inflating: Fiji.app/images/icon-flat.png  \n",
            "  inflating: Fiji.app/images/icon.png  \n",
            "  inflating: Fiji.app/macros/AutoRun/AutoRun_Scripts.ijm  \n",
            "  inflating: Fiji.app/macros/StartupMacros.fiji.ijm  \n",
            "  inflating: Fiji.app/macros/listManagement.txt  \n",
            "  inflating: Fiji.app/macros/toolsets/Clear Custom Tools.txt  \n",
            "  inflating: Fiji.app/macros/toolsets/Drawing Tools.txt  \n",
            "  inflating: Fiji.app/macros/toolsets/Lookup Tables.txt  \n",
            "  inflating: Fiji.app/README.md      \n",
            "  inflating: Fiji.app/WELCOME.md     \n",
            "  inflating: Fiji.app/luts/16_colors.lut  \n",
            "  inflating: Fiji.app/luts/5_ramps.lut  \n",
            "  inflating: Fiji.app/luts/6_shades.lut  \n",
            "  inflating: Fiji.app/luts/Cyan Hot.lut  \n",
            "  inflating: Fiji.app/luts/Green Fire Blue.lut  \n",
            "  inflating: Fiji.app/luts/HiLo.lut  \n",
            "  inflating: Fiji.app/luts/ICA.lut   \n",
            "  inflating: Fiji.app/luts/ICA2.lut  \n",
            "  inflating: Fiji.app/luts/ICA3.lut  \n",
            "  inflating: Fiji.app/luts/Magenta Hot.lut  \n",
            "  inflating: Fiji.app/luts/Orange Hot.lut  \n",
            "  inflating: Fiji.app/luts/Rainbow RGB.lut  \n",
            "  inflating: Fiji.app/luts/Red Hot.lut  \n",
            "  inflating: Fiji.app/luts/Thermal.lut  \n",
            "  inflating: Fiji.app/luts/Yellow Hot.lut  \n",
            "  inflating: Fiji.app/luts/blue_orange_icb.lut  \n",
            "  inflating: Fiji.app/luts/brgbcmyw.lut  \n",
            "  inflating: Fiji.app/luts/cool.lut  \n",
            "  inflating: Fiji.app/luts/edges.lut  \n",
            "  inflating: Fiji.app/luts/gem.lut   \n",
            "  inflating: Fiji.app/luts/glasbey.lut  \n",
            "  inflating: Fiji.app/luts/glasbey_inverted.lut  \n",
            "  inflating: Fiji.app/luts/glow.lut  \n",
            "  inflating: Fiji.app/luts/mpl-inferno.lut  \n",
            "  inflating: Fiji.app/luts/mpl-magma.lut  \n",
            "  inflating: Fiji.app/luts/mpl-plasma.lut  \n",
            "  inflating: Fiji.app/luts/mpl-viridis.lut  \n",
            "  inflating: Fiji.app/luts/phase.lut  \n",
            "  inflating: Fiji.app/luts/physics.lut  \n",
            "  inflating: Fiji.app/luts/royal.lut  \n",
            "  inflating: Fiji.app/luts/sepia.lut  \n",
            "  inflating: Fiji.app/luts/smart.lut  \n",
            "  inflating: Fiji.app/luts/thal.lut  \n",
            "  inflating: Fiji.app/luts/thallium.lut  \n",
            "  inflating: Fiji.app/luts/unionjack.lut  \n",
            "  inflating: Fiji.app/retro/backport-util-concurrent-3.1.jar  \n",
            "  inflating: Fiji.app/retro/retrotranslator-runtime-1.2.9.jar  \n",
            "  inflating: Fiji.app/retro/retrotranslator-transformer-1.2.9.jar  \n",
            "  inflating: Fiji.app/java/linux-amd64/jdk1.8.0_66/jre/bin/pack200  \n",
            "  inflating: Fiji.app/java/linux-amd64/jdk1.8.0_66/jre/bin/keytool  \n",
            "  inflating: Fiji.app/java/linux-amd64/jdk1.8.0_66/jre/bin/jjs  \n",
            "  inflating: Fiji.app/java/linux-amd64/jdk1.8.0_66/jre/bin/tnameserv  \n",
            "  inflating: Fiji.app/java/linux-amd64/jdk1.8.0_66/jre/bin/java  \n",
            "  inflating: Fiji.app/java/linux-amd64/jdk1.8.0_66/jre/bin/ControlPanel  \n",
            "  inflating: Fiji.app/java/linux-amd64/jdk1.8.0_66/jre/bin/orbd  \n",
            "  inflating: Fiji.app/java/linux-amd64/jdk1.8.0_66/jre/bin/rmiregistry  \n",
            "  inflating: Fiji.app/java/linux-amd64/jdk1.8.0_66/jre/bin/unpack200  \n",
            "  inflating: Fiji.app/java/linux-amd64/jdk1.8.0_66/jre/bin/policytool  \n",
            "  inflating: Fiji.app/java/linux-amd64/jdk1.8.0_66/jre/bin/javaws  \n",
            "  inflating: Fiji.app/java/linux-amd64/jdk1.8.0_66/jre/bin/servertool  \n",
            "  inflating: Fiji.app/java/linux-amd64/jdk1.8.0_66/jre/bin/rmid  \n",
            "  inflating: Fiji.app/java/linux-amd64/jdk1.8.0_66/jre/bin/jcontrol  \n",
            "  inflating: Fiji.app/java/linux-amd64/jdk1.8.0_66/jre/THIRDPARTYLICENSEREADME.txt  \n",
            "  inflating: Fiji.app/java/linux-amd64/jdk1.8.0_66/jre/Welcome.html  \n",
            "  inflating: Fiji.app/java/linux-amd64/jdk1.8.0_66/jre/COPYRIGHT  \n",
            "  inflating: Fiji.app/java/linux-amd64/jdk1.8.0_66/jre/plugin/desktop/sun_java.desktop  \n",
            "  inflating: Fiji.app/java/linux-amd64/jdk1.8.0_66/jre/plugin/desktop/sun_java.png  \n",
            "  inflating: Fiji.app/java/linux-amd64/jdk1.8.0_66/jre/THIRDPARTYLICENSEREADME-JAVAFX.txt  \n",
            "  inflating: Fiji.app/java/linux-amd64/jdk1.8.0_66/jre/README  \n",
            "  inflating: Fiji.app/java/linux-amd64/jdk1.8.0_66/jre/LICENSE  \n",
            "  inflating: Fiji.app/java/linux-amd64/jdk1.8.0_66/jre/man/ja/man1/rmid.1  \n",
            "  inflating: Fiji.app/java/linux-amd64/jdk1.8.0_66/jre/man/ja/man1/javaws.1  \n",
            "  inflating: Fiji.app/java/linux-amd64/jdk1.8.0_66/jre/man/ja/man1/tnameserv.1  \n",
            "  inflating: Fiji.app/java/linux-amd64/jdk1.8.0_66/jre/man/ja/man1/rmiregistry.1  \n",
            "  inflating: Fiji.app/java/linux-amd64/jdk1.8.0_66/jre/man/ja/man1/java.1  \n",
            "  inflating: Fiji.app/java/linux-amd64/jdk1.8.0_66/jre/man/ja/man1/orbd.1  \n",
            "  inflating: Fiji.app/java/linux-amd64/jdk1.8.0_66/jre/man/ja/man1/jjs.1  \n",
            "  inflating: Fiji.app/java/linux-amd64/jdk1.8.0_66/jre/man/ja/man1/servertool.1  \n",
            "  inflating: Fiji.app/java/linux-amd64/jdk1.8.0_66/jre/man/ja/man1/keytool.1  \n",
            "  inflating: Fiji.app/java/linux-amd64/jdk1.8.0_66/jre/man/ja/man1/pack200.1  \n",
            "  inflating: Fiji.app/java/linux-amd64/jdk1.8.0_66/jre/man/ja/man1/policytool.1  \n",
            "  inflating: Fiji.app/java/linux-amd64/jdk1.8.0_66/jre/man/ja/man1/unpack200.1  \n",
            "  inflating: Fiji.app/java/linux-amd64/jdk1.8.0_66/jre/man/ja_JP.UTF-8/man1/rmid.1  \n",
            "  inflating: Fiji.app/java/linux-amd64/jdk1.8.0_66/jre/man/ja_JP.UTF-8/man1/javaws.1  \n",
            "  inflating: Fiji.app/java/linux-amd64/jdk1.8.0_66/jre/man/ja_JP.UTF-8/man1/tnameserv.1  \n",
            "  inflating: Fiji.app/java/linux-amd64/jdk1.8.0_66/jre/man/ja_JP.UTF-8/man1/rmiregistry.1  \n",
            "  inflating: Fiji.app/java/linux-amd64/jdk1.8.0_66/jre/man/ja_JP.UTF-8/man1/java.1  \n",
            "  inflating: Fiji.app/java/linux-amd64/jdk1.8.0_66/jre/man/ja_JP.UTF-8/man1/orbd.1  \n",
            "  inflating: Fiji.app/java/linux-amd64/jdk1.8.0_66/jre/man/ja_JP.UTF-8/man1/jjs.1  \n",
            "  inflating: Fiji.app/java/linux-amd64/jdk1.8.0_66/jre/man/ja_JP.UTF-8/man1/servertool.1  \n",
            "  inflating: Fiji.app/java/linux-amd64/jdk1.8.0_66/jre/man/ja_JP.UTF-8/man1/keytool.1  \n",
            "  inflating: Fiji.app/java/linux-amd64/jdk1.8.0_66/jre/man/ja_JP.UTF-8/man1/pack200.1  \n",
            "  inflating: Fiji.app/java/linux-amd64/jdk1.8.0_66/jre/man/ja_JP.UTF-8/man1/policytool.1  \n",
            "  inflating: Fiji.app/java/linux-amd64/jdk1.8.0_66/jre/man/ja_JP.UTF-8/man1/unpack200.1  \n",
            "  inflating: Fiji.app/java/linux-amd64/jdk1.8.0_66/jre/man/man1/rmid.1  \n",
            "  inflating: Fiji.app/java/linux-amd64/jdk1.8.0_66/jre/man/man1/javaws.1  \n",
            "  inflating: Fiji.app/java/linux-amd64/jdk1.8.0_66/jre/man/man1/tnameserv.1  \n",
            "  inflating: Fiji.app/java/linux-amd64/jdk1.8.0_66/jre/man/man1/rmiregistry.1  \n",
            "  inflating: Fiji.app/java/linux-amd64/jdk1.8.0_66/jre/man/man1/java.1  \n",
            "  inflating: Fiji.app/java/linux-amd64/jdk1.8.0_66/jre/man/man1/orbd.1  \n",
            "  inflating: Fiji.app/java/linux-amd64/jdk1.8.0_66/jre/man/man1/jjs.1  \n",
            "  inflating: Fiji.app/java/linux-amd64/jdk1.8.0_66/jre/man/man1/servertool.1  \n",
            "  inflating: Fiji.app/java/linux-amd64/jdk1.8.0_66/jre/man/man1/keytool.1  \n",
            "  inflating: Fiji.app/java/linux-amd64/jdk1.8.0_66/jre/man/man1/pack200.1  \n",
            "  inflating: Fiji.app/java/linux-amd64/jdk1.8.0_66/jre/man/man1/policytool.1  \n",
            "  inflating: Fiji.app/java/linux-amd64/jdk1.8.0_66/jre/man/man1/unpack200.1  \n",
            "  inflating: Fiji.app/java/linux-amd64/jdk1.8.0_66/jre/release  \n",
            "  inflating: Fiji.app/java/linux-amd64/jdk1.8.0_66/jre/lib/logging.properties  \n",
            "  inflating: Fiji.app/java/linux-amd64/jdk1.8.0_66/jre/lib/psfont.properties.ja  \n",
            "  inflating: Fiji.app/java/linux-amd64/jdk1.8.0_66/jre/lib/cmm/sRGB.pf  \n",
            "  inflating: Fiji.app/java/linux-amd64/jdk1.8.0_66/jre/lib/cmm/LINEAR_RGB.pf  \n",
            "  inflating: Fiji.app/java/linux-amd64/jdk1.8.0_66/jre/lib/cmm/PYCC.pf  \n",
            "  inflating: Fiji.app/java/linux-amd64/jdk1.8.0_66/jre/lib/cmm/GRAY.pf  \n",
            "  inflating: Fiji.app/java/linux-amd64/jdk1.8.0_66/jre/lib/cmm/CIEXYZ.pf  \n",
            "  inflating: Fiji.app/java/linux-amd64/jdk1.8.0_66/jre/lib/deploy/mixcode_s.png  \n",
            "  inflating: Fiji.app/java/linux-amd64/jdk1.8.0_66/jre/lib/deploy/messages_ko.properties  \n",
            "  inflating: Fiji.app/java/linux-amd64/jdk1.8.0_66/jre/lib/deploy/messages_de.properties  \n",
            "  inflating: Fiji.app/java/linux-amd64/jdk1.8.0_66/jre/lib/deploy/messages_zh_HK.properties  \n",
            "  inflating: Fiji.app/java/linux-amd64/jdk1.8.0_66/jre/lib/deploy/MixedCodeMainDialog.ui  \n",
            "  inflating: Fiji.app/java/linux-amd64/jdk1.8.0_66/jre/lib/deploy/splash@2x.gif  \n",
            "  inflating: Fiji.app/java/linux-amd64/jdk1.8.0_66/jre/lib/deploy/java-icon.ico  \n",
            "  inflating: Fiji.app/java/linux-amd64/jdk1.8.0_66/jre/lib/deploy/ffjcext.zip  \n",
            "  inflating: Fiji.app/java/linux-amd64/jdk1.8.0_66/jre/lib/deploy/messages_ja.properties  \n",
            "  inflating: Fiji.app/java/linux-amd64/jdk1.8.0_66/jre/lib/deploy/messages_pt_BR.properties  \n",
            "  inflating: Fiji.app/java/linux-amd64/jdk1.8.0_66/jre/lib/deploy/messages_es.properties  \n",
            "  inflating: Fiji.app/java/linux-amd64/jdk1.8.0_66/jre/lib/deploy/messages_zh_TW.properties  \n",
            "  inflating: Fiji.app/java/linux-amd64/jdk1.8.0_66/jre/lib/deploy/cautionshield.icns  \n",
            "  inflating: Fiji.app/java/linux-amd64/jdk1.8.0_66/jre/lib/deploy/messages.properties  \n",
            "  inflating: Fiji.app/java/linux-amd64/jdk1.8.0_66/jre/lib/deploy/MixedCodeMainDialogJs.ui  \n",
            "  inflating: Fiji.app/java/linux-amd64/jdk1.8.0_66/jre/lib/deploy/splash.gif  \n",
            "  inflating: Fiji.app/java/linux-amd64/jdk1.8.0_66/jre/lib/deploy/messages_fr.properties  \n",
            "  inflating: Fiji.app/java/linux-amd64/jdk1.8.0_66/jre/lib/deploy/messages_zh_CN.properties  \n",
            "  inflating: Fiji.app/java/linux-amd64/jdk1.8.0_66/jre/lib/deploy/messages_sv.properties  \n",
            "  inflating: Fiji.app/java/linux-amd64/jdk1.8.0_66/jre/lib/deploy/messages_it.properties  \n",
            "  inflating: Fiji.app/java/linux-amd64/jdk1.8.0_66/jre/lib/net.properties  \n",
            "  inflating: Fiji.app/java/linux-amd64/jdk1.8.0_66/jre/lib/jfr/default.jfc  \n",
            "  inflating: Fiji.app/java/linux-amd64/jdk1.8.0_66/jre/lib/jfr/profile.jfc  \n",
            "  inflating: Fiji.app/java/linux-amd64/jdk1.8.0_66/jre/lib/hijrah-config-umalqura.properties  \n",
            "  inflating: Fiji.app/java/linux-amd64/jdk1.8.0_66/jre/lib/fontconfig.RedHat.5.bfc  \n",
            "  inflating: Fiji.app/java/linux-amd64/jdk1.8.0_66/jre/lib/fontconfig.RedHat.6.bfc  \n",
            "  inflating: Fiji.app/java/linux-amd64/jdk1.8.0_66/jre/lib/meta-index  \n",
            "  inflating: Fiji.app/java/linux-amd64/jdk1.8.0_66/jre/lib/security/trusted.libraries  \n",
            "  inflating: Fiji.app/java/linux-amd64/jdk1.8.0_66/jre/lib/security/local_policy.jar  \n",
            "  inflating: Fiji.app/java/linux-amd64/jdk1.8.0_66/jre/lib/security/cacerts  \n",
            "  inflating: Fiji.app/java/linux-amd64/jdk1.8.0_66/jre/lib/security/java.policy  \n",
            "  inflating: Fiji.app/java/linux-amd64/jdk1.8.0_66/jre/lib/security/blacklist  \n",
            "  inflating: Fiji.app/java/linux-amd64/jdk1.8.0_66/jre/lib/security/blacklisted.certs  \n",
            "  inflating: Fiji.app/java/linux-amd64/jdk1.8.0_66/jre/lib/security/US_export_policy.jar  \n",
            "  inflating: Fiji.app/java/linux-amd64/jdk1.8.0_66/jre/lib/security/javaws.policy  \n",
            "  inflating: Fiji.app/java/linux-amd64/jdk1.8.0_66/jre/lib/security/java.security  \n",
            "  inflating: Fiji.app/java/linux-amd64/jdk1.8.0_66/jre/lib/fontconfig.SuSE.10.properties.src  \n",
            "  inflating: Fiji.app/java/linux-amd64/jdk1.8.0_66/jre/lib/jexec  \n",
            "  inflating: Fiji.app/java/linux-amd64/jdk1.8.0_66/jre/lib/fontconfig.RedHat.5.properties.src  \n",
            "  inflating: Fiji.app/java/linux-amd64/jdk1.8.0_66/jre/lib/resources.jar  \n",
            "  inflating: Fiji.app/java/linux-amd64/jdk1.8.0_66/jre/lib/jvm.hprof.txt  \n",
            "  inflating: Fiji.app/java/linux-amd64/jdk1.8.0_66/jre/lib/charsets.jar  \n",
            "  inflating: Fiji.app/java/linux-amd64/jdk1.8.0_66/jre/lib/images/cursors/motif_LinkNoDrop32x32.gif  \n",
            "  inflating: Fiji.app/java/linux-amd64/jdk1.8.0_66/jre/lib/images/cursors/cursors.properties  \n",
            "  inflating: Fiji.app/java/linux-amd64/jdk1.8.0_66/jre/lib/images/cursors/motif_CopyNoDrop32x32.gif  \n",
            "  inflating: Fiji.app/java/linux-amd64/jdk1.8.0_66/jre/lib/images/cursors/motif_MoveDrop32x32.gif  \n",
            "  inflating: Fiji.app/java/linux-amd64/jdk1.8.0_66/jre/lib/images/cursors/invalid32x32.gif  \n",
            "  inflating: Fiji.app/java/linux-amd64/jdk1.8.0_66/jre/lib/images/cursors/motif_MoveNoDrop32x32.gif  \n",
            "  inflating: Fiji.app/java/linux-amd64/jdk1.8.0_66/jre/lib/images/cursors/motif_LinkDrop32x32.gif  \n",
            "  inflating: Fiji.app/java/linux-amd64/jdk1.8.0_66/jre/lib/images/cursors/motif_CopyDrop32x32.gif  \n",
            "  inflating: Fiji.app/java/linux-amd64/jdk1.8.0_66/jre/lib/images/icons/sun-java_HighContrast.png  \n",
            "  inflating: Fiji.app/java/linux-amd64/jdk1.8.0_66/jre/lib/images/icons/sun-java.png  \n",
            "  inflating: Fiji.app/java/linux-amd64/jdk1.8.0_66/jre/lib/images/icons/sun-java_LowContrast.png  \n",
            "  inflating: Fiji.app/java/linux-amd64/jdk1.8.0_66/jre/lib/images/icons/sun-java_HighContrastInverse.png  \n",
            "  inflating: Fiji.app/java/linux-amd64/jdk1.8.0_66/jre/lib/fontconfig.SuSE.10.bfc  \n",
            "  inflating: Fiji.app/java/linux-amd64/jdk1.8.0_66/jre/lib/ext/localedata.jar  \n",
            "  inflating: Fiji.app/java/linux-amd64/jdk1.8.0_66/jre/lib/ext/jfxrt.jar  \n",
            "  inflating: Fiji.app/java/linux-amd64/jdk1.8.0_66/jre/lib/ext/sunpkcs11.jar  \n",
            "  inflating: Fiji.app/java/linux-amd64/jdk1.8.0_66/jre/lib/ext/sunec.jar  \n",
            "  inflating: Fiji.app/java/linux-amd64/jdk1.8.0_66/jre/lib/ext/meta-index  \n",
            "  inflating: Fiji.app/java/linux-amd64/jdk1.8.0_66/jre/lib/ext/nashorn.jar  \n",
            "  inflating: Fiji.app/java/linux-amd64/jdk1.8.0_66/jre/lib/ext/dnsns.jar  \n",
            "  inflating: Fiji.app/java/linux-amd64/jdk1.8.0_66/jre/lib/ext/sunjce_provider.jar  \n",
            "  inflating: Fiji.app/java/linux-amd64/jdk1.8.0_66/jre/lib/ext/jaccess.jar  \n",
            "  inflating: Fiji.app/java/linux-amd64/jdk1.8.0_66/jre/lib/ext/cldrdata.jar  \n",
            "  inflating: Fiji.app/java/linux-amd64/jdk1.8.0_66/jre/lib/ext/zipfs.jar  \n",
            "  inflating: Fiji.app/java/linux-amd64/jdk1.8.0_66/jre/lib/fontconfig.bfc  \n",
            "  inflating: Fiji.app/java/linux-amd64/jdk1.8.0_66/jre/lib/javafx.properties  \n",
            "  inflating: Fiji.app/java/linux-amd64/jdk1.8.0_66/jre/lib/fontconfig.RedHat.6.properties.src  \n",
            "  inflating: Fiji.app/java/linux-amd64/jdk1.8.0_66/jre/lib/oblique-fonts/LucidaTypewriterBoldOblique.ttf  \n",
            "  inflating: Fiji.app/java/linux-amd64/jdk1.8.0_66/jre/lib/oblique-fonts/LucidaSansDemiOblique.ttf  \n",
            "  inflating: Fiji.app/java/linux-amd64/jdk1.8.0_66/jre/lib/oblique-fonts/LucidaSansOblique.ttf  \n",
            "  inflating: Fiji.app/java/linux-amd64/jdk1.8.0_66/jre/lib/oblique-fonts/fonts.dir  \n",
            "  inflating: Fiji.app/java/linux-amd64/jdk1.8.0_66/jre/lib/oblique-fonts/LucidaTypewriterOblique.ttf  \n",
            "  inflating: Fiji.app/java/linux-amd64/jdk1.8.0_66/jre/lib/deploy.jar  \n",
            "  inflating: Fiji.app/java/linux-amd64/jdk1.8.0_66/jre/lib/tzdb.dat  \n",
            "  inflating: Fiji.app/java/linux-amd64/jdk1.8.0_66/jre/lib/fontconfig.SuSE.11.bfc  \n",
            "  inflating: Fiji.app/java/linux-amd64/jdk1.8.0_66/jre/lib/management/jmxremote.access  \n",
            "  inflating: Fiji.app/java/linux-amd64/jdk1.8.0_66/jre/lib/management/management.properties  \n",
            "  inflating: Fiji.app/java/linux-amd64/jdk1.8.0_66/jre/lib/management/snmp.acl.template  \n",
            "  inflating: Fiji.app/java/linux-amd64/jdk1.8.0_66/jre/lib/management/jmxremote.password.template  \n",
            "  inflating: Fiji.app/java/linux-amd64/jdk1.8.0_66/jre/lib/jsse.jar  \n",
            "  inflating: Fiji.app/java/linux-amd64/jdk1.8.0_66/jre/lib/classlist  \n",
            "  inflating: Fiji.app/java/linux-amd64/jdk1.8.0_66/jre/lib/fontconfig.SuSE.11.properties.src  \n",
            "  inflating: Fiji.app/java/linux-amd64/jdk1.8.0_66/jre/lib/fonts/LucidaBrightRegular.ttf  \n",
            "  inflating: Fiji.app/java/linux-amd64/jdk1.8.0_66/jre/lib/fonts/LucidaBrightDemiBold.ttf  \n",
            "  inflating: Fiji.app/java/linux-amd64/jdk1.8.0_66/jre/lib/fonts/LucidaBrightDemiItalic.ttf  \n",
            "  inflating: Fiji.app/java/linux-amd64/jdk1.8.0_66/jre/lib/fonts/LucidaTypewriterRegular.ttf  \n",
            "  inflating: Fiji.app/java/linux-amd64/jdk1.8.0_66/jre/lib/fonts/LucidaSansRegular.ttf  \n",
            "  inflating: Fiji.app/java/linux-amd64/jdk1.8.0_66/jre/lib/fonts/LucidaSansDemiBold.ttf  \n",
            "  inflating: Fiji.app/java/linux-amd64/jdk1.8.0_66/jre/lib/fonts/LucidaTypewriterBold.ttf  \n",
            "  inflating: Fiji.app/java/linux-amd64/jdk1.8.0_66/jre/lib/fonts/fonts.dir  \n",
            "  inflating: Fiji.app/java/linux-amd64/jdk1.8.0_66/jre/lib/fonts/LucidaBrightItalic.ttf  \n",
            "  inflating: Fiji.app/java/linux-amd64/jdk1.8.0_66/jre/lib/sound.properties  \n",
            "  inflating: Fiji.app/java/linux-amd64/jdk1.8.0_66/jre/lib/fontconfig.Turbo.bfc  \n",
            "  inflating: Fiji.app/java/linux-amd64/jdk1.8.0_66/jre/lib/plugin.jar  \n",
            "  inflating: Fiji.app/java/linux-amd64/jdk1.8.0_66/jre/lib/desktop/mime/packages/x-java-jnlp-file.xml  \n",
            "  inflating: Fiji.app/java/linux-amd64/jdk1.8.0_66/jre/lib/desktop/mime/packages/x-java-archive.xml  \n",
            "  inflating: Fiji.app/java/linux-amd64/jdk1.8.0_66/jre/lib/desktop/applications/sun-java.desktop  \n",
            "  inflating: Fiji.app/java/linux-amd64/jdk1.8.0_66/jre/lib/desktop/applications/sun_java.desktop  \n",
            "  inflating: Fiji.app/java/linux-amd64/jdk1.8.0_66/jre/lib/desktop/applications/sun-javaws.desktop  \n",
            "  inflating: Fiji.app/java/linux-amd64/jdk1.8.0_66/jre/lib/desktop/icons/hicolor/16x16/mimetypes/gnome-mime-application-x-java-jnlp-file.png  \n",
            "  inflating: Fiji.app/java/linux-amd64/jdk1.8.0_66/jre/lib/desktop/icons/hicolor/16x16/mimetypes/gnome-mime-text-x-java.png  \n",
            "  inflating: Fiji.app/java/linux-amd64/jdk1.8.0_66/jre/lib/desktop/icons/hicolor/16x16/mimetypes/gnome-mime-application-x-java-archive.png  \n",
            "  inflating: Fiji.app/java/linux-amd64/jdk1.8.0_66/jre/lib/desktop/icons/hicolor/16x16/apps/sun-java.png  \n",
            "  inflating: Fiji.app/java/linux-amd64/jdk1.8.0_66/jre/lib/desktop/icons/hicolor/16x16/apps/sun-javaws.png  \n",
            "  inflating: Fiji.app/java/linux-amd64/jdk1.8.0_66/jre/lib/desktop/icons/hicolor/16x16/apps/sun-jcontrol.png  \n",
            "  inflating: Fiji.app/java/linux-amd64/jdk1.8.0_66/jre/lib/desktop/icons/hicolor/48x48/mimetypes/gnome-mime-application-x-java-jnlp-file.png  \n",
            "  inflating: Fiji.app/java/linux-amd64/jdk1.8.0_66/jre/lib/desktop/icons/hicolor/48x48/mimetypes/gnome-mime-text-x-java.png  \n",
            "  inflating: Fiji.app/java/linux-amd64/jdk1.8.0_66/jre/lib/desktop/icons/hicolor/48x48/mimetypes/gnome-mime-application-x-java-archive.png  \n",
            "  inflating: Fiji.app/java/linux-amd64/jdk1.8.0_66/jre/lib/desktop/icons/hicolor/48x48/apps/sun-java.png  \n",
            "  inflating: Fiji.app/java/linux-amd64/jdk1.8.0_66/jre/lib/desktop/icons/hicolor/48x48/apps/sun-javaws.png  \n",
            "  inflating: Fiji.app/java/linux-amd64/jdk1.8.0_66/jre/lib/desktop/icons/hicolor/48x48/apps/sun-jcontrol.png  \n",
            "  inflating: Fiji.app/java/linux-amd64/jdk1.8.0_66/jre/lib/desktop/icons/LowContrast/16x16/mimetypes/gnome-mime-application-x-java-jnlp-file.png  \n",
            "  inflating: Fiji.app/java/linux-amd64/jdk1.8.0_66/jre/lib/desktop/icons/LowContrast/16x16/mimetypes/gnome-mime-text-x-java.png  \n",
            "  inflating: Fiji.app/java/linux-amd64/jdk1.8.0_66/jre/lib/desktop/icons/LowContrast/16x16/mimetypes/gnome-mime-application-x-java-archive.png  \n",
            "  inflating: Fiji.app/java/linux-amd64/jdk1.8.0_66/jre/lib/desktop/icons/LowContrast/16x16/apps/sun-java.png  \n",
            "  inflating: Fiji.app/java/linux-amd64/jdk1.8.0_66/jre/lib/desktop/icons/LowContrast/16x16/apps/sun-javaws.png  \n",
            "  inflating: Fiji.app/java/linux-amd64/jdk1.8.0_66/jre/lib/desktop/icons/LowContrast/16x16/apps/sun-jcontrol.png  \n",
            "  inflating: Fiji.app/java/linux-amd64/jdk1.8.0_66/jre/lib/desktop/icons/LowContrast/48x48/mimetypes/gnome-mime-application-x-java-jnlp-file.png  \n",
            "  inflating: Fiji.app/java/linux-amd64/jdk1.8.0_66/jre/lib/desktop/icons/LowContrast/48x48/mimetypes/gnome-mime-text-x-java.png  \n",
            "  inflating: Fiji.app/java/linux-amd64/jdk1.8.0_66/jre/lib/desktop/icons/LowContrast/48x48/mimetypes/gnome-mime-application-x-java-archive.png  \n",
            "  inflating: Fiji.app/java/linux-amd64/jdk1.8.0_66/jre/lib/desktop/icons/LowContrast/48x48/apps/sun-java.png  \n",
            "  inflating: Fiji.app/java/linux-amd64/jdk1.8.0_66/jre/lib/desktop/icons/LowContrast/48x48/apps/sun-javaws.png  \n",
            "  inflating: Fiji.app/java/linux-amd64/jdk1.8.0_66/jre/lib/desktop/icons/LowContrast/48x48/apps/sun-jcontrol.png  \n",
            "  inflating: Fiji.app/java/linux-amd64/jdk1.8.0_66/jre/lib/desktop/icons/HighContrastInverse/16x16/mimetypes/gnome-mime-application-x-java-jnlp-file.png  \n",
            "  inflating: Fiji.app/java/linux-amd64/jdk1.8.0_66/jre/lib/desktop/icons/HighContrastInverse/16x16/mimetypes/gnome-mime-text-x-java.png  \n",
            "  inflating: Fiji.app/java/linux-amd64/jdk1.8.0_66/jre/lib/desktop/icons/HighContrastInverse/16x16/mimetypes/gnome-mime-application-x-java-archive.png  \n",
            "  inflating: Fiji.app/java/linux-amd64/jdk1.8.0_66/jre/lib/desktop/icons/HighContrastInverse/16x16/apps/sun-java.png  \n",
            "  inflating: Fiji.app/java/linux-amd64/jdk1.8.0_66/jre/lib/desktop/icons/HighContrastInverse/16x16/apps/sun-javaws.png  \n",
            "  inflating: Fiji.app/java/linux-amd64/jdk1.8.0_66/jre/lib/desktop/icons/HighContrastInverse/16x16/apps/sun-jcontrol.png  \n",
            "  inflating: Fiji.app/java/linux-amd64/jdk1.8.0_66/jre/lib/desktop/icons/HighContrastInverse/48x48/mimetypes/gnome-mime-application-x-java-jnlp-file.png  \n",
            "  inflating: Fiji.app/java/linux-amd64/jdk1.8.0_66/jre/lib/desktop/icons/HighContrastInverse/48x48/mimetypes/gnome-mime-text-x-java.png  \n",
            "  inflating: Fiji.app/java/linux-amd64/jdk1.8.0_66/jre/lib/desktop/icons/HighContrastInverse/48x48/mimetypes/gnome-mime-application-x-java-archive.png  \n",
            "  inflating: Fiji.app/java/linux-amd64/jdk1.8.0_66/jre/lib/desktop/icons/HighContrastInverse/48x48/apps/sun-java.png  \n",
            "  inflating: Fiji.app/java/linux-amd64/jdk1.8.0_66/jre/lib/desktop/icons/HighContrastInverse/48x48/apps/sun-javaws.png  \n",
            "  inflating: Fiji.app/java/linux-amd64/jdk1.8.0_66/jre/lib/desktop/icons/HighContrastInverse/48x48/apps/sun-jcontrol.png  \n",
            "  inflating: Fiji.app/java/linux-amd64/jdk1.8.0_66/jre/lib/desktop/icons/HighContrast/16x16/mimetypes/gnome-mime-application-x-java-jnlp-file.png  \n",
            "  inflating: Fiji.app/java/linux-amd64/jdk1.8.0_66/jre/lib/desktop/icons/HighContrast/16x16/mimetypes/gnome-mime-text-x-java.png  \n",
            "  inflating: Fiji.app/java/linux-amd64/jdk1.8.0_66/jre/lib/desktop/icons/HighContrast/16x16/mimetypes/gnome-mime-application-x-java-archive.png  \n",
            "  inflating: Fiji.app/java/linux-amd64/jdk1.8.0_66/jre/lib/desktop/icons/HighContrast/16x16/apps/sun-java.png  \n",
            "  inflating: Fiji.app/java/linux-amd64/jdk1.8.0_66/jre/lib/desktop/icons/HighContrast/16x16/apps/sun-javaws.png  \n",
            "  inflating: Fiji.app/java/linux-amd64/jdk1.8.0_66/jre/lib/desktop/icons/HighContrast/16x16/apps/sun-jcontrol.png  \n",
            "  inflating: Fiji.app/java/linux-amd64/jdk1.8.0_66/jre/lib/desktop/icons/HighContrast/48x48/mimetypes/gnome-mime-application-x-java-jnlp-file.png  \n",
            "  inflating: Fiji.app/java/linux-amd64/jdk1.8.0_66/jre/lib/desktop/icons/HighContrast/48x48/mimetypes/gnome-mime-text-x-java.png  \n",
            "  inflating: Fiji.app/java/linux-amd64/jdk1.8.0_66/jre/lib/desktop/icons/HighContrast/48x48/mimetypes/gnome-mime-application-x-java-archive.png  \n",
            "  inflating: Fiji.app/java/linux-amd64/jdk1.8.0_66/jre/lib/desktop/icons/HighContrast/48x48/apps/sun-java.png  \n",
            "  inflating: Fiji.app/java/linux-amd64/jdk1.8.0_66/jre/lib/desktop/icons/HighContrast/48x48/apps/sun-javaws.png  \n",
            "  inflating: Fiji.app/java/linux-amd64/jdk1.8.0_66/jre/lib/desktop/icons/HighContrast/48x48/apps/sun-jcontrol.png  \n",
            "  inflating: Fiji.app/java/linux-amd64/jdk1.8.0_66/jre/lib/amd64/liblcms.so  \n",
            "  inflating: Fiji.app/java/linux-amd64/jdk1.8.0_66/jre/lib/amd64/libjsoundalsa.so  \n",
            "  inflating: Fiji.app/java/linux-amd64/jdk1.8.0_66/jre/lib/amd64/libmlib_image.so  \n",
            "  inflating: Fiji.app/java/linux-amd64/jdk1.8.0_66/jre/lib/amd64/libawt_headless.so  \n",
            "  inflating: Fiji.app/java/linux-amd64/jdk1.8.0_66/jre/lib/amd64/libjava.so  \n",
            "  inflating: Fiji.app/java/linux-amd64/jdk1.8.0_66/jre/lib/amd64/libprism_es2.so  \n",
            "  inflating: Fiji.app/java/linux-amd64/jdk1.8.0_66/jre/lib/amd64/libzip.so  \n",
            "  inflating: Fiji.app/java/linux-amd64/jdk1.8.0_66/jre/lib/amd64/libnpt.so  \n",
            "  inflating: Fiji.app/java/linux-amd64/jdk1.8.0_66/jre/lib/amd64/libavplugin-54.so  \n",
            "  inflating: Fiji.app/java/linux-amd64/jdk1.8.0_66/jre/lib/amd64/libfxplugins.so  \n",
            "  inflating: Fiji.app/java/linux-amd64/jdk1.8.0_66/jre/lib/amd64/libdcpr.so  \n",
            "  inflating: Fiji.app/java/linux-amd64/jdk1.8.0_66/jre/lib/amd64/libbci.so  \n",
            "  inflating: Fiji.app/java/linux-amd64/jdk1.8.0_66/jre/lib/amd64/libjfxmedia.so  \n",
            "  inflating: Fiji.app/java/linux-amd64/jdk1.8.0_66/jre/lib/amd64/libprism_common.so  \n",
            "  inflating: Fiji.app/java/linux-amd64/jdk1.8.0_66/jre/lib/amd64/libjsdt.so  \n",
            "  inflating: Fiji.app/java/linux-amd64/jdk1.8.0_66/jre/lib/amd64/libjavafx_font.so  \n",
            "  inflating: Fiji.app/java/linux-amd64/jdk1.8.0_66/jre/lib/amd64/libjavafx_font_pango.so  \n",
            "  inflating: Fiji.app/java/linux-amd64/jdk1.8.0_66/jre/lib/amd64/libsunec.so  \n",
            "  inflating: Fiji.app/java/linux-amd64/jdk1.8.0_66/jre/lib/amd64/jvm.cfg  \n",
            "  inflating: Fiji.app/java/linux-amd64/jdk1.8.0_66/jre/lib/amd64/libresource.so  \n",
            "  inflating: Fiji.app/java/linux-amd64/jdk1.8.0_66/jre/lib/amd64/libdeploy.so  \n",
            "  inflating: Fiji.app/java/linux-amd64/jdk1.8.0_66/jre/lib/amd64/libhprof.so  \n",
            "  inflating: Fiji.app/java/linux-amd64/jdk1.8.0_66/jre/lib/amd64/libavplugin-53.so  \n",
            "  inflating: Fiji.app/java/linux-amd64/jdk1.8.0_66/jre/lib/amd64/libt2k.so  \n",
            "  inflating: Fiji.app/java/linux-amd64/jdk1.8.0_66/jre/lib/amd64/libjavafx_font_t2k.so  \n",
            "  inflating: Fiji.app/java/linux-amd64/jdk1.8.0_66/jre/lib/amd64/libkcms.so  \n",
            "  inflating: Fiji.app/java/linux-amd64/jdk1.8.0_66/jre/lib/amd64/libverify.so  \n",
            "  inflating: Fiji.app/java/linux-amd64/jdk1.8.0_66/jre/lib/amd64/libgstreamer-lite.so  \n",
            "  inflating: Fiji.app/java/linux-amd64/jdk1.8.0_66/jre/lib/amd64/libj2pkcs11.so  \n",
            "  inflating: Fiji.app/java/linux-amd64/jdk1.8.0_66/jre/lib/amd64/libglass.so  \n",
            "  inflating: Fiji.app/java/linux-amd64/jdk1.8.0_66/jre/lib/amd64/libprism_sw.so  \n",
            "  inflating: Fiji.app/java/linux-amd64/jdk1.8.0_66/jre/lib/amd64/libdt_socket.so  \n",
            "  inflating: Fiji.app/java/linux-amd64/jdk1.8.0_66/jre/lib/amd64/server/Xusage.txt  \n",
            "  inflating: Fiji.app/java/linux-amd64/jdk1.8.0_66/jre/lib/amd64/server/libjvm.so  \n",
            "  inflating: Fiji.app/java/linux-amd64/jdk1.8.0_66/jre/lib/amd64/server/libjsig.so  \n",
            "  inflating: Fiji.app/java/linux-amd64/jdk1.8.0_66/jre/lib/amd64/libunpack.so  \n",
            "  inflating: Fiji.app/java/linux-amd64/jdk1.8.0_66/jre/lib/amd64/libjavafx_font_freetype.so  \n",
            "  inflating: Fiji.app/java/linux-amd64/jdk1.8.0_66/jre/lib/amd64/libjawt.so  \n",
            "  inflating: Fiji.app/java/linux-amd64/jdk1.8.0_66/jre/lib/amd64/libjava_crw_demo.so  \n",
            "  inflating: Fiji.app/java/linux-amd64/jdk1.8.0_66/jre/lib/amd64/libjsound.so  \n",
            "  inflating: Fiji.app/java/linux-amd64/jdk1.8.0_66/jre/lib/amd64/libsctp.so  \n",
            "  inflating: Fiji.app/java/linux-amd64/jdk1.8.0_66/jre/lib/amd64/libjsig.so  \n",
            "  inflating: Fiji.app/java/linux-amd64/jdk1.8.0_66/jre/lib/amd64/libawt.so  \n",
            "  inflating: Fiji.app/java/linux-amd64/jdk1.8.0_66/jre/lib/amd64/libdecora_sse.so  \n",
            "  inflating: Fiji.app/java/linux-amd64/jdk1.8.0_66/jre/lib/amd64/libjdwp.so  \n",
            "  inflating: Fiji.app/java/linux-amd64/jdk1.8.0_66/jre/lib/amd64/libfontmanager.so  \n",
            "  inflating: Fiji.app/java/linux-amd64/jdk1.8.0_66/jre/lib/amd64/libnpjp2.so  \n",
            "  inflating: Fiji.app/java/linux-amd64/jdk1.8.0_66/jre/lib/amd64/libjpeg.so  \n",
            "  inflating: Fiji.app/java/linux-amd64/jdk1.8.0_66/jre/lib/amd64/libnio.so  \n",
            "  inflating: Fiji.app/java/linux-amd64/jdk1.8.0_66/jre/lib/amd64/libmanagement.so  \n",
            "  inflating: Fiji.app/java/linux-amd64/jdk1.8.0_66/jre/lib/amd64/libnet.so  \n",
            "  inflating: Fiji.app/java/linux-amd64/jdk1.8.0_66/jre/lib/amd64/libjaas_unix.so  \n",
            "  inflating: Fiji.app/java/linux-amd64/jdk1.8.0_66/jre/lib/amd64/libjfxwebkit.so  \n",
            "  inflating: Fiji.app/java/linux-amd64/jdk1.8.0_66/jre/lib/amd64/libj2pcsc.so  \n",
            "  inflating: Fiji.app/java/linux-amd64/jdk1.8.0_66/jre/lib/amd64/libinstrument.so  \n",
            "  inflating: Fiji.app/java/linux-amd64/jdk1.8.0_66/jre/lib/amd64/libsplashscreen.so  \n",
            "  inflating: Fiji.app/java/linux-amd64/jdk1.8.0_66/jre/lib/amd64/jli/libjli.so  \n",
            "  inflating: Fiji.app/java/linux-amd64/jdk1.8.0_66/jre/lib/amd64/libjavafx_iio.so  \n",
            "  inflating: Fiji.app/java/linux-amd64/jdk1.8.0_66/jre/lib/amd64/libj2gss.so  \n",
            "  inflating: Fiji.app/java/linux-amd64/jdk1.8.0_66/jre/lib/amd64/libjfr.so  \n",
            "  inflating: Fiji.app/java/linux-amd64/jdk1.8.0_66/jre/lib/amd64/libawt_xawt.so  \n",
            "  inflating: Fiji.app/java/linux-amd64/jdk1.8.0_66/jre/lib/flavormap.properties  \n",
            "  inflating: Fiji.app/java/linux-amd64/jdk1.8.0_66/jre/lib/calendars.properties  \n",
            "  inflating: Fiji.app/java/linux-amd64/jdk1.8.0_66/jre/lib/fontconfig.Turbo.properties.src  \n",
            "  inflating: Fiji.app/java/linux-amd64/jdk1.8.0_66/jre/lib/management-agent.jar  \n",
            "  inflating: Fiji.app/java/linux-amd64/jdk1.8.0_66/jre/lib/locale/ja/LC_MESSAGES/sunw_java_plugin.mo  \n",
            "  inflating: Fiji.app/java/linux-amd64/jdk1.8.0_66/jre/lib/locale/ko.UTF-8/LC_MESSAGES/sunw_java_plugin.mo  \n",
            "  inflating: Fiji.app/java/linux-amd64/jdk1.8.0_66/jre/lib/locale/de/LC_MESSAGES/sunw_java_plugin.mo  \n",
            "  inflating: Fiji.app/java/linux-amd64/jdk1.8.0_66/jre/lib/locale/sv/LC_MESSAGES/sunw_java_plugin.mo  \n",
            "  inflating: Fiji.app/java/linux-amd64/jdk1.8.0_66/jre/lib/locale/zh_TW.BIG5/LC_MESSAGES/sunw_java_plugin.mo  \n",
            "  inflating: Fiji.app/java/linux-amd64/jdk1.8.0_66/jre/lib/locale/zh.GBK/LC_MESSAGES/sunw_java_plugin.mo  \n",
            "  inflating: Fiji.app/java/linux-amd64/jdk1.8.0_66/jre/lib/locale/fr/LC_MESSAGES/sunw_java_plugin.mo  \n",
            "  inflating: Fiji.app/java/linux-amd64/jdk1.8.0_66/jre/lib/locale/it/LC_MESSAGES/sunw_java_plugin.mo  \n",
            "  inflating: Fiji.app/java/linux-amd64/jdk1.8.0_66/jre/lib/locale/zh_HK.BIG5HK/LC_MESSAGES/sunw_java_plugin.mo  \n",
            "  inflating: Fiji.app/java/linux-amd64/jdk1.8.0_66/jre/lib/locale/es/LC_MESSAGES/sunw_java_plugin.mo  \n",
            "  inflating: Fiji.app/java/linux-amd64/jdk1.8.0_66/jre/lib/locale/zh/LC_MESSAGES/sunw_java_plugin.mo  \n",
            "  inflating: Fiji.app/java/linux-amd64/jdk1.8.0_66/jre/lib/locale/ko/LC_MESSAGES/sunw_java_plugin.mo  \n",
            "  inflating: Fiji.app/java/linux-amd64/jdk1.8.0_66/jre/lib/locale/zh_TW/LC_MESSAGES/sunw_java_plugin.mo  \n",
            "  inflating: Fiji.app/java/linux-amd64/jdk1.8.0_66/jre/lib/locale/pt_BR/LC_MESSAGES/sunw_java_plugin.mo  \n",
            "  inflating: Fiji.app/java/linux-amd64/jdk1.8.0_66/jre/lib/currency.data  \n",
            "  inflating: Fiji.app/java/linux-amd64/jdk1.8.0_66/jre/lib/fontconfig.properties.src  \n",
            "  inflating: Fiji.app/java/linux-amd64/jdk1.8.0_66/jre/lib/jce.jar  \n",
            "  inflating: Fiji.app/java/linux-amd64/jdk1.8.0_66/jre/lib/rt.jar  \n",
            "  inflating: Fiji.app/java/linux-amd64/jdk1.8.0_66/jre/lib/psfontj2d.properties  \n",
            "  inflating: Fiji.app/java/linux-amd64/jdk1.8.0_66/jre/lib/content-types.properties  \n",
            "  inflating: Fiji.app/java/linux-amd64/jdk1.8.0_66/jre/lib/jfr.jar  \n",
            "  inflating: Fiji.app/java/linux-amd64/jdk1.8.0_66/jre/lib/javaws.jar  \n",
            "  inflating: Fiji.app/java/linux-amd64/jdk1.8.0_66/jre/lib/jfxswt.jar  \n"
          ],
          "name": "stdout"
        }
      ]
    },
    {
      "cell_type": "code",
      "metadata": {
        "id": "GZbVnixSd1YB"
      },
      "source": [
        "#!pip install SimpleITK"
      ],
      "execution_count": null,
      "outputs": []
    },
    {
      "cell_type": "code",
      "metadata": {
        "id": "e9DKfO74lHGd"
      },
      "source": [
        "#!git clone https://github.com/InsightSoftwareConsortium/SimpleITK-Notebooks.git"
      ],
      "execution_count": null,
      "outputs": []
    },
    {
      "cell_type": "code",
      "metadata": {
        "colab": {
          "base_uri": "https://localhost:8080/"
        },
        "id": "orkwOiFIeBmV",
        "outputId": "8edd06de-dfeb-4d52-dc6d-8bde2bf7cdf2"
      },
      "source": [
        "pip install ipywidgets"
      ],
      "execution_count": null,
      "outputs": [
        {
          "output_type": "stream",
          "text": [
            "Requirement already satisfied: ipywidgets in ./lib/python3.7/dist-packages (7.6.3)\n",
            "Requirement already satisfied: ipykernel>=4.5.1 in ./lib/python3.7/dist-packages (from ipywidgets) (4.10.1)\n",
            "Requirement already satisfied: widgetsnbextension~=3.5.0 in ./lib/python3.7/dist-packages (from ipywidgets) (3.5.1)\n",
            "Requirement already satisfied: nbformat>=4.2.0 in ./lib/python3.7/dist-packages (from ipywidgets) (5.1.2)\n",
            "Requirement already satisfied: traitlets>=4.3.1 in ./lib/python3.7/dist-packages (from ipywidgets) (5.0.5)\n",
            "Requirement already satisfied: ipython>=4.0.0; python_version >= \"3.3\" in ./lib/python3.7/dist-packages (from ipywidgets) (5.5.0)\n",
            "Requirement already satisfied: jupyterlab-widgets>=1.0.0; python_version >= \"3.6\" in ./lib/python3.7/dist-packages (from ipywidgets) (1.0.0)\n",
            "Requirement already satisfied: tornado>=4.0 in ./lib/python3.7/dist-packages (from ipykernel>=4.5.1->ipywidgets) (5.1.1)\n",
            "Requirement already satisfied: jupyter-client in ./lib/python3.7/dist-packages (from ipykernel>=4.5.1->ipywidgets) (5.3.5)\n",
            "Requirement already satisfied: notebook>=4.4.1 in ./lib/python3.7/dist-packages (from widgetsnbextension~=3.5.0->ipywidgets) (5.3.1)\n",
            "Requirement already satisfied: jupyter-core in ./lib/python3.7/dist-packages (from nbformat>=4.2.0->ipywidgets) (4.7.1)\n",
            "Requirement already satisfied: ipython-genutils in ./lib/python3.7/dist-packages (from nbformat>=4.2.0->ipywidgets) (0.2.0)\n",
            "Requirement already satisfied: jsonschema!=2.5.0,>=2.4 in ./lib/python3.7/dist-packages (from nbformat>=4.2.0->ipywidgets) (2.6.0)\n",
            "Requirement already satisfied: setuptools>=18.5 in ./lib/python3.7/dist-packages (from ipython>=4.0.0; python_version >= \"3.3\"->ipywidgets) (53.0.0)\n",
            "Requirement already satisfied: pexpect; sys_platform != \"win32\" in ./lib/python3.7/dist-packages (from ipython>=4.0.0; python_version >= \"3.3\"->ipywidgets) (4.8.0)\n",
            "Requirement already satisfied: prompt-toolkit<2.0.0,>=1.0.4 in ./lib/python3.7/dist-packages (from ipython>=4.0.0; python_version >= \"3.3\"->ipywidgets) (1.0.18)\n",
            "Requirement already satisfied: decorator in ./lib/python3.7/dist-packages (from ipython>=4.0.0; python_version >= \"3.3\"->ipywidgets) (4.4.2)\n",
            "Requirement already satisfied: pickleshare in ./lib/python3.7/dist-packages (from ipython>=4.0.0; python_version >= \"3.3\"->ipywidgets) (0.7.5)\n",
            "Requirement already satisfied: simplegeneric>0.8 in ./lib/python3.7/dist-packages (from ipython>=4.0.0; python_version >= \"3.3\"->ipywidgets) (0.8.1)\n",
            "Requirement already satisfied: pygments in ./lib/python3.7/dist-packages (from ipython>=4.0.0; python_version >= \"3.3\"->ipywidgets) (2.6.1)\n",
            "Requirement already satisfied: python-dateutil>=2.1 in ./lib/python3.7/dist-packages (from jupyter-client->ipykernel>=4.5.1->ipywidgets) (2.8.1)\n",
            "Requirement already satisfied: pyzmq>=13 in ./lib/python3.7/dist-packages (from jupyter-client->ipykernel>=4.5.1->ipywidgets) (22.0.3)\n",
            "Requirement already satisfied: terminado>=0.8.1 in ./lib/python3.7/dist-packages (from notebook>=4.4.1->widgetsnbextension~=3.5.0->ipywidgets) (0.9.2)\n",
            "Requirement already satisfied: nbconvert in ./lib/python3.7/dist-packages (from notebook>=4.4.1->widgetsnbextension~=3.5.0->ipywidgets) (5.6.1)\n",
            "Requirement already satisfied: jinja2 in ./lib/python3.7/dist-packages (from notebook>=4.4.1->widgetsnbextension~=3.5.0->ipywidgets) (2.11.3)\n",
            "Requirement already satisfied: Send2Trash in ./lib/python3.7/dist-packages (from notebook>=4.4.1->widgetsnbextension~=3.5.0->ipywidgets) (1.5.0)\n",
            "Requirement already satisfied: ptyprocess>=0.5 in ./lib/python3.7/dist-packages (from pexpect; sys_platform != \"win32\"->ipython>=4.0.0; python_version >= \"3.3\"->ipywidgets) (0.7.0)\n",
            "Requirement already satisfied: wcwidth in ./lib/python3.7/dist-packages (from prompt-toolkit<2.0.0,>=1.0.4->ipython>=4.0.0; python_version >= \"3.3\"->ipywidgets) (0.2.5)\n",
            "Requirement already satisfied: six>=1.9.0 in ./lib/python3.7/dist-packages (from prompt-toolkit<2.0.0,>=1.0.4->ipython>=4.0.0; python_version >= \"3.3\"->ipywidgets) (1.15.0)\n",
            "Requirement already satisfied: testpath in ./lib/python3.7/dist-packages (from nbconvert->notebook>=4.4.1->widgetsnbextension~=3.5.0->ipywidgets) (0.4.4)\n",
            "Requirement already satisfied: pandocfilters>=1.4.1 in ./lib/python3.7/dist-packages (from nbconvert->notebook>=4.4.1->widgetsnbextension~=3.5.0->ipywidgets) (1.4.3)\n",
            "Requirement already satisfied: mistune<2,>=0.8.1 in ./lib/python3.7/dist-packages (from nbconvert->notebook>=4.4.1->widgetsnbextension~=3.5.0->ipywidgets) (0.8.4)\n",
            "Requirement already satisfied: bleach in ./lib/python3.7/dist-packages (from nbconvert->notebook>=4.4.1->widgetsnbextension~=3.5.0->ipywidgets) (3.3.0)\n",
            "Requirement already satisfied: entrypoints>=0.2.2 in ./lib/python3.7/dist-packages (from nbconvert->notebook>=4.4.1->widgetsnbextension~=3.5.0->ipywidgets) (0.3)\n",
            "Requirement already satisfied: defusedxml in ./lib/python3.7/dist-packages (from nbconvert->notebook>=4.4.1->widgetsnbextension~=3.5.0->ipywidgets) (0.6.0)\n",
            "Requirement already satisfied: MarkupSafe>=0.23 in ./lib/python3.7/dist-packages (from jinja2->notebook>=4.4.1->widgetsnbextension~=3.5.0->ipywidgets) (1.1.1)\n",
            "Requirement already satisfied: packaging in ./lib/python3.7/dist-packages (from bleach->nbconvert->notebook>=4.4.1->widgetsnbextension~=3.5.0->ipywidgets) (20.9)\n",
            "Requirement already satisfied: webencodings in ./lib/python3.7/dist-packages (from bleach->nbconvert->notebook>=4.4.1->widgetsnbextension~=3.5.0->ipywidgets) (0.5.1)\n",
            "Requirement already satisfied: pyparsing>=2.0.2 in ./lib/python3.7/dist-packages (from packaging->bleach->nbconvert->notebook>=4.4.1->widgetsnbextension~=3.5.0->ipywidgets) (2.4.7)\n"
          ],
          "name": "stdout"
        }
      ]
    },
    {
      "cell_type": "code",
      "metadata": {
        "colab": {
          "base_uri": "https://localhost:8080/",
          "height": 84,
          "referenced_widgets": [
            "074d73809576403db74386239a93a9cb",
            "d3e189f5506142a9b75eb97ec649127f",
            "92c6b7cfbce3410aad82511748e3fdf7",
            "1e286cc2efa34a739c66fc09d370bfc4",
            "dab9ee0a65a143c69b8a809f5b119812",
            "9cb47e8fa76f433999a61e3143614a0d",
            "8ef2d79cd18841bd8df1aa05b8456f18"
          ]
        },
        "id": "RgF36aN8eE2J",
        "outputId": "7a543862-6410-4f93-8e62-627c1f91dc23"
      },
      "source": [
        "# this will allow the notebook to reload/refresh automatically within the runtime\r\n",
        "%reload_ext autoreload\r\n",
        "%autoreload 2\r\n",
        "\r\n",
        "from ipywidgets import interact\r\n",
        "\r\n",
        "def f(x):\r\n",
        "  return x\r\n",
        "\r\n",
        "interact(f, x=10)"
      ],
      "execution_count": null,
      "outputs": [
        {
          "output_type": "display_data",
          "data": {
            "application/vnd.jupyter.widget-view+json": {
              "model_id": "074d73809576403db74386239a93a9cb",
              "version_minor": 0,
              "version_major": 2
            },
            "text/plain": [
              "interactive(children=(IntSlider(value=10, description='x', max=30, min=-10), Output()), _dom_classes=('widget-…"
            ]
          },
          "metadata": {
            "tags": []
          }
        },
        {
          "output_type": "execute_result",
          "data": {
            "text/plain": [
              "<function __main__.f>"
            ]
          },
          "metadata": {
            "tags": []
          },
          "execution_count": 24
        }
      ]
    },
    {
      "cell_type": "code",
      "metadata": {
        "id": "zEO9gF3wttp_"
      },
      "source": [
        "#pip install itk"
      ],
      "execution_count": null,
      "outputs": []
    },
    {
      "cell_type": "code",
      "metadata": {
        "colab": {
          "base_uri": "https://localhost:8080/"
        },
        "id": "HaFNVhdxrzBz",
        "outputId": "08a1d3de-d2c5-4656-c397-0bd11780a1be"
      },
      "source": [
        "cd '/gdrive/MyDrive/SimpleITK-Notebooks/Python/'"
      ],
      "execution_count": null,
      "outputs": [
        {
          "output_type": "stream",
          "text": [
            "/gdrive/MyDrive/SimpleITK-Notebooks/Python\n"
          ],
          "name": "stdout"
        }
      ]
    },
    {
      "cell_type": "code",
      "metadata": {
        "id": "7CZ95Naer7zA"
      },
      "source": [
        "!python '/gdrive/MyDrive/SimpleITK-Notebooks/Python/update_path_to_download_script.py'"
      ],
      "execution_count": null,
      "outputs": []
    },
    {
      "cell_type": "code",
      "metadata": {
        "colab": {
          "base_uri": "https://localhost:8080/"
        },
        "id": "6uxmcL-rthqA",
        "outputId": "0adf1f32-e045-4c55-a3a7-388943e240f3"
      },
      "source": [
        "import os\r\n",
        "os.environ['PYTHONPATH'] += \":/content/gdrive/My Drive/Fiji.app\"\r\n",
        "! echo $PYTHONPATH\r\n",
        "os.environ['PATH'] += \":/content/gdrive/My Drive/Fiji.app\"\r\n",
        "! echo $PATH"
      ],
      "execution_count": null,
      "outputs": [
        {
          "output_type": "stream",
          "text": [
            "/env/python:/content/gdrive/My Drive/Fiji.app\n",
            "/usr/local/nvidia/bin:/usr/local/cuda/bin:/usr/local/sbin:/usr/local/bin:/usr/sbin:/usr/bin:/sbin:/bin:/tools/node/bin:/tools/google-cloud-sdk/bin:/opt/bin:/content/gdrive/My Drive/Fiji.app:/content/gdrive/My Drive/Fiji.app\n"
          ],
          "name": "stdout"
        }
      ]
    },
    {
      "cell_type": "code",
      "metadata": {
        "id": "1SwkFZlBqJfP"
      },
      "source": [
        "import numpy as np\r\n",
        "import os\r\n",
        "from ipywidgets import interact, fixed\r\n",
        "\r\n",
        "%matplotlib inline\r\n",
        "import matplotlib.pyplot as plt\r\n",
        "\r\n",
        "from downloaddata import fetch_data as fdata\r\n",
        "\r\n",
        "OUTPUT_DIR = 'output'\r\n",
        "\r\n",
        "image_viewer = sitk.ImageViewer()"
      ],
      "execution_count": null,
      "outputs": []
    },
    {
      "cell_type": "code",
      "metadata": {
        "colab": {
          "base_uri": "https://localhost:8080/"
        },
        "id": "nCJGlMFdqOFE",
        "outputId": "e005f46d-1d3e-4c06-9f68-8c92facc90a0"
      },
      "source": [
        "print(image_viewer)"
      ],
      "execution_count": null,
      "outputs": [
        {
          "output_type": "stream",
          "text": [
            "itk::simple::ImageViewer\n",
            "  Title: \n",
            "  Command: %a -eval 'open(\"%f\"); rename(\"%t\");'\n",
            "  Application: /usr/local/Fiji.app/ImageJ-linux64\n",
            "  Default Application: /usr/local/Fiji.app/ImageJ-linux64\n",
            "  File Extension: .mha\n",
            "  Default File Extension: .mha\n",
            "  Search Path: [ ./, /root/bin/, /opt/, /usr/local/ ]\n",
            "  Executable Names: [ Fiji.app/ImageJ-linux64, Fiji.app/ImageJ-linux32 ]\n",
            "  Debug Flag: 0\n",
            "\n"
          ],
          "name": "stdout"
        }
      ]
    },
    {
      "cell_type": "code",
      "metadata": {
        "colab": {
          "base_uri": "https://localhost:8080/"
        },
        "id": "7_SNqv-kwyrU",
        "outputId": "fdc5e965-bf07-467d-baa2-a5b424d2c10c"
      },
      "source": [
        "%ls /usr/local/Fiji.app/ImageJ-linux64"
      ],
      "execution_count": null,
      "outputs": [
        {
          "output_type": "stream",
          "text": [
            "\u001b[0m\u001b[01;32m/usr/local/Fiji.app/ImageJ-linux64\u001b[0m*\n"
          ],
          "name": "stdout"
        }
      ]
    },
    {
      "cell_type": "code",
      "metadata": {
        "id": "qeyk9_cUf9d3"
      },
      "source": [
        "#!python '/gdrive/MyDrive/SimpleITK-Notebooks/Python/update_path_to_download_script.py'"
      ],
      "execution_count": null,
      "outputs": []
    },
    {
      "cell_type": "code",
      "metadata": {
        "colab": {
          "base_uri": "https://localhost:8080/"
        },
        "id": "w2GNa--GgkUZ",
        "outputId": "912d7c3e-c0a9-452b-bbac-4e4f53c678e7"
      },
      "source": [
        "cd '/gdrive/MyDrive/SimpleITK-Notebooks/Python/'"
      ],
      "execution_count": null,
      "outputs": [
        {
          "output_type": "stream",
          "text": [
            "/gdrive/MyDrive/SimpleITK-Notebooks/Python\n"
          ],
          "name": "stdout"
        }
      ]
    },
    {
      "cell_type": "code",
      "metadata": {
        "colab": {
          "base_uri": "https://localhost:8080/"
        },
        "id": "z15LpuD9fh-u",
        "outputId": "ee4619f7-c56f-4156-d5ac-b6a9d60b3d4b"
      },
      "source": [
        "import SimpleITK as sitk\r\n",
        "\r\n",
        "%run update_path_to_download_script\r\n",
        "from downloaddata import fetch_data, fetch_data_all\r\n",
        "\r\n",
        "from ipywidgets import interact\r\n",
        "\r\n",
        "print(sitk.Version())"
      ],
      "execution_count": null,
      "outputs": [
        {
          "output_type": "stream",
          "text": [
            "SimpleITK Version: 2.0.2 (ITK 5.1)\n",
            "Compiled: Dec  1 2020 22:01:03\n",
            "\n"
          ],
          "name": "stdout"
        }
      ]
    },
    {
      "cell_type": "code",
      "metadata": {
        "colab": {
          "base_uri": "https://localhost:8080/"
        },
        "id": "Sjh10OyWhXG4",
        "outputId": "397a243f-5812-4f42-8fdd-017e29c7281f"
      },
      "source": [
        "%cd '/gdrive/MyDrive/'\r\n",
        "%ls"
      ],
      "execution_count": null,
      "outputs": [
        {
          "output_type": "stream",
          "text": [
            "/gdrive/MyDrive\n",
            "\u001b[0m\u001b[01;34m'Colab Notebooks'\u001b[0m/                      \u001b[01;34mSimpleITK_ISBI2020_TUTORIAL\u001b[0m/\n",
            " \u001b[01;34mFiji.app\u001b[0m/                              SimpleITK.jpg\n",
            " fiji-linux64-20170530.zip              \u001b[01;34mSimpleITK-Notebooks\u001b[0m/\n",
            " \u001b[01;34mMyNiftyRec\u001b[0m/                            unnamed.png\n",
            " \u001b[01;34mMyTomoLab\u001b[0m/                            'Untitled project.gscript'\n",
            " pyjnius-1.2.0-py37h90b5fae_0.tar.bz2\n"
          ],
          "name": "stdout"
        }
      ]
    },
    {
      "cell_type": "code",
      "metadata": {
        "colab": {
          "base_uri": "https://localhost:8080/"
        },
        "id": "KujzqAVJB6UC",
        "outputId": "51ebb9ff-7176-4b0c-efaf-c51bdd1f3d8f"
      },
      "source": [
        "cd /usr/local/"
      ],
      "execution_count": null,
      "outputs": [
        {
          "output_type": "stream",
          "text": [
            "/usr/local\n"
          ],
          "name": "stdout"
        }
      ]
    },
    {
      "cell_type": "code",
      "metadata": {
        "id": "SS2wEpSedN3z"
      },
      "source": [
        "#image_viewer.SetApplication('/usr/local/Fiji.app/ImageJ-linux64')"
      ],
      "execution_count": null,
      "outputs": []
    },
    {
      "cell_type": "code",
      "metadata": {
        "id": "CaJMiV5cdKIn"
      },
      "source": [
        "# Uncomment the line below to change the default external viewer to your viewer of choice and test that it works.\r\n",
        "#%env SITK_SHOW_COMMAND /Applications/ITK-SNAP.app/Contents/MacOS/ITK-SNAP \r\n",
        "#%env SITK_SHOW_COMMAND  /gdrive/MyDrive/Fiji.app/ImageJ-linux64\r\n",
        "#%env SITK_SHOW_COMMAND  /usr/local/Fiji.app/\r\n",
        "#%env SITK_SHOW_COMMAND  /usr/local/Fiji.app/ImageJ-linux64\r\n",
        "\r\n",
        "# Retrieve an image from the network, read it and display using the external viewer. \r\n",
        "# The show method will also set the display window's title and by setting debugOn to True, \r\n",
        "# will also print information with respect to the command it is attempting to invoke.\r\n",
        "# NOTE: The debug information is printed to the terminal from which you launched the notebook\r\n",
        "#       server."
      ],
      "execution_count": null,
      "outputs": []
    },
    {
      "cell_type": "code",
      "metadata": {
        "colab": {
          "base_uri": "https://localhost:8080/"
        },
        "id": "SM1qty46eS1p",
        "outputId": "89b46a05-39eb-4a7d-cae9-dde6fc3d4179"
      },
      "source": [
        "%ls /gdrive/MyDrive/"
      ],
      "execution_count": null,
      "outputs": [
        {
          "output_type": "stream",
          "text": [
            "\u001b[0m\u001b[01;34m'Colab Notebooks'\u001b[0m/                      \u001b[01;34mSimpleITK_ISBI2020_TUTORIAL\u001b[0m/\n",
            " \u001b[01;34mFiji.app\u001b[0m/                              SimpleITK.jpg\n",
            " fiji-linux64-20170530.zip              \u001b[01;34mSimpleITK-Notebooks\u001b[0m/\n",
            " \u001b[01;34mMyNiftyRec\u001b[0m/                            unnamed.png\n",
            " \u001b[01;34mMyTomoLab\u001b[0m/                            'Untitled project.gscript'\n",
            " pyjnius-1.2.0-py37h90b5fae_0.tar.bz2\n"
          ],
          "name": "stdout"
        }
      ]
    },
    {
      "cell_type": "code",
      "metadata": {
        "colab": {
          "base_uri": "https://localhost:8080/"
        },
        "id": "h1gzSmoPxmPQ",
        "outputId": "3fe6b9b4-9528-4a62-c2f1-e4e1e30e8a4f"
      },
      "source": [
        "%cd /gdrive/MyDrive/SimpleITK_ISBI2020_TUTORIAL"
      ],
      "execution_count": null,
      "outputs": [
        {
          "output_type": "stream",
          "text": [
            "/gdrive/MyDrive/SimpleITK_ISBI2020_TUTORIAL\n"
          ],
          "name": "stdout"
        }
      ]
    },
    {
      "cell_type": "code",
      "metadata": {
        "colab": {
          "base_uri": "https://localhost:8080/"
        },
        "id": "JntpnOgOFwep",
        "outputId": "face02e3-0990-4eab-d12a-75a129568744"
      },
      "source": [
        "print(image_viewer)"
      ],
      "execution_count": null,
      "outputs": [
        {
          "output_type": "stream",
          "text": [
            "itk::simple::ImageViewer\n",
            "  Title: \n",
            "  Command: %a -eval 'open(\"%f\"); rename(\"%t\");'\n",
            "  Application: /usr/local/Fiji.app/ImageJ-linux64\n",
            "  Default Application: /usr/local/Fiji.app/ImageJ-linux64\n",
            "  File Extension: .mha\n",
            "  Default File Extension: .mha\n",
            "  Search Path: [ ./, /root/bin/, /opt/, /usr/local/ ]\n",
            "  Executable Names: [ Fiji.app/ImageJ-linux64, Fiji.app/ImageJ-linux32 ]\n",
            "  Debug Flag: 0\n",
            "\n"
          ],
          "name": "stdout"
        }
      ]
    },
    {
      "cell_type": "code",
      "metadata": {
        "id": "o9zBdnykCbus"
      },
      "source": [
        "#import SimpleITK as sitk\n",
        "\n",
        "#%matplotlib inline\n",
        "#import matplotlib.pyplot as plt\n",
        "#import numpy as np\n",
        "\n",
        "#from ipywidgets import interact, fixed\n",
        "#import os\n",
        "\n",
        "#OUTPUT_DIR = 'Output'\n",
        "\n",
        "# Utility method that either downloads data from the Girder repository or\n",
        "# if already downloaded returns the file name for reading from disk (cached data).\n",
        "#%run update_path_to_download_script\n",
        "#from downloaddata import fetch_data as fdata"
      ],
      "execution_count": null,
      "outputs": []
    },
    {
      "cell_type": "markdown",
      "metadata": {
        "id": "6Y5ZucBgc1EO"
      },
      "source": [
        "## Image Creation\n",
        "\n",
        "The following components are required for a complete definition of an image:\n",
        "<ol>\n",
        "<li>Pixel type [fixed on creation, no default]: unsigned 32 bit integer, sitkVectorUInt8, etc., see list above.</li>\n",
        "<li> Sizes [fixed on creation, no default]: number of pixels/voxels in each dimension. This quantity implicitly defines the image dimension.</li>\n",
        "<li> Origin [default is zero]: coordinates of the pixel/voxel with index (0,0,0) in physical units (i.e. mm).</li>\n",
        "<li> Spacing [default is one]: Distance between adjacent pixels/voxels in each dimension given in physical units.</li>\n",
        "<li> Direction matrix [default is identity]: mapping, rotation, between direction of the pixel/voxel axes and physical directions.</li>\n",
        "</ol>\n",
        "\n",
        "Initial pixel/voxel values are set to zero."
      ]
    },
    {
      "cell_type": "code",
      "metadata": {
        "id": "_FAP-KE2I48N"
      },
      "source": [
        "grid_image = sitk.GridSource(outputPixelType=sitk.sitkUInt16, size=(512,512),\r\n",
        "                             sigma=(0.1,0.1), gridSpacing=(20.0,20.0))"
      ],
      "execution_count": null,
      "outputs": []
    },
    {
      "cell_type": "code",
      "metadata": {
        "id": "7hxdu7zKJGEy"
      },
      "source": [
        "sitk.Show(grid_image, debugOn=True)"
      ],
      "execution_count": null,
      "outputs": []
    },
    {
      "cell_type": "markdown",
      "metadata": {
        "id": "zbTQZOBECbut"
      },
      "source": [
        "## Load your first image and display it"
      ]
    },
    {
      "cell_type": "code",
      "metadata": {
        "colab": {
          "base_uri": "https://localhost:8080/",
          "height": 138
        },
        "id": "7hy1WQGsCbut",
        "outputId": "2ede2764-c73f-4bd6-c841-9a81c8bb70bb"
      },
      "source": [
        "logo = sitk.ReadImage(fdata('SimpleITK.jpg'))\n",
        "\n",
        "plt.imshow(sitk.GetArrayViewFromImage(logo))\n",
        "plt.axis('off');"
      ],
      "execution_count": null,
      "outputs": [
        {
          "output_type": "stream",
          "text": [
            "Fetching SimpleITK.jpg\n"
          ],
          "name": "stdout"
        },
        {
          "output_type": "display_data",
          "data": {
            "image/png": "[encoded data removed]",
            "text/plain": [
              "<Figure size 432x288 with 1 Axes>"
            ]
          },
          "metadata": {
            "tags": [],
            "needs_background": "light"
          }
        }
      ]
    },
    {
      "cell_type": "markdown",
      "metadata": {
        "id": "yWCSqzb1Cbuu"
      },
      "source": [
        "## Image Construction\n",
        "\n",
        "There are a variety of ways to create an image. \n",
        "\n",
        "The following components are required for a complete definition of an image:\n",
        "<ol>\n",
        "<li>Pixel type [fixed on creation, no default]: unsigned 32 bit integer, sitkVectorUInt8, etc., see list above.</li>\n",
        "<li> Sizes [fixed on creation, no default]: number of pixels/voxels in each dimension. This quantity implicitly defines the image dimension.</li>\n",
        "<li> Origin [default is zero]: coordinates of the pixel/voxel with index (0,0,0) in physical units (i.e. mm).</li>\n",
        "<li> Spacing [default is one]: Distance between adjacent pixels/voxels in each dimension given in physical units.</li>\n",
        "<li> Direction matrix [default is identity]: mapping, rotation, between direction of the pixel/voxel axes and physical directions.</li>\n",
        "</ol>\n",
        "\n",
        "Initial pixel/voxel values are set to zero."
      ]
    },
    {
      "cell_type": "code",
      "metadata": {
        "id": "hZPok6ZrCbuu"
      },
      "source": [
        "image_3D = sitk.Image(256, 128, 64, sitk.sitkInt16)\n",
        "image_2D = sitk.Image(64, 64, sitk.sitkFloat32)\n",
        "image_2D = sitk.Image([32,32], sitk.sitkUInt32)\n",
        "image_RGB = sitk.Image([128,64], sitk.sitkVectorUInt8, 3)"
      ],
      "execution_count": null,
      "outputs": []
    },
    {
      "cell_type": "markdown",
      "metadata": {
        "id": "T_YVV9GwCbuv"
      },
      "source": [
        "## Basic Image Attributes\n",
        "\n",
        "You can change the image origin, spacing and direction. Making such changes to an image already containing data should be done cautiously. "
      ]
    },
    {
      "cell_type": "code",
      "metadata": {
        "colab": {
          "base_uri": "https://localhost:8080/"
        },
        "id": "6K9QtMurCbuv",
        "outputId": "2dcf09a2-a497-4ada-b0d0-3109b9e49161"
      },
      "source": [
        "image_3D.SetOrigin((78.0, 76.0, 77.0))\n",
        "image_3D.SetSpacing([0.5,0.5,3.0])\n",
        "\n",
        "print(image_3D.GetOrigin())\n",
        "print(image_3D.GetSize())\n",
        "print(image_3D.GetSpacing())\n",
        "print(image_3D.GetDirection())"
      ],
      "execution_count": null,
      "outputs": [
        {
          "output_type": "stream",
          "text": [
            "(78.0, 76.0, 77.0)\n",
            "(256, 128, 64)\n",
            "(0.5, 0.5, 3.0)\n",
            "(1.0, 0.0, 0.0, 0.0, 1.0, 0.0, 0.0, 0.0, 1.0)\n"
          ],
          "name": "stdout"
        }
      ]
    },
    {
      "cell_type": "markdown",
      "metadata": {
        "id": "G098i9vLCbuv"
      },
      "source": [
        "Image dimension queries:"
      ]
    },
    {
      "cell_type": "code",
      "metadata": {
        "colab": {
          "base_uri": "https://localhost:8080/"
        },
        "id": "2VJtfdEaCbuw",
        "outputId": "2ee6241b-817e-418f-e91c-6b011a824980"
      },
      "source": [
        "print(image_3D.GetDimension())\n",
        "print(image_3D.GetWidth())\n",
        "print(image_3D.GetHeight())\n",
        "print(image_3D.GetDepth())"
      ],
      "execution_count": null,
      "outputs": [
        {
          "output_type": "stream",
          "text": [
            "3\n",
            "256\n",
            "128\n",
            "64\n"
          ],
          "name": "stdout"
        }
      ]
    },
    {
      "cell_type": "markdown",
      "metadata": {
        "id": "9XmL9c1uCbuw"
      },
      "source": [
        "What is the depth of a 2D image?"
      ]
    },
    {
      "cell_type": "code",
      "metadata": {
        "colab": {
          "base_uri": "https://localhost:8080/"
        },
        "id": "ZxWZpF6eCbuw",
        "outputId": "b1728948-2625-485e-a275-a03098c20728"
      },
      "source": [
        "print(image_2D.GetSize())\n",
        "print(image_2D.GetDepth())"
      ],
      "execution_count": null,
      "outputs": [
        {
          "output_type": "stream",
          "text": [
            "(32, 32)\n",
            "0\n"
          ],
          "name": "stdout"
        }
      ]
    },
    {
      "cell_type": "markdown",
      "metadata": {
        "id": "eK_WW_cTCbuw"
      },
      "source": [
        "Pixel/voxel type queries: "
      ]
    },
    {
      "cell_type": "code",
      "metadata": {
        "colab": {
          "base_uri": "https://localhost:8080/"
        },
        "id": "fKoQkCBcCbux",
        "outputId": "4b0e45d8-5984-4b3f-9844-ac8c5d862168"
      },
      "source": [
        "print(image_3D.GetPixelIDValue())\n",
        "print(image_3D.GetPixelIDTypeAsString())\n",
        "print(image_3D.GetNumberOfComponentsPerPixel())"
      ],
      "execution_count": null,
      "outputs": [
        {
          "output_type": "stream",
          "text": [
            "2\n",
            "16-bit signed integer\n",
            "1\n"
          ],
          "name": "stdout"
        }
      ]
    },
    {
      "cell_type": "markdown",
      "metadata": {
        "id": "mL4HdDTfCbux"
      },
      "source": [
        "What is the dimension and size of a Vector image and its data?"
      ]
    },
    {
      "cell_type": "code",
      "metadata": {
        "colab": {
          "base_uri": "https://localhost:8080/"
        },
        "id": "qLNSsA-mCbux",
        "outputId": "dd6bdffb-2ec3-418e-c76f-42edb5a3db99"
      },
      "source": [
        "print(image_RGB.GetDimension())\n",
        "print(image_RGB.GetSize())\n",
        "print(image_RGB.GetNumberOfComponentsPerPixel())"
      ],
      "execution_count": null,
      "outputs": [
        {
          "output_type": "stream",
          "text": [
            "2\n",
            "(128, 64)\n",
            "3\n"
          ],
          "name": "stdout"
        }
      ]
    },
    {
      "cell_type": "markdown",
      "metadata": {
        "id": "JUjrHQGNCbux"
      },
      "source": [
        "## Accessing Pixels and Slicing\n",
        "\n",
        "The Image class's member functions ``GetPixel`` and ``SetPixel`` provide an ITK-like interface for pixel access."
      ]
    },
    {
      "cell_type": "code",
      "metadata": {
        "colab": {
          "base_uri": "https://localhost:8080/"
        },
        "id": "v1JJ7BamCbux",
        "outputId": "d231fb1a-2211-4cc5-dfee-c64c33b34243"
      },
      "source": [
        "help(image_3D.GetPixel)"
      ],
      "execution_count": null,
      "outputs": [
        {
          "output_type": "stream",
          "text": [
            "Help on method GetPixel in module SimpleITK.SimpleITK:\n",
            "\n",
            "GetPixel(*idx) method of SimpleITK.SimpleITK.Image instance\n",
            "    Returns the value of a pixel.\n",
            "    \n",
            "    This method takes 2 parameters in 2D: the x and y index,\n",
            "    and 3 parameters in 3D: the x, y and z index.\n",
            "\n"
          ],
          "name": "stdout"
        }
      ]
    },
    {
      "cell_type": "code",
      "metadata": {
        "colab": {
          "base_uri": "https://localhost:8080/"
        },
        "id": "2Ml_jfhuCbux",
        "outputId": "13a1c115-5db6-4a99-d15e-d41c0bf67a02"
      },
      "source": [
        "print(image_3D.GetPixel(0, 0, 0))\n",
        "image_3D.SetPixel(0, 0, 0, 1)\n",
        "print(image_3D.GetPixel(0, 0, 0))\n",
        "\n",
        "# This can also be done using Pythonic notation.\n",
        "print(image_3D[0,0,1])\n",
        "image_3D[0,0,1] = 2\n",
        "print(image_3D[0,0,1])"
      ],
      "execution_count": null,
      "outputs": [
        {
          "output_type": "stream",
          "text": [
            "0\n",
            "1\n",
            "0\n",
            "2\n"
          ],
          "name": "stdout"
        }
      ]
    },
    {
      "cell_type": "markdown",
      "metadata": {
        "id": "QDXWqTs1Cbuy"
      },
      "source": [
        "Slicing of SimpleITK images returns a copy of the image data. \n",
        "\n",
        "This is similar to slicing Python lists and differs from the \"view\" returned by slicing numpy arrays. "
      ]
    },
    {
      "cell_type": "code",
      "metadata": {
        "colab": {
          "base_uri": "https://localhost:8080/",
          "height": 248
        },
        "id": "6y49Kh7NCbuy",
        "outputId": "94550c7a-16f5-47f1-9d5c-a58ff1cf496e"
      },
      "source": [
        "# Brute force sub-sampling \n",
        "logo_subsampled = logo[::2,::2]\n",
        "\n",
        "# Get the sub-image containing the word Simple\n",
        "simple = logo[0:115,:]\n",
        "\n",
        "# Get the sub-image containing the word Simple and flip it\n",
        "simple_flipped = logo[115:0:-1,:]\n",
        "\n",
        "n = 4\n",
        "\n",
        "plt.subplot(n,1,1)\n",
        "plt.imshow(sitk.GetArrayViewFromImage(logo))\n",
        "plt.axis('off');\n",
        "\n",
        "plt.subplot(n,1,2)\n",
        "plt.imshow(sitk.GetArrayViewFromImage(logo_subsampled))\n",
        "plt.axis('off');\n",
        "\n",
        "plt.subplot(n,1,3)\n",
        "plt.imshow(sitk.GetArrayViewFromImage(simple))\n",
        "plt.axis('off')\n",
        "\n",
        "plt.subplot(n,1,4)\n",
        "plt.imshow(sitk.GetArrayViewFromImage(simple_flipped))\n",
        "plt.axis('off');"
      ],
      "execution_count": null,
      "outputs": [
        {
          "output_type": "display_data",
          "data": {
            "image/png": "[encoded data removed]",
            "text/plain": [
              "<Figure size 432x288 with 4 Axes>"
            ]
          },
          "metadata": {
            "tags": [],
            "needs_background": "light"
          }
        }
      ]
    },
    {
      "cell_type": "markdown",
      "metadata": {
        "id": "zFLlZFMoCbuy"
      },
      "source": [
        "Draw a square on top of the logo image:\n",
        "After running this cell, uncomment \"Version 3\" and see its effect."
      ]
    },
    {
      "cell_type": "code",
      "metadata": {
        "colab": {
          "base_uri": "https://localhost:8080/",
          "height": 238
        },
        "id": "RVbwaGeGCbuy",
        "outputId": "da6a419d-82ce-4227-f8ec-892d55108a95"
      },
      "source": [
        "# Version 0: get the numpy array and assign the value via broadcast - later on you will need to construct \n",
        "# a new image from the array \n",
        "logo_pixels = sitk.GetArrayFromImage(logo)\n",
        "logo_pixels[0:10,0:10] = [0,255,0]\n",
        "\n",
        "# Version 1: generates an error, the image slicing returns a new image and you cannot assign a value to an image \n",
        "#logo[0:10,0:10] = [255,0,0]\n",
        "\n",
        "# Version 2: image slicing returns a new image, so all assignments here will not have any effect on the original\n",
        "# 'logo' image\n",
        "logo_subimage = logo[0:10, 0:10]\n",
        "for x in range(0,10):\n",
        "    for y in range(0,10):\n",
        "        logo_subimage[x,y] = [255,0,0]\n",
        "\n",
        "# Version 3: modify the original image, iterate and assign a value to each pixel\n",
        "#for x in range(0,10):\n",
        "#    for y in range(0,10):\n",
        "#        logo[x,y] = [255,0,0]\n",
        "\n",
        "        \n",
        "plt.subplot(2,1,1)\n",
        "plt.imshow(sitk.GetArrayViewFromImage(logo))\n",
        "plt.axis('off')\n",
        "\n",
        "plt.subplot(2,1,2)\n",
        "plt.imshow(logo_pixels)\n",
        "plt.axis('off');"
      ],
      "execution_count": null,
      "outputs": [
        {
          "output_type": "display_data",
          "data": {
            "image/png": "[encoded data removed]",
            "text/plain": [
              "<Figure size 432x288 with 2 Axes>"
            ]
          },
          "metadata": {
            "tags": [],
            "needs_background": "light"
          }
        }
      ]
    },
    {
      "cell_type": "markdown",
      "metadata": {
        "id": "EHX83oNTCbuy"
      },
      "source": [
        "We can also paste one image into the other, either using the [PasteImageFilter](https://simpleitk.org/doxygen/latest/html/classitk_1_1simple_1_1PasteImageFilter.html) with its procedural interface or using a more Pythonic approach with image slicing. Note that for these operations SimpleITK treats the images as arrays of pixels and not as spatial objects. In the example below the fact that the images have different spacings is ignored."
      ]
    },
    {
      "cell_type": "code",
      "metadata": {
        "simpleitk_error_allowed": "Exception thrown in SimpleITK Show:",
        "colab": {
          "base_uri": "https://localhost:8080/"
        },
        "id": "4ipxGUMjCbuz",
        "outputId": "4ecb076b-8240-4e77-c58e-cc0f3af8de8b"
      },
      "source": [
        "logo = sitk.ReadImage(fdata('SimpleITK.jpg'))\n",
        "\n",
        "sz_x = 10\n",
        "sz_y = 10\n",
        "color_channels = [sitk.Image([sz_x,sz_y], sitk.sitkUInt8),\n",
        "                  sitk.Image([sz_x,sz_y], sitk.sitkUInt8)+255,\n",
        "                  sitk.Image([sz_x,sz_y], sitk.sitkUInt8)]\n",
        "color_image = sitk.Compose(color_channels)\n",
        "color_image.SetSpacing([0.5,0.5])\n",
        "\n",
        "print(logo.GetSpacing())\n",
        "print(color_image.GetSpacing())\n",
        "\n",
        "#Set sub image using the Paste function\n",
        "logo = sitk.Paste(destinationImage=logo, \n",
        "                 sourceImage=color_image,\n",
        "                 sourceSize=color_image.GetSize(),\n",
        "                 sourceIndex=[0,0],\n",
        "                 destinationIndex=[0,0])\n",
        "#Set sub image using slicing.\n",
        "logo[20:20+sz_x, 20:20+sz_y] = color_image\n",
        "\n",
        "sitk.Show(logo)"
      ],
      "execution_count": null,
      "outputs": [
        {
          "output_type": "stream",
          "text": [
            "Fetching SimpleITK.jpg\n",
            "(1.0, 1.0)\n",
            "(0.5, 0.5)\n"
          ],
          "name": "stdout"
        }
      ]
    },
    {
      "cell_type": "markdown",
      "metadata": {
        "id": "M6pPKpYjCbuz"
      },
      "source": [
        "## Conversion between numpy and SimpleITK\n",
        "\n",
        "SimpleITK and numpy indexing access is in opposite order! \n",
        "\n",
        "SimpleITK: image[x,y,z]<br>\n",
        "numpy: image_numpy_array[z,y,x]"
      ]
    },
    {
      "cell_type": "markdown",
      "metadata": {
        "id": "3Bv8TQWFCbu0"
      },
      "source": [
        "### From SimpleITK to numpy\n",
        "\n",
        "We have two options for converting from SimpleITK to numpy:\n",
        "* GetArrayFromImage(): returns a copy of the image data. You can then freely modify the data as it has no effect on the original SimpleITK image.\n",
        "* GetArrayViewFromImage(): returns a view on the image data which is useful for display in a memory efficient manner. You cannot modify the data and __the view will be invalid if the original SimpleITK image is deleted__."
      ]
    },
    {
      "cell_type": "code",
      "metadata": {
        "id": "UmQPffv6Cbu0",
        "colab": {
          "base_uri": "https://localhost:8080/"
        },
        "outputId": "151bbdce-0b09-4ec8-8d51-558edfcc6c68"
      },
      "source": [
        "nda = sitk.GetArrayFromImage(image_3D)\n",
        "print(image_3D.GetSize())\n",
        "print(nda.shape)\n",
        "\n",
        "nda = sitk.GetArrayFromImage(image_RGB)\n",
        "print(image_RGB.GetSize())\n",
        "print(nda.shape)"
      ],
      "execution_count": null,
      "outputs": [
        {
          "output_type": "stream",
          "text": [
            "(256, 128, 64)\n",
            "(64, 128, 256)\n",
            "(128, 64)\n",
            "(64, 128, 3)\n"
          ],
          "name": "stdout"
        }
      ]
    },
    {
      "cell_type": "code",
      "metadata": {
        "simpleitk_error_expected": "assignment destination is read-only",
        "id": "ZkFCvmrhCbu0",
        "colab": {
          "base_uri": "https://localhost:8080/",
          "height": 434
        },
        "outputId": "897f9c0b-c8ea-45be-d97a-aa061a652f8d"
      },
      "source": [
        "gabor_image = sitk.GaborSource(size=[64,64], frequency=.03)\n",
        "# Getting a numpy array view on the image data doesn't copy the data\n",
        "nda_view = sitk.GetArrayViewFromImage(gabor_image)\n",
        "plt.imshow(nda_view, cmap=plt.cm.Greys_r)\n",
        "plt.axis('off');\n",
        "\n",
        "# Trying to assign a value to the array view will throw an exception\n",
        "nda_view[0,0] = 255"
      ],
      "execution_count": null,
      "outputs": [
        {
          "output_type": "error",
          "ename": "ValueError",
          "evalue": "ignored",
          "traceback": [
            "\u001b[0;31m---------------------------------------------------------------------------\u001b[0m",
            "\u001b[0;31mValueError\u001b[0m                                Traceback (most recent call last)",
            "\u001b[0;32m<ipython-input-58-580ee9e64a3c>\u001b[0m in \u001b[0;36m<module>\u001b[0;34m()\u001b[0m\n\u001b[1;32m      6\u001b[0m \u001b[0;34m\u001b[0m\u001b[0m\n\u001b[1;32m      7\u001b[0m \u001b[0;31m# Trying to assign a value to the array view will throw an exception\u001b[0m\u001b[0;34m\u001b[0m\u001b[0;34m\u001b[0m\u001b[0;34m\u001b[0m\u001b[0m\n\u001b[0;32m----> 8\u001b[0;31m \u001b[0mnda_view\u001b[0m\u001b[0;34m[\u001b[0m\u001b[0;36m0\u001b[0m\u001b[0;34m,\u001b[0m\u001b[0;36m0\u001b[0m\u001b[0;34m]\u001b[0m \u001b[0;34m=\u001b[0m \u001b[0;36m255\u001b[0m\u001b[0;34m\u001b[0m\u001b[0;34m\u001b[0m\u001b[0m\n\u001b[0m",
            "\u001b[0;31mValueError\u001b[0m: assignment destination is read-only"
          ]
        },
        {
          "output_type": "display_data",
          "data": {
            "image/png": "[encoded data removed]",
            "text/plain": [
              "<Figure size 432x288 with 1 Axes>"
            ]
          },
          "metadata": {
            "tags": [],
            "needs_background": "light"
          }
        }
      ]
    },
    {
      "cell_type": "markdown",
      "metadata": {
        "id": "ncKvPZlOCbu0"
      },
      "source": [
        "### From numpy to SimpleITK\n",
        "\n",
        "Remember to to set the image's origin, spacing, and possibly direction cosine matrix. The default values may not match the physical dimensions of your image."
      ]
    },
    {
      "cell_type": "code",
      "metadata": {
        "id": "8lJ8vPHBCbu0"
      },
      "source": [
        "nda = np.zeros((10,20,3))\n",
        "\n",
        "        #if this is supposed to be a 3D gray scale image [x=3, y=20, z=10]\n",
        "img = sitk.GetImageFromArray(nda)\n",
        "print(img.GetSize())\n",
        "\n",
        "      #if this is supposed to be a 2D color image [x=20,y=10]\n",
        "img = sitk.GetImageFromArray(nda, isVector=True)\n",
        "print(img.GetSize())"
      ],
      "execution_count": null,
      "outputs": []
    },
    {
      "cell_type": "markdown",
      "metadata": {
        "id": "uHGewpC2Cbu1"
      },
      "source": [
        "### There and back again\n",
        "\n",
        "The following code cell illustrates a situation where your code is a combination of SimpleITK methods and custom Python code which works with intensity values or labels outside of SimpleITK. This is a reasonable approach when you implement an algorithm in Python and don't care about the physical spacing of things (you are actually assuming the volume is isotropic). "
      ]
    },
    {
      "cell_type": "code",
      "metadata": {
        "id": "7wFnaBt_Cbu1"
      },
      "source": [
        "def my_algorithm(image_as_numpy_array):\n",
        "    # res is the image result of your algorithm, has the same grid size as the original image\n",
        "    res = image_as_numpy_array\n",
        "    return res\n",
        "\n",
        "# Starting with SimpleITK\n",
        "img = sitk.ReadImage(fdata('training_001_mr_T1.mha'))\n",
        "\n",
        "# Custom Python code working on a numpy array.\n",
        "npa_res = my_algorithm(sitk.GetArrayFromImage(img))\n",
        "\n",
        "# Converting back to SimpleITK (assumes we didn't move the image in space as we copy the information from the original)\n",
        "res_img = sitk.GetImageFromArray(npa_res)\n",
        "res_img.CopyInformation(img)\n",
        "\n",
        "# Continuing to work with SimpleITK images\n",
        "res_img - img"
      ],
      "execution_count": null,
      "outputs": []
    },
    {
      "cell_type": "markdown",
      "metadata": {
        "id": "ymSkr-z_Cbu1"
      },
      "source": [
        "### Image operations\n",
        "\n",
        "SimpleITK supports basic arithmetic operations between images, <b>taking into account their physical space</b>.\n",
        "\n",
        "Repeatedly run this cell. Fix the error (comment out the SetDirection, then SetSpacing). Why doesn't the SetOrigin line cause a problem? How close do two physical attributes need to be in order to be considered equivalent?"
      ]
    },
    {
      "cell_type": "code",
      "metadata": {
        "simpleitk_error_expected": "Inputs do not occupy the same physical space!",
        "id": "e5j7YROVCbu2"
      },
      "source": [
        "img1 = sitk.Image(24,24, sitk.sitkUInt8)\n",
        "img1[0,0] = 0\n",
        "\n",
        "img2 = sitk.Image(img1.GetSize(), sitk.sitkUInt8)\n",
        "img2.SetDirection([0,1,0.5,0.5])\n",
        "img2.SetSpacing([0.5,0.8])\n",
        "img2.SetOrigin([0.000001,0.000001])\n",
        "img2[0,0] = 255\n",
        "\n",
        "img3 = img1 + img2\n",
        "print(img3[0,0])"
      ],
      "execution_count": null,
      "outputs": []
    },
    {
      "cell_type": "markdown",
      "metadata": {
        "id": "v5xYUnf9Cbu2"
      },
      "source": [
        "## Reading and Writing\n",
        "\n",
        "SimpleITK can read and write images stored in a single file, or a set of files (e.g. DICOM series).\n",
        "\n",
        "Images stored in the DICOM format have a meta-data dictionary associated with them, which is populated with the DICOM tags. When a DICOM series is read as a single image, the meta-data information is not available since DICOM tags are specific to each file. If you need the meta-data, you have three options:\n",
        "\n",
        "1. Using the object oriented interface's [ImageSeriesReader](https://simpleitk.org/doxygen/latest/html/classitk_1_1simple_1_1ImageSeriesReader.html) class, configure it to load the tags using the `MetaDataDictionaryArrayUpdateOn` method and possibly the `LoadPrivateTagsOn` method if you need the private tags. Once the series is read you can access the meta-data from the series reader using the `GetMetaDataKeys`, `HasMetaDataKey`, and `GetMetaData`.\n",
        "\n",
        "2. Using the object oriented interface's [ImageFileReader](https://simpleitk.org/doxygen/latest/html/classitk_1_1simple_1_1ImageFileReader.html), set a specific slice's file name and only read it's meta-data using the `ReadImageInformation` method which only reads the meta-data but not the bulk pixel information. Once the meta-data is read you can access it from the file reader using the `GetMetaDataKeys`, `HasMetaDataKey`, and `GetMetaData`.\n",
        "\n",
        "3. Using the object oriented interface's [ImageFileReader](https://simpleitk.org/doxygen/latest/html/classitk_1_1simple_1_1ImageFileReader.html), set a specific slice's file name and read it. Or using the procedural interface's, [ReadImage](https://simpleitk.org/doxygen/latest/html/namespaceitk_1_1simple.html#ae3b678b5b043c5a8c93aa616d5ee574c) function, read a specific file. You can then access the meta-data directly from the [Image](https://simpleitk.org/doxygen/latest/html/classitk_1_1simple_1_1Image.html) using the `GetMetaDataKeys`, `HasMetaDataKey`, and `GetMetaData`."
      ]
    },
    {
      "cell_type": "markdown",
      "metadata": {
        "id": "yEL3hXMfCbu2"
      },
      "source": [
        "In the following cell, we read an image in JPEG format, and write it as PNG and BMP. File formats are deduced from the file extension. Appropriate pixel type is also set - you can override this and force a pixel type of your choice."
      ]
    },
    {
      "cell_type": "code",
      "metadata": {
        "id": "O_CMk0TXCbu2"
      },
      "source": [
        "img = sitk.ReadImage(fdata('SimpleITK.jpg'))\n",
        "print(img.GetPixelIDTypeAsString())\n",
        "\n",
        "# write as PNG and BMP\n",
        "sitk.WriteImage(img, os.path.join(OUTPUT_DIR, 'SimpleITK.png'))\n",
        "sitk.WriteImage(img, os.path.join(OUTPUT_DIR, 'SimpleITK.bmp'))"
      ],
      "execution_count": null,
      "outputs": []
    },
    {
      "cell_type": "markdown",
      "metadata": {
        "id": "HCN9lOZ0Cbu2"
      },
      "source": [
        "Read an image in JPEG format and cast the pixel type according to user selection."
      ]
    },
    {
      "cell_type": "code",
      "metadata": {
        "simpleitk_error_allowed": "Image RGB array must be uint8 or floating point; found uint16",
        "id": "kVbXIWh5Cbu3"
      },
      "source": [
        "# Several pixel types, some make sense in this case (vector types) and some are just show\n",
        "# that the user's choice will force the pixel type even when it doesn't make sense\n",
        "# (e.g. sitkVectorUInt16 or sitkUInt8).\n",
        "pixel_types = { 'sitkUInt8': sitk.sitkUInt8,\n",
        "                'sitkUInt16' : sitk.sitkUInt16,\n",
        "                'sitkFloat64' : sitk.sitkFloat64,\n",
        "                'sitkVectorUInt8' : sitk.sitkVectorUInt8,\n",
        "                'sitkVectorUInt16' : sitk.sitkVectorUInt16,\n",
        "                'sitkVectorFloat64' : sitk.sitkVectorFloat64}\n",
        "\n",
        "def pixel_type_dropdown_callback(pixel_type, pixel_types_dict):\n",
        "    #specify the file location and the pixel type we want\n",
        "    img = sitk.ReadImage(fdata('SimpleITK.jpg'), pixel_types_dict[pixel_type])\n",
        "    \n",
        "    print(img.GetPixelIDTypeAsString())\n",
        "    print(img[0,0])\n",
        "    plt.imshow(sitk.GetArrayViewFromImage(img))\n",
        "    plt.axis('off')\n",
        " \n",
        "interact(pixel_type_dropdown_callback, pixel_type=list(pixel_types.keys()), pixel_types_dict=fixed(pixel_types));     "
      ],
      "execution_count": null,
      "outputs": []
    },
    {
      "cell_type": "markdown",
      "metadata": {
        "id": "mAbUqVpYCbu3"
      },
      "source": [
        "Read a DICOM series and write it as a single mha file"
      ]
    },
    {
      "cell_type": "code",
      "metadata": {
        "id": "U1tT8XLnCbu3"
      },
      "source": [
        "data_directory = os.path.dirname(fdata(\"CIRS057A_MR_CT_DICOM/readme.txt\"))\n",
        "series_ID = '1.2.840.113619.2.290.3.3233817346.783.1399004564.515'\n",
        "\n",
        "# Get the list of files belonging to a specific series ID.\n",
        "reader = sitk.ImageSeriesReader()\n",
        "# Use the functional interface to read the image series.\n",
        "original_image = sitk.ReadImage(reader.GetGDCMSeriesFileNames(data_directory, series_ID))\n",
        "\n",
        "# Write the image.\n",
        "output_file_name_3D = os.path.join(OUTPUT_DIR, '3DImage.mha')\n",
        "sitk.WriteImage(original_image, output_file_name_3D)\n",
        "\n",
        "# Read it back again.\n",
        "written_image = sitk.ReadImage(output_file_name_3D)\n",
        "\n",
        "# Check that the original and written image are the same.\n",
        "statistics_image_filter = sitk.StatisticsImageFilter()\n",
        "statistics_image_filter.Execute(original_image - written_image)\n",
        "\n",
        "# Check that the original and written files are the same\n",
        "print(f'Max, Min differences are : {statistics_image_filter.GetMaximum()}, {statistics_image_filter.GetMinimum()}')"
      ],
      "execution_count": null,
      "outputs": []
    },
    {
      "cell_type": "markdown",
      "metadata": {
        "id": "pWdLpv8YCbu3"
      },
      "source": [
        "Write an image series as JPEG. The WriteImage function receives a volume and a list of images names and writes the volume according to the z axis. For a displayable result we need to rescale the image intensities (default is [0,255]) since the JPEG format requires a cast to the UInt8 pixel type."
      ]
    },
    {
      "cell_type": "code",
      "metadata": {
        "id": "CvFpvciuCbu3"
      },
      "source": [
        "sitk.WriteImage(sitk.Cast(sitk.RescaleIntensity(written_image), sitk.sitkUInt8), \n",
        "                [os.path.join(OUTPUT_DIR, f'slice{i:03d}.jpg') for i in range(written_image.GetSize()[2])]) "
      ],
      "execution_count": null,
      "outputs": []
    },
    {
      "cell_type": "markdown",
      "metadata": {
        "id": "9jF6T7-UCbu4"
      },
      "source": [
        "Select a specific DICOM series from a directory and only then load user selection."
      ]
    },
    {
      "cell_type": "code",
      "metadata": {
        "id": "jWraxHMJCbu4"
      },
      "source": [
        "data_directory = os.path.dirname(fdata(\"CIRS057A_MR_CT_DICOM/readme.txt\"))\n",
        "# Global variable 'selected_series' is updated by the interact function\n",
        "selected_series = ''\n",
        "file_reader = sitk.ImageFileReader()\n",
        "def DICOM_series_dropdown_callback(series_to_load, series_dictionary):\n",
        "    global selected_series\n",
        "               # Print some information about the series from the meta-data dictionary\n",
        "               # DICOM standard part 6, Data Dictionary: http://medical.nema.org/medical/dicom/current/output/pdf/part06.pdf\n",
        "    file_reader.SetFileName(series_dictionary[series_to_load][0])\n",
        "    file_reader.ReadImageInformation()\n",
        "    tags_to_print = {'0010|0010': 'Patient name: ', \n",
        "                     '0008|0060' : 'Modality: ',\n",
        "                     '0008|0021' : 'Series date: ',\n",
        "                     '0008|0080' : 'Institution name: ',\n",
        "                     '0008|1050' : 'Performing physician\\'s name: '}\n",
        "    for tag in tags_to_print:\n",
        "        try:\n",
        "            print(tags_to_print[tag] + file_reader.GetMetaData(tag))\n",
        "        except: # Ignore if the tag isn't in the dictionary\n",
        "            pass\n",
        "    selected_series = series_to_load                    \n",
        "\n",
        "# Directory contains multiple DICOM studies/series, store\n",
        "             # in dictionary with key being the series ID\n",
        "reader = sitk.ImageSeriesReader()\n",
        "series_file_names = {}\n",
        "series_IDs = reader.GetGDCMSeriesIDs(data_directory)\n",
        "            # Check that we have at least one series\n",
        "if series_IDs:\n",
        "    for series in series_IDs:\n",
        "        series_file_names[series] = reader.GetGDCMSeriesFileNames(data_directory, series)\n",
        "    \n",
        "    interact(DICOM_series_dropdown_callback, series_to_load=list(series_IDs), series_dictionary=fixed(series_file_names)); \n",
        "else:\n",
        "    print('Data directory does not contain any DICOM series.')"
      ],
      "execution_count": null,
      "outputs": []
    },
    {
      "cell_type": "code",
      "metadata": {
        "id": "v92ntBw2Cbu4"
      },
      "source": [
        "reader.SetFileNames(series_file_names[selected_series])\n",
        "img = reader.Execute()\n",
        "# Display the image slice from the middle of the stack, z axis\n",
        "z = int(img.GetDepth()/2)\n",
        "plt.imshow(sitk.GetArrayViewFromImage(img)[z,:,:], cmap=plt.cm.Greys_r)\n",
        "plt.axis('off');"
      ],
      "execution_count": null,
      "outputs": []
    },
    {
      "cell_type": "markdown",
      "metadata": {
        "id": "XO5iQDbFCbu4"
      },
      "source": [
        "### DICOM photometric interpretation \n",
        "\n",
        "Generally speaking, SimpleITK represents color images as multi-channel images independent of a [color space](https://en.wikipedia.org/wiki/Color_space). It is up to you to interpret the channels correctly based on additional color space knowledge prior to using them for display or any other purpose.\n",
        "\n",
        "The following cells illustrate reading and interpretation of interesting images in DICOM format. The first is a photograph of an X-ray on a light box (yes, there are some strange things in the wild). The second is a digital X-ray. While both of these are chest X-rays they differ in image modality (0008|0060) and in Photometric Interpretation (0028|0004), color space in DICOM speak.\n",
        "\n",
        "Things to note:\n",
        "1. When using SimpleITK to read a color DICOM image, the channel values will be transformed to the RGB color space.\n",
        "2. When using SimpleITK to read a scalar image, it is assumed that the lowest intensity value is black and highest white. If the photometric interpretation tag is MONOCHROME2 (lowest value displayed as black) nothing is done. If it is MONOCHROME1 (lowest value displayed as white), the pixel values are inverted."
      ]
    },
    {
      "cell_type": "code",
      "metadata": {
        "simpleitk_error_allowed": "Exception thrown in SimpleITK Show:",
        "id": "1kGfXQ21Cbu5"
      },
      "source": [
        "xrays = [sitk.ReadImage(fdata('photo.dcm')),\n",
        "         sitk.ReadImage(fdata('cxr.dcm'))]\n",
        "for img in xrays:\n",
        "    print(f'Image Modality: {img.GetMetaData(\"0008|0060\")}')\n",
        "    print(f'Number of channels: {img.GetNumberOfComponentsPerPixel()}')\n",
        "    print(f'Photomertic Interpretation: {img.GetMetaData(\"0028|0004\")}')\n",
        "    # Display the image using Fiji which expects the channels to be in the RGB color space\n",
        "    sitk.Show(img)"
      ],
      "execution_count": null,
      "outputs": []
    },
    {
      "cell_type": "markdown",
      "metadata": {
        "id": "3G9erPolCbu5"
      },
      "source": [
        "The first, is a color sRGB image while an x-ray should be a single channel gray scale image. We will [convert sRGB to gray scale](https://en.wikipedia.org/wiki/Grayscale#Converting_color_to_grayscale)."
      ]
    },
    {
      "cell_type": "code",
      "metadata": {
        "simpleitk_error_allowed": "Exception thrown in SimpleITK Show:",
        "id": "4fwqXqIcCbu5"
      },
      "source": [
        "def srgb2gray(image):\n",
        "    # Convert sRGB image to gray scale and rescale results to [0,255]    \n",
        "    channels = [sitk.VectorIndexSelectionCast(image,i, sitk.sitkFloat32) for i in range(image.GetNumberOfComponentsPerPixel())]\n",
        "    #linear mapping\n",
        "    I = 1/255.0*(0.2126*channels[0] + 0.7152*channels[1] + 0.0722*channels[2])\n",
        "    #nonlinear gamma correction\n",
        "    I = I*sitk.Cast(I<=0.0031308,sitk.sitkFloat32)*12.92 + I**(1/2.4)*sitk.Cast(I>0.0031308,sitk.sitkFloat32)*1.055-0.055\n",
        "    return sitk.Cast(sitk.RescaleIntensity(I), sitk.sitkUInt8)\n",
        "\n",
        "sitk.Show(srgb2gray(xrays[0]))"
      ],
      "execution_count": null,
      "outputs": []
    },
    {
      "cell_type": "markdown",
      "metadata": {
        "id": "VqfYcbx9Cbu6"
      },
      "source": [
        "### Finer control\n",
        "\n",
        "The ImageFileReader's interface provides finer control for reading, allowing us to require the use of a specific IO and allowing us to stream parts of an image to memory without reading the whole image (supported by a subset of the ImageIO components).\n",
        "\n",
        "#### Selecting a Specific Image IO\n",
        "SimpleITK relies on the registered ImageIOs to indicate whether they can read a file and then perform the reading. This is done automatically, going over the set of ImageIOs and inquiring whether they can read the given file. The first one that can is selected. If multiple ImageIOs can read a specific format, we do not know which one was used for the task (e.g. TIFFImageIO and LSMImageIO, which is derived from it, can both read tif files). In some cases you may want to use a specific IO, possibly one that reads the file faster, or supports a more complete feature set associated with the file format.\n",
        "\n",
        "The next cell shows how to find out which ImageIOs are registered and specify the one we want."
      ]
    },
    {
      "cell_type": "code",
      "metadata": {
        "id": "jPkxFSuTCbu6"
      },
      "source": [
        "file_reader = sitk.ImageFileReader()\n",
        "\n",
        "# Get a tuple listing all registered ImageIOs\n",
        "image_ios_tuple = file_reader.GetRegisteredImageIOs()\n",
        "print(\"The supported image IOs are: \" + str(image_ios_tuple))\n",
        "\n",
        "# Optionally, just print the reader and see which ImageIOs are registered\n",
        "print('\\n',file_reader)\n",
        "\n",
        "# Specify the JPEGImageIO and read file\n",
        "file_reader.SetImageIO('JPEGImageIO')\n",
        "file_reader.SetFileName(fdata('SimpleITK.jpg'))\n",
        "logo = file_reader.Execute()\n",
        "\n",
        "# Unfortunately, now reading a non JPEG image will fail\n",
        "try:\n",
        "    file_reader.SetFileName(fdata('cthead1.png'))\n",
        "    ct_head = file_reader.Execute()\n",
        "except RuntimeError:\n",
        "    print('Got a RuntimeError exception.')\n",
        "    \n",
        "# We can reset the file reader to its default behaviour so that it automatically \n",
        "# selects the ImageIO\n",
        "file_reader.SetImageIO('')\n",
        "ct_head = file_reader.Execute()"
      ],
      "execution_count": null,
      "outputs": []
    },
    {
      "cell_type": "markdown",
      "metadata": {
        "id": "o-LK88FTCbu6"
      },
      "source": [
        "#### Streaming Image IO\n",
        "\n",
        "Some of the ImageIOs supported in SimpleITK allow you to stream in sub-regions of an image without the need to read the whole image into memory. This is very useful when you are memory constrained (either your images are large or your memory is limited). \n",
        "\n",
        "The ImageIOs that support streaming include HDF5ImageIO, VTKImageIO, NiftiImageIO, MetaImageIO...\n",
        "\n",
        "The next cell shows how to read in a sub/cropped image from a larger image. We read the central 1/3 portion of the image [1/3,2/3] of the original image."
      ]
    },
    {
      "cell_type": "code",
      "metadata": {
        "simpleitk_error_allowed": "Exception thrown in SimpleITK Show:",
        "id": "8INz3RZuCbu6"
      },
      "source": [
        "file_reader = sitk.ImageFileReader()\n",
        "file_reader.SetFileName(fdata('vm_head_rgb.mha'))\n",
        "\n",
        "file_reader.ReadImageInformation()\n",
        "image_size = file_reader.GetSize()\n",
        "start_index, extract_size = zip(*[(int(1.0/3.0*sz), int(1.0/3.0*sz)) for sz in file_reader.GetSize()])\n",
        "\n",
        "file_reader.SetExtractIndex(start_index)\n",
        "file_reader.SetExtractSize(extract_size)\n",
        "\n",
        "sitk.Show(file_reader.Execute())"
      ],
      "execution_count": null,
      "outputs": []
    },
    {
      "cell_type": "markdown",
      "metadata": {
        "id": "aTycDdSsCbu7"
      },
      "source": [
        "The next cells show how to subtract two large images from each other with a smaller memory footprint than the direct approach, though the code is much more complex and slower than the direct approach:\n",
        "\n",
        "```\n",
        "sitk.ReadImage(image1_file_name) - sitk.ReadImage(image2_file_name)\n",
        "```\n",
        "\n",
        "**Note**: The code assume that the two images occupy the same spatial region (origin, spacing, direction cosine matrix).\n",
        "\n"
      ]
    },
    {
      "cell_type": "code",
      "metadata": {
        "id": "H25wBwseCbu7"
      },
      "source": [
        "def streaming_subtract(image1_file_name, image2_file_name, parts):\n",
        "    '''\n",
        "    Subtract image1 from image2 using 'parts' number of sub-regions.\n",
        "    '''\n",
        "    file_reader = sitk.ImageFileReader()\n",
        "    file_reader.SetFileName(image1_file_name)\n",
        "    file_reader.ReadImageInformation()\n",
        "    image_size = file_reader.GetSize()\n",
        "\n",
        "    # Create the result image, initially empty\n",
        "    result_img = sitk.Image(file_reader.GetSize(), file_reader.GetPixelID(), file_reader.GetNumberOfComponents())\n",
        "    result_img.SetSpacing(file_reader.GetSpacing())\n",
        "    result_img.SetOrigin(file_reader.GetOrigin())\n",
        "    result_img.SetDirection(file_reader.GetDirection())\n",
        "\n",
        "    extract_size = list(file_reader.GetSize())\n",
        "    extract_size[-1] = extract_size[-1]//parts\n",
        "    current_index = [0]*file_reader.GetDimension()\n",
        "    for i in range(parts):\n",
        "        if i == (parts-1): # last region may be smaller than the standard extract region\n",
        "            extract_size[-1] = image_size[-1] - current_index[-1]\n",
        "        file_reader.SetFileName(image1_file_name)\n",
        "        file_reader.SetExtractIndex(current_index)\n",
        "        file_reader.SetExtractSize(extract_size)\n",
        "        sub_image1 = file_reader.Execute()\n",
        "\n",
        "        file_reader.SetFileName(image2_file_name)\n",
        "        file_reader.SetExtractIndex(current_index)\n",
        "        file_reader.SetExtractSize(extract_size)\n",
        "        sub_image2 = file_reader.Execute()\n",
        "        # Paste the result of subtracting the two subregions into their location in the result_img\n",
        "        result_img = sitk.Paste(result_img, sub_image1 - sub_image2, extract_size, [0]*file_reader.GetDimension(), current_index)\n",
        "        current_index[-1] += extract_size[-1]        \n",
        "    return result_img\n",
        "\n",
        "# If you have the patience and RAM you can try this with the vm_head_rgb.mha image.\n",
        "image1_file_name = fdata('fib_sem_bacillus_subtilis.mha')\n",
        "image2_file_name = fdata('fib_sem_bacillus_subtilis.mha')"
      ],
      "execution_count": null,
      "outputs": []
    },
    {
      "cell_type": "markdown",
      "metadata": {
        "id": "XPdKjXTYCbu7"
      },
      "source": [
        "A simple way of seeing your system's memory usage is to open the appropriate monitoring program: (Windows) Resource Monitor; (Linux) top; (OS X) Activity Monitor. This will give you a rough idea of the memory used by the streaming vs. non streaming approaches."
      ]
    },
    {
      "cell_type": "code",
      "metadata": {
        "id": "p_xAj5cYCbu7"
      },
      "source": [
        "result_img = streaming_subtract(image1_file_name, image2_file_name, parts=5)\n",
        "del result_img"
      ],
      "execution_count": null,
      "outputs": []
    },
    {
      "cell_type": "code",
      "metadata": {
        "id": "U8dlXfRPCbu7"
      },
      "source": [
        "result_img = sitk.ReadImage(image1_file_name) - sitk.ReadImage(image2_file_name)\n",
        "del result_img"
      ],
      "execution_count": null,
      "outputs": []
    }
  ]
}