{
  "nbformat": 4,
  "nbformat_minor": 0,
  "metadata": {
    "kernelspec": {
      "display_name": "Python 3",
      "language": "python",
      "name": "python3"
    },
    "language_info": {
      "codemirror_mode": {
        "name": "ipython",
        "version": 3
      },
      "file_extension": ".py",
      "mimetype": "text/x-python",
      "name": "python",
      "nbconvert_exporter": "python",
      "pygments_lexer": "ipython3",
      "version": "3.6.8"
    },
    "colab": {
      "name": "05_advanced_registration.ipynb",
      "provenance": [],
      "collapsed_sections": [],
      "include_colab_link": true
    },
    "widgets": {
      "application/vnd.jupyter.widget-state+json": {
        "a0d1c27380534284a9d8a5e7e41ad6de": {
          "model_module": "@jupyter-widgets/controls",
          "model_name": "VBoxModel",
          "state": {
            "_view_name": "VBoxView",
            "_dom_classes": [
              "widget-interact"
            ],
            "_model_name": "VBoxModel",
            "_view_module": "@jupyter-widgets/controls",
            "_model_module_version": "1.5.0",
            "_view_count": null,
            "_view_module_version": "1.5.0",
            "box_style": "",
            "layout": "IPY_MODEL_e82a97804e44492b8bcbebfec2c6497c",
            "_model_module": "@jupyter-widgets/controls",
            "children": [
              "IPY_MODEL_a53f4ef57f124515ab7f10436c1c532a",
              "IPY_MODEL_aa4906842a7f48e18a28a726130510ba"
            ]
          }
        },
        "e82a97804e44492b8bcbebfec2c6497c": {
          "model_module": "@jupyter-widgets/base",
          "model_name": "LayoutModel",
          "state": {
            "_view_name": "LayoutView",
            "grid_template_rows": null,
            "right": null,
            "justify_content": null,
            "_view_module": "@jupyter-widgets/base",
            "overflow": null,
            "_model_module_version": "1.2.0",
            "_view_count": null,
            "flex_flow": null,
            "width": null,
            "min_width": null,
            "border": null,
            "align_items": null,
            "bottom": null,
            "_model_module": "@jupyter-widgets/base",
            "top": null,
            "grid_column": null,
            "overflow_y": null,
            "overflow_x": null,
            "grid_auto_flow": null,
            "grid_area": null,
            "grid_template_columns": null,
            "flex": null,
            "_model_name": "LayoutModel",
            "justify_items": null,
            "grid_row": null,
            "max_height": null,
            "align_content": null,
            "visibility": null,
            "align_self": null,
            "height": null,
            "min_height": null,
            "padding": null,
            "grid_auto_rows": null,
            "grid_gap": null,
            "max_width": null,
            "order": null,
            "_view_module_version": "1.2.0",
            "grid_template_areas": null,
            "object_position": null,
            "object_fit": null,
            "grid_auto_columns": null,
            "margin": null,
            "display": null,
            "left": null
          }
        },
        "a53f4ef57f124515ab7f10436c1c532a": {
          "model_module": "@jupyter-widgets/controls",
          "model_name": "IntSliderModel",
          "state": {
            "_view_name": "IntSliderView",
            "style": "IPY_MODEL_a97aebf292b94e8d846a312cb78f61ac",
            "_dom_classes": [],
            "description": "x",
            "step": 1,
            "_model_name": "IntSliderModel",
            "orientation": "horizontal",
            "max": 30,
            "_view_module": "@jupyter-widgets/controls",
            "_model_module_version": "1.5.0",
            "value": 10,
            "_view_count": null,
            "disabled": false,
            "_view_module_version": "1.5.0",
            "min": -10,
            "continuous_update": true,
            "readout_format": "d",
            "description_tooltip": null,
            "readout": true,
            "_model_module": "@jupyter-widgets/controls",
            "layout": "IPY_MODEL_a3123fb55fd74fa3b52b89b75393b286"
          }
        },
        "aa4906842a7f48e18a28a726130510ba": {
          "model_module": "@jupyter-widgets/output",
          "model_name": "OutputModel",
          "state": {
            "_view_name": "OutputView",
            "msg_id": "",
            "_dom_classes": [],
            "_model_name": "OutputModel",
            "outputs": [
              {
                "output_type": "display_data",
                "metadata": {
                  "tags": []
                },
                "text/plain": "10"
              }
            ],
            "_view_module": "@jupyter-widgets/output",
            "_model_module_version": "1.0.0",
            "_view_count": null,
            "_view_module_version": "1.0.0",
            "layout": "IPY_MODEL_fbf00ea496ca4f519fe3b87e343d63d2",
            "_model_module": "@jupyter-widgets/output"
          }
        },
        "a97aebf292b94e8d846a312cb78f61ac": {
          "model_module": "@jupyter-widgets/controls",
          "model_name": "SliderStyleModel",
          "state": {
            "_view_name": "StyleView",
            "handle_color": null,
            "_model_name": "SliderStyleModel",
            "description_width": "",
            "_view_module": "@jupyter-widgets/base",
            "_model_module_version": "1.5.0",
            "_view_count": null,
            "_view_module_version": "1.2.0",
            "_model_module": "@jupyter-widgets/controls"
          }
        },
        "a3123fb55fd74fa3b52b89b75393b286": {
          "model_module": "@jupyter-widgets/base",
          "model_name": "LayoutModel",
          "state": {
            "_view_name": "LayoutView",
            "grid_template_rows": null,
            "right": null,
            "justify_content": null,
            "_view_module": "@jupyter-widgets/base",
            "overflow": null,
            "_model_module_version": "1.2.0",
            "_view_count": null,
            "flex_flow": null,
            "width": null,
            "min_width": null,
            "border": null,
            "align_items": null,
            "bottom": null,
            "_model_module": "@jupyter-widgets/base",
            "top": null,
            "grid_column": null,
            "overflow_y": null,
            "overflow_x": null,
            "grid_auto_flow": null,
            "grid_area": null,
            "grid_template_columns": null,
            "flex": null,
            "_model_name": "LayoutModel",
            "justify_items": null,
            "grid_row": null,
            "max_height": null,
            "align_content": null,
            "visibility": null,
            "align_self": null,
            "height": null,
            "min_height": null,
            "padding": null,
            "grid_auto_rows": null,
            "grid_gap": null,
            "max_width": null,
            "order": null,
            "_view_module_version": "1.2.0",
            "grid_template_areas": null,
            "object_position": null,
            "object_fit": null,
            "grid_auto_columns": null,
            "margin": null,
            "display": null,
            "left": null
          }
        },
        "fbf00ea496ca4f519fe3b87e343d63d2": {
          "model_module": "@jupyter-widgets/base",
          "model_name": "LayoutModel",
          "state": {
            "_view_name": "LayoutView",
            "grid_template_rows": null,
            "right": null,
            "justify_content": null,
            "_view_module": "@jupyter-widgets/base",
            "overflow": null,
            "_model_module_version": "1.2.0",
            "_view_count": null,
            "flex_flow": null,
            "width": null,
            "min_width": null,
            "border": null,
            "align_items": null,
            "bottom": null,
            "_model_module": "@jupyter-widgets/base",
            "top": null,
            "grid_column": null,
            "overflow_y": null,
            "overflow_x": null,
            "grid_auto_flow": null,
            "grid_area": null,
            "grid_template_columns": null,
            "flex": null,
            "_model_name": "LayoutModel",
            "justify_items": null,
            "grid_row": null,
            "max_height": null,
            "align_content": null,
            "visibility": null,
            "align_self": null,
            "height": null,
            "min_height": null,
            "padding": null,
            "grid_auto_rows": null,
            "grid_gap": null,
            "max_width": null,
            "order": null,
            "_view_module_version": "1.2.0",
            "grid_template_areas": null,
            "object_position": null,
            "object_fit": null,
            "grid_auto_columns": null,
            "margin": null,
            "display": null,
            "left": null
          }
        },
        "1f41b4012cb44f22917163f28ceb8725": {
          "model_module": "@jupyter-widgets/controls",
          "model_name": "VBoxModel",
          "state": {
            "_view_name": "VBoxView",
            "_dom_classes": [
              "widget-interact"
            ],
            "_model_name": "VBoxModel",
            "_view_module": "@jupyter-widgets/controls",
            "_model_module_version": "1.5.0",
            "_view_count": null,
            "_view_module_version": "1.5.0",
            "box_style": "",
            "layout": "IPY_MODEL_300d201eff63476a80dafbeb6863ebbc",
            "_model_module": "@jupyter-widgets/controls",
            "children": [
              "IPY_MODEL_79268f37a2284335acc7afb145647565",
              "IPY_MODEL_bab9a8cdd9174b9c8c18fe26e2071e74",
              "IPY_MODEL_674a786e14ae4703ab5de555ad2d1b3c"
            ]
          }
        },
        "300d201eff63476a80dafbeb6863ebbc": {
          "model_module": "@jupyter-widgets/base",
          "model_name": "LayoutModel",
          "state": {
            "_view_name": "LayoutView",
            "grid_template_rows": null,
            "right": null,
            "justify_content": null,
            "_view_module": "@jupyter-widgets/base",
            "overflow": null,
            "_model_module_version": "1.2.0",
            "_view_count": null,
            "flex_flow": null,
            "width": null,
            "min_width": null,
            "border": null,
            "align_items": null,
            "bottom": null,
            "_model_module": "@jupyter-widgets/base",
            "top": null,
            "grid_column": null,
            "overflow_y": null,
            "overflow_x": null,
            "grid_auto_flow": null,
            "grid_area": null,
            "grid_template_columns": null,
            "flex": null,
            "_model_name": "LayoutModel",
            "justify_items": null,
            "grid_row": null,
            "max_height": null,
            "align_content": null,
            "visibility": null,
            "align_self": null,
            "height": null,
            "min_height": null,
            "padding": null,
            "grid_auto_rows": null,
            "grid_gap": null,
            "max_width": null,
            "order": null,
            "_view_module_version": "1.2.0",
            "grid_template_areas": null,
            "object_position": null,
            "object_fit": null,
            "grid_auto_columns": null,
            "margin": null,
            "display": null,
            "left": null
          }
        },
        "79268f37a2284335acc7afb145647565": {
          "model_module": "@jupyter-widgets/controls",
          "model_name": "IntSliderModel",
          "state": {
            "_view_name": "IntSliderView",
            "style": "IPY_MODEL_15b2462ceb7847609cbcd84bf423a585",
            "_dom_classes": [],
            "description": "temporal_slice",
            "step": 1,
            "_model_name": "IntSliderModel",
            "orientation": "horizontal",
            "max": 1,
            "_view_module": "@jupyter-widgets/controls",
            "_model_module_version": "1.5.0",
            "value": 0,
            "_view_count": null,
            "disabled": false,
            "_view_module_version": "1.5.0",
            "min": 0,
            "continuous_update": true,
            "readout_format": "d",
            "description_tooltip": null,
            "readout": true,
            "_model_module": "@jupyter-widgets/controls",
            "layout": "IPY_MODEL_356078b68d96432585d408c4e20765bf"
          }
        },
        "bab9a8cdd9174b9c8c18fe26e2071e74": {
          "model_module": "@jupyter-widgets/controls",
          "model_name": "IntSliderModel",
          "state": {
            "_view_name": "IntSliderView",
            "style": "IPY_MODEL_2794d0f829234646aa1b8149bb7e79ea",
            "_dom_classes": [],
            "description": "coronal_slice",
            "step": 1,
            "_model_name": "IntSliderModel",
            "orientation": "horizontal",
            "max": 359,
            "_view_module": "@jupyter-widgets/controls",
            "_model_module_version": "1.5.0",
            "value": 177,
            "_view_count": null,
            "disabled": false,
            "_view_module_version": "1.5.0",
            "min": 0,
            "continuous_update": true,
            "readout_format": "d",
            "description_tooltip": null,
            "readout": true,
            "_model_module": "@jupyter-widgets/controls",
            "layout": "IPY_MODEL_3d6ba67d6ed64b339ef3690eb774fbba"
          }
        },
        "674a786e14ae4703ab5de555ad2d1b3c": {
          "model_module": "@jupyter-widgets/output",
          "model_name": "OutputModel",
          "state": {
            "_view_name": "OutputView",
            "msg_id": "",
            "_dom_classes": [],
            "_model_name": "OutputModel",
            "outputs": [
              {
                "output_type": "display_data",
                "metadata": {
                  "tags": [],
                  "needs_background": "light"
                },
                "image/png": "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\n",
                "text/plain": "<Figure size 432x288 with 1 Axes>"
              }
            ],
            "_view_module": "@jupyter-widgets/output",
            "_model_module_version": "1.0.0",
            "_view_count": null,
            "_view_module_version": "1.0.0",
            "layout": "IPY_MODEL_3d8c507eef8d4467adc089090e3a4850",
            "_model_module": "@jupyter-widgets/output"
          }
        },
        "15b2462ceb7847609cbcd84bf423a585": {
          "model_module": "@jupyter-widgets/controls",
          "model_name": "SliderStyleModel",
          "state": {
            "_view_name": "StyleView",
            "handle_color": null,
            "_model_name": "SliderStyleModel",
            "description_width": "",
            "_view_module": "@jupyter-widgets/base",
            "_model_module_version": "1.5.0",
            "_view_count": null,
            "_view_module_version": "1.2.0",
            "_model_module": "@jupyter-widgets/controls"
          }
        },
        "356078b68d96432585d408c4e20765bf": {
          "model_module": "@jupyter-widgets/base",
          "model_name": "LayoutModel",
          "state": {
            "_view_name": "LayoutView",
            "grid_template_rows": null,
            "right": null,
            "justify_content": null,
            "_view_module": "@jupyter-widgets/base",
            "overflow": null,
            "_model_module_version": "1.2.0",
            "_view_count": null,
            "flex_flow": null,
            "width": null,
            "min_width": null,
            "border": null,
            "align_items": null,
            "bottom": null,
            "_model_module": "@jupyter-widgets/base",
            "top": null,
            "grid_column": null,
            "overflow_y": null,
            "overflow_x": null,
            "grid_auto_flow": null,
            "grid_area": null,
            "grid_template_columns": null,
            "flex": null,
            "_model_name": "LayoutModel",
            "justify_items": null,
            "grid_row": null,
            "max_height": null,
            "align_content": null,
            "visibility": null,
            "align_self": null,
            "height": null,
            "min_height": null,
            "padding": null,
            "grid_auto_rows": null,
            "grid_gap": null,
            "max_width": null,
            "order": null,
            "_view_module_version": "1.2.0",
            "grid_template_areas": null,
            "object_position": null,
            "object_fit": null,
            "grid_auto_columns": null,
            "margin": null,
            "display": null,
            "left": null
          }
        },
        "2794d0f829234646aa1b8149bb7e79ea": {
          "model_module": "@jupyter-widgets/controls",
          "model_name": "SliderStyleModel",
          "state": {
            "_view_name": "StyleView",
            "handle_color": null,
            "_model_name": "SliderStyleModel",
            "description_width": "",
            "_view_module": "@jupyter-widgets/base",
            "_model_module_version": "1.5.0",
            "_view_count": null,
            "_view_module_version": "1.2.0",
            "_model_module": "@jupyter-widgets/controls"
          }
        },
        "3d6ba67d6ed64b339ef3690eb774fbba": {
          "model_module": "@jupyter-widgets/base",
          "model_name": "LayoutModel",
          "state": {
            "_view_name": "LayoutView",
            "grid_template_rows": null,
            "right": null,
            "justify_content": null,
            "_view_module": "@jupyter-widgets/base",
            "overflow": null,
            "_model_module_version": "1.2.0",
            "_view_count": null,
            "flex_flow": null,
            "width": null,
            "min_width": null,
            "border": null,
            "align_items": null,
            "bottom": null,
            "_model_module": "@jupyter-widgets/base",
            "top": null,
            "grid_column": null,
            "overflow_y": null,
            "overflow_x": null,
            "grid_auto_flow": null,
            "grid_area": null,
            "grid_template_columns": null,
            "flex": null,
            "_model_name": "LayoutModel",
            "justify_items": null,
            "grid_row": null,
            "max_height": null,
            "align_content": null,
            "visibility": null,
            "align_self": null,
            "height": null,
            "min_height": null,
            "padding": null,
            "grid_auto_rows": null,
            "grid_gap": null,
            "max_width": null,
            "order": null,
            "_view_module_version": "1.2.0",
            "grid_template_areas": null,
            "object_position": null,
            "object_fit": null,
            "grid_auto_columns": null,
            "margin": null,
            "display": null,
            "left": null
          }
        },
        "3d8c507eef8d4467adc089090e3a4850": {
          "model_module": "@jupyter-widgets/base",
          "model_name": "LayoutModel",
          "state": {
            "_view_name": "LayoutView",
            "grid_template_rows": null,
            "right": null,
            "justify_content": null,
            "_view_module": "@jupyter-widgets/base",
            "overflow": null,
            "_model_module_version": "1.2.0",
            "_view_count": null,
            "flex_flow": null,
            "width": null,
            "min_width": null,
            "border": null,
            "align_items": null,
            "bottom": null,
            "_model_module": "@jupyter-widgets/base",
            "top": null,
            "grid_column": null,
            "overflow_y": null,
            "overflow_x": null,
            "grid_auto_flow": null,
            "grid_area": null,
            "grid_template_columns": null,
            "flex": null,
            "_model_name": "LayoutModel",
            "justify_items": null,
            "grid_row": null,
            "max_height": null,
            "align_content": null,
            "visibility": null,
            "align_self": null,
            "height": null,
            "min_height": null,
            "padding": null,
            "grid_auto_rows": null,
            "grid_gap": null,
            "max_width": null,
            "order": null,
            "_view_module_version": "1.2.0",
            "grid_template_areas": null,
            "object_position": null,
            "object_fit": null,
            "grid_auto_columns": null,
            "margin": null,
            "display": null,
            "left": null
          }
        }
      }
    }
  },
  "cells": [
    {
      "cell_type": "markdown",
      "metadata": {
        "id": "view-in-github",
        "colab_type": "text"
      },
      "source": [
        "<a href=\"https://colab.research.google.com/github/BillWorstell/ISBI2020_TUTORIAL/blob/master/05_advanced_registration.ipynb\" target=\"_parent\"><img src=\"https://colab.research.google.com/assets/colab-badge.svg\" alt=\"Open In Colab\"/></a>"
      ]
    },
    {
      "cell_type": "markdown",
      "metadata": {
        "id": "RP25u2cX9mv9"
      },
      "source": [
        "<h1 align=\"center\">Advanced Registration</h1>\n",
        "\n",
        "\n",
        "**Summary:**\n",
        "1. SimpleITK provides two flavors of non-rigid registration:\n",
        "   * Free Form Deformation, BSpline based, and Demons using the ITKv4 registration framework.\n",
        "   * A set of Demons filters that are independent of the registration framework (`DemonsRegistrationFilter, DiffeomorphicDemonsRegistrationFilter, FastSymmetricForcesDemonsRegistrationFilter, SymmetricForcesDemonsRegistrationFilter`).\n",
        "2. Registration evaluation:\n",
        "   * Registration accuracy, the quantity of interest is the Target Registration Error (TRE).\n",
        "   * TRE is spatially variant.\n",
        "   * Surrogate metrics for evaluating registration accuracy such as segmentation overlaps are relevant, but are potentially deficient.\n",
        "   * Registration time.\n",
        "   * Acceptable values for TRE and runtime are context dependent."
      ]
    },
    {
      "cell_type": "markdown",
      "metadata": {
        "id": "82lLi7zNDacj"
      },
      "source": [
        "## Install SimpleITK and Environment\n",
        "\n",
        "Expects to find on MyDrive:\n",
        " \n",
        "/gdrive/MyDrive/SimpleITK-Notebooks/Python\n",
        "\n",
        "/gdrive/MyDrive/SimpleITK-Notebooks/Python/requirements.txt\n",
        "\n",
        "/gdrive/MyDrive/Fiji.app/ImageJ-linux64\n",
        "\n",
        "<img src=\"figures/ImageOriginAndSpacing.png\" style=\"width:700px\"/><br><br>"
      ]
    },
    {
      "cell_type": "code",
      "metadata": {
        "colab": {
          "base_uri": "https://localhost:8080/"
        },
        "id": "CBRDhNEYdGiw",
        "outputId": "80d6e9bd-ffa4-4018-8684-0e33be08b916"
      },
      "source": [
        "pip install virtualenv"
      ],
      "execution_count": 1,
      "outputs": [
        {
          "output_type": "stream",
          "text": [
            "Collecting virtualenv\n",
            "\u001b[?25l  Downloading https://files.pythonhosted.org/packages/9f/fb/7423637e48cffbb2e567ca113d2b05068f8b457dde998ab487adf7386c86/virtualenv-20.4.2-py2.py3-none-any.whl (7.2MB)\n",
            "\u001b[K     |████████████████████████████████| 7.2MB 6.1MB/s \n",
            "\u001b[?25hCollecting distlib<1,>=0.3.1\n",
            "\u001b[?25l  Downloading https://files.pythonhosted.org/packages/f5/0a/490fa011d699bb5a5f3a0cf57de82237f52a6db9d40f33c53b2736c9a1f9/distlib-0.3.1-py2.py3-none-any.whl (335kB)\n",
            "\u001b[K     |████████████████████████████████| 337kB 48.7MB/s \n",
            "\u001b[?25hRequirement already satisfied: appdirs<2,>=1.4.3 in /usr/local/lib/python3.7/dist-packages (from virtualenv) (1.4.4)\n",
            "Requirement already satisfied: six<2,>=1.9.0 in /usr/local/lib/python3.7/dist-packages (from virtualenv) (1.15.0)\n",
            "Requirement already satisfied: importlib-metadata>=0.12; python_version < \"3.8\" in /usr/local/lib/python3.7/dist-packages (from virtualenv) (3.7.0)\n",
            "Requirement already satisfied: filelock<4,>=3.0.0 in /usr/local/lib/python3.7/dist-packages (from virtualenv) (3.0.12)\n",
            "Requirement already satisfied: zipp>=0.5 in /usr/local/lib/python3.7/dist-packages (from importlib-metadata>=0.12; python_version < \"3.8\"->virtualenv) (3.4.0)\n",
            "Requirement already satisfied: typing-extensions>=3.6.4; python_version < \"3.8\" in /usr/local/lib/python3.7/dist-packages (from importlib-metadata>=0.12; python_version < \"3.8\"->virtualenv) (3.7.4.3)\n",
            "Installing collected packages: distlib, virtualenv\n",
            "Successfully installed distlib-0.3.1 virtualenv-20.4.2\n"
          ],
          "name": "stdout"
        }
      ]
    },
    {
      "cell_type": "code",
      "metadata": {
        "colab": {
          "base_uri": "https://localhost:8080/"
        },
        "id": "hg21VPYEdMpH",
        "outputId": "7827f233-dfcb-4a59-8d3f-a5ca3c909e51"
      },
      "source": [
        "#!virtualenv ~/sitkpy --no-site-packages\r\n",
        "!virtualenv ~/sitkpy"
      ],
      "execution_count": 2,
      "outputs": [
        {
          "output_type": "stream",
          "text": [
            "created virtual environment CPython3.7.10.final.0-64 in 909ms\n",
            "  creator CPython3Posix(dest=/root/sitkpy, clear=False, no_vcs_ignore=False, global=False)\n",
            "  seeder FromAppData(download=False, pip=bundle, setuptools=bundle, wheel=bundle, via=copy, app_data_dir=/root/.local/share/virtualenv)\n",
            "    added seed packages: pip==21.0.1, setuptools==52.0.0, wheel==0.36.2\n",
            "  activators BashActivator,CShellActivator,FishActivator,PowerShellActivator,PythonActivator,XonshActivator\n"
          ],
          "name": "stdout"
        }
      ]
    },
    {
      "cell_type": "code",
      "metadata": {
        "colab": {
          "base_uri": "https://localhost:8080/"
        },
        "id": "79YntY-odSP1",
        "outputId": "f60fb413-d53e-4055-e706-e661baad4063"
      },
      "source": [
        "from google.colab import drive\r\n",
        "drive.mount('/gdrive')\r\n",
        "%cd /gdrive"
      ],
      "execution_count": 3,
      "outputs": [
        {
          "output_type": "stream",
          "text": [
            "Mounted at /gdrive\n",
            "/gdrive\n"
          ],
          "name": "stdout"
        }
      ]
    },
    {
      "cell_type": "code",
      "metadata": {
        "colab": {
          "base_uri": "https://localhost:8080/"
        },
        "id": "kw9eGdBadle2",
        "outputId": "9cdebd00-883e-446d-dbec-f46e5f656d32"
      },
      "source": [
        "#!pip install -r '/gdrive/MyDrive/SimpleITK-Notebooks/Python/requirements.txt'\r\n",
        "!~/sitkpy/bin/pip install -r '/gdrive/MyDrive/SimpleITK-Notebooks/Python/requirements.txt'"
      ],
      "execution_count": 4,
      "outputs": [
        {
          "output_type": "stream",
          "text": [
            "Collecting SimpleITK>=2.0.0\n",
            "  Downloading SimpleITK-2.0.2-cp37-cp37m-manylinux2010_x86_64.whl (47.4 MB)\n",
            "\u001b[K     |████████████████████████████████| 47.4 MB 50 kB/s \n",
            "\u001b[?25hCollecting jupyter\n",
            "  Downloading jupyter-1.0.0-py2.py3-none-any.whl (2.7 kB)\n",
            "Collecting matplotlib\n",
            "  Downloading matplotlib-3.3.4-cp37-cp37m-manylinux1_x86_64.whl (11.5 MB)\n",
            "\u001b[K     |████████████████████████████████| 11.5 MB 47.2 MB/s \n",
            "\u001b[?25hCollecting ipywidgets\n",
            "  Downloading ipywidgets-7.6.3-py2.py3-none-any.whl (121 kB)\n",
            "\u001b[K     |████████████████████████████████| 121 kB 79.1 MB/s \n",
            "\u001b[?25hCollecting numpy\n",
            "  Downloading numpy-1.20.1-cp37-cp37m-manylinux2010_x86_64.whl (15.3 MB)\n",
            "\u001b[K     |████████████████████████████████| 15.3 MB 92 kB/s \n",
            "\u001b[?25hCollecting scipy\n",
            "  Downloading scipy-1.6.1-cp37-cp37m-manylinux1_x86_64.whl (27.4 MB)\n",
            "\u001b[K     |████████████████████████████████| 27.4 MB 75 kB/s \n",
            "\u001b[?25hCollecting pandas\n",
            "  Downloading pandas-1.2.2-cp37-cp37m-manylinux1_x86_64.whl (9.9 MB)\n",
            "\u001b[K     |████████████████████████████████| 9.9 MB 43.7 MB/s \n",
            "\u001b[?25hCollecting numba\n",
            "  Downloading numba-0.52.0-cp37-cp37m-manylinux2014_x86_64.whl (3.2 MB)\n",
            "\u001b[K     |████████████████████████████████| 3.2 MB 46.4 MB/s \n",
            "\u001b[?25hCollecting multiprocess\n",
            "  Downloading multiprocess-0.70.11.1-py37-none-any.whl (108 kB)\n",
            "\u001b[K     |████████████████████████████████| 108 kB 72.7 MB/s \n",
            "\u001b[?25hCollecting nbformat>=4.2.0\n",
            "  Downloading nbformat-5.1.2-py3-none-any.whl (113 kB)\n",
            "\u001b[K     |████████████████████████████████| 113 kB 58.1 MB/s \n",
            "\u001b[?25hCollecting widgetsnbextension~=3.5.0\n",
            "  Downloading widgetsnbextension-3.5.1-py2.py3-none-any.whl (2.2 MB)\n",
            "\u001b[K     |████████████████████████████████| 2.2 MB 47.2 MB/s \n",
            "\u001b[?25hCollecting traitlets>=4.3.1\n",
            "  Downloading traitlets-5.0.5-py3-none-any.whl (100 kB)\n",
            "\u001b[K     |████████████████████████████████| 100 kB 9.4 MB/s \n",
            "\u001b[?25hCollecting jupyterlab-widgets>=1.0.0\n",
            "  Downloading jupyterlab_widgets-1.0.0-py3-none-any.whl (243 kB)\n",
            "\u001b[K     |████████████████████████████████| 243 kB 75.7 MB/s \n",
            "\u001b[?25hCollecting ipython>=4.0.0\n",
            "  Downloading ipython-7.21.0-py3-none-any.whl (784 kB)\n",
            "\u001b[K     |████████████████████████████████| 784 kB 47.1 MB/s \n",
            "\u001b[?25hCollecting ipykernel>=4.5.1\n",
            "  Downloading ipykernel-5.5.0-py3-none-any.whl (120 kB)\n",
            "\u001b[K     |████████████████████████████████| 120 kB 60.1 MB/s \n",
            "\u001b[?25hCollecting tornado>=4.2\n",
            "  Downloading tornado-6.1-cp37-cp37m-manylinux2010_x86_64.whl (428 kB)\n",
            "\u001b[K     |████████████████████████████████| 428 kB 48.3 MB/s \n",
            "\u001b[?25hCollecting jupyter-client\n",
            "  Downloading jupyter_client-6.1.11-py3-none-any.whl (108 kB)\n",
            "\u001b[K     |████████████████████████████████| 108 kB 57.9 MB/s \n",
            "\u001b[?25hCollecting decorator\n",
            "  Downloading decorator-4.4.2-py2.py3-none-any.whl (9.2 kB)\n",
            "Collecting backcall\n",
            "  Downloading backcall-0.2.0-py2.py3-none-any.whl (11 kB)\n",
            "Collecting pickleshare\n",
            "  Downloading pickleshare-0.7.5-py2.py3-none-any.whl (6.9 kB)\n",
            "Requirement already satisfied: setuptools>=18.5 in /root/sitkpy/lib/python3.7/site-packages (from ipython>=4.0.0->ipywidgets->-r /gdrive/MyDrive/SimpleITK-Notebooks/Python/requirements.txt (line 4)) (52.0.0)\n",
            "Collecting pygments\n",
            "  Downloading Pygments-2.8.0-py3-none-any.whl (983 kB)\n",
            "\u001b[K     |████████████████████████████████| 983 kB 43.7 MB/s \n",
            "\u001b[?25hCollecting pexpect>4.3\n",
            "  Downloading pexpect-4.8.0-py2.py3-none-any.whl (59 kB)\n",
            "\u001b[K     |████████████████████████████████| 59 kB 5.9 MB/s \n",
            "\u001b[?25hCollecting jedi>=0.16\n",
            "  Downloading jedi-0.18.0-py2.py3-none-any.whl (1.4 MB)\n",
            "\u001b[K     |████████████████████████████████| 1.4 MB 39.2 MB/s \n",
            "\u001b[?25hCollecting prompt-toolkit!=3.0.0,!=3.0.1,<3.1.0,>=2.0.0\n",
            "  Downloading prompt_toolkit-3.0.16-py3-none-any.whl (366 kB)\n",
            "\u001b[K     |████████████████████████████████| 366 kB 43.8 MB/s \n",
            "\u001b[?25hCollecting parso<0.9.0,>=0.8.0\n",
            "  Downloading parso-0.8.1-py2.py3-none-any.whl (93 kB)\n",
            "\u001b[K     |████████████████████████████████| 93 kB 2.0 MB/s \n",
            "\u001b[?25hCollecting jsonschema!=2.5.0,>=2.4\n",
            "  Downloading jsonschema-3.2.0-py2.py3-none-any.whl (56 kB)\n",
            "\u001b[K     |████████████████████████████████| 56 kB 4.3 MB/s \n",
            "\u001b[?25hCollecting ipython-genutils\n",
            "  Downloading ipython_genutils-0.2.0-py2.py3-none-any.whl (26 kB)\n",
            "Collecting jupyter-core\n",
            "  Downloading jupyter_core-4.7.1-py3-none-any.whl (82 kB)\n",
            "\u001b[K     |████████████████████████████████| 82 kB 1.2 MB/s \n",
            "\u001b[?25hCollecting attrs>=17.4.0\n",
            "  Downloading attrs-20.3.0-py2.py3-none-any.whl (49 kB)\n",
            "\u001b[K     |████████████████████████████████| 49 kB 5.5 MB/s \n",
            "\u001b[?25hCollecting importlib-metadata\n",
            "  Downloading importlib_metadata-3.7.0-py3-none-any.whl (11 kB)\n",
            "Collecting six>=1.11.0\n",
            "  Downloading six-1.15.0-py2.py3-none-any.whl (10 kB)\n",
            "Collecting pyrsistent>=0.14.0\n",
            "  Downloading pyrsistent-0.17.3.tar.gz (106 kB)\n",
            "\u001b[K     |████████████████████████████████| 106 kB 54.5 MB/s \n",
            "\u001b[?25hCollecting ptyprocess>=0.5\n",
            "  Downloading ptyprocess-0.7.0-py2.py3-none-any.whl (13 kB)\n",
            "Collecting wcwidth\n",
            "  Downloading wcwidth-0.2.5-py2.py3-none-any.whl (30 kB)\n",
            "Collecting notebook>=4.4.1\n",
            "  Downloading notebook-6.2.0-py3-none-any.whl (9.5 MB)\n",
            "\u001b[K     |████████████████████████████████| 9.5 MB 43.1 MB/s \n",
            "\u001b[?25hCollecting argon2-cffi\n",
            "  Downloading argon2_cffi-20.1.0-cp35-abi3-manylinux1_x86_64.whl (97 kB)\n",
            "\u001b[K     |████████████████████████████████| 97 kB 6.7 MB/s \n",
            "\u001b[?25hCollecting pyzmq>=17\n",
            "  Downloading pyzmq-22.0.3-cp37-cp37m-manylinux1_x86_64.whl (1.1 MB)\n",
            "\u001b[K     |████████████████████████████████| 1.1 MB 49.5 MB/s \n",
            "\u001b[?25hCollecting terminado>=0.8.3\n",
            "  Downloading terminado-0.9.2-py3-none-any.whl (14 kB)\n",
            "Collecting Send2Trash>=1.5.0\n",
            "  Downloading Send2Trash-1.5.0-py3-none-any.whl (12 kB)\n",
            "Collecting prometheus-client\n",
            "  Downloading prometheus_client-0.9.0-py2.py3-none-any.whl (53 kB)\n",
            "\u001b[K     |████████████████████████████████| 53 kB 2.3 MB/s \n",
            "\u001b[?25hCollecting nbconvert\n",
            "  Downloading nbconvert-6.0.7-py3-none-any.whl (552 kB)\n",
            "\u001b[K     |████████████████████████████████| 552 kB 55.3 MB/s \n",
            "\u001b[?25hCollecting jinja2\n",
            "  Downloading Jinja2-2.11.3-py2.py3-none-any.whl (125 kB)\n",
            "\u001b[K     |████████████████████████████████| 125 kB 52.7 MB/s \n",
            "\u001b[?25hCollecting python-dateutil>=2.1\n",
            "  Downloading python_dateutil-2.8.1-py2.py3-none-any.whl (227 kB)\n",
            "\u001b[K     |████████████████████████████████| 227 kB 60.6 MB/s \n",
            "\u001b[?25hCollecting jupyter-console\n",
            "  Downloading jupyter_console-6.2.0-py3-none-any.whl (22 kB)\n",
            "Collecting qtconsole\n",
            "  Downloading qtconsole-5.0.2-py3-none-any.whl (119 kB)\n",
            "\u001b[K     |████████████████████████████████| 119 kB 59.6 MB/s \n",
            "\u001b[?25hCollecting pyparsing!=2.0.4,!=2.1.2,!=2.1.6,>=2.0.3\n",
            "  Downloading pyparsing-2.4.7-py2.py3-none-any.whl (67 kB)\n",
            "\u001b[K     |████████████████████████████████| 67 kB 4.9 MB/s \n",
            "\u001b[?25hCollecting cycler>=0.10\n",
            "  Downloading cycler-0.10.0-py2.py3-none-any.whl (6.5 kB)\n",
            "Collecting pillow>=6.2.0\n",
            "  Downloading Pillow-8.1.0-cp37-cp37m-manylinux1_x86_64.whl (2.2 MB)\n",
            "\u001b[K     |████████████████████████████████| 2.2 MB 50.4 MB/s \n",
            "\u001b[?25hCollecting kiwisolver>=1.0.1\n",
            "  Downloading kiwisolver-1.3.1-cp37-cp37m-manylinux1_x86_64.whl (1.1 MB)\n",
            "\u001b[K     |████████████████████████████████| 1.1 MB 42.7 MB/s \n",
            "\u001b[?25hCollecting dill>=0.3.3\n",
            "  Downloading dill-0.3.3-py2.py3-none-any.whl (81 kB)\n",
            "\u001b[K     |████████████████████████████████| 81 kB 8.4 MB/s \n",
            "\u001b[?25hCollecting llvmlite<0.36,>=0.35.0\n",
            "  Downloading llvmlite-0.35.0-cp37-cp37m-manylinux2010_x86_64.whl (25.3 MB)\n",
            "\u001b[K     |████████████████████████████████| 25.3 MB 1.5 MB/s \n",
            "\u001b[?25hCollecting pytz>=2017.3\n",
            "  Downloading pytz-2021.1-py2.py3-none-any.whl (510 kB)\n",
            "\u001b[K     |████████████████████████████████| 510 kB 48.0 MB/s \n",
            "\u001b[?25hCollecting cffi>=1.0.0\n",
            "  Downloading cffi-1.14.5-cp37-cp37m-manylinux1_x86_64.whl (402 kB)\n",
            "\u001b[K     |████████████████████████████████| 402 kB 61.2 MB/s \n",
            "\u001b[?25hCollecting pycparser\n",
            "  Downloading pycparser-2.20-py2.py3-none-any.whl (112 kB)\n",
            "\u001b[K     |████████████████████████████████| 112 kB 70.0 MB/s \n",
            "\u001b[?25hCollecting typing-extensions>=3.6.4\n",
            "  Downloading typing_extensions-3.7.4.3-py3-none-any.whl (22 kB)\n",
            "Collecting zipp>=0.5\n",
            "  Downloading zipp-3.4.0-py3-none-any.whl (5.2 kB)\n",
            "Collecting MarkupSafe>=0.23\n",
            "  Downloading MarkupSafe-1.1.1-cp37-cp37m-manylinux2010_x86_64.whl (33 kB)\n",
            "Collecting mistune<2,>=0.8.1\n",
            "  Downloading mistune-0.8.4-py2.py3-none-any.whl (16 kB)\n",
            "Collecting defusedxml\n",
            "  Downloading defusedxml-0.6.0-py2.py3-none-any.whl (23 kB)\n",
            "Collecting pandocfilters>=1.4.1\n",
            "  Downloading pandocfilters-1.4.3.tar.gz (16 kB)\n",
            "Collecting nbclient<0.6.0,>=0.5.0\n",
            "  Downloading nbclient-0.5.3-py3-none-any.whl (82 kB)\n",
            "\u001b[K     |████████████████████████████████| 82 kB 973 kB/s \n",
            "\u001b[?25hCollecting jupyterlab-pygments\n",
            "  Downloading jupyterlab_pygments-0.1.2-py2.py3-none-any.whl (4.6 kB)\n",
            "Collecting bleach\n",
            "  Downloading bleach-3.3.0-py2.py3-none-any.whl (283 kB)\n",
            "\u001b[K     |████████████████████████████████| 283 kB 43.3 MB/s \n",
            "\u001b[?25hCollecting entrypoints>=0.2.2\n",
            "  Downloading entrypoints-0.3-py2.py3-none-any.whl (11 kB)\n",
            "Collecting testpath\n",
            "  Downloading testpath-0.4.4-py2.py3-none-any.whl (163 kB)\n",
            "\u001b[K     |████████████████████████████████| 163 kB 69.4 MB/s \n",
            "\u001b[?25hCollecting async-generator\n",
            "  Downloading async_generator-1.10-py3-none-any.whl (18 kB)\n",
            "Collecting nest-asyncio\n",
            "  Downloading nest_asyncio-1.5.1-py3-none-any.whl (5.0 kB)\n",
            "Collecting webencodings\n",
            "  Downloading webencodings-0.5.1-py2.py3-none-any.whl (11 kB)\n",
            "Collecting packaging\n",
            "  Downloading packaging-20.9-py2.py3-none-any.whl (40 kB)\n",
            "\u001b[K     |████████████████████████████████| 40 kB 4.9 MB/s \n",
            "\u001b[?25hCollecting qtpy\n",
            "  Downloading QtPy-1.9.0-py2.py3-none-any.whl (54 kB)\n",
            "\u001b[K     |████████████████████████████████| 54 kB 2.4 MB/s \n",
            "\u001b[?25hBuilding wheels for collected packages: pyrsistent, pandocfilters\n",
            "  Building wheel for pyrsistent (setup.py) ... \u001b[?25l\u001b[?25hdone\n",
            "  Created wheel for pyrsistent: filename=pyrsistent-0.17.3-cp37-cp37m-linux_x86_64.whl size=98071 sha256=c3264c8acc01088b1cb72937b17c1a8e14314324767a10447a48dfadb4bb6765\n",
            "  Stored in directory: /root/.cache/pip/wheels/a5/52/bf/71258a1d7b3c8cbe1ee53f9314c6f65f20385481eaee573cc5\n",
            "  Building wheel for pandocfilters (setup.py) ... \u001b[?25l\u001b[?25hdone\n",
            "  Created wheel for pandocfilters: filename=pandocfilters-1.4.3-py3-none-any.whl size=7992 sha256=44fb325144d926d917c99d282383a01c50b4ec7ebff4fcfec7bd0795f6d2be2b\n",
            "  Stored in directory: /root/.cache/pip/wheels/42/81/34/545dc2fbf0e9137811e901108d37fc04650e81d48f97078000\n",
            "Successfully built pyrsistent pandocfilters\n",
            "Installing collected packages: zipp, typing-extensions, ipython-genutils, traitlets, six, pyrsistent, importlib-metadata, attrs, wcwidth, tornado, pyzmq, python-dateutil, pyparsing, ptyprocess, parso, jupyter-core, jsonschema, webencodings, pygments, pycparser, prompt-toolkit, pickleshare, pexpect, packaging, nest-asyncio, nbformat, MarkupSafe, jupyter-client, jedi, decorator, backcall, async-generator, testpath, pandocfilters, nbclient, mistune, jupyterlab-pygments, jinja2, ipython, entrypoints, defusedxml, cffi, bleach, terminado, Send2Trash, prometheus-client, nbconvert, ipykernel, argon2-cffi, notebook, widgetsnbextension, qtpy, jupyterlab-widgets, qtconsole, pytz, pillow, numpy, llvmlite, kiwisolver, jupyter-console, ipywidgets, dill, cycler, SimpleITK, scipy, pandas, numba, multiprocess, matplotlib, jupyter\n",
            "Successfully installed MarkupSafe-1.1.1 Send2Trash-1.5.0 SimpleITK-2.0.2 argon2-cffi-20.1.0 async-generator-1.10 attrs-20.3.0 backcall-0.2.0 bleach-3.3.0 cffi-1.14.5 cycler-0.10.0 decorator-4.4.2 defusedxml-0.6.0 dill-0.3.3 entrypoints-0.3 importlib-metadata-3.7.0 ipykernel-5.5.0 ipython-7.21.0 ipython-genutils-0.2.0 ipywidgets-7.6.3 jedi-0.18.0 jinja2-2.11.3 jsonschema-3.2.0 jupyter-1.0.0 jupyter-client-6.1.11 jupyter-console-6.2.0 jupyter-core-4.7.1 jupyterlab-pygments-0.1.2 jupyterlab-widgets-1.0.0 kiwisolver-1.3.1 llvmlite-0.35.0 matplotlib-3.3.4 mistune-0.8.4 multiprocess-0.70.11.1 nbclient-0.5.3 nbconvert-6.0.7 nbformat-5.1.2 nest-asyncio-1.5.1 notebook-6.2.0 numba-0.52.0 numpy-1.20.1 packaging-20.9 pandas-1.2.2 pandocfilters-1.4.3 parso-0.8.1 pexpect-4.8.0 pickleshare-0.7.5 pillow-8.1.0 prometheus-client-0.9.0 prompt-toolkit-3.0.16 ptyprocess-0.7.0 pycparser-2.20 pygments-2.8.0 pyparsing-2.4.7 pyrsistent-0.17.3 python-dateutil-2.8.1 pytz-2021.1 pyzmq-22.0.3 qtconsole-5.0.2 qtpy-1.9.0 scipy-1.6.1 six-1.15.0 terminado-0.9.2 testpath-0.4.4 tornado-6.1 traitlets-5.0.5 typing-extensions-3.7.4.3 wcwidth-0.2.5 webencodings-0.5.1 widgetsnbextension-3.5.1 zipp-3.4.0\n"
          ],
          "name": "stdout"
        }
      ]
    },
    {
      "cell_type": "code",
      "metadata": {
        "colab": {
          "base_uri": "https://localhost:8080/"
        },
        "id": "p--5ZBi6uePo",
        "outputId": "cf6ad23c-1fbb-4c5a-e224-42e0523dde24"
      },
      "source": [
        "cd '/gdrive/MyDrive/SimpleITK-Notebooks/Python'"
      ],
      "execution_count": 5,
      "outputs": [
        {
          "output_type": "stream",
          "text": [
            "/gdrive/MyDrive/SimpleITK-Notebooks/Python\n"
          ],
          "name": "stdout"
        }
      ]
    },
    {
      "cell_type": "code",
      "metadata": {
        "colab": {
          "base_uri": "https://localhost:8080/"
        },
        "id": "BHlrqMzWukwy",
        "outputId": "dc95c3b6-b5e8-44b6-d1ad-dde1eb7c542b"
      },
      "source": [
        "pip install SimpleITK"
      ],
      "execution_count": 6,
      "outputs": [
        {
          "output_type": "stream",
          "text": [
            "Collecting SimpleITK\n",
            "  Using cached https://files.pythonhosted.org/packages/9c/6b/85df5eb3a8059b23a53a9f224476e75473f9bcc0a8583ed1a9c34619f372/SimpleITK-2.0.2-cp37-cp37m-manylinux2010_x86_64.whl\n",
            "Installing collected packages: SimpleITK\n",
            "Successfully installed SimpleITK-2.0.2\n"
          ],
          "name": "stdout"
        }
      ]
    },
    {
      "cell_type": "code",
      "metadata": {
        "colab": {
          "base_uri": "https://localhost:8080/"
        },
        "id": "YytwFDTzuqmP",
        "outputId": "0388aead-1c1c-4483-ace3-11f901a47b69"
      },
      "source": [
        "pip install ipywidgets"
      ],
      "execution_count": 7,
      "outputs": [
        {
          "output_type": "stream",
          "text": [
            "Requirement already satisfied: ipywidgets in /usr/local/lib/python3.7/dist-packages (7.6.3)\n",
            "Requirement already satisfied: ipykernel>=4.5.1 in /usr/local/lib/python3.7/dist-packages (from ipywidgets) (4.10.1)\n",
            "Requirement already satisfied: ipython>=4.0.0; python_version >= \"3.3\" in /usr/local/lib/python3.7/dist-packages (from ipywidgets) (5.5.0)\n",
            "Requirement already satisfied: jupyterlab-widgets>=1.0.0; python_version >= \"3.6\" in /usr/local/lib/python3.7/dist-packages (from ipywidgets) (1.0.0)\n",
            "Requirement already satisfied: traitlets>=4.3.1 in /usr/local/lib/python3.7/dist-packages (from ipywidgets) (5.0.5)\n",
            "Requirement already satisfied: widgetsnbextension~=3.5.0 in /usr/local/lib/python3.7/dist-packages (from ipywidgets) (3.5.1)\n",
            "Requirement already satisfied: nbformat>=4.2.0 in /usr/local/lib/python3.7/dist-packages (from ipywidgets) (5.1.2)\n",
            "Requirement already satisfied: jupyter-client in /usr/local/lib/python3.7/dist-packages (from ipykernel>=4.5.1->ipywidgets) (5.3.5)\n",
            "Requirement already satisfied: tornado>=4.0 in /usr/local/lib/python3.7/dist-packages (from ipykernel>=4.5.1->ipywidgets) (5.1.1)\n",
            "Requirement already satisfied: setuptools>=18.5 in /usr/local/lib/python3.7/dist-packages (from ipython>=4.0.0; python_version >= \"3.3\"->ipywidgets) (53.0.0)\n",
            "Requirement already satisfied: decorator in /usr/local/lib/python3.7/dist-packages (from ipython>=4.0.0; python_version >= \"3.3\"->ipywidgets) (4.4.2)\n",
            "Requirement already satisfied: simplegeneric>0.8 in /usr/local/lib/python3.7/dist-packages (from ipython>=4.0.0; python_version >= \"3.3\"->ipywidgets) (0.8.1)\n",
            "Requirement already satisfied: prompt-toolkit<2.0.0,>=1.0.4 in /usr/local/lib/python3.7/dist-packages (from ipython>=4.0.0; python_version >= \"3.3\"->ipywidgets) (1.0.18)\n",
            "Requirement already satisfied: pygments in /usr/local/lib/python3.7/dist-packages (from ipython>=4.0.0; python_version >= \"3.3\"->ipywidgets) (2.6.1)\n",
            "Requirement already satisfied: pickleshare in /usr/local/lib/python3.7/dist-packages (from ipython>=4.0.0; python_version >= \"3.3\"->ipywidgets) (0.7.5)\n",
            "Requirement already satisfied: pexpect; sys_platform != \"win32\" in /usr/local/lib/python3.7/dist-packages (from ipython>=4.0.0; python_version >= \"3.3\"->ipywidgets) (4.8.0)\n",
            "Requirement already satisfied: ipython-genutils in /usr/local/lib/python3.7/dist-packages (from traitlets>=4.3.1->ipywidgets) (0.2.0)\n",
            "Requirement already satisfied: notebook>=4.4.1 in /usr/local/lib/python3.7/dist-packages (from widgetsnbextension~=3.5.0->ipywidgets) (5.3.1)\n",
            "Requirement already satisfied: jupyter-core in /usr/local/lib/python3.7/dist-packages (from nbformat>=4.2.0->ipywidgets) (4.7.1)\n",
            "Requirement already satisfied: jsonschema!=2.5.0,>=2.4 in /usr/local/lib/python3.7/dist-packages (from nbformat>=4.2.0->ipywidgets) (2.6.0)\n",
            "Requirement already satisfied: python-dateutil>=2.1 in /usr/local/lib/python3.7/dist-packages (from jupyter-client->ipykernel>=4.5.1->ipywidgets) (2.8.1)\n",
            "Requirement already satisfied: pyzmq>=13 in /usr/local/lib/python3.7/dist-packages (from jupyter-client->ipykernel>=4.5.1->ipywidgets) (22.0.3)\n",
            "Requirement already satisfied: six>=1.9.0 in /usr/local/lib/python3.7/dist-packages (from prompt-toolkit<2.0.0,>=1.0.4->ipython>=4.0.0; python_version >= \"3.3\"->ipywidgets) (1.15.0)\n",
            "Requirement already satisfied: wcwidth in /usr/local/lib/python3.7/dist-packages (from prompt-toolkit<2.0.0,>=1.0.4->ipython>=4.0.0; python_version >= \"3.3\"->ipywidgets) (0.2.5)\n",
            "Requirement already satisfied: ptyprocess>=0.5 in /usr/local/lib/python3.7/dist-packages (from pexpect; sys_platform != \"win32\"->ipython>=4.0.0; python_version >= \"3.3\"->ipywidgets) (0.7.0)\n",
            "Requirement already satisfied: terminado>=0.8.1 in /usr/local/lib/python3.7/dist-packages (from notebook>=4.4.1->widgetsnbextension~=3.5.0->ipywidgets) (0.9.2)\n",
            "Requirement already satisfied: Send2Trash in /usr/local/lib/python3.7/dist-packages (from notebook>=4.4.1->widgetsnbextension~=3.5.0->ipywidgets) (1.5.0)\n",
            "Requirement already satisfied: nbconvert in /usr/local/lib/python3.7/dist-packages (from notebook>=4.4.1->widgetsnbextension~=3.5.0->ipywidgets) (5.6.1)\n",
            "Requirement already satisfied: jinja2 in /usr/local/lib/python3.7/dist-packages (from notebook>=4.4.1->widgetsnbextension~=3.5.0->ipywidgets) (2.11.3)\n",
            "Requirement already satisfied: entrypoints>=0.2.2 in /usr/local/lib/python3.7/dist-packages (from nbconvert->notebook>=4.4.1->widgetsnbextension~=3.5.0->ipywidgets) (0.3)\n",
            "Requirement already satisfied: bleach in /usr/local/lib/python3.7/dist-packages (from nbconvert->notebook>=4.4.1->widgetsnbextension~=3.5.0->ipywidgets) (3.3.0)\n",
            "Requirement already satisfied: mistune<2,>=0.8.1 in /usr/local/lib/python3.7/dist-packages (from nbconvert->notebook>=4.4.1->widgetsnbextension~=3.5.0->ipywidgets) (0.8.4)\n",
            "Requirement already satisfied: testpath in /usr/local/lib/python3.7/dist-packages (from nbconvert->notebook>=4.4.1->widgetsnbextension~=3.5.0->ipywidgets) (0.4.4)\n",
            "Requirement already satisfied: defusedxml in /usr/local/lib/python3.7/dist-packages (from nbconvert->notebook>=4.4.1->widgetsnbextension~=3.5.0->ipywidgets) (0.6.0)\n",
            "Requirement already satisfied: pandocfilters>=1.4.1 in /usr/local/lib/python3.7/dist-packages (from nbconvert->notebook>=4.4.1->widgetsnbextension~=3.5.0->ipywidgets) (1.4.3)\n",
            "Requirement already satisfied: MarkupSafe>=0.23 in /usr/local/lib/python3.7/dist-packages (from jinja2->notebook>=4.4.1->widgetsnbextension~=3.5.0->ipywidgets) (1.1.1)\n",
            "Requirement already satisfied: webencodings in /usr/local/lib/python3.7/dist-packages (from bleach->nbconvert->notebook>=4.4.1->widgetsnbextension~=3.5.0->ipywidgets) (0.5.1)\n",
            "Requirement already satisfied: packaging in /usr/local/lib/python3.7/dist-packages (from bleach->nbconvert->notebook>=4.4.1->widgetsnbextension~=3.5.0->ipywidgets) (20.9)\n",
            "Requirement already satisfied: pyparsing>=2.0.2 in /usr/local/lib/python3.7/dist-packages (from packaging->bleach->nbconvert->notebook>=4.4.1->widgetsnbextension~=3.5.0->ipywidgets) (2.4.7)\n"
          ],
          "name": "stdout"
        }
      ]
    },
    {
      "cell_type": "code",
      "metadata": {
        "colab": {
          "base_uri": "https://localhost:8080/"
        },
        "id": "4aJvQMvsuzuy",
        "outputId": "0f146d14-d663-42da-eb92-47635da9eccb"
      },
      "source": [
        "from google.colab import drive\r\n",
        "drive.mount('/gdrive')\r\n",
        "%cd /gdrive"
      ],
      "execution_count": 8,
      "outputs": [
        {
          "output_type": "stream",
          "text": [
            "Drive already mounted at /gdrive; to attempt to forcibly remount, call drive.mount(\"/gdrive\", force_remount=True).\n",
            "/gdrive\n"
          ],
          "name": "stdout"
        }
      ]
    },
    {
      "cell_type": "code",
      "metadata": {
        "colab": {
          "base_uri": "https://localhost:8080/"
        },
        "id": "3e94670wvJOL",
        "outputId": "0d65cd6c-b3c2-4b8c-f7d9-e82b056b77f8"
      },
      "source": [
        "%ls -ltr '/gdrive/MyDrive/Fiji.app/ImageJ-linux64'"
      ],
      "execution_count": 9,
      "outputs": [
        {
          "output_type": "stream",
          "text": [
            "-rw------- 1 root root 90243 Feb 27 18:15 /gdrive/MyDrive/Fiji.app/ImageJ-linux64\n"
          ],
          "name": "stdout"
        }
      ]
    },
    {
      "cell_type": "code",
      "metadata": {
        "colab": {
          "base_uri": "https://localhost:8080/"
        },
        "id": "EPoWLA76msQ4",
        "outputId": "489b8011-950b-4224-e7fe-740c55a0f792"
      },
      "source": [
        "!pip install itk\r\n",
        "\r\n",
        "#!~/sitkpy/bin/pip install ITK"
      ],
      "execution_count": 10,
      "outputs": [
        {
          "output_type": "stream",
          "text": [
            "Collecting itk\n",
            "  Downloading https://files.pythonhosted.org/packages/3e/0e/13b23943e30281de56d49b9dba4b1e5278078655405d466ae429c141da09/itk-5.1.2-cp37-cp37m-manylinux1_x86_64.whl\n",
            "Collecting itk-segmentation==5.1.2\n",
            "\u001b[?25l  Downloading https://files.pythonhosted.org/packages/fd/9b/958de177ee6460d5fa210a8126d3af96947ad365473024a3d20309eda8a1/itk_segmentation-5.1.2-cp37-cp37m-manylinux1_x86_64.whl (10.3MB)\n",
            "\u001b[K     |████████████████████████████████| 10.3MB 4.5MB/s \n",
            "\u001b[?25hCollecting itk-io==5.1.2\n",
            "\u001b[?25l  Downloading https://files.pythonhosted.org/packages/1f/cf/d3d0c450e8ca2f265e34e66ab0c9af35d9c5e5c40a8653a12ebc672ddac6/itk_io-5.1.2-cp37-cp37m-manylinux1_x86_64.whl (14.0MB)\n",
            "\u001b[K     |████████████████████████████████| 14.0MB 20.3MB/s \n",
            "\u001b[?25hCollecting itk-core==5.1.2\n",
            "\u001b[?25l  Downloading https://files.pythonhosted.org/packages/45/58/c4298e4470dc0d91900efb29a762de44da7f8051d7428476aa22eb1dfd24/itk_core-5.1.2-cp37-cp37m-manylinux1_x86_64.whl (50.1MB)\n",
            "\u001b[K     |████████████████████████████████| 50.1MB 77kB/s \n",
            "\u001b[?25hCollecting itk-numerics==5.1.2\n",
            "\u001b[?25l  Downloading https://files.pythonhosted.org/packages/10/c3/476b9c06b0003c509cb9f8da947f90dffd23700b72d36b5589c65d17c60f/itk_numerics-5.1.2-cp37-cp37m-manylinux1_x86_64.whl (36.3MB)\n",
            "\u001b[K     |████████████████████████████████| 36.3MB 76kB/s \n",
            "\u001b[?25hCollecting itk-registration==5.1.2\n",
            "\u001b[?25l  Downloading https://files.pythonhosted.org/packages/27/7a/7fde6cd47ddb5cb9f065313d26507cd723c6c4c3763e28875b1a19f718bf/itk_registration-5.1.2-cp37-cp37m-manylinux1_x86_64.whl (14.4MB)\n",
            "\u001b[K     |████████████████████████████████| 14.4MB 24.6MB/s \n",
            "\u001b[?25hCollecting itk-filtering==5.1.2\n",
            "\u001b[?25l  Downloading https://files.pythonhosted.org/packages/27/a4/3ef76dff4b91059cbb0a4b38221e4030a9476daa4f9f783e05300a46d9c0/itk_filtering-5.1.2-cp37-cp37m-manylinux1_x86_64.whl (68.0MB)\n",
            "\u001b[K     |████████████████████████████████| 68.0MB 62kB/s \n",
            "\u001b[?25hRequirement already satisfied: numpy in /usr/local/lib/python3.7/dist-packages (from itk) (1.19.5)\n",
            "Installing collected packages: itk-core, itk-numerics, itk-filtering, itk-segmentation, itk-io, itk-registration, itk\n",
            "Successfully installed itk-5.1.2 itk-core-5.1.2 itk-filtering-5.1.2 itk-io-5.1.2 itk-numerics-5.1.2 itk-registration-5.1.2 itk-segmentation-5.1.2\n"
          ],
          "name": "stdout"
        }
      ]
    },
    {
      "cell_type": "code",
      "metadata": {
        "colab": {
          "base_uri": "https://localhost:8080/"
        },
        "id": "NCecKYAQvW75",
        "outputId": "a8c88b7a-4ac2-4e72-a588-2487c3886f63"
      },
      "source": [
        "!echo $PATH"
      ],
      "execution_count": 11,
      "outputs": [
        {
          "output_type": "stream",
          "text": [
            "/usr/local/nvidia/bin:/usr/local/cuda/bin:/usr/local/sbin:/usr/local/bin:/usr/sbin:/usr/bin:/sbin:/bin:/tools/node/bin:/tools/google-cloud-sdk/bin:/opt/bin\n"
          ],
          "name": "stdout"
        }
      ]
    },
    {
      "cell_type": "code",
      "metadata": {
        "colab": {
          "base_uri": "https://localhost:8080/"
        },
        "id": "HLwABwchvZyQ",
        "outputId": "47414689-80ca-4267-edf8-a8cc6acc828d"
      },
      "source": [
        "import os\r\n",
        "#os.environ['PYTHONPATH'] += \":/content/gdrive/My Drive/Colab Notebooks/MNIST_Classifier/src\"\r\n",
        "os.environ['PATH'] += \":/content/gdrive/My Drive/Fiji.app\"\r\n",
        "! echo $PATH"
      ],
      "execution_count": 12,
      "outputs": [
        {
          "output_type": "stream",
          "text": [
            "/usr/local/nvidia/bin:/usr/local/cuda/bin:/usr/local/sbin:/usr/local/bin:/usr/sbin:/usr/bin:/sbin:/bin:/tools/node/bin:/tools/google-cloud-sdk/bin:/opt/bin:/content/gdrive/My Drive/Fiji.app\n"
          ],
          "name": "stdout"
        }
      ]
    },
    {
      "cell_type": "code",
      "metadata": {
        "colab": {
          "base_uri": "https://localhost:8080/"
        },
        "id": "xRoYeHWZvpHv",
        "outputId": "53c31c29-3af2-486d-fb49-0cee9d07fc0c"
      },
      "source": [
        "cd '/gdrive/MyDrive/SimpleITK-Notebooks/Python'"
      ],
      "execution_count": 13,
      "outputs": [
        {
          "output_type": "stream",
          "text": [
            "/gdrive/MyDrive/SimpleITK-Notebooks/Python\n"
          ],
          "name": "stdout"
        }
      ]
    },
    {
      "cell_type": "code",
      "metadata": {
        "colab": {
          "base_uri": "https://localhost:8080/"
        },
        "id": "DavE8JA9vfGP",
        "outputId": "419afea7-0da6-47df-e5c5-0a843b394c3e"
      },
      "source": [
        "import SimpleITK as sitk\r\n",
        "\r\n",
        "%run update_path_to_download_script\r\n",
        "from downloaddata import fetch_data, fetch_data_all\r\n",
        "\r\n",
        "from ipywidgets import interact\r\n",
        "\r\n",
        "print(sitk.Version())"
      ],
      "execution_count": 14,
      "outputs": [
        {
          "output_type": "stream",
          "text": [
            "SimpleITK Version: 2.0.2 (ITK 5.1)\n",
            "Compiled: Dec  1 2020 22:01:03\n",
            "\n"
          ],
          "name": "stdout"
        }
      ]
    },
    {
      "cell_type": "code",
      "metadata": {
        "colab": {
          "base_uri": "https://localhost:8080/"
        },
        "id": "FTXVQciyoKvh",
        "outputId": "c957e240-3b91-48fa-b8d6-59089634b1ed"
      },
      "source": [
        "cd /usr/local/"
      ],
      "execution_count": 15,
      "outputs": [
        {
          "output_type": "stream",
          "text": [
            "/usr/local\n"
          ],
          "name": "stdout"
        }
      ]
    },
    {
      "cell_type": "code",
      "metadata": {
        "id": "deJq4jlhNH4D"
      },
      "source": [
        "import shutil"
      ],
      "execution_count": 16,
      "outputs": []
    },
    {
      "cell_type": "code",
      "metadata": {
        "colab": {
          "base_uri": "https://localhost:8080/"
        },
        "id": "IXEeK9p3Nxw2",
        "outputId": "faa02da7-5df5-4822-9262-11802b9d3a35"
      },
      "source": [
        "%ls /gdrive/MyDrive/"
      ],
      "execution_count": 17,
      "outputs": [
        {
          "output_type": "stream",
          "text": [
            "\u001b[0m\u001b[01;34m'Colab Notebooks'\u001b[0m/                      \u001b[01;34mSimpleITK_ISBI2020_TUTORIAL\u001b[0m/\n",
            " \u001b[01;34mFiji.app\u001b[0m/                              SimpleITK.jpg\n",
            " fiji-linux64-20170530.zip              \u001b[01;34mSimpleITK-Notebooks\u001b[0m/\n",
            " \u001b[01;34mMyNiftyRec\u001b[0m/                            unnamed.png\n",
            " \u001b[01;34mMyTomoLab\u001b[0m/                            'Untitled project.gscript'\n",
            " pyjnius-1.2.0-py37h90b5fae_0.tar.bz2\n"
          ],
          "name": "stdout"
        }
      ]
    },
    {
      "cell_type": "code",
      "metadata": {
        "colab": {
          "base_uri": "https://localhost:8080/",
          "height": 35
        },
        "id": "SYIjTMImNL_i",
        "outputId": "74970e66-7b39-431d-c000-a873e17d2402"
      },
      "source": [
        "shutil.copyfile('/gdrive/MyDrive/fiji-linux64-20170530.zip', '/usr/local/fiji-linux64-20170530.zip')"
      ],
      "execution_count": 18,
      "outputs": [
        {
          "output_type": "execute_result",
          "data": {
            "application/vnd.google.colaboratory.intrinsic+json": {
              "type": "string"
            },
            "text/plain": [
              "'/usr/local/fiji-linux64-20170530.zip'"
            ]
          },
          "metadata": {
            "tags": []
          },
          "execution_count": 18
        }
      ]
    },
    {
      "cell_type": "code",
      "metadata": {
        "colab": {
          "base_uri": "https://localhost:8080/"
        },
        "id": "LL9jXhvYOFj6",
        "outputId": "c7a35109-1a65-4eae-c962-f65153accd41"
      },
      "source": [
        "cd /usr/local"
      ],
      "execution_count": 19,
      "outputs": [
        {
          "output_type": "stream",
          "text": [
            "/usr/local\n"
          ],
          "name": "stdout"
        }
      ]
    },
    {
      "cell_type": "code",
      "metadata": {
        "colab": {
          "base_uri": "https://localhost:8080/"
        },
        "id": "KfItb5HPpSHW",
        "outputId": "e6f33452-ae4b-4734-a05d-294a88f19f7d"
      },
      "source": [
        "!unzip ./fiji-linux64-20170530.zip"
      ],
      "execution_count": 20,
      "outputs": [
        {
          "output_type": "stream",
          "text": [
            "Archive:  ./fiji-linux64-20170530.zip\n",
            "  inflating: Fiji.app/db.xml.gz      \n",
            "  inflating: Fiji.app/Contents/Info.plist  \n",
            "  inflating: Fiji.app/Contents/Resources/Fiji.icns  \n",
            "  inflating: Fiji.app/Contents/Resources/ImageJ.icns  \n",
            "  inflating: Fiji.app/ImageJ-linux64  \n",
            "  inflating: Fiji.app/plugins/3D_Blob_Segmentation-3.0.0.jar  \n",
            "  inflating: Fiji.app/plugins/3D_Objects_Counter-2.0.0.jar  \n",
            "  inflating: Fiji.app/plugins/3D_Viewer-4.0.1.jar  \n",
            "  inflating: Fiji.app/plugins/Algorithm_Launcher.jar  \n",
            "  inflating: Fiji.app/plugins/Analyze/Dynamic_ROI_Profiler.clj  \n",
            "  inflating: Fiji.app/plugins/Analyze/Measure_RGB.txt  \n",
            "  inflating: Fiji.app/plugins/AnalyzeSkeleton_-3.1.2.jar  \n",
            "  inflating: Fiji.app/plugins/Anisotropic_Diffusion_2D-2.0.0.jar  \n",
            "  inflating: Fiji.app/plugins/Archipelago_Plugins-0.5.2.jar  \n",
            "  inflating: Fiji.app/plugins/Arrow_-2.0.1.jar  \n",
            "  inflating: Fiji.app/plugins/Auto_Threshold-1.16.4.jar  \n",
            "  inflating: Fiji.app/plugins/BalloonSegmentation_-3.0.0.jar  \n",
            "  inflating: Fiji.app/plugins/BeanShell_Interpreter-2.0.0-SNAPSHOT.jar  \n",
            "  inflating: Fiji.app/plugins/Bug_Submitter-2.1.0.jar  \n",
            "  inflating: Fiji.app/plugins/CLI_-2.0.0-SNAPSHOT.jar  \n",
            "  inflating: Fiji.app/plugins/CPU_Meter-2.0.0.jar  \n",
            "  inflating: Fiji.app/plugins/Calculator_Plus-2.0.0.jar  \n",
            "  inflating: Fiji.app/plugins/Cell_Counter-2.2.1.jar  \n",
            "  inflating: Fiji.app/plugins/Clojure_Interpreter-2.0.0-SNAPSHOT.jar  \n",
            "  inflating: Fiji.app/plugins/Colocalisation_Analysis-3.0.0.jar  \n",
            "  inflating: Fiji.app/plugins/Color_Histogram-2.0.6.jar  \n",
            "  inflating: Fiji.app/plugins/Color_Inspector_3D-2.3.1.jar  \n",
            "  inflating: Fiji.app/plugins/Colour_Deconvolution-3.0.1.jar  \n",
            "  inflating: Fiji.app/plugins/CorrectBleach_-2.0.1.jar  \n",
            "  inflating: Fiji.app/plugins/Correct_3D_Drift-1.0.0.jar  \n",
            "  inflating: Fiji.app/plugins/Descriptor_based_registration-2.1.1.jar  \n",
            "  inflating: Fiji.app/plugins/Dichromacy_-2.1.0.jar  \n",
            "  inflating: Fiji.app/plugins/Directionality_-2.0.1.jar  \n",
            "  inflating: Fiji.app/plugins/Examples/Add_Popup_Split_Channels.bsh  \n",
            "  inflating: Fiji.app/plugins/Examples/Anaglyph_for_Red_Cyan_glasses.rb  \n",
            "  inflating: Fiji.app/plugins/Examples/Blobs_Demo_in_Ruby.rb  \n",
            "  inflating: Fiji.app/plugins/Examples/Command_Launchers/Command_Launcher_BeanShell.bsh  \n",
            "  inflating: Fiji.app/plugins/Examples/Command_Launchers/Command_Launcher_Clojure.clj  \n",
            "  inflating: Fiji.app/plugins/Examples/Command_Launchers/Command_Launcher_Javascript.js  \n",
            "  inflating: Fiji.app/plugins/Examples/Command_Launchers/Command_Launcher_Python.py  \n",
            "  inflating: Fiji.app/plugins/Examples/Command_Launchers/Command_Launcher_Ruby.rb  \n",
            "  inflating: Fiji.app/plugins/Examples/CoverMaker/Cover_Maker.py  \n",
            "  inflating: Fiji.app/plugins/Examples/CoverMaker/Prepare_Cover_Maker_Database.py  \n",
            "  inflating: Fiji.app/plugins/Examples/Delayed_Snapshot.py  \n",
            "  inflating: Fiji.app/plugins/Examples/Delayed_Snapshot_Window.bsh  \n",
            "  inflating: Fiji.app/plugins/Examples/Edit_LUT_As_Text.py  \n",
            "  inflating: Fiji.app/plugins/Examples/Extended_Profile_Plot.bsh  \n",
            "  inflating: Fiji.app/plugins/Examples/Fiji_Cube.ijm  \n",
            "  inflating: Fiji.app/plugins/Examples/Fiji_Logo_3D.js  \n",
            "  inflating: Fiji.app/plugins/Examples/Find_Dimension_of_Raw_Image.py  \n",
            "  inflating: Fiji.app/plugins/Examples/Image_To_Tool_Icon.bsh  \n",
            "  inflating: Fiji.app/plugins/Examples/Multithreaded_Image_Processing.clj  \n",
            "  inflating: Fiji.app/plugins/Examples/Multithreaded_Image_Processing_in_Javascript.js  \n",
            "  inflating: Fiji.app/plugins/Examples/Plasma_Cloud.rb  \n",
            "  inflating: Fiji.app/plugins/Examples/Same_Slice_in_Multiple_Images.rb  \n",
            "  inflating: Fiji.app/plugins/Examples/The_Hue_Game.bsh  \n",
            "  inflating: Fiji.app/plugins/Examples/TrakEM2_Example_Scripts/Homogenize_Ball_Radius.py  \n",
            "  inflating: Fiji.app/plugins/Examples/TrakEM2_Example_Scripts/Measure_AreaLists.py  \n",
            "  inflating: Fiji.app/plugins/Examples/TrakEM2_Example_Scripts/T2_Select_All.py  \n",
            "  inflating: Fiji.app/plugins/Examples/TrakEM2_Example_Scripts/T2_set_all_transforms_to_identity.py  \n",
            "  inflating: Fiji.app/plugins/Examples/TrakEM2_Example_Scripts/extract_stack_under_arealist.py  \n",
            "  inflating: Fiji.app/plugins/Examples/blend_two_images.clj  \n",
            "  inflating: Fiji.app/plugins/Examples/celsius_to_fahrenheit.clj  \n",
            "  inflating: Fiji.app/plugins/Examples/chess_.py  \n",
            "  inflating: Fiji.app/plugins/Examples/compose_rgb-stacks.bsh  \n",
            "  inflating: Fiji.app/plugins/Examples/downsample_.js  \n",
            "  inflating: Fiji.app/plugins/Examples/list_all_threads.py  \n",
            "  inflating: Fiji.app/plugins/Examples/random_noise_example.clj  \n",
            "  inflating: Fiji.app/plugins/FS_Align_TrakEM2-2.0.1.jar  \n",
            "  inflating: Fiji.app/plugins/Feature_Detection-2.0.1.jar  \n",
            "  inflating: Fiji.app/plugins/Fiji_Archipelago-2.0.0.jar  \n",
            "  inflating: Fiji.app/plugins/Fiji_Developer-2.0.5.jar  \n",
            "  inflating: Fiji.app/plugins/Fiji_Package_Maker-2.1.0.jar  \n",
            "  inflating: Fiji.app/plugins/Fiji_Plugins-3.1.0.jar  \n",
            "  inflating: Fiji.app/plugins/Fiji_Updater.jar  \n",
            "  inflating: Fiji.app/plugins/FlowJ_-1.29.2.jar  \n",
            "  inflating: Fiji.app/plugins/Graph_Cut-1.0.1.jar  \n",
            "  inflating: Fiji.app/plugins/Gray_Morphology-2.3.3.jar  \n",
            "  inflating: Fiji.app/plugins/H5J_Loader_Plugin-1.0.6.jar  \n",
            "  inflating: Fiji.app/plugins/Helmholtz_Analysis-2.0.1.jar  \n",
            "  inflating: Fiji.app/plugins/IJ_Robot-2.0.0.jar  \n",
            "  inflating: Fiji.app/plugins/IO_-3.0.1.jar  \n",
            "  inflating: Fiji.app/plugins/Image_5D-2.0.1.jar  \n",
            "  inflating: Fiji.app/plugins/Image_Expression_Parser-3.0.0.jar  \n",
            "  inflating: Fiji.app/plugins/Interactive_3D_Surface_Plot-2.4.1.jar  \n",
            "  inflating: Fiji.app/plugins/IsoData_Classifier-2.0.0.jar  \n",
            "  inflating: Fiji.app/plugins/JRuby/imagej.rb  \n",
            "  inflating: Fiji.app/plugins/JRuby_Interpreter-2.0.0-SNAPSHOT.jar  \n",
            "  inflating: Fiji.app/plugins/Javascript_-2.0.0-SNAPSHOT.jar  \n",
            "  inflating: Fiji.app/plugins/Jython_Interpreter-2.0.0-SNAPSHOT.jar  \n",
            "  inflating: Fiji.app/plugins/Kuwahara_Filter-2.0.0.jar  \n",
            "  inflating: Fiji.app/plugins/KymographBuilder-1.2.3.jar  \n",
            "  inflating: Fiji.app/plugins/LSM_Reader-4.1.1.jar  \n",
            "  inflating: Fiji.app/plugins/LSM_Toolbox-4.1.1.jar  \n",
            "  inflating: Fiji.app/plugins/Lasso_and_Blow_Tool-2.0.1.jar  \n",
            "  inflating: Fiji.app/plugins/Linear_Kuwahara-2.0.0.jar  \n",
            "  inflating: Fiji.app/plugins/LocalThickness_-4.0.1.jar  \n",
            "  inflating: Fiji.app/plugins/MTrack2_-2.0.0.jar  \n",
            "  inflating: Fiji.app/plugins/M_I_P-2.0.0.jar  \n",
            "  inflating: Fiji.app/plugins/Macros/About_Plugin_Macros.txt  \n",
            "  inflating: Fiji.app/plugins/Macros/Bulls_Eye.txt  \n",
            "  inflating: Fiji.app/plugins/Macros/Polygon_.txt  \n",
            "  inflating: Fiji.app/plugins/Macros/RGB_Histogram.txt  \n",
            "  inflating: Fiji.app/plugins/Macros/batch_convert_any_to_tif.txt  \n",
            "  inflating: Fiji.app/plugins/Manual_Tracking-2.1.0.jar  \n",
            "  inflating: Fiji.app/plugins/Multi_Kymograph-3.0.0.jar  \n",
            "  inflating: Fiji.app/plugins/PIV_analyser-1.1.1.jar  \n",
            "  inflating: Fiji.app/plugins/QuickPALM_-1.1.1.jar  \n",
            "  inflating: Fiji.app/plugins/RATS_-2.0.0.jar  \n",
            "  inflating: Fiji.app/plugins/Reconstruct_Reader-2.0.2.jar  \n",
            "  inflating: Fiji.app/plugins/Refresh_Javas-2.0.0-SNAPSHOT.jar  \n",
            "  inflating: Fiji.app/plugins/SPIM_Opener-2.0.1.jar  \n",
            "  inflating: Fiji.app/plugins/SPIM_Registration-5.0.13.jar  \n",
            "  inflating: Fiji.app/plugins/Samples_-2.0.1.jar  \n",
            "  inflating: Fiji.app/plugins/Scripts/File/Fix_Funny_Filenames.ijm  \n",
            "  inflating: Fiji.app/plugins/Scripts/File/Make_Screencast.bsh  \n",
            "  inflating: Fiji.app/plugins/Scripts/File/Open_Samples/Adelsons_Squares.ijm  \n",
            "  inflating: Fiji.app/plugins/Scripts/File/Open_Samples/Comparing_Lengths.ijm  \n",
            "  inflating: Fiji.app/plugins/Scripts/File/Open_Samples/Spirals_.ijm  \n",
            "  inflating: Fiji.app/plugins/Scripts/File/Open_Samples/Straight_Lines.ijm  \n",
            "  inflating: Fiji.app/plugins/Scripts/File/Open_Samples/Striped_Circles.ijm  \n",
            "  inflating: Fiji.app/plugins/Scripts/Image/Adjust/Scale_to_DPI.js  \n",
            "  inflating: Fiji.app/plugins/Scripts/Image/Color/Set_Color_By_Wavelength.ijm  \n",
            "  inflating: Fiji.app/plugins/Scripts/Image/Hyperstacks/Temporal-Color_Code.ijm  \n",
            "  inflating: Fiji.app/plugins/Scripts/Plugins/Utilities/Create_Desktop_Icon.bsh  \n",
            "  inflating: Fiji.app/plugins/Scripts/Plugins/Utilities/Find_Jar_For_Class.bsh  \n",
            "  inflating: Fiji.app/plugins/Scripts/Plugins/Utilities/Record_Desktop.py  \n",
            "  inflating: Fiji.app/plugins/Scripts/Plugins/Utilities/Record_Window.py  \n",
            "  inflating: Fiji.app/plugins/Series_Labeler-2.0.0.jar  \n",
            "  inflating: Fiji.app/plugins/Sholl_Analysis-3.6.13.jar  \n",
            "  inflating: Fiji.app/plugins/Simple_Neurite_Tracer-3.1.1.jar  \n",
            "  inflating: Fiji.app/plugins/Siox_Segmentation-1.0.4.jar  \n",
            "  inflating: Fiji.app/plugins/Skeletonize3D_-2.1.0.jar  \n",
            "  inflating: Fiji.app/plugins/SplineDeformationGenerator_-2.0.0.jar  \n",
            "  inflating: Fiji.app/plugins/Stack_Manipulation-2.0.1.jar  \n",
            "  inflating: Fiji.app/plugins/Statistical_Region_Merging-2.0.0.jar  \n",
            "  inflating: Fiji.app/plugins/Stitching_-3.1.1.jar  \n",
            "  inflating: Fiji.app/plugins/Sync_Win-1.7-fiji3.jar  \n",
            "  inflating: Fiji.app/plugins/Thread_Killer-2.0.0.jar  \n",
            "  inflating: Fiji.app/plugins/Time_Lapse-2.0.1.jar  \n",
            "  inflating: Fiji.app/plugins/Time_Stamper-2.0.0.jar  \n",
            "  inflating: Fiji.app/plugins/ToAST_-25.0.1.jar  \n",
            "  inflating: Fiji.app/plugins/TopoJ_-2.0.0.jar  \n",
            "  inflating: Fiji.app/plugins/TrackMate_-3.4.2.jar  \n",
            "  inflating: Fiji.app/plugins/Trainable_Segmentation-3.2.11.jar  \n",
            "  inflating: Fiji.app/plugins/TrakEM2_-1.0h.jar  \n",
            "  inflating: Fiji.app/plugins/TrakEM2_Archipelago-2.0.1.jar  \n",
            "  inflating: Fiji.app/plugins/Utilities/Close_All_Without_Saving.txt  \n",
            "  inflating: Fiji.app/plugins/VIB_-3.0.1.jar  \n",
            "  inflating: Fiji.app/plugins/Vaa3d_Reader-2.0.1.jar  \n",
            "  inflating: Fiji.app/plugins/Vaa3d_Writer-1.0.1.jar  \n",
            "  inflating: Fiji.app/plugins/Video_Editing-2.0.0.jar  \n",
            "  inflating: Fiji.app/plugins/View5D_-1.3.1.jar  \n",
            "  inflating: Fiji.app/plugins/Volume_Calculator-2.0.1.jar  \n",
            "  inflating: Fiji.app/plugins/Volume_Viewer-2.01.1.jar  \n",
            "  inflating: Fiji.app/plugins/bUnwarpJ_-2.6.8.jar  \n",
            "  inflating: Fiji.app/plugins/bigdataviewer_fiji-3.0.0.jar  \n",
            "  inflating: Fiji.app/plugins/bigwarp_fiji-2.1.5.jar  \n",
            "  inflating: Fiji.app/plugins/bio-formats_plugins-5.5.1.jar  \n",
            "  inflating: Fiji.app/plugins/blockmatching_-2.1.1.jar  \n",
            "  inflating: Fiji.app/plugins/ij-ImageIO_.jar  \n",
            "  inflating: Fiji.app/plugins/level_sets-1.0.1.jar  \n",
            "  inflating: Fiji.app/plugins/mpicbg_-1.1.1.jar  \n",
            "  inflating: Fiji.app/plugins/panorama_-3.0.1.jar  \n",
            "  inflating: Fiji.app/plugins/readme.txt  \n",
            "  inflating: Fiji.app/plugins/register_virtual_stack_slices-3.0.1.jar  \n",
            "  inflating: Fiji.app/plugins/registration_3d-2.0.0.jar  \n",
            "  inflating: Fiji.app/plugins/trakem2_tps-1.1.2.jar  \n",
            "  inflating: Fiji.app/plugins/z_spacing-0.0.1-SNAPSHOT.jar  \n",
            "  inflating: Fiji.app/jars/JWlz-1.4.0.jar  \n",
            "  inflating: Fiji.app/jars/T2-NIT-1.1.1.jar  \n",
            "  inflating: Fiji.app/jars/T2-TreelineGraph-1.1.1.jar  \n",
            "  inflating: Fiji.app/jars/VIB-lib-2.1.1.jar  \n",
            "  inflating: Fiji.app/jars/VectorString-2.0.0.jar  \n",
            "  inflating: Fiji.app/jars/ahocorasick-0.2.4.jar  \n",
            "  inflating: Fiji.app/jars/ant-junit.jar  \n",
            "  inflating: Fiji.app/jars/ant-launcher.jar  \n",
            "  inflating: Fiji.app/jars/ant-nodeps.jar  \n",
            "  inflating: Fiji.app/jars/ant.jar   \n",
            "  inflating: Fiji.app/jars/args4j-2.0.25.jar  \n",
            "  inflating: Fiji.app/jars/asm-4.0.jar  \n",
            "  inflating: Fiji.app/jars/asm-analysis-4.0.jar  \n",
            "  inflating: Fiji.app/jars/asm-commons-4.0.jar  \n",
            "  inflating: Fiji.app/jars/asm-tree-4.0.jar  \n",
            "  inflating: Fiji.app/jars/asm-util-4.0.jar  \n",
            "  inflating: Fiji.app/jars/autocomplete-2.5.8.jar  \n",
            "  inflating: Fiji.app/jars/base64-2.3.8.jar  \n",
            "  inflating: Fiji.app/jars/batik-1.8.jar  \n",
            "  inflating: Fiji.app/jars/batik-anim-1.8.jar  \n",
            "  inflating: Fiji.app/jars/batik-awt-util-1.8.jar  \n",
            "  inflating: Fiji.app/jars/batik-bridge-1.8.jar  \n",
            "  inflating: Fiji.app/jars/batik-css-1.8.jar  \n",
            "  inflating: Fiji.app/jars/batik-dom-1.8.jar  \n",
            "  inflating: Fiji.app/jars/batik-ext-1.8.jar  \n",
            "  inflating: Fiji.app/jars/batik-gvt-1.8.jar  \n",
            "  inflating: Fiji.app/jars/batik-parser-1.8.jar  \n",
            "  inflating: Fiji.app/jars/batik-script-1.8.jar  \n",
            "  inflating: Fiji.app/jars/batik-svg-dom-1.8.jar  \n",
            "  inflating: Fiji.app/jars/batik-svggen-1.8.jar  \n",
            "  inflating: Fiji.app/jars/batik-util-1.8.jar  \n",
            "  inflating: Fiji.app/jars/batik-xml-1.8.jar  \n",
            "  inflating: Fiji.app/jars/bcmail-jdk14-138.jar  \n",
            "  inflating: Fiji.app/jars/bcprov-jdk14-138.jar  \n",
            "  inflating: Fiji.app/jars/bigdataviewer-core-3.0.3.jar  \n",
            "  inflating: Fiji.app/jars/bigdataviewer-vistools-1.0.0-beta-4.jar  \n",
            "  inflating: Fiji.app/jars/bio-formats/formats-api-5.5.1.jar  \n",
            "  inflating: Fiji.app/jars/bio-formats/formats-bsd-5.5.1.jar  \n",
            "  inflating: Fiji.app/jars/bio-formats/formats-common-5.1.10.jar  \n",
            "  inflating: Fiji.app/jars/bio-formats/formats-gpl-5.5.1.jar  \n",
            "  inflating: Fiji.app/jars/bio-formats/jai_imageio-5.5.1.jar  \n",
            "  inflating: Fiji.app/jars/bio-formats/jxrlib-all-0.2.1.jar  \n",
            "  inflating: Fiji.app/jars/bio-formats/mdbtools-java-5.1.10.jar  \n",
            "  inflating: Fiji.app/jars/bio-formats/metakit-5.3.0.jar  \n",
            "  inflating: Fiji.app/jars/bio-formats/ome-common-5.3.1.jar  \n",
            "  inflating: Fiji.app/jars/bio-formats/ome-mdbtools-5.3.0.jar  \n",
            "  inflating: Fiji.app/jars/bio-formats/ome-poi-5.3.1.jar  \n",
            "  inflating: Fiji.app/jars/bio-formats/ome-xml-5.4.0.jar  \n",
            "  inflating: Fiji.app/jars/bio-formats/specification-5.4.0.jar  \n",
            "  inflating: Fiji.app/jars/bio-formats/turbojpeg-5.5.1.jar  \n",
            "  inflating: Fiji.app/jars/blas-0.8.jar  \n",
            "  inflating: Fiji.app/jars/bsh-2.0b6.jar  \n",
            "  inflating: Fiji.app/jars/bytelist-1.0.11.jar  \n",
            "  inflating: Fiji.app/jars/clojure-1.8.0.jar  \n",
            "  inflating: Fiji.app/jars/codemodel-2.6.jar  \n",
            "  inflating: Fiji.app/jars/collections-generic-4.01.jar  \n",
            "  inflating: Fiji.app/jars/commons-codec-1.8.jar  \n",
            "  inflating: Fiji.app/jars/commons-compress-1.4.1.jar  \n",
            "  inflating: Fiji.app/jars/commons-lang3-3.1.jar  \n",
            "  inflating: Fiji.app/jars/commons-logging-1.1.1.jar  \n",
            "  inflating: Fiji.app/jars/commons-math-2.2.jar  \n",
            "  inflating: Fiji.app/jars/commons-math3-3.6.1.jar  \n",
            "  inflating: Fiji.app/jars/commons-vfs2-2.0.jar  \n",
            "  inflating: Fiji.app/jars/datasets-0.8.1906.jar  \n",
            "  inflating: Fiji.app/jars/ejml-0.24.jar  \n",
            "  inflating: Fiji.app/jars/eventbus-1.4.jar  \n",
            "  inflating: Fiji.app/jars/f2jutil-0.8.jar  \n",
            "  inflating: Fiji.app/jars/fake-2.0.0-SNAPSHOT.jar  \n",
            "  inflating: Fiji.app/jars/ffmpeg-2.6.1-0.11.jar  \n",
            "  inflating: Fiji.app/jars/fiji-2.0.0-SNAPSHOT.jar  \n",
            "  inflating: Fiji.app/jars/fiji-compat-2.0.2.jar  \n",
            "  inflating: Fiji.app/jars/fiji-lib-2.1.1.jar  \n",
            "  inflating: Fiji.app/jars/fiji-scripting-2.0.0-SNAPSHOT.jar  \n",
            "  inflating: Fiji.app/jars/filters-2.0.235.jar  \n",
            "  inflating: Fiji.app/jars/gcc-runtime-0.8.1906.jar  \n",
            "  inflating: Fiji.app/jars/gentyref-1.1.0.jar  \n",
            "  inflating: Fiji.app/jars/gluegen-rt-2.3.2.jar  \n",
            "  inflating: Fiji.app/jars/gluegen-rt-main-2.3.2.jar  \n",
            "  inflating: Fiji.app/jars/grDevices-0.8.1906.jar  \n",
            "  inflating: Fiji.app/jars/graphics-0.8.1906.jar  \n",
            "  inflating: Fiji.app/jars/groovy-2.3.6.jar  \n",
            "  inflating: Fiji.app/jars/gson-2.7.jar  \n",
            "  inflating: Fiji.app/jars/guava-19.0.jar  \n",
            "  inflating: Fiji.app/jars/hamcrest-core-1.3.jar  \n",
            "  inflating: Fiji.app/jars/ij-1.51n.jar  \n",
            "  inflating: Fiji.app/jars/ij1-patcher-0.12.5.jar  \n",
            "  inflating: Fiji.app/jars/image4j-0.7.jar  \n",
            "  inflating: Fiji.app/jars/imagej-2.0.0-rc-59.jar  \n",
            "  inflating: Fiji.app/jars/imagej-common-0.24.3.jar  \n",
            "  inflating: Fiji.app/jars/imagej-deprecated-0.1.1.jar  \n",
            "  inflating: Fiji.app/jars/imagej-launcher-4.0.5.jar  \n",
            "  inflating: Fiji.app/jars/imagej-legacy-0.23.5.jar  \n",
            "  inflating: Fiji.app/jars/imagej-notebook-0.2.1.jar  \n",
            "  inflating: Fiji.app/jars/imagej-ops-0.36.0.jar  \n",
            "  inflating: Fiji.app/jars/imagej-plugins-commands-0.7.0.jar  \n",
            "  inflating: Fiji.app/jars/imagej-plugins-tools-0.3.0.jar  \n",
            "  inflating: Fiji.app/jars/imagej-plugins-uploader-ssh-0.3.1.jar  \n",
            "  inflating: Fiji.app/jars/imagej-plugins-uploader-webdav-0.2.1.jar  \n",
            "  inflating: Fiji.app/jars/imagej-scripting-0.5.1.jar  \n",
            "  inflating: Fiji.app/jars/imagej-ui-awt-0.3.0.jar  \n",
            "  inflating: Fiji.app/jars/imagej-ui-swing-0.21.1.jar  \n",
            "  inflating: Fiji.app/jars/imagej-updater-0.8.2.jar  \n",
            "  inflating: Fiji.app/jars/imglib2-3.2.1.jar  \n",
            "  inflating: Fiji.app/jars/imglib2-algorithm-0.6.2.jar  \n",
            "  inflating: Fiji.app/jars/imglib2-algorithm-fft-0.1.2.jar  \n",
            "  inflating: Fiji.app/jars/imglib2-algorithm-gpl-0.1.5.jar  \n",
            "  inflating: Fiji.app/jars/imglib2-ij-2.0.0-beta-35.jar  \n",
            "  inflating: Fiji.app/jars/imglib2-realtransform-2.0.0-beta-34.jar  \n",
            "  inflating: Fiji.app/jars/imglib2-roi-0.4.4.jar  \n",
            "  inflating: Fiji.app/jars/imglib2-ui-2.0.0-beta-31.jar  \n",
            "  inflating: Fiji.app/jars/invokebinder-1.2.jar  \n",
            "  inflating: Fiji.app/jars/itext-2.1.5.jar  \n",
            "  inflating: Fiji.app/jars/itextpdf-5.1.1.jar  \n",
            "  inflating: Fiji.app/jars/j3dcore-1.6.0-scijava-2.jar  \n",
            "  inflating: Fiji.app/jars/j3dutils-1.6.0-scijava-2.jar  \n",
            "  inflating: Fiji.app/jars/jacl.jar  \n",
            "  inflating: Fiji.app/jars/jai-codec-1.1.3.jar  \n",
            "  inflating: Fiji.app/jars/jai-core-1.1.3.jar  \n",
            "  inflating: Fiji.app/jars/jama-1.0.3.jar  \n",
            "  inflating: Fiji.app/jars/java-cup-0.11a.jar  \n",
            "  inflating: Fiji.app/jars/javacpp-0.11.jar  \n",
            "  inflating: Fiji.app/jars/javassist-3.20.0-GA.jar  \n",
            "  inflating: Fiji.app/jars/jcodings-1.0.10.jar  \n",
            "  inflating: Fiji.app/jars/jcommon-1.0.23.jar  \n",
            "  inflating: Fiji.app/jars/jdatepicker-1.3.2.jar  \n",
            "  inflating: Fiji.app/jars/jdom2-2.0.6.jar  \n",
            "  inflating: Fiji.app/jars/jep-2.4.2.jar  \n",
            "  inflating: Fiji.app/jars/jffi-1.2.7-native.jar  \n",
            "  inflating: Fiji.app/jars/jffi-1.2.7.jar  \n",
            "  inflating: Fiji.app/jars/jfreechart-1.0.19.jar  \n",
            "  inflating: Fiji.app/jars/jgoodies-common-1.7.0.jar  \n",
            "  inflating: Fiji.app/jars/jgoodies-forms-1.7.2.jar  \n",
            "  inflating: Fiji.app/jars/jgrapht-0.8.3.jar  \n",
            "  inflating: Fiji.app/jars/jgraphx-1.10.4.1.jar  \n",
            "  inflating: Fiji.app/jars/jhdf5-14.12.5.jar  \n",
            "  inflating: Fiji.app/jars/jhotdraw-7.6.0.jar  \n",
            "  inflating: Fiji.app/jars/jitk-tps-2.1.0.jar  \n",
            "  inflating: Fiji.app/jars/jna-4.2.2.jar  \n",
            "  inflating: Fiji.app/jars/jnr-constants-0.8.5.jar  \n",
            "  inflating: Fiji.app/jars/jnr-enxio-0.4.jar  \n",
            "  inflating: Fiji.app/jars/jnr-ffi-1.0.7.jar  \n",
            "  inflating: Fiji.app/jars/jnr-netdb-1.1.2.jar  \n",
            "  inflating: Fiji.app/jars/jnr-posix-3.0.1.jar  \n",
            "  inflating: Fiji.app/jars/jnr-unixsocket-0.3.jar  \n",
            "  inflating: Fiji.app/jars/jnr-x86asm-1.0.2.jar  \n",
            "  inflating: Fiji.app/jars/joal-2.3.2.jar  \n",
            "  inflating: Fiji.app/jars/joal-main-2.3.2.jar  \n",
            "  inflating: Fiji.app/jars/jocl-2.3.2.jar  \n",
            "  inflating: Fiji.app/jars/jocl-main-2.3.2.jar  \n",
            "  inflating: Fiji.app/jars/joda-time-2.9.4.jar  \n",
            "  inflating: Fiji.app/jars/jogl-all-2.3.2.jar  \n",
            "  inflating: Fiji.app/jars/jogl-all-main-2.3.2.jar  \n",
            "  inflating: Fiji.app/jars/joni-2.1.1.jar  \n",
            "  inflating: Fiji.app/jars/jpedalSTD-2.80b11.jar  \n",
            "  inflating: Fiji.app/jars/jruby-core-1.7.12.jar  \n",
            "  inflating: Fiji.app/jars/jruby-stdlib-1.7.12.jar  \n",
            "  inflating: Fiji.app/jars/js.jar    \n",
            "  inflating: Fiji.app/jars/jsch-0.1.49.jar  \n",
            "  inflating: Fiji.app/jars/jsoup-1.7.2.jar  \n",
            "  inflating: Fiji.app/jars/jtransforms-2.4.jar  \n",
            "  inflating: Fiji.app/jars/jung-api-2.0.1.jar  \n",
            "  inflating: Fiji.app/jars/jung-graph-impl-2.0.1.jar  \n",
            "  inflating: Fiji.app/jars/jython-shaded-2.7.0.jar  \n",
            "  inflating: Fiji.app/jars/jzlib-1.1.2.jar  \n",
            "  inflating: Fiji.app/jars/kryo-2.24.0.jar  \n",
            "  inflating: Fiji.app/jars/languagesupport-2.5.8.jar  \n",
            "  inflating: Fiji.app/jars/lapack-0.8.jar  \n",
            "  inflating: Fiji.app/jars/legacy-imglib1-1.1.6.jar  \n",
            "  inflating: Fiji.app/jars/linux64/ffmpeg-2.6.1-0.11-linux-x86_64.jar  \n",
            "  inflating: Fiji.app/jars/linux64/gluegen-rt-2.3.2-natives-linux-amd64.jar  \n",
            "  inflating: Fiji.app/jars/linux64/joal-2.3.2-natives-linux-amd64.jar  \n",
            "  inflating: Fiji.app/jars/linux64/jocl-2.3.2-natives-linux-amd64.jar  \n",
            "  inflating: Fiji.app/jars/linux64/jogl-all-2.3.2-natives-linux-amd64.jar  \n",
            "  inflating: Fiji.app/jars/log4j-1.2.17.jar  \n",
            "  inflating: Fiji.app/jars/logback-classic-1.1.7.jar  \n",
            "  inflating: Fiji.app/jars/logback-core-1.1.7.jar  \n",
            "  inflating: Fiji.app/jars/mapdb-1.0.3.jar  \n",
            "  inflating: Fiji.app/jars/markdownj-0.3.0-1.0.2b4.jar  \n",
            "  inflating: Fiji.app/jars/maven-scm-api-1.4.jar  \n",
            "  inflating: Fiji.app/jars/maven-scm-provider-svn-commons-1.4.jar  \n",
            "  inflating: Fiji.app/jars/maven-scm-provider-svnexe-1.4.jar  \n",
            "  inflating: Fiji.app/jars/metadata-extractor-2.6.2.jar  \n",
            "  inflating: Fiji.app/jars/methods-0.8.1906.jar  \n",
            "  inflating: Fiji.app/jars/miglayout-3.7.4-swing.jar  \n",
            "  inflating: Fiji.app/jars/mines-jtk-20151125.jar  \n",
            "  inflating: Fiji.app/jars/minimaven-2.2.0.jar  \n",
            "  inflating: Fiji.app/jars/minlog-1.2.jar  \n",
            "  inflating: Fiji.app/jars/mpicbg-1.1.1.jar  \n",
            "  inflating: Fiji.app/jars/mpicbg-trakem2-1.2.3.jar  \n",
            "  inflating: Fiji.app/jars/mtj-1.0.4.jar  \n",
            "  inflating: Fiji.app/jars/nailgun-server-0.9.1.jar  \n",
            "  inflating: Fiji.app/jars/native-lib-loader-2.1.4.jar  \n",
            "  inflating: Fiji.app/jars/netcdf-4.3.19.jar  \n",
            "  inflating: Fiji.app/jars/netlib-java-0.9.3-renjin-patched-2.jar  \n",
            "  inflating: Fiji.app/jars/object-inspector-0.1.jar  \n",
            "  inflating: Fiji.app/jars/objenesis-2.1.jar  \n",
            "  inflating: Fiji.app/jars/op-finder-0.1.0.jar  \n",
            "  inflating: Fiji.app/jars/opencsv-2.4.jar  \n",
            "  inflating: Fiji.app/jars/options-1.1.jar  \n",
            "  inflating: Fiji.app/jars/pal-optimization-2.0.0.jar  \n",
            "  inflating: Fiji.app/jars/parsington-1.0.0.jar  \n",
            "  inflating: Fiji.app/jars/pentaho-package-manager-1.0.8.jar  \n",
            "  inflating: Fiji.app/jars/perf4j-0.9.13.jar  \n",
            "  inflating: Fiji.app/jars/plexus-utils-1.5.6.jar  \n",
            "  inflating: Fiji.app/jars/postgresql-8.2-507.jdbc3.jar  \n",
            "  inflating: Fiji.app/jars/regexp-1.3.jar  \n",
            "  inflating: Fiji.app/jars/renjin-appl-0.8.1906.jar  \n",
            "  inflating: Fiji.app/jars/renjin-core-0.8.1906.jar  \n",
            "  inflating: Fiji.app/jars/renjin-gnur-runtime-0.8.1906.jar  \n",
            "  inflating: Fiji.app/jars/renjin-script-engine-0.8.1906.jar  \n",
            "  inflating: Fiji.app/jars/rhino-1.7.6.jar  \n",
            "  inflating: Fiji.app/jars/rsyntaxtextarea-2.5.8.jar  \n",
            "  inflating: Fiji.app/jars/scala-compiler-2.12.1.jar  \n",
            "  inflating: Fiji.app/jars/scala-library-2.12.1.jar  \n",
            "  inflating: Fiji.app/jars/scala-parser-combinators_2.12.0-M4-1.0.4.jar  \n",
            "  inflating: Fiji.app/jars/scala-reflect-2.12.1.jar  \n",
            "  inflating: Fiji.app/jars/scala-xml_2.12-1.0.6.jar  \n",
            "  inflating: Fiji.app/jars/scala-xml_2.12.0-M4-1.0.5.jar  \n",
            "  inflating: Fiji.app/jars/scifio-0.31.1.jar  \n",
            "  inflating: Fiji.app/jars/scifio-bf-compat-2.0.2.jar  \n",
            "  inflating: Fiji.app/jars/scifio-cli-0.3.3.jar  \n",
            "  inflating: Fiji.app/jars/scifio-hdf5-0.1.1.jar  \n",
            "  inflating: Fiji.app/jars/scifio-jai-imageio-1.1.0.jar  \n",
            "  inflating: Fiji.app/jars/scifio-lifesci-0.7.0.jar  \n",
            "  inflating: Fiji.app/jars/scifio-ome-xml-0.14.2.jar  \n",
            "  inflating: Fiji.app/jars/scifio-tools-0.14.0.jar  \n",
            "  inflating: Fiji.app/jars/scijava-common-2.62.1.jar  \n",
            "  inflating: Fiji.app/jars/scijava-config-2.0.1.jar  \n",
            "  inflating: Fiji.app/jars/scijava-expression-parser-2.1.1.jar  \n",
            "  inflating: Fiji.app/jars/scijava-plugins-commands-0.2.2.jar  \n",
            "  inflating: Fiji.app/jars/scijava-plugins-platforms-0.2.1.jar  \n",
            "  inflating: Fiji.app/jars/scijava-plugins-text-markdown-0.1.2.jar  \n",
            "  inflating: Fiji.app/jars/scijava-plugins-text-plain-0.1.2.jar  \n",
            "  inflating: Fiji.app/jars/scijava-ui-awt-0.1.5.jar  \n",
            "  inflating: Fiji.app/jars/scijava-ui-swing-0.9.1.jar  \n",
            "  inflating: Fiji.app/jars/script-editor-0.1.2.jar  \n",
            "  inflating: Fiji.app/jars/scripting-beanshell-0.3.1.jar  \n",
            "  inflating: Fiji.app/jars/scripting-clojure-0.1.5.jar  \n",
            "  inflating: Fiji.app/jars/scripting-groovy-0.2.5.jar  \n",
            "  inflating: Fiji.app/jars/scripting-java-0.4.0.jar  \n",
            "  inflating: Fiji.app/jars/scripting-javascript-0.4.3.jar  \n",
            "  inflating: Fiji.app/jars/scripting-jruby-0.2.4.jar  \n",
            "  inflating: Fiji.app/jars/scripting-jython-0.4.0.jar  \n",
            "  inflating: Fiji.app/jars/scripting-renjin-0.2.1.jar  \n",
            "  inflating: Fiji.app/jars/scripting-scala-0.2.0.jar  \n",
            "  inflating: Fiji.app/jars/slf4j-api-1.7.21.jar  \n",
            "  inflating: Fiji.app/jars/snakeyaml-1.13.jar  \n",
            "  inflating: Fiji.app/jars/spim_data-2.2.0.jar  \n",
            "  inflating: Fiji.app/jars/stats-0.8.1906.jar  \n",
            "  inflating: Fiji.app/jars/swing-checkbox-tree-1.0.1.jar  \n",
            "  inflating: Fiji.app/jars/swing-worker-1.1.jar  \n",
            "  inflating: Fiji.app/jars/swingx-1.6.1.jar  \n",
            "  inflating: Fiji.app/jars/trove4j-3.0.3.jar  \n",
            "  inflating: Fiji.app/jars/udunits-4.3.18.jar  \n",
            "  inflating: Fiji.app/jars/ui-behaviour-1.1.0.jar  \n",
            "  inflating: Fiji.app/jars/utils-0.8.1906.jar  \n",
            "  inflating: Fiji.app/jars/vecmath-1.6.0-scijava-2.jar  \n",
            "  inflating: Fiji.app/jars/weave_jy2java-2.1.0.jar  \n",
            "  inflating: Fiji.app/jars/weka-dev-3.9.0.jar  \n",
            "  inflating: Fiji.app/jars/xerbla-0.8.jar  \n",
            "  inflating: Fiji.app/jars/xercesImpl-2.8.1.jar  \n",
            "  inflating: Fiji.app/jars/xml-apis-1.3.03.jar  \n",
            "  inflating: Fiji.app/jars/xml-apis-ext-1.3.04.jar  \n",
            "  inflating: Fiji.app/jars/xmlgraphics-commons-2.1.jar  \n",
            "  inflating: Fiji.app/jars/xmpcore-5.1.2.jar  \n",
            "  inflating: Fiji.app/jars/xz-1.0.jar  \n",
            "  inflating: Fiji.app/jars/yecht-1.0.jar  \n",
            "  inflating: Fiji.app/scripts/ImageJ.m  \n",
            "  inflating: Fiji.app/scripts/InstallJava3D.m  \n",
            "  inflating: Fiji.app/scripts/IsJava3DInstalled.m  \n",
            "  inflating: Fiji.app/scripts/Matlab3DViewerDemo_1.m  \n",
            "  inflating: Fiji.app/scripts/Matlab3DViewerDemo_2.m  \n",
            "  inflating: Fiji.app/scripts/Matlab3DViewerDemo_3.m  \n",
            "  inflating: Fiji.app/scripts/Matlab3DViewerIntroduction.m  \n",
            "  inflating: Fiji.app/scripts/Miji.m  \n",
            "  inflating: Fiji.app/scripts/Miji_Test.m  \n",
            "  inflating: Fiji.app/scripts/bfopen.m  \n",
            "  inflating: Fiji.app/scripts/copytoImg.m  \n",
            "  inflating: Fiji.app/scripts/copytoImgPlus.m  \n",
            "  inflating: Fiji.app/scripts/copytoMatlab.m  \n",
            "  inflating: Fiji.app/scripts/importTrackMateTracks.m  \n",
            "  inflating: Fiji.app/scripts/trackmateEdges.m  \n",
            "  inflating: Fiji.app/scripts/trackmateFeatureDeclarations.m  \n",
            "  inflating: Fiji.app/scripts/trackmateGraph.m  \n",
            "  inflating: Fiji.app/scripts/trackmateImageCalibration.m  \n",
            "  inflating: Fiji.app/scripts/trackmateSpots.m  \n",
            "  inflating: Fiji.app/images/about/about1.tif  \n",
            "  inflating: Fiji.app/images/about/about1.tif.txt  \n",
            "  inflating: Fiji.app/images/about/about2.tif  \n",
            "  inflating: Fiji.app/images/about/about2.tif.txt  \n",
            "  inflating: Fiji.app/images/about/about3.tif  \n",
            "  inflating: Fiji.app/images/about/about3.tif.txt  \n",
            "  inflating: Fiji.app/images/about/about4.tif  \n",
            "  inflating: Fiji.app/images/about/about4.tif.txt  \n",
            "  inflating: Fiji.app/images/about/about5.tif  \n",
            "  inflating: Fiji.app/images/about/about5.tif.txt  \n",
            "  inflating: Fiji.app/images/icon-flat.png  \n",
            "  inflating: Fiji.app/images/icon.png  \n",
            "  inflating: Fiji.app/macros/AutoRun/AutoRun_Scripts.ijm  \n",
            "  inflating: Fiji.app/macros/StartupMacros.fiji.ijm  \n",
            "  inflating: Fiji.app/macros/listManagement.txt  \n",
            "  inflating: Fiji.app/macros/toolsets/Clear Custom Tools.txt  \n",
            "  inflating: Fiji.app/macros/toolsets/Drawing Tools.txt  \n",
            "  inflating: Fiji.app/macros/toolsets/Lookup Tables.txt  \n",
            "  inflating: Fiji.app/README.md      \n",
            "  inflating: Fiji.app/WELCOME.md     \n",
            "  inflating: Fiji.app/luts/16_colors.lut  \n",
            "  inflating: Fiji.app/luts/5_ramps.lut  \n",
            "  inflating: Fiji.app/luts/6_shades.lut  \n",
            "  inflating: Fiji.app/luts/Cyan Hot.lut  \n",
            "  inflating: Fiji.app/luts/Green Fire Blue.lut  \n",
            "  inflating: Fiji.app/luts/HiLo.lut  \n",
            "  inflating: Fiji.app/luts/ICA.lut   \n",
            "  inflating: Fiji.app/luts/ICA2.lut  \n",
            "  inflating: Fiji.app/luts/ICA3.lut  \n",
            "  inflating: Fiji.app/luts/Magenta Hot.lut  \n",
            "  inflating: Fiji.app/luts/Orange Hot.lut  \n",
            "  inflating: Fiji.app/luts/Rainbow RGB.lut  \n",
            "  inflating: Fiji.app/luts/Red Hot.lut  \n",
            "  inflating: Fiji.app/luts/Thermal.lut  \n",
            "  inflating: Fiji.app/luts/Yellow Hot.lut  \n",
            "  inflating: Fiji.app/luts/blue_orange_icb.lut  \n",
            "  inflating: Fiji.app/luts/brgbcmyw.lut  \n",
            "  inflating: Fiji.app/luts/cool.lut  \n",
            "  inflating: Fiji.app/luts/edges.lut  \n",
            "  inflating: Fiji.app/luts/gem.lut   \n",
            "  inflating: Fiji.app/luts/glasbey.lut  \n",
            "  inflating: Fiji.app/luts/glasbey_inverted.lut  \n",
            "  inflating: Fiji.app/luts/glow.lut  \n",
            "  inflating: Fiji.app/luts/mpl-inferno.lut  \n",
            "  inflating: Fiji.app/luts/mpl-magma.lut  \n",
            "  inflating: Fiji.app/luts/mpl-plasma.lut  \n",
            "  inflating: Fiji.app/luts/mpl-viridis.lut  \n",
            "  inflating: Fiji.app/luts/phase.lut  \n",
            "  inflating: Fiji.app/luts/physics.lut  \n",
            "  inflating: Fiji.app/luts/royal.lut  \n",
            "  inflating: Fiji.app/luts/sepia.lut  \n",
            "  inflating: Fiji.app/luts/smart.lut  \n",
            "  inflating: Fiji.app/luts/thal.lut  \n",
            "  inflating: Fiji.app/luts/thallium.lut  \n",
            "  inflating: Fiji.app/luts/unionjack.lut  \n",
            "  inflating: Fiji.app/retro/backport-util-concurrent-3.1.jar  \n",
            "  inflating: Fiji.app/retro/retrotranslator-runtime-1.2.9.jar  \n",
            "  inflating: Fiji.app/retro/retrotranslator-transformer-1.2.9.jar  \n",
            "  inflating: Fiji.app/java/linux-amd64/jdk1.8.0_66/jre/bin/pack200  \n",
            "  inflating: Fiji.app/java/linux-amd64/jdk1.8.0_66/jre/bin/keytool  \n",
            "  inflating: Fiji.app/java/linux-amd64/jdk1.8.0_66/jre/bin/jjs  \n",
            "  inflating: Fiji.app/java/linux-amd64/jdk1.8.0_66/jre/bin/tnameserv  \n",
            "  inflating: Fiji.app/java/linux-amd64/jdk1.8.0_66/jre/bin/java  \n",
            "  inflating: Fiji.app/java/linux-amd64/jdk1.8.0_66/jre/bin/ControlPanel  \n",
            "  inflating: Fiji.app/java/linux-amd64/jdk1.8.0_66/jre/bin/orbd  \n",
            "  inflating: Fiji.app/java/linux-amd64/jdk1.8.0_66/jre/bin/rmiregistry  \n",
            "  inflating: Fiji.app/java/linux-amd64/jdk1.8.0_66/jre/bin/unpack200  \n",
            "  inflating: Fiji.app/java/linux-amd64/jdk1.8.0_66/jre/bin/policytool  \n",
            "  inflating: Fiji.app/java/linux-amd64/jdk1.8.0_66/jre/bin/javaws  \n",
            "  inflating: Fiji.app/java/linux-amd64/jdk1.8.0_66/jre/bin/servertool  \n",
            "  inflating: Fiji.app/java/linux-amd64/jdk1.8.0_66/jre/bin/rmid  \n",
            "  inflating: Fiji.app/java/linux-amd64/jdk1.8.0_66/jre/bin/jcontrol  \n",
            "  inflating: Fiji.app/java/linux-amd64/jdk1.8.0_66/jre/THIRDPARTYLICENSEREADME.txt  \n",
            "  inflating: Fiji.app/java/linux-amd64/jdk1.8.0_66/jre/Welcome.html  \n",
            "  inflating: Fiji.app/java/linux-amd64/jdk1.8.0_66/jre/COPYRIGHT  \n",
            "  inflating: Fiji.app/java/linux-amd64/jdk1.8.0_66/jre/plugin/desktop/sun_java.desktop  \n",
            "  inflating: Fiji.app/java/linux-amd64/jdk1.8.0_66/jre/plugin/desktop/sun_java.png  \n",
            "  inflating: Fiji.app/java/linux-amd64/jdk1.8.0_66/jre/THIRDPARTYLICENSEREADME-JAVAFX.txt  \n",
            "  inflating: Fiji.app/java/linux-amd64/jdk1.8.0_66/jre/README  \n",
            "  inflating: Fiji.app/java/linux-amd64/jdk1.8.0_66/jre/LICENSE  \n",
            "  inflating: Fiji.app/java/linux-amd64/jdk1.8.0_66/jre/man/ja/man1/rmid.1  \n",
            "  inflating: Fiji.app/java/linux-amd64/jdk1.8.0_66/jre/man/ja/man1/javaws.1  \n",
            "  inflating: Fiji.app/java/linux-amd64/jdk1.8.0_66/jre/man/ja/man1/tnameserv.1  \n",
            "  inflating: Fiji.app/java/linux-amd64/jdk1.8.0_66/jre/man/ja/man1/rmiregistry.1  \n",
            "  inflating: Fiji.app/java/linux-amd64/jdk1.8.0_66/jre/man/ja/man1/java.1  \n",
            "  inflating: Fiji.app/java/linux-amd64/jdk1.8.0_66/jre/man/ja/man1/orbd.1  \n",
            "  inflating: Fiji.app/java/linux-amd64/jdk1.8.0_66/jre/man/ja/man1/jjs.1  \n",
            "  inflating: Fiji.app/java/linux-amd64/jdk1.8.0_66/jre/man/ja/man1/servertool.1  \n",
            "  inflating: Fiji.app/java/linux-amd64/jdk1.8.0_66/jre/man/ja/man1/keytool.1  \n",
            "  inflating: Fiji.app/java/linux-amd64/jdk1.8.0_66/jre/man/ja/man1/pack200.1  \n",
            "  inflating: Fiji.app/java/linux-amd64/jdk1.8.0_66/jre/man/ja/man1/policytool.1  \n",
            "  inflating: Fiji.app/java/linux-amd64/jdk1.8.0_66/jre/man/ja/man1/unpack200.1  \n",
            "  inflating: Fiji.app/java/linux-amd64/jdk1.8.0_66/jre/man/ja_JP.UTF-8/man1/rmid.1  \n",
            "  inflating: Fiji.app/java/linux-amd64/jdk1.8.0_66/jre/man/ja_JP.UTF-8/man1/javaws.1  \n",
            "  inflating: Fiji.app/java/linux-amd64/jdk1.8.0_66/jre/man/ja_JP.UTF-8/man1/tnameserv.1  \n",
            "  inflating: Fiji.app/java/linux-amd64/jdk1.8.0_66/jre/man/ja_JP.UTF-8/man1/rmiregistry.1  \n",
            "  inflating: Fiji.app/java/linux-amd64/jdk1.8.0_66/jre/man/ja_JP.UTF-8/man1/java.1  \n",
            "  inflating: Fiji.app/java/linux-amd64/jdk1.8.0_66/jre/man/ja_JP.UTF-8/man1/orbd.1  \n",
            "  inflating: Fiji.app/java/linux-amd64/jdk1.8.0_66/jre/man/ja_JP.UTF-8/man1/jjs.1  \n",
            "  inflating: Fiji.app/java/linux-amd64/jdk1.8.0_66/jre/man/ja_JP.UTF-8/man1/servertool.1  \n",
            "  inflating: Fiji.app/java/linux-amd64/jdk1.8.0_66/jre/man/ja_JP.UTF-8/man1/keytool.1  \n",
            "  inflating: Fiji.app/java/linux-amd64/jdk1.8.0_66/jre/man/ja_JP.UTF-8/man1/pack200.1  \n",
            "  inflating: Fiji.app/java/linux-amd64/jdk1.8.0_66/jre/man/ja_JP.UTF-8/man1/policytool.1  \n",
            "  inflating: Fiji.app/java/linux-amd64/jdk1.8.0_66/jre/man/ja_JP.UTF-8/man1/unpack200.1  \n",
            "  inflating: Fiji.app/java/linux-amd64/jdk1.8.0_66/jre/man/man1/rmid.1  \n",
            "  inflating: Fiji.app/java/linux-amd64/jdk1.8.0_66/jre/man/man1/javaws.1  \n",
            "  inflating: Fiji.app/java/linux-amd64/jdk1.8.0_66/jre/man/man1/tnameserv.1  \n",
            "  inflating: Fiji.app/java/linux-amd64/jdk1.8.0_66/jre/man/man1/rmiregistry.1  \n",
            "  inflating: Fiji.app/java/linux-amd64/jdk1.8.0_66/jre/man/man1/java.1  \n",
            "  inflating: Fiji.app/java/linux-amd64/jdk1.8.0_66/jre/man/man1/orbd.1  \n",
            "  inflating: Fiji.app/java/linux-amd64/jdk1.8.0_66/jre/man/man1/jjs.1  \n",
            "  inflating: Fiji.app/java/linux-amd64/jdk1.8.0_66/jre/man/man1/servertool.1  \n",
            "  inflating: Fiji.app/java/linux-amd64/jdk1.8.0_66/jre/man/man1/keytool.1  \n",
            "  inflating: Fiji.app/java/linux-amd64/jdk1.8.0_66/jre/man/man1/pack200.1  \n",
            "  inflating: Fiji.app/java/linux-amd64/jdk1.8.0_66/jre/man/man1/policytool.1  \n",
            "  inflating: Fiji.app/java/linux-amd64/jdk1.8.0_66/jre/man/man1/unpack200.1  \n",
            "  inflating: Fiji.app/java/linux-amd64/jdk1.8.0_66/jre/release  \n",
            "  inflating: Fiji.app/java/linux-amd64/jdk1.8.0_66/jre/lib/logging.properties  \n",
            "  inflating: Fiji.app/java/linux-amd64/jdk1.8.0_66/jre/lib/psfont.properties.ja  \n",
            "  inflating: Fiji.app/java/linux-amd64/jdk1.8.0_66/jre/lib/cmm/sRGB.pf  \n",
            "  inflating: Fiji.app/java/linux-amd64/jdk1.8.0_66/jre/lib/cmm/LINEAR_RGB.pf  \n",
            "  inflating: Fiji.app/java/linux-amd64/jdk1.8.0_66/jre/lib/cmm/PYCC.pf  \n",
            "  inflating: Fiji.app/java/linux-amd64/jdk1.8.0_66/jre/lib/cmm/GRAY.pf  \n",
            "  inflating: Fiji.app/java/linux-amd64/jdk1.8.0_66/jre/lib/cmm/CIEXYZ.pf  \n",
            "  inflating: Fiji.app/java/linux-amd64/jdk1.8.0_66/jre/lib/deploy/mixcode_s.png  \n",
            "  inflating: Fiji.app/java/linux-amd64/jdk1.8.0_66/jre/lib/deploy/messages_ko.properties  \n",
            "  inflating: Fiji.app/java/linux-amd64/jdk1.8.0_66/jre/lib/deploy/messages_de.properties  \n",
            "  inflating: Fiji.app/java/linux-amd64/jdk1.8.0_66/jre/lib/deploy/messages_zh_HK.properties  \n",
            "  inflating: Fiji.app/java/linux-amd64/jdk1.8.0_66/jre/lib/deploy/MixedCodeMainDialog.ui  \n",
            "  inflating: Fiji.app/java/linux-amd64/jdk1.8.0_66/jre/lib/deploy/splash@2x.gif  \n",
            "  inflating: Fiji.app/java/linux-amd64/jdk1.8.0_66/jre/lib/deploy/java-icon.ico  \n",
            "  inflating: Fiji.app/java/linux-amd64/jdk1.8.0_66/jre/lib/deploy/ffjcext.zip  \n",
            "  inflating: Fiji.app/java/linux-amd64/jdk1.8.0_66/jre/lib/deploy/messages_ja.properties  \n",
            "  inflating: Fiji.app/java/linux-amd64/jdk1.8.0_66/jre/lib/deploy/messages_pt_BR.properties  \n",
            "  inflating: Fiji.app/java/linux-amd64/jdk1.8.0_66/jre/lib/deploy/messages_es.properties  \n",
            "  inflating: Fiji.app/java/linux-amd64/jdk1.8.0_66/jre/lib/deploy/messages_zh_TW.properties  \n",
            "  inflating: Fiji.app/java/linux-amd64/jdk1.8.0_66/jre/lib/deploy/cautionshield.icns  \n",
            "  inflating: Fiji.app/java/linux-amd64/jdk1.8.0_66/jre/lib/deploy/messages.properties  \n",
            "  inflating: Fiji.app/java/linux-amd64/jdk1.8.0_66/jre/lib/deploy/MixedCodeMainDialogJs.ui  \n",
            "  inflating: Fiji.app/java/linux-amd64/jdk1.8.0_66/jre/lib/deploy/splash.gif  \n",
            "  inflating: Fiji.app/java/linux-amd64/jdk1.8.0_66/jre/lib/deploy/messages_fr.properties  \n",
            "  inflating: Fiji.app/java/linux-amd64/jdk1.8.0_66/jre/lib/deploy/messages_zh_CN.properties  \n",
            "  inflating: Fiji.app/java/linux-amd64/jdk1.8.0_66/jre/lib/deploy/messages_sv.properties  \n",
            "  inflating: Fiji.app/java/linux-amd64/jdk1.8.0_66/jre/lib/deploy/messages_it.properties  \n",
            "  inflating: Fiji.app/java/linux-amd64/jdk1.8.0_66/jre/lib/net.properties  \n",
            "  inflating: Fiji.app/java/linux-amd64/jdk1.8.0_66/jre/lib/jfr/default.jfc  \n",
            "  inflating: Fiji.app/java/linux-amd64/jdk1.8.0_66/jre/lib/jfr/profile.jfc  \n",
            "  inflating: Fiji.app/java/linux-amd64/jdk1.8.0_66/jre/lib/hijrah-config-umalqura.properties  \n",
            "  inflating: Fiji.app/java/linux-amd64/jdk1.8.0_66/jre/lib/fontconfig.RedHat.5.bfc  \n",
            "  inflating: Fiji.app/java/linux-amd64/jdk1.8.0_66/jre/lib/fontconfig.RedHat.6.bfc  \n",
            "  inflating: Fiji.app/java/linux-amd64/jdk1.8.0_66/jre/lib/meta-index  \n",
            "  inflating: Fiji.app/java/linux-amd64/jdk1.8.0_66/jre/lib/security/trusted.libraries  \n",
            "  inflating: Fiji.app/java/linux-amd64/jdk1.8.0_66/jre/lib/security/local_policy.jar  \n",
            "  inflating: Fiji.app/java/linux-amd64/jdk1.8.0_66/jre/lib/security/cacerts  \n",
            "  inflating: Fiji.app/java/linux-amd64/jdk1.8.0_66/jre/lib/security/java.policy  \n",
            "  inflating: Fiji.app/java/linux-amd64/jdk1.8.0_66/jre/lib/security/blacklist  \n",
            "  inflating: Fiji.app/java/linux-amd64/jdk1.8.0_66/jre/lib/security/blacklisted.certs  \n",
            "  inflating: Fiji.app/java/linux-amd64/jdk1.8.0_66/jre/lib/security/US_export_policy.jar  \n",
            "  inflating: Fiji.app/java/linux-amd64/jdk1.8.0_66/jre/lib/security/javaws.policy  \n",
            "  inflating: Fiji.app/java/linux-amd64/jdk1.8.0_66/jre/lib/security/java.security  \n",
            "  inflating: Fiji.app/java/linux-amd64/jdk1.8.0_66/jre/lib/fontconfig.SuSE.10.properties.src  \n",
            "  inflating: Fiji.app/java/linux-amd64/jdk1.8.0_66/jre/lib/jexec  \n",
            "  inflating: Fiji.app/java/linux-amd64/jdk1.8.0_66/jre/lib/fontconfig.RedHat.5.properties.src  \n",
            "  inflating: Fiji.app/java/linux-amd64/jdk1.8.0_66/jre/lib/resources.jar  \n",
            "  inflating: Fiji.app/java/linux-amd64/jdk1.8.0_66/jre/lib/jvm.hprof.txt  \n",
            "  inflating: Fiji.app/java/linux-amd64/jdk1.8.0_66/jre/lib/charsets.jar  \n",
            "  inflating: Fiji.app/java/linux-amd64/jdk1.8.0_66/jre/lib/images/cursors/motif_LinkNoDrop32x32.gif  \n",
            "  inflating: Fiji.app/java/linux-amd64/jdk1.8.0_66/jre/lib/images/cursors/cursors.properties  \n",
            "  inflating: Fiji.app/java/linux-amd64/jdk1.8.0_66/jre/lib/images/cursors/motif_CopyNoDrop32x32.gif  \n",
            "  inflating: Fiji.app/java/linux-amd64/jdk1.8.0_66/jre/lib/images/cursors/motif_MoveDrop32x32.gif  \n",
            "  inflating: Fiji.app/java/linux-amd64/jdk1.8.0_66/jre/lib/images/cursors/invalid32x32.gif  \n",
            "  inflating: Fiji.app/java/linux-amd64/jdk1.8.0_66/jre/lib/images/cursors/motif_MoveNoDrop32x32.gif  \n",
            "  inflating: Fiji.app/java/linux-amd64/jdk1.8.0_66/jre/lib/images/cursors/motif_LinkDrop32x32.gif  \n",
            "  inflating: Fiji.app/java/linux-amd64/jdk1.8.0_66/jre/lib/images/cursors/motif_CopyDrop32x32.gif  \n",
            "  inflating: Fiji.app/java/linux-amd64/jdk1.8.0_66/jre/lib/images/icons/sun-java_HighContrast.png  \n",
            "  inflating: Fiji.app/java/linux-amd64/jdk1.8.0_66/jre/lib/images/icons/sun-java.png  \n",
            "  inflating: Fiji.app/java/linux-amd64/jdk1.8.0_66/jre/lib/images/icons/sun-java_LowContrast.png  \n",
            "  inflating: Fiji.app/java/linux-amd64/jdk1.8.0_66/jre/lib/images/icons/sun-java_HighContrastInverse.png  \n",
            "  inflating: Fiji.app/java/linux-amd64/jdk1.8.0_66/jre/lib/fontconfig.SuSE.10.bfc  \n",
            "  inflating: Fiji.app/java/linux-amd64/jdk1.8.0_66/jre/lib/ext/localedata.jar  \n",
            "  inflating: Fiji.app/java/linux-amd64/jdk1.8.0_66/jre/lib/ext/jfxrt.jar  \n",
            "  inflating: Fiji.app/java/linux-amd64/jdk1.8.0_66/jre/lib/ext/sunpkcs11.jar  \n",
            "  inflating: Fiji.app/java/linux-amd64/jdk1.8.0_66/jre/lib/ext/sunec.jar  \n",
            "  inflating: Fiji.app/java/linux-amd64/jdk1.8.0_66/jre/lib/ext/meta-index  \n",
            "  inflating: Fiji.app/java/linux-amd64/jdk1.8.0_66/jre/lib/ext/nashorn.jar  \n",
            "  inflating: Fiji.app/java/linux-amd64/jdk1.8.0_66/jre/lib/ext/dnsns.jar  \n",
            "  inflating: Fiji.app/java/linux-amd64/jdk1.8.0_66/jre/lib/ext/sunjce_provider.jar  \n",
            "  inflating: Fiji.app/java/linux-amd64/jdk1.8.0_66/jre/lib/ext/jaccess.jar  \n",
            "  inflating: Fiji.app/java/linux-amd64/jdk1.8.0_66/jre/lib/ext/cldrdata.jar  \n",
            "  inflating: Fiji.app/java/linux-amd64/jdk1.8.0_66/jre/lib/ext/zipfs.jar  \n",
            "  inflating: Fiji.app/java/linux-amd64/jdk1.8.0_66/jre/lib/fontconfig.bfc  \n",
            "  inflating: Fiji.app/java/linux-amd64/jdk1.8.0_66/jre/lib/javafx.properties  \n",
            "  inflating: Fiji.app/java/linux-amd64/jdk1.8.0_66/jre/lib/fontconfig.RedHat.6.properties.src  \n",
            "  inflating: Fiji.app/java/linux-amd64/jdk1.8.0_66/jre/lib/oblique-fonts/LucidaTypewriterBoldOblique.ttf  \n",
            "  inflating: Fiji.app/java/linux-amd64/jdk1.8.0_66/jre/lib/oblique-fonts/LucidaSansDemiOblique.ttf  \n",
            "  inflating: Fiji.app/java/linux-amd64/jdk1.8.0_66/jre/lib/oblique-fonts/LucidaSansOblique.ttf  \n",
            "  inflating: Fiji.app/java/linux-amd64/jdk1.8.0_66/jre/lib/oblique-fonts/fonts.dir  \n",
            "  inflating: Fiji.app/java/linux-amd64/jdk1.8.0_66/jre/lib/oblique-fonts/LucidaTypewriterOblique.ttf  \n",
            "  inflating: Fiji.app/java/linux-amd64/jdk1.8.0_66/jre/lib/deploy.jar  \n",
            "  inflating: Fiji.app/java/linux-amd64/jdk1.8.0_66/jre/lib/tzdb.dat  \n",
            "  inflating: Fiji.app/java/linux-amd64/jdk1.8.0_66/jre/lib/fontconfig.SuSE.11.bfc  \n",
            "  inflating: Fiji.app/java/linux-amd64/jdk1.8.0_66/jre/lib/management/jmxremote.access  \n",
            "  inflating: Fiji.app/java/linux-amd64/jdk1.8.0_66/jre/lib/management/management.properties  \n",
            "  inflating: Fiji.app/java/linux-amd64/jdk1.8.0_66/jre/lib/management/snmp.acl.template  \n",
            "  inflating: Fiji.app/java/linux-amd64/jdk1.8.0_66/jre/lib/management/jmxremote.password.template  \n",
            "  inflating: Fiji.app/java/linux-amd64/jdk1.8.0_66/jre/lib/jsse.jar  \n",
            "  inflating: Fiji.app/java/linux-amd64/jdk1.8.0_66/jre/lib/classlist  \n",
            "  inflating: Fiji.app/java/linux-amd64/jdk1.8.0_66/jre/lib/fontconfig.SuSE.11.properties.src  \n",
            "  inflating: Fiji.app/java/linux-amd64/jdk1.8.0_66/jre/lib/fonts/LucidaBrightRegular.ttf  \n",
            "  inflating: Fiji.app/java/linux-amd64/jdk1.8.0_66/jre/lib/fonts/LucidaBrightDemiBold.ttf  \n",
            "  inflating: Fiji.app/java/linux-amd64/jdk1.8.0_66/jre/lib/fonts/LucidaBrightDemiItalic.ttf  \n",
            "  inflating: Fiji.app/java/linux-amd64/jdk1.8.0_66/jre/lib/fonts/LucidaTypewriterRegular.ttf  \n",
            "  inflating: Fiji.app/java/linux-amd64/jdk1.8.0_66/jre/lib/fonts/LucidaSansRegular.ttf  \n",
            "  inflating: Fiji.app/java/linux-amd64/jdk1.8.0_66/jre/lib/fonts/LucidaSansDemiBold.ttf  \n",
            "  inflating: Fiji.app/java/linux-amd64/jdk1.8.0_66/jre/lib/fonts/LucidaTypewriterBold.ttf  \n",
            "  inflating: Fiji.app/java/linux-amd64/jdk1.8.0_66/jre/lib/fonts/fonts.dir  \n",
            "  inflating: Fiji.app/java/linux-amd64/jdk1.8.0_66/jre/lib/fonts/LucidaBrightItalic.ttf  \n",
            "  inflating: Fiji.app/java/linux-amd64/jdk1.8.0_66/jre/lib/sound.properties  \n",
            "  inflating: Fiji.app/java/linux-amd64/jdk1.8.0_66/jre/lib/fontconfig.Turbo.bfc  \n",
            "  inflating: Fiji.app/java/linux-amd64/jdk1.8.0_66/jre/lib/plugin.jar  \n",
            "  inflating: Fiji.app/java/linux-amd64/jdk1.8.0_66/jre/lib/desktop/mime/packages/x-java-jnlp-file.xml  \n",
            "  inflating: Fiji.app/java/linux-amd64/jdk1.8.0_66/jre/lib/desktop/mime/packages/x-java-archive.xml  \n",
            "  inflating: Fiji.app/java/linux-amd64/jdk1.8.0_66/jre/lib/desktop/applications/sun-java.desktop  \n",
            "  inflating: Fiji.app/java/linux-amd64/jdk1.8.0_66/jre/lib/desktop/applications/sun_java.desktop  \n",
            "  inflating: Fiji.app/java/linux-amd64/jdk1.8.0_66/jre/lib/desktop/applications/sun-javaws.desktop  \n",
            "  inflating: Fiji.app/java/linux-amd64/jdk1.8.0_66/jre/lib/desktop/icons/hicolor/16x16/mimetypes/gnome-mime-application-x-java-jnlp-file.png  \n",
            "  inflating: Fiji.app/java/linux-amd64/jdk1.8.0_66/jre/lib/desktop/icons/hicolor/16x16/mimetypes/gnome-mime-text-x-java.png  \n",
            "  inflating: Fiji.app/java/linux-amd64/jdk1.8.0_66/jre/lib/desktop/icons/hicolor/16x16/mimetypes/gnome-mime-application-x-java-archive.png  \n",
            "  inflating: Fiji.app/java/linux-amd64/jdk1.8.0_66/jre/lib/desktop/icons/hicolor/16x16/apps/sun-java.png  \n",
            "  inflating: Fiji.app/java/linux-amd64/jdk1.8.0_66/jre/lib/desktop/icons/hicolor/16x16/apps/sun-javaws.png  \n",
            "  inflating: Fiji.app/java/linux-amd64/jdk1.8.0_66/jre/lib/desktop/icons/hicolor/16x16/apps/sun-jcontrol.png  \n",
            "  inflating: Fiji.app/java/linux-amd64/jdk1.8.0_66/jre/lib/desktop/icons/hicolor/48x48/mimetypes/gnome-mime-application-x-java-jnlp-file.png  \n",
            "  inflating: Fiji.app/java/linux-amd64/jdk1.8.0_66/jre/lib/desktop/icons/hicolor/48x48/mimetypes/gnome-mime-text-x-java.png  \n",
            "  inflating: Fiji.app/java/linux-amd64/jdk1.8.0_66/jre/lib/desktop/icons/hicolor/48x48/mimetypes/gnome-mime-application-x-java-archive.png  \n",
            "  inflating: Fiji.app/java/linux-amd64/jdk1.8.0_66/jre/lib/desktop/icons/hicolor/48x48/apps/sun-java.png  \n",
            "  inflating: Fiji.app/java/linux-amd64/jdk1.8.0_66/jre/lib/desktop/icons/hicolor/48x48/apps/sun-javaws.png  \n",
            "  inflating: Fiji.app/java/linux-amd64/jdk1.8.0_66/jre/lib/desktop/icons/hicolor/48x48/apps/sun-jcontrol.png  \n",
            "  inflating: Fiji.app/java/linux-amd64/jdk1.8.0_66/jre/lib/desktop/icons/LowContrast/16x16/mimetypes/gnome-mime-application-x-java-jnlp-file.png  \n",
            "  inflating: Fiji.app/java/linux-amd64/jdk1.8.0_66/jre/lib/desktop/icons/LowContrast/16x16/mimetypes/gnome-mime-text-x-java.png  \n",
            "  inflating: Fiji.app/java/linux-amd64/jdk1.8.0_66/jre/lib/desktop/icons/LowContrast/16x16/mimetypes/gnome-mime-application-x-java-archive.png  \n",
            "  inflating: Fiji.app/java/linux-amd64/jdk1.8.0_66/jre/lib/desktop/icons/LowContrast/16x16/apps/sun-java.png  \n",
            "  inflating: Fiji.app/java/linux-amd64/jdk1.8.0_66/jre/lib/desktop/icons/LowContrast/16x16/apps/sun-javaws.png  \n",
            "  inflating: Fiji.app/java/linux-amd64/jdk1.8.0_66/jre/lib/desktop/icons/LowContrast/16x16/apps/sun-jcontrol.png  \n",
            "  inflating: Fiji.app/java/linux-amd64/jdk1.8.0_66/jre/lib/desktop/icons/LowContrast/48x48/mimetypes/gnome-mime-application-x-java-jnlp-file.png  \n",
            "  inflating: Fiji.app/java/linux-amd64/jdk1.8.0_66/jre/lib/desktop/icons/LowContrast/48x48/mimetypes/gnome-mime-text-x-java.png  \n",
            "  inflating: Fiji.app/java/linux-amd64/jdk1.8.0_66/jre/lib/desktop/icons/LowContrast/48x48/mimetypes/gnome-mime-application-x-java-archive.png  \n",
            "  inflating: Fiji.app/java/linux-amd64/jdk1.8.0_66/jre/lib/desktop/icons/LowContrast/48x48/apps/sun-java.png  \n",
            "  inflating: Fiji.app/java/linux-amd64/jdk1.8.0_66/jre/lib/desktop/icons/LowContrast/48x48/apps/sun-javaws.png  \n",
            "  inflating: Fiji.app/java/linux-amd64/jdk1.8.0_66/jre/lib/desktop/icons/LowContrast/48x48/apps/sun-jcontrol.png  \n",
            "  inflating: Fiji.app/java/linux-amd64/jdk1.8.0_66/jre/lib/desktop/icons/HighContrastInverse/16x16/mimetypes/gnome-mime-application-x-java-jnlp-file.png  \n",
            "  inflating: Fiji.app/java/linux-amd64/jdk1.8.0_66/jre/lib/desktop/icons/HighContrastInverse/16x16/mimetypes/gnome-mime-text-x-java.png  \n",
            "  inflating: Fiji.app/java/linux-amd64/jdk1.8.0_66/jre/lib/desktop/icons/HighContrastInverse/16x16/mimetypes/gnome-mime-application-x-java-archive.png  \n",
            "  inflating: Fiji.app/java/linux-amd64/jdk1.8.0_66/jre/lib/desktop/icons/HighContrastInverse/16x16/apps/sun-java.png  \n",
            "  inflating: Fiji.app/java/linux-amd64/jdk1.8.0_66/jre/lib/desktop/icons/HighContrastInverse/16x16/apps/sun-javaws.png  \n",
            "  inflating: Fiji.app/java/linux-amd64/jdk1.8.0_66/jre/lib/desktop/icons/HighContrastInverse/16x16/apps/sun-jcontrol.png  \n",
            "  inflating: Fiji.app/java/linux-amd64/jdk1.8.0_66/jre/lib/desktop/icons/HighContrastInverse/48x48/mimetypes/gnome-mime-application-x-java-jnlp-file.png  \n",
            "  inflating: Fiji.app/java/linux-amd64/jdk1.8.0_66/jre/lib/desktop/icons/HighContrastInverse/48x48/mimetypes/gnome-mime-text-x-java.png  \n",
            "  inflating: Fiji.app/java/linux-amd64/jdk1.8.0_66/jre/lib/desktop/icons/HighContrastInverse/48x48/mimetypes/gnome-mime-application-x-java-archive.png  \n",
            "  inflating: Fiji.app/java/linux-amd64/jdk1.8.0_66/jre/lib/desktop/icons/HighContrastInverse/48x48/apps/sun-java.png  \n",
            "  inflating: Fiji.app/java/linux-amd64/jdk1.8.0_66/jre/lib/desktop/icons/HighContrastInverse/48x48/apps/sun-javaws.png  \n",
            "  inflating: Fiji.app/java/linux-amd64/jdk1.8.0_66/jre/lib/desktop/icons/HighContrastInverse/48x48/apps/sun-jcontrol.png  \n",
            "  inflating: Fiji.app/java/linux-amd64/jdk1.8.0_66/jre/lib/desktop/icons/HighContrast/16x16/mimetypes/gnome-mime-application-x-java-jnlp-file.png  \n",
            "  inflating: Fiji.app/java/linux-amd64/jdk1.8.0_66/jre/lib/desktop/icons/HighContrast/16x16/mimetypes/gnome-mime-text-x-java.png  \n",
            "  inflating: Fiji.app/java/linux-amd64/jdk1.8.0_66/jre/lib/desktop/icons/HighContrast/16x16/mimetypes/gnome-mime-application-x-java-archive.png  \n",
            "  inflating: Fiji.app/java/linux-amd64/jdk1.8.0_66/jre/lib/desktop/icons/HighContrast/16x16/apps/sun-java.png  \n",
            "  inflating: Fiji.app/java/linux-amd64/jdk1.8.0_66/jre/lib/desktop/icons/HighContrast/16x16/apps/sun-javaws.png  \n",
            "  inflating: Fiji.app/java/linux-amd64/jdk1.8.0_66/jre/lib/desktop/icons/HighContrast/16x16/apps/sun-jcontrol.png  \n",
            "  inflating: Fiji.app/java/linux-amd64/jdk1.8.0_66/jre/lib/desktop/icons/HighContrast/48x48/mimetypes/gnome-mime-application-x-java-jnlp-file.png  \n",
            "  inflating: Fiji.app/java/linux-amd64/jdk1.8.0_66/jre/lib/desktop/icons/HighContrast/48x48/mimetypes/gnome-mime-text-x-java.png  \n",
            "  inflating: Fiji.app/java/linux-amd64/jdk1.8.0_66/jre/lib/desktop/icons/HighContrast/48x48/mimetypes/gnome-mime-application-x-java-archive.png  \n",
            "  inflating: Fiji.app/java/linux-amd64/jdk1.8.0_66/jre/lib/desktop/icons/HighContrast/48x48/apps/sun-java.png  \n",
            "  inflating: Fiji.app/java/linux-amd64/jdk1.8.0_66/jre/lib/desktop/icons/HighContrast/48x48/apps/sun-javaws.png  \n",
            "  inflating: Fiji.app/java/linux-amd64/jdk1.8.0_66/jre/lib/desktop/icons/HighContrast/48x48/apps/sun-jcontrol.png  \n",
            "  inflating: Fiji.app/java/linux-amd64/jdk1.8.0_66/jre/lib/amd64/liblcms.so  \n",
            "  inflating: Fiji.app/java/linux-amd64/jdk1.8.0_66/jre/lib/amd64/libjsoundalsa.so  \n",
            "  inflating: Fiji.app/java/linux-amd64/jdk1.8.0_66/jre/lib/amd64/libmlib_image.so  \n",
            "  inflating: Fiji.app/java/linux-amd64/jdk1.8.0_66/jre/lib/amd64/libawt_headless.so  \n",
            "  inflating: Fiji.app/java/linux-amd64/jdk1.8.0_66/jre/lib/amd64/libjava.so  \n",
            "  inflating: Fiji.app/java/linux-amd64/jdk1.8.0_66/jre/lib/amd64/libprism_es2.so  \n",
            "  inflating: Fiji.app/java/linux-amd64/jdk1.8.0_66/jre/lib/amd64/libzip.so  \n",
            "  inflating: Fiji.app/java/linux-amd64/jdk1.8.0_66/jre/lib/amd64/libnpt.so  \n",
            "  inflating: Fiji.app/java/linux-amd64/jdk1.8.0_66/jre/lib/amd64/libavplugin-54.so  \n",
            "  inflating: Fiji.app/java/linux-amd64/jdk1.8.0_66/jre/lib/amd64/libfxplugins.so  \n",
            "  inflating: Fiji.app/java/linux-amd64/jdk1.8.0_66/jre/lib/amd64/libdcpr.so  \n",
            "  inflating: Fiji.app/java/linux-amd64/jdk1.8.0_66/jre/lib/amd64/libbci.so  \n",
            "  inflating: Fiji.app/java/linux-amd64/jdk1.8.0_66/jre/lib/amd64/libjfxmedia.so  \n",
            "  inflating: Fiji.app/java/linux-amd64/jdk1.8.0_66/jre/lib/amd64/libprism_common.so  \n",
            "  inflating: Fiji.app/java/linux-amd64/jdk1.8.0_66/jre/lib/amd64/libjsdt.so  \n",
            "  inflating: Fiji.app/java/linux-amd64/jdk1.8.0_66/jre/lib/amd64/libjavafx_font.so  \n",
            "  inflating: Fiji.app/java/linux-amd64/jdk1.8.0_66/jre/lib/amd64/libjavafx_font_pango.so  \n",
            "  inflating: Fiji.app/java/linux-amd64/jdk1.8.0_66/jre/lib/amd64/libsunec.so  \n",
            "  inflating: Fiji.app/java/linux-amd64/jdk1.8.0_66/jre/lib/amd64/jvm.cfg  \n",
            "  inflating: Fiji.app/java/linux-amd64/jdk1.8.0_66/jre/lib/amd64/libresource.so  \n",
            "  inflating: Fiji.app/java/linux-amd64/jdk1.8.0_66/jre/lib/amd64/libdeploy.so  \n",
            "  inflating: Fiji.app/java/linux-amd64/jdk1.8.0_66/jre/lib/amd64/libhprof.so  \n",
            "  inflating: Fiji.app/java/linux-amd64/jdk1.8.0_66/jre/lib/amd64/libavplugin-53.so  \n",
            "  inflating: Fiji.app/java/linux-amd64/jdk1.8.0_66/jre/lib/amd64/libt2k.so  \n",
            "  inflating: Fiji.app/java/linux-amd64/jdk1.8.0_66/jre/lib/amd64/libjavafx_font_t2k.so  \n",
            "  inflating: Fiji.app/java/linux-amd64/jdk1.8.0_66/jre/lib/amd64/libkcms.so  \n",
            "  inflating: Fiji.app/java/linux-amd64/jdk1.8.0_66/jre/lib/amd64/libverify.so  \n",
            "  inflating: Fiji.app/java/linux-amd64/jdk1.8.0_66/jre/lib/amd64/libgstreamer-lite.so  \n",
            "  inflating: Fiji.app/java/linux-amd64/jdk1.8.0_66/jre/lib/amd64/libj2pkcs11.so  \n",
            "  inflating: Fiji.app/java/linux-amd64/jdk1.8.0_66/jre/lib/amd64/libglass.so  \n",
            "  inflating: Fiji.app/java/linux-amd64/jdk1.8.0_66/jre/lib/amd64/libprism_sw.so  \n",
            "  inflating: Fiji.app/java/linux-amd64/jdk1.8.0_66/jre/lib/amd64/libdt_socket.so  \n",
            "  inflating: Fiji.app/java/linux-amd64/jdk1.8.0_66/jre/lib/amd64/server/Xusage.txt  \n",
            "  inflating: Fiji.app/java/linux-amd64/jdk1.8.0_66/jre/lib/amd64/server/libjvm.so  \n",
            "  inflating: Fiji.app/java/linux-amd64/jdk1.8.0_66/jre/lib/amd64/server/libjsig.so  \n",
            "  inflating: Fiji.app/java/linux-amd64/jdk1.8.0_66/jre/lib/amd64/libunpack.so  \n",
            "  inflating: Fiji.app/java/linux-amd64/jdk1.8.0_66/jre/lib/amd64/libjavafx_font_freetype.so  \n",
            "  inflating: Fiji.app/java/linux-amd64/jdk1.8.0_66/jre/lib/amd64/libjawt.so  \n",
            "  inflating: Fiji.app/java/linux-amd64/jdk1.8.0_66/jre/lib/amd64/libjava_crw_demo.so  \n",
            "  inflating: Fiji.app/java/linux-amd64/jdk1.8.0_66/jre/lib/amd64/libjsound.so  \n",
            "  inflating: Fiji.app/java/linux-amd64/jdk1.8.0_66/jre/lib/amd64/libsctp.so  \n",
            "  inflating: Fiji.app/java/linux-amd64/jdk1.8.0_66/jre/lib/amd64/libjsig.so  \n",
            "  inflating: Fiji.app/java/linux-amd64/jdk1.8.0_66/jre/lib/amd64/libawt.so  \n",
            "  inflating: Fiji.app/java/linux-amd64/jdk1.8.0_66/jre/lib/amd64/libdecora_sse.so  \n",
            "  inflating: Fiji.app/java/linux-amd64/jdk1.8.0_66/jre/lib/amd64/libjdwp.so  \n",
            "  inflating: Fiji.app/java/linux-amd64/jdk1.8.0_66/jre/lib/amd64/libfontmanager.so  \n",
            "  inflating: Fiji.app/java/linux-amd64/jdk1.8.0_66/jre/lib/amd64/libnpjp2.so  \n",
            "  inflating: Fiji.app/java/linux-amd64/jdk1.8.0_66/jre/lib/amd64/libjpeg.so  \n",
            "  inflating: Fiji.app/java/linux-amd64/jdk1.8.0_66/jre/lib/amd64/libnio.so  \n",
            "  inflating: Fiji.app/java/linux-amd64/jdk1.8.0_66/jre/lib/amd64/libmanagement.so  \n",
            "  inflating: Fiji.app/java/linux-amd64/jdk1.8.0_66/jre/lib/amd64/libnet.so  \n",
            "  inflating: Fiji.app/java/linux-amd64/jdk1.8.0_66/jre/lib/amd64/libjaas_unix.so  \n",
            "  inflating: Fiji.app/java/linux-amd64/jdk1.8.0_66/jre/lib/amd64/libjfxwebkit.so  \n",
            "  inflating: Fiji.app/java/linux-amd64/jdk1.8.0_66/jre/lib/amd64/libj2pcsc.so  \n",
            "  inflating: Fiji.app/java/linux-amd64/jdk1.8.0_66/jre/lib/amd64/libinstrument.so  \n",
            "  inflating: Fiji.app/java/linux-amd64/jdk1.8.0_66/jre/lib/amd64/libsplashscreen.so  \n",
            "  inflating: Fiji.app/java/linux-amd64/jdk1.8.0_66/jre/lib/amd64/jli/libjli.so  \n",
            "  inflating: Fiji.app/java/linux-amd64/jdk1.8.0_66/jre/lib/amd64/libjavafx_iio.so  \n",
            "  inflating: Fiji.app/java/linux-amd64/jdk1.8.0_66/jre/lib/amd64/libj2gss.so  \n",
            "  inflating: Fiji.app/java/linux-amd64/jdk1.8.0_66/jre/lib/amd64/libjfr.so  \n",
            "  inflating: Fiji.app/java/linux-amd64/jdk1.8.0_66/jre/lib/amd64/libawt_xawt.so  \n",
            "  inflating: Fiji.app/java/linux-amd64/jdk1.8.0_66/jre/lib/flavormap.properties  \n",
            "  inflating: Fiji.app/java/linux-amd64/jdk1.8.0_66/jre/lib/calendars.properties  \n",
            "  inflating: Fiji.app/java/linux-amd64/jdk1.8.0_66/jre/lib/fontconfig.Turbo.properties.src  \n",
            "  inflating: Fiji.app/java/linux-amd64/jdk1.8.0_66/jre/lib/management-agent.jar  \n",
            "  inflating: Fiji.app/java/linux-amd64/jdk1.8.0_66/jre/lib/locale/ja/LC_MESSAGES/sunw_java_plugin.mo  \n",
            "  inflating: Fiji.app/java/linux-amd64/jdk1.8.0_66/jre/lib/locale/ko.UTF-8/LC_MESSAGES/sunw_java_plugin.mo  \n",
            "  inflating: Fiji.app/java/linux-amd64/jdk1.8.0_66/jre/lib/locale/de/LC_MESSAGES/sunw_java_plugin.mo  \n",
            "  inflating: Fiji.app/java/linux-amd64/jdk1.8.0_66/jre/lib/locale/sv/LC_MESSAGES/sunw_java_plugin.mo  \n",
            "  inflating: Fiji.app/java/linux-amd64/jdk1.8.0_66/jre/lib/locale/zh_TW.BIG5/LC_MESSAGES/sunw_java_plugin.mo  \n",
            "  inflating: Fiji.app/java/linux-amd64/jdk1.8.0_66/jre/lib/locale/zh.GBK/LC_MESSAGES/sunw_java_plugin.mo  \n",
            "  inflating: Fiji.app/java/linux-amd64/jdk1.8.0_66/jre/lib/locale/fr/LC_MESSAGES/sunw_java_plugin.mo  \n",
            "  inflating: Fiji.app/java/linux-amd64/jdk1.8.0_66/jre/lib/locale/it/LC_MESSAGES/sunw_java_plugin.mo  \n",
            "  inflating: Fiji.app/java/linux-amd64/jdk1.8.0_66/jre/lib/locale/zh_HK.BIG5HK/LC_MESSAGES/sunw_java_plugin.mo  \n",
            "  inflating: Fiji.app/java/linux-amd64/jdk1.8.0_66/jre/lib/locale/es/LC_MESSAGES/sunw_java_plugin.mo  \n",
            "  inflating: Fiji.app/java/linux-amd64/jdk1.8.0_66/jre/lib/locale/zh/LC_MESSAGES/sunw_java_plugin.mo  \n",
            "  inflating: Fiji.app/java/linux-amd64/jdk1.8.0_66/jre/lib/locale/ko/LC_MESSAGES/sunw_java_plugin.mo  \n",
            "  inflating: Fiji.app/java/linux-amd64/jdk1.8.0_66/jre/lib/locale/zh_TW/LC_MESSAGES/sunw_java_plugin.mo  \n",
            "  inflating: Fiji.app/java/linux-amd64/jdk1.8.0_66/jre/lib/locale/pt_BR/LC_MESSAGES/sunw_java_plugin.mo  \n",
            "  inflating: Fiji.app/java/linux-amd64/jdk1.8.0_66/jre/lib/currency.data  \n",
            "  inflating: Fiji.app/java/linux-amd64/jdk1.8.0_66/jre/lib/fontconfig.properties.src  \n",
            "  inflating: Fiji.app/java/linux-amd64/jdk1.8.0_66/jre/lib/jce.jar  \n",
            "  inflating: Fiji.app/java/linux-amd64/jdk1.8.0_66/jre/lib/rt.jar  \n",
            "  inflating: Fiji.app/java/linux-amd64/jdk1.8.0_66/jre/lib/psfontj2d.properties  \n",
            "  inflating: Fiji.app/java/linux-amd64/jdk1.8.0_66/jre/lib/content-types.properties  \n",
            "  inflating: Fiji.app/java/linux-amd64/jdk1.8.0_66/jre/lib/jfr.jar  \n",
            "  inflating: Fiji.app/java/linux-amd64/jdk1.8.0_66/jre/lib/javaws.jar  \n",
            "  inflating: Fiji.app/java/linux-amd64/jdk1.8.0_66/jre/lib/jfxswt.jar  \n"
          ],
          "name": "stdout"
        }
      ]
    },
    {
      "cell_type": "code",
      "metadata": {
        "id": "GZbVnixSd1YB"
      },
      "source": [
        "#!pip install SimpleITK"
      ],
      "execution_count": 21,
      "outputs": []
    },
    {
      "cell_type": "code",
      "metadata": {
        "id": "e9DKfO74lHGd"
      },
      "source": [
        "#!git clone https://github.com/InsightSoftwareConsortium/SimpleITK-Notebooks.git"
      ],
      "execution_count": 22,
      "outputs": []
    },
    {
      "cell_type": "code",
      "metadata": {
        "colab": {
          "base_uri": "https://localhost:8080/"
        },
        "id": "orkwOiFIeBmV",
        "outputId": "341b738c-6969-4bf9-ba43-b680a3cc670f"
      },
      "source": [
        "pip install ipywidgets"
      ],
      "execution_count": 23,
      "outputs": [
        {
          "output_type": "stream",
          "text": [
            "Requirement already satisfied: ipywidgets in ./lib/python3.7/dist-packages (7.6.3)\n",
            "Requirement already satisfied: ipykernel>=4.5.1 in ./lib/python3.7/dist-packages (from ipywidgets) (4.10.1)\n",
            "Requirement already satisfied: widgetsnbextension~=3.5.0 in ./lib/python3.7/dist-packages (from ipywidgets) (3.5.1)\n",
            "Requirement already satisfied: ipython>=4.0.0; python_version >= \"3.3\" in ./lib/python3.7/dist-packages (from ipywidgets) (5.5.0)\n",
            "Requirement already satisfied: jupyterlab-widgets>=1.0.0; python_version >= \"3.6\" in ./lib/python3.7/dist-packages (from ipywidgets) (1.0.0)\n",
            "Requirement already satisfied: nbformat>=4.2.0 in ./lib/python3.7/dist-packages (from ipywidgets) (5.1.2)\n",
            "Requirement already satisfied: traitlets>=4.3.1 in ./lib/python3.7/dist-packages (from ipywidgets) (5.0.5)\n",
            "Requirement already satisfied: tornado>=4.0 in ./lib/python3.7/dist-packages (from ipykernel>=4.5.1->ipywidgets) (5.1.1)\n",
            "Requirement already satisfied: jupyter-client in ./lib/python3.7/dist-packages (from ipykernel>=4.5.1->ipywidgets) (5.3.5)\n",
            "Requirement already satisfied: notebook>=4.4.1 in ./lib/python3.7/dist-packages (from widgetsnbextension~=3.5.0->ipywidgets) (5.3.1)\n",
            "Requirement already satisfied: pexpect; sys_platform != \"win32\" in ./lib/python3.7/dist-packages (from ipython>=4.0.0; python_version >= \"3.3\"->ipywidgets) (4.8.0)\n",
            "Requirement already satisfied: pygments in ./lib/python3.7/dist-packages (from ipython>=4.0.0; python_version >= \"3.3\"->ipywidgets) (2.6.1)\n",
            "Requirement already satisfied: pickleshare in ./lib/python3.7/dist-packages (from ipython>=4.0.0; python_version >= \"3.3\"->ipywidgets) (0.7.5)\n",
            "Requirement already satisfied: decorator in ./lib/python3.7/dist-packages (from ipython>=4.0.0; python_version >= \"3.3\"->ipywidgets) (4.4.2)\n",
            "Requirement already satisfied: setuptools>=18.5 in ./lib/python3.7/dist-packages (from ipython>=4.0.0; python_version >= \"3.3\"->ipywidgets) (53.0.0)\n",
            "Requirement already satisfied: prompt-toolkit<2.0.0,>=1.0.4 in ./lib/python3.7/dist-packages (from ipython>=4.0.0; python_version >= \"3.3\"->ipywidgets) (1.0.18)\n",
            "Requirement already satisfied: simplegeneric>0.8 in ./lib/python3.7/dist-packages (from ipython>=4.0.0; python_version >= \"3.3\"->ipywidgets) (0.8.1)\n",
            "Requirement already satisfied: jsonschema!=2.5.0,>=2.4 in ./lib/python3.7/dist-packages (from nbformat>=4.2.0->ipywidgets) (2.6.0)\n",
            "Requirement already satisfied: jupyter-core in ./lib/python3.7/dist-packages (from nbformat>=4.2.0->ipywidgets) (4.7.1)\n",
            "Requirement already satisfied: ipython-genutils in ./lib/python3.7/dist-packages (from nbformat>=4.2.0->ipywidgets) (0.2.0)\n",
            "Requirement already satisfied: python-dateutil>=2.1 in ./lib/python3.7/dist-packages (from jupyter-client->ipykernel>=4.5.1->ipywidgets) (2.8.1)\n",
            "Requirement already satisfied: pyzmq>=13 in ./lib/python3.7/dist-packages (from jupyter-client->ipykernel>=4.5.1->ipywidgets) (22.0.3)\n",
            "Requirement already satisfied: Send2Trash in ./lib/python3.7/dist-packages (from notebook>=4.4.1->widgetsnbextension~=3.5.0->ipywidgets) (1.5.0)\n",
            "Requirement already satisfied: nbconvert in ./lib/python3.7/dist-packages (from notebook>=4.4.1->widgetsnbextension~=3.5.0->ipywidgets) (5.6.1)\n",
            "Requirement already satisfied: terminado>=0.8.1 in ./lib/python3.7/dist-packages (from notebook>=4.4.1->widgetsnbextension~=3.5.0->ipywidgets) (0.9.2)\n",
            "Requirement already satisfied: jinja2 in ./lib/python3.7/dist-packages (from notebook>=4.4.1->widgetsnbextension~=3.5.0->ipywidgets) (2.11.3)\n",
            "Requirement already satisfied: ptyprocess>=0.5 in ./lib/python3.7/dist-packages (from pexpect; sys_platform != \"win32\"->ipython>=4.0.0; python_version >= \"3.3\"->ipywidgets) (0.7.0)\n",
            "Requirement already satisfied: wcwidth in ./lib/python3.7/dist-packages (from prompt-toolkit<2.0.0,>=1.0.4->ipython>=4.0.0; python_version >= \"3.3\"->ipywidgets) (0.2.5)\n",
            "Requirement already satisfied: six>=1.9.0 in ./lib/python3.7/dist-packages (from prompt-toolkit<2.0.0,>=1.0.4->ipython>=4.0.0; python_version >= \"3.3\"->ipywidgets) (1.15.0)\n",
            "Requirement already satisfied: entrypoints>=0.2.2 in ./lib/python3.7/dist-packages (from nbconvert->notebook>=4.4.1->widgetsnbextension~=3.5.0->ipywidgets) (0.3)\n",
            "Requirement already satisfied: pandocfilters>=1.4.1 in ./lib/python3.7/dist-packages (from nbconvert->notebook>=4.4.1->widgetsnbextension~=3.5.0->ipywidgets) (1.4.3)\n",
            "Requirement already satisfied: bleach in ./lib/python3.7/dist-packages (from nbconvert->notebook>=4.4.1->widgetsnbextension~=3.5.0->ipywidgets) (3.3.0)\n",
            "Requirement already satisfied: defusedxml in ./lib/python3.7/dist-packages (from nbconvert->notebook>=4.4.1->widgetsnbextension~=3.5.0->ipywidgets) (0.6.0)\n",
            "Requirement already satisfied: testpath in ./lib/python3.7/dist-packages (from nbconvert->notebook>=4.4.1->widgetsnbextension~=3.5.0->ipywidgets) (0.4.4)\n",
            "Requirement already satisfied: mistune<2,>=0.8.1 in ./lib/python3.7/dist-packages (from nbconvert->notebook>=4.4.1->widgetsnbextension~=3.5.0->ipywidgets) (0.8.4)\n",
            "Requirement already satisfied: MarkupSafe>=0.23 in ./lib/python3.7/dist-packages (from jinja2->notebook>=4.4.1->widgetsnbextension~=3.5.0->ipywidgets) (1.1.1)\n",
            "Requirement already satisfied: packaging in ./lib/python3.7/dist-packages (from bleach->nbconvert->notebook>=4.4.1->widgetsnbextension~=3.5.0->ipywidgets) (20.9)\n",
            "Requirement already satisfied: webencodings in ./lib/python3.7/dist-packages (from bleach->nbconvert->notebook>=4.4.1->widgetsnbextension~=3.5.0->ipywidgets) (0.5.1)\n",
            "Requirement already satisfied: pyparsing>=2.0.2 in ./lib/python3.7/dist-packages (from packaging->bleach->nbconvert->notebook>=4.4.1->widgetsnbextension~=3.5.0->ipywidgets) (2.4.7)\n"
          ],
          "name": "stdout"
        }
      ]
    },
    {
      "cell_type": "code",
      "metadata": {
        "colab": {
          "base_uri": "https://localhost:8080/",
          "height": 84,
          "referenced_widgets": [
            "a0d1c27380534284a9d8a5e7e41ad6de",
            "e82a97804e44492b8bcbebfec2c6497c",
            "a53f4ef57f124515ab7f10436c1c532a",
            "aa4906842a7f48e18a28a726130510ba",
            "a97aebf292b94e8d846a312cb78f61ac",
            "a3123fb55fd74fa3b52b89b75393b286",
            "fbf00ea496ca4f519fe3b87e343d63d2"
          ]
        },
        "id": "RgF36aN8eE2J",
        "outputId": "c22f839b-f062-4561-a9eb-08d79571a708"
      },
      "source": [
        "# this will allow the notebook to reload/refresh automatically within the runtime\r\n",
        "%reload_ext autoreload\r\n",
        "%autoreload 2\r\n",
        "\r\n",
        "from ipywidgets import interact\r\n",
        "\r\n",
        "def f(x):\r\n",
        "  return x\r\n",
        "\r\n",
        "interact(f, x=10)"
      ],
      "execution_count": 24,
      "outputs": [
        {
          "output_type": "display_data",
          "data": {
            "application/vnd.jupyter.widget-view+json": {
              "model_id": "a0d1c27380534284a9d8a5e7e41ad6de",
              "version_minor": 0,
              "version_major": 2
            },
            "text/plain": [
              "interactive(children=(IntSlider(value=10, description='x', max=30, min=-10), Output()), _dom_classes=('widget-…"
            ]
          },
          "metadata": {
            "tags": []
          }
        },
        {
          "output_type": "execute_result",
          "data": {
            "text/plain": [
              "<function __main__.f>"
            ]
          },
          "metadata": {
            "tags": []
          },
          "execution_count": 24
        }
      ]
    },
    {
      "cell_type": "code",
      "metadata": {
        "id": "zEO9gF3wttp_"
      },
      "source": [
        "#pip install itk"
      ],
      "execution_count": 25,
      "outputs": []
    },
    {
      "cell_type": "code",
      "metadata": {
        "colab": {
          "base_uri": "https://localhost:8080/"
        },
        "id": "HaFNVhdxrzBz",
        "outputId": "a244728e-c94b-4a95-84c8-3d2d38c346fb"
      },
      "source": [
        "cd '/gdrive/MyDrive/SimpleITK-Notebooks/Python/'"
      ],
      "execution_count": 26,
      "outputs": [
        {
          "output_type": "stream",
          "text": [
            "/gdrive/MyDrive/SimpleITK-Notebooks/Python\n"
          ],
          "name": "stdout"
        }
      ]
    },
    {
      "cell_type": "code",
      "metadata": {
        "id": "7CZ95Naer7zA"
      },
      "source": [
        "!python '/gdrive/MyDrive/SimpleITK-Notebooks/Python/update_path_to_download_script.py'"
      ],
      "execution_count": 27,
      "outputs": []
    },
    {
      "cell_type": "code",
      "metadata": {
        "colab": {
          "base_uri": "https://localhost:8080/"
        },
        "id": "6uxmcL-rthqA",
        "outputId": "db8d768f-1fde-44c8-be09-02e6abc7ab9a"
      },
      "source": [
        "import os\r\n",
        "os.environ['PYTHONPATH'] += \":/content/gdrive/My Drive/Fiji.app\"\r\n",
        "! echo $PYTHONPATH\r\n",
        "os.environ['PATH'] += \":/content/gdrive/My Drive/Fiji.app\"\r\n",
        "! echo $PATH"
      ],
      "execution_count": 28,
      "outputs": [
        {
          "output_type": "stream",
          "text": [
            "/env/python:/content/gdrive/My Drive/Fiji.app\n",
            "/usr/local/nvidia/bin:/usr/local/cuda/bin:/usr/local/sbin:/usr/local/bin:/usr/sbin:/usr/bin:/sbin:/bin:/tools/node/bin:/tools/google-cloud-sdk/bin:/opt/bin:/content/gdrive/My Drive/Fiji.app:/content/gdrive/My Drive/Fiji.app\n"
          ],
          "name": "stdout"
        }
      ]
    },
    {
      "cell_type": "code",
      "metadata": {
        "id": "1SwkFZlBqJfP"
      },
      "source": [
        "import numpy as np\r\n",
        "import os\r\n",
        "from ipywidgets import interact, fixed\r\n",
        "\r\n",
        "%matplotlib inline\r\n",
        "import matplotlib.pyplot as plt\r\n",
        "\r\n",
        "from downloaddata import fetch_data as fdata\r\n",
        "\r\n",
        "OUTPUT_DIR = 'output'\r\n",
        "\r\n",
        "image_viewer = sitk.ImageViewer()"
      ],
      "execution_count": 29,
      "outputs": []
    },
    {
      "cell_type": "code",
      "metadata": {
        "colab": {
          "base_uri": "https://localhost:8080/"
        },
        "id": "nCJGlMFdqOFE",
        "outputId": "152bc48e-3ecc-49c2-d201-3b12460c4073"
      },
      "source": [
        "print(image_viewer)"
      ],
      "execution_count": 30,
      "outputs": [
        {
          "output_type": "stream",
          "text": [
            "itk::simple::ImageViewer\n",
            "  Title: \n",
            "  Command: %a -eval 'open(\"%f\"); rename(\"%t\");'\n",
            "  Application: /usr/local/Fiji.app/ImageJ-linux64\n",
            "  Default Application: /usr/local/Fiji.app/ImageJ-linux64\n",
            "  File Extension: .mha\n",
            "  Default File Extension: .mha\n",
            "  Search Path: [ ./, /root/bin/, /opt/, /usr/local/ ]\n",
            "  Executable Names: [ Fiji.app/ImageJ-linux64, Fiji.app/ImageJ-linux32 ]\n",
            "  Debug Flag: 0\n",
            "\n"
          ],
          "name": "stdout"
        }
      ]
    },
    {
      "cell_type": "code",
      "metadata": {
        "colab": {
          "base_uri": "https://localhost:8080/"
        },
        "id": "7_SNqv-kwyrU",
        "outputId": "6866a8bd-889e-4340-ce58-1969866c7d0c"
      },
      "source": [
        "%ls /usr/local/Fiji.app/ImageJ-linux64"
      ],
      "execution_count": 31,
      "outputs": [
        {
          "output_type": "stream",
          "text": [
            "\u001b[0m\u001b[01;32m/usr/local/Fiji.app/ImageJ-linux64\u001b[0m*\n"
          ],
          "name": "stdout"
        }
      ]
    },
    {
      "cell_type": "code",
      "metadata": {
        "id": "qeyk9_cUf9d3"
      },
      "source": [
        "#!python '/gdrive/MyDrive/SimpleITK-Notebooks/Python/update_path_to_download_script.py'"
      ],
      "execution_count": 32,
      "outputs": []
    },
    {
      "cell_type": "code",
      "metadata": {
        "colab": {
          "base_uri": "https://localhost:8080/"
        },
        "id": "w2GNa--GgkUZ",
        "outputId": "ba2776b8-6552-4607-a7cc-177726d86c1f"
      },
      "source": [
        "cd '/gdrive/MyDrive/SimpleITK-Notebooks/Python/'"
      ],
      "execution_count": 33,
      "outputs": [
        {
          "output_type": "stream",
          "text": [
            "/gdrive/MyDrive/SimpleITK-Notebooks/Python\n"
          ],
          "name": "stdout"
        }
      ]
    },
    {
      "cell_type": "code",
      "metadata": {
        "colab": {
          "base_uri": "https://localhost:8080/"
        },
        "id": "z15LpuD9fh-u",
        "outputId": "ee6a24cf-c61a-43ae-9a5d-1020ea09b907"
      },
      "source": [
        "import SimpleITK as sitk\r\n",
        "\r\n",
        "%run update_path_to_download_script\r\n",
        "from downloaddata import fetch_data, fetch_data_all\r\n",
        "\r\n",
        "from ipywidgets import interact\r\n",
        "\r\n",
        "print(sitk.Version())"
      ],
      "execution_count": 34,
      "outputs": [
        {
          "output_type": "stream",
          "text": [
            "SimpleITK Version: 2.0.2 (ITK 5.1)\n",
            "Compiled: Dec  1 2020 22:01:03\n",
            "\n"
          ],
          "name": "stdout"
        }
      ]
    },
    {
      "cell_type": "code",
      "metadata": {
        "colab": {
          "base_uri": "https://localhost:8080/"
        },
        "id": "Sjh10OyWhXG4",
        "outputId": "262061f0-ebc9-4b27-f649-ff02c0b853f2"
      },
      "source": [
        "%cd '/gdrive/MyDrive/'\r\n",
        "%ls"
      ],
      "execution_count": 35,
      "outputs": [
        {
          "output_type": "stream",
          "text": [
            "/gdrive/MyDrive\n",
            "\u001b[0m\u001b[01;34m'Colab Notebooks'\u001b[0m/                      \u001b[01;34mSimpleITK_ISBI2020_TUTORIAL\u001b[0m/\n",
            " \u001b[01;34mFiji.app\u001b[0m/                              SimpleITK.jpg\n",
            " fiji-linux64-20170530.zip              \u001b[01;34mSimpleITK-Notebooks\u001b[0m/\n",
            " \u001b[01;34mMyNiftyRec\u001b[0m/                            unnamed.png\n",
            " \u001b[01;34mMyTomoLab\u001b[0m/                            'Untitled project.gscript'\n",
            " pyjnius-1.2.0-py37h90b5fae_0.tar.bz2\n"
          ],
          "name": "stdout"
        }
      ]
    },
    {
      "cell_type": "code",
      "metadata": {
        "colab": {
          "base_uri": "https://localhost:8080/"
        },
        "id": "KujzqAVJB6UC",
        "outputId": "03a07019-b692-4954-c525-4d84f87f7861"
      },
      "source": [
        "cd /usr/local/"
      ],
      "execution_count": 36,
      "outputs": [
        {
          "output_type": "stream",
          "text": [
            "/usr/local\n"
          ],
          "name": "stdout"
        }
      ]
    },
    {
      "cell_type": "code",
      "metadata": {
        "id": "SS2wEpSedN3z"
      },
      "source": [
        "#image_viewer.SetApplication('/usr/local/Fiji.app/ImageJ-linux64')"
      ],
      "execution_count": 37,
      "outputs": []
    },
    {
      "cell_type": "code",
      "metadata": {
        "id": "CaJMiV5cdKIn"
      },
      "source": [
        "# Uncomment the line below to change the default external viewer to your viewer of choice and test that it works.\r\n",
        "#%env SITK_SHOW_COMMAND /Applications/ITK-SNAP.app/Contents/MacOS/ITK-SNAP \r\n",
        "#%env SITK_SHOW_COMMAND  /gdrive/MyDrive/Fiji.app/ImageJ-linux64\r\n",
        "#%env SITK_SHOW_COMMAND  /usr/local/Fiji.app/\r\n",
        "#%env SITK_SHOW_COMMAND  /usr/local/Fiji.app/ImageJ-linux64\r\n",
        "\r\n",
        "# Retrieve an image from the network, read it and display using the external viewer. \r\n",
        "# The show method will also set the display window's title and by setting debugOn to True, \r\n",
        "# will also print information with respect to the command it is attempting to invoke.\r\n",
        "# NOTE: The debug information is printed to the terminal from which you launched the notebook\r\n",
        "#       server."
      ],
      "execution_count": 38,
      "outputs": []
    },
    {
      "cell_type": "code",
      "metadata": {
        "colab": {
          "base_uri": "https://localhost:8080/"
        },
        "id": "SM1qty46eS1p",
        "outputId": "8c7a9cc1-c0ea-47ec-be5e-d4a99277b0b5"
      },
      "source": [
        "%ls /gdrive/MyDrive/"
      ],
      "execution_count": 39,
      "outputs": [
        {
          "output_type": "stream",
          "text": [
            "\u001b[0m\u001b[01;34m'Colab Notebooks'\u001b[0m/                      \u001b[01;34mSimpleITK_ISBI2020_TUTORIAL\u001b[0m/\n",
            " \u001b[01;34mFiji.app\u001b[0m/                              SimpleITK.jpg\n",
            " fiji-linux64-20170530.zip              \u001b[01;34mSimpleITK-Notebooks\u001b[0m/\n",
            " \u001b[01;34mMyNiftyRec\u001b[0m/                            unnamed.png\n",
            " \u001b[01;34mMyTomoLab\u001b[0m/                            'Untitled project.gscript'\n",
            " pyjnius-1.2.0-py37h90b5fae_0.tar.bz2\n"
          ],
          "name": "stdout"
        }
      ]
    },
    {
      "cell_type": "code",
      "metadata": {
        "colab": {
          "base_uri": "https://localhost:8080/"
        },
        "id": "h1gzSmoPxmPQ",
        "outputId": "85a737c2-d652-45a4-b6d8-afd5a1374af6"
      },
      "source": [
        "%cd /gdrive/MyDrive/SimpleITK_ISBI2020_TUTORIAL"
      ],
      "execution_count": 40,
      "outputs": [
        {
          "output_type": "stream",
          "text": [
            "/gdrive/MyDrive/SimpleITK_ISBI2020_TUTORIAL\n"
          ],
          "name": "stdout"
        }
      ]
    },
    {
      "cell_type": "code",
      "metadata": {
        "colab": {
          "base_uri": "https://localhost:8080/"
        },
        "id": "JntpnOgOFwep",
        "outputId": "d66e129b-fd4c-477d-dab1-65956f028ebe"
      },
      "source": [
        "print(image_viewer)"
      ],
      "execution_count": 41,
      "outputs": [
        {
          "output_type": "stream",
          "text": [
            "itk::simple::ImageViewer\n",
            "  Title: \n",
            "  Command: %a -eval 'open(\"%f\"); rename(\"%t\");'\n",
            "  Application: /usr/local/Fiji.app/ImageJ-linux64\n",
            "  Default Application: /usr/local/Fiji.app/ImageJ-linux64\n",
            "  File Extension: .mha\n",
            "  Default File Extension: .mha\n",
            "  Search Path: [ ./, /root/bin/, /opt/, /usr/local/ ]\n",
            "  Executable Names: [ Fiji.app/ImageJ-linux64, Fiji.app/ImageJ-linux32 ]\n",
            "  Debug Flag: 0\n",
            "\n"
          ],
          "name": "stdout"
        }
      ]
    },
    {
      "cell_type": "code",
      "metadata": {
        "id": "o9zBdnykCbus"
      },
      "source": [
        "#import SimpleITK as sitk\n",
        "\n",
        "#%matplotlib inline\n",
        "#import matplotlib.pyplot as plt\n",
        "#import numpy as np\n",
        "\n",
        "#from ipywidgets import interact, fixed\n",
        "#import os\n",
        "\n",
        "#OUTPUT_DIR = 'Output'\n",
        "\n",
        "# Utility method that either downloads data from the Girder repository or\n",
        "# if already downloaded returns the file name for reading from disk (cached data).\n",
        "#%run update_path_to_download_script\n",
        "#from downloaddata import fetch_data as fdata"
      ],
      "execution_count": 42,
      "outputs": []
    },
    {
      "cell_type": "code",
      "metadata": {
        "id": "8ZYlap9U9mwC"
      },
      "source": [
        "import SimpleITK as sitk\n",
        "import registration_gui as rgui\n",
        "import utilities \n",
        "\n",
        "from downloaddata import fetch_data as fdata\n",
        "\n",
        "from ipywidgets import interact, fixed\n",
        "\n",
        "%matplotlib inline\n",
        "import matplotlib.pyplot as plt\n",
        "\n",
        "import numpy as np"
      ],
      "execution_count": 43,
      "outputs": []
    },
    {
      "cell_type": "markdown",
      "metadata": {
        "id": "UHQ-NxcU9mwD"
      },
      "source": [
        "## Data and Registration Task\n",
        "\n",
        "In this notebook we will use the Point-validated Pixel-based Breathing Thorax Model (POPI). This is a 4D (3D+time) thoracic-abdominal CT (10 CTs representing the respiratory cycle) with masks segmenting each of the CTs to air/body/lung, and a set of corresponding landmarks localized in each of the CT volumes.\n",
        "\n",
        "The registration problem we deal with is non-rigid alignment of the lungs throughout the respiratory cycle. This information is relevant for radiation therapy planning and execution.\n",
        "\n",
        "\n",
        "The POPI model is provided by the Léon Bérard Cancer Center & CREATIS Laboratory, Lyon, France. The relevant publication is:\n",
        "\n",
        "J. Vandemeulebroucke, D. Sarrut, P. Clarysse, \"The POPI-model, a point-validated pixel-based breathing thorax model\",\n",
        "Proc. XVth International Conference on the Use of Computers in Radiation Therapy (ICCR), Toronto, Canada, 2007.\n",
        "\n",
        "Additional 4D CT data sets with reference points are available from the CREATIS Laboratory <a href=\"http://www.creatis.insa-lyon.fr/rio/popi-model?action=show&redirect=popi\">here</a>. "
      ]
    },
    {
      "cell_type": "code",
      "metadata": {
        "colab": {
          "base_uri": "https://localhost:8080/",
          "height": 510,
          "referenced_widgets": [
            "1f41b4012cb44f22917163f28ceb8725",
            "300d201eff63476a80dafbeb6863ebbc",
            "79268f37a2284335acc7afb145647565",
            "bab9a8cdd9174b9c8c18fe26e2071e74",
            "674a786e14ae4703ab5de555ad2d1b3c",
            "15b2462ceb7847609cbcd84bf423a585",
            "356078b68d96432585d408c4e20765bf",
            "2794d0f829234646aa1b8149bb7e79ea",
            "3d6ba67d6ed64b339ef3690eb774fbba",
            "3d8c507eef8d4467adc089090e3a4850"
          ]
        },
        "id": "k_cEqUMy9mwD",
        "outputId": "a1bfed0e-b848-4e9b-bd26-f376300e47c6"
      },
      "source": [
        "images = []\n",
        "masks = []\n",
        "points = []\n",
        "image_indexes = [0,7]\n",
        "for i in image_indexes:\n",
        "    image_file_name = 'POPI/meta/{0}0-P.mhd'.format(i)\n",
        "    mask_file_name = 'POPI/masks/{0}0-air-body-lungs.mhd'.format(i)\n",
        "    points_file_name = 'POPI/landmarks/{0}0-Landmarks.pts'.format(i)\n",
        "    images.append(sitk.ReadImage(fdata(image_file_name), sitk.sitkFloat32)) \n",
        "    masks.append(sitk.ReadImage(fdata(mask_file_name)))\n",
        "    points.append(utilities.read_POPI_points(fdata(points_file_name)))\n",
        "        \n",
        "interact(rgui.display_coronal_with_overlay, temporal_slice=(0,len(images)-1), \n",
        "         coronal_slice = (0, images[0].GetSize()[1]-1), \n",
        "         images = fixed(images), masks = fixed(masks), \n",
        "         label=fixed(utilities.popi_lung_label), window_min = fixed(-1024), window_max=fixed(976));"
      ],
      "execution_count": 44,
      "outputs": [
        {
          "output_type": "stream",
          "text": [
            "Fetching POPI/meta/00-P.mhd\n",
            "Downloaded 48936960 of 48936960 bytes (100.00%)\n",
            "Fetching POPI/masks/00-air-body-lungs.mhd\n",
            "Downloaded 24473600 of 24473600 bytes (100.00%)\n",
            "Fetching POPI/landmarks/00-Landmarks.pts\n",
            "Downloaded 715 of 715 bytes (100.00%)\n",
            "Fetching POPI/meta/70-P.mhd\n",
            "Downloaded 48936960 of 48936960 bytes (100.00%)\n",
            "Fetching POPI/masks/70-air-body-lungs.mhd\n",
            "Downloaded 24473600 of 24473600 bytes (100.00%)\n",
            "Fetching POPI/landmarks/70-Landmarks.pts\n",
            "Downloaded 716 of 716 bytes (100.00%)\n"
          ],
          "name": "stdout"
        },
        {
          "output_type": "display_data",
          "data": {
            "application/vnd.jupyter.widget-view+json": {
              "model_id": "1f41b4012cb44f22917163f28ceb8725",
              "version_minor": 0,
              "version_major": 2
            },
            "text/plain": [
              "interactive(children=(IntSlider(value=0, description='temporal_slice', max=1), IntSlider(value=179, descriptio…"
            ]
          },
          "metadata": {
            "tags": []
          }
        }
      ]
    },
    {
      "cell_type": "markdown",
      "metadata": {
        "id": "QosD6iv69mwE"
      },
      "source": [
        "## Free Form Deformation\n",
        "\n",
        "Define a BSplineTransform using a sparse set of grid points overlaid onto the fixed image's domain to deform it.\n",
        "\n",
        "For the current registration task we are fortunate in that we have a unique setting. The images are of the same patient during respiration so we can initialize the registration using the identity transform. Additionally, we have masks demarcating the lungs.\n",
        "\n",
        "We use the registration framework taking advantage of its ability to use masks that limit the similarity metric estimation to points lying inside our region of interest, the lungs."
      ]
    },
    {
      "cell_type": "code",
      "metadata": {
        "id": "M5KqU8uf9mwE"
      },
      "source": [
        "fixed_index = 0\n",
        "moving_index = 1\n",
        "\n",
        "fixed_image = images[fixed_index]\n",
        "fixed_image_mask = masks[fixed_index] == utilities.popi_lung_label\n",
        "fixed_points = points[fixed_index]\n",
        "\n",
        "moving_image = images[moving_index]\n",
        "moving_image_mask = masks[moving_index] == utilities.popi_lung_label\n",
        "moving_points = points[moving_index]"
      ],
      "execution_count": 45,
      "outputs": []
    },
    {
      "cell_type": "code",
      "metadata": {
        "colab": {
          "base_uri": "https://localhost:8080/"
        },
        "id": "KeQAb4aA9mwE",
        "outputId": "21bd964e-5d9e-4d5d-f2fe-d0462b3f7028"
      },
      "source": [
        "# Define a simple callback which allows us to monitor registration progress.\n",
        "def iteration_callback(filter):\n",
        "    print('\\r{0:.2f}'.format(filter.GetMetricValue()), end='')\n",
        "\n",
        "registration_method = sitk.ImageRegistrationMethod()\n",
        "    \n",
        "# Determine the number of BSpline control points using the physical \n",
        "# spacing we want for the finest resolution control grid. \n",
        "grid_physical_spacing = [50.0, 50.0, 50.0] # A control point every 50mm\n",
        "image_physical_size = [size*spacing for size,spacing in zip(fixed_image.GetSize(), fixed_image.GetSpacing())]\n",
        "mesh_size = [int(image_size/grid_spacing + 0.5) \\\n",
        "             for image_size,grid_spacing in zip(image_physical_size,grid_physical_spacing)]\n",
        "# The starting mesh size will be 1/4 of the original, it will be refined by \n",
        "# the multi-resolution framework.\n",
        "mesh_size = [int(sz/4 + 0.5) for sz in mesh_size]\n",
        "\n",
        "initial_transform = sitk.BSplineTransformInitializer(image1 = fixed_image, \n",
        "                                                     transformDomainMeshSize = mesh_size, order=3)    \n",
        "# Instead of the standard SetInitialTransform we use the BSpline specific method which also\n",
        "# accepts the scaleFactors parameter to refine the BSpline mesh. In this case we start with \n",
        "# the given mesh_size at the highest pyramid level then we double it in the next lower level and\n",
        "# in the full resolution image we use a mesh that is four times the original size.\n",
        "registration_method.SetInitialTransformAsBSpline(initial_transform,\n",
        "                                                 inPlace=False,\n",
        "                                                 scaleFactors=[1,2,4])\n",
        "\n",
        "registration_method.SetMetricAsMeanSquares()\n",
        "registration_method.SetMetricSamplingStrategy(registration_method.RANDOM)\n",
        "registration_method.SetMetricSamplingPercentage(0.01)\n",
        "registration_method.SetMetricFixedMask(fixed_image_mask)\n",
        "    \n",
        "registration_method.SetShrinkFactorsPerLevel(shrinkFactors = [4,2,1])\n",
        "registration_method.SetSmoothingSigmasPerLevel(smoothingSigmas=[2,1,0])\n",
        "registration_method.SmoothingSigmasAreSpecifiedInPhysicalUnitsOn()\n",
        "\n",
        "registration_method.SetInterpolator(sitk.sitkLinear)\n",
        "registration_method.SetOptimizerAsLBFGS2(solutionAccuracy=1e-2, numberOfIterations=100, deltaConvergenceTolerance=0.01)\n",
        "\n",
        "registration_method.AddCommand(sitk.sitkIterationEvent, lambda: iteration_callback(registration_method))\n",
        "\n",
        "final_transformation = registration_method.Execute(fixed_image, moving_image)\n",
        "print('\\nOptimizer\\'s stopping condition, {0}'.format(registration_method.GetOptimizerStopConditionDescription()))"
      ],
      "execution_count": null,
      "outputs": [
        {
          "output_type": "stream",
          "text": [
            "4151.59"
          ],
          "name": "stdout"
        }
      ]
    },
    {
      "cell_type": "markdown",
      "metadata": {
        "id": "Dhdzsbc29mwF"
      },
      "source": [
        "## Qualitative evaluation via segmentation transfer\n",
        "\n",
        "Transfer the segmentation from the moving image to the fixed image before and after registration and visually evaluate overlap."
      ]
    },
    {
      "cell_type": "code",
      "metadata": {
        "id": "EyBRdW4B9mwF"
      },
      "source": [
        "transformed_segmentation = sitk.Resample(moving_image_mask,\n",
        "                                         fixed_image,\n",
        "                                         final_transformation, \n",
        "                                         sitk.sitkNearestNeighbor,\n",
        "                                         0.0, \n",
        "                                         moving_image_mask.GetPixelID())\n",
        "\n",
        "interact(rgui.display_coronal_with_overlay, temporal_slice=(0,1), \n",
        "         coronal_slice = (0, fixed_image.GetSize()[1]-1), \n",
        "         images = fixed([fixed_image,fixed_image]), masks = fixed([moving_image_mask, transformed_segmentation]), \n",
        "         label=fixed(1), window_min = fixed(-1024), window_max=fixed(976));"
      ],
      "execution_count": null,
      "outputs": []
    },
    {
      "cell_type": "markdown",
      "metadata": {
        "id": "q_1earKv9mwG"
      },
      "source": [
        "### Quantitative evaluation \n",
        "\n",
        "The most appropriate evaluation is based on analysis of Target Registration Errors(TRE), which is defined as follows:\n",
        "\n",
        "Given the transformation $T_f^m$ and corresponding points in the two coordinate systems, $^fp,^mp$, points which were not used in the registration process, TRE is defined as $\\|T_f^m(^fp) - ^mp\\|$. \n",
        "\n",
        "We start by looking at some descriptive statistics of TRE:"
      ]
    },
    {
      "cell_type": "code",
      "metadata": {
        "id": "qjFu4vyU9mwG"
      },
      "source": [
        "initial_TRE = utilities.target_registration_errors(sitk.Transform(), fixed_points, moving_points)\n",
        "final_TRE = utilities.target_registration_errors(final_transformation, fixed_points, moving_points)\n",
        "\n",
        "print('Initial alignment errors in millimeters, mean(std): {:.2f}({:.2f}), max: {:.2f}'.format(np.mean(initial_TRE), \n",
        "                                                                                               np.std(initial_TRE), \n",
        "                                                                                               np.max(initial_TRE)))\n",
        "print('Final alignment errors in millimeters, mean(std): {:.2f}({:.2f}), max: {:.2f}'.format(np.mean(final_TRE), \n",
        "                                                                                               np.std(final_TRE), \n",
        "                                                                                               np.max(final_TRE)))"
      ],
      "execution_count": null,
      "outputs": []
    },
    {
      "cell_type": "markdown",
      "metadata": {
        "id": "H0IBEUPw9mwH"
      },
      "source": [
        "The above descriptive statistics do not convey the whole picture, we should also look at the TRE distributions before and after registration."
      ]
    },
    {
      "cell_type": "code",
      "metadata": {
        "id": "9wcYMRuq9mwH"
      },
      "source": [
        "plt.hist(initial_TRE, bins=20, alpha=0.5, label='before registration', color='blue')\n",
        "plt.hist(final_TRE, bins=20, alpha=0.5, label='after registration', color='green')\n",
        "plt.legend()\n",
        "plt.title('TRE histogram');"
      ],
      "execution_count": null,
      "outputs": []
    },
    {
      "cell_type": "markdown",
      "metadata": {
        "id": "JX4dU1MV9mwH"
      },
      "source": [
        "Finally, we should also take into account the fact that TRE is spatially variant (think center of rotation). We therefore should also explore the distribution of errors as a function of the point location."
      ]
    },
    {
      "cell_type": "code",
      "metadata": {
        "id": "i93Og3j79mwH"
      },
      "source": [
        "initial_errors = utilities.target_registration_errors(sitk.Transform(), fixed_points, moving_points, display_errors = True)\n",
        "utilities.target_registration_errors(final_transformation, fixed_points, moving_points, \n",
        "                                     min_err=min(initial_errors), max_err=max(initial_errors), display_errors = True);"
      ],
      "execution_count": null,
      "outputs": []
    },
    {
      "cell_type": "markdown",
      "metadata": {
        "id": "jyyZJyV59mwI"
      },
      "source": [
        "Deciding whether a registration algorithm is appropriate for a specific problem is context dependent and is defined by the clinical/research needs both in terms of accuracy and computational complexity."
      ]
    },
    {
      "cell_type": "markdown",
      "metadata": {
        "id": "xRu9fk0z9mwI"
      },
      "source": [
        "## Demons Based Registration\n",
        "\n",
        "SimpleITK includes a number of filters from the Demons registration family (originally introduced by J. P. Thirion):\n",
        "1. DemonsRegistrationFilter.\n",
        "2. DiffeomorphicDemonsRegistrationFilter.\n",
        "3. FastSymmetricForcesDemonsRegistrationFilter.\n",
        "4. SymmetricForcesDemonsRegistrationFilter.\n",
        "\n",
        "These are appropriate for mono-modal registration. As these filters are independent of the ImageRegistrationMethod we do not have access to the multiscale framework. Luckily it is easy to implement our own multiscale framework in SimpleITK, which is what we do in the next cell."
      ]
    },
    {
      "cell_type": "code",
      "metadata": {
        "id": "h5HirZ_x9mwI"
      },
      "source": [
        "def smooth_and_resample(image, shrink_factor, smoothing_sigma):\n",
        "    \"\"\"\n",
        "    Args:\n",
        "        image: The image we want to resample.\n",
        "        shrink_factor: A number greater than one, such that the new image's size is original_size/shrink_factor.\n",
        "        smoothing_sigma: Sigma for Gaussian smoothing, this is in physical (image spacing) units, not pixels.\n",
        "    Return:\n",
        "        Image which is a result of smoothing the input and then resampling it using the given sigma and shrink factor.\n",
        "    \"\"\"\n",
        "    smoothed_image = sitk.SmoothingRecursiveGaussian(image, smoothing_sigma)\n",
        "    \n",
        "    original_spacing = image.GetSpacing()\n",
        "    original_size = image.GetSize()\n",
        "    new_size = [int(sz/float(shrink_factor) + 0.5) for sz in original_size]\n",
        "    new_spacing = [((original_sz-1)*original_spc)/(new_sz-1) \n",
        "                   for original_sz, original_spc, new_sz in zip(original_size, original_spacing, new_size)]\n",
        "    return sitk.Resample(smoothed_image, new_size, sitk.Transform(), \n",
        "                         sitk.sitkLinear, image.GetOrigin(),\n",
        "                         new_spacing, image.GetDirection(), 0.0, \n",
        "                         image.GetPixelID())\n",
        "\n",
        "\n",
        "    \n",
        "def multiscale_demons(registration_algorithm,\n",
        "                      fixed_image, moving_image, initial_transform = None, \n",
        "                      shrink_factors=None, smoothing_sigmas=None):\n",
        "    \"\"\"\n",
        "    Run the given registration algorithm in a multiscale fashion. The original scale should not be given as input as the\n",
        "    original images are implicitly incorporated as the base of the pyramid.\n",
        "    Args:\n",
        "        registration_algorithm: Any registration algorithm that has an Execute(fixed_image, moving_image, displacement_field_image)\n",
        "                                method.\n",
        "        fixed_image: Resulting transformation maps points from this image's spatial domain to the moving image spatial domain.\n",
        "        moving_image: Resulting transformation maps points from the fixed_image's spatial domain to this image's spatial domain.\n",
        "        initial_transform: Any SimpleITK transform, used to initialize the displacement field.\n",
        "        shrink_factors: Shrink factors relative to the original image's size.\n",
        "        smoothing_sigmas: Amount of smoothing which is done prior to resmapling the image using the given shrink factor. These\n",
        "                          are in physical (image spacing) units.\n",
        "    Returns: \n",
        "        SimpleITK.DisplacementFieldTransform\n",
        "    \"\"\"\n",
        "    # Create image pyramid.\n",
        "    fixed_images = [fixed_image]\n",
        "    moving_images = [moving_image]\n",
        "    if shrink_factors:\n",
        "        for shrink_factor, smoothing_sigma in reversed(list(zip(shrink_factors, smoothing_sigmas))):\n",
        "            fixed_images.append(smooth_and_resample(fixed_images[0], shrink_factor, smoothing_sigma))\n",
        "            moving_images.append(smooth_and_resample(moving_images[0], shrink_factor, smoothing_sigma))\n",
        "    \n",
        "    # Create initial displacement field at lowest resolution. \n",
        "    # Currently, the pixel type is required to be sitkVectorFloat64 because of a constraint imposed by the Demons filters.\n",
        "    if initial_transform:\n",
        "        initial_displacement_field = sitk.TransformToDisplacementField(initial_transform, \n",
        "                                                                       sitk.sitkVectorFloat64,\n",
        "                                                                       fixed_images[-1].GetSize(),\n",
        "                                                                       fixed_images[-1].GetOrigin(),\n",
        "                                                                       fixed_images[-1].GetSpacing(),\n",
        "                                                                       fixed_images[-1].GetDirection())\n",
        "    else:\n",
        "        initial_displacement_field = sitk.Image(fixed_images[-1].GetWidth(), \n",
        "                                                fixed_images[-1].GetHeight(),\n",
        "                                                fixed_images[-1].GetDepth(),\n",
        "                                                sitk.sitkVectorFloat64)\n",
        "        initial_displacement_field.CopyInformation(fixed_images[-1])\n",
        " \n",
        "    # Run the registration.            \n",
        "    initial_displacement_field = registration_algorithm.Execute(fixed_images[-1], \n",
        "                                                                moving_images[-1], \n",
        "                                                                initial_displacement_field)\n",
        "    # Start at the top of the pyramid and work our way down.    \n",
        "    for f_image, m_image in reversed(list(zip(fixed_images[0:-1], moving_images[0:-1]))):\n",
        "            initial_displacement_field = sitk.Resample (initial_displacement_field, f_image)\n",
        "            initial_displacement_field = registration_algorithm.Execute(f_image, m_image, initial_displacement_field)\n",
        "    return sitk.DisplacementFieldTransform(initial_displacement_field)"
      ],
      "execution_count": null,
      "outputs": []
    },
    {
      "cell_type": "markdown",
      "metadata": {
        "id": "J2XR95pa9mwI"
      },
      "source": [
        "Now we will use our newly minted multiscale framework to perform registration with the Demons filters. Some things you can easily try out by editing the code below:\n",
        "1. Is there really a need for multiscale - just call the multiscale_demons method without the shrink_factors and smoothing_sigmas parameters.\n",
        "2. Which Demons filter should you use - configure the other filters and see if our selection is the best choice (accuracy/time)."
      ]
    },
    {
      "cell_type": "code",
      "metadata": {
        "id": "C6oFjnMX9mwI"
      },
      "source": [
        "# Define a simple callback which allows us to monitor registration progress.\n",
        "def iteration_callback(filter):\n",
        "    print('\\r{0}: {1:.2f}'.format(filter.GetElapsedIterations(), filter.GetMetric()), end='')\n",
        "    \n",
        "# Select a Demons filter and configure it.\n",
        "demons_filter =  sitk.FastSymmetricForcesDemonsRegistrationFilter()\n",
        "demons_filter.SetNumberOfIterations(20)\n",
        "# Regularization (update field - viscous, total field - elastic).\n",
        "demons_filter.SetSmoothDisplacementField(True)\n",
        "demons_filter.SetStandardDeviations(2.0)\n",
        "\n",
        "# Add our simple callback to the registration filter.\n",
        "demons_filter.AddCommand(sitk.sitkIterationEvent, lambda: iteration_callback(demons_filter))\n",
        "\n",
        "# Run the registration.\n",
        "tx = multiscale_demons(registration_algorithm=demons_filter, \n",
        "                       fixed_image = fixed_image, \n",
        "                       moving_image = moving_image,\n",
        "                       shrink_factors = [4,2],\n",
        "                       smoothing_sigmas = [8,4])\n",
        "\n",
        "# look at the final TREs.\n",
        "final_TRE = utilities.target_registration_errors(tx, fixed_points, moving_points, display_errors = True)\n",
        "\n",
        "print('Final alignment errors in millimeters, mean(std): {:.2f}({:.2f}), max: {:.2f}'.format(np.mean(final_TRE), \n",
        "                                                                                               np.std(final_TRE), \n",
        "                                                                                               np.max(final_TRE)))"
      ],
      "execution_count": null,
      "outputs": []
    },
    {
      "cell_type": "markdown",
      "metadata": {
        "id": "KKTnYLhO9mwJ"
      },
      "source": [
        "## Quantitative Evaluation II (Segmentation)\n",
        "\n",
        "While the use of corresponding points to evaluate registration is the desired approach, it is often not applicable. In many cases there are only a few distinct points which can be localized in the two images, possibly too few to serve as a metric for evaluating the registration result across the whole region of interest. \n",
        "\n",
        "An alternative approach is to use segmentation. In this approach, we independently segment the structures of interest in the two images. After registration we transfer the segmentation from one image to the other and compare the original and registration induced segmentations.\n"
      ]
    },
    {
      "cell_type": "code",
      "metadata": {
        "id": "05F-yhQq9mwJ"
      },
      "source": [
        "# Transfer the segmentation via the estimated transformation. \n",
        "# Nearest Neighbor interpolation so we don't introduce new labels.\n",
        "transformed_labels = sitk.Resample(masks[moving_index],\n",
        "                                   fixed_image,\n",
        "                                   tx, \n",
        "                                   sitk.sitkNearestNeighbor,\n",
        "                                   0.0, \n",
        "                                   masks[moving_index].GetPixelID())"
      ],
      "execution_count": null,
      "outputs": []
    },
    {
      "cell_type": "markdown",
      "metadata": {
        "id": "fzB27Adi9mwJ"
      },
      "source": [
        "We have now replaced the task of evaluating registration with that of evaluating segmentation."
      ]
    },
    {
      "cell_type": "code",
      "metadata": {
        "id": "xI0s0slh9mwJ"
      },
      "source": [
        "# Often referred to as ground truth, but we prefer reference as the truth is never known.\n",
        "reference_segmentation = fixed_image_mask\n",
        "# Segmentations before and after registration\n",
        "segmentations = [moving_image_mask, transformed_labels == utilities.popi_lung_label]"
      ],
      "execution_count": null,
      "outputs": []
    },
    {
      "cell_type": "code",
      "metadata": {
        "id": "aumnYVIg9mwJ"
      },
      "source": [
        "from enum import Enum\n",
        "\n",
        "# Use enumerations to represent the various evaluation measures\n",
        "class OverlapMeasures(Enum):\n",
        "    jaccard, dice, volume_similarity, false_negative, false_positive = range(5)\n",
        "\n",
        "class SurfaceDistanceMeasures(Enum):\n",
        "    hausdorff_distance, mean_surface_distance, median_surface_distance, std_surface_distance, max_surface_distance = range(5)\n",
        "    \n",
        "# Empty numpy arrays to hold the results \n",
        "overlap_results = np.zeros((len(segmentations),len(OverlapMeasures.__members__.items())))  \n",
        "surface_distance_results = np.zeros((len(segmentations),len(SurfaceDistanceMeasures.__members__.items())))  \n",
        "\n",
        "# Compute the evaluation criteria\n",
        "\n",
        "# Note that for the overlap measures filter, because we are dealing with a single label we \n",
        "# use the combined, all labels, evaluation measures without passing a specific label to the methods.\n",
        "overlap_measures_filter = sitk.LabelOverlapMeasuresImageFilter()\n",
        "\n",
        "hausdorff_distance_filter = sitk.HausdorffDistanceImageFilter()\n",
        "\n",
        "# Use the absolute values of the distance map to compute the surface distances (distance map sign, outside or inside \n",
        "# relationship, is irrelevant)\n",
        "label = 1\n",
        "reference_distance_map = sitk.Abs(sitk.SignedMaurerDistanceMap(reference_segmentation, squaredDistance=False))\n",
        "reference_surface = sitk.LabelContour(reference_segmentation)\n",
        "\n",
        "statistics_image_filter = sitk.StatisticsImageFilter()\n",
        "# Get the number of pixels in the reference surface by counting all pixels that are 1.\n",
        "statistics_image_filter.Execute(reference_surface)\n",
        "num_reference_surface_pixels = int(statistics_image_filter.GetSum()) \n",
        "\n",
        "for i, seg in enumerate(segmentations):\n",
        "    # Overlap measures\n",
        "    overlap_measures_filter.Execute(reference_segmentation, seg)\n",
        "    overlap_results[i,OverlapMeasures.jaccard.value] = overlap_measures_filter.GetJaccardCoefficient()\n",
        "    overlap_results[i,OverlapMeasures.dice.value] = overlap_measures_filter.GetDiceCoefficient()\n",
        "    overlap_results[i,OverlapMeasures.volume_similarity.value] = overlap_measures_filter.GetVolumeSimilarity()\n",
        "    overlap_results[i,OverlapMeasures.false_negative.value] = overlap_measures_filter.GetFalseNegativeError()\n",
        "    overlap_results[i,OverlapMeasures.false_positive.value] = overlap_measures_filter.GetFalsePositiveError()\n",
        "    # Hausdorff distance\n",
        "    hausdorff_distance_filter.Execute(reference_segmentation, seg)\n",
        "    surface_distance_results[i,SurfaceDistanceMeasures.hausdorff_distance.value] = hausdorff_distance_filter.GetHausdorffDistance()\n",
        "    # Symmetric surface distance measures\n",
        "    segmented_distance_map = sitk.Abs(sitk.SignedMaurerDistanceMap(seg, squaredDistance=False))\n",
        "    segmented_surface = sitk.LabelContour(seg)\n",
        "        \n",
        "    # Multiply the binary surface segmentations with the distance maps. The resulting distance\n",
        "    # maps contain non-zero values only on the surface (they can also contain zero on the surface)\n",
        "    seg2ref_distance_map = reference_distance_map*sitk.Cast(segmented_surface, sitk.sitkFloat32)\n",
        "    ref2seg_distance_map = segmented_distance_map*sitk.Cast(reference_surface, sitk.sitkFloat32)\n",
        "        \n",
        "    # Get the number of pixels in the segmented surface by counting all pixels that are 1.\n",
        "    statistics_image_filter.Execute(segmented_surface)\n",
        "    num_segmented_surface_pixels = int(statistics_image_filter.GetSum())\n",
        "    \n",
        "    # Get all non-zero distances and then add zero distances if required.\n",
        "    seg2ref_distance_map_arr = sitk.GetArrayViewFromImage(seg2ref_distance_map)\n",
        "    seg2ref_distances = list(seg2ref_distance_map_arr[seg2ref_distance_map_arr!=0]) \n",
        "    seg2ref_distances = seg2ref_distances + \\\n",
        "                        list(np.zeros(num_segmented_surface_pixels - len(seg2ref_distances)))\n",
        "    ref2seg_distance_map_arr = sitk.GetArrayViewFromImage(ref2seg_distance_map)\n",
        "    ref2seg_distances = list(ref2seg_distance_map_arr[ref2seg_distance_map_arr!=0]) \n",
        "    ref2seg_distances = ref2seg_distances + \\\n",
        "                        list(np.zeros(num_reference_surface_pixels - len(ref2seg_distances)))\n",
        "        \n",
        "    all_surface_distances = seg2ref_distances + ref2seg_distances\n",
        "    \n",
        "    surface_distance_results[i,SurfaceDistanceMeasures.mean_surface_distance.value] = np.mean(all_surface_distances)\n",
        "    surface_distance_results[i,SurfaceDistanceMeasures.median_surface_distance.value] = np.median(all_surface_distances)\n",
        "    surface_distance_results[i,SurfaceDistanceMeasures.std_surface_distance.value] = np.std(all_surface_distances)\n",
        "    surface_distance_results[i,SurfaceDistanceMeasures.max_surface_distance.value] = np.max(all_surface_distances)\n",
        "\n",
        "import pandas as pd\n",
        "from IPython.display import display, HTML \n",
        "\n",
        "# Graft our results matrix into pandas data frames \n",
        "overlap_results_df = pd.DataFrame(data=overlap_results, index=[\"before registration\", \"after registration\"], \n",
        "                                  columns=[name for name, _ in OverlapMeasures.__members__.items()]) \n",
        "surface_distance_results_df = pd.DataFrame(data=surface_distance_results, index=[\"before registration\", \"after registration\"], \n",
        "                                  columns=[name for name, _ in SurfaceDistanceMeasures.__members__.items()]) \n",
        "\n",
        "# Display the data as HTML tables and graphs\n",
        "display(HTML(overlap_results_df.to_html(float_format=lambda x: '%.3f' % x)))\n",
        "display(HTML(surface_distance_results_df.to_html(float_format=lambda x: '%.3f' % x)))\n",
        "overlap_results_df.plot(kind='bar', rot=1).legend(bbox_to_anchor=(1.6,0.9))\n",
        "surface_distance_results_df.plot(kind='bar', rot=1).legend(bbox_to_anchor=(1.6,0.9));   "
      ],
      "execution_count": null,
      "outputs": []
    },
    {
      "cell_type": "markdown",
      "metadata": {
        "collapsed": true,
        "id": "hBYhvDyt9mwK"
      },
      "source": [
        "<a href=\"06_registration_application.ipynb\"><h2 align=right>Next &raquo;</h2></a>"
      ]
    }
  ]
}