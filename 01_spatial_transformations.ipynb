{
  "nbformat": 4,
  "nbformat_minor": 0,
  "metadata": {
    "kernelspec": {
      "display_name": "Python 3",
      "language": "python",
      "name": "python3"
    },
    "language_info": {
      "codemirror_mode": {
        "name": "ipython",
        "version": 3
      },
      "file_extension": ".py",
      "mimetype": "text/x-python",
      "name": "python",
      "nbconvert_exporter": "python",
      "pygments_lexer": "ipython3",
      "version": "3.7.3"
    },
    "colab": {
      "name": "01_spatial_transformations.ipynb",
      "provenance": [],
      "collapsed_sections": [],
      "include_colab_link": true
    },
    "widgets": {
      "application/vnd.jupyter.widget-state+json": {
        "49c66c58fe1b412ba312e8fd856430ca": {
          "model_module": "@jupyter-widgets/controls",
          "model_name": "VBoxModel",
          "state": {
            "_view_name": "VBoxView",
            "_dom_classes": [
              "widget-interact"
            ],
            "_model_name": "VBoxModel",
            "_view_module": "@jupyter-widgets/controls",
            "_model_module_version": "1.5.0",
            "_view_count": null,
            "_view_module_version": "1.5.0",
            "box_style": "",
            "layout": "IPY_MODEL_38586b07de3745ceb74d9926ede7e762",
            "_model_module": "@jupyter-widgets/controls",
            "children": [
              "IPY_MODEL_27b697c0385843e782f3d5bd250f9972",
              "IPY_MODEL_bd630a2ed40146b99c37b8d04ac67c43"
            ]
          }
        },
        "38586b07de3745ceb74d9926ede7e762": {
          "model_module": "@jupyter-widgets/base",
          "model_name": "LayoutModel",
          "state": {
            "_view_name": "LayoutView",
            "grid_template_rows": null,
            "right": null,
            "justify_content": null,
            "_view_module": "@jupyter-widgets/base",
            "overflow": null,
            "_model_module_version": "1.2.0",
            "_view_count": null,
            "flex_flow": null,
            "width": null,
            "min_width": null,
            "border": null,
            "align_items": null,
            "bottom": null,
            "_model_module": "@jupyter-widgets/base",
            "top": null,
            "grid_column": null,
            "overflow_y": null,
            "overflow_x": null,
            "grid_auto_flow": null,
            "grid_area": null,
            "grid_template_columns": null,
            "flex": null,
            "_model_name": "LayoutModel",
            "justify_items": null,
            "grid_row": null,
            "max_height": null,
            "align_content": null,
            "visibility": null,
            "align_self": null,
            "height": null,
            "min_height": null,
            "padding": null,
            "grid_auto_rows": null,
            "grid_gap": null,
            "max_width": null,
            "order": null,
            "_view_module_version": "1.2.0",
            "grid_template_areas": null,
            "object_position": null,
            "object_fit": null,
            "grid_auto_columns": null,
            "margin": null,
            "display": null,
            "left": null
          }
        },
        "27b697c0385843e782f3d5bd250f9972": {
          "model_module": "@jupyter-widgets/controls",
          "model_name": "IntSliderModel",
          "state": {
            "_view_name": "IntSliderView",
            "style": "IPY_MODEL_1f944eca73784e6b9652d2d26626c35d",
            "_dom_classes": [],
            "description": "x",
            "step": 1,
            "_model_name": "IntSliderModel",
            "orientation": "horizontal",
            "max": 30,
            "_view_module": "@jupyter-widgets/controls",
            "_model_module_version": "1.5.0",
            "value": 10,
            "_view_count": null,
            "disabled": false,
            "_view_module_version": "1.5.0",
            "min": -10,
            "continuous_update": true,
            "readout_format": "d",
            "description_tooltip": null,
            "readout": true,
            "_model_module": "@jupyter-widgets/controls",
            "layout": "IPY_MODEL_2ab59bb28a154508bddc8c5849d92e64"
          }
        },
        "bd630a2ed40146b99c37b8d04ac67c43": {
          "model_module": "@jupyter-widgets/output",
          "model_name": "OutputModel",
          "state": {
            "_view_name": "OutputView",
            "msg_id": "",
            "_dom_classes": [],
            "_model_name": "OutputModel",
            "outputs": [
              {
                "output_type": "display_data",
                "metadata": {
                  "tags": []
                },
                "text/plain": "10"
              }
            ],
            "_view_module": "@jupyter-widgets/output",
            "_model_module_version": "1.0.0",
            "_view_count": null,
            "_view_module_version": "1.0.0",
            "layout": "IPY_MODEL_d42710ba2be847b9867fcc869c641d8a",
            "_model_module": "@jupyter-widgets/output"
          }
        },
        "1f944eca73784e6b9652d2d26626c35d": {
          "model_module": "@jupyter-widgets/controls",
          "model_name": "SliderStyleModel",
          "state": {
            "_view_name": "StyleView",
            "handle_color": null,
            "_model_name": "SliderStyleModel",
            "description_width": "",
            "_view_module": "@jupyter-widgets/base",
            "_model_module_version": "1.5.0",
            "_view_count": null,
            "_view_module_version": "1.2.0",
            "_model_module": "@jupyter-widgets/controls"
          }
        },
        "2ab59bb28a154508bddc8c5849d92e64": {
          "model_module": "@jupyter-widgets/base",
          "model_name": "LayoutModel",
          "state": {
            "_view_name": "LayoutView",
            "grid_template_rows": null,
            "right": null,
            "justify_content": null,
            "_view_module": "@jupyter-widgets/base",
            "overflow": null,
            "_model_module_version": "1.2.0",
            "_view_count": null,
            "flex_flow": null,
            "width": null,
            "min_width": null,
            "border": null,
            "align_items": null,
            "bottom": null,
            "_model_module": "@jupyter-widgets/base",
            "top": null,
            "grid_column": null,
            "overflow_y": null,
            "overflow_x": null,
            "grid_auto_flow": null,
            "grid_area": null,
            "grid_template_columns": null,
            "flex": null,
            "_model_name": "LayoutModel",
            "justify_items": null,
            "grid_row": null,
            "max_height": null,
            "align_content": null,
            "visibility": null,
            "align_self": null,
            "height": null,
            "min_height": null,
            "padding": null,
            "grid_auto_rows": null,
            "grid_gap": null,
            "max_width": null,
            "order": null,
            "_view_module_version": "1.2.0",
            "grid_template_areas": null,
            "object_position": null,
            "object_fit": null,
            "grid_auto_columns": null,
            "margin": null,
            "display": null,
            "left": null
          }
        },
        "d42710ba2be847b9867fcc869c641d8a": {
          "model_module": "@jupyter-widgets/base",
          "model_name": "LayoutModel",
          "state": {
            "_view_name": "LayoutView",
            "grid_template_rows": null,
            "right": null,
            "justify_content": null,
            "_view_module": "@jupyter-widgets/base",
            "overflow": null,
            "_model_module_version": "1.2.0",
            "_view_count": null,
            "flex_flow": null,
            "width": null,
            "min_width": null,
            "border": null,
            "align_items": null,
            "bottom": null,
            "_model_module": "@jupyter-widgets/base",
            "top": null,
            "grid_column": null,
            "overflow_y": null,
            "overflow_x": null,
            "grid_auto_flow": null,
            "grid_area": null,
            "grid_template_columns": null,
            "flex": null,
            "_model_name": "LayoutModel",
            "justify_items": null,
            "grid_row": null,
            "max_height": null,
            "align_content": null,
            "visibility": null,
            "align_self": null,
            "height": null,
            "min_height": null,
            "padding": null,
            "grid_auto_rows": null,
            "grid_gap": null,
            "max_width": null,
            "order": null,
            "_view_module_version": "1.2.0",
            "grid_template_areas": null,
            "object_position": null,
            "object_fit": null,
            "grid_auto_columns": null,
            "margin": null,
            "display": null,
            "left": null
          }
        },
        "5f5a6b9962c34921974aefa31c5c7564": {
          "model_module": "@jupyter-widgets/controls",
          "model_name": "VBoxModel",
          "state": {
            "_view_name": "VBoxView",
            "_dom_classes": [
              "widget-interact"
            ],
            "_model_name": "VBoxModel",
            "_view_module": "@jupyter-widgets/controls",
            "_model_module_version": "1.5.0",
            "_view_count": null,
            "_view_module_version": "1.5.0",
            "box_style": "",
            "layout": "IPY_MODEL_a1b6e92f4ae946359a57bcfbc222be5b",
            "_model_module": "@jupyter-widgets/controls",
            "children": [
              "IPY_MODEL_7e720b0b720e405e821906b424ee124a",
              "IPY_MODEL_cff4de6aece143469f1fda10b1fab3af",
              "IPY_MODEL_294a2d522b0f4e409e50c5882613484d"
            ]
          }
        },
        "a1b6e92f4ae946359a57bcfbc222be5b": {
          "model_module": "@jupyter-widgets/base",
          "model_name": "LayoutModel",
          "state": {
            "_view_name": "LayoutView",
            "grid_template_rows": null,
            "right": null,
            "justify_content": null,
            "_view_module": "@jupyter-widgets/base",
            "overflow": null,
            "_model_module_version": "1.2.0",
            "_view_count": null,
            "flex_flow": null,
            "width": null,
            "min_width": null,
            "border": null,
            "align_items": null,
            "bottom": null,
            "_model_module": "@jupyter-widgets/base",
            "top": null,
            "grid_column": null,
            "overflow_y": null,
            "overflow_x": null,
            "grid_auto_flow": null,
            "grid_area": null,
            "grid_template_columns": null,
            "flex": null,
            "_model_name": "LayoutModel",
            "justify_items": null,
            "grid_row": null,
            "max_height": null,
            "align_content": null,
            "visibility": null,
            "align_self": null,
            "height": null,
            "min_height": null,
            "padding": null,
            "grid_auto_rows": null,
            "grid_gap": null,
            "max_width": null,
            "order": null,
            "_view_module_version": "1.2.0",
            "grid_template_areas": null,
            "object_position": null,
            "object_fit": null,
            "grid_auto_columns": null,
            "margin": null,
            "display": null,
            "left": null
          }
        },
        "7e720b0b720e405e821906b424ee124a": {
          "model_module": "@jupyter-widgets/controls",
          "model_name": "IntSliderModel",
          "state": {
            "_view_name": "IntSliderView",
            "style": "IPY_MODEL_f09b491df8424ef980540597418ba4c2",
            "_dom_classes": [],
            "description": "x",
            "step": 1,
            "_model_name": "IntSliderModel",
            "orientation": "horizontal",
            "max": 10,
            "_view_module": "@jupyter-widgets/controls",
            "_model_module_version": "1.5.0",
            "value": 0,
            "_view_count": null,
            "disabled": false,
            "_view_module_version": "1.5.0",
            "min": -10,
            "continuous_update": true,
            "readout_format": "d",
            "description_tooltip": null,
            "readout": true,
            "_model_module": "@jupyter-widgets/controls",
            "layout": "IPY_MODEL_de2053910e084d3c859aff70b852f24b"
          }
        },
        "cff4de6aece143469f1fda10b1fab3af": {
          "model_module": "@jupyter-widgets/controls",
          "model_name": "IntSliderModel",
          "state": {
            "_view_name": "IntSliderView",
            "style": "IPY_MODEL_4041eff8620c49be85ae40f2a30a32d6",
            "_dom_classes": [],
            "description": "y",
            "step": 1,
            "_model_name": "IntSliderModel",
            "orientation": "horizontal",
            "max": 10,
            "_view_module": "@jupyter-widgets/controls",
            "_model_module_version": "1.5.0",
            "value": 0,
            "_view_count": null,
            "disabled": false,
            "_view_module_version": "1.5.0",
            "min": -10,
            "continuous_update": true,
            "readout_format": "d",
            "description_tooltip": null,
            "readout": true,
            "_model_module": "@jupyter-widgets/controls",
            "layout": "IPY_MODEL_6ee66ed5a634443bb975416efe39c931"
          }
        },
        "294a2d522b0f4e409e50c5882613484d": {
          "model_module": "@jupyter-widgets/output",
          "model_name": "OutputModel",
          "state": {
            "_view_name": "OutputView",
            "msg_id": "",
            "_dom_classes": [],
            "_model_name": "OutputModel",
            "outputs": [
              {
                "output_type": "display_data",
                "metadata": {
                  "tags": [],
                  "needs_background": "light"
                },
                "image/png": "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\n",
                "text/plain": "<Figure size 432x288 with 1 Axes>"
              }
            ],
            "_view_module": "@jupyter-widgets/output",
            "_model_module_version": "1.0.0",
            "_view_count": null,
            "_view_module_version": "1.0.0",
            "layout": "IPY_MODEL_af3557e965684df699ba4aa6c519355d",
            "_model_module": "@jupyter-widgets/output"
          }
        },
        "f09b491df8424ef980540597418ba4c2": {
          "model_module": "@jupyter-widgets/controls",
          "model_name": "SliderStyleModel",
          "state": {
            "_view_name": "StyleView",
            "handle_color": null,
            "_model_name": "SliderStyleModel",
            "description_width": "",
            "_view_module": "@jupyter-widgets/base",
            "_model_module_version": "1.5.0",
            "_view_count": null,
            "_view_module_version": "1.2.0",
            "_model_module": "@jupyter-widgets/controls"
          }
        },
        "de2053910e084d3c859aff70b852f24b": {
          "model_module": "@jupyter-widgets/base",
          "model_name": "LayoutModel",
          "state": {
            "_view_name": "LayoutView",
            "grid_template_rows": null,
            "right": null,
            "justify_content": null,
            "_view_module": "@jupyter-widgets/base",
            "overflow": null,
            "_model_module_version": "1.2.0",
            "_view_count": null,
            "flex_flow": null,
            "width": null,
            "min_width": null,
            "border": null,
            "align_items": null,
            "bottom": null,
            "_model_module": "@jupyter-widgets/base",
            "top": null,
            "grid_column": null,
            "overflow_y": null,
            "overflow_x": null,
            "grid_auto_flow": null,
            "grid_area": null,
            "grid_template_columns": null,
            "flex": null,
            "_model_name": "LayoutModel",
            "justify_items": null,
            "grid_row": null,
            "max_height": null,
            "align_content": null,
            "visibility": null,
            "align_self": null,
            "height": null,
            "min_height": null,
            "padding": null,
            "grid_auto_rows": null,
            "grid_gap": null,
            "max_width": null,
            "order": null,
            "_view_module_version": "1.2.0",
            "grid_template_areas": null,
            "object_position": null,
            "object_fit": null,
            "grid_auto_columns": null,
            "margin": null,
            "display": null,
            "left": null
          }
        },
        "4041eff8620c49be85ae40f2a30a32d6": {
          "model_module": "@jupyter-widgets/controls",
          "model_name": "SliderStyleModel",
          "state": {
            "_view_name": "StyleView",
            "handle_color": null,
            "_model_name": "SliderStyleModel",
            "description_width": "",
            "_view_module": "@jupyter-widgets/base",
            "_model_module_version": "1.5.0",
            "_view_count": null,
            "_view_module_version": "1.2.0",
            "_model_module": "@jupyter-widgets/controls"
          }
        },
        "6ee66ed5a634443bb975416efe39c931": {
          "model_module": "@jupyter-widgets/base",
          "model_name": "LayoutModel",
          "state": {
            "_view_name": "LayoutView",
            "grid_template_rows": null,
            "right": null,
            "justify_content": null,
            "_view_module": "@jupyter-widgets/base",
            "overflow": null,
            "_model_module_version": "1.2.0",
            "_view_count": null,
            "flex_flow": null,
            "width": null,
            "min_width": null,
            "border": null,
            "align_items": null,
            "bottom": null,
            "_model_module": "@jupyter-widgets/base",
            "top": null,
            "grid_column": null,
            "overflow_y": null,
            "overflow_x": null,
            "grid_auto_flow": null,
            "grid_area": null,
            "grid_template_columns": null,
            "flex": null,
            "_model_name": "LayoutModel",
            "justify_items": null,
            "grid_row": null,
            "max_height": null,
            "align_content": null,
            "visibility": null,
            "align_self": null,
            "height": null,
            "min_height": null,
            "padding": null,
            "grid_auto_rows": null,
            "grid_gap": null,
            "max_width": null,
            "order": null,
            "_view_module_version": "1.2.0",
            "grid_template_areas": null,
            "object_position": null,
            "object_fit": null,
            "grid_auto_columns": null,
            "margin": null,
            "display": null,
            "left": null
          }
        },
        "af3557e965684df699ba4aa6c519355d": {
          "model_module": "@jupyter-widgets/base",
          "model_name": "LayoutModel",
          "state": {
            "_view_name": "LayoutView",
            "grid_template_rows": null,
            "right": null,
            "justify_content": null,
            "_view_module": "@jupyter-widgets/base",
            "overflow": null,
            "_model_module_version": "1.2.0",
            "_view_count": null,
            "flex_flow": null,
            "width": null,
            "min_width": null,
            "border": null,
            "align_items": null,
            "bottom": null,
            "_model_module": "@jupyter-widgets/base",
            "top": null,
            "grid_column": null,
            "overflow_y": null,
            "overflow_x": null,
            "grid_auto_flow": null,
            "grid_area": null,
            "grid_template_columns": null,
            "flex": null,
            "_model_name": "LayoutModel",
            "justify_items": null,
            "grid_row": null,
            "max_height": null,
            "align_content": null,
            "visibility": null,
            "align_self": null,
            "height": null,
            "min_height": null,
            "padding": null,
            "grid_auto_rows": null,
            "grid_gap": null,
            "max_width": null,
            "order": null,
            "_view_module_version": "1.2.0",
            "grid_template_areas": null,
            "object_position": null,
            "object_fit": null,
            "grid_auto_columns": null,
            "margin": null,
            "display": null,
            "left": null
          }
        },
        "84a4b907bbe84a03a41fdd0584963e59": {
          "model_module": "@jupyter-widgets/controls",
          "model_name": "VBoxModel",
          "state": {
            "_view_name": "VBoxView",
            "_dom_classes": [
              "widget-interact"
            ],
            "_model_name": "VBoxModel",
            "_view_module": "@jupyter-widgets/controls",
            "_model_module_version": "1.5.0",
            "_view_count": null,
            "_view_module_version": "1.5.0",
            "box_style": "",
            "layout": "IPY_MODEL_ecc411095dfd4db4a687661484a55852",
            "_model_module": "@jupyter-widgets/controls",
            "children": [
              "IPY_MODEL_0d83985646334bb0964167c032f8cc35",
              "IPY_MODEL_7d9a509c4f0c4709bbbca2af9f9da979",
              "IPY_MODEL_df1ed82a05f546598362969064dafcb6"
            ]
          }
        },
        "ecc411095dfd4db4a687661484a55852": {
          "model_module": "@jupyter-widgets/base",
          "model_name": "LayoutModel",
          "state": {
            "_view_name": "LayoutView",
            "grid_template_rows": null,
            "right": null,
            "justify_content": null,
            "_view_module": "@jupyter-widgets/base",
            "overflow": null,
            "_model_module_version": "1.2.0",
            "_view_count": null,
            "flex_flow": null,
            "width": null,
            "min_width": null,
            "border": null,
            "align_items": null,
            "bottom": null,
            "_model_module": "@jupyter-widgets/base",
            "top": null,
            "grid_column": null,
            "overflow_y": null,
            "overflow_x": null,
            "grid_auto_flow": null,
            "grid_area": null,
            "grid_template_columns": null,
            "flex": null,
            "_model_name": "LayoutModel",
            "justify_items": null,
            "grid_row": null,
            "max_height": null,
            "align_content": null,
            "visibility": null,
            "align_self": null,
            "height": null,
            "min_height": null,
            "padding": null,
            "grid_auto_rows": null,
            "grid_gap": null,
            "max_width": null,
            "order": null,
            "_view_module_version": "1.2.0",
            "grid_template_areas": null,
            "object_position": null,
            "object_fit": null,
            "grid_auto_columns": null,
            "margin": null,
            "display": null,
            "left": null
          }
        },
        "0d83985646334bb0964167c032f8cc35": {
          "model_module": "@jupyter-widgets/controls",
          "model_name": "IntSliderModel",
          "state": {
            "_view_name": "IntSliderView",
            "style": "IPY_MODEL_2ed5b2dd97da411bac6b8f37c7357148",
            "_dom_classes": [],
            "description": "x",
            "step": 1,
            "_model_name": "IntSliderModel",
            "orientation": "horizontal",
            "max": 10,
            "_view_module": "@jupyter-widgets/controls",
            "_model_module_version": "1.5.0",
            "value": 0,
            "_view_count": null,
            "disabled": false,
            "_view_module_version": "1.5.0",
            "min": -10,
            "continuous_update": true,
            "readout_format": "d",
            "description_tooltip": null,
            "readout": true,
            "_model_module": "@jupyter-widgets/controls",
            "layout": "IPY_MODEL_650063cc98df4404ae5fb451d3571a37"
          }
        },
        "7d9a509c4f0c4709bbbca2af9f9da979": {
          "model_module": "@jupyter-widgets/controls",
          "model_name": "IntSliderModel",
          "state": {
            "_view_name": "IntSliderView",
            "style": "IPY_MODEL_ade769fa60ba4610abc83bdd161829ba",
            "_dom_classes": [],
            "description": "y",
            "step": 1,
            "_model_name": "IntSliderModel",
            "orientation": "horizontal",
            "max": 10,
            "_view_module": "@jupyter-widgets/controls",
            "_model_module_version": "1.5.0",
            "value": 0,
            "_view_count": null,
            "disabled": false,
            "_view_module_version": "1.5.0",
            "min": -10,
            "continuous_update": true,
            "readout_format": "d",
            "description_tooltip": null,
            "readout": true,
            "_model_module": "@jupyter-widgets/controls",
            "layout": "IPY_MODEL_3fa76a80ccc34eb8ae3c798c8f4ac834"
          }
        },
        "df1ed82a05f546598362969064dafcb6": {
          "model_module": "@jupyter-widgets/output",
          "model_name": "OutputModel",
          "state": {
            "_view_name": "OutputView",
            "msg_id": "",
            "_dom_classes": [],
            "_model_name": "OutputModel",
            "outputs": [
              {
                "output_type": "display_data",
                "metadata": {
                  "tags": [],
                  "needs_background": "light"
                },
                "image/png": "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\n",
                "text/plain": "<Figure size 432x288 with 1 Axes>"
              }
            ],
            "_view_module": "@jupyter-widgets/output",
            "_model_module_version": "1.0.0",
            "_view_count": null,
            "_view_module_version": "1.0.0",
            "layout": "IPY_MODEL_90c429da6c3f4961b91aa3bcb34c3d5d",
            "_model_module": "@jupyter-widgets/output"
          }
        },
        "2ed5b2dd97da411bac6b8f37c7357148": {
          "model_module": "@jupyter-widgets/controls",
          "model_name": "SliderStyleModel",
          "state": {
            "_view_name": "StyleView",
            "handle_color": null,
            "_model_name": "SliderStyleModel",
            "description_width": "",
            "_view_module": "@jupyter-widgets/base",
            "_model_module_version": "1.5.0",
            "_view_count": null,
            "_view_module_version": "1.2.0",
            "_model_module": "@jupyter-widgets/controls"
          }
        },
        "650063cc98df4404ae5fb451d3571a37": {
          "model_module": "@jupyter-widgets/base",
          "model_name": "LayoutModel",
          "state": {
            "_view_name": "LayoutView",
            "grid_template_rows": null,
            "right": null,
            "justify_content": null,
            "_view_module": "@jupyter-widgets/base",
            "overflow": null,
            "_model_module_version": "1.2.0",
            "_view_count": null,
            "flex_flow": null,
            "width": null,
            "min_width": null,
            "border": null,
            "align_items": null,
            "bottom": null,
            "_model_module": "@jupyter-widgets/base",
            "top": null,
            "grid_column": null,
            "overflow_y": null,
            "overflow_x": null,
            "grid_auto_flow": null,
            "grid_area": null,
            "grid_template_columns": null,
            "flex": null,
            "_model_name": "LayoutModel",
            "justify_items": null,
            "grid_row": null,
            "max_height": null,
            "align_content": null,
            "visibility": null,
            "align_self": null,
            "height": null,
            "min_height": null,
            "padding": null,
            "grid_auto_rows": null,
            "grid_gap": null,
            "max_width": null,
            "order": null,
            "_view_module_version": "1.2.0",
            "grid_template_areas": null,
            "object_position": null,
            "object_fit": null,
            "grid_auto_columns": null,
            "margin": null,
            "display": null,
            "left": null
          }
        },
        "ade769fa60ba4610abc83bdd161829ba": {
          "model_module": "@jupyter-widgets/controls",
          "model_name": "SliderStyleModel",
          "state": {
            "_view_name": "StyleView",
            "handle_color": null,
            "_model_name": "SliderStyleModel",
            "description_width": "",
            "_view_module": "@jupyter-widgets/base",
            "_model_module_version": "1.5.0",
            "_view_count": null,
            "_view_module_version": "1.2.0",
            "_model_module": "@jupyter-widgets/controls"
          }
        },
        "3fa76a80ccc34eb8ae3c798c8f4ac834": {
          "model_module": "@jupyter-widgets/base",
          "model_name": "LayoutModel",
          "state": {
            "_view_name": "LayoutView",
            "grid_template_rows": null,
            "right": null,
            "justify_content": null,
            "_view_module": "@jupyter-widgets/base",
            "overflow": null,
            "_model_module_version": "1.2.0",
            "_view_count": null,
            "flex_flow": null,
            "width": null,
            "min_width": null,
            "border": null,
            "align_items": null,
            "bottom": null,
            "_model_module": "@jupyter-widgets/base",
            "top": null,
            "grid_column": null,
            "overflow_y": null,
            "overflow_x": null,
            "grid_auto_flow": null,
            "grid_area": null,
            "grid_template_columns": null,
            "flex": null,
            "_model_name": "LayoutModel",
            "justify_items": null,
            "grid_row": null,
            "max_height": null,
            "align_content": null,
            "visibility": null,
            "align_self": null,
            "height": null,
            "min_height": null,
            "padding": null,
            "grid_auto_rows": null,
            "grid_gap": null,
            "max_width": null,
            "order": null,
            "_view_module_version": "1.2.0",
            "grid_template_areas": null,
            "object_position": null,
            "object_fit": null,
            "grid_auto_columns": null,
            "margin": null,
            "display": null,
            "left": null
          }
        },
        "90c429da6c3f4961b91aa3bcb34c3d5d": {
          "model_module": "@jupyter-widgets/base",
          "model_name": "LayoutModel",
          "state": {
            "_view_name": "LayoutView",
            "grid_template_rows": null,
            "right": null,
            "justify_content": null,
            "_view_module": "@jupyter-widgets/base",
            "overflow": null,
            "_model_module_version": "1.2.0",
            "_view_count": null,
            "flex_flow": null,
            "width": null,
            "min_width": null,
            "border": null,
            "align_items": null,
            "bottom": null,
            "_model_module": "@jupyter-widgets/base",
            "top": null,
            "grid_column": null,
            "overflow_y": null,
            "overflow_x": null,
            "grid_auto_flow": null,
            "grid_area": null,
            "grid_template_columns": null,
            "flex": null,
            "_model_name": "LayoutModel",
            "justify_items": null,
            "grid_row": null,
            "max_height": null,
            "align_content": null,
            "visibility": null,
            "align_self": null,
            "height": null,
            "min_height": null,
            "padding": null,
            "grid_auto_rows": null,
            "grid_gap": null,
            "max_width": null,
            "order": null,
            "_view_module_version": "1.2.0",
            "grid_template_areas": null,
            "object_position": null,
            "object_fit": null,
            "grid_auto_columns": null,
            "margin": null,
            "display": null,
            "left": null
          }
        },
        "d81239b9465842b3bc37cc4574dfdfaa": {
          "model_module": "@jupyter-widgets/controls",
          "model_name": "VBoxModel",
          "state": {
            "_view_name": "VBoxView",
            "_dom_classes": [
              "widget-interact"
            ],
            "_model_name": "VBoxModel",
            "_view_module": "@jupyter-widgets/controls",
            "_model_module_version": "1.5.0",
            "_view_count": null,
            "_view_module_version": "1.5.0",
            "box_style": "",
            "layout": "IPY_MODEL_8fee393f80ca4baca011e4aa8d843fd1",
            "_model_module": "@jupyter-widgets/controls",
            "children": [
              "IPY_MODEL_83e879cbd5494c1daaf773f6fd3b4be0",
              "IPY_MODEL_d920c452378a4d22bae6d8834392392e"
            ]
          }
        },
        "8fee393f80ca4baca011e4aa8d843fd1": {
          "model_module": "@jupyter-widgets/base",
          "model_name": "LayoutModel",
          "state": {
            "_view_name": "LayoutView",
            "grid_template_rows": null,
            "right": null,
            "justify_content": null,
            "_view_module": "@jupyter-widgets/base",
            "overflow": null,
            "_model_module_version": "1.2.0",
            "_view_count": null,
            "flex_flow": null,
            "width": null,
            "min_width": null,
            "border": null,
            "align_items": null,
            "bottom": null,
            "_model_module": "@jupyter-widgets/base",
            "top": null,
            "grid_column": null,
            "overflow_y": null,
            "overflow_x": null,
            "grid_auto_flow": null,
            "grid_area": null,
            "grid_template_columns": null,
            "flex": null,
            "_model_name": "LayoutModel",
            "justify_items": null,
            "grid_row": null,
            "max_height": null,
            "align_content": null,
            "visibility": null,
            "align_self": null,
            "height": null,
            "min_height": null,
            "padding": null,
            "grid_auto_rows": null,
            "grid_gap": null,
            "max_width": null,
            "order": null,
            "_view_module_version": "1.2.0",
            "grid_template_areas": null,
            "object_position": null,
            "object_fit": null,
            "grid_auto_columns": null,
            "margin": null,
            "display": null,
            "left": null
          }
        },
        "83e879cbd5494c1daaf773f6fd3b4be0": {
          "model_module": "@jupyter-widgets/controls",
          "model_name": "FloatSliderModel",
          "state": {
            "_view_name": "FloatSliderView",
            "style": "IPY_MODEL_ee34e0cf3dd84423a25c13779f5252be",
            "_dom_classes": [],
            "description": "s",
            "step": 0.1,
            "_model_name": "FloatSliderModel",
            "orientation": "horizontal",
            "max": 1.5,
            "_view_module": "@jupyter-widgets/controls",
            "_model_module_version": "1.5.0",
            "value": 0,
            "_view_count": null,
            "disabled": false,
            "_view_module_version": "1.5.0",
            "min": -1.5,
            "continuous_update": true,
            "readout_format": ".2f",
            "description_tooltip": null,
            "readout": true,
            "_model_module": "@jupyter-widgets/controls",
            "layout": "IPY_MODEL_e8b74155e1914ca9a3f1b05e032dbcdd"
          }
        },
        "d920c452378a4d22bae6d8834392392e": {
          "model_module": "@jupyter-widgets/output",
          "model_name": "OutputModel",
          "state": {
            "_view_name": "OutputView",
            "msg_id": "",
            "_dom_classes": [],
            "_model_name": "OutputModel",
            "outputs": [
              {
                "output_type": "display_data",
                "metadata": {
                  "tags": [],
                  "needs_background": "light"
                },
                "image/png": "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\n",
                "text/plain": "<Figure size 432x288 with 1 Axes>"
              }
            ],
            "_view_module": "@jupyter-widgets/output",
            "_model_module_version": "1.0.0",
            "_view_count": null,
            "_view_module_version": "1.0.0",
            "layout": "IPY_MODEL_8567b3766e974953be83657ceca22309",
            "_model_module": "@jupyter-widgets/output"
          }
        },
        "ee34e0cf3dd84423a25c13779f5252be": {
          "model_module": "@jupyter-widgets/controls",
          "model_name": "SliderStyleModel",
          "state": {
            "_view_name": "StyleView",
            "handle_color": null,
            "_model_name": "SliderStyleModel",
            "description_width": "",
            "_view_module": "@jupyter-widgets/base",
            "_model_module_version": "1.5.0",
            "_view_count": null,
            "_view_module_version": "1.2.0",
            "_model_module": "@jupyter-widgets/controls"
          }
        },
        "e8b74155e1914ca9a3f1b05e032dbcdd": {
          "model_module": "@jupyter-widgets/base",
          "model_name": "LayoutModel",
          "state": {
            "_view_name": "LayoutView",
            "grid_template_rows": null,
            "right": null,
            "justify_content": null,
            "_view_module": "@jupyter-widgets/base",
            "overflow": null,
            "_model_module_version": "1.2.0",
            "_view_count": null,
            "flex_flow": null,
            "width": null,
            "min_width": null,
            "border": null,
            "align_items": null,
            "bottom": null,
            "_model_module": "@jupyter-widgets/base",
            "top": null,
            "grid_column": null,
            "overflow_y": null,
            "overflow_x": null,
            "grid_auto_flow": null,
            "grid_area": null,
            "grid_template_columns": null,
            "flex": null,
            "_model_name": "LayoutModel",
            "justify_items": null,
            "grid_row": null,
            "max_height": null,
            "align_content": null,
            "visibility": null,
            "align_self": null,
            "height": null,
            "min_height": null,
            "padding": null,
            "grid_auto_rows": null,
            "grid_gap": null,
            "max_width": null,
            "order": null,
            "_view_module_version": "1.2.0",
            "grid_template_areas": null,
            "object_position": null,
            "object_fit": null,
            "grid_auto_columns": null,
            "margin": null,
            "display": null,
            "left": null
          }
        },
        "8567b3766e974953be83657ceca22309": {
          "model_module": "@jupyter-widgets/base",
          "model_name": "LayoutModel",
          "state": {
            "_view_name": "LayoutView",
            "grid_template_rows": null,
            "right": null,
            "justify_content": null,
            "_view_module": "@jupyter-widgets/base",
            "overflow": null,
            "_model_module_version": "1.2.0",
            "_view_count": null,
            "flex_flow": null,
            "width": null,
            "min_width": null,
            "border": null,
            "align_items": null,
            "bottom": null,
            "_model_module": "@jupyter-widgets/base",
            "top": null,
            "grid_column": null,
            "overflow_y": null,
            "overflow_x": null,
            "grid_auto_flow": null,
            "grid_area": null,
            "grid_template_columns": null,
            "flex": null,
            "_model_name": "LayoutModel",
            "justify_items": null,
            "grid_row": null,
            "max_height": null,
            "align_content": null,
            "visibility": null,
            "align_self": null,
            "height": null,
            "min_height": null,
            "padding": null,
            "grid_auto_rows": null,
            "grid_gap": null,
            "max_width": null,
            "order": null,
            "_view_module_version": "1.2.0",
            "grid_template_areas": null,
            "object_position": null,
            "object_fit": null,
            "grid_auto_columns": null,
            "margin": null,
            "display": null,
            "left": null
          }
        }
      }
    }
  },
  "cells": [
    {
      "cell_type": "markdown",
      "metadata": {
        "id": "view-in-github",
        "colab_type": "text"
      },
      "source": [
        "<a href=\"https://colab.research.google.com/github/BillWorstell/ISBI2020_TUTORIAL/blob/master/01_spatial_transformations.ipynb\" target=\"_parent\"><img src=\"https://colab.research.google.com/assets/colab-badge.svg\" alt=\"Open In Colab\"/></a>"
      ]
    },
    {
      "cell_type": "markdown",
      "metadata": {
        "id": "Y5F5I_2By_l9"
      },
      "source": [
        "<h1 align=\"center\">SimpleITK Spatial Transformations</h1>\n",
        "\n",
        "\n",
        "**Summary:**\n",
        "\n",
        "1. Points are represented by vector-like data types: Tuple, Numpy array, List.\n",
        "2. Matrices are represented by vector-like data types in row major order.\n",
        "3. Default transformation initialization as the identity transform.\n",
        "4. Angles specified in radians, distances specified in unknown but consistent units (nm,mm,m,km...).\n",
        "5. All global transformations **except translation** are of the form:\n",
        "$$T(\\mathbf{x}) = A(\\mathbf{x}-\\mathbf{c}) + \\mathbf{t} + \\mathbf{c}$$\n",
        "\n",
        "   Nomenclature (when printing your transformation):\n",
        "\n",
        "   * Matrix: the matrix $A$\n",
        "   * Center: the point $\\mathbf{c}$\n",
        "   * Translation: the vector $\\mathbf{t}$\n",
        "   * Offset: $\\mathbf{t} + \\mathbf{c} - A\\mathbf{c}$\n",
        "6. Bounded transformations, BSplineTransform and DisplacementFieldTransform, behave as the identity transform outside the defined bounds.\n",
        "7. DisplacementFieldTransform:\n",
        "   * Initializing the DisplacementFieldTransform using an image requires that the image's pixel type be sitk.sitkVectorFloat64.\n",
        "   * Initializing the DisplacementFieldTransform using an image will \"clear out\" your image (your alias to the image will point to an empty, zero sized, image).\n",
        "8. Composite transformations are applied in stack order (first added, last applied)."
      ]
    },
    {
      "cell_type": "markdown",
      "metadata": {
        "id": "82lLi7zNDacj"
      },
      "source": [
        "## Install SimpleITK and Environment\n",
        "\n",
        "Expects to find on MyDrive:\n",
        " \n",
        "/gdrive/MyDrive/SimpleITK-Notebooks/Python\n",
        "\n",
        "/gdrive/MyDrive/SimpleITK-Notebooks/Python/requirements.txt\n",
        "\n",
        "/gdrive/MyDrive/Fiji.app/ImageJ-linux64\n",
        "\n",
        "<img src=\"figures/ImageOriginAndSpacing.png\" style=\"width:700px\"/><br><br>"
      ]
    },
    {
      "cell_type": "code",
      "metadata": {
        "colab": {
          "base_uri": "https://localhost:8080/"
        },
        "id": "CBRDhNEYdGiw",
        "outputId": "85b2b90d-4d47-49f9-aa9b-2e4283c9a16f"
      },
      "source": [
        "pip install virtualenv"
      ],
      "execution_count": 1,
      "outputs": [
        {
          "output_type": "stream",
          "text": [
            "Collecting virtualenv\n",
            "\u001b[?25l  Downloading https://files.pythonhosted.org/packages/9f/fb/7423637e48cffbb2e567ca113d2b05068f8b457dde998ab487adf7386c86/virtualenv-20.4.2-py2.py3-none-any.whl (7.2MB)\n",
            "\u001b[K     |████████████████████████████████| 7.2MB 6.7MB/s \n",
            "\u001b[?25hRequirement already satisfied: appdirs<2,>=1.4.3 in /usr/local/lib/python3.7/dist-packages (from virtualenv) (1.4.4)\n",
            "Requirement already satisfied: importlib-metadata>=0.12; python_version < \"3.8\" in /usr/local/lib/python3.7/dist-packages (from virtualenv) (3.7.0)\n",
            "Requirement already satisfied: six<2,>=1.9.0 in /usr/local/lib/python3.7/dist-packages (from virtualenv) (1.15.0)\n",
            "Requirement already satisfied: filelock<4,>=3.0.0 in /usr/local/lib/python3.7/dist-packages (from virtualenv) (3.0.12)\n",
            "Collecting distlib<1,>=0.3.1\n",
            "\u001b[?25l  Downloading https://files.pythonhosted.org/packages/f5/0a/490fa011d699bb5a5f3a0cf57de82237f52a6db9d40f33c53b2736c9a1f9/distlib-0.3.1-py2.py3-none-any.whl (335kB)\n",
            "\u001b[K     |████████████████████████████████| 337kB 40.3MB/s \n",
            "\u001b[?25hRequirement already satisfied: zipp>=0.5 in /usr/local/lib/python3.7/dist-packages (from importlib-metadata>=0.12; python_version < \"3.8\"->virtualenv) (3.4.0)\n",
            "Requirement already satisfied: typing-extensions>=3.6.4; python_version < \"3.8\" in /usr/local/lib/python3.7/dist-packages (from importlib-metadata>=0.12; python_version < \"3.8\"->virtualenv) (3.7.4.3)\n",
            "Installing collected packages: distlib, virtualenv\n",
            "Successfully installed distlib-0.3.1 virtualenv-20.4.2\n"
          ],
          "name": "stdout"
        }
      ]
    },
    {
      "cell_type": "code",
      "metadata": {
        "colab": {
          "base_uri": "https://localhost:8080/"
        },
        "id": "hg21VPYEdMpH",
        "outputId": "33d70ce4-5624-4d17-c89d-b047b9c2a268"
      },
      "source": [
        "#!virtualenv ~/sitkpy --no-site-packages\r\n",
        "!virtualenv ~/sitkpy"
      ],
      "execution_count": 2,
      "outputs": [
        {
          "output_type": "stream",
          "text": [
            "created virtual environment CPython3.7.10.final.0-64 in 1223ms\n",
            "  creator CPython3Posix(dest=/root/sitkpy, clear=False, no_vcs_ignore=False, global=False)\n",
            "  seeder FromAppData(download=False, pip=bundle, setuptools=bundle, wheel=bundle, via=copy, app_data_dir=/root/.local/share/virtualenv)\n",
            "    added seed packages: pip==21.0.1, setuptools==52.0.0, wheel==0.36.2\n",
            "  activators BashActivator,CShellActivator,FishActivator,PowerShellActivator,PythonActivator,XonshActivator\n"
          ],
          "name": "stdout"
        }
      ]
    },
    {
      "cell_type": "code",
      "metadata": {
        "colab": {
          "base_uri": "https://localhost:8080/"
        },
        "id": "79YntY-odSP1",
        "outputId": "78e705e3-b65a-444e-9337-078eec1c01b0"
      },
      "source": [
        "from google.colab import drive\r\n",
        "drive.mount('/gdrive')\r\n",
        "%cd /gdrive"
      ],
      "execution_count": 3,
      "outputs": [
        {
          "output_type": "stream",
          "text": [
            "Mounted at /gdrive\n",
            "/gdrive\n"
          ],
          "name": "stdout"
        }
      ]
    },
    {
      "cell_type": "code",
      "metadata": {
        "colab": {
          "base_uri": "https://localhost:8080/"
        },
        "id": "kw9eGdBadle2",
        "outputId": "93d89db8-52da-4d53-8b71-c96876b3d14e"
      },
      "source": [
        "#!pip install -r '/gdrive/MyDrive/SimpleITK-Notebooks/Python/requirements.txt'\r\n",
        "!~/sitkpy/bin/pip install -r '/gdrive/MyDrive/SimpleITK-Notebooks/Python/requirements.txt'"
      ],
      "execution_count": 4,
      "outputs": [
        {
          "output_type": "stream",
          "text": [
            "Collecting SimpleITK>=2.0.0\n",
            "  Downloading SimpleITK-2.0.2-cp37-cp37m-manylinux2010_x86_64.whl (47.4 MB)\n",
            "\u001b[K     |████████████████████████████████| 47.4 MB 49 kB/s \n",
            "\u001b[?25hCollecting jupyter\n",
            "  Downloading jupyter-1.0.0-py2.py3-none-any.whl (2.7 kB)\n",
            "Collecting matplotlib\n",
            "  Downloading matplotlib-3.3.4-cp37-cp37m-manylinux1_x86_64.whl (11.5 MB)\n",
            "\u001b[K     |████████████████████████████████| 11.5 MB 47.8 MB/s \n",
            "\u001b[?25hCollecting ipywidgets\n",
            "  Downloading ipywidgets-7.6.3-py2.py3-none-any.whl (121 kB)\n",
            "\u001b[K     |████████████████████████████████| 121 kB 51.5 MB/s \n",
            "\u001b[?25hCollecting numpy\n",
            "  Downloading numpy-1.20.1-cp37-cp37m-manylinux2010_x86_64.whl (15.3 MB)\n",
            "\u001b[K     |████████████████████████████████| 15.3 MB 161 kB/s \n",
            "\u001b[?25hCollecting scipy\n",
            "  Downloading scipy-1.6.1-cp37-cp37m-manylinux1_x86_64.whl (27.4 MB)\n",
            "\u001b[K     |████████████████████████████████| 27.4 MB 78 kB/s \n",
            "\u001b[?25hCollecting pandas\n",
            "  Downloading pandas-1.2.2-cp37-cp37m-manylinux1_x86_64.whl (9.9 MB)\n",
            "\u001b[K     |████████████████████████████████| 9.9 MB 44.8 MB/s \n",
            "\u001b[?25hCollecting numba\n",
            "  Downloading numba-0.52.0-cp37-cp37m-manylinux2014_x86_64.whl (3.2 MB)\n",
            "\u001b[K     |████████████████████████████████| 3.2 MB 40.8 MB/s \n",
            "\u001b[?25hCollecting multiprocess\n",
            "  Downloading multiprocess-0.70.11.1-py37-none-any.whl (108 kB)\n",
            "\u001b[K     |████████████████████████████████| 108 kB 44.6 MB/s \n",
            "\u001b[?25hCollecting widgetsnbextension~=3.5.0\n",
            "  Downloading widgetsnbextension-3.5.1-py2.py3-none-any.whl (2.2 MB)\n",
            "\u001b[K     |████████████████████████████████| 2.2 MB 39.6 MB/s \n",
            "\u001b[?25hCollecting nbformat>=4.2.0\n",
            "  Downloading nbformat-5.1.2-py3-none-any.whl (113 kB)\n",
            "\u001b[K     |████████████████████████████████| 113 kB 47.8 MB/s \n",
            "\u001b[?25hCollecting ipython>=4.0.0\n",
            "  Downloading ipython-7.21.0-py3-none-any.whl (784 kB)\n",
            "\u001b[K     |████████████████████████████████| 784 kB 35.6 MB/s \n",
            "\u001b[?25hCollecting ipykernel>=4.5.1\n",
            "  Downloading ipykernel-5.5.0-py3-none-any.whl (120 kB)\n",
            "\u001b[K     |████████████████████████████████| 120 kB 47.1 MB/s \n",
            "\u001b[?25hCollecting jupyterlab-widgets>=1.0.0\n",
            "  Downloading jupyterlab_widgets-1.0.0-py3-none-any.whl (243 kB)\n",
            "\u001b[K     |████████████████████████████████| 243 kB 41.1 MB/s \n",
            "\u001b[?25hCollecting traitlets>=4.3.1\n",
            "  Downloading traitlets-5.0.5-py3-none-any.whl (100 kB)\n",
            "\u001b[K     |████████████████████████████████| 100 kB 6.4 MB/s \n",
            "\u001b[?25hCollecting tornado>=4.2\n",
            "  Downloading tornado-6.1-cp37-cp37m-manylinux2010_x86_64.whl (428 kB)\n",
            "\u001b[K     |████████████████████████████████| 428 kB 42.6 MB/s \n",
            "\u001b[?25hCollecting jupyter-client\n",
            "  Downloading jupyter_client-6.1.11-py3-none-any.whl (108 kB)\n",
            "\u001b[K     |████████████████████████████████| 108 kB 48.3 MB/s \n",
            "\u001b[?25hCollecting decorator\n",
            "  Downloading decorator-4.4.2-py2.py3-none-any.whl (9.2 kB)\n",
            "Collecting prompt-toolkit!=3.0.0,!=3.0.1,<3.1.0,>=2.0.0\n",
            "  Downloading prompt_toolkit-3.0.16-py3-none-any.whl (366 kB)\n",
            "\u001b[K     |████████████████████████████████| 366 kB 46.2 MB/s \n",
            "\u001b[?25hCollecting pickleshare\n",
            "  Downloading pickleshare-0.7.5-py2.py3-none-any.whl (6.9 kB)\n",
            "Collecting pygments\n",
            "  Downloading Pygments-2.8.0-py3-none-any.whl (983 kB)\n",
            "\u001b[K     |████████████████████████████████| 983 kB 43.4 MB/s \n",
            "\u001b[?25hCollecting jedi>=0.16\n",
            "  Downloading jedi-0.18.0-py2.py3-none-any.whl (1.4 MB)\n",
            "\u001b[K     |████████████████████████████████| 1.4 MB 36.0 MB/s \n",
            "\u001b[?25hCollecting backcall\n",
            "  Downloading backcall-0.2.0-py2.py3-none-any.whl (11 kB)\n",
            "Collecting pexpect>4.3\n",
            "  Downloading pexpect-4.8.0-py2.py3-none-any.whl (59 kB)\n",
            "\u001b[K     |████████████████████████████████| 59 kB 4.3 MB/s \n",
            "\u001b[?25hRequirement already satisfied: setuptools>=18.5 in /root/sitkpy/lib/python3.7/site-packages (from ipython>=4.0.0->ipywidgets->-r /gdrive/MyDrive/SimpleITK-Notebooks/Python/requirements.txt (line 4)) (52.0.0)\n",
            "Collecting parso<0.9.0,>=0.8.0\n",
            "  Downloading parso-0.8.1-py2.py3-none-any.whl (93 kB)\n",
            "\u001b[K     |████████████████████████████████| 93 kB 1.5 MB/s \n",
            "\u001b[?25hCollecting jupyter-core\n",
            "  Downloading jupyter_core-4.7.1-py3-none-any.whl (82 kB)\n",
            "\u001b[K     |████████████████████████████████| 82 kB 893 kB/s \n",
            "\u001b[?25hCollecting ipython-genutils\n",
            "  Downloading ipython_genutils-0.2.0-py2.py3-none-any.whl (26 kB)\n",
            "Collecting jsonschema!=2.5.0,>=2.4\n",
            "  Downloading jsonschema-3.2.0-py2.py3-none-any.whl (56 kB)\n",
            "\u001b[K     |████████████████████████████████| 56 kB 3.0 MB/s \n",
            "\u001b[?25hCollecting pyrsistent>=0.14.0\n",
            "  Downloading pyrsistent-0.17.3.tar.gz (106 kB)\n",
            "\u001b[K     |████████████████████████████████| 106 kB 43.8 MB/s \n",
            "\u001b[?25hCollecting importlib-metadata\n",
            "  Downloading importlib_metadata-3.7.0-py3-none-any.whl (11 kB)\n",
            "Collecting six>=1.11.0\n",
            "  Downloading six-1.15.0-py2.py3-none-any.whl (10 kB)\n",
            "Collecting attrs>=17.4.0\n",
            "  Downloading attrs-20.3.0-py2.py3-none-any.whl (49 kB)\n",
            "\u001b[K     |████████████████████████████████| 49 kB 4.1 MB/s \n",
            "\u001b[?25hCollecting ptyprocess>=0.5\n",
            "  Downloading ptyprocess-0.7.0-py2.py3-none-any.whl (13 kB)\n",
            "Collecting wcwidth\n",
            "  Downloading wcwidth-0.2.5-py2.py3-none-any.whl (30 kB)\n",
            "Collecting notebook>=4.4.1\n",
            "  Downloading notebook-6.2.0-py3-none-any.whl (9.5 MB)\n",
            "\u001b[K     |████████████████████████████████| 9.5 MB 39.9 MB/s \n",
            "\u001b[?25hCollecting argon2-cffi\n",
            "  Downloading argon2_cffi-20.1.0-cp35-abi3-manylinux1_x86_64.whl (97 kB)\n",
            "\u001b[K     |████████████████████████████████| 97 kB 3.8 MB/s \n",
            "\u001b[?25hCollecting jinja2\n",
            "  Downloading Jinja2-2.11.3-py2.py3-none-any.whl (125 kB)\n",
            "\u001b[K     |████████████████████████████████| 125 kB 46.2 MB/s \n",
            "\u001b[?25hCollecting Send2Trash>=1.5.0\n",
            "  Downloading Send2Trash-1.5.0-py3-none-any.whl (12 kB)\n",
            "Collecting pyzmq>=17\n",
            "  Downloading pyzmq-22.0.3-cp37-cp37m-manylinux1_x86_64.whl (1.1 MB)\n",
            "\u001b[K     |████████████████████████████████| 1.1 MB 38.6 MB/s \n",
            "\u001b[?25hCollecting terminado>=0.8.3\n",
            "  Downloading terminado-0.9.2-py3-none-any.whl (14 kB)\n",
            "Collecting prometheus-client\n",
            "  Downloading prometheus_client-0.9.0-py2.py3-none-any.whl (53 kB)\n",
            "\u001b[K     |████████████████████████████████| 53 kB 1.5 MB/s \n",
            "\u001b[?25hCollecting nbconvert\n",
            "  Downloading nbconvert-6.0.7-py3-none-any.whl (552 kB)\n",
            "\u001b[K     |████████████████████████████████| 552 kB 43.5 MB/s \n",
            "\u001b[?25hCollecting python-dateutil>=2.1\n",
            "  Downloading python_dateutil-2.8.1-py2.py3-none-any.whl (227 kB)\n",
            "\u001b[K     |████████████████████████████████| 227 kB 53.6 MB/s \n",
            "\u001b[?25hCollecting qtconsole\n",
            "  Downloading qtconsole-5.0.2-py3-none-any.whl (119 kB)\n",
            "\u001b[K     |████████████████████████████████| 119 kB 53.3 MB/s \n",
            "\u001b[?25hCollecting jupyter-console\n",
            "  Downloading jupyter_console-6.2.0-py3-none-any.whl (22 kB)\n",
            "Collecting kiwisolver>=1.0.1\n",
            "  Downloading kiwisolver-1.3.1-cp37-cp37m-manylinux1_x86_64.whl (1.1 MB)\n",
            "\u001b[K     |████████████████████████████████| 1.1 MB 32.9 MB/s \n",
            "\u001b[?25hCollecting pillow>=6.2.0\n",
            "  Downloading Pillow-8.1.0-cp37-cp37m-manylinux1_x86_64.whl (2.2 MB)\n",
            "\u001b[K     |████████████████████████████████| 2.2 MB 48.4 MB/s \n",
            "\u001b[?25hCollecting cycler>=0.10\n",
            "  Downloading cycler-0.10.0-py2.py3-none-any.whl (6.5 kB)\n",
            "Collecting pyparsing!=2.0.4,!=2.1.2,!=2.1.6,>=2.0.3\n",
            "  Downloading pyparsing-2.4.7-py2.py3-none-any.whl (67 kB)\n",
            "\u001b[K     |████████████████████████████████| 67 kB 5.7 MB/s \n",
            "\u001b[?25hCollecting dill>=0.3.3\n",
            "  Downloading dill-0.3.3-py2.py3-none-any.whl (81 kB)\n",
            "\u001b[K     |████████████████████████████████| 81 kB 9.0 MB/s \n",
            "\u001b[?25hCollecting llvmlite<0.36,>=0.35.0\n",
            "  Downloading llvmlite-0.35.0-cp37-cp37m-manylinux2010_x86_64.whl (25.3 MB)\n",
            "\u001b[K     |████████████████████████████████| 25.3 MB 1.5 MB/s \n",
            "\u001b[?25hCollecting pytz>=2017.3\n",
            "  Downloading pytz-2021.1-py2.py3-none-any.whl (510 kB)\n",
            "\u001b[K     |████████████████████████████████| 510 kB 43.8 MB/s \n",
            "\u001b[?25hCollecting cffi>=1.0.0\n",
            "  Downloading cffi-1.14.5-cp37-cp37m-manylinux1_x86_64.whl (402 kB)\n",
            "\u001b[K     |████████████████████████████████| 402 kB 51.1 MB/s \n",
            "\u001b[?25hCollecting pycparser\n",
            "  Downloading pycparser-2.20-py2.py3-none-any.whl (112 kB)\n",
            "\u001b[K     |████████████████████████████████| 112 kB 54.5 MB/s \n",
            "\u001b[?25hCollecting typing-extensions>=3.6.4\n",
            "  Downloading typing_extensions-3.7.4.3-py3-none-any.whl (22 kB)\n",
            "Collecting zipp>=0.5\n",
            "  Downloading zipp-3.4.0-py3-none-any.whl (5.2 kB)\n",
            "Collecting MarkupSafe>=0.23\n",
            "  Downloading MarkupSafe-1.1.1-cp37-cp37m-manylinux2010_x86_64.whl (33 kB)\n",
            "Collecting mistune<2,>=0.8.1\n",
            "  Downloading mistune-0.8.4-py2.py3-none-any.whl (16 kB)\n",
            "Collecting testpath\n",
            "  Downloading testpath-0.4.4-py2.py3-none-any.whl (163 kB)\n",
            "\u001b[K     |████████████████████████████████| 163 kB 53.3 MB/s \n",
            "\u001b[?25hCollecting bleach\n",
            "  Downloading bleach-3.3.0-py2.py3-none-any.whl (283 kB)\n",
            "\u001b[K     |████████████████████████████████| 283 kB 48.1 MB/s \n",
            "\u001b[?25hCollecting entrypoints>=0.2.2\n",
            "  Downloading entrypoints-0.3-py2.py3-none-any.whl (11 kB)\n",
            "Collecting nbclient<0.6.0,>=0.5.0\n",
            "  Downloading nbclient-0.5.3-py3-none-any.whl (82 kB)\n",
            "\u001b[K     |████████████████████████████████| 82 kB 1.1 MB/s \n",
            "\u001b[?25hCollecting pandocfilters>=1.4.1\n",
            "  Downloading pandocfilters-1.4.3.tar.gz (16 kB)\n",
            "Collecting defusedxml\n",
            "  Downloading defusedxml-0.6.0-py2.py3-none-any.whl (23 kB)\n",
            "Collecting jupyterlab-pygments\n",
            "  Downloading jupyterlab_pygments-0.1.2-py2.py3-none-any.whl (4.6 kB)\n",
            "Collecting async-generator\n",
            "  Downloading async_generator-1.10-py3-none-any.whl (18 kB)\n",
            "Collecting nest-asyncio\n",
            "  Downloading nest_asyncio-1.5.1-py3-none-any.whl (5.0 kB)\n",
            "Collecting packaging\n",
            "  Downloading packaging-20.9-py2.py3-none-any.whl (40 kB)\n",
            "\u001b[K     |████████████████████████████████| 40 kB 3.8 MB/s \n",
            "\u001b[?25hCollecting webencodings\n",
            "  Downloading webencodings-0.5.1-py2.py3-none-any.whl (11 kB)\n",
            "Collecting qtpy\n",
            "  Downloading QtPy-1.9.0-py2.py3-none-any.whl (54 kB)\n",
            "\u001b[K     |████████████████████████████████| 54 kB 1.9 MB/s \n",
            "\u001b[?25hBuilding wheels for collected packages: pyrsistent, pandocfilters\n",
            "  Building wheel for pyrsistent (setup.py) ... \u001b[?25l\u001b[?25hdone\n",
            "  Created wheel for pyrsistent: filename=pyrsistent-0.17.3-cp37-cp37m-linux_x86_64.whl size=98071 sha256=bd9505e69453be9e5c3d7e49042385158a6601c07b21f107d130e556f82ef426\n",
            "  Stored in directory: /root/.cache/pip/wheels/a5/52/bf/71258a1d7b3c8cbe1ee53f9314c6f65f20385481eaee573cc5\n",
            "  Building wheel for pandocfilters (setup.py) ... \u001b[?25l\u001b[?25hdone\n",
            "  Created wheel for pandocfilters: filename=pandocfilters-1.4.3-py3-none-any.whl size=7992 sha256=e8e9ebc176dcc5030a5922baa3ed3519211f02ec07e6dbed227ab72ce2dd90fb\n",
            "  Stored in directory: /root/.cache/pip/wheels/42/81/34/545dc2fbf0e9137811e901108d37fc04650e81d48f97078000\n",
            "Successfully built pyrsistent pandocfilters\n",
            "Installing collected packages: zipp, typing-extensions, ipython-genutils, traitlets, six, pyrsistent, importlib-metadata, attrs, wcwidth, tornado, pyzmq, python-dateutil, pyparsing, ptyprocess, parso, jupyter-core, jsonschema, webencodings, pygments, pycparser, prompt-toolkit, pickleshare, pexpect, packaging, nest-asyncio, nbformat, MarkupSafe, jupyter-client, jedi, decorator, backcall, async-generator, testpath, pandocfilters, nbclient, mistune, jupyterlab-pygments, jinja2, ipython, entrypoints, defusedxml, cffi, bleach, terminado, Send2Trash, prometheus-client, nbconvert, ipykernel, argon2-cffi, notebook, widgetsnbextension, qtpy, jupyterlab-widgets, qtconsole, pytz, pillow, numpy, llvmlite, kiwisolver, jupyter-console, ipywidgets, dill, cycler, SimpleITK, scipy, pandas, numba, multiprocess, matplotlib, jupyter\n",
            "Successfully installed MarkupSafe-1.1.1 Send2Trash-1.5.0 SimpleITK-2.0.2 argon2-cffi-20.1.0 async-generator-1.10 attrs-20.3.0 backcall-0.2.0 bleach-3.3.0 cffi-1.14.5 cycler-0.10.0 decorator-4.4.2 defusedxml-0.6.0 dill-0.3.3 entrypoints-0.3 importlib-metadata-3.7.0 ipykernel-5.5.0 ipython-7.21.0 ipython-genutils-0.2.0 ipywidgets-7.6.3 jedi-0.18.0 jinja2-2.11.3 jsonschema-3.2.0 jupyter-1.0.0 jupyter-client-6.1.11 jupyter-console-6.2.0 jupyter-core-4.7.1 jupyterlab-pygments-0.1.2 jupyterlab-widgets-1.0.0 kiwisolver-1.3.1 llvmlite-0.35.0 matplotlib-3.3.4 mistune-0.8.4 multiprocess-0.70.11.1 nbclient-0.5.3 nbconvert-6.0.7 nbformat-5.1.2 nest-asyncio-1.5.1 notebook-6.2.0 numba-0.52.0 numpy-1.20.1 packaging-20.9 pandas-1.2.2 pandocfilters-1.4.3 parso-0.8.1 pexpect-4.8.0 pickleshare-0.7.5 pillow-8.1.0 prometheus-client-0.9.0 prompt-toolkit-3.0.16 ptyprocess-0.7.0 pycparser-2.20 pygments-2.8.0 pyparsing-2.4.7 pyrsistent-0.17.3 python-dateutil-2.8.1 pytz-2021.1 pyzmq-22.0.3 qtconsole-5.0.2 qtpy-1.9.0 scipy-1.6.1 six-1.15.0 terminado-0.9.2 testpath-0.4.4 tornado-6.1 traitlets-5.0.5 typing-extensions-3.7.4.3 wcwidth-0.2.5 webencodings-0.5.1 widgetsnbextension-3.5.1 zipp-3.4.0\n"
          ],
          "name": "stdout"
        }
      ]
    },
    {
      "cell_type": "code",
      "metadata": {
        "colab": {
          "base_uri": "https://localhost:8080/"
        },
        "id": "p--5ZBi6uePo",
        "outputId": "4c7994e7-d34b-45cf-92ea-51dc93e49cd5"
      },
      "source": [
        "cd '/gdrive/MyDrive/SimpleITK-Notebooks/Python'"
      ],
      "execution_count": 5,
      "outputs": [
        {
          "output_type": "stream",
          "text": [
            "/gdrive/MyDrive/SimpleITK-Notebooks/Python\n"
          ],
          "name": "stdout"
        }
      ]
    },
    {
      "cell_type": "code",
      "metadata": {
        "colab": {
          "base_uri": "https://localhost:8080/"
        },
        "id": "BHlrqMzWukwy",
        "outputId": "f3936343-ae0b-4e44-8f58-07127f865e27"
      },
      "source": [
        "pip install SimpleITK"
      ],
      "execution_count": 6,
      "outputs": [
        {
          "output_type": "stream",
          "text": [
            "Collecting SimpleITK\n",
            "  Using cached https://files.pythonhosted.org/packages/9c/6b/85df5eb3a8059b23a53a9f224476e75473f9bcc0a8583ed1a9c34619f372/SimpleITK-2.0.2-cp37-cp37m-manylinux2010_x86_64.whl\n",
            "Installing collected packages: SimpleITK\n",
            "Successfully installed SimpleITK-2.0.2\n"
          ],
          "name": "stdout"
        }
      ]
    },
    {
      "cell_type": "code",
      "metadata": {
        "colab": {
          "base_uri": "https://localhost:8080/"
        },
        "id": "YytwFDTzuqmP",
        "outputId": "ef35aa3a-93dd-4388-a295-b8fc91ac7713"
      },
      "source": [
        "pip install ipywidgets"
      ],
      "execution_count": 7,
      "outputs": [
        {
          "output_type": "stream",
          "text": [
            "Requirement already satisfied: ipywidgets in /usr/local/lib/python3.7/dist-packages (7.6.3)\n",
            "Requirement already satisfied: traitlets>=4.3.1 in /usr/local/lib/python3.7/dist-packages (from ipywidgets) (5.0.5)\n",
            "Requirement already satisfied: jupyterlab-widgets>=1.0.0; python_version >= \"3.6\" in /usr/local/lib/python3.7/dist-packages (from ipywidgets) (1.0.0)\n",
            "Requirement already satisfied: ipython>=4.0.0; python_version >= \"3.3\" in /usr/local/lib/python3.7/dist-packages (from ipywidgets) (5.5.0)\n",
            "Requirement already satisfied: nbformat>=4.2.0 in /usr/local/lib/python3.7/dist-packages (from ipywidgets) (5.1.2)\n",
            "Requirement already satisfied: widgetsnbextension~=3.5.0 in /usr/local/lib/python3.7/dist-packages (from ipywidgets) (3.5.1)\n",
            "Requirement already satisfied: ipykernel>=4.5.1 in /usr/local/lib/python3.7/dist-packages (from ipywidgets) (4.10.1)\n",
            "Requirement already satisfied: ipython-genutils in /usr/local/lib/python3.7/dist-packages (from traitlets>=4.3.1->ipywidgets) (0.2.0)\n",
            "Requirement already satisfied: prompt-toolkit<2.0.0,>=1.0.4 in /usr/local/lib/python3.7/dist-packages (from ipython>=4.0.0; python_version >= \"3.3\"->ipywidgets) (1.0.18)\n",
            "Requirement already satisfied: pexpect; sys_platform != \"win32\" in /usr/local/lib/python3.7/dist-packages (from ipython>=4.0.0; python_version >= \"3.3\"->ipywidgets) (4.8.0)\n",
            "Requirement already satisfied: pickleshare in /usr/local/lib/python3.7/dist-packages (from ipython>=4.0.0; python_version >= \"3.3\"->ipywidgets) (0.7.5)\n",
            "Requirement already satisfied: setuptools>=18.5 in /usr/local/lib/python3.7/dist-packages (from ipython>=4.0.0; python_version >= \"3.3\"->ipywidgets) (53.0.0)\n",
            "Requirement already satisfied: simplegeneric>0.8 in /usr/local/lib/python3.7/dist-packages (from ipython>=4.0.0; python_version >= \"3.3\"->ipywidgets) (0.8.1)\n",
            "Requirement already satisfied: pygments in /usr/local/lib/python3.7/dist-packages (from ipython>=4.0.0; python_version >= \"3.3\"->ipywidgets) (2.6.1)\n",
            "Requirement already satisfied: decorator in /usr/local/lib/python3.7/dist-packages (from ipython>=4.0.0; python_version >= \"3.3\"->ipywidgets) (4.4.2)\n",
            "Requirement already satisfied: jsonschema!=2.5.0,>=2.4 in /usr/local/lib/python3.7/dist-packages (from nbformat>=4.2.0->ipywidgets) (2.6.0)\n",
            "Requirement already satisfied: jupyter-core in /usr/local/lib/python3.7/dist-packages (from nbformat>=4.2.0->ipywidgets) (4.7.1)\n",
            "Requirement already satisfied: notebook>=4.4.1 in /usr/local/lib/python3.7/dist-packages (from widgetsnbextension~=3.5.0->ipywidgets) (5.3.1)\n",
            "Requirement already satisfied: jupyter-client in /usr/local/lib/python3.7/dist-packages (from ipykernel>=4.5.1->ipywidgets) (5.3.5)\n",
            "Requirement already satisfied: tornado>=4.0 in /usr/local/lib/python3.7/dist-packages (from ipykernel>=4.5.1->ipywidgets) (5.1.1)\n",
            "Requirement already satisfied: wcwidth in /usr/local/lib/python3.7/dist-packages (from prompt-toolkit<2.0.0,>=1.0.4->ipython>=4.0.0; python_version >= \"3.3\"->ipywidgets) (0.2.5)\n",
            "Requirement already satisfied: six>=1.9.0 in /usr/local/lib/python3.7/dist-packages (from prompt-toolkit<2.0.0,>=1.0.4->ipython>=4.0.0; python_version >= \"3.3\"->ipywidgets) (1.15.0)\n",
            "Requirement already satisfied: ptyprocess>=0.5 in /usr/local/lib/python3.7/dist-packages (from pexpect; sys_platform != \"win32\"->ipython>=4.0.0; python_version >= \"3.3\"->ipywidgets) (0.7.0)\n",
            "Requirement already satisfied: jinja2 in /usr/local/lib/python3.7/dist-packages (from notebook>=4.4.1->widgetsnbextension~=3.5.0->ipywidgets) (2.11.3)\n",
            "Requirement already satisfied: nbconvert in /usr/local/lib/python3.7/dist-packages (from notebook>=4.4.1->widgetsnbextension~=3.5.0->ipywidgets) (5.6.1)\n",
            "Requirement already satisfied: terminado>=0.8.1 in /usr/local/lib/python3.7/dist-packages (from notebook>=4.4.1->widgetsnbextension~=3.5.0->ipywidgets) (0.9.2)\n",
            "Requirement already satisfied: Send2Trash in /usr/local/lib/python3.7/dist-packages (from notebook>=4.4.1->widgetsnbextension~=3.5.0->ipywidgets) (1.5.0)\n",
            "Requirement already satisfied: pyzmq>=13 in /usr/local/lib/python3.7/dist-packages (from jupyter-client->ipykernel>=4.5.1->ipywidgets) (22.0.3)\n",
            "Requirement already satisfied: python-dateutil>=2.1 in /usr/local/lib/python3.7/dist-packages (from jupyter-client->ipykernel>=4.5.1->ipywidgets) (2.8.1)\n",
            "Requirement already satisfied: MarkupSafe>=0.23 in /usr/local/lib/python3.7/dist-packages (from jinja2->notebook>=4.4.1->widgetsnbextension~=3.5.0->ipywidgets) (1.1.1)\n",
            "Requirement already satisfied: mistune<2,>=0.8.1 in /usr/local/lib/python3.7/dist-packages (from nbconvert->notebook>=4.4.1->widgetsnbextension~=3.5.0->ipywidgets) (0.8.4)\n",
            "Requirement already satisfied: testpath in /usr/local/lib/python3.7/dist-packages (from nbconvert->notebook>=4.4.1->widgetsnbextension~=3.5.0->ipywidgets) (0.4.4)\n",
            "Requirement already satisfied: pandocfilters>=1.4.1 in /usr/local/lib/python3.7/dist-packages (from nbconvert->notebook>=4.4.1->widgetsnbextension~=3.5.0->ipywidgets) (1.4.3)\n",
            "Requirement already satisfied: defusedxml in /usr/local/lib/python3.7/dist-packages (from nbconvert->notebook>=4.4.1->widgetsnbextension~=3.5.0->ipywidgets) (0.6.0)\n",
            "Requirement already satisfied: entrypoints>=0.2.2 in /usr/local/lib/python3.7/dist-packages (from nbconvert->notebook>=4.4.1->widgetsnbextension~=3.5.0->ipywidgets) (0.3)\n",
            "Requirement already satisfied: bleach in /usr/local/lib/python3.7/dist-packages (from nbconvert->notebook>=4.4.1->widgetsnbextension~=3.5.0->ipywidgets) (3.3.0)\n",
            "Requirement already satisfied: packaging in /usr/local/lib/python3.7/dist-packages (from bleach->nbconvert->notebook>=4.4.1->widgetsnbextension~=3.5.0->ipywidgets) (20.9)\n",
            "Requirement already satisfied: webencodings in /usr/local/lib/python3.7/dist-packages (from bleach->nbconvert->notebook>=4.4.1->widgetsnbextension~=3.5.0->ipywidgets) (0.5.1)\n",
            "Requirement already satisfied: pyparsing>=2.0.2 in /usr/local/lib/python3.7/dist-packages (from packaging->bleach->nbconvert->notebook>=4.4.1->widgetsnbextension~=3.5.0->ipywidgets) (2.4.7)\n"
          ],
          "name": "stdout"
        }
      ]
    },
    {
      "cell_type": "code",
      "metadata": {
        "colab": {
          "base_uri": "https://localhost:8080/"
        },
        "id": "4aJvQMvsuzuy",
        "outputId": "a382561f-383a-4633-f241-a5d24948fa8d"
      },
      "source": [
        "from google.colab import drive\r\n",
        "drive.mount('/gdrive')\r\n",
        "%cd /gdrive"
      ],
      "execution_count": 8,
      "outputs": [
        {
          "output_type": "stream",
          "text": [
            "Drive already mounted at /gdrive; to attempt to forcibly remount, call drive.mount(\"/gdrive\", force_remount=True).\n",
            "/gdrive\n"
          ],
          "name": "stdout"
        }
      ]
    },
    {
      "cell_type": "code",
      "metadata": {
        "colab": {
          "base_uri": "https://localhost:8080/"
        },
        "id": "3e94670wvJOL",
        "outputId": "b00d24f4-d8a8-4335-ba8b-cf19fa229856"
      },
      "source": [
        "%ls -ltr '/gdrive/MyDrive/Fiji.app/ImageJ-linux64'"
      ],
      "execution_count": 9,
      "outputs": [
        {
          "output_type": "stream",
          "text": [
            "-rw------- 1 root root 90243 Feb 27 18:15 /gdrive/MyDrive/Fiji.app/ImageJ-linux64\n"
          ],
          "name": "stdout"
        }
      ]
    },
    {
      "cell_type": "code",
      "metadata": {
        "colab": {
          "base_uri": "https://localhost:8080/"
        },
        "id": "EPoWLA76msQ4",
        "outputId": "38ce9b07-69d8-4a56-fbea-f07b3866a24d"
      },
      "source": [
        "!pip install itk\r\n",
        "\r\n",
        "#!~/sitkpy/bin/pip install ITK"
      ],
      "execution_count": 10,
      "outputs": [
        {
          "output_type": "stream",
          "text": [
            "Collecting itk\n",
            "  Downloading https://files.pythonhosted.org/packages/3e/0e/13b23943e30281de56d49b9dba4b1e5278078655405d466ae429c141da09/itk-5.1.2-cp37-cp37m-manylinux1_x86_64.whl\n",
            "Collecting itk-segmentation==5.1.2\n",
            "\u001b[?25l  Downloading https://files.pythonhosted.org/packages/fd/9b/958de177ee6460d5fa210a8126d3af96947ad365473024a3d20309eda8a1/itk_segmentation-5.1.2-cp37-cp37m-manylinux1_x86_64.whl (10.3MB)\n",
            "\u001b[K     |████████████████████████████████| 10.3MB 4.3MB/s \n",
            "\u001b[?25hCollecting itk-io==5.1.2\n",
            "\u001b[?25l  Downloading https://files.pythonhosted.org/packages/1f/cf/d3d0c450e8ca2f265e34e66ab0c9af35d9c5e5c40a8653a12ebc672ddac6/itk_io-5.1.2-cp37-cp37m-manylinux1_x86_64.whl (14.0MB)\n",
            "\u001b[K     |████████████████████████████████| 14.0MB 355kB/s \n",
            "\u001b[?25hCollecting itk-filtering==5.1.2\n",
            "\u001b[?25l  Downloading https://files.pythonhosted.org/packages/27/a4/3ef76dff4b91059cbb0a4b38221e4030a9476daa4f9f783e05300a46d9c0/itk_filtering-5.1.2-cp37-cp37m-manylinux1_x86_64.whl (68.0MB)\n",
            "\u001b[K     |████████████████████████████████| 68.0MB 62kB/s \n",
            "\u001b[?25hCollecting itk-core==5.1.2\n",
            "\u001b[?25l  Downloading https://files.pythonhosted.org/packages/45/58/c4298e4470dc0d91900efb29a762de44da7f8051d7428476aa22eb1dfd24/itk_core-5.1.2-cp37-cp37m-manylinux1_x86_64.whl (50.1MB)\n",
            "\u001b[K     |████████████████████████████████| 50.1MB 40kB/s \n",
            "\u001b[?25hCollecting itk-registration==5.1.2\n",
            "\u001b[?25l  Downloading https://files.pythonhosted.org/packages/27/7a/7fde6cd47ddb5cb9f065313d26507cd723c6c4c3763e28875b1a19f718bf/itk_registration-5.1.2-cp37-cp37m-manylinux1_x86_64.whl (14.4MB)\n",
            "\u001b[K     |████████████████████████████████| 14.4MB 349kB/s \n",
            "\u001b[?25hRequirement already satisfied: numpy in /usr/local/lib/python3.7/dist-packages (from itk) (1.19.5)\n",
            "Collecting itk-numerics==5.1.2\n",
            "\u001b[?25l  Downloading https://files.pythonhosted.org/packages/10/c3/476b9c06b0003c509cb9f8da947f90dffd23700b72d36b5589c65d17c60f/itk_numerics-5.1.2-cp37-cp37m-manylinux1_x86_64.whl (36.3MB)\n",
            "\u001b[K     |████████████████████████████████| 36.3MB 119kB/s \n",
            "\u001b[?25hInstalling collected packages: itk-core, itk-numerics, itk-filtering, itk-segmentation, itk-io, itk-registration, itk\n",
            "Successfully installed itk-5.1.2 itk-core-5.1.2 itk-filtering-5.1.2 itk-io-5.1.2 itk-numerics-5.1.2 itk-registration-5.1.2 itk-segmentation-5.1.2\n"
          ],
          "name": "stdout"
        }
      ]
    },
    {
      "cell_type": "code",
      "metadata": {
        "colab": {
          "base_uri": "https://localhost:8080/"
        },
        "id": "NCecKYAQvW75",
        "outputId": "a552e18d-c53b-4912-cb5d-ceadf4fb98db"
      },
      "source": [
        "!echo $PATH"
      ],
      "execution_count": 11,
      "outputs": [
        {
          "output_type": "stream",
          "text": [
            "/usr/local/nvidia/bin:/usr/local/cuda/bin:/usr/local/sbin:/usr/local/bin:/usr/sbin:/usr/bin:/sbin:/bin:/tools/node/bin:/tools/google-cloud-sdk/bin:/opt/bin\n"
          ],
          "name": "stdout"
        }
      ]
    },
    {
      "cell_type": "code",
      "metadata": {
        "colab": {
          "base_uri": "https://localhost:8080/"
        },
        "id": "HLwABwchvZyQ",
        "outputId": "79e08c41-cdd3-4032-b70a-0eb86a28a2c8"
      },
      "source": [
        "import os\r\n",
        "#os.environ['PYTHONPATH'] += \":/content/gdrive/My Drive/Colab Notebooks/MNIST_Classifier/src\"\r\n",
        "os.environ['PATH'] += \":/content/gdrive/My Drive/Fiji.app\"\r\n",
        "! echo $PATH"
      ],
      "execution_count": 12,
      "outputs": [
        {
          "output_type": "stream",
          "text": [
            "/usr/local/nvidia/bin:/usr/local/cuda/bin:/usr/local/sbin:/usr/local/bin:/usr/sbin:/usr/bin:/sbin:/bin:/tools/node/bin:/tools/google-cloud-sdk/bin:/opt/bin:/content/gdrive/My Drive/Fiji.app\n"
          ],
          "name": "stdout"
        }
      ]
    },
    {
      "cell_type": "code",
      "metadata": {
        "colab": {
          "base_uri": "https://localhost:8080/"
        },
        "id": "xRoYeHWZvpHv",
        "outputId": "af18428a-a0d9-4fd9-c4a2-96c352e8f523"
      },
      "source": [
        "cd '/gdrive/MyDrive/SimpleITK-Notebooks/Python'"
      ],
      "execution_count": 13,
      "outputs": [
        {
          "output_type": "stream",
          "text": [
            "/gdrive/MyDrive/SimpleITK-Notebooks/Python\n"
          ],
          "name": "stdout"
        }
      ]
    },
    {
      "cell_type": "code",
      "metadata": {
        "colab": {
          "base_uri": "https://localhost:8080/"
        },
        "id": "DavE8JA9vfGP",
        "outputId": "2c3550eb-3434-4f67-a87a-a4053324a803"
      },
      "source": [
        "import SimpleITK as sitk\r\n",
        "\r\n",
        "%run update_path_to_download_script\r\n",
        "from downloaddata import fetch_data, fetch_data_all\r\n",
        "\r\n",
        "from ipywidgets import interact\r\n",
        "\r\n",
        "print(sitk.Version())"
      ],
      "execution_count": 14,
      "outputs": [
        {
          "output_type": "stream",
          "text": [
            "SimpleITK Version: 2.0.2 (ITK 5.1)\n",
            "Compiled: Dec  1 2020 22:01:03\n",
            "\n"
          ],
          "name": "stdout"
        }
      ]
    },
    {
      "cell_type": "code",
      "metadata": {
        "colab": {
          "base_uri": "https://localhost:8080/"
        },
        "id": "FTXVQciyoKvh",
        "outputId": "28e1da63-77b6-4477-b8f0-8193f2ffc4b3"
      },
      "source": [
        "cd /usr/local/"
      ],
      "execution_count": 15,
      "outputs": [
        {
          "output_type": "stream",
          "text": [
            "/usr/local\n"
          ],
          "name": "stdout"
        }
      ]
    },
    {
      "cell_type": "code",
      "metadata": {
        "id": "deJq4jlhNH4D"
      },
      "source": [
        "import shutil"
      ],
      "execution_count": 16,
      "outputs": []
    },
    {
      "cell_type": "code",
      "metadata": {
        "colab": {
          "base_uri": "https://localhost:8080/"
        },
        "id": "IXEeK9p3Nxw2",
        "outputId": "e379b9fd-09c4-4e46-96a1-d0ea1811a5cf"
      },
      "source": [
        "%ls /gdrive/MyDrive/"
      ],
      "execution_count": 17,
      "outputs": [
        {
          "output_type": "stream",
          "text": [
            "\u001b[0m\u001b[01;34m'Colab Notebooks'\u001b[0m/                      \u001b[01;34mSimpleITK_ISBI2020_TUTORIAL\u001b[0m/\n",
            " \u001b[01;34mFiji.app\u001b[0m/                              SimpleITK.jpg\n",
            " fiji-linux64-20170530.zip              \u001b[01;34mSimpleITK-Notebooks\u001b[0m/\n",
            " \u001b[01;34mMyNiftyRec\u001b[0m/                            unnamed.png\n",
            " \u001b[01;34mMyTomoLab\u001b[0m/                            'Untitled project.gscript'\n",
            " pyjnius-1.2.0-py37h90b5fae_0.tar.bz2\n"
          ],
          "name": "stdout"
        }
      ]
    },
    {
      "cell_type": "code",
      "metadata": {
        "colab": {
          "base_uri": "https://localhost:8080/",
          "height": 35
        },
        "id": "SYIjTMImNL_i",
        "outputId": "816539f0-e645-4e96-9e0c-7c1f4c7414aa"
      },
      "source": [
        "shutil.copyfile('/gdrive/MyDrive/fiji-linux64-20170530.zip', '/usr/local/fiji-linux64-20170530.zip')"
      ],
      "execution_count": 18,
      "outputs": [
        {
          "output_type": "execute_result",
          "data": {
            "application/vnd.google.colaboratory.intrinsic+json": {
              "type": "string"
            },
            "text/plain": [
              "'/usr/local/fiji-linux64-20170530.zip'"
            ]
          },
          "metadata": {
            "tags": []
          },
          "execution_count": 18
        }
      ]
    },
    {
      "cell_type": "code",
      "metadata": {
        "colab": {
          "base_uri": "https://localhost:8080/"
        },
        "id": "LL9jXhvYOFj6",
        "outputId": "ae93702e-21c5-455d-e706-5440b81c7ec7"
      },
      "source": [
        "cd /usr/local"
      ],
      "execution_count": 19,
      "outputs": [
        {
          "output_type": "stream",
          "text": [
            "/usr/local\n"
          ],
          "name": "stdout"
        }
      ]
    },
    {
      "cell_type": "code",
      "metadata": {
        "colab": {
          "base_uri": "https://localhost:8080/"
        },
        "id": "KfItb5HPpSHW",
        "outputId": "2cc4ca2e-7aef-4bbb-ca20-38b0ec83ec5e"
      },
      "source": [
        "!unzip ./fiji-linux64-20170530.zip"
      ],
      "execution_count": 20,
      "outputs": [
        {
          "output_type": "stream",
          "text": [
            "Archive:  ./fiji-linux64-20170530.zip\n",
            "  inflating: Fiji.app/db.xml.gz      \n",
            "  inflating: Fiji.app/Contents/Info.plist  \n",
            "  inflating: Fiji.app/Contents/Resources/Fiji.icns  \n",
            "  inflating: Fiji.app/Contents/Resources/ImageJ.icns  \n",
            "  inflating: Fiji.app/ImageJ-linux64  \n",
            "  inflating: Fiji.app/plugins/3D_Blob_Segmentation-3.0.0.jar  \n",
            "  inflating: Fiji.app/plugins/3D_Objects_Counter-2.0.0.jar  \n",
            "  inflating: Fiji.app/plugins/3D_Viewer-4.0.1.jar  \n",
            "  inflating: Fiji.app/plugins/Algorithm_Launcher.jar  \n",
            "  inflating: Fiji.app/plugins/Analyze/Dynamic_ROI_Profiler.clj  \n",
            "  inflating: Fiji.app/plugins/Analyze/Measure_RGB.txt  \n",
            "  inflating: Fiji.app/plugins/AnalyzeSkeleton_-3.1.2.jar  \n",
            "  inflating: Fiji.app/plugins/Anisotropic_Diffusion_2D-2.0.0.jar  \n",
            "  inflating: Fiji.app/plugins/Archipelago_Plugins-0.5.2.jar  \n",
            "  inflating: Fiji.app/plugins/Arrow_-2.0.1.jar  \n",
            "  inflating: Fiji.app/plugins/Auto_Threshold-1.16.4.jar  \n",
            "  inflating: Fiji.app/plugins/BalloonSegmentation_-3.0.0.jar  \n",
            "  inflating: Fiji.app/plugins/BeanShell_Interpreter-2.0.0-SNAPSHOT.jar  \n",
            "  inflating: Fiji.app/plugins/Bug_Submitter-2.1.0.jar  \n",
            "  inflating: Fiji.app/plugins/CLI_-2.0.0-SNAPSHOT.jar  \n",
            "  inflating: Fiji.app/plugins/CPU_Meter-2.0.0.jar  \n",
            "  inflating: Fiji.app/plugins/Calculator_Plus-2.0.0.jar  \n",
            "  inflating: Fiji.app/plugins/Cell_Counter-2.2.1.jar  \n",
            "  inflating: Fiji.app/plugins/Clojure_Interpreter-2.0.0-SNAPSHOT.jar  \n",
            "  inflating: Fiji.app/plugins/Colocalisation_Analysis-3.0.0.jar  \n",
            "  inflating: Fiji.app/plugins/Color_Histogram-2.0.6.jar  \n",
            "  inflating: Fiji.app/plugins/Color_Inspector_3D-2.3.1.jar  \n",
            "  inflating: Fiji.app/plugins/Colour_Deconvolution-3.0.1.jar  \n",
            "  inflating: Fiji.app/plugins/CorrectBleach_-2.0.1.jar  \n",
            "  inflating: Fiji.app/plugins/Correct_3D_Drift-1.0.0.jar  \n",
            "  inflating: Fiji.app/plugins/Descriptor_based_registration-2.1.1.jar  \n",
            "  inflating: Fiji.app/plugins/Dichromacy_-2.1.0.jar  \n",
            "  inflating: Fiji.app/plugins/Directionality_-2.0.1.jar  \n",
            "  inflating: Fiji.app/plugins/Examples/Add_Popup_Split_Channels.bsh  \n",
            "  inflating: Fiji.app/plugins/Examples/Anaglyph_for_Red_Cyan_glasses.rb  \n",
            "  inflating: Fiji.app/plugins/Examples/Blobs_Demo_in_Ruby.rb  \n",
            "  inflating: Fiji.app/plugins/Examples/Command_Launchers/Command_Launcher_BeanShell.bsh  \n",
            "  inflating: Fiji.app/plugins/Examples/Command_Launchers/Command_Launcher_Clojure.clj  \n",
            "  inflating: Fiji.app/plugins/Examples/Command_Launchers/Command_Launcher_Javascript.js  \n",
            "  inflating: Fiji.app/plugins/Examples/Command_Launchers/Command_Launcher_Python.py  \n",
            "  inflating: Fiji.app/plugins/Examples/Command_Launchers/Command_Launcher_Ruby.rb  \n",
            "  inflating: Fiji.app/plugins/Examples/CoverMaker/Cover_Maker.py  \n",
            "  inflating: Fiji.app/plugins/Examples/CoverMaker/Prepare_Cover_Maker_Database.py  \n",
            "  inflating: Fiji.app/plugins/Examples/Delayed_Snapshot.py  \n",
            "  inflating: Fiji.app/plugins/Examples/Delayed_Snapshot_Window.bsh  \n",
            "  inflating: Fiji.app/plugins/Examples/Edit_LUT_As_Text.py  \n",
            "  inflating: Fiji.app/plugins/Examples/Extended_Profile_Plot.bsh  \n",
            "  inflating: Fiji.app/plugins/Examples/Fiji_Cube.ijm  \n",
            "  inflating: Fiji.app/plugins/Examples/Fiji_Logo_3D.js  \n",
            "  inflating: Fiji.app/plugins/Examples/Find_Dimension_of_Raw_Image.py  \n",
            "  inflating: Fiji.app/plugins/Examples/Image_To_Tool_Icon.bsh  \n",
            "  inflating: Fiji.app/plugins/Examples/Multithreaded_Image_Processing.clj  \n",
            "  inflating: Fiji.app/plugins/Examples/Multithreaded_Image_Processing_in_Javascript.js  \n",
            "  inflating: Fiji.app/plugins/Examples/Plasma_Cloud.rb  \n",
            "  inflating: Fiji.app/plugins/Examples/Same_Slice_in_Multiple_Images.rb  \n",
            "  inflating: Fiji.app/plugins/Examples/The_Hue_Game.bsh  \n",
            "  inflating: Fiji.app/plugins/Examples/TrakEM2_Example_Scripts/Homogenize_Ball_Radius.py  \n",
            "  inflating: Fiji.app/plugins/Examples/TrakEM2_Example_Scripts/Measure_AreaLists.py  \n",
            "  inflating: Fiji.app/plugins/Examples/TrakEM2_Example_Scripts/T2_Select_All.py  \n",
            "  inflating: Fiji.app/plugins/Examples/TrakEM2_Example_Scripts/T2_set_all_transforms_to_identity.py  \n",
            "  inflating: Fiji.app/plugins/Examples/TrakEM2_Example_Scripts/extract_stack_under_arealist.py  \n",
            "  inflating: Fiji.app/plugins/Examples/blend_two_images.clj  \n",
            "  inflating: Fiji.app/plugins/Examples/celsius_to_fahrenheit.clj  \n",
            "  inflating: Fiji.app/plugins/Examples/chess_.py  \n",
            "  inflating: Fiji.app/plugins/Examples/compose_rgb-stacks.bsh  \n",
            "  inflating: Fiji.app/plugins/Examples/downsample_.js  \n",
            "  inflating: Fiji.app/plugins/Examples/list_all_threads.py  \n",
            "  inflating: Fiji.app/plugins/Examples/random_noise_example.clj  \n",
            "  inflating: Fiji.app/plugins/FS_Align_TrakEM2-2.0.1.jar  \n",
            "  inflating: Fiji.app/plugins/Feature_Detection-2.0.1.jar  \n",
            "  inflating: Fiji.app/plugins/Fiji_Archipelago-2.0.0.jar  \n",
            "  inflating: Fiji.app/plugins/Fiji_Developer-2.0.5.jar  \n",
            "  inflating: Fiji.app/plugins/Fiji_Package_Maker-2.1.0.jar  \n",
            "  inflating: Fiji.app/plugins/Fiji_Plugins-3.1.0.jar  \n",
            "  inflating: Fiji.app/plugins/Fiji_Updater.jar  \n",
            "  inflating: Fiji.app/plugins/FlowJ_-1.29.2.jar  \n",
            "  inflating: Fiji.app/plugins/Graph_Cut-1.0.1.jar  \n",
            "  inflating: Fiji.app/plugins/Gray_Morphology-2.3.3.jar  \n",
            "  inflating: Fiji.app/plugins/H5J_Loader_Plugin-1.0.6.jar  \n",
            "  inflating: Fiji.app/plugins/Helmholtz_Analysis-2.0.1.jar  \n",
            "  inflating: Fiji.app/plugins/IJ_Robot-2.0.0.jar  \n",
            "  inflating: Fiji.app/plugins/IO_-3.0.1.jar  \n",
            "  inflating: Fiji.app/plugins/Image_5D-2.0.1.jar  \n",
            "  inflating: Fiji.app/plugins/Image_Expression_Parser-3.0.0.jar  \n",
            "  inflating: Fiji.app/plugins/Interactive_3D_Surface_Plot-2.4.1.jar  \n",
            "  inflating: Fiji.app/plugins/IsoData_Classifier-2.0.0.jar  \n",
            "  inflating: Fiji.app/plugins/JRuby/imagej.rb  \n",
            "  inflating: Fiji.app/plugins/JRuby_Interpreter-2.0.0-SNAPSHOT.jar  \n",
            "  inflating: Fiji.app/plugins/Javascript_-2.0.0-SNAPSHOT.jar  \n",
            "  inflating: Fiji.app/plugins/Jython_Interpreter-2.0.0-SNAPSHOT.jar  \n",
            "  inflating: Fiji.app/plugins/Kuwahara_Filter-2.0.0.jar  \n",
            "  inflating: Fiji.app/plugins/KymographBuilder-1.2.3.jar  \n",
            "  inflating: Fiji.app/plugins/LSM_Reader-4.1.1.jar  \n",
            "  inflating: Fiji.app/plugins/LSM_Toolbox-4.1.1.jar  \n",
            "  inflating: Fiji.app/plugins/Lasso_and_Blow_Tool-2.0.1.jar  \n",
            "  inflating: Fiji.app/plugins/Linear_Kuwahara-2.0.0.jar  \n",
            "  inflating: Fiji.app/plugins/LocalThickness_-4.0.1.jar  \n",
            "  inflating: Fiji.app/plugins/MTrack2_-2.0.0.jar  \n",
            "  inflating: Fiji.app/plugins/M_I_P-2.0.0.jar  \n",
            "  inflating: Fiji.app/plugins/Macros/About_Plugin_Macros.txt  \n",
            "  inflating: Fiji.app/plugins/Macros/Bulls_Eye.txt  \n",
            "  inflating: Fiji.app/plugins/Macros/Polygon_.txt  \n",
            "  inflating: Fiji.app/plugins/Macros/RGB_Histogram.txt  \n",
            "  inflating: Fiji.app/plugins/Macros/batch_convert_any_to_tif.txt  \n",
            "  inflating: Fiji.app/plugins/Manual_Tracking-2.1.0.jar  \n",
            "  inflating: Fiji.app/plugins/Multi_Kymograph-3.0.0.jar  \n",
            "  inflating: Fiji.app/plugins/PIV_analyser-1.1.1.jar  \n",
            "  inflating: Fiji.app/plugins/QuickPALM_-1.1.1.jar  \n",
            "  inflating: Fiji.app/plugins/RATS_-2.0.0.jar  \n",
            "  inflating: Fiji.app/plugins/Reconstruct_Reader-2.0.2.jar  \n",
            "  inflating: Fiji.app/plugins/Refresh_Javas-2.0.0-SNAPSHOT.jar  \n",
            "  inflating: Fiji.app/plugins/SPIM_Opener-2.0.1.jar  \n",
            "  inflating: Fiji.app/plugins/SPIM_Registration-5.0.13.jar  \n",
            "  inflating: Fiji.app/plugins/Samples_-2.0.1.jar  \n",
            "  inflating: Fiji.app/plugins/Scripts/File/Fix_Funny_Filenames.ijm  \n",
            "  inflating: Fiji.app/plugins/Scripts/File/Make_Screencast.bsh  \n",
            "  inflating: Fiji.app/plugins/Scripts/File/Open_Samples/Adelsons_Squares.ijm  \n",
            "  inflating: Fiji.app/plugins/Scripts/File/Open_Samples/Comparing_Lengths.ijm  \n",
            "  inflating: Fiji.app/plugins/Scripts/File/Open_Samples/Spirals_.ijm  \n",
            "  inflating: Fiji.app/plugins/Scripts/File/Open_Samples/Straight_Lines.ijm  \n",
            "  inflating: Fiji.app/plugins/Scripts/File/Open_Samples/Striped_Circles.ijm  \n",
            "  inflating: Fiji.app/plugins/Scripts/Image/Adjust/Scale_to_DPI.js  \n",
            "  inflating: Fiji.app/plugins/Scripts/Image/Color/Set_Color_By_Wavelength.ijm  \n",
            "  inflating: Fiji.app/plugins/Scripts/Image/Hyperstacks/Temporal-Color_Code.ijm  \n",
            "  inflating: Fiji.app/plugins/Scripts/Plugins/Utilities/Create_Desktop_Icon.bsh  \n",
            "  inflating: Fiji.app/plugins/Scripts/Plugins/Utilities/Find_Jar_For_Class.bsh  \n",
            "  inflating: Fiji.app/plugins/Scripts/Plugins/Utilities/Record_Desktop.py  \n",
            "  inflating: Fiji.app/plugins/Scripts/Plugins/Utilities/Record_Window.py  \n",
            "  inflating: Fiji.app/plugins/Series_Labeler-2.0.0.jar  \n",
            "  inflating: Fiji.app/plugins/Sholl_Analysis-3.6.13.jar  \n",
            "  inflating: Fiji.app/plugins/Simple_Neurite_Tracer-3.1.1.jar  \n",
            "  inflating: Fiji.app/plugins/Siox_Segmentation-1.0.4.jar  \n",
            "  inflating: Fiji.app/plugins/Skeletonize3D_-2.1.0.jar  \n",
            "  inflating: Fiji.app/plugins/SplineDeformationGenerator_-2.0.0.jar  \n",
            "  inflating: Fiji.app/plugins/Stack_Manipulation-2.0.1.jar  \n",
            "  inflating: Fiji.app/plugins/Statistical_Region_Merging-2.0.0.jar  \n",
            "  inflating: Fiji.app/plugins/Stitching_-3.1.1.jar  \n",
            "  inflating: Fiji.app/plugins/Sync_Win-1.7-fiji3.jar  \n",
            "  inflating: Fiji.app/plugins/Thread_Killer-2.0.0.jar  \n",
            "  inflating: Fiji.app/plugins/Time_Lapse-2.0.1.jar  \n",
            "  inflating: Fiji.app/plugins/Time_Stamper-2.0.0.jar  \n",
            "  inflating: Fiji.app/plugins/ToAST_-25.0.1.jar  \n",
            "  inflating: Fiji.app/plugins/TopoJ_-2.0.0.jar  \n",
            "  inflating: Fiji.app/plugins/TrackMate_-3.4.2.jar  \n",
            "  inflating: Fiji.app/plugins/Trainable_Segmentation-3.2.11.jar  \n",
            "  inflating: Fiji.app/plugins/TrakEM2_-1.0h.jar  \n",
            "  inflating: Fiji.app/plugins/TrakEM2_Archipelago-2.0.1.jar  \n",
            "  inflating: Fiji.app/plugins/Utilities/Close_All_Without_Saving.txt  \n",
            "  inflating: Fiji.app/plugins/VIB_-3.0.1.jar  \n",
            "  inflating: Fiji.app/plugins/Vaa3d_Reader-2.0.1.jar  \n",
            "  inflating: Fiji.app/plugins/Vaa3d_Writer-1.0.1.jar  \n",
            "  inflating: Fiji.app/plugins/Video_Editing-2.0.0.jar  \n",
            "  inflating: Fiji.app/plugins/View5D_-1.3.1.jar  \n",
            "  inflating: Fiji.app/plugins/Volume_Calculator-2.0.1.jar  \n",
            "  inflating: Fiji.app/plugins/Volume_Viewer-2.01.1.jar  \n",
            "  inflating: Fiji.app/plugins/bUnwarpJ_-2.6.8.jar  \n",
            "  inflating: Fiji.app/plugins/bigdataviewer_fiji-3.0.0.jar  \n",
            "  inflating: Fiji.app/plugins/bigwarp_fiji-2.1.5.jar  \n",
            "  inflating: Fiji.app/plugins/bio-formats_plugins-5.5.1.jar  \n",
            "  inflating: Fiji.app/plugins/blockmatching_-2.1.1.jar  \n",
            "  inflating: Fiji.app/plugins/ij-ImageIO_.jar  \n",
            "  inflating: Fiji.app/plugins/level_sets-1.0.1.jar  \n",
            "  inflating: Fiji.app/plugins/mpicbg_-1.1.1.jar  \n",
            "  inflating: Fiji.app/plugins/panorama_-3.0.1.jar  \n",
            "  inflating: Fiji.app/plugins/readme.txt  \n",
            "  inflating: Fiji.app/plugins/register_virtual_stack_slices-3.0.1.jar  \n",
            "  inflating: Fiji.app/plugins/registration_3d-2.0.0.jar  \n",
            "  inflating: Fiji.app/plugins/trakem2_tps-1.1.2.jar  \n",
            "  inflating: Fiji.app/plugins/z_spacing-0.0.1-SNAPSHOT.jar  \n",
            "  inflating: Fiji.app/jars/JWlz-1.4.0.jar  \n",
            "  inflating: Fiji.app/jars/T2-NIT-1.1.1.jar  \n",
            "  inflating: Fiji.app/jars/T2-TreelineGraph-1.1.1.jar  \n",
            "  inflating: Fiji.app/jars/VIB-lib-2.1.1.jar  \n",
            "  inflating: Fiji.app/jars/VectorString-2.0.0.jar  \n",
            "  inflating: Fiji.app/jars/ahocorasick-0.2.4.jar  \n",
            "  inflating: Fiji.app/jars/ant-junit.jar  \n",
            "  inflating: Fiji.app/jars/ant-launcher.jar  \n",
            "  inflating: Fiji.app/jars/ant-nodeps.jar  \n",
            "  inflating: Fiji.app/jars/ant.jar   \n",
            "  inflating: Fiji.app/jars/args4j-2.0.25.jar  \n",
            "  inflating: Fiji.app/jars/asm-4.0.jar  \n",
            "  inflating: Fiji.app/jars/asm-analysis-4.0.jar  \n",
            "  inflating: Fiji.app/jars/asm-commons-4.0.jar  \n",
            "  inflating: Fiji.app/jars/asm-tree-4.0.jar  \n",
            "  inflating: Fiji.app/jars/asm-util-4.0.jar  \n",
            "  inflating: Fiji.app/jars/autocomplete-2.5.8.jar  \n",
            "  inflating: Fiji.app/jars/base64-2.3.8.jar  \n",
            "  inflating: Fiji.app/jars/batik-1.8.jar  \n",
            "  inflating: Fiji.app/jars/batik-anim-1.8.jar  \n",
            "  inflating: Fiji.app/jars/batik-awt-util-1.8.jar  \n",
            "  inflating: Fiji.app/jars/batik-bridge-1.8.jar  \n",
            "  inflating: Fiji.app/jars/batik-css-1.8.jar  \n",
            "  inflating: Fiji.app/jars/batik-dom-1.8.jar  \n",
            "  inflating: Fiji.app/jars/batik-ext-1.8.jar  \n",
            "  inflating: Fiji.app/jars/batik-gvt-1.8.jar  \n",
            "  inflating: Fiji.app/jars/batik-parser-1.8.jar  \n",
            "  inflating: Fiji.app/jars/batik-script-1.8.jar  \n",
            "  inflating: Fiji.app/jars/batik-svg-dom-1.8.jar  \n",
            "  inflating: Fiji.app/jars/batik-svggen-1.8.jar  \n",
            "  inflating: Fiji.app/jars/batik-util-1.8.jar  \n",
            "  inflating: Fiji.app/jars/batik-xml-1.8.jar  \n",
            "  inflating: Fiji.app/jars/bcmail-jdk14-138.jar  \n",
            "  inflating: Fiji.app/jars/bcprov-jdk14-138.jar  \n",
            "  inflating: Fiji.app/jars/bigdataviewer-core-3.0.3.jar  \n",
            "  inflating: Fiji.app/jars/bigdataviewer-vistools-1.0.0-beta-4.jar  \n",
            "  inflating: Fiji.app/jars/bio-formats/formats-api-5.5.1.jar  \n",
            "  inflating: Fiji.app/jars/bio-formats/formats-bsd-5.5.1.jar  \n",
            "  inflating: Fiji.app/jars/bio-formats/formats-common-5.1.10.jar  \n",
            "  inflating: Fiji.app/jars/bio-formats/formats-gpl-5.5.1.jar  \n",
            "  inflating: Fiji.app/jars/bio-formats/jai_imageio-5.5.1.jar  \n",
            "  inflating: Fiji.app/jars/bio-formats/jxrlib-all-0.2.1.jar  \n",
            "  inflating: Fiji.app/jars/bio-formats/mdbtools-java-5.1.10.jar  \n",
            "  inflating: Fiji.app/jars/bio-formats/metakit-5.3.0.jar  \n",
            "  inflating: Fiji.app/jars/bio-formats/ome-common-5.3.1.jar  \n",
            "  inflating: Fiji.app/jars/bio-formats/ome-mdbtools-5.3.0.jar  \n",
            "  inflating: Fiji.app/jars/bio-formats/ome-poi-5.3.1.jar  \n",
            "  inflating: Fiji.app/jars/bio-formats/ome-xml-5.4.0.jar  \n",
            "  inflating: Fiji.app/jars/bio-formats/specification-5.4.0.jar  \n",
            "  inflating: Fiji.app/jars/bio-formats/turbojpeg-5.5.1.jar  \n",
            "  inflating: Fiji.app/jars/blas-0.8.jar  \n",
            "  inflating: Fiji.app/jars/bsh-2.0b6.jar  \n",
            "  inflating: Fiji.app/jars/bytelist-1.0.11.jar  \n",
            "  inflating: Fiji.app/jars/clojure-1.8.0.jar  \n",
            "  inflating: Fiji.app/jars/codemodel-2.6.jar  \n",
            "  inflating: Fiji.app/jars/collections-generic-4.01.jar  \n",
            "  inflating: Fiji.app/jars/commons-codec-1.8.jar  \n",
            "  inflating: Fiji.app/jars/commons-compress-1.4.1.jar  \n",
            "  inflating: Fiji.app/jars/commons-lang3-3.1.jar  \n",
            "  inflating: Fiji.app/jars/commons-logging-1.1.1.jar  \n",
            "  inflating: Fiji.app/jars/commons-math-2.2.jar  \n",
            "  inflating: Fiji.app/jars/commons-math3-3.6.1.jar  \n",
            "  inflating: Fiji.app/jars/commons-vfs2-2.0.jar  \n",
            "  inflating: Fiji.app/jars/datasets-0.8.1906.jar  \n",
            "  inflating: Fiji.app/jars/ejml-0.24.jar  \n",
            "  inflating: Fiji.app/jars/eventbus-1.4.jar  \n",
            "  inflating: Fiji.app/jars/f2jutil-0.8.jar  \n",
            "  inflating: Fiji.app/jars/fake-2.0.0-SNAPSHOT.jar  \n",
            "  inflating: Fiji.app/jars/ffmpeg-2.6.1-0.11.jar  \n",
            "  inflating: Fiji.app/jars/fiji-2.0.0-SNAPSHOT.jar  \n",
            "  inflating: Fiji.app/jars/fiji-compat-2.0.2.jar  \n",
            "  inflating: Fiji.app/jars/fiji-lib-2.1.1.jar  \n",
            "  inflating: Fiji.app/jars/fiji-scripting-2.0.0-SNAPSHOT.jar  \n",
            "  inflating: Fiji.app/jars/filters-2.0.235.jar  \n",
            "  inflating: Fiji.app/jars/gcc-runtime-0.8.1906.jar  \n",
            "  inflating: Fiji.app/jars/gentyref-1.1.0.jar  \n",
            "  inflating: Fiji.app/jars/gluegen-rt-2.3.2.jar  \n",
            "  inflating: Fiji.app/jars/gluegen-rt-main-2.3.2.jar  \n",
            "  inflating: Fiji.app/jars/grDevices-0.8.1906.jar  \n",
            "  inflating: Fiji.app/jars/graphics-0.8.1906.jar  \n",
            "  inflating: Fiji.app/jars/groovy-2.3.6.jar  \n",
            "  inflating: Fiji.app/jars/gson-2.7.jar  \n",
            "  inflating: Fiji.app/jars/guava-19.0.jar  \n",
            "  inflating: Fiji.app/jars/hamcrest-core-1.3.jar  \n",
            "  inflating: Fiji.app/jars/ij-1.51n.jar  \n",
            "  inflating: Fiji.app/jars/ij1-patcher-0.12.5.jar  \n",
            "  inflating: Fiji.app/jars/image4j-0.7.jar  \n",
            "  inflating: Fiji.app/jars/imagej-2.0.0-rc-59.jar  \n",
            "  inflating: Fiji.app/jars/imagej-common-0.24.3.jar  \n",
            "  inflating: Fiji.app/jars/imagej-deprecated-0.1.1.jar  \n",
            "  inflating: Fiji.app/jars/imagej-launcher-4.0.5.jar  \n",
            "  inflating: Fiji.app/jars/imagej-legacy-0.23.5.jar  \n",
            "  inflating: Fiji.app/jars/imagej-notebook-0.2.1.jar  \n",
            "  inflating: Fiji.app/jars/imagej-ops-0.36.0.jar  \n",
            "  inflating: Fiji.app/jars/imagej-plugins-commands-0.7.0.jar  \n",
            "  inflating: Fiji.app/jars/imagej-plugins-tools-0.3.0.jar  \n",
            "  inflating: Fiji.app/jars/imagej-plugins-uploader-ssh-0.3.1.jar  \n",
            "  inflating: Fiji.app/jars/imagej-plugins-uploader-webdav-0.2.1.jar  \n",
            "  inflating: Fiji.app/jars/imagej-scripting-0.5.1.jar  \n",
            "  inflating: Fiji.app/jars/imagej-ui-awt-0.3.0.jar  \n",
            "  inflating: Fiji.app/jars/imagej-ui-swing-0.21.1.jar  \n",
            "  inflating: Fiji.app/jars/imagej-updater-0.8.2.jar  \n",
            "  inflating: Fiji.app/jars/imglib2-3.2.1.jar  \n",
            "  inflating: Fiji.app/jars/imglib2-algorithm-0.6.2.jar  \n",
            "  inflating: Fiji.app/jars/imglib2-algorithm-fft-0.1.2.jar  \n",
            "  inflating: Fiji.app/jars/imglib2-algorithm-gpl-0.1.5.jar  \n",
            "  inflating: Fiji.app/jars/imglib2-ij-2.0.0-beta-35.jar  \n",
            "  inflating: Fiji.app/jars/imglib2-realtransform-2.0.0-beta-34.jar  \n",
            "  inflating: Fiji.app/jars/imglib2-roi-0.4.4.jar  \n",
            "  inflating: Fiji.app/jars/imglib2-ui-2.0.0-beta-31.jar  \n",
            "  inflating: Fiji.app/jars/invokebinder-1.2.jar  \n",
            "  inflating: Fiji.app/jars/itext-2.1.5.jar  \n",
            "  inflating: Fiji.app/jars/itextpdf-5.1.1.jar  \n",
            "  inflating: Fiji.app/jars/j3dcore-1.6.0-scijava-2.jar  \n",
            "  inflating: Fiji.app/jars/j3dutils-1.6.0-scijava-2.jar  \n",
            "  inflating: Fiji.app/jars/jacl.jar  \n",
            "  inflating: Fiji.app/jars/jai-codec-1.1.3.jar  \n",
            "  inflating: Fiji.app/jars/jai-core-1.1.3.jar  \n",
            "  inflating: Fiji.app/jars/jama-1.0.3.jar  \n",
            "  inflating: Fiji.app/jars/java-cup-0.11a.jar  \n",
            "  inflating: Fiji.app/jars/javacpp-0.11.jar  \n",
            "  inflating: Fiji.app/jars/javassist-3.20.0-GA.jar  \n",
            "  inflating: Fiji.app/jars/jcodings-1.0.10.jar  \n",
            "  inflating: Fiji.app/jars/jcommon-1.0.23.jar  \n",
            "  inflating: Fiji.app/jars/jdatepicker-1.3.2.jar  \n",
            "  inflating: Fiji.app/jars/jdom2-2.0.6.jar  \n",
            "  inflating: Fiji.app/jars/jep-2.4.2.jar  \n",
            "  inflating: Fiji.app/jars/jffi-1.2.7-native.jar  \n",
            "  inflating: Fiji.app/jars/jffi-1.2.7.jar  \n",
            "  inflating: Fiji.app/jars/jfreechart-1.0.19.jar  \n",
            "  inflating: Fiji.app/jars/jgoodies-common-1.7.0.jar  \n",
            "  inflating: Fiji.app/jars/jgoodies-forms-1.7.2.jar  \n",
            "  inflating: Fiji.app/jars/jgrapht-0.8.3.jar  \n",
            "  inflating: Fiji.app/jars/jgraphx-1.10.4.1.jar  \n",
            "  inflating: Fiji.app/jars/jhdf5-14.12.5.jar  \n",
            "  inflating: Fiji.app/jars/jhotdraw-7.6.0.jar  \n",
            "  inflating: Fiji.app/jars/jitk-tps-2.1.0.jar  \n",
            "  inflating: Fiji.app/jars/jna-4.2.2.jar  \n",
            "  inflating: Fiji.app/jars/jnr-constants-0.8.5.jar  \n",
            "  inflating: Fiji.app/jars/jnr-enxio-0.4.jar  \n",
            "  inflating: Fiji.app/jars/jnr-ffi-1.0.7.jar  \n",
            "  inflating: Fiji.app/jars/jnr-netdb-1.1.2.jar  \n",
            "  inflating: Fiji.app/jars/jnr-posix-3.0.1.jar  \n",
            "  inflating: Fiji.app/jars/jnr-unixsocket-0.3.jar  \n",
            "  inflating: Fiji.app/jars/jnr-x86asm-1.0.2.jar  \n",
            "  inflating: Fiji.app/jars/joal-2.3.2.jar  \n",
            "  inflating: Fiji.app/jars/joal-main-2.3.2.jar  \n",
            "  inflating: Fiji.app/jars/jocl-2.3.2.jar  \n",
            "  inflating: Fiji.app/jars/jocl-main-2.3.2.jar  \n",
            "  inflating: Fiji.app/jars/joda-time-2.9.4.jar  \n",
            "  inflating: Fiji.app/jars/jogl-all-2.3.2.jar  \n",
            "  inflating: Fiji.app/jars/jogl-all-main-2.3.2.jar  \n",
            "  inflating: Fiji.app/jars/joni-2.1.1.jar  \n",
            "  inflating: Fiji.app/jars/jpedalSTD-2.80b11.jar  \n",
            "  inflating: Fiji.app/jars/jruby-core-1.7.12.jar  \n",
            "  inflating: Fiji.app/jars/jruby-stdlib-1.7.12.jar  \n",
            "  inflating: Fiji.app/jars/js.jar    \n",
            "  inflating: Fiji.app/jars/jsch-0.1.49.jar  \n",
            "  inflating: Fiji.app/jars/jsoup-1.7.2.jar  \n",
            "  inflating: Fiji.app/jars/jtransforms-2.4.jar  \n",
            "  inflating: Fiji.app/jars/jung-api-2.0.1.jar  \n",
            "  inflating: Fiji.app/jars/jung-graph-impl-2.0.1.jar  \n",
            "  inflating: Fiji.app/jars/jython-shaded-2.7.0.jar  \n",
            "  inflating: Fiji.app/jars/jzlib-1.1.2.jar  \n",
            "  inflating: Fiji.app/jars/kryo-2.24.0.jar  \n",
            "  inflating: Fiji.app/jars/languagesupport-2.5.8.jar  \n",
            "  inflating: Fiji.app/jars/lapack-0.8.jar  \n",
            "  inflating: Fiji.app/jars/legacy-imglib1-1.1.6.jar  \n",
            "  inflating: Fiji.app/jars/linux64/ffmpeg-2.6.1-0.11-linux-x86_64.jar  \n",
            "  inflating: Fiji.app/jars/linux64/gluegen-rt-2.3.2-natives-linux-amd64.jar  \n",
            "  inflating: Fiji.app/jars/linux64/joal-2.3.2-natives-linux-amd64.jar  \n",
            "  inflating: Fiji.app/jars/linux64/jocl-2.3.2-natives-linux-amd64.jar  \n",
            "  inflating: Fiji.app/jars/linux64/jogl-all-2.3.2-natives-linux-amd64.jar  \n",
            "  inflating: Fiji.app/jars/log4j-1.2.17.jar  \n",
            "  inflating: Fiji.app/jars/logback-classic-1.1.7.jar  \n",
            "  inflating: Fiji.app/jars/logback-core-1.1.7.jar  \n",
            "  inflating: Fiji.app/jars/mapdb-1.0.3.jar  \n",
            "  inflating: Fiji.app/jars/markdownj-0.3.0-1.0.2b4.jar  \n",
            "  inflating: Fiji.app/jars/maven-scm-api-1.4.jar  \n",
            "  inflating: Fiji.app/jars/maven-scm-provider-svn-commons-1.4.jar  \n",
            "  inflating: Fiji.app/jars/maven-scm-provider-svnexe-1.4.jar  \n",
            "  inflating: Fiji.app/jars/metadata-extractor-2.6.2.jar  \n",
            "  inflating: Fiji.app/jars/methods-0.8.1906.jar  \n",
            "  inflating: Fiji.app/jars/miglayout-3.7.4-swing.jar  \n",
            "  inflating: Fiji.app/jars/mines-jtk-20151125.jar  \n",
            "  inflating: Fiji.app/jars/minimaven-2.2.0.jar  \n",
            "  inflating: Fiji.app/jars/minlog-1.2.jar  \n",
            "  inflating: Fiji.app/jars/mpicbg-1.1.1.jar  \n",
            "  inflating: Fiji.app/jars/mpicbg-trakem2-1.2.3.jar  \n",
            "  inflating: Fiji.app/jars/mtj-1.0.4.jar  \n",
            "  inflating: Fiji.app/jars/nailgun-server-0.9.1.jar  \n",
            "  inflating: Fiji.app/jars/native-lib-loader-2.1.4.jar  \n",
            "  inflating: Fiji.app/jars/netcdf-4.3.19.jar  \n",
            "  inflating: Fiji.app/jars/netlib-java-0.9.3-renjin-patched-2.jar  \n",
            "  inflating: Fiji.app/jars/object-inspector-0.1.jar  \n",
            "  inflating: Fiji.app/jars/objenesis-2.1.jar  \n",
            "  inflating: Fiji.app/jars/op-finder-0.1.0.jar  \n",
            "  inflating: Fiji.app/jars/opencsv-2.4.jar  \n",
            "  inflating: Fiji.app/jars/options-1.1.jar  \n",
            "  inflating: Fiji.app/jars/pal-optimization-2.0.0.jar  \n",
            "  inflating: Fiji.app/jars/parsington-1.0.0.jar  \n",
            "  inflating: Fiji.app/jars/pentaho-package-manager-1.0.8.jar  \n",
            "  inflating: Fiji.app/jars/perf4j-0.9.13.jar  \n",
            "  inflating: Fiji.app/jars/plexus-utils-1.5.6.jar  \n",
            "  inflating: Fiji.app/jars/postgresql-8.2-507.jdbc3.jar  \n",
            "  inflating: Fiji.app/jars/regexp-1.3.jar  \n",
            "  inflating: Fiji.app/jars/renjin-appl-0.8.1906.jar  \n",
            "  inflating: Fiji.app/jars/renjin-core-0.8.1906.jar  \n",
            "  inflating: Fiji.app/jars/renjin-gnur-runtime-0.8.1906.jar  \n",
            "  inflating: Fiji.app/jars/renjin-script-engine-0.8.1906.jar  \n",
            "  inflating: Fiji.app/jars/rhino-1.7.6.jar  \n",
            "  inflating: Fiji.app/jars/rsyntaxtextarea-2.5.8.jar  \n",
            "  inflating: Fiji.app/jars/scala-compiler-2.12.1.jar  \n",
            "  inflating: Fiji.app/jars/scala-library-2.12.1.jar  \n",
            "  inflating: Fiji.app/jars/scala-parser-combinators_2.12.0-M4-1.0.4.jar  \n",
            "  inflating: Fiji.app/jars/scala-reflect-2.12.1.jar  \n",
            "  inflating: Fiji.app/jars/scala-xml_2.12-1.0.6.jar  \n",
            "  inflating: Fiji.app/jars/scala-xml_2.12.0-M4-1.0.5.jar  \n",
            "  inflating: Fiji.app/jars/scifio-0.31.1.jar  \n",
            "  inflating: Fiji.app/jars/scifio-bf-compat-2.0.2.jar  \n",
            "  inflating: Fiji.app/jars/scifio-cli-0.3.3.jar  \n",
            "  inflating: Fiji.app/jars/scifio-hdf5-0.1.1.jar  \n",
            "  inflating: Fiji.app/jars/scifio-jai-imageio-1.1.0.jar  \n",
            "  inflating: Fiji.app/jars/scifio-lifesci-0.7.0.jar  \n",
            "  inflating: Fiji.app/jars/scifio-ome-xml-0.14.2.jar  \n",
            "  inflating: Fiji.app/jars/scifio-tools-0.14.0.jar  \n",
            "  inflating: Fiji.app/jars/scijava-common-2.62.1.jar  \n",
            "  inflating: Fiji.app/jars/scijava-config-2.0.1.jar  \n",
            "  inflating: Fiji.app/jars/scijava-expression-parser-2.1.1.jar  \n",
            "  inflating: Fiji.app/jars/scijava-plugins-commands-0.2.2.jar  \n",
            "  inflating: Fiji.app/jars/scijava-plugins-platforms-0.2.1.jar  \n",
            "  inflating: Fiji.app/jars/scijava-plugins-text-markdown-0.1.2.jar  \n",
            "  inflating: Fiji.app/jars/scijava-plugins-text-plain-0.1.2.jar  \n",
            "  inflating: Fiji.app/jars/scijava-ui-awt-0.1.5.jar  \n",
            "  inflating: Fiji.app/jars/scijava-ui-swing-0.9.1.jar  \n",
            "  inflating: Fiji.app/jars/script-editor-0.1.2.jar  \n",
            "  inflating: Fiji.app/jars/scripting-beanshell-0.3.1.jar  \n",
            "  inflating: Fiji.app/jars/scripting-clojure-0.1.5.jar  \n",
            "  inflating: Fiji.app/jars/scripting-groovy-0.2.5.jar  \n",
            "  inflating: Fiji.app/jars/scripting-java-0.4.0.jar  \n",
            "  inflating: Fiji.app/jars/scripting-javascript-0.4.3.jar  \n",
            "  inflating: Fiji.app/jars/scripting-jruby-0.2.4.jar  \n",
            "  inflating: Fiji.app/jars/scripting-jython-0.4.0.jar  \n",
            "  inflating: Fiji.app/jars/scripting-renjin-0.2.1.jar  \n",
            "  inflating: Fiji.app/jars/scripting-scala-0.2.0.jar  \n",
            "  inflating: Fiji.app/jars/slf4j-api-1.7.21.jar  \n",
            "  inflating: Fiji.app/jars/snakeyaml-1.13.jar  \n",
            "  inflating: Fiji.app/jars/spim_data-2.2.0.jar  \n",
            "  inflating: Fiji.app/jars/stats-0.8.1906.jar  \n",
            "  inflating: Fiji.app/jars/swing-checkbox-tree-1.0.1.jar  \n",
            "  inflating: Fiji.app/jars/swing-worker-1.1.jar  \n",
            "  inflating: Fiji.app/jars/swingx-1.6.1.jar  \n",
            "  inflating: Fiji.app/jars/trove4j-3.0.3.jar  \n",
            "  inflating: Fiji.app/jars/udunits-4.3.18.jar  \n",
            "  inflating: Fiji.app/jars/ui-behaviour-1.1.0.jar  \n",
            "  inflating: Fiji.app/jars/utils-0.8.1906.jar  \n",
            "  inflating: Fiji.app/jars/vecmath-1.6.0-scijava-2.jar  \n",
            "  inflating: Fiji.app/jars/weave_jy2java-2.1.0.jar  \n",
            "  inflating: Fiji.app/jars/weka-dev-3.9.0.jar  \n",
            "  inflating: Fiji.app/jars/xerbla-0.8.jar  \n",
            "  inflating: Fiji.app/jars/xercesImpl-2.8.1.jar  \n",
            "  inflating: Fiji.app/jars/xml-apis-1.3.03.jar  \n",
            "  inflating: Fiji.app/jars/xml-apis-ext-1.3.04.jar  \n",
            "  inflating: Fiji.app/jars/xmlgraphics-commons-2.1.jar  \n",
            "  inflating: Fiji.app/jars/xmpcore-5.1.2.jar  \n",
            "  inflating: Fiji.app/jars/xz-1.0.jar  \n",
            "  inflating: Fiji.app/jars/yecht-1.0.jar  \n",
            "  inflating: Fiji.app/scripts/ImageJ.m  \n",
            "  inflating: Fiji.app/scripts/InstallJava3D.m  \n",
            "  inflating: Fiji.app/scripts/IsJava3DInstalled.m  \n",
            "  inflating: Fiji.app/scripts/Matlab3DViewerDemo_1.m  \n",
            "  inflating: Fiji.app/scripts/Matlab3DViewerDemo_2.m  \n",
            "  inflating: Fiji.app/scripts/Matlab3DViewerDemo_3.m  \n",
            "  inflating: Fiji.app/scripts/Matlab3DViewerIntroduction.m  \n",
            "  inflating: Fiji.app/scripts/Miji.m  \n",
            "  inflating: Fiji.app/scripts/Miji_Test.m  \n",
            "  inflating: Fiji.app/scripts/bfopen.m  \n",
            "  inflating: Fiji.app/scripts/copytoImg.m  \n",
            "  inflating: Fiji.app/scripts/copytoImgPlus.m  \n",
            "  inflating: Fiji.app/scripts/copytoMatlab.m  \n",
            "  inflating: Fiji.app/scripts/importTrackMateTracks.m  \n",
            "  inflating: Fiji.app/scripts/trackmateEdges.m  \n",
            "  inflating: Fiji.app/scripts/trackmateFeatureDeclarations.m  \n",
            "  inflating: Fiji.app/scripts/trackmateGraph.m  \n",
            "  inflating: Fiji.app/scripts/trackmateImageCalibration.m  \n",
            "  inflating: Fiji.app/scripts/trackmateSpots.m  \n",
            "  inflating: Fiji.app/images/about/about1.tif  \n",
            "  inflating: Fiji.app/images/about/about1.tif.txt  \n",
            "  inflating: Fiji.app/images/about/about2.tif  \n",
            "  inflating: Fiji.app/images/about/about2.tif.txt  \n",
            "  inflating: Fiji.app/images/about/about3.tif  \n",
            "  inflating: Fiji.app/images/about/about3.tif.txt  \n",
            "  inflating: Fiji.app/images/about/about4.tif  \n",
            "  inflating: Fiji.app/images/about/about4.tif.txt  \n",
            "  inflating: Fiji.app/images/about/about5.tif  \n",
            "  inflating: Fiji.app/images/about/about5.tif.txt  \n",
            "  inflating: Fiji.app/images/icon-flat.png  \n",
            "  inflating: Fiji.app/images/icon.png  \n",
            "  inflating: Fiji.app/macros/AutoRun/AutoRun_Scripts.ijm  \n",
            "  inflating: Fiji.app/macros/StartupMacros.fiji.ijm  \n",
            "  inflating: Fiji.app/macros/listManagement.txt  \n",
            "  inflating: Fiji.app/macros/toolsets/Clear Custom Tools.txt  \n",
            "  inflating: Fiji.app/macros/toolsets/Drawing Tools.txt  \n",
            "  inflating: Fiji.app/macros/toolsets/Lookup Tables.txt  \n",
            "  inflating: Fiji.app/README.md      \n",
            "  inflating: Fiji.app/WELCOME.md     \n",
            "  inflating: Fiji.app/luts/16_colors.lut  \n",
            "  inflating: Fiji.app/luts/5_ramps.lut  \n",
            "  inflating: Fiji.app/luts/6_shades.lut  \n",
            "  inflating: Fiji.app/luts/Cyan Hot.lut  \n",
            "  inflating: Fiji.app/luts/Green Fire Blue.lut  \n",
            "  inflating: Fiji.app/luts/HiLo.lut  \n",
            "  inflating: Fiji.app/luts/ICA.lut   \n",
            "  inflating: Fiji.app/luts/ICA2.lut  \n",
            "  inflating: Fiji.app/luts/ICA3.lut  \n",
            "  inflating: Fiji.app/luts/Magenta Hot.lut  \n",
            "  inflating: Fiji.app/luts/Orange Hot.lut  \n",
            "  inflating: Fiji.app/luts/Rainbow RGB.lut  \n",
            "  inflating: Fiji.app/luts/Red Hot.lut  \n",
            "  inflating: Fiji.app/luts/Thermal.lut  \n",
            "  inflating: Fiji.app/luts/Yellow Hot.lut  \n",
            "  inflating: Fiji.app/luts/blue_orange_icb.lut  \n",
            "  inflating: Fiji.app/luts/brgbcmyw.lut  \n",
            "  inflating: Fiji.app/luts/cool.lut  \n",
            "  inflating: Fiji.app/luts/edges.lut  \n",
            "  inflating: Fiji.app/luts/gem.lut   \n",
            "  inflating: Fiji.app/luts/glasbey.lut  \n",
            "  inflating: Fiji.app/luts/glasbey_inverted.lut  \n",
            "  inflating: Fiji.app/luts/glow.lut  \n",
            "  inflating: Fiji.app/luts/mpl-inferno.lut  \n",
            "  inflating: Fiji.app/luts/mpl-magma.lut  \n",
            "  inflating: Fiji.app/luts/mpl-plasma.lut  \n",
            "  inflating: Fiji.app/luts/mpl-viridis.lut  \n",
            "  inflating: Fiji.app/luts/phase.lut  \n",
            "  inflating: Fiji.app/luts/physics.lut  \n",
            "  inflating: Fiji.app/luts/royal.lut  \n",
            "  inflating: Fiji.app/luts/sepia.lut  \n",
            "  inflating: Fiji.app/luts/smart.lut  \n",
            "  inflating: Fiji.app/luts/thal.lut  \n",
            "  inflating: Fiji.app/luts/thallium.lut  \n",
            "  inflating: Fiji.app/luts/unionjack.lut  \n",
            "  inflating: Fiji.app/retro/backport-util-concurrent-3.1.jar  \n",
            "  inflating: Fiji.app/retro/retrotranslator-runtime-1.2.9.jar  \n",
            "  inflating: Fiji.app/retro/retrotranslator-transformer-1.2.9.jar  \n",
            "  inflating: Fiji.app/java/linux-amd64/jdk1.8.0_66/jre/bin/pack200  \n",
            "  inflating: Fiji.app/java/linux-amd64/jdk1.8.0_66/jre/bin/keytool  \n",
            "  inflating: Fiji.app/java/linux-amd64/jdk1.8.0_66/jre/bin/jjs  \n",
            "  inflating: Fiji.app/java/linux-amd64/jdk1.8.0_66/jre/bin/tnameserv  \n",
            "  inflating: Fiji.app/java/linux-amd64/jdk1.8.0_66/jre/bin/java  \n",
            "  inflating: Fiji.app/java/linux-amd64/jdk1.8.0_66/jre/bin/ControlPanel  \n",
            "  inflating: Fiji.app/java/linux-amd64/jdk1.8.0_66/jre/bin/orbd  \n",
            "  inflating: Fiji.app/java/linux-amd64/jdk1.8.0_66/jre/bin/rmiregistry  \n",
            "  inflating: Fiji.app/java/linux-amd64/jdk1.8.0_66/jre/bin/unpack200  \n",
            "  inflating: Fiji.app/java/linux-amd64/jdk1.8.0_66/jre/bin/policytool  \n",
            "  inflating: Fiji.app/java/linux-amd64/jdk1.8.0_66/jre/bin/javaws  \n",
            "  inflating: Fiji.app/java/linux-amd64/jdk1.8.0_66/jre/bin/servertool  \n",
            "  inflating: Fiji.app/java/linux-amd64/jdk1.8.0_66/jre/bin/rmid  \n",
            "  inflating: Fiji.app/java/linux-amd64/jdk1.8.0_66/jre/bin/jcontrol  \n",
            "  inflating: Fiji.app/java/linux-amd64/jdk1.8.0_66/jre/THIRDPARTYLICENSEREADME.txt  \n",
            "  inflating: Fiji.app/java/linux-amd64/jdk1.8.0_66/jre/Welcome.html  \n",
            "  inflating: Fiji.app/java/linux-amd64/jdk1.8.0_66/jre/COPYRIGHT  \n",
            "  inflating: Fiji.app/java/linux-amd64/jdk1.8.0_66/jre/plugin/desktop/sun_java.desktop  \n",
            "  inflating: Fiji.app/java/linux-amd64/jdk1.8.0_66/jre/plugin/desktop/sun_java.png  \n",
            "  inflating: Fiji.app/java/linux-amd64/jdk1.8.0_66/jre/THIRDPARTYLICENSEREADME-JAVAFX.txt  \n",
            "  inflating: Fiji.app/java/linux-amd64/jdk1.8.0_66/jre/README  \n",
            "  inflating: Fiji.app/java/linux-amd64/jdk1.8.0_66/jre/LICENSE  \n",
            "  inflating: Fiji.app/java/linux-amd64/jdk1.8.0_66/jre/man/ja/man1/rmid.1  \n",
            "  inflating: Fiji.app/java/linux-amd64/jdk1.8.0_66/jre/man/ja/man1/javaws.1  \n",
            "  inflating: Fiji.app/java/linux-amd64/jdk1.8.0_66/jre/man/ja/man1/tnameserv.1  \n",
            "  inflating: Fiji.app/java/linux-amd64/jdk1.8.0_66/jre/man/ja/man1/rmiregistry.1  \n",
            "  inflating: Fiji.app/java/linux-amd64/jdk1.8.0_66/jre/man/ja/man1/java.1  \n",
            "  inflating: Fiji.app/java/linux-amd64/jdk1.8.0_66/jre/man/ja/man1/orbd.1  \n",
            "  inflating: Fiji.app/java/linux-amd64/jdk1.8.0_66/jre/man/ja/man1/jjs.1  \n",
            "  inflating: Fiji.app/java/linux-amd64/jdk1.8.0_66/jre/man/ja/man1/servertool.1  \n",
            "  inflating: Fiji.app/java/linux-amd64/jdk1.8.0_66/jre/man/ja/man1/keytool.1  \n",
            "  inflating: Fiji.app/java/linux-amd64/jdk1.8.0_66/jre/man/ja/man1/pack200.1  \n",
            "  inflating: Fiji.app/java/linux-amd64/jdk1.8.0_66/jre/man/ja/man1/policytool.1  \n",
            "  inflating: Fiji.app/java/linux-amd64/jdk1.8.0_66/jre/man/ja/man1/unpack200.1  \n",
            "  inflating: Fiji.app/java/linux-amd64/jdk1.8.0_66/jre/man/ja_JP.UTF-8/man1/rmid.1  \n",
            "  inflating: Fiji.app/java/linux-amd64/jdk1.8.0_66/jre/man/ja_JP.UTF-8/man1/javaws.1  \n",
            "  inflating: Fiji.app/java/linux-amd64/jdk1.8.0_66/jre/man/ja_JP.UTF-8/man1/tnameserv.1  \n",
            "  inflating: Fiji.app/java/linux-amd64/jdk1.8.0_66/jre/man/ja_JP.UTF-8/man1/rmiregistry.1  \n",
            "  inflating: Fiji.app/java/linux-amd64/jdk1.8.0_66/jre/man/ja_JP.UTF-8/man1/java.1  \n",
            "  inflating: Fiji.app/java/linux-amd64/jdk1.8.0_66/jre/man/ja_JP.UTF-8/man1/orbd.1  \n",
            "  inflating: Fiji.app/java/linux-amd64/jdk1.8.0_66/jre/man/ja_JP.UTF-8/man1/jjs.1  \n",
            "  inflating: Fiji.app/java/linux-amd64/jdk1.8.0_66/jre/man/ja_JP.UTF-8/man1/servertool.1  \n",
            "  inflating: Fiji.app/java/linux-amd64/jdk1.8.0_66/jre/man/ja_JP.UTF-8/man1/keytool.1  \n",
            "  inflating: Fiji.app/java/linux-amd64/jdk1.8.0_66/jre/man/ja_JP.UTF-8/man1/pack200.1  \n",
            "  inflating: Fiji.app/java/linux-amd64/jdk1.8.0_66/jre/man/ja_JP.UTF-8/man1/policytool.1  \n",
            "  inflating: Fiji.app/java/linux-amd64/jdk1.8.0_66/jre/man/ja_JP.UTF-8/man1/unpack200.1  \n",
            "  inflating: Fiji.app/java/linux-amd64/jdk1.8.0_66/jre/man/man1/rmid.1  \n",
            "  inflating: Fiji.app/java/linux-amd64/jdk1.8.0_66/jre/man/man1/javaws.1  \n",
            "  inflating: Fiji.app/java/linux-amd64/jdk1.8.0_66/jre/man/man1/tnameserv.1  \n",
            "  inflating: Fiji.app/java/linux-amd64/jdk1.8.0_66/jre/man/man1/rmiregistry.1  \n",
            "  inflating: Fiji.app/java/linux-amd64/jdk1.8.0_66/jre/man/man1/java.1  \n",
            "  inflating: Fiji.app/java/linux-amd64/jdk1.8.0_66/jre/man/man1/orbd.1  \n",
            "  inflating: Fiji.app/java/linux-amd64/jdk1.8.0_66/jre/man/man1/jjs.1  \n",
            "  inflating: Fiji.app/java/linux-amd64/jdk1.8.0_66/jre/man/man1/servertool.1  \n",
            "  inflating: Fiji.app/java/linux-amd64/jdk1.8.0_66/jre/man/man1/keytool.1  \n",
            "  inflating: Fiji.app/java/linux-amd64/jdk1.8.0_66/jre/man/man1/pack200.1  \n",
            "  inflating: Fiji.app/java/linux-amd64/jdk1.8.0_66/jre/man/man1/policytool.1  \n",
            "  inflating: Fiji.app/java/linux-amd64/jdk1.8.0_66/jre/man/man1/unpack200.1  \n",
            "  inflating: Fiji.app/java/linux-amd64/jdk1.8.0_66/jre/release  \n",
            "  inflating: Fiji.app/java/linux-amd64/jdk1.8.0_66/jre/lib/logging.properties  \n",
            "  inflating: Fiji.app/java/linux-amd64/jdk1.8.0_66/jre/lib/psfont.properties.ja  \n",
            "  inflating: Fiji.app/java/linux-amd64/jdk1.8.0_66/jre/lib/cmm/sRGB.pf  \n",
            "  inflating: Fiji.app/java/linux-amd64/jdk1.8.0_66/jre/lib/cmm/LINEAR_RGB.pf  \n",
            "  inflating: Fiji.app/java/linux-amd64/jdk1.8.0_66/jre/lib/cmm/PYCC.pf  \n",
            "  inflating: Fiji.app/java/linux-amd64/jdk1.8.0_66/jre/lib/cmm/GRAY.pf  \n",
            "  inflating: Fiji.app/java/linux-amd64/jdk1.8.0_66/jre/lib/cmm/CIEXYZ.pf  \n",
            "  inflating: Fiji.app/java/linux-amd64/jdk1.8.0_66/jre/lib/deploy/mixcode_s.png  \n",
            "  inflating: Fiji.app/java/linux-amd64/jdk1.8.0_66/jre/lib/deploy/messages_ko.properties  \n",
            "  inflating: Fiji.app/java/linux-amd64/jdk1.8.0_66/jre/lib/deploy/messages_de.properties  \n",
            "  inflating: Fiji.app/java/linux-amd64/jdk1.8.0_66/jre/lib/deploy/messages_zh_HK.properties  \n",
            "  inflating: Fiji.app/java/linux-amd64/jdk1.8.0_66/jre/lib/deploy/MixedCodeMainDialog.ui  \n",
            "  inflating: Fiji.app/java/linux-amd64/jdk1.8.0_66/jre/lib/deploy/splash@2x.gif  \n",
            "  inflating: Fiji.app/java/linux-amd64/jdk1.8.0_66/jre/lib/deploy/java-icon.ico  \n",
            "  inflating: Fiji.app/java/linux-amd64/jdk1.8.0_66/jre/lib/deploy/ffjcext.zip  \n",
            "  inflating: Fiji.app/java/linux-amd64/jdk1.8.0_66/jre/lib/deploy/messages_ja.properties  \n",
            "  inflating: Fiji.app/java/linux-amd64/jdk1.8.0_66/jre/lib/deploy/messages_pt_BR.properties  \n",
            "  inflating: Fiji.app/java/linux-amd64/jdk1.8.0_66/jre/lib/deploy/messages_es.properties  \n",
            "  inflating: Fiji.app/java/linux-amd64/jdk1.8.0_66/jre/lib/deploy/messages_zh_TW.properties  \n",
            "  inflating: Fiji.app/java/linux-amd64/jdk1.8.0_66/jre/lib/deploy/cautionshield.icns  \n",
            "  inflating: Fiji.app/java/linux-amd64/jdk1.8.0_66/jre/lib/deploy/messages.properties  \n",
            "  inflating: Fiji.app/java/linux-amd64/jdk1.8.0_66/jre/lib/deploy/MixedCodeMainDialogJs.ui  \n",
            "  inflating: Fiji.app/java/linux-amd64/jdk1.8.0_66/jre/lib/deploy/splash.gif  \n",
            "  inflating: Fiji.app/java/linux-amd64/jdk1.8.0_66/jre/lib/deploy/messages_fr.properties  \n",
            "  inflating: Fiji.app/java/linux-amd64/jdk1.8.0_66/jre/lib/deploy/messages_zh_CN.properties  \n",
            "  inflating: Fiji.app/java/linux-amd64/jdk1.8.0_66/jre/lib/deploy/messages_sv.properties  \n",
            "  inflating: Fiji.app/java/linux-amd64/jdk1.8.0_66/jre/lib/deploy/messages_it.properties  \n",
            "  inflating: Fiji.app/java/linux-amd64/jdk1.8.0_66/jre/lib/net.properties  \n",
            "  inflating: Fiji.app/java/linux-amd64/jdk1.8.0_66/jre/lib/jfr/default.jfc  \n",
            "  inflating: Fiji.app/java/linux-amd64/jdk1.8.0_66/jre/lib/jfr/profile.jfc  \n",
            "  inflating: Fiji.app/java/linux-amd64/jdk1.8.0_66/jre/lib/hijrah-config-umalqura.properties  \n",
            "  inflating: Fiji.app/java/linux-amd64/jdk1.8.0_66/jre/lib/fontconfig.RedHat.5.bfc  \n",
            "  inflating: Fiji.app/java/linux-amd64/jdk1.8.0_66/jre/lib/fontconfig.RedHat.6.bfc  \n",
            "  inflating: Fiji.app/java/linux-amd64/jdk1.8.0_66/jre/lib/meta-index  \n",
            "  inflating: Fiji.app/java/linux-amd64/jdk1.8.0_66/jre/lib/security/trusted.libraries  \n",
            "  inflating: Fiji.app/java/linux-amd64/jdk1.8.0_66/jre/lib/security/local_policy.jar  \n",
            "  inflating: Fiji.app/java/linux-amd64/jdk1.8.0_66/jre/lib/security/cacerts  \n",
            "  inflating: Fiji.app/java/linux-amd64/jdk1.8.0_66/jre/lib/security/java.policy  \n",
            "  inflating: Fiji.app/java/linux-amd64/jdk1.8.0_66/jre/lib/security/blacklist  \n",
            "  inflating: Fiji.app/java/linux-amd64/jdk1.8.0_66/jre/lib/security/blacklisted.certs  \n",
            "  inflating: Fiji.app/java/linux-amd64/jdk1.8.0_66/jre/lib/security/US_export_policy.jar  \n",
            "  inflating: Fiji.app/java/linux-amd64/jdk1.8.0_66/jre/lib/security/javaws.policy  \n",
            "  inflating: Fiji.app/java/linux-amd64/jdk1.8.0_66/jre/lib/security/java.security  \n",
            "  inflating: Fiji.app/java/linux-amd64/jdk1.8.0_66/jre/lib/fontconfig.SuSE.10.properties.src  \n",
            "  inflating: Fiji.app/java/linux-amd64/jdk1.8.0_66/jre/lib/jexec  \n",
            "  inflating: Fiji.app/java/linux-amd64/jdk1.8.0_66/jre/lib/fontconfig.RedHat.5.properties.src  \n",
            "  inflating: Fiji.app/java/linux-amd64/jdk1.8.0_66/jre/lib/resources.jar  \n",
            "  inflating: Fiji.app/java/linux-amd64/jdk1.8.0_66/jre/lib/jvm.hprof.txt  \n",
            "  inflating: Fiji.app/java/linux-amd64/jdk1.8.0_66/jre/lib/charsets.jar  \n",
            "  inflating: Fiji.app/java/linux-amd64/jdk1.8.0_66/jre/lib/images/cursors/motif_LinkNoDrop32x32.gif  \n",
            "  inflating: Fiji.app/java/linux-amd64/jdk1.8.0_66/jre/lib/images/cursors/cursors.properties  \n",
            "  inflating: Fiji.app/java/linux-amd64/jdk1.8.0_66/jre/lib/images/cursors/motif_CopyNoDrop32x32.gif  \n",
            "  inflating: Fiji.app/java/linux-amd64/jdk1.8.0_66/jre/lib/images/cursors/motif_MoveDrop32x32.gif  \n",
            "  inflating: Fiji.app/java/linux-amd64/jdk1.8.0_66/jre/lib/images/cursors/invalid32x32.gif  \n",
            "  inflating: Fiji.app/java/linux-amd64/jdk1.8.0_66/jre/lib/images/cursors/motif_MoveNoDrop32x32.gif  \n",
            "  inflating: Fiji.app/java/linux-amd64/jdk1.8.0_66/jre/lib/images/cursors/motif_LinkDrop32x32.gif  \n",
            "  inflating: Fiji.app/java/linux-amd64/jdk1.8.0_66/jre/lib/images/cursors/motif_CopyDrop32x32.gif  \n",
            "  inflating: Fiji.app/java/linux-amd64/jdk1.8.0_66/jre/lib/images/icons/sun-java_HighContrast.png  \n",
            "  inflating: Fiji.app/java/linux-amd64/jdk1.8.0_66/jre/lib/images/icons/sun-java.png  \n",
            "  inflating: Fiji.app/java/linux-amd64/jdk1.8.0_66/jre/lib/images/icons/sun-java_LowContrast.png  \n",
            "  inflating: Fiji.app/java/linux-amd64/jdk1.8.0_66/jre/lib/images/icons/sun-java_HighContrastInverse.png  \n",
            "  inflating: Fiji.app/java/linux-amd64/jdk1.8.0_66/jre/lib/fontconfig.SuSE.10.bfc  \n",
            "  inflating: Fiji.app/java/linux-amd64/jdk1.8.0_66/jre/lib/ext/localedata.jar  \n",
            "  inflating: Fiji.app/java/linux-amd64/jdk1.8.0_66/jre/lib/ext/jfxrt.jar  \n",
            "  inflating: Fiji.app/java/linux-amd64/jdk1.8.0_66/jre/lib/ext/sunpkcs11.jar  \n",
            "  inflating: Fiji.app/java/linux-amd64/jdk1.8.0_66/jre/lib/ext/sunec.jar  \n",
            "  inflating: Fiji.app/java/linux-amd64/jdk1.8.0_66/jre/lib/ext/meta-index  \n",
            "  inflating: Fiji.app/java/linux-amd64/jdk1.8.0_66/jre/lib/ext/nashorn.jar  \n",
            "  inflating: Fiji.app/java/linux-amd64/jdk1.8.0_66/jre/lib/ext/dnsns.jar  \n",
            "  inflating: Fiji.app/java/linux-amd64/jdk1.8.0_66/jre/lib/ext/sunjce_provider.jar  \n",
            "  inflating: Fiji.app/java/linux-amd64/jdk1.8.0_66/jre/lib/ext/jaccess.jar  \n",
            "  inflating: Fiji.app/java/linux-amd64/jdk1.8.0_66/jre/lib/ext/cldrdata.jar  \n",
            "  inflating: Fiji.app/java/linux-amd64/jdk1.8.0_66/jre/lib/ext/zipfs.jar  \n",
            "  inflating: Fiji.app/java/linux-amd64/jdk1.8.0_66/jre/lib/fontconfig.bfc  \n",
            "  inflating: Fiji.app/java/linux-amd64/jdk1.8.0_66/jre/lib/javafx.properties  \n",
            "  inflating: Fiji.app/java/linux-amd64/jdk1.8.0_66/jre/lib/fontconfig.RedHat.6.properties.src  \n",
            "  inflating: Fiji.app/java/linux-amd64/jdk1.8.0_66/jre/lib/oblique-fonts/LucidaTypewriterBoldOblique.ttf  \n",
            "  inflating: Fiji.app/java/linux-amd64/jdk1.8.0_66/jre/lib/oblique-fonts/LucidaSansDemiOblique.ttf  \n",
            "  inflating: Fiji.app/java/linux-amd64/jdk1.8.0_66/jre/lib/oblique-fonts/LucidaSansOblique.ttf  \n",
            "  inflating: Fiji.app/java/linux-amd64/jdk1.8.0_66/jre/lib/oblique-fonts/fonts.dir  \n",
            "  inflating: Fiji.app/java/linux-amd64/jdk1.8.0_66/jre/lib/oblique-fonts/LucidaTypewriterOblique.ttf  \n",
            "  inflating: Fiji.app/java/linux-amd64/jdk1.8.0_66/jre/lib/deploy.jar  \n",
            "  inflating: Fiji.app/java/linux-amd64/jdk1.8.0_66/jre/lib/tzdb.dat  \n",
            "  inflating: Fiji.app/java/linux-amd64/jdk1.8.0_66/jre/lib/fontconfig.SuSE.11.bfc  \n",
            "  inflating: Fiji.app/java/linux-amd64/jdk1.8.0_66/jre/lib/management/jmxremote.access  \n",
            "  inflating: Fiji.app/java/linux-amd64/jdk1.8.0_66/jre/lib/management/management.properties  \n",
            "  inflating: Fiji.app/java/linux-amd64/jdk1.8.0_66/jre/lib/management/snmp.acl.template  \n",
            "  inflating: Fiji.app/java/linux-amd64/jdk1.8.0_66/jre/lib/management/jmxremote.password.template  \n",
            "  inflating: Fiji.app/java/linux-amd64/jdk1.8.0_66/jre/lib/jsse.jar  \n",
            "  inflating: Fiji.app/java/linux-amd64/jdk1.8.0_66/jre/lib/classlist  \n",
            "  inflating: Fiji.app/java/linux-amd64/jdk1.8.0_66/jre/lib/fontconfig.SuSE.11.properties.src  \n",
            "  inflating: Fiji.app/java/linux-amd64/jdk1.8.0_66/jre/lib/fonts/LucidaBrightRegular.ttf  \n",
            "  inflating: Fiji.app/java/linux-amd64/jdk1.8.0_66/jre/lib/fonts/LucidaBrightDemiBold.ttf  \n",
            "  inflating: Fiji.app/java/linux-amd64/jdk1.8.0_66/jre/lib/fonts/LucidaBrightDemiItalic.ttf  \n",
            "  inflating: Fiji.app/java/linux-amd64/jdk1.8.0_66/jre/lib/fonts/LucidaTypewriterRegular.ttf  \n",
            "  inflating: Fiji.app/java/linux-amd64/jdk1.8.0_66/jre/lib/fonts/LucidaSansRegular.ttf  \n",
            "  inflating: Fiji.app/java/linux-amd64/jdk1.8.0_66/jre/lib/fonts/LucidaSansDemiBold.ttf  \n",
            "  inflating: Fiji.app/java/linux-amd64/jdk1.8.0_66/jre/lib/fonts/LucidaTypewriterBold.ttf  \n",
            "  inflating: Fiji.app/java/linux-amd64/jdk1.8.0_66/jre/lib/fonts/fonts.dir  \n",
            "  inflating: Fiji.app/java/linux-amd64/jdk1.8.0_66/jre/lib/fonts/LucidaBrightItalic.ttf  \n",
            "  inflating: Fiji.app/java/linux-amd64/jdk1.8.0_66/jre/lib/sound.properties  \n",
            "  inflating: Fiji.app/java/linux-amd64/jdk1.8.0_66/jre/lib/fontconfig.Turbo.bfc  \n",
            "  inflating: Fiji.app/java/linux-amd64/jdk1.8.0_66/jre/lib/plugin.jar  \n",
            "  inflating: Fiji.app/java/linux-amd64/jdk1.8.0_66/jre/lib/desktop/mime/packages/x-java-jnlp-file.xml  \n",
            "  inflating: Fiji.app/java/linux-amd64/jdk1.8.0_66/jre/lib/desktop/mime/packages/x-java-archive.xml  \n",
            "  inflating: Fiji.app/java/linux-amd64/jdk1.8.0_66/jre/lib/desktop/applications/sun-java.desktop  \n",
            "  inflating: Fiji.app/java/linux-amd64/jdk1.8.0_66/jre/lib/desktop/applications/sun_java.desktop  \n",
            "  inflating: Fiji.app/java/linux-amd64/jdk1.8.0_66/jre/lib/desktop/applications/sun-javaws.desktop  \n",
            "  inflating: Fiji.app/java/linux-amd64/jdk1.8.0_66/jre/lib/desktop/icons/hicolor/16x16/mimetypes/gnome-mime-application-x-java-jnlp-file.png  \n",
            "  inflating: Fiji.app/java/linux-amd64/jdk1.8.0_66/jre/lib/desktop/icons/hicolor/16x16/mimetypes/gnome-mime-text-x-java.png  \n",
            "  inflating: Fiji.app/java/linux-amd64/jdk1.8.0_66/jre/lib/desktop/icons/hicolor/16x16/mimetypes/gnome-mime-application-x-java-archive.png  \n",
            "  inflating: Fiji.app/java/linux-amd64/jdk1.8.0_66/jre/lib/desktop/icons/hicolor/16x16/apps/sun-java.png  \n",
            "  inflating: Fiji.app/java/linux-amd64/jdk1.8.0_66/jre/lib/desktop/icons/hicolor/16x16/apps/sun-javaws.png  \n",
            "  inflating: Fiji.app/java/linux-amd64/jdk1.8.0_66/jre/lib/desktop/icons/hicolor/16x16/apps/sun-jcontrol.png  \n",
            "  inflating: Fiji.app/java/linux-amd64/jdk1.8.0_66/jre/lib/desktop/icons/hicolor/48x48/mimetypes/gnome-mime-application-x-java-jnlp-file.png  \n",
            "  inflating: Fiji.app/java/linux-amd64/jdk1.8.0_66/jre/lib/desktop/icons/hicolor/48x48/mimetypes/gnome-mime-text-x-java.png  \n",
            "  inflating: Fiji.app/java/linux-amd64/jdk1.8.0_66/jre/lib/desktop/icons/hicolor/48x48/mimetypes/gnome-mime-application-x-java-archive.png  \n",
            "  inflating: Fiji.app/java/linux-amd64/jdk1.8.0_66/jre/lib/desktop/icons/hicolor/48x48/apps/sun-java.png  \n",
            "  inflating: Fiji.app/java/linux-amd64/jdk1.8.0_66/jre/lib/desktop/icons/hicolor/48x48/apps/sun-javaws.png  \n",
            "  inflating: Fiji.app/java/linux-amd64/jdk1.8.0_66/jre/lib/desktop/icons/hicolor/48x48/apps/sun-jcontrol.png  \n",
            "  inflating: Fiji.app/java/linux-amd64/jdk1.8.0_66/jre/lib/desktop/icons/LowContrast/16x16/mimetypes/gnome-mime-application-x-java-jnlp-file.png  \n",
            "  inflating: Fiji.app/java/linux-amd64/jdk1.8.0_66/jre/lib/desktop/icons/LowContrast/16x16/mimetypes/gnome-mime-text-x-java.png  \n",
            "  inflating: Fiji.app/java/linux-amd64/jdk1.8.0_66/jre/lib/desktop/icons/LowContrast/16x16/mimetypes/gnome-mime-application-x-java-archive.png  \n",
            "  inflating: Fiji.app/java/linux-amd64/jdk1.8.0_66/jre/lib/desktop/icons/LowContrast/16x16/apps/sun-java.png  \n",
            "  inflating: Fiji.app/java/linux-amd64/jdk1.8.0_66/jre/lib/desktop/icons/LowContrast/16x16/apps/sun-javaws.png  \n",
            "  inflating: Fiji.app/java/linux-amd64/jdk1.8.0_66/jre/lib/desktop/icons/LowContrast/16x16/apps/sun-jcontrol.png  \n",
            "  inflating: Fiji.app/java/linux-amd64/jdk1.8.0_66/jre/lib/desktop/icons/LowContrast/48x48/mimetypes/gnome-mime-application-x-java-jnlp-file.png  \n",
            "  inflating: Fiji.app/java/linux-amd64/jdk1.8.0_66/jre/lib/desktop/icons/LowContrast/48x48/mimetypes/gnome-mime-text-x-java.png  \n",
            "  inflating: Fiji.app/java/linux-amd64/jdk1.8.0_66/jre/lib/desktop/icons/LowContrast/48x48/mimetypes/gnome-mime-application-x-java-archive.png  \n",
            "  inflating: Fiji.app/java/linux-amd64/jdk1.8.0_66/jre/lib/desktop/icons/LowContrast/48x48/apps/sun-java.png  \n",
            "  inflating: Fiji.app/java/linux-amd64/jdk1.8.0_66/jre/lib/desktop/icons/LowContrast/48x48/apps/sun-javaws.png  \n",
            "  inflating: Fiji.app/java/linux-amd64/jdk1.8.0_66/jre/lib/desktop/icons/LowContrast/48x48/apps/sun-jcontrol.png  \n",
            "  inflating: Fiji.app/java/linux-amd64/jdk1.8.0_66/jre/lib/desktop/icons/HighContrastInverse/16x16/mimetypes/gnome-mime-application-x-java-jnlp-file.png  \n",
            "  inflating: Fiji.app/java/linux-amd64/jdk1.8.0_66/jre/lib/desktop/icons/HighContrastInverse/16x16/mimetypes/gnome-mime-text-x-java.png  \n",
            "  inflating: Fiji.app/java/linux-amd64/jdk1.8.0_66/jre/lib/desktop/icons/HighContrastInverse/16x16/mimetypes/gnome-mime-application-x-java-archive.png  \n",
            "  inflating: Fiji.app/java/linux-amd64/jdk1.8.0_66/jre/lib/desktop/icons/HighContrastInverse/16x16/apps/sun-java.png  \n",
            "  inflating: Fiji.app/java/linux-amd64/jdk1.8.0_66/jre/lib/desktop/icons/HighContrastInverse/16x16/apps/sun-javaws.png  \n",
            "  inflating: Fiji.app/java/linux-amd64/jdk1.8.0_66/jre/lib/desktop/icons/HighContrastInverse/16x16/apps/sun-jcontrol.png  \n",
            "  inflating: Fiji.app/java/linux-amd64/jdk1.8.0_66/jre/lib/desktop/icons/HighContrastInverse/48x48/mimetypes/gnome-mime-application-x-java-jnlp-file.png  \n",
            "  inflating: Fiji.app/java/linux-amd64/jdk1.8.0_66/jre/lib/desktop/icons/HighContrastInverse/48x48/mimetypes/gnome-mime-text-x-java.png  \n",
            "  inflating: Fiji.app/java/linux-amd64/jdk1.8.0_66/jre/lib/desktop/icons/HighContrastInverse/48x48/mimetypes/gnome-mime-application-x-java-archive.png  \n",
            "  inflating: Fiji.app/java/linux-amd64/jdk1.8.0_66/jre/lib/desktop/icons/HighContrastInverse/48x48/apps/sun-java.png  \n",
            "  inflating: Fiji.app/java/linux-amd64/jdk1.8.0_66/jre/lib/desktop/icons/HighContrastInverse/48x48/apps/sun-javaws.png  \n",
            "  inflating: Fiji.app/java/linux-amd64/jdk1.8.0_66/jre/lib/desktop/icons/HighContrastInverse/48x48/apps/sun-jcontrol.png  \n",
            "  inflating: Fiji.app/java/linux-amd64/jdk1.8.0_66/jre/lib/desktop/icons/HighContrast/16x16/mimetypes/gnome-mime-application-x-java-jnlp-file.png  \n",
            "  inflating: Fiji.app/java/linux-amd64/jdk1.8.0_66/jre/lib/desktop/icons/HighContrast/16x16/mimetypes/gnome-mime-text-x-java.png  \n",
            "  inflating: Fiji.app/java/linux-amd64/jdk1.8.0_66/jre/lib/desktop/icons/HighContrast/16x16/mimetypes/gnome-mime-application-x-java-archive.png  \n",
            "  inflating: Fiji.app/java/linux-amd64/jdk1.8.0_66/jre/lib/desktop/icons/HighContrast/16x16/apps/sun-java.png  \n",
            "  inflating: Fiji.app/java/linux-amd64/jdk1.8.0_66/jre/lib/desktop/icons/HighContrast/16x16/apps/sun-javaws.png  \n",
            "  inflating: Fiji.app/java/linux-amd64/jdk1.8.0_66/jre/lib/desktop/icons/HighContrast/16x16/apps/sun-jcontrol.png  \n",
            "  inflating: Fiji.app/java/linux-amd64/jdk1.8.0_66/jre/lib/desktop/icons/HighContrast/48x48/mimetypes/gnome-mime-application-x-java-jnlp-file.png  \n",
            "  inflating: Fiji.app/java/linux-amd64/jdk1.8.0_66/jre/lib/desktop/icons/HighContrast/48x48/mimetypes/gnome-mime-text-x-java.png  \n",
            "  inflating: Fiji.app/java/linux-amd64/jdk1.8.0_66/jre/lib/desktop/icons/HighContrast/48x48/mimetypes/gnome-mime-application-x-java-archive.png  \n",
            "  inflating: Fiji.app/java/linux-amd64/jdk1.8.0_66/jre/lib/desktop/icons/HighContrast/48x48/apps/sun-java.png  \n",
            "  inflating: Fiji.app/java/linux-amd64/jdk1.8.0_66/jre/lib/desktop/icons/HighContrast/48x48/apps/sun-javaws.png  \n",
            "  inflating: Fiji.app/java/linux-amd64/jdk1.8.0_66/jre/lib/desktop/icons/HighContrast/48x48/apps/sun-jcontrol.png  \n",
            "  inflating: Fiji.app/java/linux-amd64/jdk1.8.0_66/jre/lib/amd64/liblcms.so  \n",
            "  inflating: Fiji.app/java/linux-amd64/jdk1.8.0_66/jre/lib/amd64/libjsoundalsa.so  \n",
            "  inflating: Fiji.app/java/linux-amd64/jdk1.8.0_66/jre/lib/amd64/libmlib_image.so  \n",
            "  inflating: Fiji.app/java/linux-amd64/jdk1.8.0_66/jre/lib/amd64/libawt_headless.so  \n",
            "  inflating: Fiji.app/java/linux-amd64/jdk1.8.0_66/jre/lib/amd64/libjava.so  \n",
            "  inflating: Fiji.app/java/linux-amd64/jdk1.8.0_66/jre/lib/amd64/libprism_es2.so  \n",
            "  inflating: Fiji.app/java/linux-amd64/jdk1.8.0_66/jre/lib/amd64/libzip.so  \n",
            "  inflating: Fiji.app/java/linux-amd64/jdk1.8.0_66/jre/lib/amd64/libnpt.so  \n",
            "  inflating: Fiji.app/java/linux-amd64/jdk1.8.0_66/jre/lib/amd64/libavplugin-54.so  \n",
            "  inflating: Fiji.app/java/linux-amd64/jdk1.8.0_66/jre/lib/amd64/libfxplugins.so  \n",
            "  inflating: Fiji.app/java/linux-amd64/jdk1.8.0_66/jre/lib/amd64/libdcpr.so  \n",
            "  inflating: Fiji.app/java/linux-amd64/jdk1.8.0_66/jre/lib/amd64/libbci.so  \n",
            "  inflating: Fiji.app/java/linux-amd64/jdk1.8.0_66/jre/lib/amd64/libjfxmedia.so  \n",
            "  inflating: Fiji.app/java/linux-amd64/jdk1.8.0_66/jre/lib/amd64/libprism_common.so  \n",
            "  inflating: Fiji.app/java/linux-amd64/jdk1.8.0_66/jre/lib/amd64/libjsdt.so  \n",
            "  inflating: Fiji.app/java/linux-amd64/jdk1.8.0_66/jre/lib/amd64/libjavafx_font.so  \n",
            "  inflating: Fiji.app/java/linux-amd64/jdk1.8.0_66/jre/lib/amd64/libjavafx_font_pango.so  \n",
            "  inflating: Fiji.app/java/linux-amd64/jdk1.8.0_66/jre/lib/amd64/libsunec.so  \n",
            "  inflating: Fiji.app/java/linux-amd64/jdk1.8.0_66/jre/lib/amd64/jvm.cfg  \n",
            "  inflating: Fiji.app/java/linux-amd64/jdk1.8.0_66/jre/lib/amd64/libresource.so  \n",
            "  inflating: Fiji.app/java/linux-amd64/jdk1.8.0_66/jre/lib/amd64/libdeploy.so  \n",
            "  inflating: Fiji.app/java/linux-amd64/jdk1.8.0_66/jre/lib/amd64/libhprof.so  \n",
            "  inflating: Fiji.app/java/linux-amd64/jdk1.8.0_66/jre/lib/amd64/libavplugin-53.so  \n",
            "  inflating: Fiji.app/java/linux-amd64/jdk1.8.0_66/jre/lib/amd64/libt2k.so  \n",
            "  inflating: Fiji.app/java/linux-amd64/jdk1.8.0_66/jre/lib/amd64/libjavafx_font_t2k.so  \n",
            "  inflating: Fiji.app/java/linux-amd64/jdk1.8.0_66/jre/lib/amd64/libkcms.so  \n",
            "  inflating: Fiji.app/java/linux-amd64/jdk1.8.0_66/jre/lib/amd64/libverify.so  \n",
            "  inflating: Fiji.app/java/linux-amd64/jdk1.8.0_66/jre/lib/amd64/libgstreamer-lite.so  \n",
            "  inflating: Fiji.app/java/linux-amd64/jdk1.8.0_66/jre/lib/amd64/libj2pkcs11.so  \n",
            "  inflating: Fiji.app/java/linux-amd64/jdk1.8.0_66/jre/lib/amd64/libglass.so  \n",
            "  inflating: Fiji.app/java/linux-amd64/jdk1.8.0_66/jre/lib/amd64/libprism_sw.so  \n",
            "  inflating: Fiji.app/java/linux-amd64/jdk1.8.0_66/jre/lib/amd64/libdt_socket.so  \n",
            "  inflating: Fiji.app/java/linux-amd64/jdk1.8.0_66/jre/lib/amd64/server/Xusage.txt  \n",
            "  inflating: Fiji.app/java/linux-amd64/jdk1.8.0_66/jre/lib/amd64/server/libjvm.so  \n",
            "  inflating: Fiji.app/java/linux-amd64/jdk1.8.0_66/jre/lib/amd64/server/libjsig.so  \n",
            "  inflating: Fiji.app/java/linux-amd64/jdk1.8.0_66/jre/lib/amd64/libunpack.so  \n",
            "  inflating: Fiji.app/java/linux-amd64/jdk1.8.0_66/jre/lib/amd64/libjavafx_font_freetype.so  \n",
            "  inflating: Fiji.app/java/linux-amd64/jdk1.8.0_66/jre/lib/amd64/libjawt.so  \n",
            "  inflating: Fiji.app/java/linux-amd64/jdk1.8.0_66/jre/lib/amd64/libjava_crw_demo.so  \n",
            "  inflating: Fiji.app/java/linux-amd64/jdk1.8.0_66/jre/lib/amd64/libjsound.so  \n",
            "  inflating: Fiji.app/java/linux-amd64/jdk1.8.0_66/jre/lib/amd64/libsctp.so  \n",
            "  inflating: Fiji.app/java/linux-amd64/jdk1.8.0_66/jre/lib/amd64/libjsig.so  \n",
            "  inflating: Fiji.app/java/linux-amd64/jdk1.8.0_66/jre/lib/amd64/libawt.so  \n",
            "  inflating: Fiji.app/java/linux-amd64/jdk1.8.0_66/jre/lib/amd64/libdecora_sse.so  \n",
            "  inflating: Fiji.app/java/linux-amd64/jdk1.8.0_66/jre/lib/amd64/libjdwp.so  \n",
            "  inflating: Fiji.app/java/linux-amd64/jdk1.8.0_66/jre/lib/amd64/libfontmanager.so  \n",
            "  inflating: Fiji.app/java/linux-amd64/jdk1.8.0_66/jre/lib/amd64/libnpjp2.so  \n",
            "  inflating: Fiji.app/java/linux-amd64/jdk1.8.0_66/jre/lib/amd64/libjpeg.so  \n",
            "  inflating: Fiji.app/java/linux-amd64/jdk1.8.0_66/jre/lib/amd64/libnio.so  \n",
            "  inflating: Fiji.app/java/linux-amd64/jdk1.8.0_66/jre/lib/amd64/libmanagement.so  \n",
            "  inflating: Fiji.app/java/linux-amd64/jdk1.8.0_66/jre/lib/amd64/libnet.so  \n",
            "  inflating: Fiji.app/java/linux-amd64/jdk1.8.0_66/jre/lib/amd64/libjaas_unix.so  \n",
            "  inflating: Fiji.app/java/linux-amd64/jdk1.8.0_66/jre/lib/amd64/libjfxwebkit.so  \n",
            "  inflating: Fiji.app/java/linux-amd64/jdk1.8.0_66/jre/lib/amd64/libj2pcsc.so  \n",
            "  inflating: Fiji.app/java/linux-amd64/jdk1.8.0_66/jre/lib/amd64/libinstrument.so  \n",
            "  inflating: Fiji.app/java/linux-amd64/jdk1.8.0_66/jre/lib/amd64/libsplashscreen.so  \n",
            "  inflating: Fiji.app/java/linux-amd64/jdk1.8.0_66/jre/lib/amd64/jli/libjli.so  \n",
            "  inflating: Fiji.app/java/linux-amd64/jdk1.8.0_66/jre/lib/amd64/libjavafx_iio.so  \n",
            "  inflating: Fiji.app/java/linux-amd64/jdk1.8.0_66/jre/lib/amd64/libj2gss.so  \n",
            "  inflating: Fiji.app/java/linux-amd64/jdk1.8.0_66/jre/lib/amd64/libjfr.so  \n",
            "  inflating: Fiji.app/java/linux-amd64/jdk1.8.0_66/jre/lib/amd64/libawt_xawt.so  \n",
            "  inflating: Fiji.app/java/linux-amd64/jdk1.8.0_66/jre/lib/flavormap.properties  \n",
            "  inflating: Fiji.app/java/linux-amd64/jdk1.8.0_66/jre/lib/calendars.properties  \n",
            "  inflating: Fiji.app/java/linux-amd64/jdk1.8.0_66/jre/lib/fontconfig.Turbo.properties.src  \n",
            "  inflating: Fiji.app/java/linux-amd64/jdk1.8.0_66/jre/lib/management-agent.jar  \n",
            "  inflating: Fiji.app/java/linux-amd64/jdk1.8.0_66/jre/lib/locale/ja/LC_MESSAGES/sunw_java_plugin.mo  \n",
            "  inflating: Fiji.app/java/linux-amd64/jdk1.8.0_66/jre/lib/locale/ko.UTF-8/LC_MESSAGES/sunw_java_plugin.mo  \n",
            "  inflating: Fiji.app/java/linux-amd64/jdk1.8.0_66/jre/lib/locale/de/LC_MESSAGES/sunw_java_plugin.mo  \n",
            "  inflating: Fiji.app/java/linux-amd64/jdk1.8.0_66/jre/lib/locale/sv/LC_MESSAGES/sunw_java_plugin.mo  \n",
            "  inflating: Fiji.app/java/linux-amd64/jdk1.8.0_66/jre/lib/locale/zh_TW.BIG5/LC_MESSAGES/sunw_java_plugin.mo  \n",
            "  inflating: Fiji.app/java/linux-amd64/jdk1.8.0_66/jre/lib/locale/zh.GBK/LC_MESSAGES/sunw_java_plugin.mo  \n",
            "  inflating: Fiji.app/java/linux-amd64/jdk1.8.0_66/jre/lib/locale/fr/LC_MESSAGES/sunw_java_plugin.mo  \n",
            "  inflating: Fiji.app/java/linux-amd64/jdk1.8.0_66/jre/lib/locale/it/LC_MESSAGES/sunw_java_plugin.mo  \n",
            "  inflating: Fiji.app/java/linux-amd64/jdk1.8.0_66/jre/lib/locale/zh_HK.BIG5HK/LC_MESSAGES/sunw_java_plugin.mo  \n",
            "  inflating: Fiji.app/java/linux-amd64/jdk1.8.0_66/jre/lib/locale/es/LC_MESSAGES/sunw_java_plugin.mo  \n",
            "  inflating: Fiji.app/java/linux-amd64/jdk1.8.0_66/jre/lib/locale/zh/LC_MESSAGES/sunw_java_plugin.mo  \n",
            "  inflating: Fiji.app/java/linux-amd64/jdk1.8.0_66/jre/lib/locale/ko/LC_MESSAGES/sunw_java_plugin.mo  \n",
            "  inflating: Fiji.app/java/linux-amd64/jdk1.8.0_66/jre/lib/locale/zh_TW/LC_MESSAGES/sunw_java_plugin.mo  \n",
            "  inflating: Fiji.app/java/linux-amd64/jdk1.8.0_66/jre/lib/locale/pt_BR/LC_MESSAGES/sunw_java_plugin.mo  \n",
            "  inflating: Fiji.app/java/linux-amd64/jdk1.8.0_66/jre/lib/currency.data  \n",
            "  inflating: Fiji.app/java/linux-amd64/jdk1.8.0_66/jre/lib/fontconfig.properties.src  \n",
            "  inflating: Fiji.app/java/linux-amd64/jdk1.8.0_66/jre/lib/jce.jar  \n",
            "  inflating: Fiji.app/java/linux-amd64/jdk1.8.0_66/jre/lib/rt.jar  \n",
            "  inflating: Fiji.app/java/linux-amd64/jdk1.8.0_66/jre/lib/psfontj2d.properties  \n",
            "  inflating: Fiji.app/java/linux-amd64/jdk1.8.0_66/jre/lib/content-types.properties  \n",
            "  inflating: Fiji.app/java/linux-amd64/jdk1.8.0_66/jre/lib/jfr.jar  \n",
            "  inflating: Fiji.app/java/linux-amd64/jdk1.8.0_66/jre/lib/javaws.jar  \n",
            "  inflating: Fiji.app/java/linux-amd64/jdk1.8.0_66/jre/lib/jfxswt.jar  \n"
          ],
          "name": "stdout"
        }
      ]
    },
    {
      "cell_type": "code",
      "metadata": {
        "id": "GZbVnixSd1YB"
      },
      "source": [
        "#!pip install SimpleITK"
      ],
      "execution_count": 21,
      "outputs": []
    },
    {
      "cell_type": "code",
      "metadata": {
        "id": "e9DKfO74lHGd"
      },
      "source": [
        "#!git clone https://github.com/InsightSoftwareConsortium/SimpleITK-Notebooks.git"
      ],
      "execution_count": 22,
      "outputs": []
    },
    {
      "cell_type": "code",
      "metadata": {
        "colab": {
          "base_uri": "https://localhost:8080/"
        },
        "id": "orkwOiFIeBmV",
        "outputId": "9ff432d1-455e-46e7-fb47-3105d7111d54"
      },
      "source": [
        "pip install ipywidgets"
      ],
      "execution_count": 23,
      "outputs": [
        {
          "output_type": "stream",
          "text": [
            "Requirement already satisfied: ipywidgets in ./lib/python3.7/dist-packages (7.6.3)\n",
            "Requirement already satisfied: jupyterlab-widgets>=1.0.0; python_version >= \"3.6\" in ./lib/python3.7/dist-packages (from ipywidgets) (1.0.0)\n",
            "Requirement already satisfied: nbformat>=4.2.0 in ./lib/python3.7/dist-packages (from ipywidgets) (5.1.2)\n",
            "Requirement already satisfied: ipython>=4.0.0; python_version >= \"3.3\" in ./lib/python3.7/dist-packages (from ipywidgets) (5.5.0)\n",
            "Requirement already satisfied: ipykernel>=4.5.1 in ./lib/python3.7/dist-packages (from ipywidgets) (4.10.1)\n",
            "Requirement already satisfied: widgetsnbextension~=3.5.0 in ./lib/python3.7/dist-packages (from ipywidgets) (3.5.1)\n",
            "Requirement already satisfied: traitlets>=4.3.1 in ./lib/python3.7/dist-packages (from ipywidgets) (5.0.5)\n",
            "Requirement already satisfied: jsonschema!=2.5.0,>=2.4 in ./lib/python3.7/dist-packages (from nbformat>=4.2.0->ipywidgets) (2.6.0)\n",
            "Requirement already satisfied: ipython-genutils in ./lib/python3.7/dist-packages (from nbformat>=4.2.0->ipywidgets) (0.2.0)\n",
            "Requirement already satisfied: jupyter-core in ./lib/python3.7/dist-packages (from nbformat>=4.2.0->ipywidgets) (4.7.1)\n",
            "Requirement already satisfied: decorator in ./lib/python3.7/dist-packages (from ipython>=4.0.0; python_version >= \"3.3\"->ipywidgets) (4.4.2)\n",
            "Requirement already satisfied: pickleshare in ./lib/python3.7/dist-packages (from ipython>=4.0.0; python_version >= \"3.3\"->ipywidgets) (0.7.5)\n",
            "Requirement already satisfied: pexpect; sys_platform != \"win32\" in ./lib/python3.7/dist-packages (from ipython>=4.0.0; python_version >= \"3.3\"->ipywidgets) (4.8.0)\n",
            "Requirement already satisfied: prompt-toolkit<2.0.0,>=1.0.4 in ./lib/python3.7/dist-packages (from ipython>=4.0.0; python_version >= \"3.3\"->ipywidgets) (1.0.18)\n",
            "Requirement already satisfied: pygments in ./lib/python3.7/dist-packages (from ipython>=4.0.0; python_version >= \"3.3\"->ipywidgets) (2.6.1)\n",
            "Requirement already satisfied: simplegeneric>0.8 in ./lib/python3.7/dist-packages (from ipython>=4.0.0; python_version >= \"3.3\"->ipywidgets) (0.8.1)\n",
            "Requirement already satisfied: setuptools>=18.5 in ./lib/python3.7/dist-packages (from ipython>=4.0.0; python_version >= \"3.3\"->ipywidgets) (53.0.0)\n",
            "Requirement already satisfied: jupyter-client in ./lib/python3.7/dist-packages (from ipykernel>=4.5.1->ipywidgets) (5.3.5)\n",
            "Requirement already satisfied: tornado>=4.0 in ./lib/python3.7/dist-packages (from ipykernel>=4.5.1->ipywidgets) (5.1.1)\n",
            "Requirement already satisfied: notebook>=4.4.1 in ./lib/python3.7/dist-packages (from widgetsnbextension~=3.5.0->ipywidgets) (5.3.1)\n",
            "Requirement already satisfied: ptyprocess>=0.5 in ./lib/python3.7/dist-packages (from pexpect; sys_platform != \"win32\"->ipython>=4.0.0; python_version >= \"3.3\"->ipywidgets) (0.7.0)\n",
            "Requirement already satisfied: wcwidth in ./lib/python3.7/dist-packages (from prompt-toolkit<2.0.0,>=1.0.4->ipython>=4.0.0; python_version >= \"3.3\"->ipywidgets) (0.2.5)\n",
            "Requirement already satisfied: six>=1.9.0 in ./lib/python3.7/dist-packages (from prompt-toolkit<2.0.0,>=1.0.4->ipython>=4.0.0; python_version >= \"3.3\"->ipywidgets) (1.15.0)\n",
            "Requirement already satisfied: python-dateutil>=2.1 in ./lib/python3.7/dist-packages (from jupyter-client->ipykernel>=4.5.1->ipywidgets) (2.8.1)\n",
            "Requirement already satisfied: pyzmq>=13 in ./lib/python3.7/dist-packages (from jupyter-client->ipykernel>=4.5.1->ipywidgets) (22.0.3)\n",
            "Requirement already satisfied: terminado>=0.8.1 in ./lib/python3.7/dist-packages (from notebook>=4.4.1->widgetsnbextension~=3.5.0->ipywidgets) (0.9.2)\n",
            "Requirement already satisfied: Send2Trash in ./lib/python3.7/dist-packages (from notebook>=4.4.1->widgetsnbextension~=3.5.0->ipywidgets) (1.5.0)\n",
            "Requirement already satisfied: jinja2 in ./lib/python3.7/dist-packages (from notebook>=4.4.1->widgetsnbextension~=3.5.0->ipywidgets) (2.11.3)\n",
            "Requirement already satisfied: nbconvert in ./lib/python3.7/dist-packages (from notebook>=4.4.1->widgetsnbextension~=3.5.0->ipywidgets) (5.6.1)\n",
            "Requirement already satisfied: MarkupSafe>=0.23 in ./lib/python3.7/dist-packages (from jinja2->notebook>=4.4.1->widgetsnbextension~=3.5.0->ipywidgets) (1.1.1)\n",
            "Requirement already satisfied: defusedxml in ./lib/python3.7/dist-packages (from nbconvert->notebook>=4.4.1->widgetsnbextension~=3.5.0->ipywidgets) (0.6.0)\n",
            "Requirement already satisfied: testpath in ./lib/python3.7/dist-packages (from nbconvert->notebook>=4.4.1->widgetsnbextension~=3.5.0->ipywidgets) (0.4.4)\n",
            "Requirement already satisfied: bleach in ./lib/python3.7/dist-packages (from nbconvert->notebook>=4.4.1->widgetsnbextension~=3.5.0->ipywidgets) (3.3.0)\n",
            "Requirement already satisfied: entrypoints>=0.2.2 in ./lib/python3.7/dist-packages (from nbconvert->notebook>=4.4.1->widgetsnbextension~=3.5.0->ipywidgets) (0.3)\n",
            "Requirement already satisfied: mistune<2,>=0.8.1 in ./lib/python3.7/dist-packages (from nbconvert->notebook>=4.4.1->widgetsnbextension~=3.5.0->ipywidgets) (0.8.4)\n",
            "Requirement already satisfied: pandocfilters>=1.4.1 in ./lib/python3.7/dist-packages (from nbconvert->notebook>=4.4.1->widgetsnbextension~=3.5.0->ipywidgets) (1.4.3)\n",
            "Requirement already satisfied: packaging in ./lib/python3.7/dist-packages (from bleach->nbconvert->notebook>=4.4.1->widgetsnbextension~=3.5.0->ipywidgets) (20.9)\n",
            "Requirement already satisfied: webencodings in ./lib/python3.7/dist-packages (from bleach->nbconvert->notebook>=4.4.1->widgetsnbextension~=3.5.0->ipywidgets) (0.5.1)\n",
            "Requirement already satisfied: pyparsing>=2.0.2 in ./lib/python3.7/dist-packages (from packaging->bleach->nbconvert->notebook>=4.4.1->widgetsnbextension~=3.5.0->ipywidgets) (2.4.7)\n"
          ],
          "name": "stdout"
        }
      ]
    },
    {
      "cell_type": "code",
      "metadata": {
        "colab": {
          "base_uri": "https://localhost:8080/",
          "height": 84,
          "referenced_widgets": [
            "49c66c58fe1b412ba312e8fd856430ca",
            "38586b07de3745ceb74d9926ede7e762",
            "27b697c0385843e782f3d5bd250f9972",
            "bd630a2ed40146b99c37b8d04ac67c43",
            "1f944eca73784e6b9652d2d26626c35d",
            "2ab59bb28a154508bddc8c5849d92e64",
            "d42710ba2be847b9867fcc869c641d8a"
          ]
        },
        "id": "RgF36aN8eE2J",
        "outputId": "a45c5097-fc7c-4612-8525-1aa62f662e70"
      },
      "source": [
        "# this will allow the notebook to reload/refresh automatically within the runtime\r\n",
        "%reload_ext autoreload\r\n",
        "%autoreload 2\r\n",
        "\r\n",
        "from ipywidgets import interact\r\n",
        "\r\n",
        "def f(x):\r\n",
        "  return x\r\n",
        "\r\n",
        "interact(f, x=10)"
      ],
      "execution_count": 24,
      "outputs": [
        {
          "output_type": "display_data",
          "data": {
            "application/vnd.jupyter.widget-view+json": {
              "model_id": "49c66c58fe1b412ba312e8fd856430ca",
              "version_minor": 0,
              "version_major": 2
            },
            "text/plain": [
              "interactive(children=(IntSlider(value=10, description='x', max=30, min=-10), Output()), _dom_classes=('widget-…"
            ]
          },
          "metadata": {
            "tags": []
          }
        },
        {
          "output_type": "execute_result",
          "data": {
            "text/plain": [
              "<function __main__.f>"
            ]
          },
          "metadata": {
            "tags": []
          },
          "execution_count": 24
        }
      ]
    },
    {
      "cell_type": "code",
      "metadata": {
        "id": "zEO9gF3wttp_"
      },
      "source": [
        "#pip install itk"
      ],
      "execution_count": 25,
      "outputs": []
    },
    {
      "cell_type": "code",
      "metadata": {
        "colab": {
          "base_uri": "https://localhost:8080/"
        },
        "id": "HaFNVhdxrzBz",
        "outputId": "a84e1ad3-ab58-4689-cb02-96d1d02a8873"
      },
      "source": [
        "cd '/gdrive/MyDrive/SimpleITK-Notebooks/Python/'"
      ],
      "execution_count": 26,
      "outputs": [
        {
          "output_type": "stream",
          "text": [
            "/gdrive/MyDrive/SimpleITK-Notebooks/Python\n"
          ],
          "name": "stdout"
        }
      ]
    },
    {
      "cell_type": "code",
      "metadata": {
        "id": "7CZ95Naer7zA"
      },
      "source": [
        "!python '/gdrive/MyDrive/SimpleITK-Notebooks/Python/update_path_to_download_script.py'"
      ],
      "execution_count": 27,
      "outputs": []
    },
    {
      "cell_type": "code",
      "metadata": {
        "colab": {
          "base_uri": "https://localhost:8080/"
        },
        "id": "6uxmcL-rthqA",
        "outputId": "2508557a-4a43-4f24-ccbd-221578ea719f"
      },
      "source": [
        "import os\r\n",
        "os.environ['PYTHONPATH'] += \":/content/gdrive/My Drive/Fiji.app\"\r\n",
        "! echo $PYTHONPATH\r\n",
        "os.environ['PATH'] += \":/content/gdrive/My Drive/Fiji.app\"\r\n",
        "! echo $PATH"
      ],
      "execution_count": 28,
      "outputs": [
        {
          "output_type": "stream",
          "text": [
            "/env/python:/content/gdrive/My Drive/Fiji.app\n",
            "/usr/local/nvidia/bin:/usr/local/cuda/bin:/usr/local/sbin:/usr/local/bin:/usr/sbin:/usr/bin:/sbin:/bin:/tools/node/bin:/tools/google-cloud-sdk/bin:/opt/bin:/content/gdrive/My Drive/Fiji.app:/content/gdrive/My Drive/Fiji.app\n"
          ],
          "name": "stdout"
        }
      ]
    },
    {
      "cell_type": "code",
      "metadata": {
        "id": "1SwkFZlBqJfP"
      },
      "source": [
        "import numpy as np\r\n",
        "import os\r\n",
        "from ipywidgets import interact, fixed\r\n",
        "\r\n",
        "%matplotlib inline\r\n",
        "import matplotlib.pyplot as plt\r\n",
        "\r\n",
        "from downloaddata import fetch_data as fdata\r\n",
        "\r\n",
        "OUTPUT_DIR = 'output'\r\n",
        "\r\n",
        "image_viewer = sitk.ImageViewer()"
      ],
      "execution_count": 29,
      "outputs": []
    },
    {
      "cell_type": "code",
      "metadata": {
        "colab": {
          "base_uri": "https://localhost:8080/"
        },
        "id": "nCJGlMFdqOFE",
        "outputId": "fd29605d-760c-450b-ad6d-0ea17c52b3b3"
      },
      "source": [
        "print(image_viewer)"
      ],
      "execution_count": 30,
      "outputs": [
        {
          "output_type": "stream",
          "text": [
            "itk::simple::ImageViewer\n",
            "  Title: \n",
            "  Command: %a -eval 'open(\"%f\"); rename(\"%t\");'\n",
            "  Application: /usr/local/Fiji.app/ImageJ-linux64\n",
            "  Default Application: /usr/local/Fiji.app/ImageJ-linux64\n",
            "  File Extension: .mha\n",
            "  Default File Extension: .mha\n",
            "  Search Path: [ ./, /root/bin/, /opt/, /usr/local/ ]\n",
            "  Executable Names: [ Fiji.app/ImageJ-linux64, Fiji.app/ImageJ-linux32 ]\n",
            "  Debug Flag: 0\n",
            "\n"
          ],
          "name": "stdout"
        }
      ]
    },
    {
      "cell_type": "code",
      "metadata": {
        "colab": {
          "base_uri": "https://localhost:8080/"
        },
        "id": "7_SNqv-kwyrU",
        "outputId": "8e28bb84-77d0-47fa-802f-f08ee83ec21e"
      },
      "source": [
        "%ls /usr/local/Fiji.app/ImageJ-linux64"
      ],
      "execution_count": 31,
      "outputs": [
        {
          "output_type": "stream",
          "text": [
            "\u001b[0m\u001b[01;32m/usr/local/Fiji.app/ImageJ-linux64\u001b[0m*\n"
          ],
          "name": "stdout"
        }
      ]
    },
    {
      "cell_type": "code",
      "metadata": {
        "id": "qeyk9_cUf9d3"
      },
      "source": [
        "#!python '/gdrive/MyDrive/SimpleITK-Notebooks/Python/update_path_to_download_script.py'"
      ],
      "execution_count": 32,
      "outputs": []
    },
    {
      "cell_type": "code",
      "metadata": {
        "colab": {
          "base_uri": "https://localhost:8080/"
        },
        "id": "w2GNa--GgkUZ",
        "outputId": "b4e70bbb-53d6-44c3-a257-850a85736524"
      },
      "source": [
        "cd '/gdrive/MyDrive/SimpleITK-Notebooks/Python/'"
      ],
      "execution_count": 33,
      "outputs": [
        {
          "output_type": "stream",
          "text": [
            "/gdrive/MyDrive/SimpleITK-Notebooks/Python\n"
          ],
          "name": "stdout"
        }
      ]
    },
    {
      "cell_type": "code",
      "metadata": {
        "colab": {
          "base_uri": "https://localhost:8080/"
        },
        "id": "z15LpuD9fh-u",
        "outputId": "6ba79899-6603-423b-d951-dfc0a3647c74"
      },
      "source": [
        "import SimpleITK as sitk\r\n",
        "\r\n",
        "%run update_path_to_download_script\r\n",
        "from downloaddata import fetch_data, fetch_data_all\r\n",
        "\r\n",
        "from ipywidgets import interact\r\n",
        "\r\n",
        "print(sitk.Version())"
      ],
      "execution_count": 34,
      "outputs": [
        {
          "output_type": "stream",
          "text": [
            "SimpleITK Version: 2.0.2 (ITK 5.1)\n",
            "Compiled: Dec  1 2020 22:01:03\n",
            "\n"
          ],
          "name": "stdout"
        }
      ]
    },
    {
      "cell_type": "code",
      "metadata": {
        "colab": {
          "base_uri": "https://localhost:8080/"
        },
        "id": "Sjh10OyWhXG4",
        "outputId": "7a95a578-111b-4898-c180-3d93df91c9e7"
      },
      "source": [
        "%cd '/gdrive/MyDrive/'\r\n",
        "%ls"
      ],
      "execution_count": 35,
      "outputs": [
        {
          "output_type": "stream",
          "text": [
            "/gdrive/MyDrive\n",
            "\u001b[0m\u001b[01;34m'Colab Notebooks'\u001b[0m/                      \u001b[01;34mSimpleITK_ISBI2020_TUTORIAL\u001b[0m/\n",
            " \u001b[01;34mFiji.app\u001b[0m/                              SimpleITK.jpg\n",
            " fiji-linux64-20170530.zip              \u001b[01;34mSimpleITK-Notebooks\u001b[0m/\n",
            " \u001b[01;34mMyNiftyRec\u001b[0m/                            unnamed.png\n",
            " \u001b[01;34mMyTomoLab\u001b[0m/                            'Untitled project.gscript'\n",
            " pyjnius-1.2.0-py37h90b5fae_0.tar.bz2\n"
          ],
          "name": "stdout"
        }
      ]
    },
    {
      "cell_type": "code",
      "metadata": {
        "colab": {
          "base_uri": "https://localhost:8080/"
        },
        "id": "KujzqAVJB6UC",
        "outputId": "fb8207cd-ae37-4537-b9ed-09f8fbc53eca"
      },
      "source": [
        "cd /usr/local/"
      ],
      "execution_count": 36,
      "outputs": [
        {
          "output_type": "stream",
          "text": [
            "/usr/local\n"
          ],
          "name": "stdout"
        }
      ]
    },
    {
      "cell_type": "code",
      "metadata": {
        "id": "SS2wEpSedN3z"
      },
      "source": [
        "#image_viewer.SetApplication('/usr/local/Fiji.app/ImageJ-linux64')"
      ],
      "execution_count": 37,
      "outputs": []
    },
    {
      "cell_type": "code",
      "metadata": {
        "id": "CaJMiV5cdKIn"
      },
      "source": [
        "# Uncomment the line below to change the default external viewer to your viewer of choice and test that it works.\r\n",
        "#%env SITK_SHOW_COMMAND /Applications/ITK-SNAP.app/Contents/MacOS/ITK-SNAP \r\n",
        "#%env SITK_SHOW_COMMAND  /gdrive/MyDrive/Fiji.app/ImageJ-linux64\r\n",
        "#%env SITK_SHOW_COMMAND  /usr/local/Fiji.app/\r\n",
        "#%env SITK_SHOW_COMMAND  /usr/local/Fiji.app/ImageJ-linux64\r\n",
        "\r\n",
        "# Retrieve an image from the network, read it and display using the external viewer. \r\n",
        "# The show method will also set the display window's title and by setting debugOn to True, \r\n",
        "# will also print information with respect to the command it is attempting to invoke.\r\n",
        "# NOTE: The debug information is printed to the terminal from which you launched the notebook\r\n",
        "#       server."
      ],
      "execution_count": 38,
      "outputs": []
    },
    {
      "cell_type": "code",
      "metadata": {
        "colab": {
          "base_uri": "https://localhost:8080/"
        },
        "id": "SM1qty46eS1p",
        "outputId": "9026da8e-ce15-4169-b394-61a57b3d2420"
      },
      "source": [
        "%ls /gdrive/MyDrive/"
      ],
      "execution_count": 39,
      "outputs": [
        {
          "output_type": "stream",
          "text": [
            "\u001b[0m\u001b[01;34m'Colab Notebooks'\u001b[0m/                      \u001b[01;34mSimpleITK_ISBI2020_TUTORIAL\u001b[0m/\n",
            " \u001b[01;34mFiji.app\u001b[0m/                              SimpleITK.jpg\n",
            " fiji-linux64-20170530.zip              \u001b[01;34mSimpleITK-Notebooks\u001b[0m/\n",
            " \u001b[01;34mMyNiftyRec\u001b[0m/                            unnamed.png\n",
            " \u001b[01;34mMyTomoLab\u001b[0m/                            'Untitled project.gscript'\n",
            " pyjnius-1.2.0-py37h90b5fae_0.tar.bz2\n"
          ],
          "name": "stdout"
        }
      ]
    },
    {
      "cell_type": "code",
      "metadata": {
        "colab": {
          "base_uri": "https://localhost:8080/"
        },
        "id": "h1gzSmoPxmPQ",
        "outputId": "0eb843a1-cea8-4792-8abd-86e3c3536124"
      },
      "source": [
        "%cd /gdrive/MyDrive/SimpleITK_ISBI2020_TUTORIAL"
      ],
      "execution_count": 40,
      "outputs": [
        {
          "output_type": "stream",
          "text": [
            "/gdrive/MyDrive/SimpleITK_ISBI2020_TUTORIAL\n"
          ],
          "name": "stdout"
        }
      ]
    },
    {
      "cell_type": "code",
      "metadata": {
        "colab": {
          "base_uri": "https://localhost:8080/"
        },
        "id": "JntpnOgOFwep",
        "outputId": "5ed8ac61-b8dd-416d-fafa-fc4f4c40de57"
      },
      "source": [
        "print(image_viewer)"
      ],
      "execution_count": 41,
      "outputs": [
        {
          "output_type": "stream",
          "text": [
            "itk::simple::ImageViewer\n",
            "  Title: \n",
            "  Command: %a -eval 'open(\"%f\"); rename(\"%t\");'\n",
            "  Application: /usr/local/Fiji.app/ImageJ-linux64\n",
            "  Default Application: /usr/local/Fiji.app/ImageJ-linux64\n",
            "  File Extension: .mha\n",
            "  Default File Extension: .mha\n",
            "  Search Path: [ ./, /root/bin/, /opt/, /usr/local/ ]\n",
            "  Executable Names: [ Fiji.app/ImageJ-linux64, Fiji.app/ImageJ-linux32 ]\n",
            "  Debug Flag: 0\n",
            "\n"
          ],
          "name": "stdout"
        }
      ]
    },
    {
      "cell_type": "code",
      "metadata": {
        "id": "o9zBdnykCbus"
      },
      "source": [
        "#import SimpleITK as sitk\n",
        "\n",
        "#%matplotlib inline\n",
        "#import matplotlib.pyplot as plt\n",
        "#import numpy as np\n",
        "\n",
        "#from ipywidgets import interact, fixed\n",
        "#import os\n",
        "\n",
        "#OUTPUT_DIR = 'Output'\n",
        "\n",
        "# Utility method that either downloads data from the Girder repository or\n",
        "# if already downloaded returns the file name for reading from disk (cached data).\n",
        "#%run update_path_to_download_script\n",
        "#from downloaddata import fetch_data as fdata"
      ],
      "execution_count": 42,
      "outputs": []
    },
    {
      "cell_type": "markdown",
      "metadata": {
        "id": "UR1vuabny_mD"
      },
      "source": [
        "## Transformation Types\n",
        "\n",
        "SimpleITK supports the following transformation types.\n",
        "\n",
        "<table width=\"100%\">\n",
        "<tr><td><a href=\"http://www.itk.org/Doxygen/html/classitk_1_1TranslationTransform.html\">TranslationTransform</a></td><td>2D or 3D, translation</td></tr>\n",
        "  <tr><td><a href=\"http://www.itk.org/Doxygen/html/classitk_1_1VersorTransform.html\">VersorTransform</a></td><td>3D, rotation represented by a versor</td></tr>\n",
        "  <tr><td><a href=\"http://www.itk.org/Doxygen/html/classitk_1_1VersorRigid3DTransform.html\">VersorRigid3DTransform</a></td><td>3D, rigid transformation with rotation represented by a versor</td></tr>\n",
        "  <tr><td><a href=\"http://www.itk.org/Doxygen/html/classitk_1_1Euler2DTransform.html\">Euler2DTransform</a></td><td>2D, rigid transformation with rotation represented by a Euler angle</td></tr>\n",
        "  <tr><td><a href=\"http://www.itk.org/Doxygen/html/classitk_1_1Euler3DTransform.html\">Euler3DTransform</a></td><td>3D, rigid transformation with rotation represented by Euler angles</td></tr>\n",
        "  <tr><td><a href=\"http://www.itk.org/Doxygen/html/classitk_1_1Similarity2DTransform.html\">Similarity2DTransform</a></td><td>2D, composition of isotropic scaling and rigid transformation with rotation represented by a Euler angle</td></tr>\n",
        "  <tr><td><a href=\"http://www.itk.org/Doxygen/html/classitk_1_1Similarity3DTransform.html\">Similarity3DTransform</a></td><td>3D, composition of isotropic scaling and rigid transformation with rotation represented by a versor</td></tr>\n",
        "  <tr><td><a href=\"http://www.itk.org/Doxygen/html/classitk_1_1ScaleTransform.html\">ScaleTransform</a></td><td>2D or 3D, anisotropic scaling</td></tr>\n",
        "  <tr><td><a href=\"http://www.itk.org/Doxygen/html/classitk_1_1ScaleVersor3DTransform.html\">ScaleVersor3DTransform</a></td><td>3D, rigid transformation and anisotropic scale is <bf>added</bf> to the rotation matrix part (not composed as one would expect)</td></tr>\n",
        "  <tr><td><a href=\"http://www.itk.org/Doxygen/html/classitk_1_1ScaleSkewVersor3DTransform.html\">ScaleSkewVersor3DTransform</a></td><td>3D, rigid transformation with anisotropic scale and skew matrices <bf>added</bf> to the rotation matrix part (not composed as one would expect)</td></tr>\n",
        "  <tr><td><a href=\"http://www.itk.org/Doxygen/html/classitk_1_1AffineTransform.html\">AffineTransform</a></td><td>2D or 3D, affine transformation.</td></tr>\n",
        "  <tr><td><a href=\"http://www.itk.org/Doxygen/html/classitk_1_1BSplineTransform.html\">BSplineTransform</a></td><td>2D or 3D, deformable transformation represented by a sparse regular grid of control points. </td></tr>\n",
        "  <tr><td><a href=\"http://www.itk.org/Doxygen/html/classitk_1_1DisplacementFieldTransform.html\">DisplacementFieldTransform</a></td><td>2D or 3D, deformable transformation represented as a dense regular grid of vectors.</td></tr>\n",
        "  <tr><td><a href=\"http://www.itk.org/SimpleITKDoxygen/html/classitk_1_1simple_1_1Transform.html\">Transform</a></td>\n",
        "  <td>A generic transformation. Can represent any of the SimpleITK transformations, and a <b>composite transformation</b> (stack of transformations concatenated via composition, last added, first applied). </td></tr>\n",
        "  </table>"
      ]
    },
    {
      "cell_type": "code",
      "metadata": {
        "id": "je51s2Pmy_mD"
      },
      "source": [
        "import SimpleITK as sitk\n",
        "import utilities as util\n",
        "\n",
        "import numpy as np\n",
        "%matplotlib inline \n",
        "import matplotlib.pyplot as plt\n",
        "from ipywidgets import interact, fixed\n",
        "\n",
        "OUTPUT_DIR = \"output\""
      ],
      "execution_count": 43,
      "outputs": []
    },
    {
      "cell_type": "markdown",
      "metadata": {
        "id": "cgqJzi_py_mE"
      },
      "source": [
        "We will introduce the transformation types, starting with translation and illustrating how to move from a lower to higher parameter space (e.g. translation to rigid).  \n",
        "\n",
        "We start with the global transformations. All of them <b>except translation</b> are of the form:\n",
        "$$T(\\mathbf{x}) = A(\\mathbf{x}-\\mathbf{c}) + \\mathbf{t} + \\mathbf{c}$$\n",
        "\n",
        "In ITK speak (when printing your transformation):\n",
        "<ul>\n",
        "<li>Matrix: the matrix $A$</li>\n",
        "<li>Center: the point $\\mathbf{c}$</li>\n",
        "<li>Translation: the vector $\\mathbf{t}$</li>\n",
        "<li>Offset: $\\mathbf{t} + \\mathbf{c} - A\\mathbf{c}$</li>\n",
        "</ul>"
      ]
    },
    {
      "cell_type": "markdown",
      "metadata": {
        "id": "UMJ0Drovy_mE"
      },
      "source": [
        "## TranslationTransform\n",
        "\n",
        "Create a translation and then transform a point and use the inverse transformation to get the original back."
      ]
    },
    {
      "cell_type": "code",
      "metadata": {
        "id": "QoSrR6twy_mF",
        "colab": {
          "base_uri": "https://localhost:8080/"
        },
        "outputId": "e90e6d48-c78b-4f6d-af04-19156d662e54"
      },
      "source": [
        "dimension = 2        \n",
        "offset = [2]*dimension # use a Python trick to create the offset list based on the dimension\n",
        "translation = sitk.TranslationTransform(dimension, offset)\n",
        "print(translation)"
      ],
      "execution_count": 44,
      "outputs": [
        {
          "output_type": "stream",
          "text": [
            "itk::simple::TranslationTransform\n",
            " TranslationTransform (0x556eaf154d00)\n",
            "   RTTI typeinfo:   itk::TranslationTransform<double, 2u>\n",
            "   Reference Count: 1\n",
            "   Modified Time: 660\n",
            "   Debug: Off\n",
            "   Object Name: \n",
            "   Observers: \n",
            "     none\n",
            "   Offset: [2, 2]\n",
            "\n"
          ],
          "name": "stdout"
        }
      ]
    },
    {
      "cell_type": "code",
      "metadata": {
        "id": "jFAnVh5qy_mF",
        "colab": {
          "base_uri": "https://localhost:8080/"
        },
        "outputId": "4e693404-7840-4300-df28-b8314f28eff7"
      },
      "source": [
        "point = [10, 11] if dimension==2 else [10, 11, 12] # set point to match dimension\n",
        "transformed_point = translation.TransformPoint(point)\n",
        "translation_inverse = translation.GetInverse()\n",
        "print('original point: ' + util.point2str(point) + '\\n'\n",
        "      'transformed point: ' + util.point2str(transformed_point) + '\\n'\n",
        "      'back to original: ' + util.point2str(translation_inverse.TransformPoint(transformed_point)))"
      ],
      "execution_count": 45,
      "outputs": [
        {
          "output_type": "stream",
          "text": [
            "original point: 10.0 11.0\n",
            "transformed point: 12.0 13.0\n",
            "back to original: 10.0 11.0\n"
          ],
          "name": "stdout"
        }
      ]
    },
    {
      "cell_type": "markdown",
      "metadata": {
        "id": "aVgw38wTy_mF"
      },
      "source": [
        "## Euler2DTransform\n",
        "\n",
        "Rigidly transform a 2D point using a Euler angle parameter specification.\n",
        "\n",
        "Notice that the dimensionality of the Euler angle based rigid transformation is associated with the class, unlike the translation which is set at construction.\n"
      ]
    },
    {
      "cell_type": "code",
      "metadata": {
        "id": "6bJ2Liizy_mG",
        "colab": {
          "base_uri": "https://localhost:8080/"
        },
        "outputId": "043560e6-5336-4b9f-80b7-f876ea5be33b"
      },
      "source": [
        "point = [10, 11]\n",
        "rotation2D = sitk.Euler2DTransform()\n",
        "rotation2D.SetTranslation((7.2, 8.4))\n",
        "rotation2D.SetAngle(np.pi/2)\n",
        "print('original point: ' + util.point2str(point) + '\\n'\n",
        "      'transformed point: ' + util.point2str(rotation2D.TransformPoint(point)))"
      ],
      "execution_count": 46,
      "outputs": [
        {
          "output_type": "stream",
          "text": [
            "original point: 10.0 11.0\n",
            "transformed point: -3.8 18.4\n"
          ],
          "name": "stdout"
        }
      ]
    },
    {
      "cell_type": "markdown",
      "metadata": {
        "id": "FDqutYYCy_mG"
      },
      "source": [
        "## VersorTransform (rotation in 3D)\n",
        "\n",
        "Rotation using a versor, vector part of unit quaternion, parameterization. Quaternion defined by rotation of $\\theta$ radians around axis $n$, is $q = [n*\\sin(\\frac{\\theta}{2}), \\cos(\\frac{\\theta}{2})]$."
      ]
    },
    {
      "cell_type": "code",
      "metadata": {
        "id": "lE_p4inBy_mG",
        "colab": {
          "base_uri": "https://localhost:8080/"
        },
        "outputId": "8d38af86-c0de-426f-8ac1-1b640acaad81"
      },
      "source": [
        "# Use a versor:\n",
        "rotation1 = sitk.VersorTransform([0,0,1,0])\n",
        "\n",
        "# Use axis-angle:\n",
        "rotation2 = sitk.VersorTransform((0,0,1), np.pi)\n",
        "\n",
        "# Use a matrix:\n",
        "rotation3 = sitk.VersorTransform()\n",
        "rotation3.SetMatrix([-1, 0, 0, 0, -1, 0, 0, 0, 1]);\n",
        "\n",
        "point = (10, 100, 1000)\n",
        "\n",
        "p1 = rotation1.TransformPoint(point)\n",
        "p2 = rotation2.TransformPoint(point)\n",
        "p3 = rotation3.TransformPoint(point)\n",
        "\n",
        "print('Points after transformation:\\np1=' + str(p1) + \n",
        "      '\\np2='+ str(p2) + '\\np3='+ str(p3))"
      ],
      "execution_count": 47,
      "outputs": [
        {
          "output_type": "stream",
          "text": [
            "Points after transformation:\n",
            "p1=(-10.0, -100.0, 1000.0)\n",
            "p2=(-10.000000000000012, -100.0, 1000.0)\n",
            "p3=(-10.0, -100.0, 1000.0)\n"
          ],
          "name": "stdout"
        }
      ]
    },
    {
      "cell_type": "markdown",
      "metadata": {
        "id": "P3CW-nd1y_mG"
      },
      "source": [
        "## Translation to Rigid [3D]\n",
        "\n",
        "We only need to copy the translational component."
      ]
    },
    {
      "cell_type": "code",
      "metadata": {
        "id": "qSz-OCZ0y_mH",
        "colab": {
          "base_uri": "https://localhost:8080/"
        },
        "outputId": "255ca090-932c-488a-9d82-464abbf43197"
      },
      "source": [
        "dimension = 3        \n",
        "t =(1,2,3) \n",
        "translation = sitk.TranslationTransform(dimension, t)\n",
        "\n",
        "# Copy the translational component.\n",
        "rigid_euler = sitk.Euler3DTransform()\n",
        "rigid_euler.SetTranslation(translation.GetOffset())\n",
        "\n",
        "# Apply the transformations to the same set of random points and compare the results.\n",
        "util.print_transformation_differences(translation, rigid_euler)"
      ],
      "execution_count": 48,
      "outputs": [
        {
          "output_type": "stream",
          "text": [
            "Differences - min: 0.00, max: 0.00, mean: 0.00, std: 0.00\n"
          ],
          "name": "stdout"
        }
      ]
    },
    {
      "cell_type": "markdown",
      "metadata": {
        "id": "beeMyrTFy_mH"
      },
      "source": [
        "## Rotation to Rigid [3D]\n",
        "Copy the matrix or versor and <b>center of rotation</b>."
      ]
    },
    {
      "cell_type": "code",
      "metadata": {
        "id": "AKzaIpiUy_mH",
        "colab": {
          "base_uri": "https://localhost:8080/"
        },
        "outputId": "c9e4d32f-c821-4c88-8a07-03575cc2fa21"
      },
      "source": [
        "rotation_center = (10, 10, 10)\n",
        "rotation = sitk.VersorTransform([0,0,1,0], rotation_center)\n",
        "\n",
        "rigid_versor = sitk.VersorRigid3DTransform()\n",
        "rigid_versor.SetRotation(rotation.GetVersor())\n",
        "#rigid_versor.SetCenter(rotation.GetCenter()) #intentional error, not copying center of rotation\n",
        "\n",
        "# Apply the transformations to the same set of random points and compare the results.\n",
        "util.print_transformation_differences(rotation, rigid_versor)"
      ],
      "execution_count": 49,
      "outputs": [
        {
          "output_type": "stream",
          "text": [
            "Differences - min: 28.28, max: 28.28, mean: 28.28, std: 0.00\n"
          ],
          "name": "stdout"
        }
      ]
    },
    {
      "cell_type": "markdown",
      "metadata": {
        "id": "BVXa_r5Cy_mH"
      },
      "source": [
        "In the cell above, when we don't copy the center of rotation we have a constant error vector, $\\mathbf{c}$ - A$\\mathbf{c}$."
      ]
    },
    {
      "cell_type": "markdown",
      "metadata": {
        "id": "oh72g7p-y_mI"
      },
      "source": [
        "## Similarity [2D]\n",
        "\n",
        "When the center of the similarity transformation is not at the origin the effect of the transformation is not what most of us expect. This is readily visible if we limit the transformation to scaling: $T(\\mathbf{x}) = s\\mathbf{x}-s\\mathbf{c} + \\mathbf{c}$. Changing the transformation's center results in scale + translation."
      ]
    },
    {
      "cell_type": "code",
      "metadata": {
        "id": "EFDqc2jdy_mI",
        "colab": {
          "base_uri": "https://localhost:8080/",
          "height": 365,
          "referenced_widgets": [
            "5f5a6b9962c34921974aefa31c5c7564",
            "a1b6e92f4ae946359a57bcfbc222be5b",
            "7e720b0b720e405e821906b424ee124a",
            "cff4de6aece143469f1fda10b1fab3af",
            "294a2d522b0f4e409e50c5882613484d",
            "f09b491df8424ef980540597418ba4c2",
            "de2053910e084d3c859aff70b852f24b",
            "4041eff8620c49be85ae40f2a30a32d6",
            "6ee66ed5a634443bb975416efe39c931",
            "af3557e965684df699ba4aa6c519355d"
          ]
        },
        "outputId": "1f793b15-8e96-4db4-8af6-4171369a602d"
      },
      "source": [
        "def display_center_effect(x, y, tx, point_list, xlim, ylim):\n",
        "    tx.SetCenter((x,y))\n",
        "    transformed_point_list = [ tx.TransformPoint(p) for p in point_list]\n",
        "\n",
        "    plt.scatter(list(np.array(transformed_point_list).T)[0],\n",
        "                list(np.array(transformed_point_list).T)[1],\n",
        "                marker='^', \n",
        "                color='red', label='transformed points')\n",
        "    plt.scatter(list(np.array(point_list).T)[0],\n",
        "                list(np.array(point_list).T)[1],\n",
        "                marker='o', \n",
        "                color='blue', label='original points')\n",
        "    plt.xlim(xlim)\n",
        "    plt.ylim(ylim)\n",
        "    plt.legend(loc=(0.25,1.01))\n",
        "\n",
        "# 2D square centered on (0,0)\n",
        "points = [np.array((-1.0,-1.0)), np.array((-1.0,1.0)), np.array((1.0,1.0)), np.array((1.0,-1.0))]\n",
        "\n",
        "# Scale by 2 \n",
        "similarity = sitk.Similarity2DTransform();\n",
        "similarity.SetScale(2)\n",
        "\n",
        "interact(display_center_effect, x=(-10,10), y=(-10,10),tx = fixed(similarity), point_list = fixed(points), \n",
        "         xlim = fixed((-10,10)),ylim = fixed((-10,10)));"
      ],
      "execution_count": 50,
      "outputs": [
        {
          "output_type": "display_data",
          "data": {
            "application/vnd.jupyter.widget-view+json": {
              "model_id": "5f5a6b9962c34921974aefa31c5c7564",
              "version_minor": 0,
              "version_major": 2
            },
            "text/plain": [
              "interactive(children=(IntSlider(value=0, description='x', max=10, min=-10), IntSlider(value=0, description='y'…"
            ]
          },
          "metadata": {
            "tags": []
          }
        }
      ]
    },
    {
      "cell_type": "markdown",
      "metadata": {
        "id": "d-9oycd2y_mI"
      },
      "source": [
        "## Rigid to Similarity [3D]\n",
        "Copy the translation, center, and matrix or versor."
      ]
    },
    {
      "cell_type": "code",
      "metadata": {
        "id": "B1flK3Xgy_mJ",
        "colab": {
          "base_uri": "https://localhost:8080/"
        },
        "outputId": "fa6d370d-3cf6-4710-b3ef-3cabd48c497a"
      },
      "source": [
        "rotation_center = (100, 100, 100)\n",
        "theta_x = 0.0\n",
        "theta_y = 0.0\n",
        "theta_z = np.pi/2.0\n",
        "translation = (1,2,3)\n",
        "\n",
        "rigid_euler = sitk.Euler3DTransform(rotation_center, theta_x, theta_y, theta_z, translation)\n",
        "\n",
        "similarity = sitk.Similarity3DTransform()\n",
        "similarity.SetMatrix(rigid_euler.GetMatrix())\n",
        "similarity.SetTranslation(rigid_euler.GetTranslation())\n",
        "similarity.SetCenter(rigid_euler.GetCenter())\n",
        "\n",
        "# Apply the transformations to the same set of random points and compare the results.\n",
        "util.print_transformation_differences(rigid_euler, similarity)"
      ],
      "execution_count": 51,
      "outputs": [
        {
          "output_type": "stream",
          "text": [
            "Differences - min: 0.00, max: 0.00, mean: 0.00, std: 0.00\n"
          ],
          "name": "stdout"
        }
      ]
    },
    {
      "cell_type": "markdown",
      "metadata": {
        "id": "HuLLnDU5y_mJ"
      },
      "source": [
        "## Similarity to Affine [3D]\n",
        "Copy the translation, center and matrix."
      ]
    },
    {
      "cell_type": "code",
      "metadata": {
        "id": "tIaKqFvYy_mJ",
        "colab": {
          "base_uri": "https://localhost:8080/"
        },
        "outputId": "55247b5b-8249-4e66-f87c-5d2689628764"
      },
      "source": [
        "rotation_center = (100, 100, 100)\n",
        "axis = (0,0,1)\n",
        "angle = np.pi/2.0\n",
        "translation = (1,2,3)\n",
        "scale_factor = 2.0\n",
        "similarity = sitk.Similarity3DTransform(scale_factor, axis, angle, translation, rotation_center)\n",
        "\n",
        "affine = sitk.AffineTransform(3)\n",
        "affine.SetMatrix(similarity.GetMatrix())\n",
        "affine.SetTranslation(similarity.GetTranslation())\n",
        "affine.SetCenter(similarity.GetCenter())\n",
        "\n",
        "# Apply the transformations to the same set of random points and compare the results.\n",
        "util.print_transformation_differences(similarity, affine)"
      ],
      "execution_count": 52,
      "outputs": [
        {
          "output_type": "stream",
          "text": [
            "Differences - min: 0.00, max: 0.00, mean: 0.00, std: 0.00\n"
          ],
          "name": "stdout"
        }
      ]
    },
    {
      "cell_type": "markdown",
      "metadata": {
        "id": "CrQBQU8Cy_mK"
      },
      "source": [
        "## Scale Transform\n",
        "\n",
        "Just as the case was for the similarity transformation above, when the transformations center is not at the origin, instead of a pure anisotropic scaling we also have translation ($T(\\mathbf{x}) = \\mathbf{s}^T\\mathbf{x}-\\mathbf{s}^T\\mathbf{c} + \\mathbf{c}$)."
      ]
    },
    {
      "cell_type": "code",
      "metadata": {
        "id": "84ZyK-NVy_mK",
        "colab": {
          "base_uri": "https://localhost:8080/",
          "height": 365,
          "referenced_widgets": [
            "84a4b907bbe84a03a41fdd0584963e59",
            "ecc411095dfd4db4a687661484a55852",
            "0d83985646334bb0964167c032f8cc35",
            "7d9a509c4f0c4709bbbca2af9f9da979",
            "df1ed82a05f546598362969064dafcb6",
            "2ed5b2dd97da411bac6b8f37c7357148",
            "650063cc98df4404ae5fb451d3571a37",
            "ade769fa60ba4610abc83bdd161829ba",
            "3fa76a80ccc34eb8ae3c798c8f4ac834",
            "90c429da6c3f4961b91aa3bcb34c3d5d"
          ]
        },
        "outputId": "9971edee-e7a0-4dc8-9b02-11189f91d552"
      },
      "source": [
        "# 2D square centered on (0,0).\n",
        "points = [np.array((-1.0,-1.0)), np.array((-1.0,1.0)), np.array((1.0,1.0)), np.array((1.0,-1.0))]\n",
        "\n",
        "# Scale by half in x and 2 in y.\n",
        "scale = sitk.ScaleTransform(2, (0.5,2));\n",
        "\n",
        "# Interactively change the location of the center.\n",
        "interact(display_center_effect, x=(-10,10), y=(-10,10),tx = fixed(scale), point_list = fixed(points), \n",
        "         xlim = fixed((-10,10)),ylim = fixed((-10,10)));"
      ],
      "execution_count": 53,
      "outputs": [
        {
          "output_type": "display_data",
          "data": {
            "application/vnd.jupyter.widget-view+json": {
              "model_id": "84a4b907bbe84a03a41fdd0584963e59",
              "version_minor": 0,
              "version_major": 2
            },
            "text/plain": [
              "interactive(children=(IntSlider(value=0, description='x', max=10, min=-10), IntSlider(value=0, description='y'…"
            ]
          },
          "metadata": {
            "tags": []
          }
        }
      ]
    },
    {
      "cell_type": "markdown",
      "metadata": {
        "id": "WX-oGVPgy_mK"
      },
      "source": [
        "## Unintentional Misnomers (originally from ITK)\n",
        "\n",
        "Two transformation types whose names may mislead you are ScaleVersor and ScaleSkewVersor. Basing your choices on expectations without reading the documentation will surprise you.\n",
        "\n",
        "ScaleVersor -  based on name expected a composition of transformations, in practice it is:\n",
        "$$T(x) = (R+S)(\\mathbf{x}-\\mathbf{c}) + \\mathbf{t} + \\mathbf{c},\\;\\; \\textrm{where } S= \\left[\\begin{array}{ccc} s_0-1 & 0 & 0 \\\\ 0 & s_1-1 & 0 \\\\ 0 & 0 & s_2-1 \\end{array}\\right]$$ \n",
        "\n",
        "ScaleSkewVersor - based on name expected a composition of transformations, in practice it is:\n",
        "$$T(x) = (R+S+K)(\\mathbf{x}-\\mathbf{c}) + \\mathbf{t} + \\mathbf{c},\\;\\; \\textrm{where } S = \\left[\\begin{array}{ccc} s_0-1 & 0 & 0 \\\\ 0 & s_1-1 & 0 \\\\ 0 & 0 & s_2-1 \\end{array}\\right]\\;\\; \\textrm{and } K = \\left[\\begin{array}{ccc} 0 & k_0 & k_1 \\\\ k_2 & 0 & k_3 \\\\ k_4 & k_5 & 0 \\end{array}\\right]$$ \n",
        "\n",
        "Note that ScaleSkewVersor is is an over-parametrized version of the affine transform, 15 parameters (scale, skew, versor, translation) vs. 12 parameters (matrix, translation)."
      ]
    },
    {
      "cell_type": "markdown",
      "metadata": {
        "id": "IG4_LnABy_mK"
      },
      "source": [
        "## Bounded Transformations\n",
        "\n",
        "SimpleITK supports two types of bounded non-rigid transformations, BSplineTransform (sparse representation) and \tDisplacementFieldTransform (dense representation).\n",
        "\n",
        "Transforming a point that is outside the bounds will return the original point - identity transform."
      ]
    },
    {
      "cell_type": "markdown",
      "metadata": {
        "id": "I9CW5mGTy_mL"
      },
      "source": [
        "## BSpline\n",
        "Using a sparse set of control points to control a free form deformation. Note that the order of parameters to the transformation is $[x_0\\ldots x_N,y_0\\ldots y_N, z_0\\ldots z_N]$ for $N$ control points.\n",
        "\n",
        "\n",
        "To configure this transformation type we need to specify its bounded domain and the parameters for the control points, the incremental shifts from original grid positions. This can either be done explicitly by specifying the set of parameters defining the domain and control point parameters one by one or by using a set of images that encode all of this information in a more compact manner.\n",
        "\n",
        "The next two code cells illustrate these two options."
      ]
    },
    {
      "cell_type": "code",
      "metadata": {
        "id": "UCbbLm6ry_mL",
        "colab": {
          "base_uri": "https://localhost:8080/",
          "height": 332,
          "referenced_widgets": [
            "d81239b9465842b3bc37cc4574dfdfaa",
            "8fee393f80ca4baca011e4aa8d843fd1",
            "83e879cbd5494c1daaf773f6fd3b4be0",
            "d920c452378a4d22bae6d8834392392e",
            "ee34e0cf3dd84423a25c13779f5252be",
            "e8b74155e1914ca9a3f1b05e032dbcdd",
            "8567b3766e974953be83657ceca22309"
          ]
        },
        "outputId": "93920fb6-48d8-45a0-dd94-2e01c48a2659"
      },
      "source": [
        "# Create the transformation (when working with images it is easier to use the BSplineTransformInitializer function\n",
        "# or its object oriented counterpart BSplineTransformInitializerFilter).\n",
        "dimension = 2\n",
        "spline_order = 3\n",
        "direction_matrix_row_major = [1.0,0.0,0.0,1.0] # identity, mesh is axis aligned\n",
        "origin = [-1.0,-1.0]  \n",
        "domain_physical_dimensions = [2,2]\n",
        "mesh_size = [4,3]\n",
        "\n",
        "bspline = sitk.BSplineTransform(dimension, spline_order)\n",
        "bspline.SetTransformDomainOrigin(origin)\n",
        "bspline.SetTransformDomainDirection(direction_matrix_row_major)\n",
        "bspline.SetTransformDomainPhysicalDimensions(domain_physical_dimensions)\n",
        "bspline.SetTransformDomainMeshSize(mesh_size)\n",
        "\n",
        "# Random displacement of the control points, specifying the x and y\n",
        "# displacements separately allows us to play with these parameters,\n",
        "# just multiply one of them with zero to see the effect.\n",
        "x_displacement = np.random.random(len(bspline.GetParameters())//2)\n",
        "y_displacement = np.random.random(len(bspline.GetParameters())//2)\n",
        "original_control_point_displacements = np.concatenate([x_displacement, y_displacement])\n",
        "bspline.SetParameters(original_control_point_displacements)\n",
        "\n",
        "# Apply the BSpline transformation to a grid of points \n",
        "# starting the point set exactly at the origin of the BSpline mesh is problematic as\n",
        "# these points are considered outside the transformation's domain,\n",
        "# remove epsilon below and see what happens.\n",
        "numSamplesX = 10\n",
        "numSamplesY = 20\n",
        "                   \n",
        "coordsX = np.linspace(origin[0]+np.finfo(float).eps, origin[0] + domain_physical_dimensions[0], numSamplesX)\n",
        "coordsY = np.linspace(origin[1]+np.finfo(float).eps, origin[1] + domain_physical_dimensions[1], numSamplesY)\n",
        "XX, YY = np.meshgrid(coordsX, coordsY)\n",
        "\n",
        "interact(util.display_displacement_scaling_effect, s= (-1.5,1.5), original_x_mat = fixed(XX), original_y_mat = fixed(YY),\n",
        "         tx = fixed(bspline), original_control_point_displacements = fixed(original_control_point_displacements));            "
      ],
      "execution_count": 54,
      "outputs": [
        {
          "output_type": "display_data",
          "data": {
            "application/vnd.jupyter.widget-view+json": {
              "model_id": "d81239b9465842b3bc37cc4574dfdfaa",
              "version_minor": 0,
              "version_major": 2
            },
            "text/plain": [
              "interactive(children=(FloatSlider(value=0.0, description='s', max=1.5, min=-1.5), Output()), _dom_classes=('wi…"
            ]
          },
          "metadata": {
            "tags": []
          }
        }
      ]
    },
    {
      "cell_type": "markdown",
      "metadata": {
        "id": "B4NrwK1Ry_mL"
      },
      "source": [
        "We next define the same BSpline transformation using a set of coefficient images. Note that to compare the parameter values for the two transformations we need to scale the values in the new transformation using the scale value used in the GUI above."
      ]
    },
    {
      "cell_type": "code",
      "metadata": {
        "simpleitk_error_expected": "invalid syntax",
        "id": "o8DKFnYJy_mL",
        "colab": {
          "base_uri": "https://localhost:8080/",
          "height": 132
        },
        "outputId": "451a5702-f115-4354-9c74-5cd854a1aba0"
      },
      "source": [
        "control_point_number = [sz+spline_order for sz in mesh_size]\n",
        "num_parameters_per_axis = np.prod(control_point_number)\n",
        "\n",
        "coefficient_images = []\n",
        "for i in range(dimension):\n",
        "    coefficient_image = sitk.GetImageFromArray((original_control_point_displacements[i*num_parameters_per_axis:(i+1)*num_parameters_per_axis]).reshape(control_point_number))\n",
        "    coefficient_image.SetOrigin(origin)\n",
        "    coefficient_image.SetSpacing([sz/(cp-1) for cp,sz in zip(control_point_number, domain_physical_dimensions)])\n",
        "    coefficient_image.SetDirection(direction_matrix_row_major)\n",
        "    coefficient_images.append(coefficient_image)\n",
        "\n",
        "bspline2 = sitk.BSplineTransform(coefficient_images, spline_order)\n",
        "\n",
        "# Show that the two transformations have the same set of values in the control point parameter space:\n",
        "# Set the scale value based on the slider value in the GUI above.\n",
        "scale_factor_from_gui = \n",
        "print(np.array(bspline.GetParameters()) - np.array(bspline2.GetParameters())*scale_factor_from_gui)"
      ],
      "execution_count": 55,
      "outputs": [
        {
          "output_type": "error",
          "ename": "SyntaxError",
          "evalue": "ignored",
          "traceback": [
            "\u001b[0;36m  File \u001b[0;32m\"<ipython-input-55-db7ecf633152>\"\u001b[0;36m, line \u001b[0;32m16\u001b[0m\n\u001b[0;31m    scale_factor_from_gui =\u001b[0m\n\u001b[0m                            ^\u001b[0m\n\u001b[0;31mSyntaxError\u001b[0m\u001b[0;31m:\u001b[0m invalid syntax\n"
          ]
        }
      ]
    },
    {
      "cell_type": "markdown",
      "metadata": {
        "id": "UeIN3wnsy_mL"
      },
      "source": [
        "## DisplacementField\n",
        "\n",
        "A dense set of vectors representing the displacement inside the given domain. The most generic representation of a transformation."
      ]
    },
    {
      "cell_type": "code",
      "metadata": {
        "id": "NHpXJZBgy_mL"
      },
      "source": [
        "# Create the displacement field. \n",
        "    \n",
        "# When working with images the safer thing to do is use the image based constructor,\n",
        "# sitk.DisplacementFieldTransform(my_image), all the fixed parameters will be set correctly and the displacement\n",
        "# field is initialized using the vectors stored in the image. SimpleITK requires that the image's pixel type be \n",
        "# sitk.sitkVectorFloat64.\n",
        "displacement = sitk.DisplacementFieldTransform(2)\n",
        "field_size = [10,20]\n",
        "field_origin = [-1.0,-1.0]  \n",
        "field_spacing = [2.0/9.0,2.0/19.0]   \n",
        "field_direction = [1,0,0,1] # direction cosine matrix (row major order)     \n",
        "\n",
        "# Concatenate all the information into a single list\n",
        "displacement.SetFixedParameters(field_size+field_origin+field_spacing+field_direction)\n",
        "# Set the interpolator, either sitkLinear which is default or nearest neighbor\n",
        "displacement.SetInterpolator(sitk.sitkNearestNeighbor)\n",
        "\n",
        "originalDisplacements = np.random.random(len(displacement.GetParameters()))\n",
        "displacement.SetParameters(originalDisplacements)\n",
        "\n",
        "coordsX = np.linspace(field_origin[0], field_origin[0]+(field_size[0]-1)*field_spacing[0], field_size[0])\n",
        "coordsY = np.linspace(field_origin[1], field_origin[1]+(field_size[1]-1)*field_spacing[1], field_size[1])\n",
        "XX, YY = np.meshgrid(coordsX, coordsY)\n",
        "\n",
        "interact(util.display_displacement_scaling_effect, s= (-1.5,1.5), original_x_mat = fixed(XX), original_y_mat = fixed(YY),\n",
        "         tx = fixed(displacement), original_control_point_displacements = fixed(originalDisplacements));            "
      ],
      "execution_count": null,
      "outputs": []
    },
    {
      "cell_type": "markdown",
      "metadata": {
        "id": "ws3H2GYmy_mM"
      },
      "source": [
        "## Inverting bounded transforms\n",
        "\n",
        "In SimpleITK we cannot directly invert a BSpline transform. Luckily there are several ways to invert a displacement field transform, and **all** transformations can be readily converted to a displacement field. Note though that representing a transformation as a deformation field is an approximation of the original transformation where representation consistency depends on the smoothness of the original transformation and the sampling rate (spacing) of the deformation field.\n",
        "\n",
        "The relevant classes are listed below.\n",
        "* [TransformToDisplacementFieldFilter](https://itk.org/SimpleITKDoxygen/html/classitk_1_1simple_1_1TransformToDisplacementFieldFilter.html)\n",
        "\n",
        "Options for inverting displacement field:\n",
        "* [InvertDisplacementFieldImageFilter](https://itk.org/SimpleITKDoxygen/html/classitk_1_1simple_1_1InvertDisplacementFieldImageFilter.html)\n",
        "* [InverseDisplacementFieldImageFilter](https://itk.org/SimpleITKDoxygen/html/classitk_1_1simple_1_1InverseDisplacementFieldImageFilter.html)\n",
        "* [IterativeInverseDisplacementFieldImageFilter](https://itk.org/SimpleITKDoxygen/html/classitk_1_1simple_1_1IterativeInverseDisplacementFieldImageFilter.html)\n",
        "\n",
        "In the next cell we invert the BSpline transform we worked with above."
      ]
    },
    {
      "cell_type": "code",
      "metadata": {
        "id": "8s5IsGmKy_mM"
      },
      "source": [
        "# Convert the BSpline transform to a displacement field\n",
        "physical_size = bspline.GetTransformDomainPhysicalDimensions()\n",
        "# The deformation field spacing affects the accuracy of the transform approximation, \n",
        "# so we set it here to 0.1mm in all directions.\n",
        "output_spacing = [0.1]*bspline.GetDimension()\n",
        "output_size = [int(phys_sz/spc + 1) for phys_sz, spc in zip(physical_size, output_spacing)]\n",
        "displacement_field_transform = sitk.DisplacementFieldTransform(\n",
        "                                    sitk.TransformToDisplacementField(bspline, \n",
        "                                                                      outputPixelType=sitk.sitkVectorFloat64, \n",
        "                                                                      size=output_size, \n",
        "                                                                      outputOrigin=bspline.GetTransformDomainOrigin(), \n",
        "                                                                      outputSpacing=output_spacing, \n",
        "                                                                      outputDirection=bspline.GetTransformDomainDirection()))\n",
        "\n",
        "# Arbitrary point to evaluate the consistency of the two representations.\n",
        "# Change the value for the \"output_spacing\" above to evaluate its effect\n",
        "# on the transformation representation consistency.\n",
        "pnt = [0.4,-0.2]\n",
        "original_transformed = np.array(bspline.TransformPoint(pnt))\n",
        "secondary_transformed = np.array(displacement_field_transform.TransformPoint(pnt))\n",
        "print('Original transformation result: {0}'.format(original_transformed))\n",
        "print('Deformaiton field transformation result: {0}'.format(secondary_transformed))\n",
        "print('Difference between transformed points is: {0}'.format(np.linalg.norm(original_transformed - secondary_transformed)))\n",
        "\n",
        "# Invert a displacement field transform\n",
        "displacement_image = displacement_field_transform.GetDisplacementField()\n",
        "bspline_inverse_displacement = sitk.DisplacementFieldTransform(\n",
        "                                   sitk.InvertDisplacementField(displacement_image,\n",
        "                                                                maximumNumberOfIterations = 20,\n",
        "                                                                maxErrorToleranceThreshold = 0.01,\n",
        "                                                                meanErrorToleranceThreshold = 0.0001,\n",
        "                                                                enforceBoundaryCondition = True))                         \n",
        "\n",
        "\n",
        "# Transform the point using the original BSpline transformation and then back\n",
        "# via the displacement field inverse.\n",
        "there_and_back = np.array(bspline_inverse_displacement.TransformPoint(bspline.TransformPoint(pnt)))\n",
        "print('Original point: {0}'.format(pnt))\n",
        "print('There and back point: {0}'.format(there_and_back))\n",
        "print('Difference between original and there-and-back points: {0}'.format(np.linalg.norm(pnt - there_and_back)))"
      ],
      "execution_count": null,
      "outputs": []
    },
    {
      "cell_type": "markdown",
      "metadata": {
        "id": "fZWJr8BSy_mM"
      },
      "source": [
        "## Composite transform (Transform)\n",
        "\n",
        "The generic SimpleITK transform class. This class can represent both a single transformation (global, local), or a composite transformation (multiple transformations applied one after the other). This is the output typed returned by the SimpleITK registration framework. \n",
        "\n",
        "The choice of whether to use a composite transformation or compose transformations on your own has subtle differences in the registration framework.\n",
        "\n",
        "Composite transforms enable a combination of a global transformation with multiple local/bounded transformations. This is useful if we want to apply deformations only in regions that deform while other regions are only effected by the global transformation.\n",
        "\n",
        "The following code illustrates this, where the whole region is translated and subregions have different deformations."
      ]
    },
    {
      "cell_type": "code",
      "metadata": {
        "id": "mSky9rxNy_mM"
      },
      "source": [
        "# Global transformation.\n",
        "translation = sitk.TranslationTransform(2,(1.0,0.0))\n",
        "\n",
        "# Displacement in region 1.\n",
        "displacement1 = sitk.DisplacementFieldTransform(2)\n",
        "field_size = [10,20]\n",
        "field_origin = [-1.0,-1.0]  \n",
        "field_spacing = [2.0/9.0,2.0/19.0]   \n",
        "field_direction = [1,0,0,1] # direction cosine matrix (row major order)     \n",
        "\n",
        "# Concatenate all the information into  a single list.\n",
        "displacement1.SetFixedParameters(field_size+field_origin+field_spacing+field_direction)\n",
        "displacement1.SetParameters(np.ones(len(displacement1.GetParameters())))\n",
        "\n",
        "# Displacement in region 2.\n",
        "displacement2 = sitk.DisplacementFieldTransform(2)\n",
        "field_size = [10,20]\n",
        "field_origin = [1.0,-3]  \n",
        "field_spacing = [2.0/9.0,2.0/19.0]   \n",
        "field_direction = [1,0,0,1] #direction cosine matrix (row major order)     \n",
        "\n",
        "# Concatenate all the information into a single list.\n",
        "displacement2.SetFixedParameters(field_size+field_origin+field_spacing+field_direction)\n",
        "displacement2.SetParameters(-1.0*np.ones(len(displacement2.GetParameters())))\n",
        "\n",
        "# Composite transform which applies the global and local transformations.\n",
        "composite = sitk.Transform(translation)\n",
        "composite.AddTransform(displacement1)\n",
        "composite.AddTransform(displacement2)\n",
        "\n",
        "# Apply the composite transformation to points in ([-1,-3],[3,1]) and \n",
        "# display the deformation using a quiver plot.\n",
        "        \n",
        "# Generate points.\n",
        "numSamplesX = 10\n",
        "numSamplesY = 10                   \n",
        "coordsX = np.linspace(-1.0, 3.0, numSamplesX)\n",
        "coordsY = np.linspace(-3.0, 1.0, numSamplesY)\n",
        "XX, YY = np.meshgrid(coordsX, coordsY)\n",
        "\n",
        "# Transform points and compute deformation vectors.\n",
        "pointsX = np.zeros(XX.shape)\n",
        "pointsY = np.zeros(XX.shape)\n",
        "for index, value in np.ndenumerate(XX):\n",
        "    px,py = composite.TransformPoint((value, YY[index]))\n",
        "    pointsX[index]=px - value \n",
        "    pointsY[index]=py - YY[index]\n",
        "    \n",
        "plt.quiver(XX, YY, pointsX, pointsY);    "
      ],
      "execution_count": null,
      "outputs": []
    },
    {
      "cell_type": "markdown",
      "metadata": {
        "id": "ffxHyH9Uy_mM"
      },
      "source": [
        "## Writing and Reading\n",
        "\n",
        "The SimpleITK.ReadTransform() returns a SimpleITK.Transform . The content of the file can be any of the SimpleITK transformations or a composite (set of transformations). "
      ]
    },
    {
      "cell_type": "code",
      "metadata": {
        "id": "Iwf9ybw3y_mM"
      },
      "source": [
        "import os\n",
        "\n",
        "# Create a 2D rigid transformation, write it to disk and read it back.\n",
        "basic_transform = sitk.Euler2DTransform()\n",
        "basic_transform.SetTranslation((1.0,2.0))\n",
        "basic_transform.SetAngle(np.pi/2)\n",
        "\n",
        "full_file_name = os.path.join(OUTPUT_DIR, 'euler2D.tfm')\n",
        "\n",
        "sitk.WriteTransform(basic_transform, full_file_name)\n",
        "\n",
        "# The ReadTransform function returns an sitk.Transform no matter the type of the transform \n",
        "# found in the file (global, bounded, composite).\n",
        "read_result = sitk.ReadTransform(full_file_name)\n",
        "\n",
        "print('Different types: '+ str(type(read_result) != type(basic_transform)))\n",
        "util.print_transformation_differences(basic_transform, read_result)\n",
        "\n",
        "\n",
        "# Create a composite transform then write and read.\n",
        "displacement = sitk.DisplacementFieldTransform(2)\n",
        "field_size = [10,20]\n",
        "field_origin = [-10.0,-100.0]  \n",
        "field_spacing = [20.0/(field_size[0]-1),200.0/(field_size[1]-1)]   \n",
        "field_direction = [1,0,0,1] #direction cosine matrix (row major order)\n",
        "\n",
        "# Concatenate all the information into a single list.\n",
        "displacement.SetFixedParameters(field_size+field_origin+field_spacing+field_direction)\n",
        "displacement.SetParameters(np.random.random(len(displacement.GetParameters())))\n",
        "\n",
        "composite_transform = sitk.Transform(basic_transform)\n",
        "composite_transform.AddTransform(displacement)\n",
        "\n",
        "full_file_name = os.path.join(OUTPUT_DIR, 'composite.tfm')\n",
        "\n",
        "sitk.WriteTransform(composite_transform, full_file_name)\n",
        "read_result = sitk.ReadTransform(full_file_name)\n",
        "\n",
        "util.print_transformation_differences(composite_transform, read_result)    "
      ],
      "execution_count": null,
      "outputs": []
    },
    {
      "cell_type": "markdown",
      "metadata": {
        "id": "lXfTExgJy_mN"
      },
      "source": [
        "<a href=\"02_images_and_resampling.ipynb\"><h2 align=right>Next &raquo;</h2></a>"
      ]
    }
  ]
}